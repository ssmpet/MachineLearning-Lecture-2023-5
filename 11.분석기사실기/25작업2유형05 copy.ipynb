{
 "cells": [
  {
   "cell_type": "code",
   "execution_count": 1,
   "metadata": {},
   "outputs": [],
   "source": [
    "import pandas as pd\n",
    "\n",
    "# 데이터 설명 : 수질 음용성 여부 (Potablillity 컬럼 : 0 ,1 )\n",
    "x_train = pd.read_csv(\"https://raw.githubusercontent.com/Datamanim/datarepo/main/waters/x_train.csv\")\n",
    "y_train = pd.read_csv(\"https://raw.githubusercontent.com/Datamanim/datarepo/main/waters/y_train.csv\")\n",
    "x_test= pd.read_csv(\"https://raw.githubusercontent.com/Datamanim/datarepo/main/waters/x_test.csv\")\n"
   ]
  },
  {
   "cell_type": "code",
   "execution_count": 3,
   "metadata": {},
   "outputs": [
    {
     "data": {
      "text/html": [
       "<div>\n",
       "<style scoped>\n",
       "    .dataframe tbody tr th:only-of-type {\n",
       "        vertical-align: middle;\n",
       "    }\n",
       "\n",
       "    .dataframe tbody tr th {\n",
       "        vertical-align: top;\n",
       "    }\n",
       "\n",
       "    .dataframe thead th {\n",
       "        text-align: right;\n",
       "    }\n",
       "</style>\n",
       "<table border=\"1\" class=\"dataframe\">\n",
       "  <thead>\n",
       "    <tr style=\"text-align: right;\">\n",
       "      <th></th>\n",
       "      <th>ID</th>\n",
       "      <th>ph</th>\n",
       "      <th>Hardness</th>\n",
       "      <th>Solids</th>\n",
       "      <th>Chloramines</th>\n",
       "      <th>Sulfate</th>\n",
       "      <th>Conductivity</th>\n",
       "      <th>Organic_carbon</th>\n",
       "      <th>Trihalomethanes</th>\n",
       "      <th>Turbidity</th>\n",
       "    </tr>\n",
       "  </thead>\n",
       "  <tbody>\n",
       "    <tr>\n",
       "      <th>0</th>\n",
       "      <td>0</td>\n",
       "      <td>8.662710</td>\n",
       "      <td>173.531947</td>\n",
       "      <td>20333.079495</td>\n",
       "      <td>5.636388</td>\n",
       "      <td>439.787938</td>\n",
       "      <td>459.633120</td>\n",
       "      <td>16.283311</td>\n",
       "      <td>89.924253</td>\n",
       "      <td>5.120103</td>\n",
       "    </tr>\n",
       "    <tr>\n",
       "      <th>1</th>\n",
       "      <td>1</td>\n",
       "      <td>NaN</td>\n",
       "      <td>226.270824</td>\n",
       "      <td>15380.124079</td>\n",
       "      <td>6.661474</td>\n",
       "      <td>NaN</td>\n",
       "      <td>392.558205</td>\n",
       "      <td>14.083110</td>\n",
       "      <td>50.286395</td>\n",
       "      <td>4.516870</td>\n",
       "    </tr>\n",
       "    <tr>\n",
       "      <th>2</th>\n",
       "      <td>2</td>\n",
       "      <td>7.583770</td>\n",
       "      <td>217.283262</td>\n",
       "      <td>36343.407055</td>\n",
       "      <td>8.532726</td>\n",
       "      <td>375.964391</td>\n",
       "      <td>393.877683</td>\n",
       "      <td>17.442301</td>\n",
       "      <td>77.722257</td>\n",
       "      <td>3.642289</td>\n",
       "    </tr>\n",
       "    <tr>\n",
       "      <th>3</th>\n",
       "      <td>3</td>\n",
       "      <td>6.584813</td>\n",
       "      <td>182.375456</td>\n",
       "      <td>24723.106296</td>\n",
       "      <td>6.238920</td>\n",
       "      <td>NaN</td>\n",
       "      <td>414.350751</td>\n",
       "      <td>17.582615</td>\n",
       "      <td>78.213738</td>\n",
       "      <td>4.404132</td>\n",
       "    </tr>\n",
       "    <tr>\n",
       "      <th>4</th>\n",
       "      <td>4</td>\n",
       "      <td>7.179864</td>\n",
       "      <td>180.854211</td>\n",
       "      <td>10859.553752</td>\n",
       "      <td>8.263503</td>\n",
       "      <td>341.302486</td>\n",
       "      <td>358.056264</td>\n",
       "      <td>12.065317</td>\n",
       "      <td>83.329918</td>\n",
       "      <td>3.878447</td>\n",
       "    </tr>\n",
       "  </tbody>\n",
       "</table>\n",
       "</div>"
      ],
      "text/plain": [
       "   ID        ph    Hardness        Solids  Chloramines     Sulfate  \\\n",
       "0   0  8.662710  173.531947  20333.079495     5.636388  439.787938   \n",
       "1   1       NaN  226.270824  15380.124079     6.661474         NaN   \n",
       "2   2  7.583770  217.283262  36343.407055     8.532726  375.964391   \n",
       "3   3  6.584813  182.375456  24723.106296     6.238920         NaN   \n",
       "4   4  7.179864  180.854211  10859.553752     8.263503  341.302486   \n",
       "\n",
       "   Conductivity  Organic_carbon  Trihalomethanes  Turbidity  \n",
       "0    459.633120       16.283311        89.924253   5.120103  \n",
       "1    392.558205       14.083110        50.286395   4.516870  \n",
       "2    393.877683       17.442301        77.722257   3.642289  \n",
       "3    414.350751       17.582615        78.213738   4.404132  \n",
       "4    358.056264       12.065317        83.329918   3.878447  "
      ]
     },
     "execution_count": 3,
     "metadata": {},
     "output_type": "execute_result"
    }
   ],
   "source": [
    "x_train.head()"
   ]
  },
  {
   "cell_type": "code",
   "execution_count": 6,
   "metadata": {},
   "outputs": [
    {
     "data": {
      "text/plain": [
       "(ID                   0\n",
       " ph                 395\n",
       " Hardness             0\n",
       " Solids               0\n",
       " Chloramines          0\n",
       " Sulfate            617\n",
       " Conductivity         0\n",
       " Organic_carbon       0\n",
       " Trihalomethanes    132\n",
       " Turbidity            0\n",
       " dtype: int64,\n",
       " ID                   0\n",
       " ph                 107\n",
       " Hardness             0\n",
       " Solids               0\n",
       " Chloramines          0\n",
       " Sulfate            152\n",
       " Conductivity         0\n",
       " Organic_carbon       0\n",
       " Trihalomethanes     38\n",
       " Turbidity            0\n",
       " dtype: int64,\n",
       " ID            0\n",
       " Potability    0\n",
       " dtype: int64)"
      ]
     },
     "execution_count": 6,
     "metadata": {},
     "output_type": "execute_result"
    }
   ],
   "source": [
    "x_train.isna().sum(), x_test.isna().sum(), y_train.isna().sum()"
   ]
  },
  {
   "cell_type": "code",
   "execution_count": 21,
   "metadata": {},
   "outputs": [
    {
     "name": "stdout",
     "output_type": "stream",
     "text": [
      "7.059706555058315\n",
      "333.12845187182995\n",
      "66.36231333912495\n"
     ]
    },
    {
     "data": {
      "text/plain": [
       "(ID                 0\n",
       " ph                 0\n",
       " Hardness           0\n",
       " Solids             0\n",
       " Chloramines        0\n",
       " Sulfate            0\n",
       " Conductivity       0\n",
       " Organic_carbon     0\n",
       " Trihalomethanes    0\n",
       " Turbidity          0\n",
       " dtype: int64,\n",
       " ID                 0\n",
       " ph                 0\n",
       " Hardness           0\n",
       " Solids             0\n",
       " Chloramines        0\n",
       " Sulfate            0\n",
       " Conductivity       0\n",
       " Organic_carbon     0\n",
       " Trihalomethanes    0\n",
       " Turbidity          0\n",
       " dtype: int64)"
      ]
     },
     "execution_count": 21,
     "metadata": {},
     "output_type": "execute_result"
    }
   ],
   "source": [
    "for x, v in x_train.isna().sum().items():\n",
    "    if v != 0:\n",
    "        print(x_train[x].mean())\n",
    "        x_train[x].fillna(x_train[x].mean(), inplace=True)\n",
    "        x_test[x].fillna(x_test[x].mean(), inplace=True)\n",
    "\n",
    "x_train.isna().sum(), x_test.isna().sum()"
   ]
  },
  {
   "cell_type": "code",
   "execution_count": 22,
   "metadata": {},
   "outputs": [],
   "source": [
    "drop_col = ['ID']\n",
    "\n",
    "x_train_drop = x_train.drop(columns=drop_col)\n",
    "x_test_drop = x_test.drop(columns=drop_col)\n"
   ]
  },
  {
   "cell_type": "code",
   "execution_count": 24,
   "metadata": {},
   "outputs": [],
   "source": [
    "y = y_train.Potability"
   ]
  },
  {
   "cell_type": "code",
   "execution_count": 25,
   "metadata": {},
   "outputs": [],
   "source": [
    "x_train_dummies = pd.get_dummies(x_train_drop)\n",
    "x_test_dummies = pd.get_dummies(x_test_drop)\n",
    "x_test_dummies = x_test_dummies[x_train_dummies.columns]"
   ]
  },
  {
   "cell_type": "markdown",
   "metadata": {},
   "source": [
    "### 데이터 설명 : 투약하는 약을 분류 (종속변수 :Drug)"
   ]
  },
  {
   "cell_type": "code",
   "execution_count": 26,
   "metadata": {},
   "outputs": [],
   "source": [
    "x_train = pd.read_csv(\"https://raw.githubusercontent.com/Datamanim/datarepo/main/drug/x_train.csv\")\n",
    "y_train = pd.read_csv(\"https://raw.githubusercontent.com/Datamanim/datarepo/main/drug/y_train.csv\")\n",
    "x_test= pd.read_csv(\"https://raw.githubusercontent.com/Datamanim/datarepo/main/drug/x_test.csv\")"
   ]
  },
  {
   "cell_type": "code",
   "execution_count": 28,
   "metadata": {},
   "outputs": [
    {
     "data": {
      "text/plain": [
       "(ID             0\n",
       " Age            0\n",
       " Sex            0\n",
       " BP             0\n",
       " Cholesterol    0\n",
       " Na_to_K        0\n",
       " dtype: int64,\n",
       " ID             0\n",
       " Age            0\n",
       " Sex            0\n",
       " BP             0\n",
       " Cholesterol    0\n",
       " Na_to_K        0\n",
       " dtype: int64)"
      ]
     },
     "execution_count": 28,
     "metadata": {},
     "output_type": "execute_result"
    }
   ],
   "source": [
    "x_train.isna().sum(), x_test.isna().sum()"
   ]
  },
  {
   "cell_type": "code",
   "execution_count": 30,
   "metadata": {},
   "outputs": [
    {
     "data": {
      "text/plain": [
       "ID      0\n",
       "Drug    0\n",
       "dtype: int64"
      ]
     },
     "execution_count": 30,
     "metadata": {},
     "output_type": "execute_result"
    }
   ],
   "source": [
    "y_train.isna().sum()"
   ]
  },
  {
   "cell_type": "markdown",
   "metadata": {},
   "source": [
    "### 데이터 설명 : 사기회사 분류 (종속변수 : Risk 1: 사기 , 0 : 정상)"
   ]
  },
  {
   "cell_type": "code",
   "execution_count": 31,
   "metadata": {},
   "outputs": [],
   "source": [
    "x_train = pd.read_csv(\"https://raw.githubusercontent.com/Datamanim/datarepo/main/audit/x_train.csv\")\n",
    "y_train = pd.read_csv(\"https://raw.githubusercontent.com/Datamanim/datarepo/main/audit/y_train.csv\")\n",
    "x_test= pd.read_csv(\"https://raw.githubusercontent.com/Datamanim/datarepo/main/audit/x_test.csv\")\n"
   ]
  },
  {
   "cell_type": "code",
   "execution_count": 32,
   "metadata": {},
   "outputs": [
    {
     "data": {
      "text/plain": [
       "ID                0\n",
       "Sector_score      0\n",
       "LOCATION_ID       0\n",
       "PARA_A            0\n",
       "Score_A           0\n",
       "Risk_A            0\n",
       "PARA_B            0\n",
       "Score_B           0\n",
       "Risk_B            0\n",
       "TOTAL             0\n",
       "numbers           0\n",
       "Score_B.1         0\n",
       "Risk_C            0\n",
       "Money_Value       1\n",
       "Score_MV          0\n",
       "Risk_D            0\n",
       "District_Loss     0\n",
       "PROB              0\n",
       "RiSk_E            0\n",
       "History           0\n",
       "Prob              0\n",
       "Risk_F            0\n",
       "Score             0\n",
       "Inherent_Risk     0\n",
       "CONTROL_RISK      0\n",
       "Detection_Risk    0\n",
       "Audit_Risk        0\n",
       "dtype: int64"
      ]
     },
     "execution_count": 32,
     "metadata": {},
     "output_type": "execute_result"
    }
   ],
   "source": [
    "x_train.isna().sum()"
   ]
  },
  {
   "cell_type": "code",
   "execution_count": 33,
   "metadata": {},
   "outputs": [
    {
     "data": {
      "text/plain": [
       "ID                0\n",
       "Sector_score      0\n",
       "LOCATION_ID       0\n",
       "PARA_A            0\n",
       "Score_A           0\n",
       "Risk_A            0\n",
       "PARA_B            0\n",
       "Score_B           0\n",
       "Risk_B            0\n",
       "TOTAL             0\n",
       "numbers           0\n",
       "Score_B.1         0\n",
       "Risk_C            0\n",
       "Money_Value       1\n",
       "Score_MV          0\n",
       "Risk_D            0\n",
       "District_Loss     0\n",
       "PROB              0\n",
       "RiSk_E            0\n",
       "History           0\n",
       "Prob              0\n",
       "Risk_F            0\n",
       "Score             0\n",
       "Inherent_Risk     0\n",
       "CONTROL_RISK      0\n",
       "Detection_Risk    0\n",
       "Audit_Risk        0\n",
       "dtype: int64"
      ]
     },
     "execution_count": 33,
     "metadata": {},
     "output_type": "execute_result"
    }
   ],
   "source": [
    "x_test.isna().sum()"
   ]
  },
  {
   "cell_type": "code",
   "execution_count": 38,
   "metadata": {},
   "outputs": [
    {
     "data": {
      "text/html": [
       "<div>\n",
       "<style scoped>\n",
       "    .dataframe tbody tr th:only-of-type {\n",
       "        vertical-align: middle;\n",
       "    }\n",
       "\n",
       "    .dataframe tbody tr th {\n",
       "        vertical-align: top;\n",
       "    }\n",
       "\n",
       "    .dataframe thead th {\n",
       "        text-align: right;\n",
       "    }\n",
       "</style>\n",
       "<table border=\"1\" class=\"dataframe\">\n",
       "  <thead>\n",
       "    <tr style=\"text-align: right;\">\n",
       "      <th></th>\n",
       "      <th>ID</th>\n",
       "      <th>Sector_score</th>\n",
       "      <th>LOCATION_ID</th>\n",
       "      <th>PARA_A</th>\n",
       "      <th>Score_A</th>\n",
       "      <th>Risk_A</th>\n",
       "      <th>PARA_B</th>\n",
       "      <th>Score_B</th>\n",
       "      <th>Risk_B</th>\n",
       "      <th>TOTAL</th>\n",
       "      <th>...</th>\n",
       "      <th>PROB</th>\n",
       "      <th>RiSk_E</th>\n",
       "      <th>History</th>\n",
       "      <th>Prob</th>\n",
       "      <th>Risk_F</th>\n",
       "      <th>Score</th>\n",
       "      <th>Inherent_Risk</th>\n",
       "      <th>CONTROL_RISK</th>\n",
       "      <th>Detection_Risk</th>\n",
       "      <th>Audit_Risk</th>\n",
       "    </tr>\n",
       "  </thead>\n",
       "  <tbody>\n",
       "    <tr>\n",
       "      <th>38</th>\n",
       "      <td>53</td>\n",
       "      <td>55.57</td>\n",
       "      <td>4</td>\n",
       "      <td>0.23</td>\n",
       "      <td>0.2</td>\n",
       "      <td>0.046</td>\n",
       "      <td>0.0</td>\n",
       "      <td>0.2</td>\n",
       "      <td>0.0</td>\n",
       "      <td>0.23</td>\n",
       "      <td>...</td>\n",
       "      <td>0.2</td>\n",
       "      <td>0.4</td>\n",
       "      <td>0</td>\n",
       "      <td>0.2</td>\n",
       "      <td>0.0</td>\n",
       "      <td>2.0</td>\n",
       "      <td>1.446</td>\n",
       "      <td>0.4</td>\n",
       "      <td>0.5</td>\n",
       "      <td>0.2892</td>\n",
       "    </tr>\n",
       "  </tbody>\n",
       "</table>\n",
       "<p>1 rows × 27 columns</p>\n",
       "</div>"
      ],
      "text/plain": [
       "    ID  Sector_score LOCATION_ID  PARA_A  Score_A  Risk_A  PARA_B  Score_B  \\\n",
       "38  53         55.57           4    0.23      0.2   0.046     0.0      0.2   \n",
       "\n",
       "    Risk_B  TOTAL  ...  PROB  RiSk_E  History  Prob  Risk_F  Score  \\\n",
       "38     0.0   0.23  ...   0.2     0.4        0   0.2     0.0    2.0   \n",
       "\n",
       "    Inherent_Risk  CONTROL_RISK  Detection_Risk  Audit_Risk  \n",
       "38          1.446           0.4             0.5      0.2892  \n",
       "\n",
       "[1 rows x 27 columns]"
      ]
     },
     "execution_count": 38,
     "metadata": {},
     "output_type": "execute_result"
    }
   ],
   "source": [
    "x_train[x_train.Money_Value.isna()]"
   ]
  },
  {
   "cell_type": "code",
   "execution_count": 39,
   "metadata": {},
   "outputs": [
    {
     "data": {
      "text/html": [
       "<div>\n",
       "<style scoped>\n",
       "    .dataframe tbody tr th:only-of-type {\n",
       "        vertical-align: middle;\n",
       "    }\n",
       "\n",
       "    .dataframe tbody tr th {\n",
       "        vertical-align: top;\n",
       "    }\n",
       "\n",
       "    .dataframe thead th {\n",
       "        text-align: right;\n",
       "    }\n",
       "</style>\n",
       "<table border=\"1\" class=\"dataframe\">\n",
       "  <thead>\n",
       "    <tr style=\"text-align: right;\">\n",
       "      <th></th>\n",
       "      <th>ID</th>\n",
       "      <th>Sector_score</th>\n",
       "      <th>LOCATION_ID</th>\n",
       "      <th>PARA_A</th>\n",
       "      <th>Score_A</th>\n",
       "      <th>Risk_A</th>\n",
       "      <th>PARA_B</th>\n",
       "      <th>Score_B</th>\n",
       "      <th>Risk_B</th>\n",
       "      <th>TOTAL</th>\n",
       "      <th>...</th>\n",
       "      <th>PROB</th>\n",
       "      <th>RiSk_E</th>\n",
       "      <th>History</th>\n",
       "      <th>Prob</th>\n",
       "      <th>Risk_F</th>\n",
       "      <th>Score</th>\n",
       "      <th>Inherent_Risk</th>\n",
       "      <th>CONTROL_RISK</th>\n",
       "      <th>Detection_Risk</th>\n",
       "      <th>Audit_Risk</th>\n",
       "    </tr>\n",
       "  </thead>\n",
       "  <tbody>\n",
       "    <tr>\n",
       "      <th>43</th>\n",
       "      <td>219</td>\n",
       "      <td>55.57</td>\n",
       "      <td>4</td>\n",
       "      <td>0.23</td>\n",
       "      <td>0.2</td>\n",
       "      <td>0.046</td>\n",
       "      <td>0.0</td>\n",
       "      <td>0.2</td>\n",
       "      <td>0.0</td>\n",
       "      <td>0.23</td>\n",
       "      <td>...</td>\n",
       "      <td>0.2</td>\n",
       "      <td>0.4</td>\n",
       "      <td>0</td>\n",
       "      <td>0.2</td>\n",
       "      <td>0.0</td>\n",
       "      <td>2.0</td>\n",
       "      <td>1.446</td>\n",
       "      <td>0.4</td>\n",
       "      <td>0.5</td>\n",
       "      <td>0.2892</td>\n",
       "    </tr>\n",
       "  </tbody>\n",
       "</table>\n",
       "<p>1 rows × 27 columns</p>\n",
       "</div>"
      ],
      "text/plain": [
       "     ID  Sector_score LOCATION_ID  PARA_A  Score_A  Risk_A  PARA_B  Score_B  \\\n",
       "43  219         55.57           4    0.23      0.2   0.046     0.0      0.2   \n",
       "\n",
       "    Risk_B  TOTAL  ...  PROB  RiSk_E  History  Prob  Risk_F  Score  \\\n",
       "43     0.0   0.23  ...   0.2     0.4        0   0.2     0.0    2.0   \n",
       "\n",
       "    Inherent_Risk  CONTROL_RISK  Detection_Risk  Audit_Risk  \n",
       "43          1.446           0.4             0.5      0.2892  \n",
       "\n",
       "[1 rows x 27 columns]"
      ]
     },
     "execution_count": 39,
     "metadata": {},
     "output_type": "execute_result"
    }
   ],
   "source": [
    "x_test[x_test.Money_Value.isna()]"
   ]
  },
  {
   "cell_type": "code",
   "execution_count": 41,
   "metadata": {},
   "outputs": [
    {
     "data": {
      "text/html": [
       "<div>\n",
       "<style scoped>\n",
       "    .dataframe tbody tr th:only-of-type {\n",
       "        vertical-align: middle;\n",
       "    }\n",
       "\n",
       "    .dataframe tbody tr th {\n",
       "        vertical-align: top;\n",
       "    }\n",
       "\n",
       "    .dataframe thead th {\n",
       "        text-align: right;\n",
       "    }\n",
       "</style>\n",
       "<table border=\"1\" class=\"dataframe\">\n",
       "  <thead>\n",
       "    <tr style=\"text-align: right;\">\n",
       "      <th></th>\n",
       "      <th>ID</th>\n",
       "      <th>Risk</th>\n",
       "    </tr>\n",
       "  </thead>\n",
       "  <tbody>\n",
       "    <tr>\n",
       "      <th>38</th>\n",
       "      <td>53</td>\n",
       "      <td>0</td>\n",
       "    </tr>\n",
       "  </tbody>\n",
       "</table>\n",
       "</div>"
      ],
      "text/plain": [
       "    ID  Risk\n",
       "38  53     0"
      ]
     },
     "execution_count": 41,
     "metadata": {},
     "output_type": "execute_result"
    }
   ],
   "source": [
    "y_train[y_train.ID == 53]"
   ]
  },
  {
   "cell_type": "code",
   "execution_count": 46,
   "metadata": {},
   "outputs": [],
   "source": [
    "x_train.Money_Value.fillna(0.0, inplace=True)\n",
    "x_test.Money_Value.fillna(0.0, inplace=True)"
   ]
  },
  {
   "cell_type": "code",
   "execution_count": 47,
   "metadata": {},
   "outputs": [
    {
     "data": {
      "text/plain": [
       "(ID                0\n",
       " Sector_score      0\n",
       " LOCATION_ID       0\n",
       " PARA_A            0\n",
       " Score_A           0\n",
       " Risk_A            0\n",
       " PARA_B            0\n",
       " Score_B           0\n",
       " Risk_B            0\n",
       " TOTAL             0\n",
       " numbers           0\n",
       " Score_B.1         0\n",
       " Risk_C            0\n",
       " Money_Value       0\n",
       " Score_MV          0\n",
       " Risk_D            0\n",
       " District_Loss     0\n",
       " PROB              0\n",
       " RiSk_E            0\n",
       " History           0\n",
       " Prob              0\n",
       " Risk_F            0\n",
       " Score             0\n",
       " Inherent_Risk     0\n",
       " CONTROL_RISK      0\n",
       " Detection_Risk    0\n",
       " Audit_Risk        0\n",
       " dtype: int64,\n",
       " ID                0\n",
       " Sector_score      0\n",
       " LOCATION_ID       0\n",
       " PARA_A            0\n",
       " Score_A           0\n",
       " Risk_A            0\n",
       " PARA_B            0\n",
       " Score_B           0\n",
       " Risk_B            0\n",
       " TOTAL             0\n",
       " numbers           0\n",
       " Score_B.1         0\n",
       " Risk_C            0\n",
       " Money_Value       0\n",
       " Score_MV          0\n",
       " Risk_D            0\n",
       " District_Loss     0\n",
       " PROB              0\n",
       " RiSk_E            0\n",
       " History           0\n",
       " Prob              0\n",
       " Risk_F            0\n",
       " Score             0\n",
       " Inherent_Risk     0\n",
       " CONTROL_RISK      0\n",
       " Detection_Risk    0\n",
       " Audit_Risk        0\n",
       " dtype: int64)"
      ]
     },
     "execution_count": 47,
     "metadata": {},
     "output_type": "execute_result"
    }
   ],
   "source": [
    "x_train.isna().sum(), x_test.isna().sum()"
   ]
  },
  {
   "cell_type": "markdown",
   "metadata": {},
   "source": [
    "### 데이터 설명 : 센서데이터로 동작 유형 분류 (종속변수 pose : 0 ,1 구분)"
   ]
  },
  {
   "cell_type": "code",
   "execution_count": 48,
   "metadata": {},
   "outputs": [],
   "source": [
    "x_train = pd.read_csv(\"https://raw.githubusercontent.com/Datamanim/datarepo/main/muscle/x_train.csv\")\n",
    "y_train = pd.read_csv(\"https://raw.githubusercontent.com/Datamanim/datarepo/main/muscle/y_train.csv\")\n",
    "x_test= pd.read_csv(\"https://raw.githubusercontent.com/Datamanim/datarepo/main/muscle/x_test.csv\")"
   ]
  },
  {
   "cell_type": "code",
   "execution_count": 51,
   "metadata": {},
   "outputs": [
    {
     "name": "stdout",
     "output_type": "stream",
     "text": [
      "<class 'pandas.core.frame.DataFrame'>\n",
      "RangeIndex: 4650 entries, 0 to 4649\n",
      "Data columns (total 65 columns):\n",
      " #   Column     Non-Null Count  Dtype  \n",
      "---  ------     --------------  -----  \n",
      " 0   ID         4650 non-null   int64  \n",
      " 1   motion_0   4650 non-null   float64\n",
      " 2   motion_1   4650 non-null   float64\n",
      " 3   motion_2   4650 non-null   float64\n",
      " 4   motion_3   4650 non-null   float64\n",
      " 5   motion_4   4650 non-null   float64\n",
      " 6   motion_5   4650 non-null   float64\n",
      " 7   motion_6   4650 non-null   float64\n",
      " 8   motion_7   4650 non-null   float64\n",
      " 9   motion_8   4650 non-null   float64\n",
      " 10  motion_9   4650 non-null   float64\n",
      " 11  motion_10  4650 non-null   float64\n",
      " 12  motion_11  4650 non-null   float64\n",
      " 13  motion_12  4650 non-null   float64\n",
      " 14  motion_13  4650 non-null   float64\n",
      " 15  motion_14  4650 non-null   float64\n",
      " 16  motion_15  4650 non-null   float64\n",
      " 17  motion_16  4650 non-null   float64\n",
      " 18  motion_17  4650 non-null   float64\n",
      " 19  motion_18  4650 non-null   float64\n",
      " 20  motion_19  4650 non-null   float64\n",
      " 21  motion_20  4650 non-null   float64\n",
      " 22  motion_21  4650 non-null   float64\n",
      " 23  motion_22  4650 non-null   float64\n",
      " 24  motion_23  4650 non-null   float64\n",
      " 25  motion_24  4650 non-null   float64\n",
      " 26  motion_25  4650 non-null   float64\n",
      " 27  motion_26  4650 non-null   float64\n",
      " 28  motion_27  4650 non-null   float64\n",
      " 29  motion_28  4650 non-null   float64\n",
      " 30  motion_29  4650 non-null   float64\n",
      " 31  motion_30  4650 non-null   float64\n",
      " 32  motion_31  4650 non-null   float64\n",
      " 33  motion_32  4650 non-null   float64\n",
      " 34  motion_33  4650 non-null   float64\n",
      " 35  motion_34  4650 non-null   float64\n",
      " 36  motion_35  4650 non-null   float64\n",
      " 37  motion_36  4650 non-null   float64\n",
      " 38  motion_37  4650 non-null   float64\n",
      " 39  motion_38  4650 non-null   float64\n",
      " 40  motion_39  4650 non-null   float64\n",
      " 41  motion_40  4650 non-null   float64\n",
      " 42  motion_41  4650 non-null   float64\n",
      " 43  motion_42  4650 non-null   float64\n",
      " 44  motion_43  4650 non-null   float64\n",
      " 45  motion_44  4650 non-null   float64\n",
      " 46  motion_45  4650 non-null   float64\n",
      " 47  motion_46  4650 non-null   float64\n",
      " 48  motion_47  4650 non-null   float64\n",
      " 49  motion_48  4650 non-null   float64\n",
      " 50  motion_49  4650 non-null   float64\n",
      " 51  motion_50  4650 non-null   float64\n",
      " 52  motion_51  4650 non-null   float64\n",
      " 53  motion_52  4650 non-null   float64\n",
      " 54  motion_53  4650 non-null   float64\n",
      " 55  motion_54  4650 non-null   float64\n",
      " 56  motion_55  4650 non-null   float64\n",
      " 57  motion_56  4650 non-null   float64\n",
      " 58  motion_57  4650 non-null   float64\n",
      " 59  motion_58  4650 non-null   float64\n",
      " 60  motion_59  4650 non-null   float64\n",
      " 61  motion_60  4650 non-null   float64\n",
      " 62  motion_61  4650 non-null   float64\n",
      " 63  motion_62  4650 non-null   float64\n",
      " 64  motion_63  4650 non-null   float64\n",
      "dtypes: float64(64), int64(1)\n",
      "memory usage: 2.3 MB\n"
     ]
    }
   ],
   "source": [
    "x_train.info()"
   ]
  },
  {
   "cell_type": "markdown",
   "metadata": {},
   "source": [
    "### 데이터 설명 : 당뇨여부 판단하기 (종속변수 Outcome : 1 당뇨 , 0 :정상)"
   ]
  },
  {
   "cell_type": "code",
   "execution_count": 52,
   "metadata": {},
   "outputs": [],
   "source": [
    "x_train = pd.read_csv(\"https://raw.githubusercontent.com/Datamanim/datarepo/main/diabetes/x_train.csv\")\n",
    "y_train = pd.read_csv(\"https://raw.githubusercontent.com/Datamanim/datarepo/main/diabetes/y_train.csv\")\n",
    "x_test= pd.read_csv(\"https://raw.githubusercontent.com/Datamanim/datarepo/main/diabetes/x_test.csv\")\n"
   ]
  },
  {
   "cell_type": "code",
   "execution_count": 54,
   "metadata": {},
   "outputs": [
    {
     "data": {
      "text/plain": [
       "ID                          0\n",
       "Pregnancies                 0\n",
       "Glucose                     0\n",
       "BloodPressure               0\n",
       "SkinThickness               0\n",
       "Insulin                     0\n",
       "BMI                         0\n",
       "DiabetesPedigreeFunction    0\n",
       "Age                         0\n",
       "dtype: int64"
      ]
     },
     "execution_count": 54,
     "metadata": {},
     "output_type": "execute_result"
    }
   ],
   "source": [
    "x_test.isna().sum()"
   ]
  }
 ],
 "metadata": {
  "kernelspec": {
   "display_name": "base",
   "language": "python",
   "name": "python3"
  },
  "language_info": {
   "codemirror_mode": {
    "name": "ipython",
    "version": 3
   },
   "file_extension": ".py",
   "mimetype": "text/x-python",
   "name": "python",
   "nbconvert_exporter": "python",
   "pygments_lexer": "ipython3",
   "version": "3.9.13"
  }
 },
 "nbformat": 4,
 "nbformat_minor": 2
}
