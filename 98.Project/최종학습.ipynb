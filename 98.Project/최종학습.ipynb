{
 "cells": [
  {
   "cell_type": "code",
   "execution_count": 1,
   "metadata": {},
   "outputs": [],
   "source": [
    "import numpy as np\n",
    "import pandas as pd\n",
    "import joblib"
   ]
  },
  {
   "cell_type": "code",
   "execution_count": 2,
   "metadata": {},
   "outputs": [
    {
     "data": {
      "text/plain": [
       "((6243, 14), (3845, 5), (60264, 5))"
      ]
     },
     "execution_count": 2,
     "metadata": {},
     "output_type": "execute_result"
    }
   ],
   "source": [
    "filename = 'web/static/data/melon_song_v3.csv'\n",
    "plist_filename1 = 'web/static/data/melon_playlist1.csv'\n",
    "plist_filename2 = 'web/static/data/melon_playlist2_v2.csv'\n",
    "# sim_filename = 'web/static/data/melon_cosine_sim.sim'\n",
    "\n",
    "df = pd.read_csv(filename)\n",
    "plist1 = pd.read_csv(plist_filename1)\n",
    "plist2 = pd.read_csv(plist_filename2)\n",
    "# cosine_sim = joblib.load(sim_filename)\n",
    "\n",
    "df.shape, plist1.shape, plist2.shape"
   ]
  },
  {
   "cell_type": "code",
   "execution_count": null,
   "metadata": {},
   "outputs": [],
   "source": [
    "# import pandas as pd\n",
    "# df = pd.read_csv('data/melon_song_v3.csv')\n",
    "# df.head()"
   ]
  },
  {
   "cell_type": "code",
   "execution_count": null,
   "metadata": {},
   "outputs": [],
   "source": [
    "plist1.plylstSeq = plist1.plylstSeq.astype(str)\n",
    "plist2.songId = plist2.songId.astype(str)\n",
    "df.songId = df.songId.astype(str)\n",
    "df.fillna('', inplace=True)\n",
    "df.head(1)"
   ]
  },
  {
   "cell_type": "code",
   "execution_count": 4,
   "metadata": {},
   "outputs": [
    {
     "data": {
      "text/plain": [
       "songId        0\n",
       "title         0\n",
       "artist        0\n",
       "genre         0\n",
       "album         0\n",
       "lyricist      0\n",
       "composer      0\n",
       "date          0\n",
       "img           0\n",
       "comment       0\n",
       "like          0\n",
       "lyric         0\n",
       "plylstSeq     0\n",
       "ly_summary    0\n",
       "dtype: int64"
      ]
     },
     "execution_count": 4,
     "metadata": {},
     "output_type": "execute_result"
    }
   ],
   "source": [
    "df.isna().sum()"
   ]
  },
  {
   "cell_type": "code",
   "execution_count": 5,
   "metadata": {},
   "outputs": [],
   "source": [
    "with open('data/한글불용어.txt') as st:\n",
    "    lines = st.readlines()\n",
    "stop_words = [line.split('\\t')[0] for line in lines]\n",
    "stop_words.extend('은 는 를 도 을 며 의 에 게 니 거 로 요 과 래 랑 파 여 에게'.split())"
   ]
  },
  {
   "cell_type": "code",
   "execution_count": 6,
   "metadata": {},
   "outputs": [],
   "source": [
    "from konlpy.tag import Okt\n",
    "okt = Okt()"
   ]
  },
  {
   "cell_type": "code",
   "execution_count": 7,
   "metadata": {},
   "outputs": [
    {
     "name": "stdout",
     "output_type": "stream",
     "text": [
      "Wall time: 2min 47s\n"
     ]
    }
   ],
   "source": [
    "%%time\n",
    "reviews = []\n",
    "for review in df.lyric:\n",
    "    review = review.replace('\\n', ' ')\n",
    "    morphs = okt.morphs(review, stem=True)\n",
    "    tmp = [word for word in morphs  if word not in stop_words]\n",
    "    reviews.append(' '.join(tmp))\n",
    "df['morphs'] = reviews"
   ]
  },
  {
   "cell_type": "code",
   "execution_count": 8,
   "metadata": {},
   "outputs": [],
   "source": [
    "# df.to_csv('static/data/melon_song_morphs.csv')"
   ]
  },
  {
   "cell_type": "code",
   "execution_count": null,
   "metadata": {},
   "outputs": [],
   "source": [
    "df.head(5)"
   ]
  },
  {
   "cell_type": "code",
   "execution_count": 9,
   "metadata": {},
   "outputs": [
    {
     "data": {
      "text/plain": [
       "'햇살 우릴 위해 내리다 바람 서 롤 감싸다 하다 우리 웃음 속 계절 오다 또 가다 바람 흔들리다 머릿결 내다 불어오다 그대 향기 예쁘다 눈 웃음 소리 모두 가 내 이다 이렇다 사랑 이렇다 행복 쉬다 하다 이렇다 웃음 이렇다 축복 내다 쉬다 올리다 없다 눈물 조차 울음 조차 닦다 못 한 나 정말로 울면 내 가 대다 보내다 준 같다 그대 떠나가다 순간 나르다 걱정 하다 무엇 해주다 없다 내 맘 앞 에서 그대 나르다 떠나다 간다 하다 난 대다 보내다 적 없다 여전하다 대다 나르다 살 하다 이율 테 이렇다 사랑 이렇다 행복 쉬다 하다 이렇다 웃음 이렇다 축복 내다 쉬다 올리다 없다 눈물 조차 울음 조차 닦다 못 한 나 정말로 울면 내 가 대다 보내다 준 같다 그대 떠나가다 순간 나르다 걱정 하다 무엇 해주다 없다 내 맘앞 에서 그대 나르다 떠나다 간다 하다 난 대다 보내다 적 없다 기다림 으로 다시 시 작 일 테 얼마나 사랑 하다 얼마나 또 울다 그대 한순간 조차 잊다 말다 거기 떠나가다 곳 에서 날 기억 하다 기다리다 하루 씩 그대 다가가다 나 이다 희재 성시경 성시경 MGR MGR 양재선 양재선 발라드 국내영화 발라드 국내영화 발라드 국내영화'"
      ]
     },
     "execution_count": 9,
     "metadata": {},
     "output_type": "execute_result"
    }
   ],
   "source": [
    "df['total'] = df.morphs + (' ' + df.title) + (' ' + df.artist) * 2 + (' ' + df.composer) * 2 + (' ' + df.lyricist) * 2 + (' ' + df.genre) * 3\n",
    "df.total[0]"
   ]
  },
  {
   "cell_type": "code",
   "execution_count": 10,
   "metadata": {},
   "outputs": [],
   "source": [
    "# df.set_index('songId', inplace=True)\n",
    "# df.reset_index(inplace=True)"
   ]
  },
  {
   "cell_type": "code",
   "execution_count": 10,
   "metadata": {},
   "outputs": [
    {
     "data": {
      "text/plain": [
       "(6243, 29665)"
      ]
     },
     "execution_count": 10,
     "metadata": {},
     "output_type": "execute_result"
    }
   ],
   "source": [
    "from sklearn.feature_extraction.text import TfidfVectorizer\n",
    "tvect = TfidfVectorizer(stop_words='english')\n",
    "total_tv = tvect.fit_transform(df.total)\n",
    "total_tv.shape"
   ]
  },
  {
   "cell_type": "code",
   "execution_count": 11,
   "metadata": {},
   "outputs": [],
   "source": [
    "indices = pd.Series(df.index, index=df.songId)"
   ]
  },
  {
   "cell_type": "code",
   "execution_count": 13,
   "metadata": {},
   "outputs": [
    {
     "data": {
      "text/plain": [
       "songId\n",
       "418168         0\n",
       "35609035       1\n",
       "1046278        2\n",
       "35609034       3\n",
       "35728845       4\n",
       "            ... \n",
       "33013736    6238\n",
       "3080890     6239\n",
       "2981597     6240\n",
       "34183979    6241\n",
       "31191637    6242\n",
       "Length: 6243, dtype: int64"
      ]
     },
     "execution_count": 13,
     "metadata": {},
     "output_type": "execute_result"
    }
   ],
   "source": [
    "indices"
   ]
  },
  {
   "cell_type": "code",
   "execution_count": 12,
   "metadata": {},
   "outputs": [],
   "source": [
    "from sklearn.metrics.pairwise import cosine_similarity\n",
    "cosine_sim = cosine_similarity(total_tv)"
   ]
  },
  {
   "cell_type": "code",
   "execution_count": 13,
   "metadata": {},
   "outputs": [],
   "source": [
    "def get_recommendation(title, cos_sim):\n",
    "    index = indices[title]\n",
    "    sim_scores = pd.Series(cos_sim[index])\n",
    "    song_indices = sim_scores.sort_values(ascending=False).head(11).tail(10).index\n",
    "    return df.songId.iloc[song_indices], df.title.iloc[song_indices], df.artist.iloc[song_indices]"
   ]
  },
  {
   "cell_type": "code",
   "execution_count": 16,
   "metadata": {},
   "outputs": [
    {
     "data": {
      "text/plain": [
       "(3069    3593455\n",
       " 14      1046284\n",
       " 2751     523088\n",
       " 2502     611573\n",
       " 2619      19175\n",
       " 108     2070559\n",
       " 20      2043348\n",
       " 307     2070560\n",
       " 3751    2278760\n",
       " 3058    3585793\n",
       " Name: songId, dtype: object,\n",
       " 3069           서쪽 하늘\n",
       " 14                인연\n",
       " 2751              인연\n",
       " 2502      오직 너뿐인 나를…\n",
       " 2619              고백\n",
       " 108     그런 사람 또 없습니다\n",
       " 20      그런 사람 또 없습니다\n",
       " 307            듣고있나요\n",
       " 3751    그런 사람 또 없습니다\n",
       " 3058         그리워 그리워\n",
       " Name: title, dtype: object,\n",
       " 3069    울랄라세션\n",
       " 14        이승철\n",
       " 2751      이승철\n",
       " 2502      이승철\n",
       " 2619      이승철\n",
       " 108       이승철\n",
       " 20        이승철\n",
       " 307       이승철\n",
       " 3751      이승철\n",
       " 3058       노을\n",
       " Name: artist, dtype: object)"
      ]
     },
     "execution_count": 16,
     "metadata": {},
     "output_type": "execute_result"
    }
   ],
   "source": [
    "# new_cosine_sim = joblib.load('data/melon_cosine_sim.sim')\n",
    "# get_recommendation('1046278',cosine_sim)\n",
    "# get_recommendation('1046278',new_cosine_sim)"
   ]
  },
  {
   "cell_type": "code",
   "execution_count": 17,
   "metadata": {},
   "outputs": [
    {
     "data": {
      "text/plain": [
       "['data/melon_cosine_sim.sim']"
      ]
     },
     "execution_count": 17,
     "metadata": {},
     "output_type": "execute_result"
    }
   ],
   "source": [
    "# import joblib\n",
    "\n",
    "# joblib.dump(cosine_sim, 'data/melon_cosine_sim.sim')"
   ]
  },
  {
   "cell_type": "code",
   "execution_count": null,
   "metadata": {},
   "outputs": [],
   "source": [
    "# 사용하려면 불러오는 방법\n",
    "# new_cosine_sim = joblib.load('data/melon_cosine_sim.sim')"
   ]
  },
  {
   "cell_type": "code",
   "execution_count": 29,
   "metadata": {},
   "outputs": [],
   "source": [
    "songId = df.songId.values[1]"
   ]
  },
  {
   "cell_type": "code",
   "execution_count": 65,
   "metadata": {},
   "outputs": [],
   "source": [
    "df.drop(labels=['best_per'],axis=1,inplace=True)"
   ]
  },
  {
   "cell_type": "code",
   "execution_count": null,
   "metadata": {},
   "outputs": [],
   "source": [
    "df.drop(labels=['best_per','best_title', 'best_artist', 'best_songId'],axis=1,inplace=True)"
   ]
  },
  {
   "cell_type": "code",
   "execution_count": 66,
   "metadata": {},
   "outputs": [
    {
     "name": "stdout",
     "output_type": "stream",
     "text": [
      "6243 18729 18729\n"
     ]
    }
   ],
   "source": [
    "from sklearn.metrics.pairwise import linear_kernel\n",
    "cosine_sim_total = linear_kernel(total_tv, total_tv)\n",
    "\n",
    "best_songs = []\n",
    "best_per = []\n",
    "best_title = []\n",
    "best_artist = []\n",
    "count = 0\n",
    "real_count = 0\n",
    "other_count = 0\n",
    "for songId in df.songId.values:\n",
    "    sim_scores = pd.Series(cosine_sim_total[indices[songId]])\n",
    "    score = sim_scores.sort_values(ascending=False).head(30).tail(29)\n",
    "\n",
    "    # best_per.append(f'{score.values[0]:.3f}')\n",
    "    # best_title.append(df.title.iloc[score.index[0]])\n",
    "    # best_artist.append(df.artist.iloc[score.index[0]])\n",
    "    # best_songs.append(df.songId.iloc[score.index[0]])\n",
    "\n",
    "    count += 1\n",
    "    per_list= []\n",
    "    ncount = 0\n",
    "    for index, per in score.items():\n",
    "        \n",
    "        \n",
    "        # if songId == df.songId.iloc[index] or per == 1.0 or per > 0.83:\n",
    "        if songId == df.songId.iloc[index] :\n",
    "            continue\n",
    "        else:\n",
    "            real_count += 1\n",
    "            ncount += 1\n",
    "            # tmp = per.round(3)\n",
    "            per_list.append(per)\n",
    "            # best_per.append(f'{per:.3f}')\n",
    "            # best_title.append(df.title.iloc[index])\n",
    "            # best_artist.append(df.artist.iloc[index])\n",
    "            # best_songs.append(df.songId.iloc[index])\n",
    "            other_count += 1\n",
    "            if ncount == 3: break\n",
    "    best_per.append(per_list)\n",
    "        \n",
    "print(count, real_count, other_count)"
   ]
  },
  {
   "cell_type": "code",
   "execution_count": null,
   "metadata": {},
   "outputs": [],
   "source": []
  },
  {
   "cell_type": "code",
   "execution_count": 96,
   "metadata": {},
   "outputs": [
    {
     "data": {
      "text/plain": [
       "6218"
      ]
     },
     "execution_count": 96,
     "metadata": {},
     "output_type": "execute_result"
    }
   ],
   "source": [
    "real_count"
   ]
  },
  {
   "cell_type": "code",
   "execution_count": null,
   "metadata": {},
   "outputs": [],
   "source": []
  },
  {
   "cell_type": "code",
   "execution_count": 67,
   "metadata": {},
   "outputs": [],
   "source": [
    "df['best_per'] = best_per\n",
    "# # df['best_title'] = best_title\n",
    "# # df['best_artist'] = best_artist\n",
    "# # df['best_songId'] = best_songs\n",
    "# df.best_per = df.best_per.astype(float)"
   ]
  },
  {
   "cell_type": "code",
   "execution_count": null,
   "metadata": {},
   "outputs": [],
   "source": [
    "df.head()"
   ]
  },
  {
   "cell_type": "code",
   "execution_count": null,
   "metadata": {},
   "outputs": [],
   "source": [
    "df[df.best_per > 0.50]"
   ]
  },
  {
   "cell_type": "code",
   "execution_count": 79,
   "metadata": {},
   "outputs": [
    {
     "name": "stdout",
     "output_type": "stream",
     "text": [
      "ok\n"
     ]
    }
   ],
   "source": [
    "sim_scores = pd.Series(cosine_sim_total[indices['5445245']])\n",
    "score = sim_scores.sort_values(ascending=False).head(10)\n",
    "if score.values[1] < 0.9999999999999999999999999999999999999:\n",
    "    print('ok')"
   ]
  },
  {
   "cell_type": "code",
   "execution_count": 20,
   "metadata": {},
   "outputs": [],
   "source": [
    "df_per = df[['songId', 'title', 'artist', 'best_per', 'best_title', 'best_artist', 'best_songId']].sort_values('best_per', ascending=False)"
   ]
  },
  {
   "cell_type": "code",
   "execution_count": 21,
   "metadata": {},
   "outputs": [
    {
     "data": {
      "text/plain": [
       "0.32811725132148"
      ]
     },
     "execution_count": 21,
     "metadata": {},
     "output_type": "execute_result"
    }
   ],
   "source": [
    "df_per.best_per.mean()"
   ]
  },
  {
   "cell_type": "code",
   "execution_count": 23,
   "metadata": {},
   "outputs": [
    {
     "name": "stderr",
     "output_type": "stream",
     "text": [
      "C:\\Users\\sujung\\AppData\\Local\\Temp\\ipykernel_21004\\116105951.py:1: FutureWarning: Dropping of nuisance columns in DataFrame reductions (with 'numeric_only=None') is deprecated; in a future version this will raise TypeError.  Select only valid columns before calling the reduction.\n",
      "  df_per.std()\n"
     ]
    },
    {
     "data": {
      "text/plain": [
       "best_per    0.176555\n",
       "dtype: float64"
      ]
     },
     "execution_count": 23,
     "metadata": {},
     "output_type": "execute_result"
    }
   ],
   "source": [
    "df_per.std()"
   ]
  },
  {
   "cell_type": "code",
   "execution_count": 59,
   "metadata": {},
   "outputs": [
    {
     "data": {
      "text/html": [
       "<div>\n",
       "<style scoped>\n",
       "    .dataframe tbody tr th:only-of-type {\n",
       "        vertical-align: middle;\n",
       "    }\n",
       "\n",
       "    .dataframe tbody tr th {\n",
       "        vertical-align: top;\n",
       "    }\n",
       "\n",
       "    .dataframe thead th {\n",
       "        text-align: right;\n",
       "    }\n",
       "</style>\n",
       "<table border=\"1\" class=\"dataframe\">\n",
       "  <thead>\n",
       "    <tr style=\"text-align: right;\">\n",
       "      <th></th>\n",
       "      <th>songId</th>\n",
       "      <th>title</th>\n",
       "      <th>artist</th>\n",
       "      <th>best_per</th>\n",
       "      <th>percil</th>\n",
       "    </tr>\n",
       "  </thead>\n",
       "  <tbody>\n",
       "    <tr>\n",
       "      <th>0</th>\n",
       "      <td>418168</td>\n",
       "      <td>희재</td>\n",
       "      <td>성시경</td>\n",
       "      <td>[0.9870539281944808, 0.9322564810500571, 0.356...</td>\n",
       "      <td>0.570871</td>\n",
       "    </tr>\n",
       "    <tr>\n",
       "      <th>1</th>\n",
       "      <td>35609035</td>\n",
       "      <td>인생은 뷰티풀</td>\n",
       "      <td>김호중</td>\n",
       "      <td>[0.4497443003387747, 0.38555240416102976, 0.20...</td>\n",
       "      <td>0.280160</td>\n",
       "    </tr>\n",
       "    <tr>\n",
       "      <th>2</th>\n",
       "      <td>1046278</td>\n",
       "      <td>서쪽 하늘</td>\n",
       "      <td>이승철</td>\n",
       "      <td>[0.8955546907408942, 0.4135766388186803, 0.354...</td>\n",
       "      <td>0.450479</td>\n",
       "    </tr>\n",
       "    <tr>\n",
       "      <th>3</th>\n",
       "      <td>35609034</td>\n",
       "      <td>슬픈등</td>\n",
       "      <td>김호중</td>\n",
       "      <td>[0.4497443003387747, 0.3911845257185991, 0.232...</td>\n",
       "      <td>0.306407</td>\n",
       "    </tr>\n",
       "    <tr>\n",
       "      <th>4</th>\n",
       "      <td>35728845</td>\n",
       "      <td>고백 (영화 '동감' X 츄 (이달의 소녀))</td>\n",
       "      <td>츄(Chuu)</td>\n",
       "      <td>[0.9453702657137346, 0.9383494331883004, 0.254...</td>\n",
       "      <td>0.524731</td>\n",
       "    </tr>\n",
       "    <tr>\n",
       "      <th>...</th>\n",
       "      <td>...</td>\n",
       "      <td>...</td>\n",
       "      <td>...</td>\n",
       "      <td>...</td>\n",
       "      <td>...</td>\n",
       "    </tr>\n",
       "    <tr>\n",
       "      <th>6238</th>\n",
       "      <td>33013736</td>\n",
       "      <td>낮잠</td>\n",
       "      <td>케이시 (Kassy)</td>\n",
       "      <td>[0.4323437177961725, 0.4245417960419125, 0.418...</td>\n",
       "      <td>0.420065</td>\n",
       "    </tr>\n",
       "    <tr>\n",
       "      <th>6239</th>\n",
       "      <td>3080890</td>\n",
       "      <td>그대 내게 행복을 주는 사람</td>\n",
       "      <td>해바라기</td>\n",
       "      <td>[0.9172395612135119, 0.8700807841853618, 0.271...</td>\n",
       "      <td>0.514299</td>\n",
       "    </tr>\n",
       "    <tr>\n",
       "      <th>6240</th>\n",
       "      <td>2981597</td>\n",
       "      <td>서른 즈음에</td>\n",
       "      <td>김광석</td>\n",
       "      <td>[0.9251710743533317, 0.45576962295330997, 0.31...</td>\n",
       "      <td>0.436592</td>\n",
       "    </tr>\n",
       "    <tr>\n",
       "      <th>6241</th>\n",
       "      <td>34183979</td>\n",
       "      <td>인생 한잔</td>\n",
       "      <td>정은지</td>\n",
       "      <td>[0.41184214158735755, 0.2812326657717477, 0.26...</td>\n",
       "      <td>0.286951</td>\n",
       "    </tr>\n",
       "    <tr>\n",
       "      <th>6242</th>\n",
       "      <td>31191637</td>\n",
       "      <td>6 o'clock</td>\n",
       "      <td>볼빨간사춘기</td>\n",
       "      <td>[0.3315588669462371, 0.32036503957853224, 0.31...</td>\n",
       "      <td>0.319140</td>\n",
       "    </tr>\n",
       "  </tbody>\n",
       "</table>\n",
       "<p>6243 rows × 5 columns</p>\n",
       "</div>"
      ],
      "text/plain": [
       "        songId                      title       artist  \\\n",
       "0       418168                         희재          성시경   \n",
       "1     35609035                    인생은 뷰티풀          김호중   \n",
       "2      1046278                      서쪽 하늘          이승철   \n",
       "3     35609034                        슬픈등          김호중   \n",
       "4     35728845  고백 (영화 '동감' X 츄 (이달의 소녀))      츄(Chuu)   \n",
       "...        ...                        ...          ...   \n",
       "6238  33013736                         낮잠  케이시 (Kassy)   \n",
       "6239   3080890            그대 내게 행복을 주는 사람         해바라기   \n",
       "6240   2981597                     서른 즈음에          김광석   \n",
       "6241  34183979                      인생 한잔          정은지   \n",
       "6242  31191637                  6 o'clock       볼빨간사춘기   \n",
       "\n",
       "                                               best_per    percil  \n",
       "0     [0.9870539281944808, 0.9322564810500571, 0.356...  0.570871  \n",
       "1     [0.4497443003387747, 0.38555240416102976, 0.20...  0.280160  \n",
       "2     [0.8955546907408942, 0.4135766388186803, 0.354...  0.450479  \n",
       "3     [0.4497443003387747, 0.3911845257185991, 0.232...  0.306407  \n",
       "4     [0.9453702657137346, 0.9383494331883004, 0.254...  0.524731  \n",
       "...                                                 ...       ...  \n",
       "6238  [0.4323437177961725, 0.4245417960419125, 0.418...  0.420065  \n",
       "6239  [0.9172395612135119, 0.8700807841853618, 0.271...  0.514299  \n",
       "6240  [0.9251710743533317, 0.45576962295330997, 0.31...  0.436592  \n",
       "6241  [0.41184214158735755, 0.2812326657717477, 0.26...  0.286951  \n",
       "6242  [0.3315588669462371, 0.32036503957853224, 0.31...  0.319140  \n",
       "\n",
       "[6243 rows x 5 columns]"
      ]
     },
     "execution_count": 59,
     "metadata": {},
     "output_type": "execute_result"
    }
   ],
   "source": [
    "df_per"
   ]
  },
  {
   "cell_type": "code",
   "execution_count": 68,
   "metadata": {},
   "outputs": [
    {
     "name": "stderr",
     "output_type": "stream",
     "text": [
      "C:\\Users\\sujung\\AppData\\Local\\Temp\\ipykernel_21004\\2869858997.py:2: SettingWithCopyWarning: \n",
      "A value is trying to be set on a copy of a slice from a DataFrame.\n",
      "Try using .loc[row_indexer,col_indexer] = value instead\n",
      "\n",
      "See the caveats in the documentation: https://pandas.pydata.org/pandas-docs/stable/user_guide/indexing.html#returning-a-view-versus-a-copy\n",
      "  df_per['percil'] = [np.mean(x) for x in df_per.best_per]\n"
     ]
    }
   ],
   "source": [
    "df_per = df[['songId', 'title', 'artist', 'best_per']]\n",
    "df_per['percil'] = [np.mean(x) for x in df_per.best_per]"
   ]
  },
  {
   "cell_type": "code",
   "execution_count": 69,
   "metadata": {},
   "outputs": [
    {
     "data": {
      "text/plain": [
       "(0.34513254403598065,\n",
       " 0.3021355230267113,\n",
       " 0.16304490539665006,\n",
       " count    6243.000000\n",
       " mean        0.345133\n",
       " std         0.163045\n",
       " min         0.039842\n",
       " 25%         0.231017\n",
       " 50%         0.302136\n",
       " 75%         0.430867\n",
       " max         0.971573\n",
       " Name: percil, dtype: float64)"
      ]
     },
     "execution_count": 69,
     "metadata": {},
     "output_type": "execute_result"
    }
   ],
   "source": [
    "df_per.percil.mean(), df_per.percil.median(), df_per.percil.std(), df_per.percil.describe()"
   ]
  }
 ],
 "metadata": {
  "kernelspec": {
   "display_name": "base",
   "language": "python",
   "name": "python3"
  },
  "language_info": {
   "codemirror_mode": {
    "name": "ipython",
    "version": 3
   },
   "file_extension": ".py",
   "mimetype": "text/x-python",
   "name": "python",
   "nbconvert_exporter": "python",
   "pygments_lexer": "ipython3",
   "version": "3.9.13"
  },
  "orig_nbformat": 4
 },
 "nbformat": 4,
 "nbformat_minor": 2
}
