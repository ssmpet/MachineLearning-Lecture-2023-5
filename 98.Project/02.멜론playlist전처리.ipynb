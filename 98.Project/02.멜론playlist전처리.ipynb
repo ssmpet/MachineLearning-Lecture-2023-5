{
 "cells": [
  {
   "attachments": {},
   "cell_type": "markdown",
   "metadata": {},
   "source": [
    "### PlayList 파일 전처리"
   ]
  },
  {
   "cell_type": "code",
   "execution_count": 1,
   "metadata": {},
   "outputs": [],
   "source": [
    "import numpy as np\n",
    "import pandas as pd"
   ]
  },
  {
   "cell_type": "code",
   "execution_count": 2,
   "metadata": {},
   "outputs": [
    {
     "data": {
      "text/plain": [
       "((3845, 5), (60271, 4))"
      ]
     },
     "execution_count": 2,
     "metadata": {},
     "output_type": "execute_result"
    }
   ],
   "source": [
    "df1 = pd.read_csv('data/melon_playlist1.csv')\n",
    "df2 = pd.read_csv('data/melon_playlist2_v2.csv')\n",
    "df1.shape, df2.shape"
   ]
  },
  {
   "cell_type": "code",
   "execution_count": 3,
   "metadata": {},
   "outputs": [
    {
     "data": {
      "text/html": [
       "<div>\n",
       "<style scoped>\n",
       "    .dataframe tbody tr th:only-of-type {\n",
       "        vertical-align: middle;\n",
       "    }\n",
       "\n",
       "    .dataframe tbody tr th {\n",
       "        vertical-align: top;\n",
       "    }\n",
       "\n",
       "    .dataframe thead th {\n",
       "        text-align: right;\n",
       "    }\n",
       "</style>\n",
       "<table border=\"1\" class=\"dataframe\">\n",
       "  <thead>\n",
       "    <tr style=\"text-align: right;\">\n",
       "      <th></th>\n",
       "      <th>plylstSeq</th>\n",
       "      <th>title</th>\n",
       "      <th>tag</th>\n",
       "      <th>like</th>\n",
       "      <th>songIds</th>\n",
       "    </tr>\n",
       "  </thead>\n",
       "  <tbody>\n",
       "    <tr>\n",
       "      <th>0</th>\n",
       "      <td>516301214</td>\n",
       "      <td>빙글빙글 낭만이 물들어가는, LP판 느낌의 감성팝</td>\n",
       "      <td>#낭만 #감성 #LP #힐링 #휴식 #사랑 #분위기 #가을 #추억 #팝</td>\n",
       "      <td>400</td>\n",
       "      <td>33880688 36359244 36148918 35576427 33664280 3...</td>\n",
       "    </tr>\n",
       "    <tr>\n",
       "      <th>1</th>\n",
       "      <td>523235480</td>\n",
       "      <td>IVE 멤버들의 추천곡들</td>\n",
       "      <td>#IVE #아이브 #이서 #원영 #레이 #유진 #리즈 #가을</td>\n",
       "      <td>683</td>\n",
       "      <td>33213267 32544401 33502105 33469725 32464068 3...</td>\n",
       "    </tr>\n",
       "    <tr>\n",
       "      <th>2</th>\n",
       "      <td>523324194</td>\n",
       "      <td>가을에 듣는 곡들 ༄</td>\n",
       "      <td>#가을 #단풍 #낙엽 #고독 #뉴진스 #아이브 #르세라핌 #NewJeans #IV...</td>\n",
       "      <td>673</td>\n",
       "      <td>354198 5406681 33618864 2425149 4252725 306695...</td>\n",
       "    </tr>\n",
       "    <tr>\n",
       "      <th>3</th>\n",
       "      <td>523237139</td>\n",
       "      <td>2023 2 11 아이브 첫 콘서트</td>\n",
       "      <td>#IVE #아이브 #이서 #원영 #헤이 #유진 #리즈 #가을</td>\n",
       "      <td>690</td>\n",
       "      <td>36356992 36356993 36356994 36356995 36356996 3...</td>\n",
       "    </tr>\n",
       "    <tr>\n",
       "      <th>4</th>\n",
       "      <td>512333525</td>\n",
       "      <td>잠 못드는 밤, 무드등켜고 듣기좋은 감성 인디음악</td>\n",
       "      <td>#인디 #가을 #무드등 #센치 #공허함 #새벽 #비오는날 #위로 #감성 #버스</td>\n",
       "      <td>721</td>\n",
       "      <td>35722995 35006084 35006621 31324614 35013205 3...</td>\n",
       "    </tr>\n",
       "  </tbody>\n",
       "</table>\n",
       "</div>"
      ],
      "text/plain": [
       "   plylstSeq                        title  \\\n",
       "0  516301214  빙글빙글 낭만이 물들어가는, LP판 느낌의 감성팝   \n",
       "1  523235480                IVE 멤버들의 추천곡들   \n",
       "2  523324194                  가을에 듣는 곡들 ༄   \n",
       "3  523237139          2023 2 11 아이브 첫 콘서트   \n",
       "4  512333525  잠 못드는 밤, 무드등켜고 듣기좋은 감성 인디음악   \n",
       "\n",
       "                                                 tag  like  \\\n",
       "0           #낭만 #감성 #LP #힐링 #휴식 #사랑 #분위기 #가을 #추억 #팝    400   \n",
       "1                 #IVE #아이브 #이서 #원영 #레이 #유진 #리즈 #가을    683   \n",
       "2   #가을 #단풍 #낙엽 #고독 #뉴진스 #아이브 #르세라핌 #NewJeans #IV...   673   \n",
       "3                 #IVE #아이브 #이서 #원영 #헤이 #유진 #리즈 #가을    690   \n",
       "4       #인디 #가을 #무드등 #센치 #공허함 #새벽 #비오는날 #위로 #감성 #버스    721   \n",
       "\n",
       "                                             songIds  \n",
       "0  33880688 36359244 36148918 35576427 33664280 3...  \n",
       "1  33213267 32544401 33502105 33469725 32464068 3...  \n",
       "2  354198 5406681 33618864 2425149 4252725 306695...  \n",
       "3  36356992 36356993 36356994 36356995 36356996 3...  \n",
       "4  35722995 35006084 35006621 31324614 35013205 3...  "
      ]
     },
     "execution_count": 3,
     "metadata": {},
     "output_type": "execute_result"
    }
   ],
   "source": [
    "df1.head()"
   ]
  },
  {
   "cell_type": "code",
   "execution_count": 4,
   "metadata": {},
   "outputs": [
    {
     "data": {
      "text/plain": [
       "5521"
      ]
     },
     "execution_count": 4,
     "metadata": {},
     "output_type": "execute_result"
    }
   ],
   "source": [
    "# 중복 데이터 확인\n",
    "df1.plylstSeq.nunique()"
   ]
  },
  {
   "cell_type": "code",
   "execution_count": 29,
   "metadata": {},
   "outputs": [],
   "source": [
    "# tag에 있는 단어들을 찾아 인덱스와 plylstSeq 추출\n",
    "p1_index =  df1[df1.tag.str.contains('피아노 | 팝송')].index\n",
    "p_list = df1[df1.tag.str.contains('피아노 | 팝송')].plylstSeq.values"
   ]
  },
  {
   "cell_type": "code",
   "execution_count": 30,
   "metadata": {},
   "outputs": [
    {
     "data": {
      "text/plain": [
       "Int64Index([  16,   34,   56,   76,   78,   86,  135,  140,  148,  163,\n",
       "            ...\n",
       "            5346, 5401, 5451, 5468, 5475, 5481, 5489, 5496, 5498, 5509],\n",
       "           dtype='int64', length=188)"
      ]
     },
     "execution_count": 30,
     "metadata": {},
     "output_type": "execute_result"
    }
   ],
   "source": [
    "p1_index"
   ]
  },
  {
   "cell_type": "code",
   "execution_count": 31,
   "metadata": {},
   "outputs": [],
   "source": [
    "# playlist2에 있는 같은 plylstSeq 인덱스 찾기\n",
    "p2_index = []\n",
    "for pl in p_list:\n",
    "    p2_index.extend(df2[df2.plylstSeq == pl].index)\n",
    "    "
   ]
  },
  {
   "cell_type": "code",
   "execution_count": 32,
   "metadata": {},
   "outputs": [
    {
     "data": {
      "text/plain": [
       "(188, 7201)"
      ]
     },
     "execution_count": 32,
     "metadata": {},
     "output_type": "execute_result"
    }
   ],
   "source": [
    "len(p1_index), len(p2_index)"
   ]
  },
  {
   "cell_type": "code",
   "execution_count": null,
   "metadata": {},
   "outputs": [],
   "source": [
    "p2_index[0]\n",
    "df2[p2_index[0]]"
   ]
  },
  {
   "cell_type": "code",
   "execution_count": null,
   "metadata": {},
   "outputs": [],
   "source": [
    "# 찾은 인덱스로 행 삭제\n",
    "df2.drop(df2.index[p2_index], inplace=True)\n",
    "df1.drop(df1.index[p1_index], inplace=True)\n"
   ]
  },
  {
   "cell_type": "code",
   "execution_count": 124,
   "metadata": {},
   "outputs": [],
   "source": [
    "# tag 중 해당 내용이 있으면 삭제하는 함수\n",
    "def my_drop(keyword):\n",
    "    df1 = pd.read_csv('data/melon_playlist1_230528.csv')\n",
    "    df2 = pd.read_csv('data/melon_playlist2_230528.csv')\n",
    "\n",
    "    p1_index =  df1[df1.tag.str.contains(keyword)].index\n",
    "    p_list = df1[df1.tag.str.contains(keyword)].plylstSeq.values\n",
    "\n",
    "    p2_index = []\n",
    "    for pl in p_list:\n",
    "        p2_index.extend(df2[df2.plylstSeq == pl].index)\n",
    "\n",
    "    df1.drop(df1.index[p1_index], inplace=True)\n",
    "    df2.drop(df2.index[p2_index], inplace=True)\n",
    "\n",
    "    df1.to_csv('data/melon_playlist1_230528.csv', index=False)\n",
    "    df2.to_csv('data/melon_playlist2_230528.csv', index=False)"
   ]
  },
  {
   "cell_type": "code",
   "execution_count": 100,
   "metadata": {},
   "outputs": [],
   "source": [
    "# plylstSeq를 리스트로 주면 해당 행 삭제하는 함수\n",
    "def my_plylstSeq_drop(plylstSeqs):\n",
    "\n",
    "    df1 = pd.read_csv('data/melon_playlist1_230528.csv')\n",
    "    df2 = pd.read_csv('data/melon_playlist2_230528.csv')\n",
    "\n",
    "    indexs1, indexs2 = [], []\n",
    "    for ply in plylstSeqs:\n",
    "        indexs1.extend(df1[df1.plylstSeq == ply].index)\n",
    "        indexs2.extend(df2[df2.plylstSeq == ply].index)\n",
    "    \n",
    "    # print(indexs1)\n",
    "    df1.drop(df1.index[indexs1], inplace=True)\n",
    "    df2.drop(df2.index[indexs2], inplace=True)\n",
    "\n",
    "    df1.to_csv('data/melon_playlist1_230528.csv', index=False)\n",
    "    df2.to_csv('data/melon_playlist2_230528.csv', index=False)"
   ]
  },
  {
   "cell_type": "code",
   "execution_count": 125,
   "metadata": {},
   "outputs": [
    {
     "data": {
      "text/plain": [
       "((2329, 5), (91577, 5))"
      ]
     },
     "execution_count": 125,
     "metadata": {},
     "output_type": "execute_result"
    }
   ],
   "source": [
    "my_drop('오르골')\n",
    "\n",
    "df1 = pd.read_csv('data/melon_playlist1_230528.csv')\n",
    "df2 = pd.read_csv('data/melon_playlist2_230528.csv')\n",
    "df1.shape, df2.shape"
   ]
  },
  {
   "cell_type": "code",
   "execution_count": 101,
   "metadata": {},
   "outputs": [
    {
     "data": {
      "text/plain": [
       "((2333, 5), (96801, 5))"
      ]
     },
     "execution_count": 101,
     "metadata": {},
     "output_type": "execute_result"
    }
   ],
   "source": [
    "plist = [525089728, 525047952, 525016103, 524838949, 524811141, 524526906, 524360761, 523974487, 523973123, 520452659,\n",
    "         499771198, 513991159, 499781959, 515595726, 467207219, 524838949, 523974487, 524526906, 456579419, 459530569, \n",
    "         525047952, 442008464, 433041258, 510953869, 495820050, 483879398, 491821985, 511782719, 523973123, 524908524,\n",
    "         456980325, 452926650, 510733869, 523392418, 519621844, 490363946, 522560774, 470149142, 497609706, 457826264, \n",
    "         457826262, 479652660, 442812883, 512393450, 506802260\n",
    "         ]\n",
    "my_plylstSeq_drop(plist)\n",
    "\n",
    "df1 = pd.read_csv('data/melon_playlist1_230528.csv')\n",
    "df2 = pd.read_csv('data/melon_playlist2_230528.csv')\n",
    "df1.shape, df2.shape"
   ]
  },
  {
   "cell_type": "code",
   "execution_count": 128,
   "metadata": {},
   "outputs": [
    {
     "name": "stdout",
     "output_type": "stream",
     "text": [
      "(677, 5) (30878, 5) 677 677\n"
     ]
    },
    {
     "data": {
      "text/plain": [
       "plylstSeq    0\n",
       "songId       0\n",
       "title        0\n",
       "artist       0\n",
       "img          0\n",
       "dtype: int64"
      ]
     },
     "execution_count": 128,
     "metadata": {},
     "output_type": "execute_result"
    }
   ],
   "source": [
    "df1 = pd.read_csv('data/year_playlist1_230528.csv')\n",
    "df2 = pd.read_csv('data/year_playlist2_230528.csv')\n",
    "print(df1.shape, df2.shape, df1.plylstSeq.nunique(), df2.plylstSeq.nunique())\n",
    "df2.isna().sum()"
   ]
  },
  {
   "cell_type": "code",
   "execution_count": 17,
   "metadata": {},
   "outputs": [
    {
     "data": {
      "text/html": [
       "<div>\n",
       "<style scoped>\n",
       "    .dataframe tbody tr th:only-of-type {\n",
       "        vertical-align: middle;\n",
       "    }\n",
       "\n",
       "    .dataframe tbody tr th {\n",
       "        vertical-align: top;\n",
       "    }\n",
       "\n",
       "    .dataframe thead th {\n",
       "        text-align: right;\n",
       "    }\n",
       "</style>\n",
       "<table border=\"1\" class=\"dataframe\">\n",
       "  <thead>\n",
       "    <tr style=\"text-align: right;\">\n",
       "      <th></th>\n",
       "      <th>plylstSeq</th>\n",
       "      <th>title</th>\n",
       "      <th>tag</th>\n",
       "      <th>like</th>\n",
       "      <th>songIds</th>\n",
       "    </tr>\n",
       "  </thead>\n",
       "  <tbody>\n",
       "    <tr>\n",
       "      <th>161</th>\n",
       "      <td>524837178</td>\n",
       "      <td>여행 가면서 설레임이 느끼는 Playlist</td>\n",
       "      <td>#여행 #신나는 #기분전환 #취향저격 #맑은햇살</td>\n",
       "      <td>33</td>\n",
       "      <td>8172221 36430774 33502105 36448955 33805289 30...</td>\n",
       "    </tr>\n",
       "    <tr>\n",
       "      <th>351</th>\n",
       "      <td>477330467</td>\n",
       "      <td>책 읽을 때 듣기 좋은 잔잔한 음악 (독서,노동요)</td>\n",
       "      <td>#맑은 #커피 #작업 #일상 #뉴에이지 #설렘 #잔잔한 #사무실 #따스한 #지친</td>\n",
       "      <td>1186</td>\n",
       "      <td>30286497 5659305 8077041 7849440 7902343 78508...</td>\n",
       "    </tr>\n",
       "    <tr>\n",
       "      <th>608</th>\n",
       "      <td>523998341</td>\n",
       "      <td>화창한 날씨에 듣기 좋은 통통 튀는 텐션 UP! ᴘʟᴀʏʟɪsᴛ</td>\n",
       "      <td>#텐션업 #맑음 #날씨 #햇살가득 #늦봄 #밴드감성 #신나는 #드라이브</td>\n",
       "      <td>21</td>\n",
       "      <td>31932367 31856953 31856955 30992156 32572928 3...</td>\n",
       "    </tr>\n",
       "    <tr>\n",
       "      <th>1771</th>\n",
       "      <td>479045189</td>\n",
       "      <td>날씨 좋고, 기분 좋을 땐 청량 갑 ROCK!</td>\n",
       "      <td>#록 #청량한 #Rock #하늘 #맑은 #기분전환 #신나는 #기분업</td>\n",
       "      <td>574</td>\n",
       "      <td>36267411 36199948 32870322 35709157 35359354 3...</td>\n",
       "    </tr>\n",
       "    <tr>\n",
       "      <th>1847</th>\n",
       "      <td>495733653</td>\n",
       "      <td>버스창가에 앉아서 듣는 푸르른 여름의 리메이크 명곡</td>\n",
       "      <td>#리메이크 #여름 #설렘 #상쾌 #맑은 #추억 #그때그시절 #산책 #인디 #버스</td>\n",
       "      <td>781</td>\n",
       "      <td>30312053 30531083 32829947 33152871 30646584 3...</td>\n",
       "    </tr>\n",
       "    <tr>\n",
       "      <th>2087</th>\n",
       "      <td>504498114</td>\n",
       "      <td>저절로 행복해지는 편안한 국내노래들:)</td>\n",
       "      <td>#잔잔함 #따뜻 #여유 #기분좋음 #집 #맑은 #차분 #계속업뎃</td>\n",
       "      <td>258</td>\n",
       "      <td>35754329 30895277 3796969 34087224 35821136 35...</td>\n",
       "    </tr>\n",
       "    <tr>\n",
       "      <th>2097</th>\n",
       "      <td>434840656</td>\n",
       "      <td>쉬고싶은날,마음을 달래주는 음악</td>\n",
       "      <td>#휴식 #집중 #자장가 #바람 #여행 #하늘 #맑은 #기분좋은 #뉴에이지 #집</td>\n",
       "      <td>780</td>\n",
       "      <td>7849440 30581474 34102412 5689910 4746428 5542...</td>\n",
       "    </tr>\n",
       "    <tr>\n",
       "      <th>2699</th>\n",
       "      <td>429516891</td>\n",
       "      <td>여행 드라이브 듣기 좋은 밝은 노래</td>\n",
       "      <td>#봄 #맑은 #여행 #드라이브 #감미로운 #산책 #달콤 #두근두근 #달달한 #설렘</td>\n",
       "      <td>2405</td>\n",
       "      <td>32508146 33439096 32014184 32603209 33517367 3...</td>\n",
       "    </tr>\n",
       "    <tr>\n",
       "      <th>3734</th>\n",
       "      <td>464452702</td>\n",
       "      <td>기분UP 스트레스DOWN</td>\n",
       "      <td>#기분전환 #산책 #여행 #청소 #출근 #샤워 #드라이브 #맑음</td>\n",
       "      <td>501</td>\n",
       "      <td>31791317 35485292 36078780 2997927 33585110 32...</td>\n",
       "    </tr>\n",
       "  </tbody>\n",
       "</table>\n",
       "</div>"
      ],
      "text/plain": [
       "      plylstSeq                                title   \n",
       "161   524837178             여행 가면서 설레임이 느끼는 Playlist  \\\n",
       "351   477330467         책 읽을 때 듣기 좋은 잔잔한 음악 (독서,노동요)   \n",
       "608   523998341  화창한 날씨에 듣기 좋은 통통 튀는 텐션 UP! ᴘʟᴀʏʟɪsᴛ   \n",
       "1771  479045189            날씨 좋고, 기분 좋을 땐 청량 갑 ROCK!   \n",
       "1847  495733653         버스창가에 앉아서 듣는 푸르른 여름의 리메이크 명곡   \n",
       "2087  504498114                저절로 행복해지는 편안한 국내노래들:)   \n",
       "2097  434840656                    쉬고싶은날,마음을 달래주는 음악   \n",
       "2699  429516891                  여행 드라이브 듣기 좋은 밝은 노래   \n",
       "3734  464452702                        기분UP 스트레스DOWN   \n",
       "\n",
       "                                                  tag  like   \n",
       "161                       #여행 #신나는 #기분전환 #취향저격 #맑은햇살     33  \\\n",
       "351     #맑은 #커피 #작업 #일상 #뉴에이지 #설렘 #잔잔한 #사무실 #따스한 #지친   1186   \n",
       "608          #텐션업 #맑음 #날씨 #햇살가득 #늦봄 #밴드감성 #신나는 #드라이브     21   \n",
       "1771           #록 #청량한 #Rock #하늘 #맑은 #기분전환 #신나는 #기분업    574   \n",
       "1847    #리메이크 #여름 #설렘 #상쾌 #맑은 #추억 #그때그시절 #산책 #인디 #버스    781   \n",
       "2087             #잔잔함 #따뜻 #여유 #기분좋음 #집 #맑은 #차분 #계속업뎃    258   \n",
       "2097     #휴식 #집중 #자장가 #바람 #여행 #하늘 #맑은 #기분좋은 #뉴에이지 #집    780   \n",
       "2699   #봄 #맑은 #여행 #드라이브 #감미로운 #산책 #달콤 #두근두근 #달달한 #설렘   2405   \n",
       "3734             #기분전환 #산책 #여행 #청소 #출근 #샤워 #드라이브 #맑음    501   \n",
       "\n",
       "                                                songIds  \n",
       "161   8172221 36430774 33502105 36448955 33805289 30...  \n",
       "351   30286497 5659305 8077041 7849440 7902343 78508...  \n",
       "608   31932367 31856953 31856955 30992156 32572928 3...  \n",
       "1771  36267411 36199948 32870322 35709157 35359354 3...  \n",
       "1847  30312053 30531083 32829947 33152871 30646584 3...  \n",
       "2087  35754329 30895277 3796969 34087224 35821136 35...  \n",
       "2097  7849440 30581474 34102412 5689910 4746428 5542...  \n",
       "2699  32508146 33439096 32014184 32603209 33517367 3...  \n",
       "3734  31791317 35485292 36078780 2997927 33585110 32...  "
      ]
     },
     "execution_count": 17,
     "metadata": {},
     "output_type": "execute_result"
    }
   ],
   "source": [
    "# 찾을 내용이 있는지 알아보기\n",
    "df1[df1.tag.str.contains('맑')]"
   ]
  },
  {
   "cell_type": "code",
   "execution_count": 129,
   "metadata": {},
   "outputs": [
    {
     "data": {
      "text/html": [
       "<div>\n",
       "<style scoped>\n",
       "    .dataframe tbody tr th:only-of-type {\n",
       "        vertical-align: middle;\n",
       "    }\n",
       "\n",
       "    .dataframe tbody tr th {\n",
       "        vertical-align: top;\n",
       "    }\n",
       "\n",
       "    .dataframe thead th {\n",
       "        text-align: right;\n",
       "    }\n",
       "</style>\n",
       "<table border=\"1\" class=\"dataframe\">\n",
       "  <thead>\n",
       "    <tr style=\"text-align: right;\">\n",
       "      <th></th>\n",
       "      <th>plylstSeq</th>\n",
       "      <th>songId</th>\n",
       "      <th>title</th>\n",
       "      <th>artist</th>\n",
       "      <th>img</th>\n",
       "    </tr>\n",
       "  </thead>\n",
       "  <tbody>\n",
       "    <tr>\n",
       "      <th>0</th>\n",
       "      <td>419259084</td>\n",
       "      <td>32159598</td>\n",
       "      <td>이혼서류</td>\n",
       "      <td>기리보이</td>\n",
       "      <td>https://cdnimg.melon.co.kr/cm2/album/images/10...</td>\n",
       "    </tr>\n",
       "    <tr>\n",
       "      <th>1</th>\n",
       "      <td>419259084</td>\n",
       "      <td>32479576</td>\n",
       "      <td>GONE (Feat. Paloalto) (Prod. TOIL)</td>\n",
       "      <td>릴러말즈 (Leellamarz), TOIL</td>\n",
       "      <td>https://cdnimg.melon.co.kr/cm2/album/images/10...</td>\n",
       "    </tr>\n",
       "    <tr>\n",
       "      <th>2</th>\n",
       "      <td>419259084</td>\n",
       "      <td>33054789</td>\n",
       "      <td>Apollo 11 (Feat. 박재범)</td>\n",
       "      <td>JAMIE (제이미)</td>\n",
       "      <td>https://cdnimg.melon.co.kr/cm2/album/images/10...</td>\n",
       "    </tr>\n",
       "    <tr>\n",
       "      <th>3</th>\n",
       "      <td>419259084</td>\n",
       "      <td>31700065</td>\n",
       "      <td>Like Me (Prod. Mokyo)</td>\n",
       "      <td>pH-1</td>\n",
       "      <td>https://cdnimg.melon.co.kr/cm/album/images/102...</td>\n",
       "    </tr>\n",
       "    <tr>\n",
       "      <th>4</th>\n",
       "      <td>419259084</td>\n",
       "      <td>33096515</td>\n",
       "      <td>Jam &amp; Butterfly (Feat. Crush, eaJ)</td>\n",
       "      <td>DPR LIVE</td>\n",
       "      <td>https://cdnimg.melon.co.kr/cm2/album/images/10...</td>\n",
       "    </tr>\n",
       "  </tbody>\n",
       "</table>\n",
       "</div>"
      ],
      "text/plain": [
       "   plylstSeq    songId                               title  \\\n",
       "0  419259084  32159598                                이혼서류   \n",
       "1  419259084  32479576  GONE (Feat. Paloalto) (Prod. TOIL)   \n",
       "2  419259084  33054789               Apollo 11 (Feat. 박재범)   \n",
       "3  419259084  31700065               Like Me (Prod. Mokyo)   \n",
       "4  419259084  33096515  Jam & Butterfly (Feat. Crush, eaJ)   \n",
       "\n",
       "                    artist                                                img  \n",
       "0                     기리보이  https://cdnimg.melon.co.kr/cm2/album/images/10...  \n",
       "1  릴러말즈 (Leellamarz), TOIL  https://cdnimg.melon.co.kr/cm2/album/images/10...  \n",
       "2              JAMIE (제이미)  https://cdnimg.melon.co.kr/cm2/album/images/10...  \n",
       "3                     pH-1  https://cdnimg.melon.co.kr/cm/album/images/102...  \n",
       "4                 DPR LIVE  https://cdnimg.melon.co.kr/cm2/album/images/10...  "
      ]
     },
     "execution_count": 129,
     "metadata": {},
     "output_type": "execute_result"
    }
   ],
   "source": [
    "df2.head()"
   ]
  },
  {
   "cell_type": "code",
   "execution_count": 64,
   "metadata": {},
   "outputs": [],
   "source": [
    "# 문장에 한글이 있는지 알아보기\n",
    "import re\n",
    "text = 'SKYLINE Loving You Girl (Feat. Hkeem)'\n",
    "if re.search('[ㄱ-ㅎㅏ-ㅣ가-힣]', text):\n",
    "    print('find 한글')"
   ]
  },
  {
   "cell_type": "code",
   "execution_count": 130,
   "metadata": {},
   "outputs": [
    {
     "name": "stdout",
     "output_type": "stream",
     "text": [
      "101606756, 466034240, "
     ]
    }
   ],
   "source": [
    "# 한글이 있는지 검사해서 없는 plylstSeq 만 추출\n",
    "isHan = 0\n",
    "for ply in df1.plylstSeq.values:\n",
    "    isHan = 0\n",
    "    # df2[df2.plylstSeq == ply][['title', 'artist']]\n",
    "    for ply2 in df2[df2.plylstSeq == ply][['title', 'artist']].values:\n",
    "        # print(' '.join(ply2))\n",
    "        if re.search('[ㄱ-ㅎㅏ-ㅣ가-힣]', ' '.join(ply2)):\n",
    "            isHan = 1\n",
    "            break\n",
    "    if not isHan: print(ply, end=', ')"
   ]
  },
  {
   "attachments": {},
   "cell_type": "markdown",
   "metadata": {},
   "source": [
    "### 플레이 리스트들 합치기"
   ]
  },
  {
   "cell_type": "code",
   "execution_count": 143,
   "metadata": {},
   "outputs": [
    {
     "data": {
      "text/plain": [
       "((2329, 5),\n",
       " (91577, 5),\n",
       " (819, 5),\n",
       " (37742, 5),\n",
       " (677, 5),\n",
       " (30878, 5),\n",
       " (1034, 5),\n",
       " (48424, 5))"
      ]
     },
     "execution_count": 143,
     "metadata": {},
     "output_type": "execute_result"
    }
   ],
   "source": [
    "df_p1 = pd.read_csv('data/melon_playlist1_230528.csv')\n",
    "df_p2 = pd.read_csv('data/melon_playlist2_230528.csv')\n",
    "\n",
    "df_ost_p1 = pd.read_csv('data/ost_playlist1_230528.csv')\n",
    "df_ost_p2 = pd.read_csv('data/ost_playlist2_230528.csv')\n",
    "\n",
    "df_year_p1 = pd.read_csv('data/year_playlist1_230528.csv')\n",
    "df_year_p2 = pd.read_csv('data/year_playlist2_230528.csv')\n",
    "\n",
    "df_genre_p1 = pd.read_csv('data/genre_playlist1_230528.csv')\n",
    "df_genre_p2 = pd.read_csv('data/genre_playlist2_230528.csv')\n",
    "\n",
    "df_p1.shape, df_p2.shape, df_ost_p1.shape, df_ost_p2.shape, df_year_p1.shape, df_year_p2.shape, df_genre_p1.shape, df_genre_p2.shape"
   ]
  },
  {
   "cell_type": "code",
   "execution_count": 148,
   "metadata": {},
   "outputs": [
    {
     "data": {
      "text/plain": [
       "((4859, 5), 3845, (208621, 5), 3845)"
      ]
     },
     "execution_count": 148,
     "metadata": {},
     "output_type": "execute_result"
    }
   ],
   "source": [
    "df1 = pd.concat([df_p1, df_ost_p1, df_year_p1, df_genre_p1])\n",
    "df2 = pd.concat([df_p2, df_ost_p2, df_year_p2, df_genre_p2])\n",
    "df1.shape, df1.plylstSeq.nunique(), df2.shape, df2.plylstSeq.nunique()"
   ]
  },
  {
   "cell_type": "code",
   "execution_count": 149,
   "metadata": {},
   "outputs": [
    {
     "name": "stdout",
     "output_type": "stream",
     "text": [
      "<class 'pandas.core.frame.DataFrame'>\n",
      "Int64Index: 208621 entries, 0 to 48423\n",
      "Data columns (total 5 columns):\n",
      " #   Column     Non-Null Count   Dtype \n",
      "---  ------     --------------   ----- \n",
      " 0   plylstSeq  208621 non-null  int64 \n",
      " 1   songId     208621 non-null  int64 \n",
      " 2   title      208621 non-null  object\n",
      " 3   artist     208621 non-null  object\n",
      " 4   img        208621 non-null  object\n",
      "dtypes: int64(2), object(3)\n",
      "memory usage: 9.5+ MB\n"
     ]
    }
   ],
   "source": [
    "df2.info(0)"
   ]
  },
  {
   "cell_type": "code",
   "execution_count": 150,
   "metadata": {},
   "outputs": [
    {
     "data": {
      "text/plain": [
       "((3845, 5), 3845, (160459, 5), 3845)"
      ]
     },
     "execution_count": 150,
     "metadata": {},
     "output_type": "execute_result"
    }
   ],
   "source": [
    "df1.drop_duplicates(subset=['plylstSeq'], inplace=True)\n",
    "df2.drop_duplicates(subset=['plylstSeq', 'songId'], inplace=True)\n",
    "df1.shape, df1.plylstSeq.nunique(), df2.shape, df2.plylstSeq.nunique()"
   ]
  },
  {
   "cell_type": "code",
   "execution_count": 151,
   "metadata": {},
   "outputs": [
    {
     "data": {
      "text/html": [
       "<div>\n",
       "<style scoped>\n",
       "    .dataframe tbody tr th:only-of-type {\n",
       "        vertical-align: middle;\n",
       "    }\n",
       "\n",
       "    .dataframe tbody tr th {\n",
       "        vertical-align: top;\n",
       "    }\n",
       "\n",
       "    .dataframe thead th {\n",
       "        text-align: right;\n",
       "    }\n",
       "</style>\n",
       "<table border=\"1\" class=\"dataframe\">\n",
       "  <thead>\n",
       "    <tr style=\"text-align: right;\">\n",
       "      <th></th>\n",
       "      <th>plylstSeq</th>\n",
       "      <th>songId</th>\n",
       "      <th>title</th>\n",
       "      <th>artist</th>\n",
       "      <th>img</th>\n",
       "    </tr>\n",
       "  </thead>\n",
       "  <tbody>\n",
       "    <tr>\n",
       "      <th>0</th>\n",
       "      <td>523235480</td>\n",
       "      <td>33213267</td>\n",
       "      <td>Love Song</td>\n",
       "      <td>Why Don't We</td>\n",
       "      <td>https://cdnimg.melon.co.kr/cm2/album/images/10...</td>\n",
       "    </tr>\n",
       "    <tr>\n",
       "      <th>1</th>\n",
       "      <td>523235480</td>\n",
       "      <td>32544401</td>\n",
       "      <td>Ghost In A Flower</td>\n",
       "      <td>Yorushika</td>\n",
       "      <td>https://cdnimg.melon.co.kr/cm2/album/images/10...</td>\n",
       "    </tr>\n",
       "    <tr>\n",
       "      <th>2</th>\n",
       "      <td>523235480</td>\n",
       "      <td>33502105</td>\n",
       "      <td>Every Second</td>\n",
       "      <td>Mina Okabe</td>\n",
       "      <td>https://cdnimg.melon.co.kr/cm2/album/images/10...</td>\n",
       "    </tr>\n",
       "    <tr>\n",
       "      <th>3</th>\n",
       "      <td>523235480</td>\n",
       "      <td>33469725</td>\n",
       "      <td>Loving You Girl (Feat. Hkeem)</td>\n",
       "      <td>Peder Elias</td>\n",
       "      <td>https://cdnimg.melon.co.kr/cm2/album/images/10...</td>\n",
       "    </tr>\n",
       "    <tr>\n",
       "      <th>4</th>\n",
       "      <td>523235480</td>\n",
       "      <td>32464068</td>\n",
       "      <td>SKYLINE</td>\n",
       "      <td>김세정</td>\n",
       "      <td>https://cdnimg.melon.co.kr/cm2/album/images/10...</td>\n",
       "    </tr>\n",
       "  </tbody>\n",
       "</table>\n",
       "</div>"
      ],
      "text/plain": [
       "   plylstSeq    songId                          title        artist  \\\n",
       "0  523235480  33213267                      Love Song  Why Don't We   \n",
       "1  523235480  32544401              Ghost In A Flower     Yorushika   \n",
       "2  523235480  33502105                   Every Second    Mina Okabe   \n",
       "3  523235480  33469725  Loving You Girl (Feat. Hkeem)   Peder Elias   \n",
       "4  523235480  32464068                        SKYLINE           김세정   \n",
       "\n",
       "                                                 img  \n",
       "0  https://cdnimg.melon.co.kr/cm2/album/images/10...  \n",
       "1  https://cdnimg.melon.co.kr/cm2/album/images/10...  \n",
       "2  https://cdnimg.melon.co.kr/cm2/album/images/10...  \n",
       "3  https://cdnimg.melon.co.kr/cm2/album/images/10...  \n",
       "4  https://cdnimg.melon.co.kr/cm2/album/images/10...  "
      ]
     },
     "execution_count": 151,
     "metadata": {},
     "output_type": "execute_result"
    }
   ],
   "source": [
    "df2.head()"
   ]
  },
  {
   "cell_type": "code",
   "execution_count": 152,
   "metadata": {},
   "outputs": [
    {
     "name": "stdout",
     "output_type": "stream",
     "text": [
      "446586218, 421116835, 457897578, 101606756, 466034240, 450629235, 422063596, 100098178, 442537354, 418050902, "
     ]
    }
   ],
   "source": [
    "# 한글이 있는지 검사해서 없는 plylstSeq 만 추출\n",
    "isHan = 0\n",
    "for ply in df1.plylstSeq.values:\n",
    "    isHan = 0\n",
    "    # df2[df2.plylstSeq == ply][['title', 'artist']]\n",
    "    for ply2 in df2[df2.plylstSeq == ply][['title', 'artist']].values:\n",
    "        # print(' '.join(ply2))\n",
    "        if re.search('[ㄱ-ㅎㅏ-ㅣ가-힣]', ' '.join(ply2)):\n",
    "            isHan = 1\n",
    "            break\n",
    "    if not isHan: print(ply, end=', ')"
   ]
  },
  {
   "cell_type": "code",
   "execution_count": null,
   "metadata": {},
   "outputs": [],
   "source": [
    "df1.to_csv('data/melon_playlist1.csv', index=False)\n",
    "df2.to_csv('data/melon_playlist2.csv', index=False)"
   ]
  }
 ],
 "metadata": {
  "kernelspec": {
   "display_name": "base",
   "language": "python",
   "name": "python3"
  },
  "language_info": {
   "codemirror_mode": {
    "name": "ipython",
    "version": 3
   },
   "file_extension": ".py",
   "mimetype": "text/x-python",
   "name": "python",
   "nbconvert_exporter": "python",
   "pygments_lexer": "ipython3",
   "version": "3.9.13"
  },
  "orig_nbformat": 4
 },
 "nbformat": 4,
 "nbformat_minor": 2
}
