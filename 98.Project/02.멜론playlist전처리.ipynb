{
 "cells": [
  {
   "attachments": {},
   "cell_type": "markdown",
   "metadata": {},
   "source": [
    "### PlayList 파일 전처리"
   ]
  },
  {
   "cell_type": "code",
   "execution_count": 34,
   "metadata": {},
   "outputs": [],
   "source": [
    "import numpy as np\n",
    "import pandas as pd"
   ]
  },
  {
   "cell_type": "code",
   "execution_count": 35,
   "metadata": {},
   "outputs": [
    {
     "data": {
      "text/plain": [
       "((1800, 5), (77932, 5))"
      ]
     },
     "execution_count": 35,
     "metadata": {},
     "output_type": "execute_result"
    }
   ],
   "source": [
    "df1 = pd.read_csv('data/playlist1.csv')\n",
    "df2 = pd.read_csv('data/playlist2.csv')\n",
    "df1.shape, df2.shape"
   ]
  },
  {
   "cell_type": "code",
   "execution_count": 36,
   "metadata": {},
   "outputs": [
    {
     "data": {
      "text/html": [
       "<div>\n",
       "<style scoped>\n",
       "    .dataframe tbody tr th:only-of-type {\n",
       "        vertical-align: middle;\n",
       "    }\n",
       "\n",
       "    .dataframe tbody tr th {\n",
       "        vertical-align: top;\n",
       "    }\n",
       "\n",
       "    .dataframe thead th {\n",
       "        text-align: right;\n",
       "    }\n",
       "</style>\n",
       "<table border=\"1\" class=\"dataframe\">\n",
       "  <thead>\n",
       "    <tr style=\"text-align: right;\">\n",
       "      <th></th>\n",
       "      <th>plylstSeq</th>\n",
       "      <th>title</th>\n",
       "      <th>tag</th>\n",
       "      <th>like</th>\n",
       "      <th>songIds</th>\n",
       "    </tr>\n",
       "  </thead>\n",
       "  <tbody>\n",
       "    <tr>\n",
       "      <th>0</th>\n",
       "      <td>516301214</td>\n",
       "      <td>빙글빙글 낭만이 물들어가는, LP판 느낌의 감성팝</td>\n",
       "      <td>#낭만 #감성 #LP #힐링 #휴식 #사랑 #분위기 #가을 #추억 #팝</td>\n",
       "      <td>400</td>\n",
       "      <td>33880688 36359244 36148918 35576427 33664280 3...</td>\n",
       "    </tr>\n",
       "    <tr>\n",
       "      <th>1</th>\n",
       "      <td>523235480</td>\n",
       "      <td>IVE 멤버들의 추천곡들</td>\n",
       "      <td>#IVE #아이브 #이서 #원영 #레이 #유진 #리즈 #가을</td>\n",
       "      <td>676</td>\n",
       "      <td>33213267 32544401 33502105 33469725 32464068 3...</td>\n",
       "    </tr>\n",
       "    <tr>\n",
       "      <th>2</th>\n",
       "      <td>523324194</td>\n",
       "      <td>가을에 듣는 곡들 ༄</td>\n",
       "      <td>#가을 #단풍 #낙엽 #고독 #뉴진스 #아이브 #르세라핌 #NewJeans #IV...</td>\n",
       "      <td>666</td>\n",
       "      <td>354198 5406681 33618864 2425149 4252725 306695...</td>\n",
       "    </tr>\n",
       "    <tr>\n",
       "      <th>3</th>\n",
       "      <td>523237139</td>\n",
       "      <td>2023 2 11 아이브 첫 콘서트</td>\n",
       "      <td>#IVE #아이브 #이서 #원영 #헤이 #유진 #리즈 #가을</td>\n",
       "      <td>682</td>\n",
       "      <td>36356992 36356993 36356994 36356995 36356996 3...</td>\n",
       "    </tr>\n",
       "    <tr>\n",
       "      <th>4</th>\n",
       "      <td>495831954</td>\n",
       "      <td>시끄러운 건 싫지만 신나고 싶은 당신을 위한 데일리 POP (상시업뎃)</td>\n",
       "      <td>#감성 #기분전환 #휴식 #힐링 #신나는 #도입부 #가을 #외출 #산책 #중독성</td>\n",
       "      <td>7118</td>\n",
       "      <td>34041471 36408583 8072233 34572522 36441928 33...</td>\n",
       "    </tr>\n",
       "  </tbody>\n",
       "</table>\n",
       "</div>"
      ],
      "text/plain": [
       "   plylstSeq                                    title   \n",
       "0  516301214              빙글빙글 낭만이 물들어가는, LP판 느낌의 감성팝  \\\n",
       "1  523235480                            IVE 멤버들의 추천곡들   \n",
       "2  523324194                              가을에 듣는 곡들 ༄   \n",
       "3  523237139                      2023 2 11 아이브 첫 콘서트   \n",
       "4  495831954  시끄러운 건 싫지만 신나고 싶은 당신을 위한 데일리 POP (상시업뎃)   \n",
       "\n",
       "                                                 tag  like   \n",
       "0           #낭만 #감성 #LP #힐링 #휴식 #사랑 #분위기 #가을 #추억 #팝    400  \\\n",
       "1                 #IVE #아이브 #이서 #원영 #레이 #유진 #리즈 #가을    676   \n",
       "2   #가을 #단풍 #낙엽 #고독 #뉴진스 #아이브 #르세라핌 #NewJeans #IV...   666   \n",
       "3                 #IVE #아이브 #이서 #원영 #헤이 #유진 #리즈 #가을    682   \n",
       "4      #감성 #기분전환 #휴식 #힐링 #신나는 #도입부 #가을 #외출 #산책 #중독성   7118   \n",
       "\n",
       "                                             songIds  \n",
       "0  33880688 36359244 36148918 35576427 33664280 3...  \n",
       "1  33213267 32544401 33502105 33469725 32464068 3...  \n",
       "2  354198 5406681 33618864 2425149 4252725 306695...  \n",
       "3  36356992 36356993 36356994 36356995 36356996 3...  \n",
       "4  34041471 36408583 8072233 34572522 36441928 33...  "
      ]
     },
     "execution_count": 36,
     "metadata": {},
     "output_type": "execute_result"
    }
   ],
   "source": [
    "df1.head()"
   ]
  },
  {
   "cell_type": "code",
   "execution_count": 37,
   "metadata": {},
   "outputs": [
    {
     "data": {
      "text/plain": [
       "(1108,\n",
       " 0        5\n",
       " 1        5\n",
       " 2        5\n",
       " 3        5\n",
       " 4        5\n",
       "         ..\n",
       " 77927    5\n",
       " 77928    5\n",
       " 77929    5\n",
       " 77930    5\n",
       " 77931    5\n",
       " Length: 77932, dtype: int64)"
      ]
     },
     "execution_count": 37,
     "metadata": {},
     "output_type": "execute_result"
    }
   ],
   "source": [
    "# 중복 데이터 확인\n",
    "df1.plylstSeq.nunique(), df2.nunique(axis=1)"
   ]
  },
  {
   "cell_type": "code",
   "execution_count": 38,
   "metadata": {},
   "outputs": [
    {
     "data": {
      "text/plain": [
       "((1108, 5), (46453, 5))"
      ]
     },
     "execution_count": 38,
     "metadata": {},
     "output_type": "execute_result"
    }
   ],
   "source": [
    "df1.drop_duplicates(subset=['plylstSeq'], inplace=True)\n",
    "df2.drop_duplicates(subset=['plylstSeq', 'songId'], inplace=True)\n",
    "df1.shape, df2.shape"
   ]
  },
  {
   "cell_type": "code",
   "execution_count": 39,
   "metadata": {},
   "outputs": [],
   "source": [
    "df1.set_index('plylstSeq', inplace=True)\n",
    "df1.reset_index(inplace=True)\n",
    "df2.set_index('plylstSeq', inplace=True)\n",
    "df2.reset_index(inplace=True)\n"
   ]
  },
  {
   "cell_type": "code",
   "execution_count": 40,
   "metadata": {},
   "outputs": [
    {
     "data": {
      "text/html": [
       "<div>\n",
       "<style scoped>\n",
       "    .dataframe tbody tr th:only-of-type {\n",
       "        vertical-align: middle;\n",
       "    }\n",
       "\n",
       "    .dataframe tbody tr th {\n",
       "        vertical-align: top;\n",
       "    }\n",
       "\n",
       "    .dataframe thead th {\n",
       "        text-align: right;\n",
       "    }\n",
       "</style>\n",
       "<table border=\"1\" class=\"dataframe\">\n",
       "  <thead>\n",
       "    <tr style=\"text-align: right;\">\n",
       "      <th></th>\n",
       "      <th>plylstSeq</th>\n",
       "      <th>title</th>\n",
       "      <th>tag</th>\n",
       "      <th>like</th>\n",
       "      <th>songIds</th>\n",
       "    </tr>\n",
       "  </thead>\n",
       "  <tbody>\n",
       "    <tr>\n",
       "      <th>1103</th>\n",
       "      <td>452813181</td>\n",
       "      <td>'이게 바로 멋' 파티에서 나를 빛내줄 스타일리시한 Music</td>\n",
       "      <td>#트렌디 #감각적인 #느낌있는 #스타일리시 #연말 #파티 #기분전환 #행복 #스트...</td>\n",
       "      <td>831</td>\n",
       "      <td>31436975 31494044 31666778 32659064 31515795 3...</td>\n",
       "    </tr>\n",
       "    <tr>\n",
       "      <th>1104</th>\n",
       "      <td>425346209</td>\n",
       "      <td>도입부터 느낌있는 스타일리시 음악 vol.5</td>\n",
       "      <td>#감각적인 #기분전환 #스타일리시 #산책 #여행</td>\n",
       "      <td>390</td>\n",
       "      <td>7949183 30041429 30174307 30128349 30155760 80...</td>\n",
       "    </tr>\n",
       "    <tr>\n",
       "      <th>1105</th>\n",
       "      <td>422803168</td>\n",
       "      <td>#가볍게 바운스타기 좋은 음악</td>\n",
       "      <td>#일렉트릭팝 #dance #바운스 #스타일리시 #Pop #Electronic #B...</td>\n",
       "      <td>18</td>\n",
       "      <td>9636473 30011798 30012481 30013068 30013277 30...</td>\n",
       "    </tr>\n",
       "    <tr>\n",
       "      <th>1106</th>\n",
       "      <td>422700542</td>\n",
       "      <td>새벽에 들으면 더 좋은 Pop음악</td>\n",
       "      <td>#새벽에들으면좋은음악 #밤에듣기좋은음악 #기분전환 #감수성자극 #잔잔한음악 #스타...</td>\n",
       "      <td>18</td>\n",
       "      <td>31591574 30995524 5691903 8279427 8279448 5691...</td>\n",
       "    </tr>\n",
       "    <tr>\n",
       "      <th>1107</th>\n",
       "      <td>422599891</td>\n",
       "      <td>쌀쌀해지는 날씨에도, 지켜줘야 할 너의 흥을 위해.</td>\n",
       "      <td>#감각 #스타일리쉬 #SynthPop #funky #disco #흥</td>\n",
       "      <td>224</td>\n",
       "      <td>9634338 4272289 5807741 5467479 8118445 797423...</td>\n",
       "    </tr>\n",
       "  </tbody>\n",
       "</table>\n",
       "</div>"
      ],
      "text/plain": [
       "      plylstSeq                               title   \n",
       "1103  452813181  '이게 바로 멋' 파티에서 나를 빛내줄 스타일리시한 Music  \\\n",
       "1104  425346209            도입부터 느낌있는 스타일리시 음악 vol.5   \n",
       "1105  422803168                    #가볍게 바운스타기 좋은 음악   \n",
       "1106  422700542                  새벽에 들으면 더 좋은 Pop음악   \n",
       "1107  422599891        쌀쌀해지는 날씨에도, 지켜줘야 할 너의 흥을 위해.   \n",
       "\n",
       "                                                    tag  like   \n",
       "1103   #트렌디 #감각적인 #느낌있는 #스타일리시 #연말 #파티 #기분전환 #행복 #스트...   831  \\\n",
       "1104                        #감각적인 #기분전환 #스타일리시 #산책 #여행    390   \n",
       "1105   #일렉트릭팝 #dance #바운스 #스타일리시 #Pop #Electronic #B...    18   \n",
       "1106   #새벽에들으면좋은음악 #밤에듣기좋은음악 #기분전환 #감수성자극 #잔잔한음악 #스타...    18   \n",
       "1107             #감각 #스타일리쉬 #SynthPop #funky #disco #흥    224   \n",
       "\n",
       "                                                songIds  \n",
       "1103  31436975 31494044 31666778 32659064 31515795 3...  \n",
       "1104  7949183 30041429 30174307 30128349 30155760 80...  \n",
       "1105  9636473 30011798 30012481 30013068 30013277 30...  \n",
       "1106  31591574 30995524 5691903 8279427 8279448 5691...  \n",
       "1107  9634338 4272289 5807741 5467479 8118445 797423...  "
      ]
     },
     "execution_count": 40,
     "metadata": {},
     "output_type": "execute_result"
    }
   ],
   "source": [
    "df1.tail()"
   ]
  },
  {
   "cell_type": "code",
   "execution_count": 41,
   "metadata": {},
   "outputs": [
    {
     "data": {
      "text/html": [
       "<div>\n",
       "<style scoped>\n",
       "    .dataframe tbody tr th:only-of-type {\n",
       "        vertical-align: middle;\n",
       "    }\n",
       "\n",
       "    .dataframe tbody tr th {\n",
       "        vertical-align: top;\n",
       "    }\n",
       "\n",
       "    .dataframe thead th {\n",
       "        text-align: right;\n",
       "    }\n",
       "</style>\n",
       "<table border=\"1\" class=\"dataframe\">\n",
       "  <thead>\n",
       "    <tr style=\"text-align: right;\">\n",
       "      <th></th>\n",
       "      <th>plylstSeq</th>\n",
       "      <th>songId</th>\n",
       "      <th>title</th>\n",
       "      <th>artist</th>\n",
       "      <th>img</th>\n",
       "    </tr>\n",
       "  </thead>\n",
       "  <tbody>\n",
       "    <tr>\n",
       "      <th>46448</th>\n",
       "      <td>422599891</td>\n",
       "      <td>5551684</td>\n",
       "      <td>High Tide (Oliver Nelson &amp; Tobtok Remix)</td>\n",
       "      <td>Lemaitre</td>\n",
       "      <td>https://cdnimg.melon.co.kr/cm/album/images/023...</td>\n",
       "    </tr>\n",
       "    <tr>\n",
       "      <th>46449</th>\n",
       "      <td>422599891</td>\n",
       "      <td>4159832</td>\n",
       "      <td>COOL (Lane 8 Remix)</td>\n",
       "      <td>Le Youth</td>\n",
       "      <td>https://cdnimg.melon.co.kr/cm/album/images/021...</td>\n",
       "    </tr>\n",
       "    <tr>\n",
       "      <th>46450</th>\n",
       "      <td>422599891</td>\n",
       "      <td>4095610</td>\n",
       "      <td>Wind Blows (Radio Edit)</td>\n",
       "      <td>Chateau Marmont</td>\n",
       "      <td>https://cdnimg.melon.co.kr/cm/album/images/021...</td>\n",
       "    </tr>\n",
       "    <tr>\n",
       "      <th>46451</th>\n",
       "      <td>422599891</td>\n",
       "      <td>6003233</td>\n",
       "      <td>If It's Not You (Feat. AYER)</td>\n",
       "      <td>Keljet</td>\n",
       "      <td>https://cdnimg.melon.co.kr/cm/album/images/002...</td>\n",
       "    </tr>\n",
       "    <tr>\n",
       "      <th>46452</th>\n",
       "      <td>422599891</td>\n",
       "      <td>7960284</td>\n",
       "      <td>Walk With Me (Feat. Kucka)</td>\n",
       "      <td>Cosmo's Midnight</td>\n",
       "      <td>https://cdnimg.melon.co.kr/cm/album/images/026...</td>\n",
       "    </tr>\n",
       "  </tbody>\n",
       "</table>\n",
       "</div>"
      ],
      "text/plain": [
       "       plylstSeq   songId                                     title   \n",
       "46448  422599891  5551684  High Tide (Oliver Nelson & Tobtok Remix)  \\\n",
       "46449  422599891  4159832                       COOL (Lane 8 Remix)   \n",
       "46450  422599891  4095610                   Wind Blows (Radio Edit)   \n",
       "46451  422599891  6003233              If It's Not You (Feat. AYER)   \n",
       "46452  422599891  7960284                Walk With Me (Feat. Kucka)   \n",
       "\n",
       "                 artist                                                img  \n",
       "46448          Lemaitre  https://cdnimg.melon.co.kr/cm/album/images/023...  \n",
       "46449          Le Youth  https://cdnimg.melon.co.kr/cm/album/images/021...  \n",
       "46450   Chateau Marmont  https://cdnimg.melon.co.kr/cm/album/images/021...  \n",
       "46451            Keljet  https://cdnimg.melon.co.kr/cm/album/images/002...  \n",
       "46452  Cosmo's Midnight  https://cdnimg.melon.co.kr/cm/album/images/026...  "
      ]
     },
     "execution_count": 41,
     "metadata": {},
     "output_type": "execute_result"
    }
   ],
   "source": [
    "df2.tail()"
   ]
  },
  {
   "cell_type": "code",
   "execution_count": 42,
   "metadata": {},
   "outputs": [],
   "source": [
    "df1.to_csv('data/melon_playlist1.csv', encoding='utf-8', index=False)\n",
    "df2.to_csv('data/melon_playlist2.csv', encoding='utf-8', index=False)"
   ]
  },
  {
   "cell_type": "code",
   "execution_count": null,
   "metadata": {},
   "outputs": [],
   "source": []
  }
 ],
 "metadata": {
  "kernelspec": {
   "display_name": "base",
   "language": "python",
   "name": "python3"
  },
  "language_info": {
   "codemirror_mode": {
    "name": "ipython",
    "version": 3
   },
   "file_extension": ".py",
   "mimetype": "text/x-python",
   "name": "python",
   "nbconvert_exporter": "python",
   "pygments_lexer": "ipython3",
   "version": "3.10.10"
  },
  "orig_nbformat": 4
 },
 "nbformat": 4,
 "nbformat_minor": 2
}
