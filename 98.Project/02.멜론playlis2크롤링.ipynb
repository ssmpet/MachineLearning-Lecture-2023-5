{
 "cells": [
  {
   "cell_type": "code",
   "execution_count": 40,
   "metadata": {},
   "outputs": [],
   "source": [
    "import numpy as np\n",
    "import pandas as pd\n",
    "import matplotlib.pyplot as plt\n",
    "\n",
    "import requests\n",
    "from bs4 import BeautifulSoup\n",
    "from selenium import webdriver\n",
    "\n",
    "from selenium.webdriver.common.keys import Keys\n",
    "from selenium.webdriver.common.by import By\n",
    "import time\n",
    "from tqdm import tqdm\n",
    "\n",
    "import warnings\n",
    "warnings.filterwarnings('ignore')\n",
    "\n",
    "driver_pathname = 'C:/Users/sujung/Downloads/chromedriver_win32/chromedriver.exe'\n",
    "# driver_pathname = 'C:/Users/yonsai/Downloads/chromedriver_win32/chromedriver.exe'\n"
   ]
  },
  {
   "cell_type": "code",
   "execution_count": 41,
   "metadata": {},
   "outputs": [
    {
     "name": "stdout",
     "output_type": "stream",
     "text": [
      "(45, 2)\n"
     ]
    },
    {
     "data": {
      "text/html": [
       "<div>\n",
       "<style scoped>\n",
       "    .dataframe tbody tr th:only-of-type {\n",
       "        vertical-align: middle;\n",
       "    }\n",
       "\n",
       "    .dataframe tbody tr th {\n",
       "        vertical-align: top;\n",
       "    }\n",
       "\n",
       "    .dataframe thead th {\n",
       "        text-align: right;\n",
       "    }\n",
       "</style>\n",
       "<table border=\"1\" class=\"dataframe\">\n",
       "  <thead>\n",
       "    <tr style=\"text-align: right;\">\n",
       "      <th></th>\n",
       "      <th>tag_name</th>\n",
       "      <th>id</th>\n",
       "    </tr>\n",
       "  </thead>\n",
       "  <tbody>\n",
       "    <tr>\n",
       "      <th>0</th>\n",
       "      <td>가을</td>\n",
       "      <td>2</td>\n",
       "    </tr>\n",
       "    <tr>\n",
       "      <th>1</th>\n",
       "      <td>기분전환</td>\n",
       "      <td>3</td>\n",
       "    </tr>\n",
       "    <tr>\n",
       "      <th>2</th>\n",
       "      <td>휴식</td>\n",
       "      <td>4</td>\n",
       "    </tr>\n",
       "    <tr>\n",
       "      <th>3</th>\n",
       "      <td>힐링</td>\n",
       "      <td>5</td>\n",
       "    </tr>\n",
       "    <tr>\n",
       "      <th>4</th>\n",
       "      <td>사랑</td>\n",
       "      <td>6</td>\n",
       "    </tr>\n",
       "  </tbody>\n",
       "</table>\n",
       "</div>"
      ],
      "text/plain": [
       "  tag_name  id\n",
       "0       가을   2\n",
       "1     기분전환   3\n",
       "2       휴식   4\n",
       "3       힐링   5\n",
       "4       사랑   6"
      ]
     },
     "execution_count": 41,
     "metadata": {},
     "output_type": "execute_result"
    }
   ],
   "source": [
    "df = pd.read_csv('data/멜론테그번호.CSV', encoding='euc-kr')\n",
    "print(df.shape)\n",
    "df.head()"
   ]
  },
  {
   "cell_type": "code",
   "execution_count": 42,
   "metadata": {},
   "outputs": [],
   "source": [
    "tag_list = df.id.values\n",
    "# 메인 tag URL\n",
    "tag_url1 = 'https://www.melon.com/dj/tag/djtaghub_list.htm?tagSeq='\n",
    "tag_url2 = '#params%5BtagSeq%5D='\n",
    "tag_url3 = '&params%5BorderBy%5D=POP&po=pageObj&startIndex='\n",
    "# PlayList URL\n",
    "playlist_url = 'https://www.melon.com/mymusic/dj/mymusicdjplaylistview_inform.htm?plylstSeq='\n",
    "\n",
    "header = {'User-Agent': 'Mozilla/5.0 (Windows NT 10.0; Win64; x64) AppleWebKit/537.36 (KHTML, like Gecko) Chrome/112.0.0.0 Safari/537.36'}\n",
    "# driver = webdriver.Chrome('C:/Users/yonsai/Downloads/chromedriver_win32/chromedriver.exe')\n",
    "\n"
   ]
  },
  {
   "cell_type": "code",
   "execution_count": 44,
   "metadata": {},
   "outputs": [
    {
     "name": "stderr",
     "output_type": "stream",
     "text": [
      "100%|██████████| 45/45 [3:49:17<00:00, 305.72s/it]  \n"
     ]
    },
    {
     "name": "stdout",
     "output_type": "stream",
     "text": [
      "(90153, 5)\n"
     ]
    }
   ],
   "source": [
    "plist1, plist2 = [], []\n",
    "\n",
    "is_plist = []\n",
    "song_ids = []\n",
    "\n",
    "driver = webdriver.Chrome(driver_pathname)\n",
    "\n",
    "for i in tqdm(tag_list):\n",
    "\n",
    "    \n",
    "    for k in range(1, 182, 20):\n",
    "        try : \n",
    "            driver.get(f'{tag_url1}{i}{tag_url2}{i}{tag_url3}{k}')\n",
    "            time.sleep(2)\n",
    "\n",
    "            soup = BeautifulSoup(driver.page_source, 'html.parser')\n",
    "            lis = soup.select('.service_list_play.d_djcol_list > ul > li > div > a')\n",
    "            plist = [li['href'].split(',')[-1][1:-3] for li in lis]\n",
    "\n",
    "            for pli in plist:\n",
    "\n",
    "                if pli in is_plist:\n",
    "                    continue\n",
    "\n",
    "                is_plist.append(pli)\n",
    "\n",
    "                # print(playlist_url + pli)\n",
    "                driver.get(playlist_url + pli)\n",
    "                time.sleep(1)\n",
    "\n",
    "                soup = BeautifulSoup(driver.page_source, 'html.parser')\n",
    "\n",
    "                # # plist1에 들어갈 요소들\n",
    "                # title = soup.select_one('.ellipsis.song_name').text.strip()\n",
    "                # # print(title)\n",
    "                # tag = soup.select_one('.tag_list.type03').text.replace('\\n', ' ')\n",
    "                # like = int(soup.select_one('.cnt').text.split()[-1].replace(',', '').strip())\n",
    "                \n",
    "                trs = soup.select('.service_list_song.d_song_list > table > tbody > tr' )\n",
    "                # song_ids = []\n",
    "                # plist2에 들어갈 요소들\n",
    "                for tr in trs:\n",
    "                    \n",
    "                    if tr.select_one('.bullet_icons.age_19') :  # 19금 제외\n",
    "                        continue\n",
    "\n",
    "                    img = tr.select_one('img')['src']\n",
    "\n",
    "                    tmp = tr.select_one('.rank01 > span > a')\n",
    "                    s_id = tmp['href'].split(',')[-1][:-2]\n",
    "\n",
    "                    if s_id in song_ids:\n",
    "                        continue\n",
    "\n",
    "                    song_ids.append(s_id)\n",
    "\n",
    "                    s_title = tmp.text.strip()\n",
    "                    s_artist = tr.select_one('.rank02 > span').text\n",
    "                    s_album = tr.select_one('.rank03 > a').text\n",
    "\n",
    "                    plist2.append({'songId': s_id, 'title': s_title, 'artist': s_artist, 'img': img, 'album' : s_album})\n",
    "                    # plist2.append({'plylstSeq': pli, 'songId': s_id, 'title': s_title, 'artist': s_artist, 'img': img})\n",
    "                \n",
    "                # plist1.append({'plylstSeq': pli, 'title': title, 'tag': tag, 'like':like, 'songIds': ' '.join(song_ids)})\n",
    "        except:\n",
    "            continue\n",
    "\n",
    "# df1 = pd.DataFrame(plist1)\n",
    "df2 = pd.DataFrame(plist2)\n",
    "\n",
    "print(df2.shape)\n",
    "\n",
    "driver.close()\n"
   ]
  },
  {
   "cell_type": "code",
   "execution_count": 45,
   "metadata": {},
   "outputs": [],
   "source": [
    "df2.to_csv('data/plist2.csv', index=False)"
   ]
  },
  {
   "cell_type": "code",
   "execution_count": 46,
   "metadata": {},
   "outputs": [
    {
     "name": "stdout",
     "output_type": "stream",
     "text": [
      "<class 'pandas.core.frame.DataFrame'>\n",
      "RangeIndex: 90153 entries, 0 to 90152\n",
      "Data columns (total 5 columns):\n",
      " #   Column  Non-Null Count  Dtype \n",
      "---  ------  --------------  ----- \n",
      " 0   songId  90153 non-null  object\n",
      " 1   title   90153 non-null  object\n",
      " 2   artist  90153 non-null  object\n",
      " 3   img     90153 non-null  object\n",
      " 4   album   90153 non-null  object\n",
      "dtypes: object(5)\n",
      "memory usage: 3.4+ MB\n"
     ]
    }
   ],
   "source": [
    "df2.info()"
   ]
  },
  {
   "cell_type": "code",
   "execution_count": 79,
   "metadata": {},
   "outputs": [],
   "source": [
    "df_song = pd.read_csv('web/static/data/melon_song_v3.csv')\n",
    "df_song.songId = df_song.songId.astype(str)\n",
    "\n",
    "df_old_p2 = pd.read_csv('web/static/data/melon_playlist2_v2.csv')\n",
    "df_old_p2.songId = df.songId.astype(str)"
   ]
  },
  {
   "cell_type": "code",
   "execution_count": 71,
   "metadata": {},
   "outputs": [
    {
     "data": {
      "text/plain": [
       "((60271, 4), (6243, 14))"
      ]
     },
     "execution_count": 71,
     "metadata": {},
     "output_type": "execute_result"
    }
   ],
   "source": [
    "df_old_p2.shape, df_song.shape"
   ]
  },
  {
   "cell_type": "code",
   "execution_count": 76,
   "metadata": {},
   "outputs": [],
   "source": [
    "p2_songIds = df_old_p2.songId.values\n",
    "songIds = df_song.songId.values"
   ]
  },
  {
   "cell_type": "code",
   "execution_count": 77,
   "metadata": {},
   "outputs": [
    {
     "data": {
      "text/html": [
       "<div>\n",
       "<style scoped>\n",
       "    .dataframe tbody tr th:only-of-type {\n",
       "        vertical-align: middle;\n",
       "    }\n",
       "\n",
       "    .dataframe tbody tr th {\n",
       "        vertical-align: top;\n",
       "    }\n",
       "\n",
       "    .dataframe thead th {\n",
       "        text-align: right;\n",
       "    }\n",
       "</style>\n",
       "<table border=\"1\" class=\"dataframe\">\n",
       "  <thead>\n",
       "    <tr style=\"text-align: right;\">\n",
       "      <th></th>\n",
       "      <th>songId</th>\n",
       "      <th>title</th>\n",
       "      <th>artist</th>\n",
       "      <th>img</th>\n",
       "      <th>album</th>\n",
       "    </tr>\n",
       "  </thead>\n",
       "  <tbody>\n",
       "    <tr>\n",
       "      <th>0</th>\n",
       "      <td>33213267</td>\n",
       "      <td>Love Song</td>\n",
       "      <td>Why Don't We</td>\n",
       "      <td>https://cdnimg.melon.co.kr/cm2/album/images/10...</td>\n",
       "      <td>The Good Times and The Bad Ones</td>\n",
       "    </tr>\n",
       "    <tr>\n",
       "      <th>1</th>\n",
       "      <td>32544401</td>\n",
       "      <td>Ghost In A Flower</td>\n",
       "      <td>Yorushika</td>\n",
       "      <td>https://cdnimg.melon.co.kr/cm2/album/images/10...</td>\n",
       "      <td>Ghost In A Flower</td>\n",
       "    </tr>\n",
       "    <tr>\n",
       "      <th>2</th>\n",
       "      <td>33502105</td>\n",
       "      <td>Every Second</td>\n",
       "      <td>Mina Okabe</td>\n",
       "      <td>https://cdnimg.melon.co.kr/cm2/album/images/10...</td>\n",
       "      <td>Every Second</td>\n",
       "    </tr>\n",
       "    <tr>\n",
       "      <th>3</th>\n",
       "      <td>33469725</td>\n",
       "      <td>Loving You Girl (Feat. Hkeem)</td>\n",
       "      <td>Peder Elias</td>\n",
       "      <td>https://cdnimg.melon.co.kr/cm2/album/images/10...</td>\n",
       "      <td>Love &amp; Loneliness</td>\n",
       "    </tr>\n",
       "    <tr>\n",
       "      <th>4</th>\n",
       "      <td>32464068</td>\n",
       "      <td>SKYLINE</td>\n",
       "      <td>김세정</td>\n",
       "      <td>https://cdnimg.melon.co.kr/cm2/album/images/10...</td>\n",
       "      <td>화분</td>\n",
       "    </tr>\n",
       "    <tr>\n",
       "      <th>...</th>\n",
       "      <td>...</td>\n",
       "      <td>...</td>\n",
       "      <td>...</td>\n",
       "      <td>...</td>\n",
       "      <td>...</td>\n",
       "    </tr>\n",
       "    <tr>\n",
       "      <th>90025</th>\n",
       "      <td>2127822</td>\n",
       "      <td>1517</td>\n",
       "      <td>The Whitest Boy Alive</td>\n",
       "      <td>https://cdnimg.melon.co.kr/cm/album/images/005...</td>\n",
       "      <td>Rules</td>\n",
       "    </tr>\n",
       "    <tr>\n",
       "      <th>90063</th>\n",
       "      <td>30499843</td>\n",
       "      <td>Like A Woman</td>\n",
       "      <td>Kacy Hill</td>\n",
       "      <td>https://cdnimg.melon.co.kr/cm/album/images/100...</td>\n",
       "      <td>Like A Woman</td>\n",
       "    </tr>\n",
       "    <tr>\n",
       "      <th>90114</th>\n",
       "      <td>508723</td>\n",
       "      <td>Battle Without Honor Or Humanity</td>\n",
       "      <td>Hotei Tomoyasu</td>\n",
       "      <td>https://cdnimg.melon.co.kr/cm/album/images/000...</td>\n",
       "      <td>Kill Bill Vol. 1 Original Soundtrack (PA Version)</td>\n",
       "    </tr>\n",
       "    <tr>\n",
       "      <th>90116</th>\n",
       "      <td>4200466</td>\n",
       "      <td>Beautiful People</td>\n",
       "      <td>Sam Ock</td>\n",
       "      <td>https://cdnimg.melon.co.kr/cm/album/images/021...</td>\n",
       "      <td>Simple Steps (Deluxe Edition)</td>\n",
       "    </tr>\n",
       "    <tr>\n",
       "      <th>90124</th>\n",
       "      <td>3847506</td>\n",
       "      <td>Choop Choop</td>\n",
       "      <td>DAVINK (다빈크)</td>\n",
       "      <td>https://cdnimg.melon.co.kr/cm/album/images/021...</td>\n",
       "      <td>The Departure Lounge</td>\n",
       "    </tr>\n",
       "  </tbody>\n",
       "</table>\n",
       "<p>34539 rows × 5 columns</p>\n",
       "</div>"
      ],
      "text/plain": [
       "         songId                             title                 artist  \\\n",
       "0      33213267                         Love Song           Why Don't We   \n",
       "1      32544401                 Ghost In A Flower              Yorushika   \n",
       "2      33502105                      Every Second             Mina Okabe   \n",
       "3      33469725     Loving You Girl (Feat. Hkeem)            Peder Elias   \n",
       "4      32464068                           SKYLINE                    김세정   \n",
       "...         ...                               ...                    ...   \n",
       "90025   2127822                              1517  The Whitest Boy Alive   \n",
       "90063  30499843                      Like A Woman              Kacy Hill   \n",
       "90114    508723  Battle Without Honor Or Humanity         Hotei Tomoyasu   \n",
       "90116   4200466                  Beautiful People                Sam Ock   \n",
       "90124   3847506                       Choop Choop           DAVINK (다빈크)   \n",
       "\n",
       "                                                     img  \\\n",
       "0      https://cdnimg.melon.co.kr/cm2/album/images/10...   \n",
       "1      https://cdnimg.melon.co.kr/cm2/album/images/10...   \n",
       "2      https://cdnimg.melon.co.kr/cm2/album/images/10...   \n",
       "3      https://cdnimg.melon.co.kr/cm2/album/images/10...   \n",
       "4      https://cdnimg.melon.co.kr/cm2/album/images/10...   \n",
       "...                                                  ...   \n",
       "90025  https://cdnimg.melon.co.kr/cm/album/images/005...   \n",
       "90063  https://cdnimg.melon.co.kr/cm/album/images/100...   \n",
       "90114  https://cdnimg.melon.co.kr/cm/album/images/000...   \n",
       "90116  https://cdnimg.melon.co.kr/cm/album/images/021...   \n",
       "90124  https://cdnimg.melon.co.kr/cm/album/images/021...   \n",
       "\n",
       "                                                   album  \n",
       "0                        The Good Times and The Bad Ones  \n",
       "1                                      Ghost In A Flower  \n",
       "2                                           Every Second  \n",
       "3                                      Love & Loneliness  \n",
       "4                                                     화분  \n",
       "...                                                  ...  \n",
       "90025                                              Rules  \n",
       "90063                                       Like A Woman  \n",
       "90114  Kill Bill Vol. 1 Original Soundtrack (PA Version)  \n",
       "90116                      Simple Steps (Deluxe Edition)  \n",
       "90124                               The Departure Lounge  \n",
       "\n",
       "[34539 rows x 5 columns]"
      ]
     },
     "execution_count": 77,
     "metadata": {},
     "output_type": "execute_result"
    }
   ],
   "source": [
    "df2[df2.songId.isin(p2_songIds)]"
   ]
  },
  {
   "cell_type": "code",
   "execution_count": 74,
   "metadata": {},
   "outputs": [
    {
     "data": {
      "text/html": [
       "<div>\n",
       "<style scoped>\n",
       "    .dataframe tbody tr th:only-of-type {\n",
       "        vertical-align: middle;\n",
       "    }\n",
       "\n",
       "    .dataframe tbody tr th {\n",
       "        vertical-align: top;\n",
       "    }\n",
       "\n",
       "    .dataframe thead th {\n",
       "        text-align: right;\n",
       "    }\n",
       "</style>\n",
       "<table border=\"1\" class=\"dataframe\">\n",
       "  <thead>\n",
       "    <tr style=\"text-align: right;\">\n",
       "      <th></th>\n",
       "      <th>songId</th>\n",
       "      <th>title</th>\n",
       "      <th>artist</th>\n",
       "      <th>img</th>\n",
       "      <th>album</th>\n",
       "    </tr>\n",
       "  </thead>\n",
       "  <tbody>\n",
       "    <tr>\n",
       "      <th>17</th>\n",
       "      <td>35745727</td>\n",
       "      <td>Love Song</td>\n",
       "      <td>원슈타인, 조이 (JOY)</td>\n",
       "      <td>https://cdnimg.melon.co.kr/cm2/album/images/11...</td>\n",
       "      <td>World Peace Project Vol.2</td>\n",
       "    </tr>\n",
       "    <tr>\n",
       "      <th>26</th>\n",
       "      <td>35018129</td>\n",
       "      <td>Vancouver</td>\n",
       "      <td>BIG Naughty (서동현)</td>\n",
       "      <td>https://cdnimg.melon.co.kr/cm2/album/images/10...</td>\n",
       "      <td>Lovey Dovey</td>\n",
       "    </tr>\n",
       "    <tr>\n",
       "      <th>28</th>\n",
       "      <td>35337708</td>\n",
       "      <td>Alone (Feat. 이하이)</td>\n",
       "      <td>쿠기 (Coogie)</td>\n",
       "      <td>https://cdnimg.melon.co.kr/cm2/album/images/10...</td>\n",
       "      <td>ALONE</td>\n",
       "    </tr>\n",
       "    <tr>\n",
       "      <th>36</th>\n",
       "      <td>4583488</td>\n",
       "      <td>작은별</td>\n",
       "      <td>AKMU (악뮤)</td>\n",
       "      <td>https://cdnimg.melon.co.kr/cm/album/images/022...</td>\n",
       "      <td>PLAY</td>\n",
       "    </tr>\n",
       "    <tr>\n",
       "      <th>37</th>\n",
       "      <td>34927767</td>\n",
       "      <td>정이라고 하자 (Feat. 10CM)</td>\n",
       "      <td>BIG Naughty (서동현)</td>\n",
       "      <td>https://cdnimg.melon.co.kr/cm2/album/images/10...</td>\n",
       "      <td>정이라고 하자</td>\n",
       "    </tr>\n",
       "    <tr>\n",
       "      <th>...</th>\n",
       "      <td>...</td>\n",
       "      <td>...</td>\n",
       "      <td>...</td>\n",
       "      <td>...</td>\n",
       "      <td>...</td>\n",
       "    </tr>\n",
       "    <tr>\n",
       "      <th>86384</th>\n",
       "      <td>31286161</td>\n",
       "      <td>사이렌 (Siren)</td>\n",
       "      <td>선미</td>\n",
       "      <td>https://cdnimg.melon.co.kr/cm/album/images/102...</td>\n",
       "      <td>WARNING</td>\n",
       "    </tr>\n",
       "    <tr>\n",
       "      <th>86967</th>\n",
       "      <td>1611502</td>\n",
       "      <td>Returns</td>\n",
       "      <td>엠씨더맥스 (M.C the MAX)</td>\n",
       "      <td>https://cdnimg.melon.co.kr/cm/album/images/003...</td>\n",
       "      <td>Returns</td>\n",
       "    </tr>\n",
       "    <tr>\n",
       "      <th>87241</th>\n",
       "      <td>3573175</td>\n",
       "      <td>연애시대 (Feat. Ra.D) (Narr. 한효주)</td>\n",
       "      <td>이승기</td>\n",
       "      <td>https://cdnimg.melon.co.kr/cm/album/images/020...</td>\n",
       "      <td>연애시대</td>\n",
       "    </tr>\n",
       "    <tr>\n",
       "      <th>87242</th>\n",
       "      <td>3488750</td>\n",
       "      <td>Hate You</td>\n",
       "      <td>2NE1</td>\n",
       "      <td>https://cdnimg.melon.co.kr/cm/album/images/013...</td>\n",
       "      <td>2NE1 2nd Mini Album</td>\n",
       "    </tr>\n",
       "    <tr>\n",
       "      <th>88242</th>\n",
       "      <td>35879552</td>\n",
       "      <td>영웅</td>\n",
       "      <td>정성화</td>\n",
       "      <td>https://cdnimg.melon.co.kr/cm2/album/images/11...</td>\n",
       "      <td>영웅</td>\n",
       "    </tr>\n",
       "  </tbody>\n",
       "</table>\n",
       "<p>4572 rows × 5 columns</p>\n",
       "</div>"
      ],
      "text/plain": [
       "         songId                          title               artist  \\\n",
       "17     35745727                      Love Song       원슈타인, 조이 (JOY)   \n",
       "26     35018129                      Vancouver    BIG Naughty (서동현)   \n",
       "28     35337708              Alone (Feat. 이하이)          쿠기 (Coogie)   \n",
       "36      4583488                            작은별            AKMU (악뮤)   \n",
       "37     34927767           정이라고 하자 (Feat. 10CM)    BIG Naughty (서동현)   \n",
       "...         ...                            ...                  ...   \n",
       "86384  31286161                    사이렌 (Siren)                   선미   \n",
       "86967   1611502                        Returns  엠씨더맥스 (M.C the MAX)   \n",
       "87241   3573175  연애시대 (Feat. Ra.D) (Narr. 한효주)                  이승기   \n",
       "87242   3488750                       Hate You                 2NE1   \n",
       "88242  35879552                             영웅                  정성화   \n",
       "\n",
       "                                                     img  \\\n",
       "17     https://cdnimg.melon.co.kr/cm2/album/images/11...   \n",
       "26     https://cdnimg.melon.co.kr/cm2/album/images/10...   \n",
       "28     https://cdnimg.melon.co.kr/cm2/album/images/10...   \n",
       "36     https://cdnimg.melon.co.kr/cm/album/images/022...   \n",
       "37     https://cdnimg.melon.co.kr/cm2/album/images/10...   \n",
       "...                                                  ...   \n",
       "86384  https://cdnimg.melon.co.kr/cm/album/images/102...   \n",
       "86967  https://cdnimg.melon.co.kr/cm/album/images/003...   \n",
       "87241  https://cdnimg.melon.co.kr/cm/album/images/020...   \n",
       "87242  https://cdnimg.melon.co.kr/cm/album/images/013...   \n",
       "88242  https://cdnimg.melon.co.kr/cm2/album/images/11...   \n",
       "\n",
       "                           album  \n",
       "17     World Peace Project Vol.2  \n",
       "26                   Lovey Dovey  \n",
       "28                         ALONE  \n",
       "36                          PLAY  \n",
       "37                       정이라고 하자  \n",
       "...                          ...  \n",
       "86384                    WARNING  \n",
       "86967                    Returns  \n",
       "87241                       연애시대  \n",
       "87242        2NE1 2nd Mini Album  \n",
       "88242                         영웅  \n",
       "\n",
       "[4572 rows x 5 columns]"
      ]
     },
     "execution_count": 74,
     "metadata": {},
     "output_type": "execute_result"
    }
   ],
   "source": [
    "df2[df2.songId.isin(songIds)]"
   ]
  },
  {
   "cell_type": "code",
   "execution_count": 75,
   "metadata": {},
   "outputs": [
    {
     "data": {
      "text/html": [
       "<div>\n",
       "<style scoped>\n",
       "    .dataframe tbody tr th:only-of-type {\n",
       "        vertical-align: middle;\n",
       "    }\n",
       "\n",
       "    .dataframe tbody tr th {\n",
       "        vertical-align: top;\n",
       "    }\n",
       "\n",
       "    .dataframe thead th {\n",
       "        text-align: right;\n",
       "    }\n",
       "</style>\n",
       "<table border=\"1\" class=\"dataframe\">\n",
       "  <thead>\n",
       "    <tr style=\"text-align: right;\">\n",
       "      <th></th>\n",
       "      <th>songId</th>\n",
       "      <th>title</th>\n",
       "      <th>artist</th>\n",
       "      <th>img</th>\n",
       "    </tr>\n",
       "  </thead>\n",
       "  <tbody>\n",
       "    <tr>\n",
       "      <th>23</th>\n",
       "      <td>35018129</td>\n",
       "      <td>Vancouver</td>\n",
       "      <td>BIG Naughty (서동현)</td>\n",
       "      <td>https://cdnimg.melon.co.kr/cm2/album/images/10...</td>\n",
       "    </tr>\n",
       "    <tr>\n",
       "      <th>25</th>\n",
       "      <td>35337708</td>\n",
       "      <td>Alone (Feat. 이하이)</td>\n",
       "      <td>쿠기 (Coogie)</td>\n",
       "      <td>https://cdnimg.melon.co.kr/cm2/album/images/10...</td>\n",
       "    </tr>\n",
       "    <tr>\n",
       "      <th>33</th>\n",
       "      <td>4583488</td>\n",
       "      <td>작은별</td>\n",
       "      <td>AKMU (악뮤)</td>\n",
       "      <td>https://cdnimg.melon.co.kr/cm/album/images/022...</td>\n",
       "    </tr>\n",
       "    <tr>\n",
       "      <th>34</th>\n",
       "      <td>34927767</td>\n",
       "      <td>정이라고 하자 (Feat. 10CM)</td>\n",
       "      <td>BIG Naughty (서동현)</td>\n",
       "      <td>https://cdnimg.melon.co.kr/cm2/album/images/10...</td>\n",
       "    </tr>\n",
       "    <tr>\n",
       "      <th>40</th>\n",
       "      <td>31674790</td>\n",
       "      <td>지켜줄게</td>\n",
       "      <td>백예린 (Yerin Baek)</td>\n",
       "      <td>https://cdnimg.melon.co.kr/cm/album/images/102...</td>\n",
       "    </tr>\n",
       "    <tr>\n",
       "      <th>...</th>\n",
       "      <td>...</td>\n",
       "      <td>...</td>\n",
       "      <td>...</td>\n",
       "      <td>...</td>\n",
       "    </tr>\n",
       "    <tr>\n",
       "      <th>59087</th>\n",
       "      <td>35702661</td>\n",
       "      <td>다시 사랑한다면(풍락)</td>\n",
       "      <td>풍락</td>\n",
       "      <td>https://cdnimg.melon.co.kr/cm2/album/images/11...</td>\n",
       "    </tr>\n",
       "    <tr>\n",
       "      <th>59262</th>\n",
       "      <td>33234463</td>\n",
       "      <td>걷고 싶다</td>\n",
       "      <td>임영웅</td>\n",
       "      <td>https://cdnimg.melon.co.kr/cm2/album/images/10...</td>\n",
       "    </tr>\n",
       "    <tr>\n",
       "      <th>59833</th>\n",
       "      <td>36335569</td>\n",
       "      <td>좆됐다 좆됐어</td>\n",
       "      <td>천진우</td>\n",
       "      <td>https://cdnimg.melon.co.kr/cm2/album/images/11...</td>\n",
       "    </tr>\n",
       "    <tr>\n",
       "      <th>59966</th>\n",
       "      <td>34183979</td>\n",
       "      <td>인생 한잔</td>\n",
       "      <td>정은지</td>\n",
       "      <td>https://cdnimg.melon.co.kr/cm2/album/images/10...</td>\n",
       "    </tr>\n",
       "    <tr>\n",
       "      <th>60165</th>\n",
       "      <td>31131275</td>\n",
       "      <td>Really</td>\n",
       "      <td>BLACKPINK</td>\n",
       "      <td>https://cdnimg.melon.co.kr/cm/album/images/101...</td>\n",
       "    </tr>\n",
       "  </tbody>\n",
       "</table>\n",
       "<p>5943 rows × 4 columns</p>\n",
       "</div>"
      ],
      "text/plain": [
       "         songId                 title             artist  \\\n",
       "23     35018129             Vancouver  BIG Naughty (서동현)   \n",
       "25     35337708     Alone (Feat. 이하이)        쿠기 (Coogie)   \n",
       "33      4583488                   작은별          AKMU (악뮤)   \n",
       "34     34927767  정이라고 하자 (Feat. 10CM)  BIG Naughty (서동현)   \n",
       "40     31674790                  지켜줄게   백예린 (Yerin Baek)   \n",
       "...         ...                   ...                ...   \n",
       "59087  35702661          다시 사랑한다면(풍락)                 풍락   \n",
       "59262  33234463                 걷고 싶다                임영웅   \n",
       "59833  36335569               좆됐다 좆됐어                천진우   \n",
       "59966  34183979                 인생 한잔                정은지   \n",
       "60165  31131275                Really          BLACKPINK   \n",
       "\n",
       "                                                     img  \n",
       "23     https://cdnimg.melon.co.kr/cm2/album/images/10...  \n",
       "25     https://cdnimg.melon.co.kr/cm2/album/images/10...  \n",
       "33     https://cdnimg.melon.co.kr/cm/album/images/022...  \n",
       "34     https://cdnimg.melon.co.kr/cm2/album/images/10...  \n",
       "40     https://cdnimg.melon.co.kr/cm/album/images/102...  \n",
       "...                                                  ...  \n",
       "59087  https://cdnimg.melon.co.kr/cm2/album/images/11...  \n",
       "59262  https://cdnimg.melon.co.kr/cm2/album/images/10...  \n",
       "59833  https://cdnimg.melon.co.kr/cm2/album/images/11...  \n",
       "59966  https://cdnimg.melon.co.kr/cm2/album/images/10...  \n",
       "60165  https://cdnimg.melon.co.kr/cm/album/images/101...  \n",
       "\n",
       "[5943 rows x 4 columns]"
      ]
     },
     "execution_count": 75,
     "metadata": {},
     "output_type": "execute_result"
    }
   ],
   "source": [
    "df[df.songId.isin(songIds)]"
   ]
  },
  {
   "cell_type": "code",
   "execution_count": 80,
   "metadata": {},
   "outputs": [],
   "source": [
    "df_new = df2\n",
    "is_songIds = df_new.songId.values"
   ]
  },
  {
   "cell_type": "code",
   "execution_count": 82,
   "metadata": {},
   "outputs": [
    {
     "data": {
      "text/plain": [
       "(60271, 4)"
      ]
     },
     "execution_count": 82,
     "metadata": {},
     "output_type": "execute_result"
    }
   ],
   "source": [
    "df_old_p2.shape"
   ]
  },
  {
   "cell_type": "code",
   "execution_count": 86,
   "metadata": {},
   "outputs": [],
   "source": [
    "# 새로받은(is_songIds)가 플레이 리스트2에 들어 있는 songId\n",
    "# 이것들을 제외한 songId 의 앨범 정보를 받는다.\n",
    "is_old_songIds = df_old_p2[df_old_p2.songId.isin(is_songIds)].songId.values"
   ]
  },
  {
   "cell_type": "code",
   "execution_count": 89,
   "metadata": {},
   "outputs": [
    {
     "name": "stdout",
     "output_type": "stream",
     "text": [
      "<class 'pandas.core.frame.DataFrame'>\n",
      "RangeIndex: 3845 entries, 0 to 3844\n",
      "Data columns (total 5 columns):\n",
      " #   Column     Non-Null Count  Dtype \n",
      "---  ------     --------------  ----- \n",
      " 0   plylstSeq  3845 non-null   object\n",
      " 1   title      3845 non-null   object\n",
      " 2   tag        3845 non-null   object\n",
      " 3   like       3845 non-null   int64 \n",
      " 4   songIds    3845 non-null   object\n",
      "dtypes: int64(1), object(4)\n",
      "memory usage: 150.3+ KB\n"
     ]
    }
   ],
   "source": [
    "df_plist1 = pd.read_csv('web/static/data/melon_playlist1.csv')\n",
    "df_plist1.plylstSeq = df_plist1.plylstSeq.astype(str)\n",
    "df_plist1.info()"
   ]
  },
  {
   "cell_type": "code",
   "execution_count": 93,
   "metadata": {},
   "outputs": [
    {
     "name": "stderr",
     "output_type": "stream",
     "text": [
      "100%|██████████| 3845/3845 [2:35:32<00:00,  2.43s/it]  \n"
     ]
    },
    {
     "name": "stdout",
     "output_type": "stream",
     "text": [
      "(26027, 5)\n"
     ]
    }
   ],
   "source": [
    "\n",
    "is_plist = []\n",
    "song_ids = list(is_old_songIds)\n",
    "plist2_new = []\n",
    "\n",
    "driver = webdriver.Chrome(driver_pathname)\n",
    "\n",
    "for pli in tqdm(df_plist1.plylstSeq.values):\n",
    "\n",
    "    if pli in is_plist:\n",
    "        continue\n",
    "\n",
    "    is_plist.append(pli)\n",
    "\n",
    "    # print(playlist_url + pli)\n",
    "    driver.get(playlist_url + pli)\n",
    "    time.sleep(1)\n",
    "\n",
    "    try:\n",
    "        soup = BeautifulSoup(driver.page_source, 'html.parser')\n",
    "    except:\n",
    "        continue\n",
    "\n",
    "    # # plist1에 들어갈 요소들\n",
    "    # title = soup.select_one('.ellipsis.song_name').text.strip()\n",
    "    # # print(title)\n",
    "    # tag = soup.select_one('.tag_list.type03').text.replace('\\n', ' ')\n",
    "    # like = int(soup.select_one('.cnt').text.split()[-1].replace(',', '').strip())\n",
    "    \n",
    "    try:\n",
    "        trs = soup.select('.service_list_song.d_song_list > table > tbody > tr' )\n",
    "    except:\n",
    "        continue\n",
    "\n",
    "    # song_ids = []\n",
    "    # plist2에 들어갈 요소들\n",
    "    for tr in trs:\n",
    "        \n",
    "        if tr.select_one('.bullet_icons.age_19') :  # 19금 제외\n",
    "            continue\n",
    "\n",
    "        img = tr.select_one('img')['src']\n",
    "\n",
    "        tmp = tr.select_one('.rank01 > span > a')\n",
    "        s_id = tmp['href'].split(',')[-1][:-2]\n",
    "\n",
    "        if s_id in song_ids:\n",
    "            continue\n",
    "\n",
    "        song_ids.append(s_id)\n",
    "\n",
    "        s_title = tmp.text.strip()\n",
    "        s_artist = tr.select_one('.rank02 > span').text\n",
    "        s_album = tr.select_one('.rank03 > a').text\n",
    "\n",
    "        plist2_new.append({'songId': s_id, 'title': s_title, 'artist': s_artist, 'img': img, 'album' : s_album})\n",
    "\n",
    "\n",
    "df_plist2_new = pd.DataFrame(plist2_new)\n",
    "\n",
    "\n",
    "print(df_plist2_new.shape)\n",
    "\n",
    "driver.close()"
   ]
  },
  {
   "cell_type": "code",
   "execution_count": 94,
   "metadata": {},
   "outputs": [],
   "source": [
    "df_plist2_new.to_csv('data/plist2_new.csv', index=False)"
   ]
  },
  {
   "cell_type": "code",
   "execution_count": 95,
   "metadata": {},
   "outputs": [
    {
     "name": "stdout",
     "output_type": "stream",
     "text": [
      "(116180, 5)\n"
     ]
    },
    {
     "data": {
      "text/plain": [
       "(116180, 5)"
      ]
     },
     "execution_count": 95,
     "metadata": {},
     "output_type": "execute_result"
    }
   ],
   "source": [
    "df_plist2 = pd.concat([df_new, df_plist2_new])\n",
    "print(df_plist2.shape)\n",
    "df_plist2.shape\n"
   ]
  },
  {
   "cell_type": "code",
   "execution_count": 98,
   "metadata": {},
   "outputs": [
    {
     "data": {
      "text/plain": [
       "115551"
      ]
     },
     "execution_count": 98,
     "metadata": {},
     "output_type": "execute_result"
    }
   ],
   "source": [
    "df_plist2.songId.nunique()"
   ]
  },
  {
   "cell_type": "code",
   "execution_count": 99,
   "metadata": {},
   "outputs": [
    {
     "data": {
      "text/plain": [
       "((115551, 5), 115551)"
      ]
     },
     "execution_count": 99,
     "metadata": {},
     "output_type": "execute_result"
    }
   ],
   "source": [
    "df_plist2.drop_duplicates(subset=['songId'], inplace=True)\n",
    "df_plist2.shape, df_plist2.songId.nunique()"
   ]
  },
  {
   "cell_type": "code",
   "execution_count": 102,
   "metadata": {},
   "outputs": [],
   "source": [
    "df_old_p2\n",
    "p2_songIds = df_old_p2.songId.values"
   ]
  },
  {
   "cell_type": "code",
   "execution_count": 104,
   "metadata": {},
   "outputs": [
    {
     "name": "stdout",
     "output_type": "stream",
     "text": [
      "<class 'pandas.core.frame.DataFrame'>\n",
      "Int64Index: 115551 entries, 0 to 26026\n",
      "Data columns (total 5 columns):\n",
      " #   Column  Non-Null Count   Dtype \n",
      "---  ------  --------------   ----- \n",
      " 0   songId  115551 non-null  object\n",
      " 1   title   115551 non-null  object\n",
      " 2   artist  115551 non-null  object\n",
      " 3   img     115551 non-null  object\n",
      " 4   album   115551 non-null  object\n",
      "dtypes: object(5)\n",
      "memory usage: 5.3+ MB\n"
     ]
    }
   ],
   "source": [
    "df_plist2.info()"
   ]
  },
  {
   "cell_type": "code",
   "execution_count": 106,
   "metadata": {},
   "outputs": [
    {
     "data": {
      "text/plain": [
       "(60271, 4)"
      ]
     },
     "execution_count": 106,
     "metadata": {},
     "output_type": "execute_result"
    }
   ],
   "source": [
    "df_old_p2.shape"
   ]
  },
  {
   "cell_type": "code",
   "execution_count": 105,
   "metadata": {},
   "outputs": [
    {
     "data": {
      "text/html": [
       "<div>\n",
       "<style scoped>\n",
       "    .dataframe tbody tr th:only-of-type {\n",
       "        vertical-align: middle;\n",
       "    }\n",
       "\n",
       "    .dataframe tbody tr th {\n",
       "        vertical-align: top;\n",
       "    }\n",
       "\n",
       "    .dataframe thead th {\n",
       "        text-align: right;\n",
       "    }\n",
       "</style>\n",
       "<table border=\"1\" class=\"dataframe\">\n",
       "  <thead>\n",
       "    <tr style=\"text-align: right;\">\n",
       "      <th></th>\n",
       "      <th>songId</th>\n",
       "      <th>title</th>\n",
       "      <th>artist</th>\n",
       "      <th>img</th>\n",
       "      <th>album</th>\n",
       "    </tr>\n",
       "  </thead>\n",
       "  <tbody>\n",
       "    <tr>\n",
       "      <th>0</th>\n",
       "      <td>33213267</td>\n",
       "      <td>Love Song</td>\n",
       "      <td>Why Don't We</td>\n",
       "      <td>https://cdnimg.melon.co.kr/cm2/album/images/10...</td>\n",
       "      <td>The Good Times and The Bad Ones</td>\n",
       "    </tr>\n",
       "    <tr>\n",
       "      <th>1</th>\n",
       "      <td>32544401</td>\n",
       "      <td>Ghost In A Flower</td>\n",
       "      <td>Yorushika</td>\n",
       "      <td>https://cdnimg.melon.co.kr/cm2/album/images/10...</td>\n",
       "      <td>Ghost In A Flower</td>\n",
       "    </tr>\n",
       "    <tr>\n",
       "      <th>2</th>\n",
       "      <td>33502105</td>\n",
       "      <td>Every Second</td>\n",
       "      <td>Mina Okabe</td>\n",
       "      <td>https://cdnimg.melon.co.kr/cm2/album/images/10...</td>\n",
       "      <td>Every Second</td>\n",
       "    </tr>\n",
       "    <tr>\n",
       "      <th>3</th>\n",
       "      <td>33469725</td>\n",
       "      <td>Loving You Girl (Feat. Hkeem)</td>\n",
       "      <td>Peder Elias</td>\n",
       "      <td>https://cdnimg.melon.co.kr/cm2/album/images/10...</td>\n",
       "      <td>Love &amp; Loneliness</td>\n",
       "    </tr>\n",
       "    <tr>\n",
       "      <th>4</th>\n",
       "      <td>32464068</td>\n",
       "      <td>SKYLINE</td>\n",
       "      <td>김세정</td>\n",
       "      <td>https://cdnimg.melon.co.kr/cm2/album/images/10...</td>\n",
       "      <td>화분</td>\n",
       "    </tr>\n",
       "    <tr>\n",
       "      <th>...</th>\n",
       "      <td>...</td>\n",
       "      <td>...</td>\n",
       "      <td>...</td>\n",
       "      <td>...</td>\n",
       "      <td>...</td>\n",
       "    </tr>\n",
       "    <tr>\n",
       "      <th>26022</th>\n",
       "      <td>33651584</td>\n",
       "      <td>Let Me In (20 CUBE) [Japanese Ver.]</td>\n",
       "      <td>ENHYPEN</td>\n",
       "      <td>https://cdnimg.melon.co.kr/cm2/album/images/10...</td>\n",
       "      <td>BORDER : Hakanai</td>\n",
       "    </tr>\n",
       "    <tr>\n",
       "      <th>26023</th>\n",
       "      <td>33651585</td>\n",
       "      <td>Forget Me Not</td>\n",
       "      <td>ENHYPEN</td>\n",
       "      <td>https://cdnimg.melon.co.kr/cm2/album/images/10...</td>\n",
       "      <td>BORDER : Hakanai</td>\n",
       "    </tr>\n",
       "    <tr>\n",
       "      <th>26024</th>\n",
       "      <td>32038887</td>\n",
       "      <td>Indigo Night (Feat. Xydo)</td>\n",
       "      <td>Wasp</td>\n",
       "      <td>https://cdnimg.melon.co.kr/cm2/album/images/10...</td>\n",
       "      <td>Sunshine Wave</td>\n",
       "    </tr>\n",
       "    <tr>\n",
       "      <th>26025</th>\n",
       "      <td>31859093</td>\n",
       "      <td>TRIP</td>\n",
       "      <td>City Nature</td>\n",
       "      <td>https://cdnimg.melon.co.kr/cm/album/images/102...</td>\n",
       "      <td>TRIP</td>\n",
       "    </tr>\n",
       "    <tr>\n",
       "      <th>26026</th>\n",
       "      <td>31923727</td>\n",
       "      <td>쓰담쓰담</td>\n",
       "      <td>MINO (송민호), P.O (피오), 규현 (KYUHYUN)</td>\n",
       "      <td>https://cdnimg.melon.co.kr/cm/album/images/103...</td>\n",
       "      <td>강식당3</td>\n",
       "    </tr>\n",
       "  </tbody>\n",
       "</table>\n",
       "<p>59722 rows × 5 columns</p>\n",
       "</div>"
      ],
      "text/plain": [
       "         songId                                title  \\\n",
       "0      33213267                            Love Song   \n",
       "1      32544401                    Ghost In A Flower   \n",
       "2      33502105                         Every Second   \n",
       "3      33469725        Loving You Girl (Feat. Hkeem)   \n",
       "4      32464068                              SKYLINE   \n",
       "...         ...                                  ...   \n",
       "26022  33651584  Let Me In (20 CUBE) [Japanese Ver.]   \n",
       "26023  33651585                        Forget Me Not   \n",
       "26024  32038887            Indigo Night (Feat. Xydo)   \n",
       "26025  31859093                                 TRIP   \n",
       "26026  31923727                                 쓰담쓰담   \n",
       "\n",
       "                                   artist  \\\n",
       "0                            Why Don't We   \n",
       "1                               Yorushika   \n",
       "2                              Mina Okabe   \n",
       "3                             Peder Elias   \n",
       "4                                     김세정   \n",
       "...                                   ...   \n",
       "26022                             ENHYPEN   \n",
       "26023                             ENHYPEN   \n",
       "26024                                Wasp   \n",
       "26025                         City Nature   \n",
       "26026  MINO (송민호), P.O (피오), 규현 (KYUHYUN)   \n",
       "\n",
       "                                                     img  \\\n",
       "0      https://cdnimg.melon.co.kr/cm2/album/images/10...   \n",
       "1      https://cdnimg.melon.co.kr/cm2/album/images/10...   \n",
       "2      https://cdnimg.melon.co.kr/cm2/album/images/10...   \n",
       "3      https://cdnimg.melon.co.kr/cm2/album/images/10...   \n",
       "4      https://cdnimg.melon.co.kr/cm2/album/images/10...   \n",
       "...                                                  ...   \n",
       "26022  https://cdnimg.melon.co.kr/cm2/album/images/10...   \n",
       "26023  https://cdnimg.melon.co.kr/cm2/album/images/10...   \n",
       "26024  https://cdnimg.melon.co.kr/cm2/album/images/10...   \n",
       "26025  https://cdnimg.melon.co.kr/cm/album/images/102...   \n",
       "26026  https://cdnimg.melon.co.kr/cm/album/images/103...   \n",
       "\n",
       "                                 album  \n",
       "0      The Good Times and The Bad Ones  \n",
       "1                    Ghost In A Flower  \n",
       "2                         Every Second  \n",
       "3                    Love & Loneliness  \n",
       "4                                   화분  \n",
       "...                                ...  \n",
       "26022                 BORDER : Hakanai  \n",
       "26023                 BORDER : Hakanai  \n",
       "26024                    Sunshine Wave  \n",
       "26025                             TRIP  \n",
       "26026                             강식당3  \n",
       "\n",
       "[59722 rows x 5 columns]"
      ]
     },
     "execution_count": 105,
     "metadata": {},
     "output_type": "execute_result"
    }
   ],
   "source": [
    "df_plist2[df_plist2.songId.isin(p2_songIds)]"
   ]
  },
  {
   "cell_type": "code",
   "execution_count": 108,
   "metadata": {},
   "outputs": [
    {
     "data": {
      "text/html": [
       "<div>\n",
       "<style scoped>\n",
       "    .dataframe tbody tr th:only-of-type {\n",
       "        vertical-align: middle;\n",
       "    }\n",
       "\n",
       "    .dataframe tbody tr th {\n",
       "        vertical-align: top;\n",
       "    }\n",
       "\n",
       "    .dataframe thead th {\n",
       "        text-align: right;\n",
       "    }\n",
       "</style>\n",
       "<table border=\"1\" class=\"dataframe\">\n",
       "  <thead>\n",
       "    <tr style=\"text-align: right;\">\n",
       "      <th></th>\n",
       "      <th>songId</th>\n",
       "      <th>title</th>\n",
       "      <th>artist</th>\n",
       "      <th>img</th>\n",
       "    </tr>\n",
       "  </thead>\n",
       "  <tbody>\n",
       "    <tr>\n",
       "      <th>4006</th>\n",
       "      <td>34774983</td>\n",
       "      <td>Winnin'</td>\n",
       "      <td>링크 (Link)</td>\n",
       "      <td>https://cdnimg.melon.co.kr/cm2/album/images/10...</td>\n",
       "    </tr>\n",
       "    <tr>\n",
       "      <th>4476</th>\n",
       "      <td>36461318</td>\n",
       "      <td>그런 말은 쉽게 하는 게 아냐</td>\n",
       "      <td>유리(YURI), MC 스나이퍼</td>\n",
       "      <td>https://cdnimg.melon.co.kr/cm2/album/images/11...</td>\n",
       "    </tr>\n",
       "    <tr>\n",
       "      <th>4550</th>\n",
       "      <td>36243335</td>\n",
       "      <td>귀여운 질투</td>\n",
       "      <td>신민용</td>\n",
       "      <td>https://cdnimg.melon.co.kr/cm2/album/images/11...</td>\n",
       "    </tr>\n",
       "    <tr>\n",
       "      <th>4564</th>\n",
       "      <td>30517895</td>\n",
       "      <td>한걸음 더 가까이</td>\n",
       "      <td>Various Artists</td>\n",
       "      <td>https://cdnimg.melon.co.kr/cm/album/images/100...</td>\n",
       "    </tr>\n",
       "    <tr>\n",
       "      <th>4567</th>\n",
       "      <td>30154697</td>\n",
       "      <td>Chrysler Bldg.</td>\n",
       "      <td>Thomas Newman</td>\n",
       "      <td>https://cdnimg.melon.co.kr/cm/album/images/100...</td>\n",
       "    </tr>\n",
       "    <tr>\n",
       "      <th>...</th>\n",
       "      <td>...</td>\n",
       "      <td>...</td>\n",
       "      <td>...</td>\n",
       "      <td>...</td>\n",
       "    </tr>\n",
       "    <tr>\n",
       "      <th>60078</th>\n",
       "      <td>36468772</td>\n",
       "      <td>그럼에도 불구하고</td>\n",
       "      <td>알레프 (ALEPH), Mingginyu (밍기뉴)</td>\n",
       "      <td>https://cdnimg.melon.co.kr/cm2/album/images/11...</td>\n",
       "    </tr>\n",
       "    <tr>\n",
       "      <th>60083</th>\n",
       "      <td>36465429</td>\n",
       "      <td>순간</td>\n",
       "      <td>정훈</td>\n",
       "      <td>https://cdnimg.melon.co.kr/cm2/album/images/11...</td>\n",
       "    </tr>\n",
       "    <tr>\n",
       "      <th>60084</th>\n",
       "      <td>36467720</td>\n",
       "      <td>인아, 종현 그리고 우리</td>\n",
       "      <td>인아</td>\n",
       "      <td>https://cdnimg.melon.co.kr/cm2/album/images/11...</td>\n",
       "    </tr>\n",
       "    <tr>\n",
       "      <th>60087</th>\n",
       "      <td>36467803</td>\n",
       "      <td>너의 별</td>\n",
       "      <td>윤예담</td>\n",
       "      <td>https://cdnimg.melon.co.kr/cm2/album/images/11...</td>\n",
       "    </tr>\n",
       "    <tr>\n",
       "      <th>60212</th>\n",
       "      <td>33437610</td>\n",
       "      <td>Intro : The Invitation</td>\n",
       "      <td>ENHYPEN</td>\n",
       "      <td>https://cdnimg.melon.co.kr/cm2/album/images/10...</td>\n",
       "    </tr>\n",
       "  </tbody>\n",
       "</table>\n",
       "<p>549 rows × 4 columns</p>\n",
       "</div>"
      ],
      "text/plain": [
       "         songId                   title                        artist  \\\n",
       "4006   34774983                 Winnin'                     링크 (Link)   \n",
       "4476   36461318        그런 말은 쉽게 하는 게 아냐             유리(YURI), MC 스나이퍼   \n",
       "4550   36243335                  귀여운 질투                           신민용   \n",
       "4564   30517895               한걸음 더 가까이               Various Artists   \n",
       "4567   30154697          Chrysler Bldg.                 Thomas Newman   \n",
       "...         ...                     ...                           ...   \n",
       "60078  36468772               그럼에도 불구하고  알레프 (ALEPH), Mingginyu (밍기뉴)   \n",
       "60083  36465429                      순간                            정훈   \n",
       "60084  36467720           인아, 종현 그리고 우리                            인아   \n",
       "60087  36467803                    너의 별                           윤예담   \n",
       "60212  33437610  Intro : The Invitation                       ENHYPEN   \n",
       "\n",
       "                                                     img  \n",
       "4006   https://cdnimg.melon.co.kr/cm2/album/images/10...  \n",
       "4476   https://cdnimg.melon.co.kr/cm2/album/images/11...  \n",
       "4550   https://cdnimg.melon.co.kr/cm2/album/images/11...  \n",
       "4564   https://cdnimg.melon.co.kr/cm/album/images/100...  \n",
       "4567   https://cdnimg.melon.co.kr/cm/album/images/100...  \n",
       "...                                                  ...  \n",
       "60078  https://cdnimg.melon.co.kr/cm2/album/images/11...  \n",
       "60083  https://cdnimg.melon.co.kr/cm2/album/images/11...  \n",
       "60084  https://cdnimg.melon.co.kr/cm2/album/images/11...  \n",
       "60087  https://cdnimg.melon.co.kr/cm2/album/images/11...  \n",
       "60212  https://cdnimg.melon.co.kr/cm2/album/images/10...  \n",
       "\n",
       "[549 rows x 4 columns]"
      ]
     },
     "execution_count": 108,
     "metadata": {},
     "output_type": "execute_result"
    }
   ],
   "source": [
    "df_old_p2[~df_old_p2.songId.isin(df_plist2.songId.values)]"
   ]
  },
  {
   "cell_type": "code",
   "execution_count": 109,
   "metadata": {},
   "outputs": [
    {
     "name": "stdout",
     "output_type": "stream",
     "text": [
      "(116180, 5)\n",
      "(115551, 5)\n"
     ]
    }
   ],
   "source": [
    "plist1 = pd.read_csv('data/plist2.csv')\n",
    "plist2 = pd.read_csv('data/plist2_new.csv')\n",
    "plist = pd.concat([plist1, plist2])\n",
    "print(plist.shape)\n",
    "plist.drop_duplicates(subset=['songId'], inplace=True)\n",
    "print(plist.shape)\n"
   ]
  },
  {
   "cell_type": "code",
   "execution_count": 110,
   "metadata": {},
   "outputs": [],
   "source": [
    "plist.to_csv('data/plist2_total.csv', index=False)"
   ]
  },
  {
   "attachments": {},
   "cell_type": "markdown",
   "metadata": {},
   "source": [
    "### 여기서 부터"
   ]
  },
  {
   "cell_type": "code",
   "execution_count": 149,
   "metadata": {},
   "outputs": [],
   "source": [
    "plist2 = pd.read_csv('web/static/data/melon_playlist2_v2.csv')\n",
    "plist2_new = pd.read_csv('data/plist2_total.csv')"
   ]
  },
  {
   "cell_type": "code",
   "execution_count": 140,
   "metadata": {},
   "outputs": [
    {
     "data": {
      "text/plain": [
       "((60271, 4), (115551, 5))"
      ]
     },
     "execution_count": 140,
     "metadata": {},
     "output_type": "execute_result"
    }
   ],
   "source": [
    "plist2.shape, plist2_new.shape"
   ]
  },
  {
   "cell_type": "code",
   "execution_count": 141,
   "metadata": {},
   "outputs": [
    {
     "data": {
      "text/html": [
       "<div>\n",
       "<style scoped>\n",
       "    .dataframe tbody tr th:only-of-type {\n",
       "        vertical-align: middle;\n",
       "    }\n",
       "\n",
       "    .dataframe tbody tr th {\n",
       "        vertical-align: top;\n",
       "    }\n",
       "\n",
       "    .dataframe thead th {\n",
       "        text-align: right;\n",
       "    }\n",
       "</style>\n",
       "<table border=\"1\" class=\"dataframe\">\n",
       "  <thead>\n",
       "    <tr style=\"text-align: right;\">\n",
       "      <th></th>\n",
       "      <th>songId</th>\n",
       "      <th>title</th>\n",
       "      <th>artist</th>\n",
       "      <th>img</th>\n",
       "      <th>album</th>\n",
       "    </tr>\n",
       "  </thead>\n",
       "  <tbody>\n",
       "    <tr>\n",
       "      <th>0</th>\n",
       "      <td>33213267</td>\n",
       "      <td>Love Song</td>\n",
       "      <td>Why Don't We</td>\n",
       "      <td>https://cdnimg.melon.co.kr/cm2/album/images/10...</td>\n",
       "      <td>The Good Times and The Bad Ones</td>\n",
       "    </tr>\n",
       "  </tbody>\n",
       "</table>\n",
       "</div>"
      ],
      "text/plain": [
       "     songId      title        artist  \\\n",
       "0  33213267  Love Song  Why Don't We   \n",
       "\n",
       "                                                 img  \\\n",
       "0  https://cdnimg.melon.co.kr/cm2/album/images/10...   \n",
       "\n",
       "                             album  \n",
       "0  The Good Times and The Bad Ones  "
      ]
     },
     "execution_count": 141,
     "metadata": {},
     "output_type": "execute_result"
    }
   ],
   "source": [
    "plist2_new.head(1)"
   ]
  },
  {
   "cell_type": "code",
   "execution_count": 142,
   "metadata": {},
   "outputs": [
    {
     "data": {
      "text/html": [
       "<div>\n",
       "<style scoped>\n",
       "    .dataframe tbody tr th:only-of-type {\n",
       "        vertical-align: middle;\n",
       "    }\n",
       "\n",
       "    .dataframe tbody tr th {\n",
       "        vertical-align: top;\n",
       "    }\n",
       "\n",
       "    .dataframe thead th {\n",
       "        text-align: right;\n",
       "    }\n",
       "</style>\n",
       "<table border=\"1\" class=\"dataframe\">\n",
       "  <thead>\n",
       "    <tr style=\"text-align: right;\">\n",
       "      <th></th>\n",
       "      <th>songId</th>\n",
       "      <th>title</th>\n",
       "      <th>artist</th>\n",
       "      <th>img</th>\n",
       "    </tr>\n",
       "  </thead>\n",
       "  <tbody>\n",
       "    <tr>\n",
       "      <th>0</th>\n",
       "      <td>33213267</td>\n",
       "      <td>Love Song</td>\n",
       "      <td>Why Don't We</td>\n",
       "      <td>https://cdnimg.melon.co.kr/cm2/album/images/10...</td>\n",
       "    </tr>\n",
       "  </tbody>\n",
       "</table>\n",
       "</div>"
      ],
      "text/plain": [
       "     songId      title        artist  \\\n",
       "0  33213267  Love Song  Why Don't We   \n",
       "\n",
       "                                                 img  \n",
       "0  https://cdnimg.melon.co.kr/cm2/album/images/10...  "
      ]
     },
     "execution_count": 142,
     "metadata": {},
     "output_type": "execute_result"
    }
   ],
   "source": [
    "plist2.head(1)"
   ]
  },
  {
   "cell_type": "code",
   "execution_count": 143,
   "metadata": {},
   "outputs": [],
   "source": [
    "df2 = pd.merge(plist2, plist2_new[['songId', 'album']], how='left', on='songId')"
   ]
  },
  {
   "cell_type": "code",
   "execution_count": 144,
   "metadata": {},
   "outputs": [
    {
     "data": {
      "text/plain": [
       "60271"
      ]
     },
     "execution_count": 144,
     "metadata": {},
     "output_type": "execute_result"
    }
   ],
   "source": [
    "df2.songId.nunique()"
   ]
  },
  {
   "cell_type": "code",
   "execution_count": 145,
   "metadata": {},
   "outputs": [
    {
     "data": {
      "text/html": [
       "<div>\n",
       "<style scoped>\n",
       "    .dataframe tbody tr th:only-of-type {\n",
       "        vertical-align: middle;\n",
       "    }\n",
       "\n",
       "    .dataframe tbody tr th {\n",
       "        vertical-align: top;\n",
       "    }\n",
       "\n",
       "    .dataframe thead th {\n",
       "        text-align: right;\n",
       "    }\n",
       "</style>\n",
       "<table border=\"1\" class=\"dataframe\">\n",
       "  <thead>\n",
       "    <tr style=\"text-align: right;\">\n",
       "      <th></th>\n",
       "      <th>songId</th>\n",
       "      <th>title</th>\n",
       "      <th>artist</th>\n",
       "      <th>img</th>\n",
       "      <th>album</th>\n",
       "    </tr>\n",
       "  </thead>\n",
       "  <tbody>\n",
       "    <tr>\n",
       "      <th>0</th>\n",
       "      <td>33213267</td>\n",
       "      <td>Love Song</td>\n",
       "      <td>Why Don't We</td>\n",
       "      <td>https://cdnimg.melon.co.kr/cm2/album/images/10...</td>\n",
       "      <td>The Good Times and The Bad Ones</td>\n",
       "    </tr>\n",
       "    <tr>\n",
       "      <th>1</th>\n",
       "      <td>32544401</td>\n",
       "      <td>Ghost In A Flower</td>\n",
       "      <td>Yorushika</td>\n",
       "      <td>https://cdnimg.melon.co.kr/cm2/album/images/10...</td>\n",
       "      <td>Ghost In A Flower</td>\n",
       "    </tr>\n",
       "    <tr>\n",
       "      <th>2</th>\n",
       "      <td>33502105</td>\n",
       "      <td>Every Second</td>\n",
       "      <td>Mina Okabe</td>\n",
       "      <td>https://cdnimg.melon.co.kr/cm2/album/images/10...</td>\n",
       "      <td>Every Second</td>\n",
       "    </tr>\n",
       "    <tr>\n",
       "      <th>3</th>\n",
       "      <td>33469725</td>\n",
       "      <td>Loving You Girl (Feat. Hkeem)</td>\n",
       "      <td>Peder Elias</td>\n",
       "      <td>https://cdnimg.melon.co.kr/cm2/album/images/10...</td>\n",
       "      <td>Love &amp; Loneliness</td>\n",
       "    </tr>\n",
       "    <tr>\n",
       "      <th>4</th>\n",
       "      <td>32464068</td>\n",
       "      <td>SKYLINE</td>\n",
       "      <td>김세정</td>\n",
       "      <td>https://cdnimg.melon.co.kr/cm2/album/images/10...</td>\n",
       "      <td>화분</td>\n",
       "    </tr>\n",
       "  </tbody>\n",
       "</table>\n",
       "</div>"
      ],
      "text/plain": [
       "     songId                          title        artist  \\\n",
       "0  33213267                      Love Song  Why Don't We   \n",
       "1  32544401              Ghost In A Flower     Yorushika   \n",
       "2  33502105                   Every Second    Mina Okabe   \n",
       "3  33469725  Loving You Girl (Feat. Hkeem)   Peder Elias   \n",
       "4  32464068                        SKYLINE           김세정   \n",
       "\n",
       "                                                 img  \\\n",
       "0  https://cdnimg.melon.co.kr/cm2/album/images/10...   \n",
       "1  https://cdnimg.melon.co.kr/cm2/album/images/10...   \n",
       "2  https://cdnimg.melon.co.kr/cm2/album/images/10...   \n",
       "3  https://cdnimg.melon.co.kr/cm2/album/images/10...   \n",
       "4  https://cdnimg.melon.co.kr/cm2/album/images/10...   \n",
       "\n",
       "                             album  \n",
       "0  The Good Times and The Bad Ones  \n",
       "1                Ghost In A Flower  \n",
       "2                     Every Second  \n",
       "3                Love & Loneliness  \n",
       "4                               화분  "
      ]
     },
     "execution_count": 145,
     "metadata": {},
     "output_type": "execute_result"
    }
   ],
   "source": [
    "df2.head()"
   ]
  },
  {
   "cell_type": "code",
   "execution_count": 132,
   "metadata": {},
   "outputs": [],
   "source": [
    "songIds = df[df.album.isna()].songId.values"
   ]
  },
  {
   "cell_type": "code",
   "execution_count": 133,
   "metadata": {},
   "outputs": [
    {
     "data": {
      "text/plain": [
       "551"
      ]
     },
     "execution_count": 133,
     "metadata": {},
     "output_type": "execute_result"
    }
   ],
   "source": [
    "len(songIds)"
   ]
  },
  {
   "attachments": {},
   "cell_type": "markdown",
   "metadata": {},
   "source": [
    "### 앨범 없는 곡들 가져오기"
   ]
  },
  {
   "cell_type": "code",
   "execution_count": 137,
   "metadata": {},
   "outputs": [
    {
     "name": "stderr",
     "output_type": "stream",
     "text": [
      "100%|██████████| 551/551 [25:32<00:00,  2.78s/it]\n"
     ]
    },
    {
     "data": {
      "text/plain": [
       "(544, 5)"
      ]
     },
     "execution_count": 137,
     "metadata": {},
     "output_type": "execute_result"
    }
   ],
   "source": [
    "driver = webdriver.Chrome(driver_pathname)\n",
    "\n",
    "infos = []\n",
    "for songId in tqdm(songIds):\n",
    "    song_url = f'https://www.melon.com/song/detail.htm?songId={songId}'\n",
    "    try:\n",
    "        # print(song_url)\n",
    "\n",
    "        driver.get(song_url)\n",
    "        time.sleep(2)\n",
    "\n",
    "        soup = BeautifulSoup(driver.page_source, 'html.parser')\n",
    "\n",
    "        info = soup.select_one('#conts')\n",
    "\n",
    "        title = info.select_one('.song_name').get_text().strip().split('\\t')[-1]\n",
    "        artist = info.select_one('.artist_name').get_text()\n",
    "        album = info.select_one('.list > dd').get_text()\n",
    "        img = info.select_one('.image_typeAll > img')['src']\n",
    "        # print(songId, title, artist, img, album)\n",
    "        infos.append({'songId': songId, 'title': title, 'artist': artist, 'img': img, 'album': album })\n",
    "\n",
    "    except:\n",
    "        continue\n",
    "\n",
    "driver.close()\n",
    "\n",
    "df = pd.DataFrame(infos)\n",
    "df.shape"
   ]
  },
  {
   "cell_type": "code",
   "execution_count": 138,
   "metadata": {},
   "outputs": [],
   "source": [
    "df.to_csv('data/plist2_other.csv', index=False)"
   ]
  },
  {
   "cell_type": "code",
   "execution_count": 146,
   "metadata": {},
   "outputs": [
    {
     "data": {
      "text/html": [
       "<div>\n",
       "<style scoped>\n",
       "    .dataframe tbody tr th:only-of-type {\n",
       "        vertical-align: middle;\n",
       "    }\n",
       "\n",
       "    .dataframe tbody tr th {\n",
       "        vertical-align: top;\n",
       "    }\n",
       "\n",
       "    .dataframe thead th {\n",
       "        text-align: right;\n",
       "    }\n",
       "</style>\n",
       "<table border=\"1\" class=\"dataframe\">\n",
       "  <thead>\n",
       "    <tr style=\"text-align: right;\">\n",
       "      <th></th>\n",
       "      <th>songId</th>\n",
       "      <th>title</th>\n",
       "      <th>artist</th>\n",
       "      <th>img</th>\n",
       "      <th>album</th>\n",
       "    </tr>\n",
       "  </thead>\n",
       "  <tbody>\n",
       "    <tr>\n",
       "      <th>0</th>\n",
       "      <td>34774983</td>\n",
       "      <td>Winnin'</td>\n",
       "      <td>링크 (Link)</td>\n",
       "      <td>https://cdnimg.melon.co.kr/cm2/album/images/10...</td>\n",
       "      <td>NONSTOP</td>\n",
       "    </tr>\n",
       "    <tr>\n",
       "      <th>1</th>\n",
       "      <td>36461318</td>\n",
       "      <td>그런 말은 쉽게 하는 게 아냐</td>\n",
       "      <td>유리(YURI)</td>\n",
       "      <td>https://cdnimg.melon.co.kr/cm2/album/images/11...</td>\n",
       "      <td>그런 말은 쉽게 하는 게 아냐</td>\n",
       "    </tr>\n",
       "    <tr>\n",
       "      <th>2</th>\n",
       "      <td>36243335</td>\n",
       "      <td>귀여운 질투</td>\n",
       "      <td>신민용</td>\n",
       "      <td>https://cdnimg.melon.co.kr/cm2/album/images/11...</td>\n",
       "      <td>일타 스캔들 OST</td>\n",
       "    </tr>\n",
       "    <tr>\n",
       "      <th>3</th>\n",
       "      <td>30517895</td>\n",
       "      <td>한걸음 더 가까이</td>\n",
       "      <td>남혜승</td>\n",
       "      <td>https://cdnimg.melon.co.kr/cm/album/images/100...</td>\n",
       "      <td>수상한 파트너 OST</td>\n",
       "    </tr>\n",
       "    <tr>\n",
       "      <th>4</th>\n",
       "      <td>30154697</td>\n",
       "      <td>Chrysler Bldg.</td>\n",
       "      <td>Thomas Newman</td>\n",
       "      <td>https://cdnimg.melon.co.kr/cm/album/images/100...</td>\n",
       "      <td>패신저스 OST</td>\n",
       "    </tr>\n",
       "    <tr>\n",
       "      <th>...</th>\n",
       "      <td>...</td>\n",
       "      <td>...</td>\n",
       "      <td>...</td>\n",
       "      <td>...</td>\n",
       "      <td>...</td>\n",
       "    </tr>\n",
       "    <tr>\n",
       "      <th>539</th>\n",
       "      <td>36468772</td>\n",
       "      <td>그럼에도 불구하고</td>\n",
       "      <td>알레프 (ALEPH)</td>\n",
       "      <td>https://cdnimg.melon.co.kr/cm2/album/images/11...</td>\n",
       "      <td>사과향</td>\n",
       "    </tr>\n",
       "    <tr>\n",
       "      <th>540</th>\n",
       "      <td>36465429</td>\n",
       "      <td>순간</td>\n",
       "      <td>정훈</td>\n",
       "      <td>https://cdnimg.melon.co.kr/cm2/album/images/11...</td>\n",
       "      <td>순간</td>\n",
       "    </tr>\n",
       "    <tr>\n",
       "      <th>541</th>\n",
       "      <td>36467720</td>\n",
       "      <td>인아, 종현 그리고 우리</td>\n",
       "      <td>인아</td>\n",
       "      <td>https://cdnimg.melon.co.kr/cm2/album/images/11...</td>\n",
       "      <td>인아, 종현 그리고 우리</td>\n",
       "    </tr>\n",
       "    <tr>\n",
       "      <th>542</th>\n",
       "      <td>36467803</td>\n",
       "      <td>너의 별</td>\n",
       "      <td>윤예담</td>\n",
       "      <td>https://cdnimg.melon.co.kr/cm2/album/images/11...</td>\n",
       "      <td>너의 별</td>\n",
       "    </tr>\n",
       "    <tr>\n",
       "      <th>543</th>\n",
       "      <td>33437610</td>\n",
       "      <td>Intro : The Invitation</td>\n",
       "      <td>ENHYPEN</td>\n",
       "      <td>https://cdnimg.melon.co.kr/cm2/album/images/10...</td>\n",
       "      <td>BORDER : CARNIVAL</td>\n",
       "    </tr>\n",
       "  </tbody>\n",
       "</table>\n",
       "<p>544 rows × 5 columns</p>\n",
       "</div>"
      ],
      "text/plain": [
       "       songId                   title         artist  \\\n",
       "0    34774983                 Winnin'      링크 (Link)   \n",
       "1    36461318        그런 말은 쉽게 하는 게 아냐       유리(YURI)   \n",
       "2    36243335                  귀여운 질투            신민용   \n",
       "3    30517895               한걸음 더 가까이            남혜승   \n",
       "4    30154697          Chrysler Bldg.  Thomas Newman   \n",
       "..        ...                     ...            ...   \n",
       "539  36468772               그럼에도 불구하고    알레프 (ALEPH)   \n",
       "540  36465429                      순간             정훈   \n",
       "541  36467720           인아, 종현 그리고 우리             인아   \n",
       "542  36467803                    너의 별            윤예담   \n",
       "543  33437610  Intro : The Invitation        ENHYPEN   \n",
       "\n",
       "                                                   img              album  \n",
       "0    https://cdnimg.melon.co.kr/cm2/album/images/10...            NONSTOP  \n",
       "1    https://cdnimg.melon.co.kr/cm2/album/images/11...   그런 말은 쉽게 하는 게 아냐  \n",
       "2    https://cdnimg.melon.co.kr/cm2/album/images/11...         일타 스캔들 OST  \n",
       "3    https://cdnimg.melon.co.kr/cm/album/images/100...        수상한 파트너 OST  \n",
       "4    https://cdnimg.melon.co.kr/cm/album/images/100...           패신저스 OST  \n",
       "..                                                 ...                ...  \n",
       "539  https://cdnimg.melon.co.kr/cm2/album/images/11...                사과향  \n",
       "540  https://cdnimg.melon.co.kr/cm2/album/images/11...                 순간  \n",
       "541  https://cdnimg.melon.co.kr/cm2/album/images/11...      인아, 종현 그리고 우리  \n",
       "542  https://cdnimg.melon.co.kr/cm2/album/images/11...               너의 별  \n",
       "543  https://cdnimg.melon.co.kr/cm2/album/images/10...  BORDER : CARNIVAL  \n",
       "\n",
       "[544 rows x 5 columns]"
      ]
     },
     "execution_count": 146,
     "metadata": {},
     "output_type": "execute_result"
    }
   ],
   "source": [
    "df"
   ]
  },
  {
   "cell_type": "code",
   "execution_count": 150,
   "metadata": {},
   "outputs": [
    {
     "data": {
      "text/html": [
       "<div>\n",
       "<style scoped>\n",
       "    .dataframe tbody tr th:only-of-type {\n",
       "        vertical-align: middle;\n",
       "    }\n",
       "\n",
       "    .dataframe tbody tr th {\n",
       "        vertical-align: top;\n",
       "    }\n",
       "\n",
       "    .dataframe thead th {\n",
       "        text-align: right;\n",
       "    }\n",
       "</style>\n",
       "<table border=\"1\" class=\"dataframe\">\n",
       "  <thead>\n",
       "    <tr style=\"text-align: right;\">\n",
       "      <th></th>\n",
       "      <th>songId</th>\n",
       "      <th>title</th>\n",
       "      <th>artist</th>\n",
       "      <th>img</th>\n",
       "      <th>album</th>\n",
       "    </tr>\n",
       "  </thead>\n",
       "  <tbody>\n",
       "    <tr>\n",
       "      <th>0</th>\n",
       "      <td>33213267</td>\n",
       "      <td>Love Song</td>\n",
       "      <td>Why Don't We</td>\n",
       "      <td>https://cdnimg.melon.co.kr/cm2/album/images/10...</td>\n",
       "      <td>The Good Times and The Bad Ones</td>\n",
       "    </tr>\n",
       "    <tr>\n",
       "      <th>1</th>\n",
       "      <td>32544401</td>\n",
       "      <td>Ghost In A Flower</td>\n",
       "      <td>Yorushika</td>\n",
       "      <td>https://cdnimg.melon.co.kr/cm2/album/images/10...</td>\n",
       "      <td>Ghost In A Flower</td>\n",
       "    </tr>\n",
       "    <tr>\n",
       "      <th>2</th>\n",
       "      <td>33502105</td>\n",
       "      <td>Every Second</td>\n",
       "      <td>Mina Okabe</td>\n",
       "      <td>https://cdnimg.melon.co.kr/cm2/album/images/10...</td>\n",
       "      <td>Every Second</td>\n",
       "    </tr>\n",
       "    <tr>\n",
       "      <th>3</th>\n",
       "      <td>33469725</td>\n",
       "      <td>Loving You Girl (Feat. Hkeem)</td>\n",
       "      <td>Peder Elias</td>\n",
       "      <td>https://cdnimg.melon.co.kr/cm2/album/images/10...</td>\n",
       "      <td>Love &amp; Loneliness</td>\n",
       "    </tr>\n",
       "    <tr>\n",
       "      <th>4</th>\n",
       "      <td>32464068</td>\n",
       "      <td>SKYLINE</td>\n",
       "      <td>김세정</td>\n",
       "      <td>https://cdnimg.melon.co.kr/cm2/album/images/10...</td>\n",
       "      <td>화분</td>\n",
       "    </tr>\n",
       "  </tbody>\n",
       "</table>\n",
       "</div>"
      ],
      "text/plain": [
       "     songId                          title        artist  \\\n",
       "0  33213267                      Love Song  Why Don't We   \n",
       "1  32544401              Ghost In A Flower     Yorushika   \n",
       "2  33502105                   Every Second    Mina Okabe   \n",
       "3  33469725  Loving You Girl (Feat. Hkeem)   Peder Elias   \n",
       "4  32464068                        SKYLINE           김세정   \n",
       "\n",
       "                                                 img  \\\n",
       "0  https://cdnimg.melon.co.kr/cm2/album/images/10...   \n",
       "1  https://cdnimg.melon.co.kr/cm2/album/images/10...   \n",
       "2  https://cdnimg.melon.co.kr/cm2/album/images/10...   \n",
       "3  https://cdnimg.melon.co.kr/cm2/album/images/10...   \n",
       "4  https://cdnimg.melon.co.kr/cm2/album/images/10...   \n",
       "\n",
       "                             album  \n",
       "0  The Good Times and The Bad Ones  \n",
       "1                Ghost In A Flower  \n",
       "2                     Every Second  \n",
       "3                Love & Loneliness  \n",
       "4                               화분  "
      ]
     },
     "execution_count": 150,
     "metadata": {},
     "output_type": "execute_result"
    }
   ],
   "source": [
    "\n",
    "plist2_new.head()"
   ]
  },
  {
   "cell_type": "code",
   "execution_count": 152,
   "metadata": {},
   "outputs": [
    {
     "data": {
      "text/html": [
       "<div>\n",
       "<style scoped>\n",
       "    .dataframe tbody tr th:only-of-type {\n",
       "        vertical-align: middle;\n",
       "    }\n",
       "\n",
       "    .dataframe tbody tr th {\n",
       "        vertical-align: top;\n",
       "    }\n",
       "\n",
       "    .dataframe thead th {\n",
       "        text-align: right;\n",
       "    }\n",
       "</style>\n",
       "<table border=\"1\" class=\"dataframe\">\n",
       "  <thead>\n",
       "    <tr style=\"text-align: right;\">\n",
       "      <th></th>\n",
       "      <th>songId</th>\n",
       "      <th>title</th>\n",
       "      <th>artist</th>\n",
       "      <th>img</th>\n",
       "      <th>album</th>\n",
       "    </tr>\n",
       "  </thead>\n",
       "  <tbody>\n",
       "    <tr>\n",
       "      <th>0</th>\n",
       "      <td>34774983</td>\n",
       "      <td>Winnin'</td>\n",
       "      <td>링크 (Link)</td>\n",
       "      <td>https://cdnimg.melon.co.kr/cm2/album/images/10...</td>\n",
       "      <td>NONSTOP</td>\n",
       "    </tr>\n",
       "    <tr>\n",
       "      <th>1</th>\n",
       "      <td>36461318</td>\n",
       "      <td>그런 말은 쉽게 하는 게 아냐</td>\n",
       "      <td>유리(YURI)</td>\n",
       "      <td>https://cdnimg.melon.co.kr/cm2/album/images/11...</td>\n",
       "      <td>그런 말은 쉽게 하는 게 아냐</td>\n",
       "    </tr>\n",
       "    <tr>\n",
       "      <th>2</th>\n",
       "      <td>36243335</td>\n",
       "      <td>귀여운 질투</td>\n",
       "      <td>신민용</td>\n",
       "      <td>https://cdnimg.melon.co.kr/cm2/album/images/11...</td>\n",
       "      <td>일타 스캔들 OST</td>\n",
       "    </tr>\n",
       "    <tr>\n",
       "      <th>3</th>\n",
       "      <td>30517895</td>\n",
       "      <td>한걸음 더 가까이</td>\n",
       "      <td>남혜승</td>\n",
       "      <td>https://cdnimg.melon.co.kr/cm/album/images/100...</td>\n",
       "      <td>수상한 파트너 OST</td>\n",
       "    </tr>\n",
       "    <tr>\n",
       "      <th>4</th>\n",
       "      <td>30154697</td>\n",
       "      <td>Chrysler Bldg.</td>\n",
       "      <td>Thomas Newman</td>\n",
       "      <td>https://cdnimg.melon.co.kr/cm/album/images/100...</td>\n",
       "      <td>패신저스 OST</td>\n",
       "    </tr>\n",
       "  </tbody>\n",
       "</table>\n",
       "</div>"
      ],
      "text/plain": [
       "     songId             title         artist  \\\n",
       "0  34774983           Winnin'      링크 (Link)   \n",
       "1  36461318  그런 말은 쉽게 하는 게 아냐       유리(YURI)   \n",
       "2  36243335            귀여운 질투            신민용   \n",
       "3  30517895         한걸음 더 가까이            남혜승   \n",
       "4  30154697    Chrysler Bldg.  Thomas Newman   \n",
       "\n",
       "                                                 img             album  \n",
       "0  https://cdnimg.melon.co.kr/cm2/album/images/10...           NONSTOP  \n",
       "1  https://cdnimg.melon.co.kr/cm2/album/images/11...  그런 말은 쉽게 하는 게 아냐  \n",
       "2  https://cdnimg.melon.co.kr/cm2/album/images/11...        일타 스캔들 OST  \n",
       "3  https://cdnimg.melon.co.kr/cm/album/images/100...       수상한 파트너 OST  \n",
       "4  https://cdnimg.melon.co.kr/cm/album/images/100...          패신저스 OST  "
      ]
     },
     "execution_count": 152,
     "metadata": {},
     "output_type": "execute_result"
    }
   ],
   "source": [
    "df.head()"
   ]
  },
  {
   "cell_type": "code",
   "execution_count": 153,
   "metadata": {},
   "outputs": [
    {
     "data": {
      "text/plain": [
       "(116095, 5)"
      ]
     },
     "execution_count": 153,
     "metadata": {},
     "output_type": "execute_result"
    }
   ],
   "source": [
    "df3 = pd.concat([plist2_new, df])\n",
    "df3.shape"
   ]
  },
  {
   "cell_type": "code",
   "execution_count": 157,
   "metadata": {},
   "outputs": [],
   "source": [
    "df3.drop_duplicates(subset=['songId'], inplace=True)"
   ]
  },
  {
   "cell_type": "code",
   "execution_count": 158,
   "metadata": {},
   "outputs": [
    {
     "data": {
      "text/plain": [
       "((60271, 5), (60271, 4))"
      ]
     },
     "execution_count": 158,
     "metadata": {},
     "output_type": "execute_result"
    }
   ],
   "source": [
    "df4 = pd.merge(plist2, df3[['songId', 'album']], how='left', on='songId')\n",
    "df4.shape, plist2.shape"
   ]
  },
  {
   "cell_type": "code",
   "execution_count": 159,
   "metadata": {},
   "outputs": [
    {
     "data": {
      "text/html": [
       "<div>\n",
       "<style scoped>\n",
       "    .dataframe tbody tr th:only-of-type {\n",
       "        vertical-align: middle;\n",
       "    }\n",
       "\n",
       "    .dataframe tbody tr th {\n",
       "        vertical-align: top;\n",
       "    }\n",
       "\n",
       "    .dataframe thead th {\n",
       "        text-align: right;\n",
       "    }\n",
       "</style>\n",
       "<table border=\"1\" class=\"dataframe\">\n",
       "  <thead>\n",
       "    <tr style=\"text-align: right;\">\n",
       "      <th></th>\n",
       "      <th>songId</th>\n",
       "      <th>title</th>\n",
       "      <th>artist</th>\n",
       "      <th>img</th>\n",
       "      <th>album</th>\n",
       "    </tr>\n",
       "  </thead>\n",
       "  <tbody>\n",
       "    <tr>\n",
       "      <th>0</th>\n",
       "      <td>33213267</td>\n",
       "      <td>Love Song</td>\n",
       "      <td>Why Don't We</td>\n",
       "      <td>https://cdnimg.melon.co.kr/cm2/album/images/10...</td>\n",
       "      <td>The Good Times and The Bad Ones</td>\n",
       "    </tr>\n",
       "    <tr>\n",
       "      <th>1</th>\n",
       "      <td>32544401</td>\n",
       "      <td>Ghost In A Flower</td>\n",
       "      <td>Yorushika</td>\n",
       "      <td>https://cdnimg.melon.co.kr/cm2/album/images/10...</td>\n",
       "      <td>Ghost In A Flower</td>\n",
       "    </tr>\n",
       "    <tr>\n",
       "      <th>2</th>\n",
       "      <td>33502105</td>\n",
       "      <td>Every Second</td>\n",
       "      <td>Mina Okabe</td>\n",
       "      <td>https://cdnimg.melon.co.kr/cm2/album/images/10...</td>\n",
       "      <td>Every Second</td>\n",
       "    </tr>\n",
       "    <tr>\n",
       "      <th>3</th>\n",
       "      <td>33469725</td>\n",
       "      <td>Loving You Girl (Feat. Hkeem)</td>\n",
       "      <td>Peder Elias</td>\n",
       "      <td>https://cdnimg.melon.co.kr/cm2/album/images/10...</td>\n",
       "      <td>Love &amp; Loneliness</td>\n",
       "    </tr>\n",
       "    <tr>\n",
       "      <th>4</th>\n",
       "      <td>32464068</td>\n",
       "      <td>SKYLINE</td>\n",
       "      <td>김세정</td>\n",
       "      <td>https://cdnimg.melon.co.kr/cm2/album/images/10...</td>\n",
       "      <td>화분</td>\n",
       "    </tr>\n",
       "  </tbody>\n",
       "</table>\n",
       "</div>"
      ],
      "text/plain": [
       "     songId                          title        artist  \\\n",
       "0  33213267                      Love Song  Why Don't We   \n",
       "1  32544401              Ghost In A Flower     Yorushika   \n",
       "2  33502105                   Every Second    Mina Okabe   \n",
       "3  33469725  Loving You Girl (Feat. Hkeem)   Peder Elias   \n",
       "4  32464068                        SKYLINE           김세정   \n",
       "\n",
       "                                                 img  \\\n",
       "0  https://cdnimg.melon.co.kr/cm2/album/images/10...   \n",
       "1  https://cdnimg.melon.co.kr/cm2/album/images/10...   \n",
       "2  https://cdnimg.melon.co.kr/cm2/album/images/10...   \n",
       "3  https://cdnimg.melon.co.kr/cm2/album/images/10...   \n",
       "4  https://cdnimg.melon.co.kr/cm2/album/images/10...   \n",
       "\n",
       "                             album  \n",
       "0  The Good Times and The Bad Ones  \n",
       "1                Ghost In A Flower  \n",
       "2                     Every Second  \n",
       "3                Love & Loneliness  \n",
       "4                               화분  "
      ]
     },
     "execution_count": 159,
     "metadata": {},
     "output_type": "execute_result"
    }
   ],
   "source": [
    "df4.head()"
   ]
  },
  {
   "cell_type": "code",
   "execution_count": 160,
   "metadata": {},
   "outputs": [
    {
     "data": {
      "text/plain": [
       "songId    0\n",
       "title     0\n",
       "artist    0\n",
       "img       0\n",
       "album     9\n",
       "dtype: int64"
      ]
     },
     "execution_count": 160,
     "metadata": {},
     "output_type": "execute_result"
    }
   ],
   "source": [
    "df4.isna().sum()"
   ]
  },
  {
   "cell_type": "code",
   "execution_count": 161,
   "metadata": {},
   "outputs": [
    {
     "data": {
      "text/html": [
       "<div>\n",
       "<style scoped>\n",
       "    .dataframe tbody tr th:only-of-type {\n",
       "        vertical-align: middle;\n",
       "    }\n",
       "\n",
       "    .dataframe tbody tr th {\n",
       "        vertical-align: top;\n",
       "    }\n",
       "\n",
       "    .dataframe thead th {\n",
       "        text-align: right;\n",
       "    }\n",
       "</style>\n",
       "<table border=\"1\" class=\"dataframe\">\n",
       "  <thead>\n",
       "    <tr style=\"text-align: right;\">\n",
       "      <th></th>\n",
       "      <th>songId</th>\n",
       "      <th>title</th>\n",
       "      <th>artist</th>\n",
       "      <th>img</th>\n",
       "      <th>album</th>\n",
       "    </tr>\n",
       "  </thead>\n",
       "  <tbody>\n",
       "    <tr>\n",
       "      <th>5823</th>\n",
       "      <td>32363372</td>\n",
       "      <td>화면</td>\n",
       "      <td>Oowl Hannal (우울 한날)</td>\n",
       "      <td>https://cdnimg.melon.co.kr/cm2/album/images/10...</td>\n",
       "      <td>NaN</td>\n",
       "    </tr>\n",
       "    <tr>\n",
       "      <th>8558</th>\n",
       "      <td>35667403</td>\n",
       "      <td>Here With Me</td>\n",
       "      <td>d4vd</td>\n",
       "      <td>https://cdnimg.melon.co.kr/cm2/album/images/11...</td>\n",
       "      <td>NaN</td>\n",
       "    </tr>\n",
       "    <tr>\n",
       "      <th>8871</th>\n",
       "      <td>3013124</td>\n",
       "      <td>빗속에서</td>\n",
       "      <td>존박</td>\n",
       "      <td>https://cdnimg.melon.co.kr/cm/album/images/010...</td>\n",
       "      <td>NaN</td>\n",
       "    </tr>\n",
       "    <tr>\n",
       "      <th>12650</th>\n",
       "      <td>12094789</td>\n",
       "      <td>Green Juice</td>\n",
       "      <td>Papooz</td>\n",
       "      <td>https://cdnimg.melon.co.kr/cm/album/images/029...</td>\n",
       "      <td>NaN</td>\n",
       "    </tr>\n",
       "    <tr>\n",
       "      <th>33529</th>\n",
       "      <td>31320979</td>\n",
       "      <td>설레도 쿨하게</td>\n",
       "      <td>홍지수 (ZISU)</td>\n",
       "      <td>https://cdnimg.melon.co.kr/cm/album/images/101...</td>\n",
       "      <td>NaN</td>\n",
       "    </tr>\n",
       "    <tr>\n",
       "      <th>33530</th>\n",
       "      <td>31320981</td>\n",
       "      <td>첫사랑</td>\n",
       "      <td>홍지수 (ZISU)</td>\n",
       "      <td>https://cdnimg.melon.co.kr/cm/album/images/101...</td>\n",
       "      <td>NaN</td>\n",
       "    </tr>\n",
       "    <tr>\n",
       "      <th>52021</th>\n",
       "      <td>12094785</td>\n",
       "      <td>Ann Wants to Dance</td>\n",
       "      <td>Papooz</td>\n",
       "      <td>https://cdnimg.melon.co.kr/cm/album/images/029...</td>\n",
       "      <td>NaN</td>\n",
       "    </tr>\n",
       "    <tr>\n",
       "      <th>52051</th>\n",
       "      <td>12094787</td>\n",
       "      <td>Toria's Song</td>\n",
       "      <td>Papooz</td>\n",
       "      <td>https://cdnimg.melon.co.kr/cm/album/images/029...</td>\n",
       "      <td>NaN</td>\n",
       "    </tr>\n",
       "    <tr>\n",
       "      <th>52058</th>\n",
       "      <td>12094793</td>\n",
       "      <td>Brother</td>\n",
       "      <td>Papooz</td>\n",
       "      <td>https://cdnimg.melon.co.kr/cm/album/images/029...</td>\n",
       "      <td>NaN</td>\n",
       "    </tr>\n",
       "  </tbody>\n",
       "</table>\n",
       "</div>"
      ],
      "text/plain": [
       "         songId               title               artist  \\\n",
       "5823   32363372                  화면  Oowl Hannal (우울 한날)   \n",
       "8558   35667403        Here With Me                 d4vd   \n",
       "8871    3013124                빗속에서                   존박   \n",
       "12650  12094789         Green Juice               Papooz   \n",
       "33529  31320979             설레도 쿨하게           홍지수 (ZISU)   \n",
       "33530  31320981                 첫사랑           홍지수 (ZISU)   \n",
       "52021  12094785  Ann Wants to Dance               Papooz   \n",
       "52051  12094787        Toria's Song               Papooz   \n",
       "52058  12094793             Brother               Papooz   \n",
       "\n",
       "                                                     img album  \n",
       "5823   https://cdnimg.melon.co.kr/cm2/album/images/10...   NaN  \n",
       "8558   https://cdnimg.melon.co.kr/cm2/album/images/11...   NaN  \n",
       "8871   https://cdnimg.melon.co.kr/cm/album/images/010...   NaN  \n",
       "12650  https://cdnimg.melon.co.kr/cm/album/images/029...   NaN  \n",
       "33529  https://cdnimg.melon.co.kr/cm/album/images/101...   NaN  \n",
       "33530  https://cdnimg.melon.co.kr/cm/album/images/101...   NaN  \n",
       "52021  https://cdnimg.melon.co.kr/cm/album/images/029...   NaN  \n",
       "52051  https://cdnimg.melon.co.kr/cm/album/images/029...   NaN  \n",
       "52058  https://cdnimg.melon.co.kr/cm/album/images/029...   NaN  "
      ]
     },
     "execution_count": 161,
     "metadata": {},
     "output_type": "execute_result"
    }
   ],
   "source": [
    "df4[df4.album.isna()]"
   ]
  },
  {
   "cell_type": "code",
   "execution_count": 169,
   "metadata": {},
   "outputs": [],
   "source": [
    "df4.iloc[5823,4] = 'null'"
   ]
  },
  {
   "cell_type": "code",
   "execution_count": 171,
   "metadata": {},
   "outputs": [],
   "source": [
    "df4.iloc[8871,4] = '슈퍼스타K2 Up To 11'"
   ]
  },
  {
   "cell_type": "code",
   "execution_count": 172,
   "metadata": {},
   "outputs": [],
   "source": [
    "d_index = [8558, 12650, 33529, 33530, 52021, 52051, 52058]"
   ]
  },
  {
   "cell_type": "code",
   "execution_count": 175,
   "metadata": {},
   "outputs": [
    {
     "data": {
      "text/plain": [
       "[8558, 12650, 33529, 33530, 52021, 52051, 52058]"
      ]
     },
     "execution_count": 175,
     "metadata": {},
     "output_type": "execute_result"
    }
   ],
   "source": [
    "list(df4[df4.album.isna()].index)"
   ]
  },
  {
   "cell_type": "code",
   "execution_count": 176,
   "metadata": {},
   "outputs": [
    {
     "data": {
      "text/plain": [
       "(60264, 5)"
      ]
     },
     "execution_count": 176,
     "metadata": {},
     "output_type": "execute_result"
    }
   ],
   "source": [
    "df4.drop(df4.index[list(df4[df4.album.isna()].index)], inplace=True)\n",
    "df4.shape"
   ]
  },
  {
   "cell_type": "code",
   "execution_count": 177,
   "metadata": {},
   "outputs": [
    {
     "data": {
      "text/plain": [
       "songId    0\n",
       "title     0\n",
       "artist    0\n",
       "img       0\n",
       "album     0\n",
       "dtype: int64"
      ]
     },
     "execution_count": 177,
     "metadata": {},
     "output_type": "execute_result"
    }
   ],
   "source": [
    "df4.isna().sum()"
   ]
  },
  {
   "cell_type": "code",
   "execution_count": 178,
   "metadata": {},
   "outputs": [
    {
     "data": {
      "text/html": [
       "<div>\n",
       "<style scoped>\n",
       "    .dataframe tbody tr th:only-of-type {\n",
       "        vertical-align: middle;\n",
       "    }\n",
       "\n",
       "    .dataframe tbody tr th {\n",
       "        vertical-align: top;\n",
       "    }\n",
       "\n",
       "    .dataframe thead th {\n",
       "        text-align: right;\n",
       "    }\n",
       "</style>\n",
       "<table border=\"1\" class=\"dataframe\">\n",
       "  <thead>\n",
       "    <tr style=\"text-align: right;\">\n",
       "      <th></th>\n",
       "      <th>songId</th>\n",
       "      <th>title</th>\n",
       "      <th>artist</th>\n",
       "      <th>img</th>\n",
       "      <th>album</th>\n",
       "    </tr>\n",
       "  </thead>\n",
       "  <tbody>\n",
       "    <tr>\n",
       "      <th>0</th>\n",
       "      <td>33213267</td>\n",
       "      <td>Love Song</td>\n",
       "      <td>Why Don't We</td>\n",
       "      <td>https://cdnimg.melon.co.kr/cm2/album/images/10...</td>\n",
       "      <td>The Good Times and The Bad Ones</td>\n",
       "    </tr>\n",
       "    <tr>\n",
       "      <th>1</th>\n",
       "      <td>32544401</td>\n",
       "      <td>Ghost In A Flower</td>\n",
       "      <td>Yorushika</td>\n",
       "      <td>https://cdnimg.melon.co.kr/cm2/album/images/10...</td>\n",
       "      <td>Ghost In A Flower</td>\n",
       "    </tr>\n",
       "    <tr>\n",
       "      <th>2</th>\n",
       "      <td>33502105</td>\n",
       "      <td>Every Second</td>\n",
       "      <td>Mina Okabe</td>\n",
       "      <td>https://cdnimg.melon.co.kr/cm2/album/images/10...</td>\n",
       "      <td>Every Second</td>\n",
       "    </tr>\n",
       "    <tr>\n",
       "      <th>3</th>\n",
       "      <td>33469725</td>\n",
       "      <td>Loving You Girl (Feat. Hkeem)</td>\n",
       "      <td>Peder Elias</td>\n",
       "      <td>https://cdnimg.melon.co.kr/cm2/album/images/10...</td>\n",
       "      <td>Love &amp; Loneliness</td>\n",
       "    </tr>\n",
       "    <tr>\n",
       "      <th>4</th>\n",
       "      <td>32464068</td>\n",
       "      <td>SKYLINE</td>\n",
       "      <td>김세정</td>\n",
       "      <td>https://cdnimg.melon.co.kr/cm2/album/images/10...</td>\n",
       "      <td>화분</td>\n",
       "    </tr>\n",
       "  </tbody>\n",
       "</table>\n",
       "</div>"
      ],
      "text/plain": [
       "     songId                          title        artist  \\\n",
       "0  33213267                      Love Song  Why Don't We   \n",
       "1  32544401              Ghost In A Flower     Yorushika   \n",
       "2  33502105                   Every Second    Mina Okabe   \n",
       "3  33469725  Loving You Girl (Feat. Hkeem)   Peder Elias   \n",
       "4  32464068                        SKYLINE           김세정   \n",
       "\n",
       "                                                 img  \\\n",
       "0  https://cdnimg.melon.co.kr/cm2/album/images/10...   \n",
       "1  https://cdnimg.melon.co.kr/cm2/album/images/10...   \n",
       "2  https://cdnimg.melon.co.kr/cm2/album/images/10...   \n",
       "3  https://cdnimg.melon.co.kr/cm2/album/images/10...   \n",
       "4  https://cdnimg.melon.co.kr/cm2/album/images/10...   \n",
       "\n",
       "                             album  \n",
       "0  The Good Times and The Bad Ones  \n",
       "1                Ghost In A Flower  \n",
       "2                     Every Second  \n",
       "3                Love & Loneliness  \n",
       "4                               화분  "
      ]
     },
     "execution_count": 178,
     "metadata": {},
     "output_type": "execute_result"
    }
   ],
   "source": [
    "df4.head()"
   ]
  },
  {
   "cell_type": "code",
   "execution_count": null,
   "metadata": {},
   "outputs": [],
   "source": [
    "df4.to_csv('data/melon_playlist2_v3.csv', index=False)"
   ]
  }
 ],
 "metadata": {
  "kernelspec": {
   "display_name": "base",
   "language": "python",
   "name": "python3"
  },
  "language_info": {
   "codemirror_mode": {
    "name": "ipython",
    "version": 3
   },
   "file_extension": ".py",
   "mimetype": "text/x-python",
   "name": "python",
   "nbconvert_exporter": "python",
   "pygments_lexer": "ipython3",
   "version": "3.9.13"
  },
  "orig_nbformat": 4
 },
 "nbformat": 4,
 "nbformat_minor": 2
}
