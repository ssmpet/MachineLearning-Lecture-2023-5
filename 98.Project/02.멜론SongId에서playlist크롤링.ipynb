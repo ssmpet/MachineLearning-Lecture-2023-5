{
 "cells": [
  {
   "cell_type": "code",
   "execution_count": 53,
   "metadata": {},
   "outputs": [],
   "source": [
    "import numpy as np\n",
    "import pandas as pd\n",
    "\n",
    "import requests\n",
    "from bs4 import BeautifulSoup\n",
    "from selenium import webdriver\n",
    "\n",
    "import time\n",
    "from tqdm import tqdm\n",
    "\n",
    "from selenium.webdriver.common.keys import Keys\n",
    "from selenium.webdriver.common.by import By\n",
    "\n",
    "import warnings\n",
    "warnings.filterwarnings('ignore')\n",
    "\n",
    "driver_pathname = 'C:/Users/sujung/Downloads/chromedriver_win32/chromedriver.exe'\n",
    "# driver_pathname = 'C:/Users/yonsai/Downloads/chromedriver_win32/chromedriver.exe'\n",
    "playlist1_filename = 'data/melon_playlist1_230528.csv'\n",
    "playlist2_filename = 'data/melon_playlist2_230528.csv'\n",
    "genre_ost_filename = 'data/melon_genre_ost_230527.csv'\n",
    "genre_filename = 'data/melon_genre.csv'\n",
    "\n",
    "filename = genre_filename"
   ]
  },
  {
   "cell_type": "code",
   "execution_count": 54,
   "metadata": {},
   "outputs": [
    {
     "data": {
      "text/plain": [
       "((2329, 5),\n",
       " plylstSeq    0\n",
       " title        0\n",
       " tag          0\n",
       " like         0\n",
       " songIds      0\n",
       " dtype: int64)"
      ]
     },
     "execution_count": 54,
     "metadata": {},
     "output_type": "execute_result"
    }
   ],
   "source": [
    "df_plist1 = pd.read_csv(playlist1_filename)\n",
    "df_plist1.shape, df_plist1.isna().sum()"
   ]
  },
  {
   "cell_type": "code",
   "execution_count": 55,
   "metadata": {},
   "outputs": [],
   "source": [
    "exist_plylstSeqs = df_plist1.plylstSeq.values"
   ]
  },
  {
   "cell_type": "code",
   "execution_count": 56,
   "metadata": {},
   "outputs": [],
   "source": [
    "# plylstSeq 만 추출해서 중복이 아닌 것만 가려낸다.\n",
    "df_ost = pd.read_csv(filename)"
   ]
  },
  {
   "cell_type": "code",
   "execution_count": 57,
   "metadata": {},
   "outputs": [
    {
     "data": {
      "text/plain": [
       "songId        0\n",
       "title         0\n",
       "artist        0\n",
       "genre         0\n",
       "album         0\n",
       "lyricist      2\n",
       "composer      2\n",
       "date          1\n",
       "img           0\n",
       "comment       0\n",
       "like          0\n",
       "lyric        11\n",
       "plylstSeq     9\n",
       "dtype: int64"
      ]
     },
     "execution_count": 57,
     "metadata": {},
     "output_type": "execute_result"
    }
   ],
   "source": [
    "df_ost.isna().sum()"
   ]
  },
  {
   "cell_type": "code",
   "execution_count": 58,
   "metadata": {},
   "outputs": [
    {
     "data": {
      "text/plain": [
       "(3845, 13)"
      ]
     },
     "execution_count": 58,
     "metadata": {},
     "output_type": "execute_result"
    }
   ],
   "source": [
    "df_ost.shape"
   ]
  },
  {
   "cell_type": "code",
   "execution_count": 59,
   "metadata": {},
   "outputs": [],
   "source": [
    "plylstSeqs = set(' '.join(df_ost[~df_ost.plylstSeq.isna()]['plylstSeq'].values).split())"
   ]
  },
  {
   "cell_type": "code",
   "execution_count": 60,
   "metadata": {},
   "outputs": [
    {
     "name": "stdout",
     "output_type": "stream",
     "text": [
      "1034\n",
      "1034\n"
     ]
    }
   ],
   "source": [
    "# 없는 플레이리스트만 가지고 온다.\n",
    "cnt = 0\n",
    "print(len(plylstSeqs))\n",
    "for plylstSeq in plylstSeqs:\n",
    "    if plylstSeq in exist_plylstSeqs:\n",
    "        continue\n",
    "    cnt += 1\n",
    "print(cnt)"
   ]
  },
  {
   "cell_type": "code",
   "execution_count": 61,
   "metadata": {},
   "outputs": [
    {
     "data": {
      "text/plain": [
       "1034"
      ]
     },
     "execution_count": 61,
     "metadata": {},
     "output_type": "execute_result"
    }
   ],
   "source": [
    "ply_list = [plylstSeq for plylstSeq in plylstSeqs if plylstSeq not in exist_plylstSeqs]\n",
    "len(ply_list)"
   ]
  },
  {
   "cell_type": "code",
   "execution_count": 44,
   "metadata": {},
   "outputs": [
    {
     "name": "stderr",
     "output_type": "stream",
     "text": [
      "100%|██████████| 677/677 [51:33<00:00,  4.57s/it] \n"
     ]
    }
   ],
   "source": [
    "plist1, plist2 = [], []\n",
    "\n",
    "driver = webdriver.Chrome(driver_pathname)\n",
    "\n",
    "playlist_url = 'https://www.melon.com/mymusic/dj/mymusicdjplaylistview_inform.htm?plylstSeq='\n",
    "\n",
    "for ply in tqdm(ply_list):\n",
    "    \n",
    "    driver.get(playlist_url + ply)\n",
    "    time.sleep(2)\n",
    "\n",
    "    soup = BeautifulSoup(driver.page_source, 'html.parser')\n",
    "\n",
    "    # plist1에 들어갈 요소들\n",
    "    title = soup.select_one('.ellipsis.song_name').text.strip()\n",
    "    tag = soup.select_one('.tag_list.type03').text.replace('\\n', ' ')\n",
    "    like = int(soup.select_one('.cnt').text.split()[-1].replace(',', '').strip())\n",
    "    \n",
    "    trs = soup.select('.service_list_song.d_song_list > table > tbody > tr' )\n",
    "    song_ids = []\n",
    "    # plist2에 들어갈 요소들\n",
    "    for tr in trs:\n",
    "        \n",
    "        if tr.select_one('.bullet_icons.age_19') :  # 19금 제외\n",
    "            continue\n",
    "\n",
    "        img = tr.select_one('img')['src']\n",
    "\n",
    "        tmp = tr.select_one('.rank01 > span > a')\n",
    "        s_id = tmp['href'].split(',')[-1][:-2]\n",
    "        song_ids.append(s_id)\n",
    "\n",
    "        s_title = tmp.text.strip()\n",
    "        s_artist = tr.select_one('.rank02 > span').text\n",
    "\n",
    "        plist2.append({'plylstSeq': ply, 'songId': s_id, 'title': s_title, 'artist': s_artist, 'img': img})\n",
    "    \n",
    "    plist1.append({'plylstSeq': ply, 'title': title, 'tag': tag, 'like':like, 'songIds': ' '.join(song_ids)})\n",
    "\n",
    "driver.close()"
   ]
  },
  {
   "cell_type": "code",
   "execution_count": 45,
   "metadata": {},
   "outputs": [],
   "source": [
    "df1 = pd.DataFrame(plist1)\n",
    "df2 = pd.DataFrame(plist2)"
   ]
  },
  {
   "cell_type": "code",
   "execution_count": 46,
   "metadata": {},
   "outputs": [
    {
     "data": {
      "text/plain": [
       "((677, 5), 674)"
      ]
     },
     "execution_count": 46,
     "metadata": {},
     "output_type": "execute_result"
    }
   ],
   "source": [
    "df1.shape, df1.songIds.nunique()"
   ]
  },
  {
   "cell_type": "code",
   "execution_count": 47,
   "metadata": {},
   "outputs": [
    {
     "data": {
      "text/plain": [
       "plylstSeq    0\n",
       "title        0\n",
       "tag          0\n",
       "like         0\n",
       "songIds      0\n",
       "dtype: int64"
      ]
     },
     "execution_count": 47,
     "metadata": {},
     "output_type": "execute_result"
    }
   ],
   "source": [
    "df1.isna().sum()"
   ]
  },
  {
   "cell_type": "code",
   "execution_count": 48,
   "metadata": {},
   "outputs": [
    {
     "data": {
      "text/plain": [
       "plylstSeq    0\n",
       "songId       0\n",
       "title        0\n",
       "artist       0\n",
       "img          0\n",
       "dtype: int64"
      ]
     },
     "execution_count": 48,
     "metadata": {},
     "output_type": "execute_result"
    }
   ],
   "source": [
    "df2.isna().sum()"
   ]
  },
  {
   "cell_type": "code",
   "execution_count": 49,
   "metadata": {},
   "outputs": [],
   "source": [
    "df1.to_csv('data/genre_playlist1_230528.csv', index=False)\n",
    "df2.to_csv('data/genre_playlist2_230528.csv', index=False)"
   ]
  },
  {
   "cell_type": "code",
   "execution_count": 50,
   "metadata": {},
   "outputs": [
    {
     "data": {
      "text/plain": [
       "((677, 5), (30878, 5))"
      ]
     },
     "execution_count": 50,
     "metadata": {},
     "output_type": "execute_result"
    }
   ],
   "source": [
    "df1 = pd.read_csv('data/genre_playlist1_230528.csv')\n",
    "df2 = pd.read_csv('data/genre_playlist2_230528.csv')\n",
    "df1.shape, df2.shape"
   ]
  },
  {
   "cell_type": "code",
   "execution_count": 51,
   "metadata": {},
   "outputs": [
    {
     "data": {
      "text/plain": [
       "plylstSeq    0\n",
       "title        0\n",
       "tag          0\n",
       "like         0\n",
       "songIds      0\n",
       "dtype: int64"
      ]
     },
     "execution_count": 51,
     "metadata": {},
     "output_type": "execute_result"
    }
   ],
   "source": [
    "df1.isna().sum()"
   ]
  },
  {
   "cell_type": "code",
   "execution_count": 52,
   "metadata": {},
   "outputs": [
    {
     "data": {
      "text/plain": [
       "plylstSeq    0\n",
       "songId       0\n",
       "title        0\n",
       "artist       0\n",
       "img          0\n",
       "dtype: int64"
      ]
     },
     "execution_count": 52,
     "metadata": {},
     "output_type": "execute_result"
    }
   ],
   "source": [
    "df2.isna().sum()"
   ]
  }
 ],
 "metadata": {
  "kernelspec": {
   "display_name": "base",
   "language": "python",
   "name": "python3"
  },
  "language_info": {
   "codemirror_mode": {
    "name": "ipython",
    "version": 3
   },
   "file_extension": ".py",
   "mimetype": "text/x-python",
   "name": "python",
   "nbconvert_exporter": "python",
   "pygments_lexer": "ipython3",
   "version": "3.9.13"
  },
  "orig_nbformat": 4
 },
 "nbformat": 4,
 "nbformat_minor": 2
}
