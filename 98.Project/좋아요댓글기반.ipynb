{
 "cells": [
  {
   "attachments": {},
   "cell_type": "markdown",
   "metadata": {},
   "source": [
    "### 좋아요수 / 댓글 분산 적용 기반 추천(명곡?)\n",
    "- Input(title, artist) : contains로 찾기 => 결과 songId 한 개만 반환하도록 한다.\n",
    "- I am 찾기 -> 전체 (좋아요+댓글) -> 3번째 분산 데이터들에서 -> 가사분석해서 비슷한 노래 찾기 top5\n",
    "- I am 찾기 -> 가사분석해서 비슷한 노래 찾기 -> 전체 (좋아요+댓글) -> 3번째 분산 데이터들에서 top5\n",
    "- 반환된 songId 들의 정보 출력"
   ]
  },
  {
   "cell_type": "code",
   "execution_count": 1,
   "metadata": {},
   "outputs": [],
   "source": [
    "import numpy as np\n",
    "import pandas as pd"
   ]
  },
  {
   "cell_type": "code",
   "execution_count": 32,
   "metadata": {},
   "outputs": [
    {
     "data": {
      "text/html": [
       "<div>\n",
       "<style scoped>\n",
       "    .dataframe tbody tr th:only-of-type {\n",
       "        vertical-align: middle;\n",
       "    }\n",
       "\n",
       "    .dataframe tbody tr th {\n",
       "        vertical-align: top;\n",
       "    }\n",
       "\n",
       "    .dataframe thead th {\n",
       "        text-align: right;\n",
       "    }\n",
       "</style>\n",
       "<table border=\"1\" class=\"dataframe\">\n",
       "  <thead>\n",
       "    <tr style=\"text-align: right;\">\n",
       "      <th></th>\n",
       "      <th>songId</th>\n",
       "      <th>title</th>\n",
       "      <th>artist</th>\n",
       "      <th>genre</th>\n",
       "      <th>album</th>\n",
       "      <th>lyricist</th>\n",
       "      <th>composer</th>\n",
       "      <th>date</th>\n",
       "      <th>img</th>\n",
       "      <th>comment</th>\n",
       "      <th>like</th>\n",
       "      <th>lyric</th>\n",
       "      <th>plylstSeq</th>\n",
       "    </tr>\n",
       "  </thead>\n",
       "  <tbody>\n",
       "    <tr>\n",
       "      <th>6245</th>\n",
       "      <td>34183979</td>\n",
       "      <td>인생 한잔</td>\n",
       "      <td>정은지</td>\n",
       "      <td>포크/블루스 국내드라마</td>\n",
       "      <td>술꾼도시여자들 OST Part 2</td>\n",
       "      <td>빨간양말</td>\n",
       "      <td>INAN</td>\n",
       "      <td>20211029.0</td>\n",
       "      <td>https://cdnimg.melon.co.kr/cm2/album/images/10...</td>\n",
       "      <td>12</td>\n",
       "      <td>4512</td>\n",
       "      <td>사랑도 이별도 오늘은 잠시 미뤄보자\\r\\n불안한 청춘도 내일로 잠시 미뤄두자\\r\\n...</td>\n",
       "      <td>506225967 434154554</td>\n",
       "    </tr>\n",
       "    <tr>\n",
       "      <th>6246</th>\n",
       "      <td>31191637</td>\n",
       "      <td>6 o'clock</td>\n",
       "      <td>볼빨간사춘기</td>\n",
       "      <td>인디음악 포크/블루스</td>\n",
       "      <td>Red Diary 'Hidden Track'</td>\n",
       "      <td>안지영</td>\n",
       "      <td>안지영</td>\n",
       "      <td>20180717.0</td>\n",
       "      <td>https://cdnimg.melon.co.kr/cm/album/images/101...</td>\n",
       "      <td>87</td>\n",
       "      <td>15668</td>\n",
       "      <td>It's 6 o'clock\\r\\n너와 나는 시간이 빨라서\\r\\n시간이 달라서\\r\\n...</td>\n",
       "      <td>458080033 442957041</td>\n",
       "    </tr>\n",
       "  </tbody>\n",
       "</table>\n",
       "</div>"
      ],
      "text/plain": [
       "        songId      title  artist         genre                     album  \\\n",
       "6245  34183979      인생 한잔     정은지  포크/블루스 국내드라마        술꾼도시여자들 OST Part 2   \n",
       "6246  31191637  6 o'clock  볼빨간사춘기   인디음악 포크/블루스  Red Diary 'Hidden Track'   \n",
       "\n",
       "     lyricist composer        date  \\\n",
       "6245     빨간양말     INAN  20211029.0   \n",
       "6246      안지영      안지영  20180717.0   \n",
       "\n",
       "                                                    img  comment   like  \\\n",
       "6245  https://cdnimg.melon.co.kr/cm2/album/images/10...       12   4512   \n",
       "6246  https://cdnimg.melon.co.kr/cm/album/images/101...       87  15668   \n",
       "\n",
       "                                                  lyric            plylstSeq  \n",
       "6245  사랑도 이별도 오늘은 잠시 미뤄보자\\r\\n불안한 청춘도 내일로 잠시 미뤄두자\\r\\n...  506225967 434154554  \n",
       "6246  It's 6 o'clock\\r\\n너와 나는 시간이 빨라서\\r\\n시간이 달라서\\r\\n...  458080033 442957041  "
      ]
     },
     "execution_count": 32,
     "metadata": {},
     "output_type": "execute_result"
    }
   ],
   "source": [
    "df = pd.read_csv('data/melon_song.csv')\n",
    "df.tail(2)"
   ]
  },
  {
   "cell_type": "code",
   "execution_count": 37,
   "metadata": {},
   "outputs": [],
   "source": [
    "# 데이터 처리를 위한 작업\n",
    "df.date.fillna(0, inplace=True)\n",
    "df['date'] = df.date.astype(int).astype(str)\n",
    "df.fillna('', inplace=True)\n",
    "df['comment_like_total'] = df.comment + df.like\n",
    "df['songId'] = df.songId.astype(str)"
   ]
  },
  {
   "cell_type": "code",
   "execution_count": 38,
   "metadata": {},
   "outputs": [],
   "source": [
    "# 한글 불용어 처리\n",
    "with open('data/한글불용어.txt') as st:\n",
    "    lines = st.readlines()\n",
    "stop_words = [line.split('\\t')[0] for line in lines]\n",
    "stop_words.extend('은 는 를 도 을 며 의 에 게 니 거 로 요 과 래 랑 파 여 에게'.split())"
   ]
  },
  {
   "cell_type": "code",
   "execution_count": 39,
   "metadata": {},
   "outputs": [],
   "source": [
    "from konlpy.tag import Okt\n",
    "okt = Okt()"
   ]
  },
  {
   "cell_type": "code",
   "execution_count": 40,
   "metadata": {},
   "outputs": [],
   "source": [
    "lyrics = []\n",
    "for lyric in df.lyric:\n",
    "    lyric = lyric.replace('\\n', ' ')\n",
    "    morphs = okt.morphs(lyric, stem=True)\n",
    "    tmp = [word for word in morphs if word not in stop_words]\n",
    "    lyrics.append(' '.join(tmp))\n",
    "df['morphs'] = lyrics"
   ]
  },
  {
   "cell_type": "code",
   "execution_count": 41,
   "metadata": {},
   "outputs": [],
   "source": [
    "# 학습할 데이터열 생성\n",
    "df['total'] = df.morphs + (' ' + df.title) + (' ' + df.artist) * 2 + (' ' + df.composer) * 2 + (' ' + df.lyricist) * 2 + (' ' + df.genre) * 3"
   ]
  },
  {
   "cell_type": "code",
   "execution_count": 42,
   "metadata": {},
   "outputs": [],
   "source": [
    "df.set_index('songId', inplace=True)\n",
    "df.reset_index(inplace=True)"
   ]
  },
  {
   "cell_type": "code",
   "execution_count": 43,
   "metadata": {},
   "outputs": [],
   "source": [
    "\n",
    "from sklearn.feature_extraction.text import TfidfVectorizer\n",
    "tvect = TfidfVectorizer(stop_words='english')\n",
    "total_tv = tvect.fit_transform(df.total)"
   ]
  },
  {
   "cell_type": "code",
   "execution_count": 10,
   "metadata": {},
   "outputs": [],
   "source": [
    "# 장르가 힙합이나 댄스 : 결과 안 좋거나 거의 비슷하다. \n",
    "# from sklearn.feature_extraction.text import CountVectorizer\n",
    "# cvect = CountVectorizer(stop_words='english')\n",
    "# total_cv = cvect.fit_transform(df.total)"
   ]
  },
  {
   "cell_type": "code",
   "execution_count": 44,
   "metadata": {},
   "outputs": [],
   "source": [
    "indices = pd.Series(df.index, index=df.songId)"
   ]
  },
  {
   "cell_type": "code",
   "execution_count": 45,
   "metadata": {},
   "outputs": [],
   "source": [
    "from sklearn.metrics.pairwise import cosine_similarity\n",
    "cosine_sim = cosine_similarity(total_tv)"
   ]
  },
  {
   "cell_type": "code",
   "execution_count": 51,
   "metadata": {},
   "outputs": [],
   "source": [
    "# from sklearn.metrics.pairwise import cosine_similarity\n",
    "# cosine_sim = cosine_similarity(total_cv)"
   ]
  },
  {
   "cell_type": "code",
   "execution_count": 52,
   "metadata": {},
   "outputs": [],
   "source": [
    "def get_recommendation(songId, cos_sim):\n",
    "    index = indices[songId]\n",
    "    sim_scores = pd.Series(cos_sim[index])\n",
    "    song_indices = sim_scores.sort_values(ascending=False).head(31).tail(30).index\n",
    "    return df.songId.iloc[song_indices]"
   ]
  },
  {
   "cell_type": "code",
   "execution_count": 60,
   "metadata": {},
   "outputs": [
    {
     "name": "stdout",
     "output_type": "stream",
     "text": [
      "doc와 춤을 dj doc\n"
     ]
    },
    {
     "data": {
      "text/html": [
       "<div>\n",
       "<style scoped>\n",
       "    .dataframe tbody tr th:only-of-type {\n",
       "        vertical-align: middle;\n",
       "    }\n",
       "\n",
       "    .dataframe tbody tr th {\n",
       "        vertical-align: top;\n",
       "    }\n",
       "\n",
       "    .dataframe thead th {\n",
       "        text-align: right;\n",
       "    }\n",
       "</style>\n",
       "<table border=\"1\" class=\"dataframe\">\n",
       "  <thead>\n",
       "    <tr style=\"text-align: right;\">\n",
       "      <th></th>\n",
       "      <th>songId</th>\n",
       "      <th>title</th>\n",
       "      <th>artist</th>\n",
       "      <th>genre</th>\n",
       "      <th>album</th>\n",
       "      <th>lyricist</th>\n",
       "      <th>composer</th>\n",
       "      <th>date</th>\n",
       "      <th>img</th>\n",
       "      <th>comment</th>\n",
       "      <th>like</th>\n",
       "      <th>lyric</th>\n",
       "      <th>plylstSeq</th>\n",
       "      <th>comment_like_total</th>\n",
       "      <th>morphs</th>\n",
       "      <th>total</th>\n",
       "    </tr>\n",
       "  </thead>\n",
       "  <tbody>\n",
       "    <tr>\n",
       "      <th>2425</th>\n",
       "      <td>9390</td>\n",
       "      <td>Doc와 춤을</td>\n",
       "      <td>DJ DOC</td>\n",
       "      <td>댄스</td>\n",
       "      <td>Season‘s Greeting</td>\n",
       "      <td>김창렬</td>\n",
       "      <td>박해운</td>\n",
       "      <td>20001212</td>\n",
       "      <td>https://cdnimg.melon.co.kr/cm/album/images/000...</td>\n",
       "      <td>44</td>\n",
       "      <td>14328</td>\n",
       "      <td>젓가락질 잘해야만 밥을 먹나요\\r\\n잘못해도 서툴러도 밥 잘 먹어요\\r\\n그러나 주...</td>\n",
       "      <td>442706386 418666508</td>\n",
       "      <td>14372</td>\n",
       "      <td>젓가락 질 잘해야 만 밥 먹다 \\r  잘못 하다 서툴다 밥 자다 먹다 \\r  그러나...</td>\n",
       "      <td>젓가락 질 잘해야 만 밥 먹다 \\r  잘못 하다 서툴다 밥 자다 먹다 \\r  그러나...</td>\n",
       "    </tr>\n",
       "  </tbody>\n",
       "</table>\n",
       "</div>"
      ],
      "text/plain": [
       "     songId    title  artist genre              album lyricist composer  \\\n",
       "2425   9390  Doc와 춤을  DJ DOC    댄스  Season‘s Greeting      김창렬      박해운   \n",
       "\n",
       "          date                                                img  comment  \\\n",
       "2425  20001212  https://cdnimg.melon.co.kr/cm/album/images/000...       44   \n",
       "\n",
       "       like                                              lyric  \\\n",
       "2425  14328  젓가락질 잘해야만 밥을 먹나요\\r\\n잘못해도 서툴러도 밥 잘 먹어요\\r\\n그러나 주...   \n",
       "\n",
       "                plylstSeq  comment_like_total  \\\n",
       "2425  442706386 418666508               14372   \n",
       "\n",
       "                                                 morphs  \\\n",
       "2425  젓가락 질 잘해야 만 밥 먹다 \\r  잘못 하다 서툴다 밥 자다 먹다 \\r  그러나...   \n",
       "\n",
       "                                                  total  \n",
       "2425  젓가락 질 잘해야 만 밥 먹다 \\r  잘못 하다 서툴다 밥 자다 먹다 \\r  그러나...  "
      ]
     },
     "execution_count": 60,
     "metadata": {},
     "output_type": "execute_result"
    }
   ],
   "source": [
    "# 키워드 바꿔가면서 찾아보기\n",
    "keyword_title = 'Doc와 춤을'.lower()\n",
    "keyword_artist = 'DJ DOC'.lower()\n",
    "print(keyword_title, keyword_artist)\n",
    "\n",
    "songIds = df[df.title.str.lower().str.contains(keyword_title) & df.artist.str.lower().str.contains(keyword_artist)]\n",
    "songIds"
   ]
  },
  {
   "cell_type": "code",
   "execution_count": 54,
   "metadata": {},
   "outputs": [
    {
     "data": {
      "text/html": [
       "<div>\n",
       "<style scoped>\n",
       "    .dataframe tbody tr th:only-of-type {\n",
       "        vertical-align: middle;\n",
       "    }\n",
       "\n",
       "    .dataframe tbody tr th {\n",
       "        vertical-align: top;\n",
       "    }\n",
       "\n",
       "    .dataframe thead th {\n",
       "        text-align: right;\n",
       "    }\n",
       "</style>\n",
       "<table border=\"1\" class=\"dataframe\">\n",
       "  <thead>\n",
       "    <tr style=\"text-align: right;\">\n",
       "      <th></th>\n",
       "      <th>songId</th>\n",
       "    </tr>\n",
       "  </thead>\n",
       "  <tbody>\n",
       "    <tr>\n",
       "      <th>3661</th>\n",
       "      <td>35694868</td>\n",
       "    </tr>\n",
       "    <tr>\n",
       "      <th>3006</th>\n",
       "      <td>2544949</td>\n",
       "    </tr>\n",
       "    <tr>\n",
       "      <th>240</th>\n",
       "      <td>489091</td>\n",
       "    </tr>\n",
       "    <tr>\n",
       "      <th>3796</th>\n",
       "      <td>3864961</td>\n",
       "    </tr>\n",
       "    <tr>\n",
       "      <th>4594</th>\n",
       "      <td>70602</td>\n",
       "    </tr>\n",
       "  </tbody>\n",
       "</table>\n",
       "</div>"
      ],
      "text/plain": [
       "        songId\n",
       "3661  35694868\n",
       "3006   2544949\n",
       "240     489091\n",
       "3796   3864961\n",
       "4594     70602"
      ]
     },
     "execution_count": 54,
     "metadata": {},
     "output_type": "execute_result"
    }
   ],
   "source": [
    "find_songid = songIds.songId.values[0]\n",
    "a = get_recommendation(find_songid, cosine_sim).to_frame()\n",
    "a.head()"
   ]
  },
  {
   "cell_type": "code",
   "execution_count": 55,
   "metadata": {},
   "outputs": [
    {
     "data": {
      "text/html": [
       "<div>\n",
       "<style scoped>\n",
       "    .dataframe tbody tr th:only-of-type {\n",
       "        vertical-align: middle;\n",
       "    }\n",
       "\n",
       "    .dataframe tbody tr th {\n",
       "        vertical-align: top;\n",
       "    }\n",
       "\n",
       "    .dataframe thead th {\n",
       "        text-align: right;\n",
       "    }\n",
       "</style>\n",
       "<table border=\"1\" class=\"dataframe\">\n",
       "  <thead>\n",
       "    <tr style=\"text-align: right;\">\n",
       "      <th></th>\n",
       "      <th>songId</th>\n",
       "      <th>title</th>\n",
       "      <th>artist</th>\n",
       "      <th>genre</th>\n",
       "      <th>album</th>\n",
       "      <th>lyricist</th>\n",
       "      <th>composer</th>\n",
       "    </tr>\n",
       "  </thead>\n",
       "  <tbody>\n",
       "    <tr>\n",
       "      <th>240</th>\n",
       "      <td>489091</td>\n",
       "      <td>원더 우먼</td>\n",
       "      <td>조원선</td>\n",
       "      <td>국내영화</td>\n",
       "      <td>봄날의 곰을 좋아하세요? OST</td>\n",
       "      <td>윤종신</td>\n",
       "      <td></td>\n",
       "    </tr>\n",
       "    <tr>\n",
       "      <th>2394</th>\n",
       "      <td>70696</td>\n",
       "      <td>취중진담(醉中眞談)</td>\n",
       "      <td>전람회</td>\n",
       "      <td>발라드</td>\n",
       "      <td>Exhibition 2</td>\n",
       "      <td>김동률</td>\n",
       "      <td>김동률</td>\n",
       "    </tr>\n",
       "    <tr>\n",
       "      <th>3006</th>\n",
       "      <td>2544949</td>\n",
       "      <td>못해 (Feat. 美)</td>\n",
       "      <td>포맨 (4MEN)</td>\n",
       "      <td>발라드</td>\n",
       "      <td>The 3rd Generation (Special Album)</td>\n",
       "      <td>민연재</td>\n",
       "      <td>윤민수(바이브)</td>\n",
       "    </tr>\n",
       "    <tr>\n",
       "      <th>3796</th>\n",
       "      <td>3864961</td>\n",
       "      <td>가수가 된 이유</td>\n",
       "      <td>신용재 (2F)</td>\n",
       "      <td>발라드</td>\n",
       "      <td>24</td>\n",
       "      <td>민연재</td>\n",
       "      <td>임세준</td>\n",
       "    </tr>\n",
       "    <tr>\n",
       "      <th>4594</th>\n",
       "      <td>70602</td>\n",
       "      <td>천생연분</td>\n",
       "      <td>솔리드</td>\n",
       "      <td>R&amp;B/Soul</td>\n",
       "      <td>Light Camera Action!</td>\n",
       "      <td>김수현</td>\n",
       "      <td>정재윤</td>\n",
       "    </tr>\n",
       "  </tbody>\n",
       "</table>\n",
       "</div>"
      ],
      "text/plain": [
       "       songId         title     artist     genre  \\\n",
       "240    489091         원더 우먼        조원선      국내영화   \n",
       "2394    70696    취중진담(醉中眞談)        전람회       발라드   \n",
       "3006  2544949  못해 (Feat. 美)  포맨 (4MEN)       발라드   \n",
       "3796  3864961      가수가 된 이유   신용재 (2F)       발라드   \n",
       "4594    70602          천생연분        솔리드  R&B/Soul   \n",
       "\n",
       "                                   album lyricist  composer  \n",
       "240                    봄날의 곰을 좋아하세요? OST      윤종신            \n",
       "2394                        Exhibition 2      김동률       김동률  \n",
       "3006  The 3rd Generation (Special Album)      민연재  윤민수(바이브)  \n",
       "3796                                  24      민연재       임세준  \n",
       "4594                Light Camera Action!      김수현       정재윤  "
      ]
     },
     "execution_count": 55,
     "metadata": {},
     "output_type": "execute_result"
    }
   ],
   "source": [
    "\n",
    "# df[df['songId'].isin(a.songId[1:6])].to_dict('records')\n",
    "df[df['songId'].isin(a.songId[1:6])][['songId', 'title', 'artist', 'genre', 'album', 'lyricist', 'composer']]"
   ]
  },
  {
   "cell_type": "code",
   "execution_count": 56,
   "metadata": {},
   "outputs": [
    {
     "data": {
      "text/plain": [
       "3661    0.162954\n",
       "3006    0.148939\n",
       "5528    0.136449\n",
       "834     0.136067\n",
       "955     0.125582\n",
       "3555    0.125297\n",
       "5439    0.121876\n",
       "6063    0.121769\n",
       "3044    0.119704\n",
       "3718    0.119437\n",
       "dtype: float64"
      ]
     },
     "execution_count": 56,
     "metadata": {},
     "output_type": "execute_result"
    }
   ],
   "source": [
    "from sklearn.metrics.pairwise import linear_kernel\n",
    "cosine_sim_total = linear_kernel(total_tv, total_tv)\n",
    "sim_scores = pd.Series(cosine_sim_total[indices[find_songid]])\n",
    "sim_scores.sort_values(ascending=False).head(11).tail(10)"
   ]
  },
  {
   "cell_type": "code",
   "execution_count": 30,
   "metadata": {},
   "outputs": [
    {
     "data": {
      "text/plain": [
       "array(['35837631', '35866717', '35879546', ..., '3080890', '2981597',\n",
       "       '34183979'], dtype=object)"
      ]
     },
     "execution_count": 30,
     "metadata": {},
     "output_type": "execute_result"
    }
   ],
   "source": [
    "# 찾고 싶은 구간 정하기\n",
    "numbers = df['comment_like_total']\n",
    "sorted_numbers = np.sort(numbers)\n",
    "q1 = np.percentile(sorted_numbers, 25)\n",
    "q2 = np.percentile(sorted_numbers, 50)\n",
    "filtered_data = df[(df['comment_like_total'] >= q1) & (df['comment_like_total'] < q2)]\n",
    "filtered_data = filtered_data[['songId', 'comment_like_total']]\n",
    "filtered_data.songId.values"
   ]
  },
  {
   "cell_type": "code",
   "execution_count": 19,
   "metadata": {},
   "outputs": [
    {
     "data": {
      "text/html": [
       "<div>\n",
       "<style scoped>\n",
       "    .dataframe tbody tr th:only-of-type {\n",
       "        vertical-align: middle;\n",
       "    }\n",
       "\n",
       "    .dataframe tbody tr th {\n",
       "        vertical-align: top;\n",
       "    }\n",
       "\n",
       "    .dataframe thead th {\n",
       "        text-align: right;\n",
       "    }\n",
       "</style>\n",
       "<table border=\"1\" class=\"dataframe\">\n",
       "  <thead>\n",
       "    <tr style=\"text-align: right;\">\n",
       "      <th></th>\n",
       "      <th>songId</th>\n",
       "    </tr>\n",
       "  </thead>\n",
       "  <tbody>\n",
       "    <tr>\n",
       "      <th>5377</th>\n",
       "      <td>36263930</td>\n",
       "    </tr>\n",
       "    <tr>\n",
       "      <th>4835</th>\n",
       "      <td>36421590</td>\n",
       "    </tr>\n",
       "    <tr>\n",
       "      <th>6101</th>\n",
       "      <td>31037943</td>\n",
       "    </tr>\n",
       "    <tr>\n",
       "      <th>4776</th>\n",
       "      <td>36282049</td>\n",
       "    </tr>\n",
       "    <tr>\n",
       "      <th>477</th>\n",
       "      <td>36425393</td>\n",
       "    </tr>\n",
       "  </tbody>\n",
       "</table>\n",
       "</div>"
      ],
      "text/plain": [
       "        songId\n",
       "5377  36263930\n",
       "4835  36421590\n",
       "6101  31037943\n",
       "4776  36282049\n",
       "477   36425393"
      ]
     },
     "execution_count": 19,
     "metadata": {},
     "output_type": "execute_result"
    }
   ],
   "source": [
    "# 유사도 top 30 중 원하는 구간에 있는 songId 추출(유사도순)\n",
    "d = a[a['songId'].isin(filtered_data.songId.values)].head(5)\n",
    "d"
   ]
  },
  {
   "cell_type": "code",
   "execution_count": 20,
   "metadata": {},
   "outputs": [
    {
     "data": {
      "text/html": [
       "<div>\n",
       "<style scoped>\n",
       "    .dataframe tbody tr th:only-of-type {\n",
       "        vertical-align: middle;\n",
       "    }\n",
       "\n",
       "    .dataframe tbody tr th {\n",
       "        vertical-align: top;\n",
       "    }\n",
       "\n",
       "    .dataframe thead th {\n",
       "        text-align: right;\n",
       "    }\n",
       "</style>\n",
       "<table border=\"1\" class=\"dataframe\">\n",
       "  <thead>\n",
       "    <tr style=\"text-align: right;\">\n",
       "      <th></th>\n",
       "      <th>songId</th>\n",
       "      <th>title</th>\n",
       "      <th>artist</th>\n",
       "      <th>genre</th>\n",
       "      <th>album</th>\n",
       "      <th>lyricist</th>\n",
       "      <th>composer</th>\n",
       "    </tr>\n",
       "  </thead>\n",
       "  <tbody>\n",
       "    <tr>\n",
       "      <th>3102</th>\n",
       "      <td>3837683</td>\n",
       "      <td>Loving U (러빙유)</td>\n",
       "      <td>씨스타</td>\n",
       "      <td>댄스</td>\n",
       "      <td>Summer Special 'Loving U'</td>\n",
       "      <td>이단옆차기</td>\n",
       "      <td>이단옆차기</td>\n",
       "    </tr>\n",
       "    <tr>\n",
       "      <th>4033</th>\n",
       "      <td>36182838</td>\n",
       "      <td>ROAR</td>\n",
       "      <td>더보이즈 (THE BOYZ)</td>\n",
       "      <td>댄스</td>\n",
       "      <td>THE BOYZ 8th MINI ALBUM [BE AWAKE]</td>\n",
       "      <td>KENZIE</td>\n",
       "      <td>DEEZ</td>\n",
       "    </tr>\n",
       "    <tr>\n",
       "      <th>4835</th>\n",
       "      <td>36421590</td>\n",
       "      <td>이별클럽 (Feat. 이찬혁)</td>\n",
       "      <td>Colde (콜드)</td>\n",
       "      <td>R&amp;B/Soul</td>\n",
       "      <td>Love Part 2</td>\n",
       "      <td>Colde (콜드)</td>\n",
       "      <td>이찬혁</td>\n",
       "    </tr>\n",
       "    <tr>\n",
       "      <th>5377</th>\n",
       "      <td>36263930</td>\n",
       "      <td>기다릴게</td>\n",
       "      <td>PLAVE</td>\n",
       "      <td>록/메탈</td>\n",
       "      <td>ASTERUM</td>\n",
       "      <td>PLAVE</td>\n",
       "      <td>EL CAPITXN</td>\n",
       "    </tr>\n",
       "    <tr>\n",
       "      <th>6101</th>\n",
       "      <td>31037943</td>\n",
       "      <td>그런 연애 (Feat. 아인 of 모모랜드)</td>\n",
       "      <td>그_냥</td>\n",
       "      <td>인디음악 포크/블루스</td>\n",
       "      <td>그런 연애 (Feat. 아인 of 모모랜드)</td>\n",
       "      <td>그_냥</td>\n",
       "      <td>그_냥</td>\n",
       "    </tr>\n",
       "  </tbody>\n",
       "</table>\n",
       "</div>"
      ],
      "text/plain": [
       "        songId                     title           artist        genre  \\\n",
       "3102   3837683            Loving U (러빙유)              씨스타           댄스   \n",
       "4033  36182838                      ROAR  더보이즈 (THE BOYZ)           댄스   \n",
       "4835  36421590          이별클럽 (Feat. 이찬혁)       Colde (콜드)     R&B/Soul   \n",
       "5377  36263930                      기다릴게            PLAVE         록/메탈   \n",
       "6101  31037943  그런 연애 (Feat. 아인 of 모모랜드)              그_냥  인디음악 포크/블루스   \n",
       "\n",
       "                                   album    lyricist    composer  \n",
       "3102           Summer Special 'Loving U'       이단옆차기       이단옆차기  \n",
       "4033  THE BOYZ 8th MINI ALBUM [BE AWAKE]      KENZIE        DEEZ  \n",
       "4835                         Love Part 2  Colde (콜드)         이찬혁  \n",
       "5377                             ASTERUM       PLAVE  EL CAPITXN  \n",
       "6101            그런 연애 (Feat. 아인 of 모모랜드)         그_냥         그_냥  "
      ]
     },
     "execution_count": 20,
     "metadata": {},
     "output_type": "execute_result"
    }
   ],
   "source": [
    "# filtered_df = df[df['songId'].isin(a.songId.values[:5])].to_dict('records')\n",
    "filtered_df = df[df['songId'].isin(a.songId.values[:5])][['songId', 'title', 'artist', 'genre', 'album', 'lyricist', 'composer']]\n",
    "filtered_df"
   ]
  },
  {
   "cell_type": "code",
   "execution_count": null,
   "metadata": {},
   "outputs": [],
   "source": []
  }
 ],
 "metadata": {
  "kernelspec": {
   "display_name": "base",
   "language": "python",
   "name": "python3"
  },
  "language_info": {
   "codemirror_mode": {
    "name": "ipython",
    "version": 3
   },
   "file_extension": ".py",
   "mimetype": "text/x-python",
   "name": "python",
   "nbconvert_exporter": "python",
   "pygments_lexer": "ipython3",
   "version": "3.9.13"
  },
  "orig_nbformat": 4
 },
 "nbformat": 4,
 "nbformat_minor": 2
}
