{
 "cells": [
  {
   "attachments": {},
   "cell_type": "markdown",
   "metadata": {},
   "source": [
    "### 좋아요수 / 댓글 분산 적용 기반 추천(명곡?)\n",
    "- Input(title, artist) : contains로 찾기 => 결과 songId 한 개만 반환하도록 한다.\n",
    "- I am 찾기 -> 전체 (좋아요+댓글) -> 3번째 분산 데이터들에서 -> 가사분석해서 비슷한 노래 찾기 top5\n",
    "- I am 찾기 -> 가사분석해서 비슷한 노래 찾기 -> 전체 (좋아요+댓글) -> 3번째 분산 데이터들에서 top5\n",
    "- 반환된 songId 들의 정보 출력"
   ]
  },
  {
   "cell_type": "code",
   "execution_count": 28,
   "metadata": {},
   "outputs": [],
   "source": [
    "import numpy as np\n",
    "import pandas as pd\n",
    "import joblib, re, string"
   ]
  },
  {
   "cell_type": "code",
   "execution_count": 41,
   "metadata": {},
   "outputs": [
    {
     "data": {
      "text/html": [
       "<div>\n",
       "<style scoped>\n",
       "    .dataframe tbody tr th:only-of-type {\n",
       "        vertical-align: middle;\n",
       "    }\n",
       "\n",
       "    .dataframe tbody tr th {\n",
       "        vertical-align: top;\n",
       "    }\n",
       "\n",
       "    .dataframe thead th {\n",
       "        text-align: right;\n",
       "    }\n",
       "</style>\n",
       "<table border=\"1\" class=\"dataframe\">\n",
       "  <thead>\n",
       "    <tr style=\"text-align: right;\">\n",
       "      <th></th>\n",
       "      <th>songId</th>\n",
       "      <th>title</th>\n",
       "      <th>artist</th>\n",
       "      <th>genre</th>\n",
       "      <th>album</th>\n",
       "      <th>lyricist</th>\n",
       "      <th>composer</th>\n",
       "      <th>date</th>\n",
       "      <th>img</th>\n",
       "      <th>comment</th>\n",
       "      <th>like</th>\n",
       "      <th>lyric</th>\n",
       "      <th>plylstSeq</th>\n",
       "      <th>total</th>\n",
       "      <th>ly_summary</th>\n",
       "    </tr>\n",
       "  </thead>\n",
       "  <tbody>\n",
       "    <tr>\n",
       "      <th>6245</th>\n",
       "      <td>34183979</td>\n",
       "      <td>인생 한잔</td>\n",
       "      <td>정은지</td>\n",
       "      <td>포크/블루스 국내드라마</td>\n",
       "      <td>술꾼도시여자들 OST Part 2</td>\n",
       "      <td>빨간양말</td>\n",
       "      <td>INAN</td>\n",
       "      <td>20211029</td>\n",
       "      <td>https://cdnimg.melon.co.kr/cm2/album/images/10...</td>\n",
       "      <td>12</td>\n",
       "      <td>4512</td>\n",
       "      <td>사랑도 이별도 오늘은 잠시 미뤄보자\\n불안한 청춘도 내일로 잠시 미뤄두자\\n떠나버린...</td>\n",
       "      <td>506225967 434154554</td>\n",
       "      <td>사랑 이별 오늘 잠시 미루다 보다 불안하다 청춘 내일 잠시 미루다 두다 떠나다 버리...</td>\n",
       "      <td>NaN</td>\n",
       "    </tr>\n",
       "    <tr>\n",
       "      <th>6246</th>\n",
       "      <td>31191637</td>\n",
       "      <td>6 o'clock</td>\n",
       "      <td>볼빨간사춘기</td>\n",
       "      <td>인디음악 포크/블루스</td>\n",
       "      <td>Red Diary 'Hidden Track'</td>\n",
       "      <td>안지영</td>\n",
       "      <td>안지영</td>\n",
       "      <td>20180717</td>\n",
       "      <td>https://cdnimg.melon.co.kr/cm/album/images/101...</td>\n",
       "      <td>87</td>\n",
       "      <td>15668</td>\n",
       "      <td>It's 6 o'clock\\n너와 나는 시간이 빨라서\\n시간이 달라서\\n어쩔 수 없...</td>\n",
       "      <td>458080033 442957041</td>\n",
       "      <td>It ' s 6 o ' clock 너 와 나 시간 빨 라서 시간 달라 서 어쩔 없이...</td>\n",
       "      <td>NaN</td>\n",
       "    </tr>\n",
       "  </tbody>\n",
       "</table>\n",
       "</div>"
      ],
      "text/plain": [
       "        songId      title  artist         genre                     album   \n",
       "6245  34183979      인생 한잔     정은지  포크/블루스 국내드라마        술꾼도시여자들 OST Part 2  \\\n",
       "6246  31191637  6 o'clock  볼빨간사춘기   인디음악 포크/블루스  Red Diary 'Hidden Track'   \n",
       "\n",
       "     lyricist composer      date   \n",
       "6245     빨간양말     INAN  20211029  \\\n",
       "6246      안지영      안지영  20180717   \n",
       "\n",
       "                                                    img  comment   like   \n",
       "6245  https://cdnimg.melon.co.kr/cm2/album/images/10...       12   4512  \\\n",
       "6246  https://cdnimg.melon.co.kr/cm/album/images/101...       87  15668   \n",
       "\n",
       "                                                  lyric            plylstSeq   \n",
       "6245  사랑도 이별도 오늘은 잠시 미뤄보자\\n불안한 청춘도 내일로 잠시 미뤄두자\\n떠나버린...  506225967 434154554  \\\n",
       "6246  It's 6 o'clock\\n너와 나는 시간이 빨라서\\n시간이 달라서\\n어쩔 수 없...  458080033 442957041   \n",
       "\n",
       "                                                  total ly_summary  \n",
       "6245  사랑 이별 오늘 잠시 미루다 보다 불안하다 청춘 내일 잠시 미루다 두다 떠나다 버리...        NaN  \n",
       "6246  It ' s 6 o ' clock 너 와 나 시간 빨 라서 시간 달라 서 어쩔 없이...        NaN  "
      ]
     },
     "execution_count": 41,
     "metadata": {},
     "output_type": "execute_result"
    }
   ],
   "source": [
    "df = pd.read_csv('data/melon_song_v3.csv')\n",
    "cosine_sim = joblib.load('data/melon_cosine_sim.sim')\n",
    "df.tail(2)"
   ]
  },
  {
   "cell_type": "code",
   "execution_count": 43,
   "metadata": {},
   "outputs": [
    {
     "data": {
      "text/plain": [
       "2"
      ]
     },
     "execution_count": 43,
     "metadata": {},
     "output_type": "execute_result"
    }
   ],
   "source": [
    "df.ly_summary.isna().sum()"
   ]
  },
  {
   "cell_type": "code",
   "execution_count": 30,
   "metadata": {},
   "outputs": [],
   "source": [
    "# 데이터 처리를 위한 작업\n",
    "df.date.fillna(0, inplace=True)\n",
    "df['date'] = df.date.astype(int).astype(str)\n",
    "df.fillna('', inplace=True)\n",
    "# df['comment_like_total'] = df.comment + df.like\n",
    "df['songId'] = df.songId.astype(str)"
   ]
  },
  {
   "cell_type": "code",
   "execution_count": 38,
   "metadata": {},
   "outputs": [],
   "source": [
    "# 한글 불용어 처리\n",
    "with open('data/한글불용어.txt') as st:\n",
    "    lines = st.readlines()\n",
    "stop_words = [line.split('\\t')[0] for line in lines]\n",
    "stop_words.extend('은 는 를 도 을 며 의 에 게 니 거 로 요 과 래 랑 파 여 에게'.split())"
   ]
  },
  {
   "cell_type": "code",
   "execution_count": 39,
   "metadata": {},
   "outputs": [],
   "source": [
    "from konlpy.tag import Okt\n",
    "okt = Okt()"
   ]
  },
  {
   "cell_type": "code",
   "execution_count": 40,
   "metadata": {},
   "outputs": [],
   "source": [
    "lyrics = []\n",
    "for lyric in df.lyric:\n",
    "    lyric = lyric.replace('\\n', ' ')\n",
    "    morphs = okt.morphs(lyric, stem=True)\n",
    "    tmp = [word for word in morphs if word not in stop_words]\n",
    "    lyrics.append(' '.join(tmp))\n",
    "df['morphs'] = lyrics"
   ]
  },
  {
   "cell_type": "code",
   "execution_count": 41,
   "metadata": {},
   "outputs": [],
   "source": [
    "# 학습할 데이터열 생성\n",
    "df['total'] = df.morphs + (' ' + df.title) + (' ' + df.artist) * 2 + (' ' + df.composer) * 2 + (' ' + df.lyricist) * 2 + (' ' + df.genre) * 3"
   ]
  },
  {
   "cell_type": "code",
   "execution_count": 42,
   "metadata": {},
   "outputs": [],
   "source": [
    "df.set_index('songId', inplace=True)\n",
    "df.reset_index(inplace=True)"
   ]
  },
  {
   "cell_type": "code",
   "execution_count": 4,
   "metadata": {},
   "outputs": [],
   "source": [
    "\n",
    "from sklearn.feature_extraction.text import TfidfVectorizer\n",
    "tvect = TfidfVectorizer(stop_words='english')\n",
    "total_tv = tvect.fit_transform(df.total)"
   ]
  },
  {
   "cell_type": "code",
   "execution_count": 10,
   "metadata": {},
   "outputs": [],
   "source": [
    "# 장르가 힙합이나 댄스 : 결과 안 좋거나 거의 비슷하다. \n",
    "# from sklearn.feature_extraction.text import CountVectorizer\n",
    "# cvect = CountVectorizer(stop_words='english')\n",
    "# total_cv = cvect.fit_transform(df.total)"
   ]
  },
  {
   "cell_type": "code",
   "execution_count": 31,
   "metadata": {},
   "outputs": [],
   "source": [
    "indices = pd.Series(df.index, index=df.songId)"
   ]
  },
  {
   "cell_type": "code",
   "execution_count": 45,
   "metadata": {},
   "outputs": [],
   "source": [
    "from sklearn.metrics.pairwise import cosine_similarity\n",
    "cosine_sim = cosine_similarity(total_tv)"
   ]
  },
  {
   "cell_type": "code",
   "execution_count": 51,
   "metadata": {},
   "outputs": [],
   "source": [
    "# from sklearn.metrics.pairwise import cosine_similarity\n",
    "# cosine_sim = cosine_similarity(total_cv)"
   ]
  },
  {
   "cell_type": "code",
   "execution_count": 32,
   "metadata": {},
   "outputs": [],
   "source": [
    "def get_recommendation(songId, cos_sim):\n",
    "    index = indices[songId]\n",
    "    sim_scores = pd.Series(cos_sim[index])\n",
    "    song_indices = sim_scores.sort_values(ascending=False).head(31).tail(30).index\n",
    "    return df.songId.iloc[song_indices]"
   ]
  },
  {
   "cell_type": "code",
   "execution_count": 26,
   "metadata": {},
   "outputs": [
    {
     "data": {
      "text/html": [
       "<div>\n",
       "<style scoped>\n",
       "    .dataframe tbody tr th:only-of-type {\n",
       "        vertical-align: middle;\n",
       "    }\n",
       "\n",
       "    .dataframe tbody tr th {\n",
       "        vertical-align: top;\n",
       "    }\n",
       "\n",
       "    .dataframe thead th {\n",
       "        text-align: right;\n",
       "    }\n",
       "</style>\n",
       "<table border=\"1\" class=\"dataframe\">\n",
       "  <thead>\n",
       "    <tr style=\"text-align: right;\">\n",
       "      <th></th>\n",
       "      <th>songId</th>\n",
       "      <th>title</th>\n",
       "      <th>artist</th>\n",
       "      <th>genre</th>\n",
       "      <th>album</th>\n",
       "      <th>lyricist</th>\n",
       "      <th>composer</th>\n",
       "      <th>date</th>\n",
       "      <th>img</th>\n",
       "      <th>comment</th>\n",
       "      <th>like</th>\n",
       "      <th>lyric</th>\n",
       "      <th>plylstSeq</th>\n",
       "      <th>total</th>\n",
       "    </tr>\n",
       "  </thead>\n",
       "  <tbody>\n",
       "    <tr>\n",
       "      <th>3129</th>\n",
       "      <td>3853977</td>\n",
       "      <td>뜨거운 안녕 (Feat. 성시경)</td>\n",
       "      <td>싸이 (PSY)</td>\n",
       "      <td>랩/힙합</td>\n",
       "      <td>싸이6甲 Part.1</td>\n",
       "      <td>유희열</td>\n",
       "      <td>싸이 (PSY)</td>\n",
       "      <td>20120715</td>\n",
       "      <td>https://cdnimg.melon.co.kr/cm/album/images/021...</td>\n",
       "      <td>107</td>\n",
       "      <td>79115</td>\n",
       "      <td>PSY collaboration\\nTOY introducing 성발라\\n불타 올랐던...</td>\n",
       "      <td>445029956 429291289</td>\n",
       "      <td>PSY collaboration TOY introducing 성 발라 불타 오르다 ...</td>\n",
       "    </tr>\n",
       "    <tr>\n",
       "      <th>4245</th>\n",
       "      <td>34997080</td>\n",
       "      <td>감동이야 (feat. 성시경)</td>\n",
       "      <td>싸이 (PSY)</td>\n",
       "      <td>랩/힙합</td>\n",
       "      <td>싸다9</td>\n",
       "      <td>싸이 (PSY)</td>\n",
       "      <td>화이트99</td>\n",
       "      <td>20220429</td>\n",
       "      <td>https://cdnimg.melon.co.kr/cm2/album/images/10...</td>\n",
       "      <td>122</td>\n",
       "      <td>19021</td>\n",
       "      <td>넌 역시 감동이야 꿈을 꾸는 듯해\\n넌 역시 감동이야 품에 품은 듯해 \\n영원을 믿...</td>\n",
       "      <td>439324772 418156677</td>\n",
       "      <td>넌 역시 감동 이야 꿈 꾸다 듯 하다 넌 역시 감동 이야 품 품다 듯 하다 영원 믿...</td>\n",
       "    </tr>\n",
       "  </tbody>\n",
       "</table>\n",
       "</div>"
      ],
      "text/plain": [
       "        songId               title    artist genre        album  lyricist   \n",
       "3129   3853977  뜨거운 안녕 (Feat. 성시경)  싸이 (PSY)  랩/힙합  싸이6甲 Part.1       유희열  \\\n",
       "4245  34997080    감동이야 (feat. 성시경)  싸이 (PSY)  랩/힙합          싸다9  싸이 (PSY)   \n",
       "\n",
       "      composer      date                                                img   \n",
       "3129  싸이 (PSY)  20120715  https://cdnimg.melon.co.kr/cm/album/images/021...  \\\n",
       "4245     화이트99  20220429  https://cdnimg.melon.co.kr/cm2/album/images/10...   \n",
       "\n",
       "      comment   like                                              lyric   \n",
       "3129      107  79115  PSY collaboration\\nTOY introducing 성발라\\n불타 올랐던...  \\\n",
       "4245      122  19021  넌 역시 감동이야 꿈을 꾸는 듯해\\n넌 역시 감동이야 품에 품은 듯해 \\n영원을 믿...   \n",
       "\n",
       "                plylstSeq                                              total  \n",
       "3129  445029956 429291289  PSY collaboration TOY introducing 성 발라 불타 오르다 ...  \n",
       "4245  439324772 418156677  넌 역시 감동 이야 꿈 꾸다 듯 하다 넌 역시 감동 이야 품 품다 듯 하다 영원 믿...  "
      ]
     },
     "execution_count": 26,
     "metadata": {},
     "output_type": "execute_result"
    }
   ],
   "source": [
    "df[df.title.str.contains('성시경')]"
   ]
  },
  {
   "cell_type": "code",
   "execution_count": 33,
   "metadata": {},
   "outputs": [
    {
     "name": "stdout",
     "output_type": "stream",
     "text": [
      "안녕 성시경\n"
     ]
    },
    {
     "data": {
      "text/html": [
       "<div>\n",
       "<style scoped>\n",
       "    .dataframe tbody tr th:only-of-type {\n",
       "        vertical-align: middle;\n",
       "    }\n",
       "\n",
       "    .dataframe tbody tr th {\n",
       "        vertical-align: top;\n",
       "    }\n",
       "\n",
       "    .dataframe thead th {\n",
       "        text-align: right;\n",
       "    }\n",
       "</style>\n",
       "<table border=\"1\" class=\"dataframe\">\n",
       "  <thead>\n",
       "    <tr style=\"text-align: right;\">\n",
       "      <th></th>\n",
       "      <th>songId</th>\n",
       "      <th>title</th>\n",
       "      <th>artist</th>\n",
       "      <th>album</th>\n",
       "      <th>date</th>\n",
       "      <th>img</th>\n",
       "    </tr>\n",
       "  </thead>\n",
       "  <tbody>\n",
       "    <tr>\n",
       "      <th>586</th>\n",
       "      <td>9646401</td>\n",
       "      <td>다정하게, 안녕히</td>\n",
       "      <td>성시경</td>\n",
       "      <td>구르미 그린 달빛 OST Part.5</td>\n",
       "      <td>20160914</td>\n",
       "      <td>https://cdnimg.melon.co.kr/cm/album/images/027...</td>\n",
       "    </tr>\n",
       "    <tr>\n",
       "      <th>3729</th>\n",
       "      <td>1884329</td>\n",
       "      <td>안녕 나의 사랑</td>\n",
       "      <td>성시경</td>\n",
       "      <td>여기, 내 맘속에...</td>\n",
       "      <td>20080612</td>\n",
       "      <td>https://cdnimg.melon.co.kr/cm/album/images/003...</td>\n",
       "    </tr>\n",
       "  </tbody>\n",
       "</table>\n",
       "</div>"
      ],
      "text/plain": [
       "       songId      title artist                 album      date   \n",
       "586   9646401  다정하게, 안녕히    성시경  구르미 그린 달빛 OST Part.5  20160914  \\\n",
       "3729  1884329   안녕 나의 사랑    성시경          여기, 내 맘속에...  20080612   \n",
       "\n",
       "                                                    img  \n",
       "586   https://cdnimg.melon.co.kr/cm/album/images/027...  \n",
       "3729  https://cdnimg.melon.co.kr/cm/album/images/003...  "
      ]
     },
     "execution_count": 33,
     "metadata": {},
     "output_type": "execute_result"
    }
   ],
   "source": [
    "\n",
    "# 키워드 바꿔가면서 찾아보기\n",
    "key_title = '안녕'\n",
    "key_artist = '성시경'\n",
    "print(key_title, key_artist)\n",
    "\n",
    "key_title = re.sub('['+string.punctuation+']', '', key_title)\n",
    "key_artist = re.sub('['+string.punctuation+']', '', key_artist)\n",
    "\n",
    "songIds =  df[df.title.str.replace('['+string.punctuation+']','', regex=True).str.contains(key_title, case=False) \n",
    "                & df.artist.str.replace('['+string.punctuation+']','', regex=True).str.contains(key_artist, case=False)][['songId', 'title', 'artist', 'album', 'date', 'img']]\n",
    "\n",
    "songIds"
   ]
  },
  {
   "cell_type": "code",
   "execution_count": 34,
   "metadata": {},
   "outputs": [
    {
     "data": {
      "text/html": [
       "<div>\n",
       "<style scoped>\n",
       "    .dataframe tbody tr th:only-of-type {\n",
       "        vertical-align: middle;\n",
       "    }\n",
       "\n",
       "    .dataframe tbody tr th {\n",
       "        vertical-align: top;\n",
       "    }\n",
       "\n",
       "    .dataframe thead th {\n",
       "        text-align: right;\n",
       "    }\n",
       "</style>\n",
       "<table border=\"1\" class=\"dataframe\">\n",
       "  <thead>\n",
       "    <tr style=\"text-align: right;\">\n",
       "      <th></th>\n",
       "      <th>songId</th>\n",
       "    </tr>\n",
       "  </thead>\n",
       "  <tbody>\n",
       "    <tr>\n",
       "      <th>348</th>\n",
       "      <td>4446485</td>\n",
       "    </tr>\n",
       "    <tr>\n",
       "      <th>414</th>\n",
       "      <td>3079872</td>\n",
       "    </tr>\n",
       "    <tr>\n",
       "      <th>2605</th>\n",
       "      <td>8302</td>\n",
       "    </tr>\n",
       "    <tr>\n",
       "      <th>385</th>\n",
       "      <td>4864206</td>\n",
       "    </tr>\n",
       "    <tr>\n",
       "      <th>412</th>\n",
       "      <td>4300699</td>\n",
       "    </tr>\n",
       "  </tbody>\n",
       "</table>\n",
       "</div>"
      ],
      "text/plain": [
       "       songId\n",
       "348   4446485\n",
       "414   3079872\n",
       "2605     8302\n",
       "385   4864206\n",
       "412   4300699"
      ]
     },
     "execution_count": 34,
     "metadata": {},
     "output_type": "execute_result"
    }
   ],
   "source": [
    "find_songid = songIds.songId.values[0]\n",
    "a = get_recommendation(find_songid, cosine_sim).to_frame()\n",
    "a.head()"
   ]
  },
  {
   "cell_type": "code",
   "execution_count": 12,
   "metadata": {},
   "outputs": [
    {
     "data": {
      "text/html": [
       "<div>\n",
       "<style scoped>\n",
       "    .dataframe tbody tr th:only-of-type {\n",
       "        vertical-align: middle;\n",
       "    }\n",
       "\n",
       "    .dataframe tbody tr th {\n",
       "        vertical-align: top;\n",
       "    }\n",
       "\n",
       "    .dataframe thead th {\n",
       "        text-align: right;\n",
       "    }\n",
       "</style>\n",
       "<table border=\"1\" class=\"dataframe\">\n",
       "  <thead>\n",
       "    <tr style=\"text-align: right;\">\n",
       "      <th></th>\n",
       "      <th>songId</th>\n",
       "      <th>title</th>\n",
       "      <th>artist</th>\n",
       "      <th>genre</th>\n",
       "      <th>album</th>\n",
       "      <th>lyricist</th>\n",
       "      <th>composer</th>\n",
       "    </tr>\n",
       "  </thead>\n",
       "  <tbody>\n",
       "    <tr>\n",
       "      <th>834</th>\n",
       "      <td>30989466</td>\n",
       "      <td>그대니까요</td>\n",
       "      <td>다비치</td>\n",
       "      <td>발라드 국내드라마</td>\n",
       "      <td>라이브 OST Part.3</td>\n",
       "      <td>지훈</td>\n",
       "      <td>로코베리</td>\n",
       "    </tr>\n",
       "    <tr>\n",
       "      <th>955</th>\n",
       "      <td>36351521</td>\n",
       "      <td>괜찮아 괜찮아</td>\n",
       "      <td>캐리와 친구들</td>\n",
       "      <td>국내뮤지컬</td>\n",
       "      <td>캐리TV 쇼뮤지컬 [캐리와 슈퍼걸스]</td>\n",
       "      <td>NaN</td>\n",
       "      <td>NaN</td>\n",
       "    </tr>\n",
       "    <tr>\n",
       "      <th>3006</th>\n",
       "      <td>2544949</td>\n",
       "      <td>못해 (Feat. 美)</td>\n",
       "      <td>포맨 (4MEN)</td>\n",
       "      <td>발라드</td>\n",
       "      <td>The 3rd Generation (Special Album)</td>\n",
       "      <td>민연재</td>\n",
       "      <td>윤민수(바이브)</td>\n",
       "    </tr>\n",
       "    <tr>\n",
       "      <th>3555</th>\n",
       "      <td>35920493</td>\n",
       "      <td>그대를 알고</td>\n",
       "      <td>송하예</td>\n",
       "      <td>발라드</td>\n",
       "      <td>그대를 알고</td>\n",
       "      <td>윤사라</td>\n",
       "      <td>김도훈 (RBW)</td>\n",
       "    </tr>\n",
       "    <tr>\n",
       "      <th>5528</th>\n",
       "      <td>36181010</td>\n",
       "      <td>밥 한 번 먹자</td>\n",
       "      <td>이찬원</td>\n",
       "      <td>성인가요/트로트</td>\n",
       "      <td>ONE</td>\n",
       "      <td>박종근</td>\n",
       "      <td>오승은</td>\n",
       "    </tr>\n",
       "  </tbody>\n",
       "</table>\n",
       "</div>"
      ],
      "text/plain": [
       "        songId         title     artist      genre   \n",
       "834   30989466         그대니까요        다비치  발라드 국내드라마  \\\n",
       "955   36351521       괜찮아 괜찮아    캐리와 친구들      국내뮤지컬   \n",
       "3006   2544949  못해 (Feat. 美)  포맨 (4MEN)        발라드   \n",
       "3555  35920493        그대를 알고        송하예        발라드   \n",
       "5528  36181010      밥 한 번 먹자        이찬원   성인가요/트로트   \n",
       "\n",
       "                                   album lyricist   composer  \n",
       "834                       라이브 OST Part.3       지훈       로코베리  \n",
       "955                 캐리TV 쇼뮤지컬 [캐리와 슈퍼걸스]      NaN        NaN  \n",
       "3006  The 3rd Generation (Special Album)      민연재   윤민수(바이브)  \n",
       "3555                              그대를 알고      윤사라  김도훈 (RBW)  \n",
       "5528                                 ONE      박종근        오승은  "
      ]
     },
     "execution_count": 12,
     "metadata": {},
     "output_type": "execute_result"
    }
   ],
   "source": [
    "\n",
    "# df[df['songId'].isin(a.songId[1:6])].to_dict('records')\n",
    "df[df['songId'].isin(a.songId[1:6])][['songId', 'title', 'artist', 'genre', 'album', 'lyricist', 'composer']]"
   ]
  },
  {
   "cell_type": "code",
   "execution_count": 13,
   "metadata": {},
   "outputs": [
    {
     "data": {
      "text/plain": [
       "3661    0.162954\n",
       "3006    0.148939\n",
       "5528    0.136449\n",
       "834     0.136067\n",
       "955     0.125582\n",
       "3555    0.125297\n",
       "5439    0.121875\n",
       "6063    0.121769\n",
       "3044    0.119704\n",
       "3718    0.119436\n",
       "dtype: float64"
      ]
     },
     "execution_count": 13,
     "metadata": {},
     "output_type": "execute_result"
    }
   ],
   "source": [
    "from sklearn.metrics.pairwise import linear_kernel\n",
    "cosine_sim_total = linear_kernel(total_tv, total_tv)\n",
    "sim_scores = pd.Series(cosine_sim_total[indices[find_songid]])\n",
    "sim_scores.sort_values(ascending=False).head(11).tail(10)"
   ]
  },
  {
   "cell_type": "code",
   "execution_count": 30,
   "metadata": {},
   "outputs": [
    {
     "data": {
      "text/plain": [
       "array(['35837631', '35866717', '35879546', ..., '3080890', '2981597',\n",
       "       '34183979'], dtype=object)"
      ]
     },
     "execution_count": 30,
     "metadata": {},
     "output_type": "execute_result"
    }
   ],
   "source": [
    "# 찾고 싶은 구간 정하기\n",
    "numbers = df['comment_like_total']\n",
    "sorted_numbers = np.sort(numbers)\n",
    "q1 = np.percentile(sorted_numbers, 25)\n",
    "q2 = np.percentile(sorted_numbers, 50)\n",
    "filtered_data = df[(df['comment_like_total'] >= q1) & (df['comment_like_total'] < q2)]\n",
    "filtered_data = filtered_data[['songId', 'comment_like_total']]\n",
    "filtered_data.songId.values"
   ]
  },
  {
   "cell_type": "code",
   "execution_count": 19,
   "metadata": {},
   "outputs": [
    {
     "data": {
      "text/html": [
       "<div>\n",
       "<style scoped>\n",
       "    .dataframe tbody tr th:only-of-type {\n",
       "        vertical-align: middle;\n",
       "    }\n",
       "\n",
       "    .dataframe tbody tr th {\n",
       "        vertical-align: top;\n",
       "    }\n",
       "\n",
       "    .dataframe thead th {\n",
       "        text-align: right;\n",
       "    }\n",
       "</style>\n",
       "<table border=\"1\" class=\"dataframe\">\n",
       "  <thead>\n",
       "    <tr style=\"text-align: right;\">\n",
       "      <th></th>\n",
       "      <th>songId</th>\n",
       "    </tr>\n",
       "  </thead>\n",
       "  <tbody>\n",
       "    <tr>\n",
       "      <th>5377</th>\n",
       "      <td>36263930</td>\n",
       "    </tr>\n",
       "    <tr>\n",
       "      <th>4835</th>\n",
       "      <td>36421590</td>\n",
       "    </tr>\n",
       "    <tr>\n",
       "      <th>6101</th>\n",
       "      <td>31037943</td>\n",
       "    </tr>\n",
       "    <tr>\n",
       "      <th>4776</th>\n",
       "      <td>36282049</td>\n",
       "    </tr>\n",
       "    <tr>\n",
       "      <th>477</th>\n",
       "      <td>36425393</td>\n",
       "    </tr>\n",
       "  </tbody>\n",
       "</table>\n",
       "</div>"
      ],
      "text/plain": [
       "        songId\n",
       "5377  36263930\n",
       "4835  36421590\n",
       "6101  31037943\n",
       "4776  36282049\n",
       "477   36425393"
      ]
     },
     "execution_count": 19,
     "metadata": {},
     "output_type": "execute_result"
    }
   ],
   "source": [
    "# 유사도 top 30 중 원하는 구간에 있는 songId 추출(유사도순)\n",
    "d = a[a['songId'].isin(filtered_data.songId.values)].head(5)\n",
    "d"
   ]
  },
  {
   "cell_type": "code",
   "execution_count": 1,
   "metadata": {},
   "outputs": [
    {
     "ename": "NameError",
     "evalue": "name 'df' is not defined",
     "output_type": "error",
     "traceback": [
      "\u001b[1;31m---------------------------------------------------------------------------\u001b[0m",
      "\u001b[1;31mNameError\u001b[0m                                 Traceback (most recent call last)",
      "Cell \u001b[1;32mIn[1], line 2\u001b[0m\n\u001b[0;32m      1\u001b[0m \u001b[39m# filtered_df = df[df['songId'].isin(a.songId.values[:5])].to_dict('records')\u001b[39;00m\n\u001b[1;32m----> 2\u001b[0m filtered_df \u001b[39m=\u001b[39m df[df[\u001b[39m'\u001b[39m\u001b[39msongId\u001b[39m\u001b[39m'\u001b[39m]\u001b[39m.\u001b[39misin(d\u001b[39m.\u001b[39msongId\u001b[39m.\u001b[39mvalues[:\u001b[39m5\u001b[39m])][[\u001b[39m'\u001b[39m\u001b[39msongId\u001b[39m\u001b[39m'\u001b[39m, \u001b[39m'\u001b[39m\u001b[39mtitle\u001b[39m\u001b[39m'\u001b[39m, \u001b[39m'\u001b[39m\u001b[39martist\u001b[39m\u001b[39m'\u001b[39m, \u001b[39m'\u001b[39m\u001b[39mgenre\u001b[39m\u001b[39m'\u001b[39m, \u001b[39m'\u001b[39m\u001b[39malbum\u001b[39m\u001b[39m'\u001b[39m, \u001b[39m'\u001b[39m\u001b[39mlyricist\u001b[39m\u001b[39m'\u001b[39m, \u001b[39m'\u001b[39m\u001b[39mcomposer\u001b[39m\u001b[39m'\u001b[39m]]\n\u001b[0;32m      3\u001b[0m filtered_df\n",
      "\u001b[1;31mNameError\u001b[0m: name 'df' is not defined"
     ]
    }
   ],
   "source": [
    "# filtered_df = df[df['songId'].isin(a.songId.values[:5])].to_dict('records')\n",
    "filtered_df = df[df['songId'].isin(d.songId.values[:5])][['songId', 'title', 'artist', 'genre', 'album', 'lyricist', 'composer']]\n",
    "filtered_df"
   ]
  },
  {
   "cell_type": "code",
   "execution_count": null,
   "metadata": {},
   "outputs": [],
   "source": []
  }
 ],
 "metadata": {
  "kernelspec": {
   "display_name": "base",
   "language": "python",
   "name": "python3"
  },
  "language_info": {
   "codemirror_mode": {
    "name": "ipython",
    "version": 3
   },
   "file_extension": ".py",
   "mimetype": "text/x-python",
   "name": "python",
   "nbconvert_exporter": "python",
   "pygments_lexer": "ipython3",
   "version": "3.10.10"
  },
  "orig_nbformat": 4
 },
 "nbformat": 4,
 "nbformat_minor": 2
}
