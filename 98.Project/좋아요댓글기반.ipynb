{
 "cells": [
  {
   "attachments": {},
   "cell_type": "markdown",
   "metadata": {},
   "source": [
    "### 좋아요수 / 댓글 분산 적용 기반 추천(명곡?)\n",
    "- Input(title, artist) : contains로 찾기 => 결과 songId 한 개만 반환하도록 한다.\n",
    "- I am 찾기 -> 전체 (좋아요+댓글) -> 3번째 분산 데이터들에서 -> 가사분석해서 비슷한 노래 찾기 top5\n",
    "- I am 찾기 -> 가사분석해서 비슷한 노래 찾기 -> 전체 (좋아요+댓글) -> 3번째 분산 데이터들에서 top5\n",
    "- 반환된 songId 들의 정보 출력"
   ]
  },
  {
   "cell_type": "code",
   "execution_count": 1,
   "metadata": {},
   "outputs": [],
   "source": [
    "import numpy as np\n",
    "import pandas as pd\n",
    "import joblib, re, string"
   ]
  },
  {
   "cell_type": "code",
   "execution_count": 5,
   "metadata": {},
   "outputs": [
    {
     "data": {
      "text/html": [
       "<div>\n",
       "<style scoped>\n",
       "    .dataframe tbody tr th:only-of-type {\n",
       "        vertical-align: middle;\n",
       "    }\n",
       "\n",
       "    .dataframe tbody tr th {\n",
       "        vertical-align: top;\n",
       "    }\n",
       "\n",
       "    .dataframe thead th {\n",
       "        text-align: right;\n",
       "    }\n",
       "</style>\n",
       "<table border=\"1\" class=\"dataframe\">\n",
       "  <thead>\n",
       "    <tr style=\"text-align: right;\">\n",
       "      <th></th>\n",
       "      <th>songId</th>\n",
       "      <th>title</th>\n",
       "      <th>artist</th>\n",
       "      <th>genre</th>\n",
       "      <th>album</th>\n",
       "      <th>lyricist</th>\n",
       "      <th>composer</th>\n",
       "      <th>date</th>\n",
       "      <th>img</th>\n",
       "      <th>comment</th>\n",
       "      <th>like</th>\n",
       "      <th>lyric</th>\n",
       "      <th>plylstSeq</th>\n",
       "      <th>ly_summary</th>\n",
       "    </tr>\n",
       "  </thead>\n",
       "  <tbody>\n",
       "    <tr>\n",
       "      <th>6241</th>\n",
       "      <td>34183979</td>\n",
       "      <td>인생 한잔</td>\n",
       "      <td>정은지</td>\n",
       "      <td>포크/블루스 국내드라마</td>\n",
       "      <td>술꾼도시여자들 OST Part 2</td>\n",
       "      <td>빨간양말</td>\n",
       "      <td>INAN</td>\n",
       "      <td>2021.10.29</td>\n",
       "      <td>https://cdnimg.melon.co.kr/cm2/album/images/10...</td>\n",
       "      <td>12</td>\n",
       "      <td>4512</td>\n",
       "      <td>사랑도 이별도 오늘은 잠시 미뤄보자\\n불안한 청춘도 내일로 잠시 미뤄두자\\n떠나버린...</td>\n",
       "      <td>506225967 434154554</td>\n",
       "      <td>사랑도 이별도 오늘은 잠시 미뤄보자&lt;br&gt;한잔 들이켜 보자 나를 돌이켜보자</td>\n",
       "    </tr>\n",
       "    <tr>\n",
       "      <th>6242</th>\n",
       "      <td>31191637</td>\n",
       "      <td>6 o'clock</td>\n",
       "      <td>볼빨간사춘기</td>\n",
       "      <td>인디음악 포크/블루스</td>\n",
       "      <td>Red Diary 'Hidden Track'</td>\n",
       "      <td>안지영</td>\n",
       "      <td>안지영</td>\n",
       "      <td>2018.07.17</td>\n",
       "      <td>https://cdnimg.melon.co.kr/cm/album/images/101...</td>\n",
       "      <td>87</td>\n",
       "      <td>15668</td>\n",
       "      <td>Its 6 oclock\\n너와 나는 시간이 빨라서\\n시간이 달라서\\n어쩔 수 없이 ...</td>\n",
       "      <td>458080033 442957041</td>\n",
       "      <td>Oh why does it feel stupid&lt;br&gt;I just dont know</td>\n",
       "    </tr>\n",
       "  </tbody>\n",
       "</table>\n",
       "</div>"
      ],
      "text/plain": [
       "        songId      title  artist         genre                     album  \\\n",
       "6241  34183979      인생 한잔     정은지  포크/블루스 국내드라마        술꾼도시여자들 OST Part 2   \n",
       "6242  31191637  6 o'clock  볼빨간사춘기   인디음악 포크/블루스  Red Diary 'Hidden Track'   \n",
       "\n",
       "     lyricist composer        date  \\\n",
       "6241     빨간양말     INAN  2021.10.29   \n",
       "6242      안지영      안지영  2018.07.17   \n",
       "\n",
       "                                                    img  comment   like  \\\n",
       "6241  https://cdnimg.melon.co.kr/cm2/album/images/10...       12   4512   \n",
       "6242  https://cdnimg.melon.co.kr/cm/album/images/101...       87  15668   \n",
       "\n",
       "                                                  lyric            plylstSeq  \\\n",
       "6241  사랑도 이별도 오늘은 잠시 미뤄보자\\n불안한 청춘도 내일로 잠시 미뤄두자\\n떠나버린...  506225967 434154554   \n",
       "6242  Its 6 oclock\\n너와 나는 시간이 빨라서\\n시간이 달라서\\n어쩔 수 없이 ...  458080033 442957041   \n",
       "\n",
       "                                          ly_summary  \n",
       "6241       사랑도 이별도 오늘은 잠시 미뤄보자<br>한잔 들이켜 보자 나를 돌이켜보자  \n",
       "6242  Oh why does it feel stupid<br>I just dont know  "
      ]
     },
     "execution_count": 5,
     "metadata": {},
     "output_type": "execute_result"
    }
   ],
   "source": [
    "df = pd.read_csv('web/static/data/melon_song_v3.csv')\n",
    "\n",
    "df.tail(2)"
   ]
  },
  {
   "cell_type": "code",
   "execution_count": 6,
   "metadata": {},
   "outputs": [
    {
     "ename": "KeyError",
     "evalue": "0",
     "output_type": "error",
     "traceback": [
      "\u001b[1;31m---------------------------------------------------------------------------\u001b[0m",
      "\u001b[1;31mKeyError\u001b[0m                                  Traceback (most recent call last)",
      "\u001b[1;32m~\\AppData\\Local\\Temp\\ipykernel_24708\\997624828.py\u001b[0m in \u001b[0;36m<module>\u001b[1;34m\u001b[0m\n\u001b[1;32m----> 1\u001b[1;33m \u001b[0mcosine_sim\u001b[0m \u001b[1;33m=\u001b[0m \u001b[0mjoblib\u001b[0m\u001b[1;33m.\u001b[0m\u001b[0mload\u001b[0m\u001b[1;33m(\u001b[0m\u001b[1;34m'web/static/data/melon_cosine_sim.sim'\u001b[0m\u001b[1;33m)\u001b[0m\u001b[1;33m\u001b[0m\u001b[1;33m\u001b[0m\u001b[0m\n\u001b[0m",
      "\u001b[1;32mc:\\Users\\sujung\\anaconda3\\lib\\site-packages\\joblib\\numpy_pickle.py\u001b[0m in \u001b[0;36mload\u001b[1;34m(filename, mmap_mode)\u001b[0m\n\u001b[0;32m    585\u001b[0m                     \u001b[1;32mreturn\u001b[0m \u001b[0mload_compatibility\u001b[0m\u001b[1;33m(\u001b[0m\u001b[0mfobj\u001b[0m\u001b[1;33m)\u001b[0m\u001b[1;33m\u001b[0m\u001b[1;33m\u001b[0m\u001b[0m\n\u001b[0;32m    586\u001b[0m \u001b[1;33m\u001b[0m\u001b[0m\n\u001b[1;32m--> 587\u001b[1;33m                 \u001b[0mobj\u001b[0m \u001b[1;33m=\u001b[0m \u001b[0m_unpickle\u001b[0m\u001b[1;33m(\u001b[0m\u001b[0mfobj\u001b[0m\u001b[1;33m,\u001b[0m \u001b[0mfilename\u001b[0m\u001b[1;33m,\u001b[0m \u001b[0mmmap_mode\u001b[0m\u001b[1;33m)\u001b[0m\u001b[1;33m\u001b[0m\u001b[1;33m\u001b[0m\u001b[0m\n\u001b[0m\u001b[0;32m    588\u001b[0m     \u001b[1;32mreturn\u001b[0m \u001b[0mobj\u001b[0m\u001b[1;33m\u001b[0m\u001b[1;33m\u001b[0m\u001b[0m\n",
      "\u001b[1;32mc:\\Users\\sujung\\anaconda3\\lib\\site-packages\\joblib\\numpy_pickle.py\u001b[0m in \u001b[0;36m_unpickle\u001b[1;34m(fobj, filename, mmap_mode)\u001b[0m\n\u001b[0;32m    504\u001b[0m     \u001b[0mobj\u001b[0m \u001b[1;33m=\u001b[0m \u001b[1;32mNone\u001b[0m\u001b[1;33m\u001b[0m\u001b[1;33m\u001b[0m\u001b[0m\n\u001b[0;32m    505\u001b[0m     \u001b[1;32mtry\u001b[0m\u001b[1;33m:\u001b[0m\u001b[1;33m\u001b[0m\u001b[1;33m\u001b[0m\u001b[0m\n\u001b[1;32m--> 506\u001b[1;33m         \u001b[0mobj\u001b[0m \u001b[1;33m=\u001b[0m \u001b[0munpickler\u001b[0m\u001b[1;33m.\u001b[0m\u001b[0mload\u001b[0m\u001b[1;33m(\u001b[0m\u001b[1;33m)\u001b[0m\u001b[1;33m\u001b[0m\u001b[1;33m\u001b[0m\u001b[0m\n\u001b[0m\u001b[0;32m    507\u001b[0m         \u001b[1;32mif\u001b[0m \u001b[0munpickler\u001b[0m\u001b[1;33m.\u001b[0m\u001b[0mcompat_mode\u001b[0m\u001b[1;33m:\u001b[0m\u001b[1;33m\u001b[0m\u001b[1;33m\u001b[0m\u001b[0m\n\u001b[0;32m    508\u001b[0m             warnings.warn(\"The file '%s' has been generated with a \"\n",
      "\u001b[1;32mc:\\Users\\sujung\\anaconda3\\lib\\pickle.py\u001b[0m in \u001b[0;36mload\u001b[1;34m(self)\u001b[0m\n\u001b[0;32m   1210\u001b[0m                     \u001b[1;32mraise\u001b[0m \u001b[0mEOFError\u001b[0m\u001b[1;33m\u001b[0m\u001b[1;33m\u001b[0m\u001b[0m\n\u001b[0;32m   1211\u001b[0m                 \u001b[1;32massert\u001b[0m \u001b[0misinstance\u001b[0m\u001b[1;33m(\u001b[0m\u001b[0mkey\u001b[0m\u001b[1;33m,\u001b[0m \u001b[0mbytes_types\u001b[0m\u001b[1;33m)\u001b[0m\u001b[1;33m\u001b[0m\u001b[1;33m\u001b[0m\u001b[0m\n\u001b[1;32m-> 1212\u001b[1;33m                 \u001b[0mdispatch\u001b[0m\u001b[1;33m[\u001b[0m\u001b[0mkey\u001b[0m\u001b[1;33m[\u001b[0m\u001b[1;36m0\u001b[0m\u001b[1;33m]\u001b[0m\u001b[1;33m]\u001b[0m\u001b[1;33m(\u001b[0m\u001b[0mself\u001b[0m\u001b[1;33m)\u001b[0m\u001b[1;33m\u001b[0m\u001b[1;33m\u001b[0m\u001b[0m\n\u001b[0m\u001b[0;32m   1213\u001b[0m         \u001b[1;32mexcept\u001b[0m \u001b[0m_Stop\u001b[0m \u001b[1;32mas\u001b[0m \u001b[0mstopinst\u001b[0m\u001b[1;33m:\u001b[0m\u001b[1;33m\u001b[0m\u001b[1;33m\u001b[0m\u001b[0m\n\u001b[0;32m   1214\u001b[0m             \u001b[1;32mreturn\u001b[0m \u001b[0mstopinst\u001b[0m\u001b[1;33m.\u001b[0m\u001b[0mvalue\u001b[0m\u001b[1;33m\u001b[0m\u001b[1;33m\u001b[0m\u001b[0m\n",
      "\u001b[1;31mKeyError\u001b[0m: 0"
     ]
    }
   ],
   "source": [
    "cosine_sim = joblib.load('web/static/data/melon_cosine_sim.sim')"
   ]
  },
  {
   "cell_type": "code",
   "execution_count": 3,
   "metadata": {},
   "outputs": [
    {
     "data": {
      "text/plain": [
       "songId         0\n",
       "title          0\n",
       "artist         0\n",
       "genre          2\n",
       "album          0\n",
       "lyricist     398\n",
       "composer     402\n",
       "date          45\n",
       "img            0\n",
       "comment        0\n",
       "like           0\n",
       "lyric          0\n",
       "plylstSeq    121\n",
       "dtype: int64"
      ]
     },
     "execution_count": 3,
     "metadata": {},
     "output_type": "execute_result"
    }
   ],
   "source": [
    "df.isna().sum()"
   ]
  },
  {
   "cell_type": "code",
   "execution_count": 8,
   "metadata": {},
   "outputs": [
    {
     "data": {
      "text/html": [
       "<div>\n",
       "<style scoped>\n",
       "    .dataframe tbody tr th:only-of-type {\n",
       "        vertical-align: middle;\n",
       "    }\n",
       "\n",
       "    .dataframe tbody tr th {\n",
       "        vertical-align: top;\n",
       "    }\n",
       "\n",
       "    .dataframe thead th {\n",
       "        text-align: right;\n",
       "    }\n",
       "</style>\n",
       "<table border=\"1\" class=\"dataframe\">\n",
       "  <thead>\n",
       "    <tr style=\"text-align: right;\">\n",
       "      <th></th>\n",
       "      <th>songId</th>\n",
       "      <th>title</th>\n",
       "      <th>artist</th>\n",
       "      <th>genre</th>\n",
       "      <th>album</th>\n",
       "      <th>lyricist</th>\n",
       "      <th>composer</th>\n",
       "      <th>date</th>\n",
       "      <th>img</th>\n",
       "      <th>comment</th>\n",
       "      <th>like</th>\n",
       "      <th>lyric</th>\n",
       "      <th>plylstSeq</th>\n",
       "    </tr>\n",
       "  </thead>\n",
       "  <tbody>\n",
       "    <tr>\n",
       "      <th>0</th>\n",
       "      <td>418168</td>\n",
       "      <td>희재</td>\n",
       "      <td>성시경</td>\n",
       "      <td>발라드 국내영화</td>\n",
       "      <td>국화꽃 향기 OST</td>\n",
       "      <td>양재선</td>\n",
       "      <td>MGR</td>\n",
       "      <td>20030201.0</td>\n",
       "      <td>https://cdnimg.melon.co.kr/cm/album/images/000...</td>\n",
       "      <td>332</td>\n",
       "      <td>138267</td>\n",
       "      <td>햇살은 우릴 위해 내리고 \\n바람도 서롤 감싸게 했죠 \\n우리 웃음속에 계절은 오고...</td>\n",
       "      <td>445029956 411111859</td>\n",
       "    </tr>\n",
       "  </tbody>\n",
       "</table>\n",
       "</div>"
      ],
      "text/plain": [
       "   songId title artist     genre       album lyricist composer        date   \n",
       "0  418168    희재    성시경  발라드 국내영화  국화꽃 향기 OST      양재선      MGR  20030201.0  \\\n",
       "\n",
       "                                                 img  comment    like   \n",
       "0  https://cdnimg.melon.co.kr/cm/album/images/000...      332  138267  \\\n",
       "\n",
       "                                               lyric            plylstSeq  \n",
       "0  햇살은 우릴 위해 내리고 \\n바람도 서롤 감싸게 했죠 \\n우리 웃음속에 계절은 오고...  445029956 411111859  "
      ]
     },
     "execution_count": 8,
     "metadata": {},
     "output_type": "execute_result"
    }
   ],
   "source": [
    "df.head(1)"
   ]
  },
  {
   "cell_type": "code",
   "execution_count": 7,
   "metadata": {},
   "outputs": [],
   "source": [
    "# 데이터 처리를 위한 작업\n",
    "# df.date.fillna(0, inplace=True)\n",
    "# df['date'] = df.date.astype(int).astype(str)\n",
    "df.fillna('', inplace=True)\n",
    "df['comment_like_total'] = df.comment + df.like\n",
    "df['songId'] = df.songId.astype(str)"
   ]
  },
  {
   "cell_type": "code",
   "execution_count": 8,
   "metadata": {},
   "outputs": [],
   "source": [
    "# 한글 불용어 처리\n",
    "with open('data/한글불용어.txt') as st:\n",
    "    lines = st.readlines()\n",
    "stop_words = [line.split('\\t')[0] for line in lines]\n",
    "stop_words.extend('은 는 를 도 을 며 의 에 게 니 거 로 요 과 래 랑 파 여 에게'.split())"
   ]
  },
  {
   "attachments": {},
   "cell_type": "markdown",
   "metadata": {},
   "source": [
    "- 이상치 songId : 1772803,\n",
    "- 테스트해보고 싶은 것들 : 35456588\n"
   ]
  },
  {
   "cell_type": "code",
   "execution_count": 9,
   "metadata": {},
   "outputs": [],
   "source": [
    "from konlpy.tag import Okt\n",
    "okt = Okt()"
   ]
  },
  {
   "cell_type": "code",
   "execution_count": 10,
   "metadata": {},
   "outputs": [],
   "source": [
    "def morphs_process(text):\n",
    "    lyrics = []\n",
    "    for lyric in text:\n",
    "        lyric = lyric.replace('\\n', ' ')\n",
    "        morphs = okt.morphs(lyric, stem=True)\n",
    "        tmp = [word for word in morphs if word not in stop_words]\n",
    "        lyrics.append(' '.join(tmp))\n",
    "    return lyrics"
   ]
  },
  {
   "cell_type": "code",
   "execution_count": 33,
   "metadata": {},
   "outputs": [
    {
     "data": {
      "text/plain": [
       "['친구 모두 모이다 여기 여기 붙다 jump 신나다 발 굳다 jump jump jump jump jump 엄마 아빠 이모 고모 삼촌 뛰다 jump 누구 든 상관없다 jump jump jump jump jump 손 높이 들다 jump 무릎 굽히다 jump 미소 활짝 박수 짝짝 모두 다 같이 jump 노래 부르다 jump 손 마주 잡고 jump 음악 맞추다 박수 짝짝 모두 다 같이 jump 신나다 jump 더 높이 jump 머리 가 저 구름 닿다 때 까지 뛰다 하나 둘 셋 웃다 하하 같이 라랄 라랄 라 라랄 라랄 라 준비 하다 ready jump jump jump jump jump jump jump jump jump jump jump ready jump jump jump jump jump jump jump jump jump jump jump ready jump jump jump jump jump jump jump jump jump jump jump ready jump jump jump jump jump jump jump jump jump jump jump 친구 모두 모이다 여기 여기 붙다 jump 신나다 발 굳다 jump jump jump jump jump 엄마 아빠 이모 고모 삼촌 뛰다 jump 누구 든 상관없다 jump jump jump jump jump 엉덩이 흔들다 jump 하늘 높이 Lets go jump 머리 가 찰랑 박수 짝짝 모두 다 같이 jump 하다 바퀴 빙 돌다 jump 눈 마주 치고 jump 뛰다 하다 발짝 박수 짝짝 모두 다 같이 jump 신나다 jump 더 높이 jump 머리 가 저 구름 닿다 때 까지 뛰다 하나 둘 셋 웃다 하하 같이 라랄 라랄 라 라랄 라랄 라 준비 하다 ready jump jump jump jump jump jump jump jump jump jump jump ready jump jump jump jump jump jump jump jump jump jump jump ready jump jump jump jump jump jump jump jump jump jump jump ready jump jump jump jump jump jump jump jump jump jump jump']"
      ]
     },
     "execution_count": 33,
     "metadata": {},
     "output_type": "execute_result"
    }
   ],
   "source": [
    "test_lyric = df[df.songId == '35456588'].lyric.values[0]\n",
    "# print(test_lyric)\n",
    "test_lyric = re.sub('[^A-Za-zㄱ-ㅎㅏ-ㅣ가-힣\\n ]', '', test_lyric)\n",
    "test_lyric = test_lyric.replace('\\n \\n', '\\n')\n",
    "morphs_process([test_lyric])"
   ]
  },
  {
   "cell_type": "code",
   "execution_count": 24,
   "metadata": {},
   "outputs": [],
   "source": []
  },
  {
   "cell_type": "code",
   "execution_count": null,
   "metadata": {},
   "outputs": [],
   "source": []
  },
  {
   "cell_type": "code",
   "execution_count": 35,
   "metadata": {},
   "outputs": [],
   "source": [
    "df.lyric = df.lyric.str.replace('[^A-Za-zㄱ-ㅎㅏ-ㅣ가-힣\\n]', ' ', regex=True).str.strip()"
   ]
  },
  {
   "cell_type": "code",
   "execution_count": 11,
   "metadata": {},
   "outputs": [],
   "source": [
    "lyrics = []\n",
    "for lyric in df.lyric:\n",
    "    lyric = lyric.replace('\\n', ' ')\n",
    "    morphs = okt.morphs(lyric, stem=True)\n",
    "    tmp = [word for word in morphs if word not in stop_words]\n",
    "    lyrics.append(' '.join(tmp))\n",
    "df['morphs'] = lyrics"
   ]
  },
  {
   "cell_type": "code",
   "execution_count": 12,
   "metadata": {},
   "outputs": [],
   "source": [
    "# 학습할 데이터열 생성\n",
    "df['total'] = df.morphs + (' ' + df.title) + (' ' + df.artist) * 2 + (' ' + df.composer) * 2 + (' ' + df.lyricist) * 2 + (' ' + df.genre) * 3"
   ]
  },
  {
   "cell_type": "code",
   "execution_count": 13,
   "metadata": {},
   "outputs": [],
   "source": [
    "df.set_index('songId', inplace=True)\n",
    "df.reset_index(inplace=True)"
   ]
  },
  {
   "cell_type": "code",
   "execution_count": 14,
   "metadata": {},
   "outputs": [],
   "source": [
    "\n",
    "from sklearn.feature_extraction.text import TfidfVectorizer\n",
    "tvect = TfidfVectorizer(stop_words='english')\n",
    "total_tv = tvect.fit_transform(df.total)"
   ]
  },
  {
   "cell_type": "code",
   "execution_count": 10,
   "metadata": {},
   "outputs": [],
   "source": [
    "# 장르가 힙합이나 댄스 : 결과 안 좋거나 거의 비슷하다. \n",
    "# from sklearn.feature_extraction.text import CountVectorizer\n",
    "# cvect = CountVectorizer(stop_words='english')\n",
    "# total_cv = cvect.fit_transform(df.total)"
   ]
  },
  {
   "cell_type": "code",
   "execution_count": 15,
   "metadata": {},
   "outputs": [],
   "source": [
    "indices = pd.Series(df.index, index=df.songId)"
   ]
  },
  {
   "cell_type": "code",
   "execution_count": 16,
   "metadata": {},
   "outputs": [],
   "source": [
    "from sklearn.metrics.pairwise import cosine_similarity\n",
    "cosine_sim = cosine_similarity(total_tv)"
   ]
  },
  {
   "cell_type": "code",
   "execution_count": 29,
   "metadata": {},
   "outputs": [
    {
     "data": {
      "text/plain": [
       "['web/static/data/melon_cosine_sim.sim']"
      ]
     },
     "execution_count": 29,
     "metadata": {},
     "output_type": "execute_result"
    }
   ],
   "source": [
    "# import joblib \n",
    "# joblib.dump(cosine_sim, 'web/static/data/melon_cosine_sim.sim')"
   ]
  },
  {
   "cell_type": "code",
   "execution_count": 28,
   "metadata": {},
   "outputs": [],
   "source": [
    "# new_cosine_sim = joblib.load('data/test.sim')"
   ]
  },
  {
   "cell_type": "code",
   "execution_count": 51,
   "metadata": {},
   "outputs": [],
   "source": [
    "# from sklearn.metrics.pairwise import cosine_similarity\n",
    "# cosine_sim = cosine_similarity(total_cv)"
   ]
  },
  {
   "cell_type": "code",
   "execution_count": 17,
   "metadata": {},
   "outputs": [],
   "source": [
    "def get_recommendation(songId, cos_sim):\n",
    "    index = indices[songId]\n",
    "    sim_scores = pd.Series(cos_sim[index])\n",
    "    song_indices = sim_scores.sort_values(ascending=False).head(31).tail(30).index\n",
    "    return df.songId.iloc[song_indices]"
   ]
  },
  {
   "cell_type": "code",
   "execution_count": 18,
   "metadata": {},
   "outputs": [
    {
     "data": {
      "text/html": [
       "<div>\n",
       "<style scoped>\n",
       "    .dataframe tbody tr th:only-of-type {\n",
       "        vertical-align: middle;\n",
       "    }\n",
       "\n",
       "    .dataframe tbody tr th {\n",
       "        vertical-align: top;\n",
       "    }\n",
       "\n",
       "    .dataframe thead th {\n",
       "        text-align: right;\n",
       "    }\n",
       "</style>\n",
       "<table border=\"1\" class=\"dataframe\">\n",
       "  <thead>\n",
       "    <tr style=\"text-align: right;\">\n",
       "      <th></th>\n",
       "      <th>songId</th>\n",
       "      <th>title</th>\n",
       "      <th>artist</th>\n",
       "      <th>genre</th>\n",
       "      <th>album</th>\n",
       "      <th>lyricist</th>\n",
       "      <th>composer</th>\n",
       "      <th>date</th>\n",
       "      <th>img</th>\n",
       "      <th>comment</th>\n",
       "      <th>like</th>\n",
       "      <th>lyric</th>\n",
       "      <th>plylstSeq</th>\n",
       "      <th>ly_summary</th>\n",
       "      <th>comment_like_total</th>\n",
       "      <th>morphs</th>\n",
       "      <th>total</th>\n",
       "    </tr>\n",
       "  </thead>\n",
       "  <tbody>\n",
       "    <tr>\n",
       "      <th>3126</th>\n",
       "      <td>3853977</td>\n",
       "      <td>뜨거운 안녕 (Feat. 성시경)</td>\n",
       "      <td>싸이 (PSY)</td>\n",
       "      <td>랩/힙합</td>\n",
       "      <td>싸이6甲 Part.1</td>\n",
       "      <td>유희열</td>\n",
       "      <td>싸이 (PSY)</td>\n",
       "      <td>2012.07.15</td>\n",
       "      <td>https://cdnimg.melon.co.kr/cm/album/images/021...</td>\n",
       "      <td>107</td>\n",
       "      <td>79115</td>\n",
       "      <td>PSY collaboration\\nTOY introducing 성발라\\n불타 올랐던...</td>\n",
       "      <td>445029956 429291289</td>\n",
       "      <td>그래 그래 이젠 안녕&lt;br&gt;소중했던 내 사람아 이젠 안녕</td>\n",
       "      <td>79222</td>\n",
       "      <td>PSY collaboration TOY introducing 성 발라 불타 오르다 ...</td>\n",
       "      <td>PSY collaboration TOY introducing 성 발라 불타 오르다 ...</td>\n",
       "    </tr>\n",
       "    <tr>\n",
       "      <th>4242</th>\n",
       "      <td>34997080</td>\n",
       "      <td>감동이야 (feat. 성시경)</td>\n",
       "      <td>싸이 (PSY)</td>\n",
       "      <td>랩/힙합</td>\n",
       "      <td>싸다9</td>\n",
       "      <td>싸이 (PSY)</td>\n",
       "      <td>화이트99</td>\n",
       "      <td>2022.04.29</td>\n",
       "      <td>https://cdnimg.melon.co.kr/cm2/album/images/10...</td>\n",
       "      <td>122</td>\n",
       "      <td>19021</td>\n",
       "      <td>넌 역시 감동이야 꿈을 꾸는 듯해\\n넌 역시 감동이야 품에 품은 듯해\\n영원을 믿겠...</td>\n",
       "      <td>439324772 418156677</td>\n",
       "      <td>인생이라는 무대 위에서&lt;br&gt;넌 나라는 팔베개 위에서</td>\n",
       "      <td>19143</td>\n",
       "      <td>넌 역시 감동 이야 꿈 꾸다 듯 하다 넌 역시 감동 이야 품 품다 듯 하다 영원 믿...</td>\n",
       "      <td>넌 역시 감동 이야 꿈 꾸다 듯 하다 넌 역시 감동 이야 품 품다 듯 하다 영원 믿...</td>\n",
       "    </tr>\n",
       "  </tbody>\n",
       "</table>\n",
       "</div>"
      ],
      "text/plain": [
       "        songId               title    artist genre        album  lyricist  \\\n",
       "3126   3853977  뜨거운 안녕 (Feat. 성시경)  싸이 (PSY)  랩/힙합  싸이6甲 Part.1       유희열   \n",
       "4242  34997080    감동이야 (feat. 성시경)  싸이 (PSY)  랩/힙합          싸다9  싸이 (PSY)   \n",
       "\n",
       "      composer        date                                                img  \\\n",
       "3126  싸이 (PSY)  2012.07.15  https://cdnimg.melon.co.kr/cm/album/images/021...   \n",
       "4242     화이트99  2022.04.29  https://cdnimg.melon.co.kr/cm2/album/images/10...   \n",
       "\n",
       "      comment   like                                              lyric  \\\n",
       "3126      107  79115  PSY collaboration\\nTOY introducing 성발라\\n불타 올랐던...   \n",
       "4242      122  19021  넌 역시 감동이야 꿈을 꾸는 듯해\\n넌 역시 감동이야 품에 품은 듯해\\n영원을 믿겠...   \n",
       "\n",
       "                plylstSeq                       ly_summary  \\\n",
       "3126  445029956 429291289  그래 그래 이젠 안녕<br>소중했던 내 사람아 이젠 안녕   \n",
       "4242  439324772 418156677    인생이라는 무대 위에서<br>넌 나라는 팔베개 위에서   \n",
       "\n",
       "      comment_like_total                                             morphs  \\\n",
       "3126               79222  PSY collaboration TOY introducing 성 발라 불타 오르다 ...   \n",
       "4242               19143  넌 역시 감동 이야 꿈 꾸다 듯 하다 넌 역시 감동 이야 품 품다 듯 하다 영원 믿...   \n",
       "\n",
       "                                                  total  \n",
       "3126  PSY collaboration TOY introducing 성 발라 불타 오르다 ...  \n",
       "4242  넌 역시 감동 이야 꿈 꾸다 듯 하다 넌 역시 감동 이야 품 품다 듯 하다 영원 믿...  "
      ]
     },
     "execution_count": 18,
     "metadata": {},
     "output_type": "execute_result"
    }
   ],
   "source": [
    "df[df.title.str.contains('성시경')]"
   ]
  },
  {
   "cell_type": "code",
   "execution_count": 19,
   "metadata": {},
   "outputs": [
    {
     "name": "stdout",
     "output_type": "stream",
     "text": [
      "안녕 성시경\n"
     ]
    },
    {
     "data": {
      "text/html": [
       "<div>\n",
       "<style scoped>\n",
       "    .dataframe tbody tr th:only-of-type {\n",
       "        vertical-align: middle;\n",
       "    }\n",
       "\n",
       "    .dataframe tbody tr th {\n",
       "        vertical-align: top;\n",
       "    }\n",
       "\n",
       "    .dataframe thead th {\n",
       "        text-align: right;\n",
       "    }\n",
       "</style>\n",
       "<table border=\"1\" class=\"dataframe\">\n",
       "  <thead>\n",
       "    <tr style=\"text-align: right;\">\n",
       "      <th></th>\n",
       "      <th>songId</th>\n",
       "      <th>title</th>\n",
       "      <th>artist</th>\n",
       "      <th>album</th>\n",
       "      <th>date</th>\n",
       "      <th>img</th>\n",
       "    </tr>\n",
       "  </thead>\n",
       "  <tbody>\n",
       "    <tr>\n",
       "      <th>585</th>\n",
       "      <td>9646401</td>\n",
       "      <td>다정하게, 안녕히</td>\n",
       "      <td>성시경</td>\n",
       "      <td>구르미 그린 달빛 OST Part.5</td>\n",
       "      <td>2016.09.14</td>\n",
       "      <td>https://cdnimg.melon.co.kr/cm/album/images/027...</td>\n",
       "    </tr>\n",
       "    <tr>\n",
       "      <th>3726</th>\n",
       "      <td>1884329</td>\n",
       "      <td>안녕 나의 사랑</td>\n",
       "      <td>성시경</td>\n",
       "      <td>여기, 내 맘속에...</td>\n",
       "      <td>2008.06.12</td>\n",
       "      <td>https://cdnimg.melon.co.kr/cm/album/images/003...</td>\n",
       "    </tr>\n",
       "  </tbody>\n",
       "</table>\n",
       "</div>"
      ],
      "text/plain": [
       "       songId      title artist                 album        date  \\\n",
       "585   9646401  다정하게, 안녕히    성시경  구르미 그린 달빛 OST Part.5  2016.09.14   \n",
       "3726  1884329   안녕 나의 사랑    성시경          여기, 내 맘속에...  2008.06.12   \n",
       "\n",
       "                                                    img  \n",
       "585   https://cdnimg.melon.co.kr/cm/album/images/027...  \n",
       "3726  https://cdnimg.melon.co.kr/cm/album/images/003...  "
      ]
     },
     "execution_count": 19,
     "metadata": {},
     "output_type": "execute_result"
    }
   ],
   "source": [
    "\n",
    "# 키워드 바꿔가면서 찾아보기\n",
    "key_title = '안녕'\n",
    "key_artist = '성시경'\n",
    "print(key_title, key_artist)\n",
    "\n",
    "key_title = re.sub('['+string.punctuation+']', '', key_title)\n",
    "key_artist = re.sub('['+string.punctuation+']', '', key_artist)\n",
    "\n",
    "songIds =  df[df.title.str.replace('['+string.punctuation+']','', regex=True).str.contains(key_title, case=False) \n",
    "                & df.artist.str.replace('['+string.punctuation+']','', regex=True).str.contains(key_artist, case=False)][['songId', 'title', 'artist', 'album', 'date', 'img']]\n",
    "\n",
    "songIds"
   ]
  },
  {
   "cell_type": "code",
   "execution_count": 20,
   "metadata": {},
   "outputs": [
    {
     "data": {
      "text/html": [
       "<div>\n",
       "<style scoped>\n",
       "    .dataframe tbody tr th:only-of-type {\n",
       "        vertical-align: middle;\n",
       "    }\n",
       "\n",
       "    .dataframe tbody tr th {\n",
       "        vertical-align: top;\n",
       "    }\n",
       "\n",
       "    .dataframe thead th {\n",
       "        text-align: right;\n",
       "    }\n",
       "</style>\n",
       "<table border=\"1\" class=\"dataframe\">\n",
       "  <thead>\n",
       "    <tr style=\"text-align: right;\">\n",
       "      <th></th>\n",
       "      <th>songId</th>\n",
       "    </tr>\n",
       "  </thead>\n",
       "  <tbody>\n",
       "    <tr>\n",
       "      <th>347</th>\n",
       "      <td>4446485</td>\n",
       "    </tr>\n",
       "    <tr>\n",
       "      <th>413</th>\n",
       "      <td>3079872</td>\n",
       "    </tr>\n",
       "    <tr>\n",
       "      <th>2602</th>\n",
       "      <td>8302</td>\n",
       "    </tr>\n",
       "    <tr>\n",
       "      <th>384</th>\n",
       "      <td>4864206</td>\n",
       "    </tr>\n",
       "    <tr>\n",
       "      <th>411</th>\n",
       "      <td>4300699</td>\n",
       "    </tr>\n",
       "  </tbody>\n",
       "</table>\n",
       "</div>"
      ],
      "text/plain": [
       "       songId\n",
       "347   4446485\n",
       "413   3079872\n",
       "2602     8302\n",
       "384   4864206\n",
       "411   4300699"
      ]
     },
     "execution_count": 20,
     "metadata": {},
     "output_type": "execute_result"
    }
   ],
   "source": [
    "find_songid = songIds.songId.values[0]\n",
    "a = get_recommendation(find_songid, cosine_sim).to_frame()\n",
    "a.head()"
   ]
  },
  {
   "cell_type": "code",
   "execution_count": 21,
   "metadata": {},
   "outputs": [
    {
     "data": {
      "text/html": [
       "<div>\n",
       "<style scoped>\n",
       "    .dataframe tbody tr th:only-of-type {\n",
       "        vertical-align: middle;\n",
       "    }\n",
       "\n",
       "    .dataframe tbody tr th {\n",
       "        vertical-align: top;\n",
       "    }\n",
       "\n",
       "    .dataframe thead th {\n",
       "        text-align: right;\n",
       "    }\n",
       "</style>\n",
       "<table border=\"1\" class=\"dataframe\">\n",
       "  <thead>\n",
       "    <tr style=\"text-align: right;\">\n",
       "      <th></th>\n",
       "      <th>songId</th>\n",
       "      <th>title</th>\n",
       "      <th>artist</th>\n",
       "      <th>genre</th>\n",
       "      <th>album</th>\n",
       "      <th>lyricist</th>\n",
       "      <th>composer</th>\n",
       "    </tr>\n",
       "  </thead>\n",
       "  <tbody>\n",
       "    <tr>\n",
       "      <th>143</th>\n",
       "      <td>1124448</td>\n",
       "      <td>선인장</td>\n",
       "      <td>성시경</td>\n",
       "      <td>발라드 국내영화</td>\n",
       "      <td>연애소설 OST</td>\n",
       "      <td>윤사라</td>\n",
       "      <td>조규만</td>\n",
       "    </tr>\n",
       "    <tr>\n",
       "      <th>384</th>\n",
       "      <td>4864206</td>\n",
       "      <td>묘해, 너와</td>\n",
       "      <td>어쿠스틱 콜라보</td>\n",
       "      <td>발라드 국내드라마</td>\n",
       "      <td>연애의 발견 OST Part 4</td>\n",
       "      <td>심현보</td>\n",
       "      <td>심현보</td>\n",
       "    </tr>\n",
       "    <tr>\n",
       "      <th>411</th>\n",
       "      <td>4300699</td>\n",
       "      <td>너에게</td>\n",
       "      <td>성시경</td>\n",
       "      <td>발라드 국내드라마</td>\n",
       "      <td>응답하라 1994 OST Part 2</td>\n",
       "      <td>서태지</td>\n",
       "      <td>서태지</td>\n",
       "    </tr>\n",
       "    <tr>\n",
       "      <th>413</th>\n",
       "      <td>3079872</td>\n",
       "      <td>너는 나의 봄이다</td>\n",
       "      <td>성시경</td>\n",
       "      <td>발라드 국내드라마</td>\n",
       "      <td>시크릿 가든 OST Part.4</td>\n",
       "      <td>이미나</td>\n",
       "      <td>성시경</td>\n",
       "    </tr>\n",
       "    <tr>\n",
       "      <th>2602</th>\n",
       "      <td>8302</td>\n",
       "      <td>내게 오는 길</td>\n",
       "      <td>성시경</td>\n",
       "      <td>발라드</td>\n",
       "      <td>처음처럼</td>\n",
       "      <td>양재선</td>\n",
       "      <td>김형석</td>\n",
       "    </tr>\n",
       "  </tbody>\n",
       "</table>\n",
       "</div>"
      ],
      "text/plain": [
       "       songId      title    artist      genre                 album lyricist  \\\n",
       "143   1124448        선인장       성시경   발라드 국내영화              연애소설 OST      윤사라   \n",
       "384   4864206     묘해, 너와  어쿠스틱 콜라보  발라드 국내드라마     연애의 발견 OST Part 4      심현보   \n",
       "411   4300699        너에게       성시경  발라드 국내드라마  응답하라 1994 OST Part 2      서태지   \n",
       "413   3079872  너는 나의 봄이다       성시경  발라드 국내드라마     시크릿 가든 OST Part.4      이미나   \n",
       "2602     8302    내게 오는 길       성시경        발라드                  처음처럼      양재선   \n",
       "\n",
       "     composer  \n",
       "143       조규만  \n",
       "384       심현보  \n",
       "411       서태지  \n",
       "413       성시경  \n",
       "2602      김형석  "
      ]
     },
     "execution_count": 21,
     "metadata": {},
     "output_type": "execute_result"
    }
   ],
   "source": [
    "\n",
    "# df[df['songId'].isin(a.songId[1:6])].to_dict('records')\n",
    "df[df['songId'].isin(a.songId[1:6])][['songId', 'title', 'artist', 'genre', 'album', 'lyricist', 'composer']]"
   ]
  },
  {
   "cell_type": "code",
   "execution_count": 22,
   "metadata": {},
   "outputs": [
    {
     "data": {
      "text/plain": [
       "347     0.336257\n",
       "413     0.242721\n",
       "2602    0.201513\n",
       "384     0.176550\n",
       "411     0.174384\n",
       "143     0.174014\n",
       "2652    0.172468\n",
       "2639    0.163750\n",
       "3591    0.161197\n",
       "3648    0.160707\n",
       "dtype: float64"
      ]
     },
     "execution_count": 22,
     "metadata": {},
     "output_type": "execute_result"
    }
   ],
   "source": [
    "from sklearn.metrics.pairwise import linear_kernel\n",
    "cosine_sim_total = linear_kernel(total_tv, total_tv)\n",
    "sim_scores = pd.Series(cosine_sim_total[indices[find_songid]])\n",
    "sim_scores.sort_values(ascending=False).head(11).tail(10)"
   ]
  },
  {
   "cell_type": "code",
   "execution_count": 23,
   "metadata": {},
   "outputs": [
    {
     "data": {
      "text/plain": [
       "array(['35837631', '35866717', '35879546', ..., '3080890', '2981597',\n",
       "       '34183979'], dtype=object)"
      ]
     },
     "execution_count": 23,
     "metadata": {},
     "output_type": "execute_result"
    }
   ],
   "source": [
    "# 찾고 싶은 구간 정하기\n",
    "numbers = df['comment_like_total']\n",
    "sorted_numbers = np.sort(numbers)\n",
    "q1 = np.percentile(sorted_numbers, 25)\n",
    "q2 = np.percentile(sorted_numbers, 50)\n",
    "filtered_data = df[(df['comment_like_total'] >= q1) & (df['comment_like_total'] < q2)]\n",
    "filtered_data = filtered_data[['songId', 'comment_like_total']]\n",
    "filtered_data.songId.values"
   ]
  },
  {
   "cell_type": "code",
   "execution_count": 24,
   "metadata": {},
   "outputs": [
    {
     "data": {
      "text/html": [
       "<div>\n",
       "<style scoped>\n",
       "    .dataframe tbody tr th:only-of-type {\n",
       "        vertical-align: middle;\n",
       "    }\n",
       "\n",
       "    .dataframe tbody tr th {\n",
       "        vertical-align: top;\n",
       "    }\n",
       "\n",
       "    .dataframe thead th {\n",
       "        text-align: right;\n",
       "    }\n",
       "</style>\n",
       "<table border=\"1\" class=\"dataframe\">\n",
       "  <thead>\n",
       "    <tr style=\"text-align: right;\">\n",
       "      <th></th>\n",
       "      <th>songId</th>\n",
       "    </tr>\n",
       "  </thead>\n",
       "  <tbody>\n",
       "    <tr>\n",
       "      <th>143</th>\n",
       "      <td>1124448</td>\n",
       "    </tr>\n",
       "    <tr>\n",
       "      <th>589</th>\n",
       "      <td>35829148</td>\n",
       "    </tr>\n",
       "    <tr>\n",
       "      <th>372</th>\n",
       "      <td>36443231</td>\n",
       "    </tr>\n",
       "    <tr>\n",
       "      <th>55</th>\n",
       "      <td>418200</td>\n",
       "    </tr>\n",
       "  </tbody>\n",
       "</table>\n",
       "</div>"
      ],
      "text/plain": [
       "       songId\n",
       "143   1124448\n",
       "589  35829148\n",
       "372  36443231\n",
       "55     418200"
      ]
     },
     "execution_count": 24,
     "metadata": {},
     "output_type": "execute_result"
    }
   ],
   "source": [
    "# 유사도 top 30 중 원하는 구간에 있는 songId 추출(유사도순)\n",
    "d = a[a['songId'].isin(filtered_data.songId.values)].head(5)\n",
    "d"
   ]
  },
  {
   "cell_type": "code",
   "execution_count": 25,
   "metadata": {},
   "outputs": [
    {
     "data": {
      "text/html": [
       "<div>\n",
       "<style scoped>\n",
       "    .dataframe tbody tr th:only-of-type {\n",
       "        vertical-align: middle;\n",
       "    }\n",
       "\n",
       "    .dataframe tbody tr th {\n",
       "        vertical-align: top;\n",
       "    }\n",
       "\n",
       "    .dataframe thead th {\n",
       "        text-align: right;\n",
       "    }\n",
       "</style>\n",
       "<table border=\"1\" class=\"dataframe\">\n",
       "  <thead>\n",
       "    <tr style=\"text-align: right;\">\n",
       "      <th></th>\n",
       "      <th>songId</th>\n",
       "      <th>title</th>\n",
       "      <th>artist</th>\n",
       "      <th>genre</th>\n",
       "      <th>album</th>\n",
       "      <th>lyricist</th>\n",
       "      <th>composer</th>\n",
       "    </tr>\n",
       "  </thead>\n",
       "  <tbody>\n",
       "    <tr>\n",
       "      <th>55</th>\n",
       "      <td>418200</td>\n",
       "      <td>희재 (Edit Version)</td>\n",
       "      <td>성시경</td>\n",
       "      <td>발라드 국내영화</td>\n",
       "      <td>국화꽃 향기 OST</td>\n",
       "      <td>양재선</td>\n",
       "      <td>MGR</td>\n",
       "    </tr>\n",
       "    <tr>\n",
       "      <th>143</th>\n",
       "      <td>1124448</td>\n",
       "      <td>선인장</td>\n",
       "      <td>성시경</td>\n",
       "      <td>발라드 국내영화</td>\n",
       "      <td>연애소설 OST</td>\n",
       "      <td>윤사라</td>\n",
       "      <td>조규만</td>\n",
       "    </tr>\n",
       "    <tr>\n",
       "      <th>372</th>\n",
       "      <td>36443231</td>\n",
       "      <td>이 밤이 지나면</td>\n",
       "      <td>박민혜 (빅마마)</td>\n",
       "      <td>발라드 국내드라마</td>\n",
       "      <td>닥터 차정숙 OST Part.4</td>\n",
       "      <td>김수빈(AIMING)</td>\n",
       "      <td>김창락(AIMING)</td>\n",
       "    </tr>\n",
       "    <tr>\n",
       "      <th>589</th>\n",
       "      <td>35829148</td>\n",
       "      <td>오랫동안</td>\n",
       "      <td>성시경</td>\n",
       "      <td>발라드 국내드라마</td>\n",
       "      <td>오랫동안 (커튼콜 OST Part.5)</td>\n",
       "      <td>Score (13)</td>\n",
       "      <td>Score (13)</td>\n",
       "    </tr>\n",
       "  </tbody>\n",
       "</table>\n",
       "</div>"
      ],
      "text/plain": [
       "       songId              title     artist      genre                  album  \\\n",
       "55     418200  희재 (Edit Version)        성시경   발라드 국내영화             국화꽃 향기 OST   \n",
       "143   1124448                선인장        성시경   발라드 국내영화               연애소설 OST   \n",
       "372  36443231           이 밤이 지나면  박민혜 (빅마마)  발라드 국내드라마      닥터 차정숙 OST Part.4   \n",
       "589  35829148               오랫동안        성시경  발라드 국내드라마  오랫동안 (커튼콜 OST Part.5)   \n",
       "\n",
       "        lyricist     composer  \n",
       "55           양재선          MGR  \n",
       "143          윤사라          조규만  \n",
       "372  김수빈(AIMING)  김창락(AIMING)  \n",
       "589   Score (13)   Score (13)  "
      ]
     },
     "execution_count": 25,
     "metadata": {},
     "output_type": "execute_result"
    }
   ],
   "source": [
    "# filtered_df = df[df['songId'].isin(a.songId.values[:5])].to_dict('records')\n",
    "filtered_df = df[df['songId'].isin(d.songId.values[:5])][['songId', 'title', 'artist', 'genre', 'album', 'lyricist', 'composer']]\n",
    "filtered_df"
   ]
  },
  {
   "cell_type": "code",
   "execution_count": null,
   "metadata": {},
   "outputs": [],
   "source": []
  }
 ],
 "metadata": {
  "kernelspec": {
   "display_name": "base",
   "language": "python",
   "name": "python3"
  },
  "language_info": {
   "codemirror_mode": {
    "name": "ipython",
    "version": 3
   },
   "file_extension": ".py",
   "mimetype": "text/x-python",
   "name": "python",
   "nbconvert_exporter": "python",
   "pygments_lexer": "ipython3",
   "version": "3.10.10"
  },
  "orig_nbformat": 4
 },
 "nbformat": 4,
 "nbformat_minor": 2
}
