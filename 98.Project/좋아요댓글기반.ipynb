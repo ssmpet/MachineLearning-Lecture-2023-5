{
 "cells": [
  {
   "attachments": {},
   "cell_type": "markdown",
   "metadata": {},
   "source": [
    "### 좋아요수 / 댓글 분산 적용 기반 추천(명곡?)\n",
    "- Input(title, artist) : contains로 찾기 => 결과 songId 한 개만 반환하도록 한다.\n",
    "- I am 찾기 -> 전체 (좋아요+댓글) -> 3번째 분산 데이터들에서 -> 가사분석해서 비슷한 노래 찾기 top5\n",
    "- I am 찾기 -> 가사분석해서 비슷한 노래 찾기 -> 전체 (좋아요+댓글) -> 3번째 분산 데이터들에서 top5\n",
    "- 반환된 songId 들의 정보 출력"
   ]
  },
  {
   "cell_type": "code",
   "execution_count": 1,
   "metadata": {},
   "outputs": [],
   "source": [
    "import numpy as np\n",
    "import pandas as pd"
   ]
  },
  {
   "cell_type": "code",
   "execution_count": 2,
   "metadata": {},
   "outputs": [
    {
     "data": {
      "text/html": [
       "<div>\n",
       "<style scoped>\n",
       "    .dataframe tbody tr th:only-of-type {\n",
       "        vertical-align: middle;\n",
       "    }\n",
       "\n",
       "    .dataframe tbody tr th {\n",
       "        vertical-align: top;\n",
       "    }\n",
       "\n",
       "    .dataframe thead th {\n",
       "        text-align: right;\n",
       "    }\n",
       "</style>\n",
       "<table border=\"1\" class=\"dataframe\">\n",
       "  <thead>\n",
       "    <tr style=\"text-align: right;\">\n",
       "      <th></th>\n",
       "      <th>songId</th>\n",
       "      <th>title</th>\n",
       "      <th>artist</th>\n",
       "      <th>genre</th>\n",
       "      <th>album</th>\n",
       "      <th>lyricist</th>\n",
       "      <th>composer</th>\n",
       "      <th>date</th>\n",
       "      <th>img</th>\n",
       "      <th>comment</th>\n",
       "      <th>like</th>\n",
       "      <th>lyric</th>\n",
       "      <th>plylstSeq</th>\n",
       "    </tr>\n",
       "  </thead>\n",
       "  <tbody>\n",
       "    <tr>\n",
       "      <th>0</th>\n",
       "      <td>418168</td>\n",
       "      <td>희재</td>\n",
       "      <td>성시경</td>\n",
       "      <td>발라드 국내영화</td>\n",
       "      <td>국화꽃 향기 OST</td>\n",
       "      <td>양재선</td>\n",
       "      <td>MGR</td>\n",
       "      <td>20030201.0</td>\n",
       "      <td>https://cdnimg.melon.co.kr/cm/album/images/000...</td>\n",
       "      <td>332</td>\n",
       "      <td>138267</td>\n",
       "      <td>햇살은 우릴 위해 내리고 \\n바람도 서롤 감싸게 했죠 \\n우리 웃음속에 계절은 오고...</td>\n",
       "      <td>445029956 411111859</td>\n",
       "    </tr>\n",
       "    <tr>\n",
       "      <th>1</th>\n",
       "      <td>35609035</td>\n",
       "      <td>인생은 뷰티풀</td>\n",
       "      <td>김호중</td>\n",
       "      <td>발라드 국내영화</td>\n",
       "      <td>인생은 뷰티풀: 비타돌체</td>\n",
       "      <td>김호중</td>\n",
       "      <td>김호중</td>\n",
       "      <td>20220907.0</td>\n",
       "      <td>https://cdnimg.melon.co.kr/cm2/album/images/11...</td>\n",
       "      <td>197</td>\n",
       "      <td>17322</td>\n",
       "      <td>하나만 알고 둘은\\n잘 모르는 사람입니다\\n하루는 비틀거리고\\n하루는 뒤뚱거리고\\n...</td>\n",
       "      <td>457536944 474137187</td>\n",
       "    </tr>\n",
       "  </tbody>\n",
       "</table>\n",
       "</div>"
      ],
      "text/plain": [
       "     songId    title artist     genre          album lyricist composer   \n",
       "0    418168       희재    성시경  발라드 국내영화     국화꽃 향기 OST      양재선      MGR  \\\n",
       "1  35609035  인생은 뷰티풀    김호중  발라드 국내영화  인생은 뷰티풀: 비타돌체      김호중      김호중   \n",
       "\n",
       "         date                                                img  comment   \n",
       "0  20030201.0  https://cdnimg.melon.co.kr/cm/album/images/000...      332  \\\n",
       "1  20220907.0  https://cdnimg.melon.co.kr/cm2/album/images/11...      197   \n",
       "\n",
       "     like                                              lyric   \n",
       "0  138267  햇살은 우릴 위해 내리고 \\n바람도 서롤 감싸게 했죠 \\n우리 웃음속에 계절은 오고...  \\\n",
       "1   17322  하나만 알고 둘은\\n잘 모르는 사람입니다\\n하루는 비틀거리고\\n하루는 뒤뚱거리고\\n...   \n",
       "\n",
       "             plylstSeq  \n",
       "0  445029956 411111859  \n",
       "1  457536944 474137187  "
      ]
     },
     "execution_count": 2,
     "metadata": {},
     "output_type": "execute_result"
    }
   ],
   "source": [
    "df = pd.read_csv('data/melon_song.csv')\n",
    "df.head(2)"
   ]
  },
  {
   "cell_type": "code",
   "execution_count": 3,
   "metadata": {},
   "outputs": [],
   "source": [
    "# 데이터 처리를 위한 작업\n",
    "df.date.fillna(0, inplace=True)\n",
    "df['date'] = df.date.astype(int).astype(str)\n",
    "df.fillna('', inplace=True)\n",
    "df['comment_like_total'] = df.comment + df.like\n",
    "df['songId'] = df.songId.astype(str)"
   ]
  },
  {
   "cell_type": "code",
   "execution_count": 5,
   "metadata": {},
   "outputs": [],
   "source": [
    "# 한글 불용어 처리\n",
    "with open('data/한글불용어.txt') as st:\n",
    "    lines = st.readlines()\n",
    "stop_words = [line.split('\\t')[0] for line in lines]\n",
    "stop_words.extend('은 는 를 도 을 며 의 에 게 니 거 로 요 과 래 랑 파 여 에게'.split())"
   ]
  },
  {
   "cell_type": "code",
   "execution_count": 6,
   "metadata": {},
   "outputs": [],
   "source": [
    "from konlpy.tag import Okt\n",
    "okt = Okt()"
   ]
  },
  {
   "cell_type": "code",
   "execution_count": 7,
   "metadata": {},
   "outputs": [],
   "source": [
    "lyrics = []\n",
    "for lyric in df.lyric:\n",
    "    lyric = lyric.replace('\\n', ' ')\n",
    "    morphs = okt.morphs(lyric, stem=True)\n",
    "    tmp = [word for word in morphs if word not in stop_words]\n",
    "    lyrics.append(' '.join(tmp))\n",
    "df['morphs'] = lyrics"
   ]
  },
  {
   "cell_type": "code",
   "execution_count": 8,
   "metadata": {},
   "outputs": [],
   "source": [
    "# 학습할 데이터열 생성\n",
    "df['total'] = df.morphs + (' ' + df.title) + (' ' + df.artist) * 2 + (' ' + df.composer) * 2 + (' ' + df.lyricist) * 2 + (' ' + df.genre) * 3"
   ]
  },
  {
   "cell_type": "code",
   "execution_count": 9,
   "metadata": {},
   "outputs": [],
   "source": [
    "df.set_index('songId', inplace=True)\n",
    "df.reset_index(inplace=True)"
   ]
  },
  {
   "cell_type": "code",
   "execution_count": 10,
   "metadata": {},
   "outputs": [],
   "source": [
    "from sklearn.feature_extraction.text import TfidfVectorizer\n",
    "tvect = TfidfVectorizer(stop_words='english')\n",
    "total_tv = tvect.fit_transform(df.total)"
   ]
  },
  {
   "cell_type": "code",
   "execution_count": 11,
   "metadata": {},
   "outputs": [],
   "source": [
    "indices = pd.Series(df.index, index=df.songId)"
   ]
  },
  {
   "cell_type": "code",
   "execution_count": 12,
   "metadata": {},
   "outputs": [],
   "source": [
    "from sklearn.metrics.pairwise import cosine_similarity\n",
    "cosine_sim = cosine_similarity(total_tv)"
   ]
  },
  {
   "cell_type": "code",
   "execution_count": 13,
   "metadata": {},
   "outputs": [],
   "source": [
    "def get_recommendation(songId, cos_sim):\n",
    "    index = indices[songId]\n",
    "    sim_scores = pd.Series(cos_sim[index])\n",
    "    song_indices = sim_scores.sort_values(ascending=False).head(31).tail(30).index\n",
    "    return df.songId.iloc[song_indices]"
   ]
  },
  {
   "cell_type": "code",
   "execution_count": 71,
   "metadata": {},
   "outputs": [],
   "source": [
    "# 키워드 바꿔가면서 찾아보기\n",
    "keyword_title = 'Ditto'\n",
    "keyword_artist = 'NewJeans'\n",
    "\n",
    "songIds = df[df.title.str.contains(keyword_title) & df.artist.str.contains(keyword_artist)]"
   ]
  },
  {
   "cell_type": "code",
   "execution_count": 72,
   "metadata": {},
   "outputs": [
    {
     "data": {
      "text/html": [
       "<div>\n",
       "<style scoped>\n",
       "    .dataframe tbody tr th:only-of-type {\n",
       "        vertical-align: middle;\n",
       "    }\n",
       "\n",
       "    .dataframe tbody tr th {\n",
       "        vertical-align: top;\n",
       "    }\n",
       "\n",
       "    .dataframe thead th {\n",
       "        text-align: right;\n",
       "    }\n",
       "</style>\n",
       "<table border=\"1\" class=\"dataframe\">\n",
       "  <thead>\n",
       "    <tr style=\"text-align: right;\">\n",
       "      <th></th>\n",
       "      <th>songId</th>\n",
       "    </tr>\n",
       "  </thead>\n",
       "  <tbody>\n",
       "    <tr>\n",
       "      <th>4033</th>\n",
       "      <td>36182838</td>\n",
       "    </tr>\n",
       "    <tr>\n",
       "      <th>3102</th>\n",
       "      <td>3837683</td>\n",
       "    </tr>\n",
       "    <tr>\n",
       "      <th>5377</th>\n",
       "      <td>36263930</td>\n",
       "    </tr>\n",
       "    <tr>\n",
       "      <th>4835</th>\n",
       "      <td>36421590</td>\n",
       "    </tr>\n",
       "    <tr>\n",
       "      <th>6101</th>\n",
       "      <td>31037943</td>\n",
       "    </tr>\n",
       "  </tbody>\n",
       "</table>\n",
       "</div>"
      ],
      "text/plain": [
       "        songId\n",
       "4033  36182838\n",
       "3102   3837683\n",
       "5377  36263930\n",
       "4835  36421590\n",
       "6101  31037943"
      ]
     },
     "execution_count": 72,
     "metadata": {},
     "output_type": "execute_result"
    }
   ],
   "source": [
    "find_songid = songIds.songId.values[0]\n",
    "a = get_recommendation(find_songid, cosine_sim).to_frame()\n",
    "a.head()"
   ]
  },
  {
   "cell_type": "code",
   "execution_count": 73,
   "metadata": {},
   "outputs": [
    {
     "data": {
      "text/html": [
       "<div>\n",
       "<style scoped>\n",
       "    .dataframe tbody tr th:only-of-type {\n",
       "        vertical-align: middle;\n",
       "    }\n",
       "\n",
       "    .dataframe tbody tr th {\n",
       "        vertical-align: top;\n",
       "    }\n",
       "\n",
       "    .dataframe thead th {\n",
       "        text-align: right;\n",
       "    }\n",
       "</style>\n",
       "<table border=\"1\" class=\"dataframe\">\n",
       "  <thead>\n",
       "    <tr style=\"text-align: right;\">\n",
       "      <th></th>\n",
       "      <th>songId</th>\n",
       "      <th>title</th>\n",
       "      <th>artist</th>\n",
       "      <th>genre</th>\n",
       "      <th>album</th>\n",
       "      <th>lyricist</th>\n",
       "      <th>composer</th>\n",
       "    </tr>\n",
       "  </thead>\n",
       "  <tbody>\n",
       "    <tr>\n",
       "      <th>3102</th>\n",
       "      <td>3837683</td>\n",
       "      <td>Loving U (러빙유)</td>\n",
       "      <td>씨스타</td>\n",
       "      <td>댄스</td>\n",
       "      <td>Summer Special 'Loving U'</td>\n",
       "      <td>이단옆차기</td>\n",
       "      <td>이단옆차기</td>\n",
       "    </tr>\n",
       "    <tr>\n",
       "      <th>3831</th>\n",
       "      <td>36344975</td>\n",
       "      <td>Say My Name</td>\n",
       "      <td>Say Yes!</td>\n",
       "      <td>댄스</td>\n",
       "      <td>BOYS PLANET - ARTIST BATTLE</td>\n",
       "      <td>손다슬 (MUMW)</td>\n",
       "      <td>FLUM3N</td>\n",
       "    </tr>\n",
       "    <tr>\n",
       "      <th>4835</th>\n",
       "      <td>36421590</td>\n",
       "      <td>이별클럽 (Feat. 이찬혁)</td>\n",
       "      <td>Colde (콜드)</td>\n",
       "      <td>R&amp;B/Soul</td>\n",
       "      <td>Love Part 2</td>\n",
       "      <td>Colde (콜드)</td>\n",
       "      <td>이찬혁</td>\n",
       "    </tr>\n",
       "    <tr>\n",
       "      <th>5377</th>\n",
       "      <td>36263930</td>\n",
       "      <td>기다릴게</td>\n",
       "      <td>PLAVE</td>\n",
       "      <td>록/메탈</td>\n",
       "      <td>ASTERUM</td>\n",
       "      <td>PLAVE</td>\n",
       "      <td>EL CAPITXN</td>\n",
       "    </tr>\n",
       "    <tr>\n",
       "      <th>6101</th>\n",
       "      <td>31037943</td>\n",
       "      <td>그런 연애 (Feat. 아인 of 모모랜드)</td>\n",
       "      <td>그_냥</td>\n",
       "      <td>인디음악 포크/블루스</td>\n",
       "      <td>그런 연애 (Feat. 아인 of 모모랜드)</td>\n",
       "      <td>그_냥</td>\n",
       "      <td>그_냥</td>\n",
       "    </tr>\n",
       "  </tbody>\n",
       "</table>\n",
       "</div>"
      ],
      "text/plain": [
       "        songId                     title      artist        genre   \n",
       "3102   3837683            Loving U (러빙유)         씨스타           댄스  \\\n",
       "3831  36344975               Say My Name    Say Yes!           댄스   \n",
       "4835  36421590          이별클럽 (Feat. 이찬혁)  Colde (콜드)     R&B/Soul   \n",
       "5377  36263930                      기다릴게       PLAVE         록/메탈   \n",
       "6101  31037943  그런 연애 (Feat. 아인 of 모모랜드)         그_냥  인디음악 포크/블루스   \n",
       "\n",
       "                            album    lyricist    composer  \n",
       "3102    Summer Special 'Loving U'       이단옆차기       이단옆차기  \n",
       "3831  BOYS PLANET - ARTIST BATTLE  손다슬 (MUMW)      FLUM3N  \n",
       "4835                  Love Part 2  Colde (콜드)         이찬혁  \n",
       "5377                      ASTERUM       PLAVE  EL CAPITXN  \n",
       "6101     그런 연애 (Feat. 아인 of 모모랜드)         그_냥         그_냥  "
      ]
     },
     "execution_count": 73,
     "metadata": {},
     "output_type": "execute_result"
    }
   ],
   "source": [
    "\n",
    "# df[df['songId'].isin(a.songId[1:6])].to_dict('records')\n",
    "df[df['songId'].isin(a.songId[1:6])][['songId', 'title', 'artist', 'genre', 'album', 'lyricist', 'composer']]"
   ]
  },
  {
   "cell_type": "code",
   "execution_count": null,
   "metadata": {},
   "outputs": [],
   "source": [
    "from sklearn.metrics.pairwise import linear_kernel\n",
    "cosine_sim_total = linear_kernel(total_tv, total_tv)\n",
    "sim_scores = pd.Series(cosine_sim_total[indices[find_songid]])\n",
    "sim_scores.sort_values(ascending=False).head(11).tail(10)"
   ]
  },
  {
   "cell_type": "code",
   "execution_count": 75,
   "metadata": {},
   "outputs": [
    {
     "data": {
      "text/plain": [
       "array(['35837631', '35866717', '35879546', ..., '3080890', '2981597',\n",
       "       '34183979'], dtype=object)"
      ]
     },
     "execution_count": 75,
     "metadata": {},
     "output_type": "execute_result"
    }
   ],
   "source": [
    "# 찾고 싶은 구간 정하기\n",
    "numbers = df['comment_like_total']\n",
    "sorted_numbers = np.sort(numbers)\n",
    "q1 = np.percentile(sorted_numbers, 25)\n",
    "q2 = np.percentile(sorted_numbers, 50)\n",
    "filtered_data = df[(df['comment_like_total'] >= q1) & (df['comment_like_total'] < q2)]\n",
    "filtered_data = filtered_data[['songId', 'comment_like_total']]\n",
    "filtered_data.songId.values"
   ]
  },
  {
   "cell_type": "code",
   "execution_count": 76,
   "metadata": {},
   "outputs": [
    {
     "data": {
      "text/html": [
       "<div>\n",
       "<style scoped>\n",
       "    .dataframe tbody tr th:only-of-type {\n",
       "        vertical-align: middle;\n",
       "    }\n",
       "\n",
       "    .dataframe tbody tr th {\n",
       "        vertical-align: top;\n",
       "    }\n",
       "\n",
       "    .dataframe thead th {\n",
       "        text-align: right;\n",
       "    }\n",
       "</style>\n",
       "<table border=\"1\" class=\"dataframe\">\n",
       "  <thead>\n",
       "    <tr style=\"text-align: right;\">\n",
       "      <th></th>\n",
       "      <th>songId</th>\n",
       "    </tr>\n",
       "  </thead>\n",
       "  <tbody>\n",
       "    <tr>\n",
       "      <th>5377</th>\n",
       "      <td>36263930</td>\n",
       "    </tr>\n",
       "    <tr>\n",
       "      <th>4835</th>\n",
       "      <td>36421590</td>\n",
       "    </tr>\n",
       "    <tr>\n",
       "      <th>6101</th>\n",
       "      <td>31037943</td>\n",
       "    </tr>\n",
       "    <tr>\n",
       "      <th>4776</th>\n",
       "      <td>36282049</td>\n",
       "    </tr>\n",
       "    <tr>\n",
       "      <th>477</th>\n",
       "      <td>36425393</td>\n",
       "    </tr>\n",
       "  </tbody>\n",
       "</table>\n",
       "</div>"
      ],
      "text/plain": [
       "        songId\n",
       "5377  36263930\n",
       "4835  36421590\n",
       "6101  31037943\n",
       "4776  36282049\n",
       "477   36425393"
      ]
     },
     "execution_count": 76,
     "metadata": {},
     "output_type": "execute_result"
    }
   ],
   "source": [
    "# 유사도 top 30 중 원하는 구간에 있는 songId 추출(유사도순)\n",
    "d = a[a['songId'].isin(filtered_data.songId.values)].head(5)\n",
    "d"
   ]
  },
  {
   "cell_type": "code",
   "execution_count": 79,
   "metadata": {},
   "outputs": [
    {
     "data": {
      "text/html": [
       "<div>\n",
       "<style scoped>\n",
       "    .dataframe tbody tr th:only-of-type {\n",
       "        vertical-align: middle;\n",
       "    }\n",
       "\n",
       "    .dataframe tbody tr th {\n",
       "        vertical-align: top;\n",
       "    }\n",
       "\n",
       "    .dataframe thead th {\n",
       "        text-align: right;\n",
       "    }\n",
       "</style>\n",
       "<table border=\"1\" class=\"dataframe\">\n",
       "  <thead>\n",
       "    <tr style=\"text-align: right;\">\n",
       "      <th></th>\n",
       "      <th>songId</th>\n",
       "      <th>title</th>\n",
       "      <th>artist</th>\n",
       "      <th>genre</th>\n",
       "      <th>album</th>\n",
       "      <th>lyricist</th>\n",
       "      <th>composer</th>\n",
       "    </tr>\n",
       "  </thead>\n",
       "  <tbody>\n",
       "    <tr>\n",
       "      <th>3102</th>\n",
       "      <td>3837683</td>\n",
       "      <td>Loving U (러빙유)</td>\n",
       "      <td>씨스타</td>\n",
       "      <td>댄스</td>\n",
       "      <td>Summer Special 'Loving U'</td>\n",
       "      <td>이단옆차기</td>\n",
       "      <td>이단옆차기</td>\n",
       "    </tr>\n",
       "    <tr>\n",
       "      <th>4033</th>\n",
       "      <td>36182838</td>\n",
       "      <td>ROAR</td>\n",
       "      <td>더보이즈 (THE BOYZ)</td>\n",
       "      <td>댄스</td>\n",
       "      <td>THE BOYZ 8th MINI ALBUM [BE AWAKE]</td>\n",
       "      <td>KENZIE</td>\n",
       "      <td>DEEZ</td>\n",
       "    </tr>\n",
       "    <tr>\n",
       "      <th>4835</th>\n",
       "      <td>36421590</td>\n",
       "      <td>이별클럽 (Feat. 이찬혁)</td>\n",
       "      <td>Colde (콜드)</td>\n",
       "      <td>R&amp;B/Soul</td>\n",
       "      <td>Love Part 2</td>\n",
       "      <td>Colde (콜드)</td>\n",
       "      <td>이찬혁</td>\n",
       "    </tr>\n",
       "    <tr>\n",
       "      <th>5377</th>\n",
       "      <td>36263930</td>\n",
       "      <td>기다릴게</td>\n",
       "      <td>PLAVE</td>\n",
       "      <td>록/메탈</td>\n",
       "      <td>ASTERUM</td>\n",
       "      <td>PLAVE</td>\n",
       "      <td>EL CAPITXN</td>\n",
       "    </tr>\n",
       "    <tr>\n",
       "      <th>6101</th>\n",
       "      <td>31037943</td>\n",
       "      <td>그런 연애 (Feat. 아인 of 모모랜드)</td>\n",
       "      <td>그_냥</td>\n",
       "      <td>인디음악 포크/블루스</td>\n",
       "      <td>그런 연애 (Feat. 아인 of 모모랜드)</td>\n",
       "      <td>그_냥</td>\n",
       "      <td>그_냥</td>\n",
       "    </tr>\n",
       "  </tbody>\n",
       "</table>\n",
       "</div>"
      ],
      "text/plain": [
       "        songId                     title           artist        genre   \n",
       "3102   3837683            Loving U (러빙유)              씨스타           댄스  \\\n",
       "4033  36182838                      ROAR  더보이즈 (THE BOYZ)           댄스   \n",
       "4835  36421590          이별클럽 (Feat. 이찬혁)       Colde (콜드)     R&B/Soul   \n",
       "5377  36263930                      기다릴게            PLAVE         록/메탈   \n",
       "6101  31037943  그런 연애 (Feat. 아인 of 모모랜드)              그_냥  인디음악 포크/블루스   \n",
       "\n",
       "                                   album    lyricist    composer  \n",
       "3102           Summer Special 'Loving U'       이단옆차기       이단옆차기  \n",
       "4033  THE BOYZ 8th MINI ALBUM [BE AWAKE]      KENZIE        DEEZ  \n",
       "4835                         Love Part 2  Colde (콜드)         이찬혁  \n",
       "5377                             ASTERUM       PLAVE  EL CAPITXN  \n",
       "6101            그런 연애 (Feat. 아인 of 모모랜드)         그_냥         그_냥  "
      ]
     },
     "execution_count": 79,
     "metadata": {},
     "output_type": "execute_result"
    }
   ],
   "source": [
    "# filtered_df = df[df['songId'].isin(a.songId.values[:5])].to_dict('records')\n",
    "filtered_df = df[df['songId'].isin(a.songId.values[:5])][['songId', 'title', 'artist', 'genre', 'album', 'lyricist', 'composer']]\n",
    "filtered_df"
   ]
  },
  {
   "cell_type": "code",
   "execution_count": null,
   "metadata": {},
   "outputs": [],
   "source": []
  }
 ],
 "metadata": {
  "kernelspec": {
   "display_name": "base",
   "language": "python",
   "name": "python3"
  },
  "language_info": {
   "codemirror_mode": {
    "name": "ipython",
    "version": 3
   },
   "file_extension": ".py",
   "mimetype": "text/x-python",
   "name": "python",
   "nbconvert_exporter": "python",
   "pygments_lexer": "ipython3",
   "version": "3.10.10"
  },
  "orig_nbformat": 4
 },
 "nbformat": 4,
 "nbformat_minor": 2
}
