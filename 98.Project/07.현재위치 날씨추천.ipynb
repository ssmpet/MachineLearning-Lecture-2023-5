{
 "cells": [
  {
   "cell_type": "code",
   "execution_count": 2,
   "metadata": {},
   "outputs": [],
   "source": [
    "import requests\n",
    "import numpy as np\n",
    "import pandas as pd"
   ]
  },
  {
   "cell_type": "code",
   "execution_count": 2,
   "metadata": {},
   "outputs": [
    {
     "name": "stdout",
     "output_type": "stream",
     "text": [
      "{'lat': '37.0051', 'lng': '127.2735'}\n"
     ]
    }
   ],
   "source": [
    "import requests, json\n",
    "\n",
    "def current_location():\n",
    "    here_req = requests.get(\"http://www.geoplugin.net/json.gp\")\n",
    "\n",
    "    crd = {}\n",
    "    if (here_req.status_code != 200):\n",
    "        print(\"현재좌표를 불러올 수 없음\")\n",
    "    else:\n",
    "        location = json.loads(here_req.text)\n",
    "        crd = {\"lat\": str(location[\"geoplugin_latitude\"]), \"lng\": str(location[\"geoplugin_longitude\"])}\n",
    "\n",
    "    return crd\n",
    "\n",
    "crd = current_location()\n",
    "print(crd)"
   ]
  },
  {
   "cell_type": "code",
   "execution_count": 9,
   "metadata": {},
   "outputs": [
    {
     "data": {
      "text/plain": [
       "('36.3733', '127.3245')"
      ]
     },
     "execution_count": 9,
     "metadata": {},
     "output_type": "execute_result"
    }
   ],
   "source": [
    "crd['lat'], crd['lng']"
   ]
  },
  {
   "cell_type": "code",
   "execution_count": 3,
   "metadata": {},
   "outputs": [],
   "source": [
    "with open('web/static/key/openweather.txt') as f:\n",
    "    weather_key = f.read().strip()"
   ]
  },
  {
   "cell_type": "code",
   "execution_count": 4,
   "metadata": {},
   "outputs": [
    {
     "data": {
      "text/plain": [
       "{'coord': {'lon': 127.2735, 'lat': 37.0051},\n",
       " 'weather': [{'id': 803,\n",
       "   'main': 'Clouds',\n",
       "   'description': '튼구름',\n",
       "   'icon': '04d'}],\n",
       " 'base': 'stations',\n",
       " 'main': {'temp': 28.82,\n",
       "  'feels_like': 27.84,\n",
       "  'temp_min': 25.58,\n",
       "  'temp_max': 28.82,\n",
       "  'pressure': 1009,\n",
       "  'humidity': 32,\n",
       "  'sea_level': 1009,\n",
       "  'grnd_level': 1006},\n",
       " 'visibility': 10000,\n",
       " 'wind': {'speed': 4.76, 'deg': 260, 'gust': 7.19},\n",
       " 'clouds': {'all': 72},\n",
       " 'dt': 1685862349,\n",
       " 'sys': {'type': 1,\n",
       "  'id': 5509,\n",
       "  'country': 'KR',\n",
       "  'sunrise': 1685823138,\n",
       "  'sunset': 1685875574},\n",
       " 'timezone': 32400,\n",
       " 'id': 1846912,\n",
       " 'name': 'Anseong',\n",
       " 'cod': 200}"
      ]
     },
     "execution_count": 4,
     "metadata": {},
     "output_type": "execute_result"
    }
   ],
   "source": [
    "base_url  = 'https://api.openweathermap.org/data/2.5/weather'\n",
    "icon_deps = 'https://api.openweathermap.org/img/w/'\n",
    "\n",
    "url = f\"{base_url}?lat={crd['lat']}&lon={crd['lng']}&appid={weather_key}&units=metric&lang=kr\"\n",
    "result = requests.get(url).json()\n",
    "result"
   ]
  },
  {
   "cell_type": "code",
   "execution_count": 15,
   "metadata": {},
   "outputs": [
    {
     "data": {
      "text/plain": [
       "'구름조금'"
      ]
     },
     "execution_count": 15,
     "metadata": {},
     "output_type": "execute_result"
    }
   ],
   "source": [
    "desc = result['weather'][0]['description']\n",
    "desc"
   ]
  },
  {
   "cell_type": "code",
   "execution_count": 6,
   "metadata": {},
   "outputs": [],
   "source": [
    "# 날씨 id\n",
    "weather_id = result['weather'][0]['id']"
   ]
  },
  {
   "cell_type": "code",
   "execution_count": 8,
   "metadata": {},
   "outputs": [
    {
     "data": {
      "text/plain": [
       "'흐림'"
      ]
     },
     "execution_count": 8,
     "metadata": {},
     "output_type": "execute_result"
    }
   ],
   "source": [
    "if weather_id == 800: \n",
    "    desc = '맑음'\n",
    "elif 600 <= weather_id < 700:\n",
    "    desc = '눈'\n",
    "elif weather_id > 800:\n",
    "    desc = '흐림'\n",
    "else:\n",
    "    desc = '비'\n",
    "\n",
    "desc\n"
   ]
  },
  {
   "cell_type": "code",
   "execution_count": 49,
   "metadata": {},
   "outputs": [
    {
     "data": {
      "text/plain": [
       "((6247, 15), (3845, 5), (60271, 4))"
      ]
     },
     "execution_count": 49,
     "metadata": {},
     "output_type": "execute_result"
    }
   ],
   "source": [
    "filename = 'data/melon_song_v3.csv'\n",
    "plist_filename1 = 'data/melon_playlist1.csv'\n",
    "plist_filename2 = 'data/melon_playlist2_v2.csv'\n",
    "\n",
    "df = pd.read_csv(filename)\n",
    "plist1 = pd.read_csv(plist_filename1)\n",
    "plist2 = pd.read_csv(plist_filename2)\n",
    "\n",
    "df.fillna('', inplace=True)\n",
    "df.songId = df.songId.astype(str)\n",
    "plist2.songId = plist2.songId.astype(str)\n",
    "\n",
    "\n",
    "df.shape, plist1.shape, plist2.shape\n"
   ]
  },
  {
   "cell_type": "code",
   "execution_count": 50,
   "metadata": {},
   "outputs": [
    {
     "data": {
      "text/html": [
       "<div>\n",
       "<style scoped>\n",
       "    .dataframe tbody tr th:only-of-type {\n",
       "        vertical-align: middle;\n",
       "    }\n",
       "\n",
       "    .dataframe tbody tr th {\n",
       "        vertical-align: top;\n",
       "    }\n",
       "\n",
       "    .dataframe thead th {\n",
       "        text-align: right;\n",
       "    }\n",
       "</style>\n",
       "<table border=\"1\" class=\"dataframe\">\n",
       "  <thead>\n",
       "    <tr style=\"text-align: right;\">\n",
       "      <th></th>\n",
       "      <th>songId</th>\n",
       "      <th>title</th>\n",
       "      <th>artist</th>\n",
       "      <th>img</th>\n",
       "    </tr>\n",
       "  </thead>\n",
       "  <tbody>\n",
       "    <tr>\n",
       "      <th>0</th>\n",
       "      <td>33213267</td>\n",
       "      <td>Love Song</td>\n",
       "      <td>Why Don't We</td>\n",
       "      <td>https://cdnimg.melon.co.kr/cm2/album/images/10...</td>\n",
       "    </tr>\n",
       "    <tr>\n",
       "      <th>1</th>\n",
       "      <td>32544401</td>\n",
       "      <td>Ghost In A Flower</td>\n",
       "      <td>Yorushika</td>\n",
       "      <td>https://cdnimg.melon.co.kr/cm2/album/images/10...</td>\n",
       "    </tr>\n",
       "    <tr>\n",
       "      <th>2</th>\n",
       "      <td>33502105</td>\n",
       "      <td>Every Second</td>\n",
       "      <td>Mina Okabe</td>\n",
       "      <td>https://cdnimg.melon.co.kr/cm2/album/images/10...</td>\n",
       "    </tr>\n",
       "    <tr>\n",
       "      <th>3</th>\n",
       "      <td>33469725</td>\n",
       "      <td>Loving You Girl (Feat. Hkeem)</td>\n",
       "      <td>Peder Elias</td>\n",
       "      <td>https://cdnimg.melon.co.kr/cm2/album/images/10...</td>\n",
       "    </tr>\n",
       "    <tr>\n",
       "      <th>4</th>\n",
       "      <td>32464068</td>\n",
       "      <td>SKYLINE</td>\n",
       "      <td>김세정</td>\n",
       "      <td>https://cdnimg.melon.co.kr/cm2/album/images/10...</td>\n",
       "    </tr>\n",
       "  </tbody>\n",
       "</table>\n",
       "</div>"
      ],
      "text/plain": [
       "     songId                          title        artist  \\\n",
       "0  33213267                      Love Song  Why Don't We   \n",
       "1  32544401              Ghost In A Flower     Yorushika   \n",
       "2  33502105                   Every Second    Mina Okabe   \n",
       "3  33469725  Loving You Girl (Feat. Hkeem)   Peder Elias   \n",
       "4  32464068                        SKYLINE           김세정   \n",
       "\n",
       "                                                 img  \n",
       "0  https://cdnimg.melon.co.kr/cm2/album/images/10...  \n",
       "1  https://cdnimg.melon.co.kr/cm2/album/images/10...  \n",
       "2  https://cdnimg.melon.co.kr/cm2/album/images/10...  \n",
       "3  https://cdnimg.melon.co.kr/cm2/album/images/10...  \n",
       "4  https://cdnimg.melon.co.kr/cm2/album/images/10...  "
      ]
     },
     "execution_count": 50,
     "metadata": {},
     "output_type": "execute_result"
    }
   ],
   "source": [
    "plist2.head()"
   ]
  },
  {
   "cell_type": "code",
   "execution_count": 72,
   "metadata": {},
   "outputs": [
    {
     "name": "stdout",
     "output_type": "stream",
     "text": [
      "99\n",
      "['35060829', '30269908', '30038185', '5674416', '30217814', '31980352', '32100582', '31700626', '33347390', '4296990', '3060824', '31510409', '31477685', '5828719', '4765619', '3053257', '30664017', '33387235', '3079872', '3556704', '1370967', '8199190', '7857091', '31584295', '33939316', '32561690', '30000621', '31388145', '34461065', '3642701', '30985406', '30204045', '30688500', '4073092', '31666417', '33772754', '33043504', '5462666', '33629942', '31624517', '34399272', '31666421', '4276080', '30072072', '537749', '30139562', '8028725', '30714656', '7972798', '31587508', '31453551', '4576046', '3953196', '32073457', '30278209', '33705642', '5824433', '5572312', '30153027', '30181278', '3665143', '31314142', '31595606', '31532643', '5466962', '31846466', '30806584', '33220243', '7956302', '7857096', '30486509', '490173', '31899300', '4192787', '31304766', '8138941', '34373632', '1637914', '31853557', '31316695', '32061975', '30663572', '32871975', '31403263', '32251432', '3777042', '33181362', '8235260', '8298724', '5465096', '3538775', '30939453', '31455159', '30660281', '31539852', '2559855', '7858908', '30087588', '30378164']\n"
     ]
    }
   ],
   "source": [
    "desc = '흐림'\n",
    "song_list = list(set(' '.join(plist1[plist1.tag.str.contains(desc)]['songIds'].values).split()))\n",
    "print(len(song_list))\n",
    "print(song_list)"
   ]
  },
  {
   "cell_type": "code",
   "execution_count": 73,
   "metadata": {},
   "outputs": [
    {
     "name": "stdout",
     "output_type": "stream",
     "text": [
      "20\n",
      "['31595606' '34461065' '3777042' '31700626' '4276080' '33705642'\n",
      " '31666417' '30139562' '31899300' '1370967' '5572312' '8199190' '3079872'\n",
      " '33387235' '30000621' '5466962' '30038185' '30688500' '490173' '31846466']\n"
     ]
    }
   ],
   "source": [
    "choice_songs = np.random.choice(song_list, 20, replace=False)\n",
    "print(len(choice_songs))\n",
    "print(choice_songs)"
   ]
  },
  {
   "cell_type": "code",
   "execution_count": 59,
   "metadata": {},
   "outputs": [
    {
     "data": {
      "text/html": [
       "<div>\n",
       "<style scoped>\n",
       "    .dataframe tbody tr th:only-of-type {\n",
       "        vertical-align: middle;\n",
       "    }\n",
       "\n",
       "    .dataframe tbody tr th {\n",
       "        vertical-align: top;\n",
       "    }\n",
       "\n",
       "    .dataframe thead th {\n",
       "        text-align: right;\n",
       "    }\n",
       "</style>\n",
       "<table border=\"1\" class=\"dataframe\">\n",
       "  <thead>\n",
       "    <tr style=\"text-align: right;\">\n",
       "      <th></th>\n",
       "      <th>songId</th>\n",
       "      <th>title</th>\n",
       "      <th>artist</th>\n",
       "      <th>img</th>\n",
       "    </tr>\n",
       "  </thead>\n",
       "  <tbody>\n",
       "    <tr>\n",
       "      <th>10141</th>\n",
       "      <td>33749345</td>\n",
       "      <td>Waterfall</td>\n",
       "      <td>ASTRO (아스트로)</td>\n",
       "      <td>https://cdnimg.melon.co.kr/cm2/album/images/10...</td>\n",
       "    </tr>\n",
       "  </tbody>\n",
       "</table>\n",
       "</div>"
      ],
      "text/plain": [
       "         songId      title        artist  \\\n",
       "10141  33749345  Waterfall  ASTRO (아스트로)   \n",
       "\n",
       "                                                     img  \n",
       "10141  https://cdnimg.melon.co.kr/cm2/album/images/10...  "
      ]
     },
     "execution_count": 59,
     "metadata": {},
     "output_type": "execute_result"
    }
   ],
   "source": [
    "plist2[plist2.songId.isin([\"33749345\"])]"
   ]
  },
  {
   "cell_type": "code",
   "execution_count": 74,
   "metadata": {},
   "outputs": [
    {
     "name": "stdout",
     "output_type": "stream",
     "text": [
      "is ok\n"
     ]
    }
   ],
   "source": [
    "if not plist2[plist2.songId.isin([\"33749345\"])].empty :\n",
    "    print('is ok')"
   ]
  },
  {
   "cell_type": "code",
   "execution_count": 68,
   "metadata": {},
   "outputs": [
    {
     "data": {
      "text/plain": [
       "pandas.core.frame.DataFrame"
      ]
     },
     "execution_count": 68,
     "metadata": {},
     "output_type": "execute_result"
    }
   ],
   "source": [
    "tmp2 = pd.DataFrame()\n",
    "type(tmp2)"
   ]
  },
  {
   "cell_type": "code",
   "execution_count": 75,
   "metadata": {},
   "outputs": [
    {
     "data": {
      "text/html": [
       "<div>\n",
       "<style scoped>\n",
       "    .dataframe tbody tr th:only-of-type {\n",
       "        vertical-align: middle;\n",
       "    }\n",
       "\n",
       "    .dataframe tbody tr th {\n",
       "        vertical-align: top;\n",
       "    }\n",
       "\n",
       "    .dataframe thead th {\n",
       "        text-align: right;\n",
       "    }\n",
       "</style>\n",
       "<table border=\"1\" class=\"dataframe\">\n",
       "  <thead>\n",
       "    <tr style=\"text-align: right;\">\n",
       "      <th></th>\n",
       "      <th>songId</th>\n",
       "      <th>title</th>\n",
       "      <th>artist</th>\n",
       "      <th>img</th>\n",
       "    </tr>\n",
       "  </thead>\n",
       "  <tbody>\n",
       "    <tr>\n",
       "      <th>594</th>\n",
       "      <td>31595606</td>\n",
       "      <td>나는 볼 수 없던 이야기</td>\n",
       "      <td>잔나비</td>\n",
       "      <td>https://cdnimg.melon.co.kr/cm/album/images/102...</td>\n",
       "    </tr>\n",
       "    <tr>\n",
       "      <th>371</th>\n",
       "      <td>34461065</td>\n",
       "      <td>Christmas Tree</td>\n",
       "      <td>V</td>\n",
       "      <td>https://cdnimg.melon.co.kr/cm2/album/images/10...</td>\n",
       "    </tr>\n",
       "    <tr>\n",
       "      <th>34107</th>\n",
       "      <td>3777042</td>\n",
       "      <td>너의 꿈을 꿨어 (Acoustic Ver.)</td>\n",
       "      <td>제이에이 (JA)</td>\n",
       "      <td>https://cdnimg.melon.co.kr/cm/album/images/021...</td>\n",
       "    </tr>\n",
       "    <tr>\n",
       "      <th>20864</th>\n",
       "      <td>31700626</td>\n",
       "      <td>Airplane Mode (Feat. Leellamarz)</td>\n",
       "      <td>Hash Swan</td>\n",
       "      <td>https://cdnimg.melon.co.kr/cm/album/images/102...</td>\n",
       "    </tr>\n",
       "    <tr>\n",
       "      <th>5245</th>\n",
       "      <td>4276080</td>\n",
       "      <td>스물다섯, 스물하나</td>\n",
       "      <td>자우림</td>\n",
       "      <td>https://cdnimg.melon.co.kr/cm/album/images/022...</td>\n",
       "    </tr>\n",
       "    <tr>\n",
       "      <th>24163</th>\n",
       "      <td>33705642</td>\n",
       "      <td>오르막길</td>\n",
       "      <td>정인</td>\n",
       "      <td>https://cdnimg.melon.co.kr/cm2/album/images/10...</td>\n",
       "    </tr>\n",
       "    <tr>\n",
       "      <th>3397</th>\n",
       "      <td>31666417</td>\n",
       "      <td>주저하는 연인들을 위해</td>\n",
       "      <td>잔나비</td>\n",
       "      <td>https://cdnimg.melon.co.kr/cm/album/images/102...</td>\n",
       "    </tr>\n",
       "    <tr>\n",
       "      <th>6000</th>\n",
       "      <td>30139562</td>\n",
       "      <td>어디선가 언젠가</td>\n",
       "      <td>성시경</td>\n",
       "      <td>https://cdnimg.melon.co.kr/cm/album/images/100...</td>\n",
       "    </tr>\n",
       "    <tr>\n",
       "      <th>1113</th>\n",
       "      <td>31899300</td>\n",
       "      <td>비가 내리는 날에는</td>\n",
       "      <td>윤하 (YOUNHA)</td>\n",
       "      <td>https://cdnimg.melon.co.kr/cm/album/images/103...</td>\n",
       "    </tr>\n",
       "    <tr>\n",
       "      <th>3761</th>\n",
       "      <td>1370967</td>\n",
       "      <td>사랑안해</td>\n",
       "      <td>백지영</td>\n",
       "      <td>https://cdnimg.melon.co.kr/cm/album/images/003...</td>\n",
       "    </tr>\n",
       "  </tbody>\n",
       "</table>\n",
       "</div>"
      ],
      "text/plain": [
       "         songId                             title       artist  \\\n",
       "594    31595606                     나는 볼 수 없던 이야기          잔나비   \n",
       "371    34461065                    Christmas Tree            V   \n",
       "34107   3777042          너의 꿈을 꿨어 (Acoustic Ver.)    제이에이 (JA)   \n",
       "20864  31700626  Airplane Mode (Feat. Leellamarz)    Hash Swan   \n",
       "5245    4276080                        스물다섯, 스물하나          자우림   \n",
       "24163  33705642                              오르막길           정인   \n",
       "3397   31666417                      주저하는 연인들을 위해          잔나비   \n",
       "6000   30139562                          어디선가 언젠가          성시경   \n",
       "1113   31899300                        비가 내리는 날에는  윤하 (YOUNHA)   \n",
       "3761    1370967                              사랑안해          백지영   \n",
       "\n",
       "                                                     img  \n",
       "594    https://cdnimg.melon.co.kr/cm/album/images/102...  \n",
       "371    https://cdnimg.melon.co.kr/cm2/album/images/10...  \n",
       "34107  https://cdnimg.melon.co.kr/cm/album/images/021...  \n",
       "20864  https://cdnimg.melon.co.kr/cm/album/images/102...  \n",
       "5245   https://cdnimg.melon.co.kr/cm/album/images/022...  \n",
       "24163  https://cdnimg.melon.co.kr/cm2/album/images/10...  \n",
       "3397   https://cdnimg.melon.co.kr/cm/album/images/102...  \n",
       "6000   https://cdnimg.melon.co.kr/cm/album/images/100...  \n",
       "1113   https://cdnimg.melon.co.kr/cm/album/images/103...  \n",
       "3761   https://cdnimg.melon.co.kr/cm/album/images/003...  "
      ]
     },
     "execution_count": 75,
     "metadata": {},
     "output_type": "execute_result"
    }
   ],
   "source": [
    "cnt = 0\n",
    "songs = pd.DataFrame()\n",
    "\n",
    "for s_id in choice_songs:    \n",
    "    tmp = df[df.songId.isin([s_id])][['songId', 'title', 'artist', 'img']]\n",
    "\n",
    "    if not tmp.empty : # df에 있으면 추가\n",
    "        cnt += 1\n",
    "        songs = pd.concat([songs, tmp])\n",
    "    else:\n",
    "        tmp = plist2[plist2.songId.isin([s_id])]\n",
    "        if not tmp.empty :\n",
    "            cnt += 1\n",
    "            songs = pd.concat([songs, tmp])\n",
    "    if cnt == 10 : break\n",
    "\n",
    "songs"
   ]
  },
  {
   "cell_type": "code",
   "execution_count": 71,
   "metadata": {},
   "outputs": [
    {
     "data": {
      "text/plain": [
       "[{'songId': '36009169',\n",
       "  'title': '비싼 숙취',\n",
       "  'artist': '이승윤',\n",
       "  'img': 'https://cdnimg.melon.co.kr/cm2/album/images/111/40/759/11140759_20230105214545_500.jpg/melon/resize/120/quality/80/optimize'},\n",
       " {'songId': '30865197',\n",
       "  'title': '모든 날',\n",
       "  'artist': '골든차일드',\n",
       "  'img': 'https://cdnimg.melon.co.kr/cm/album/images/101/34/080/10134080_500.jpg/melon/resize/120/quality/80/optimize'},\n",
       " {'songId': '31817361',\n",
       "  'title': '별자리 (SHINING STARS)',\n",
       "  'artist': 'AB6IX (에이비식스)',\n",
       "  'img': 'https://cdnimg.melon.co.kr/cm/album/images/102/78/828/10278828_500.jpg/melon/resize/120/quality/80/optimize'},\n",
       " {'songId': '30992156',\n",
       "  'title': 'OFF-ROAD',\n",
       "  'artist': '펜타곤',\n",
       "  'img': 'https://cdnimg.melon.co.kr/cm/album/images/101/53/912/10153912_500.jpg/melon/resize/120/quality/80/optimize'},\n",
       " {'songId': '30132706',\n",
       "  'title': 'BEAUTIFUL',\n",
       "  'artist': '세븐틴 (SEVENTEEN)',\n",
       "  'img': 'https://cdnimg.melon.co.kr/cm/album/images/100/20/658/10020658_500.jpg/melon/resize/120/quality/80/optimize'},\n",
       " {'songId': '33032415',\n",
       "  'title': 'HEAVEN',\n",
       "  'artist': 'AB6IX (에이비식스)',\n",
       "  'img': 'https://cdnimg.melon.co.kr/cm2/album/images/105/12/189/10512189_20201102121756_500.jpg/melon/resize/120/quality/80/optimize'},\n",
       " {'songId': '33749345',\n",
       "  'title': 'Waterfall',\n",
       "  'artist': 'ASTRO (아스트로)',\n",
       "  'img': 'https://cdnimg.melon.co.kr/cm2/album/images/106/67/554/10667554_20210802120006_500.jpg/melon/resize/120/quality/80/optimize'},\n",
       " {'songId': '31372449',\n",
       "  'title': '널하다',\n",
       "  'artist': '몬스타엑스',\n",
       "  'img': 'https://cdnimg.melon.co.kr/cm/album/images/102/14/762/10214762_500.jpg/melon/resize/120/quality/80/optimize'},\n",
       " {'songId': '31856953',\n",
       "  'title': 'WAVE',\n",
       "  'artist': 'ATEEZ (에이티즈)',\n",
       "  'img': 'https://cdnimg.melon.co.kr/cm/album/images/102/95/279/10295279_500.jpg?93c67804f57d75f0b6885abd3301bd7e/melon/resize/282/quality/80/optimize'},\n",
       " {'songId': '31856955',\n",
       "  'title': 'Dancing Like Butterfly Wings',\n",
       "  'artist': 'ATEEZ (에이티즈)',\n",
       "  'img': 'https://cdnimg.melon.co.kr/cm/album/images/102/95/279/10295279_500.jpg/melon/resize/120/quality/80/optimize'}]"
      ]
     },
     "execution_count": 71,
     "metadata": {},
     "output_type": "execute_result"
    }
   ],
   "source": [
    "songs.to_dict('records')"
   ]
  },
  {
   "cell_type": "code",
   "execution_count": 77,
   "metadata": {},
   "outputs": [
    {
     "data": {
      "text/plain": [
       "18"
      ]
     },
     "execution_count": 77,
     "metadata": {},
     "output_type": "execute_result"
    }
   ],
   "source": [
    "from datetime import datetime\n",
    "\n",
    "now = datetime.now().hour\n",
    "now"
   ]
  },
  {
   "cell_type": "code",
   "execution_count": null,
   "metadata": {},
   "outputs": [],
   "source": [
    "if now < 7 or now > 20:\n",
    "    desc = '새벽'\n",
    "elif 7 <= now <= 9:\n",
    "    desc = '출근'\n",
    "elif 9 < now <= 12:\n",
    "    desc = '오전'\n",
    "elif 12 < now < 18:\n",
    "    desc = '오후'\n",
    "elif 18 <= now <= 20:\n",
    "    desc = '저녁'\n",
    "\n",
    "print(desc)"
   ]
  }
 ],
 "metadata": {
  "kernelspec": {
   "display_name": "base",
   "language": "python",
   "name": "python3"
  },
  "language_info": {
   "codemirror_mode": {
    "name": "ipython",
    "version": 3
   },
   "file_extension": ".py",
   "mimetype": "text/x-python",
   "name": "python",
   "nbconvert_exporter": "python",
   "pygments_lexer": "ipython3",
   "version": "3.9.13"
  },
  "orig_nbformat": 4
 },
 "nbformat": 4,
 "nbformat_minor": 2
}
