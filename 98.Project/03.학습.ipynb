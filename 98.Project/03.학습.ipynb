{
 "cells": [
  {
   "cell_type": "code",
   "execution_count": 55,
   "metadata": {},
   "outputs": [],
   "source": [
    "import numpy as np\n",
    "import pandas as pd\n"
   ]
  },
  {
   "cell_type": "code",
   "execution_count": 56,
   "metadata": {},
   "outputs": [
    {
     "data": {
      "text/html": [
       "<div>\n",
       "<style scoped>\n",
       "    .dataframe tbody tr th:only-of-type {\n",
       "        vertical-align: middle;\n",
       "    }\n",
       "\n",
       "    .dataframe tbody tr th {\n",
       "        vertical-align: top;\n",
       "    }\n",
       "\n",
       "    .dataframe thead th {\n",
       "        text-align: right;\n",
       "    }\n",
       "</style>\n",
       "<table border=\"1\" class=\"dataframe\">\n",
       "  <thead>\n",
       "    <tr style=\"text-align: right;\">\n",
       "      <th></th>\n",
       "      <th>songId</th>\n",
       "      <th>title</th>\n",
       "      <th>artist</th>\n",
       "      <th>genre</th>\n",
       "      <th>album</th>\n",
       "      <th>lyricist</th>\n",
       "      <th>composer</th>\n",
       "      <th>date</th>\n",
       "      <th>img</th>\n",
       "      <th>comment</th>\n",
       "      <th>like</th>\n",
       "      <th>lyric</th>\n",
       "    </tr>\n",
       "  </thead>\n",
       "  <tbody>\n",
       "    <tr>\n",
       "      <th>0</th>\n",
       "      <td>36404853</td>\n",
       "      <td>물론</td>\n",
       "      <td>허각</td>\n",
       "      <td>발라드</td>\n",
       "      <td>물론</td>\n",
       "      <td>윤사라</td>\n",
       "      <td>조영수</td>\n",
       "      <td>20230428</td>\n",
       "      <td>https://cdnimg.melon.co.kr/cm2/album/images/11...</td>\n",
       "      <td>106</td>\n",
       "      <td>24408</td>\n",
       "      <td>가진 게 그리 많진 않아어쩌면 많이 부족할지 몰라가끔 나와 다투기도 하겠지만주위를 ...</td>\n",
       "    </tr>\n",
       "    <tr>\n",
       "      <th>1</th>\n",
       "      <td>36394038</td>\n",
       "      <td>Heaven(2023)</td>\n",
       "      <td>임재현</td>\n",
       "      <td>발라드, 국내드라마</td>\n",
       "      <td>시작은 첫키스 OST Part.1</td>\n",
       "      <td>강은경</td>\n",
       "      <td>원상우</td>\n",
       "      <td>20230425</td>\n",
       "      <td>https://cdnimg.melon.co.kr/cm2/album/images/11...</td>\n",
       "      <td>65</td>\n",
       "      <td>22750</td>\n",
       "      <td>왜 이제 왔나요 더 야윈 그대나만큼 힘들었나요두 번 살게 하네요 그대 내 삶을난 모...</td>\n",
       "    </tr>\n",
       "    <tr>\n",
       "      <th>2</th>\n",
       "      <td>36382580</td>\n",
       "      <td>헤어지자 말해요</td>\n",
       "      <td>박재정</td>\n",
       "      <td>발라드</td>\n",
       "      <td>1집 Alone</td>\n",
       "      <td>박재정</td>\n",
       "      <td>박재정</td>\n",
       "      <td>20230420</td>\n",
       "      <td>https://cdnimg.melon.co.kr/cm2/album/images/11...</td>\n",
       "      <td>619</td>\n",
       "      <td>33243</td>\n",
       "      <td>헤어지자고 말하려 오늘너에게 가다가 우리 추억 생각해 봤어처음 본 네 얼굴마주친 눈...</td>\n",
       "    </tr>\n",
       "    <tr>\n",
       "      <th>3</th>\n",
       "      <td>36440243</td>\n",
       "      <td>사랑..그게 뭔데</td>\n",
       "      <td>지아</td>\n",
       "      <td>발라드</td>\n",
       "      <td>사랑..그게 뭔데</td>\n",
       "      <td>강은경</td>\n",
       "      <td>박근태</td>\n",
       "      <td>20230512</td>\n",
       "      <td>https://cdnimg.melon.co.kr/cm2/album/images/11...</td>\n",
       "      <td>51</td>\n",
       "      <td>10892</td>\n",
       "      <td>무슨 뜻인 건가요 지금 한 그 말잊으라는 지우라는 차가운 한 마디믿어지지 않아요 거...</td>\n",
       "    </tr>\n",
       "    <tr>\n",
       "      <th>4</th>\n",
       "      <td>36410735</td>\n",
       "      <td>안녕이라고 말하지마</td>\n",
       "      <td>V.O.S</td>\n",
       "      <td>발라드</td>\n",
       "      <td>안녕이라고 말하지마</td>\n",
       "      <td>전해성</td>\n",
       "      <td>전해성</td>\n",
       "      <td>20230430</td>\n",
       "      <td>https://cdnimg.melon.co.kr/cm2/album/images/11...</td>\n",
       "      <td>30</td>\n",
       "      <td>11664</td>\n",
       "      <td>떨리는 너의 입술을 난 난 처음 보았지 무슨 말 하려고 말 하려고 뜸만 들이는지 슬...</td>\n",
       "    </tr>\n",
       "  </tbody>\n",
       "</table>\n",
       "</div>"
      ],
      "text/plain": [
       "     songId         title artist       genre               album lyricist   \n",
       "0  36404853            물론     허각         발라드                  물론      윤사라  \\\n",
       "1  36394038  Heaven(2023)    임재현  발라드, 국내드라마  시작은 첫키스 OST Part.1      강은경   \n",
       "2  36382580      헤어지자 말해요    박재정         발라드            1집 Alone      박재정   \n",
       "3  36440243     사랑..그게 뭔데     지아         발라드           사랑..그게 뭔데      강은경   \n",
       "4  36410735    안녕이라고 말하지마  V.O.S         발라드          안녕이라고 말하지마      전해성   \n",
       "\n",
       "  composer      date                                                img   \n",
       "0      조영수  20230428  https://cdnimg.melon.co.kr/cm2/album/images/11...  \\\n",
       "1      원상우  20230425  https://cdnimg.melon.co.kr/cm2/album/images/11...   \n",
       "2      박재정  20230420  https://cdnimg.melon.co.kr/cm2/album/images/11...   \n",
       "3      박근태  20230512  https://cdnimg.melon.co.kr/cm2/album/images/11...   \n",
       "4      전해성  20230430  https://cdnimg.melon.co.kr/cm2/album/images/11...   \n",
       "\n",
       "  comment   like                                              lyric  \n",
       "0     106  24408  가진 게 그리 많진 않아어쩌면 많이 부족할지 몰라가끔 나와 다투기도 하겠지만주위를 ...  \n",
       "1      65  22750  왜 이제 왔나요 더 야윈 그대나만큼 힘들었나요두 번 살게 하네요 그대 내 삶을난 모...  \n",
       "2     619  33243  헤어지자고 말하려 오늘너에게 가다가 우리 추억 생각해 봤어처음 본 네 얼굴마주친 눈...  \n",
       "3      51  10892  무슨 뜻인 건가요 지금 한 그 말잊으라는 지우라는 차가운 한 마디믿어지지 않아요 거...  \n",
       "4      30  11664  떨리는 너의 입술을 난 난 처음 보았지 무슨 말 하려고 말 하려고 뜸만 들이는지 슬...  "
      ]
     },
     "execution_count": 56,
     "metadata": {},
     "output_type": "execute_result"
    }
   ],
   "source": [
    "df = pd.read_csv('data/melon_genre_test.csv')\n",
    "df.head()"
   ]
  },
  {
   "cell_type": "code",
   "execution_count": 70,
   "metadata": {},
   "outputs": [
    {
     "data": {
      "text/plain": [
       "'가진 게 그리 많진 않아어쩌면 많이 부족할지 몰라가끔 나와 다투기도 하겠지만주위를 둘러보면 네게나보다 좋은 사람 많겠지만널 사랑하는 맘나 그것만큼은 자신 있는 걸내리는 비를 막아 줄 수는 없지만비가 오면 항상 함께 맞아 줄게힘든 일이 있어도 기쁜 일이 있어도함께 할게물론 모든 걸 다 줄 수는 없지만작은 행복에 미소 짓게 해 줄게무슨 일이 있어도너의 편이 돼줄게 언제까지나세상이 그리 쉽지 않아몇 번씩 넘어지곤 할지 몰라꼭 잡은 두 손만 놓치지 않고선함께 가면 돼내리는 비를 막아 줄 수는 없지만비가 오면 항상 함께 맞아 줄게힘든 일이 있어도 기쁜 일이 있어도함께 할게물론 모든 걸 다 줄 수는 없지만작은 행복에 미소 짓게 해 줄게무슨 일이 있어도너의 편이 돼줄게 언제까지나'"
      ]
     },
     "execution_count": 70,
     "metadata": {},
     "output_type": "execute_result"
    }
   ],
   "source": [
    "df.lyric[0]"
   ]
  },
  {
   "cell_type": "code",
   "execution_count": 57,
   "metadata": {},
   "outputs": [
    {
     "data": {
      "text/plain": [
       "(200, 200, 198)"
      ]
     },
     "execution_count": 57,
     "metadata": {},
     "output_type": "execute_result"
    }
   ],
   "source": [
    "df.shape[0], df.songId.nunique(), df.title.nunique()"
   ]
  },
  {
   "cell_type": "code",
   "execution_count": 58,
   "metadata": {},
   "outputs": [
    {
     "data": {
      "text/html": [
       "<div>\n",
       "<style scoped>\n",
       "    .dataframe tbody tr th:only-of-type {\n",
       "        vertical-align: middle;\n",
       "    }\n",
       "\n",
       "    .dataframe tbody tr th {\n",
       "        vertical-align: top;\n",
       "    }\n",
       "\n",
       "    .dataframe thead th {\n",
       "        text-align: right;\n",
       "    }\n",
       "</style>\n",
       "<table border=\"1\" class=\"dataframe\">\n",
       "  <thead>\n",
       "    <tr style=\"text-align: right;\">\n",
       "      <th></th>\n",
       "      <th>songId</th>\n",
       "      <th>title</th>\n",
       "      <th>artist</th>\n",
       "      <th>genre</th>\n",
       "      <th>album</th>\n",
       "      <th>lyricist</th>\n",
       "      <th>composer</th>\n",
       "      <th>date</th>\n",
       "      <th>img</th>\n",
       "      <th>comment</th>\n",
       "      <th>like</th>\n",
       "      <th>lyric</th>\n",
       "    </tr>\n",
       "  </thead>\n",
       "  <tbody>\n",
       "    <tr>\n",
       "      <th>0</th>\n",
       "      <td>2741416</td>\n",
       "      <td>Bad Girl Good Girl</td>\n",
       "      <td>미쓰에이</td>\n",
       "      <td>댄스</td>\n",
       "      <td>Bad But Good</td>\n",
       "      <td>박진영</td>\n",
       "      <td>박진영</td>\n",
       "      <td>20100701</td>\n",
       "      <td>https://cdnimg.melon.co.kr/cm/album/images/009...</td>\n",
       "      <td>156</td>\n",
       "      <td>43897</td>\n",
       "      <td>You don't know meYou don't know meYou don't kn...</td>\n",
       "    </tr>\n",
       "    <tr>\n",
       "      <th>1</th>\n",
       "      <td>2705410</td>\n",
       "      <td>잔소리 (With 2AM 슬옹)</td>\n",
       "      <td>아이유</td>\n",
       "      <td>발라드</td>\n",
       "      <td>잔소리</td>\n",
       "      <td>김이나</td>\n",
       "      <td>이민수</td>\n",
       "      <td>20100603</td>\n",
       "      <td>https://cdnimg.melon.co.kr/cm/album/images/009...</td>\n",
       "      <td>223</td>\n",
       "      <td>98640</td>\n",
       "      <td>늦게 다니지좀 마술은 멀리좀 해봐열살짜리 애처럼 말을 안듣니정말 웃음만 나와누가 누...</td>\n",
       "    </tr>\n",
       "    <tr>\n",
       "      <th>2</th>\n",
       "      <td>2733249</td>\n",
       "      <td>죽을 만큼 아파서 (Feat. 멜로우)</td>\n",
       "      <td>MC몽</td>\n",
       "      <td>랩/힙합</td>\n",
       "      <td>블루브랜드 Trauma Part 2</td>\n",
       "      <td>MC몽</td>\n",
       "      <td>박장근</td>\n",
       "      <td>20100624</td>\n",
       "      <td>https://cdnimg.melon.co.kr/cm/album/images/009...</td>\n",
       "      <td>336</td>\n",
       "      <td>95624</td>\n",
       "      <td>I found the way tolet you leave I never really...</td>\n",
       "    </tr>\n",
       "    <tr>\n",
       "      <th>3</th>\n",
       "      <td>2544949</td>\n",
       "      <td>못해 (Feat. 美)</td>\n",
       "      <td>포맨 (4MEN)</td>\n",
       "      <td>발라드</td>\n",
       "      <td>The 3rd Generation (Special Album)</td>\n",
       "      <td>민연재</td>\n",
       "      <td>윤민수(바이브)</td>\n",
       "      <td>20100118</td>\n",
       "      <td>https://cdnimg.melon.co.kr/cm/album/images/007...</td>\n",
       "      <td>67</td>\n",
       "      <td>87433</td>\n",
       "      <td>이제는 밥을 먹어도눈물 없이는 삼키지 못해억지로 먹고 먹어도 속이 늘 허전해노랠 들...</td>\n",
       "    </tr>\n",
       "    <tr>\n",
       "      <th>4</th>\n",
       "      <td>2549955</td>\n",
       "      <td>죽어도 못 보내</td>\n",
       "      <td>2am</td>\n",
       "      <td>발라드</td>\n",
       "      <td>죽어도 못 보내</td>\n",
       "      <td>방시혁</td>\n",
       "      <td>방시혁</td>\n",
       "      <td>20100121</td>\n",
       "      <td>https://cdnimg.melon.co.kr/cm/album/images/007...</td>\n",
       "      <td>109</td>\n",
       "      <td>25235</td>\n",
       "      <td>어려도 아픈건 똑같아세상을 잘 모른다고아픈걸 모르진 않아괜찮아 질거라고 왜 거짓말을...</td>\n",
       "    </tr>\n",
       "  </tbody>\n",
       "</table>\n",
       "</div>"
      ],
      "text/plain": [
       "    songId                  title     artist genre   \n",
       "0  2741416     Bad Girl Good Girl       미쓰에이    댄스  \\\n",
       "1  2705410      잔소리 (With 2AM 슬옹)        아이유   발라드   \n",
       "2  2733249  죽을 만큼 아파서 (Feat. 멜로우)        MC몽  랩/힙합   \n",
       "3  2544949           못해 (Feat. 美)  포맨 (4MEN)   발라드   \n",
       "4  2549955               죽어도 못 보내        2am   발라드   \n",
       "\n",
       "                                album lyricist  composer      date   \n",
       "0                        Bad But Good      박진영       박진영  20100701  \\\n",
       "1                                 잔소리      김이나       이민수  20100603   \n",
       "2                 블루브랜드 Trauma Part 2      MC몽       박장근  20100624   \n",
       "3  The 3rd Generation (Special Album)      민연재  윤민수(바이브)  20100118   \n",
       "4                            죽어도 못 보내      방시혁       방시혁  20100121   \n",
       "\n",
       "                                                 img comment   like   \n",
       "0  https://cdnimg.melon.co.kr/cm/album/images/009...     156  43897  \\\n",
       "1  https://cdnimg.melon.co.kr/cm/album/images/009...     223  98640   \n",
       "2  https://cdnimg.melon.co.kr/cm/album/images/009...     336  95624   \n",
       "3  https://cdnimg.melon.co.kr/cm/album/images/007...      67  87433   \n",
       "4  https://cdnimg.melon.co.kr/cm/album/images/007...     109  25235   \n",
       "\n",
       "                                               lyric  \n",
       "0  You don't know meYou don't know meYou don't kn...  \n",
       "1  늦게 다니지좀 마술은 멀리좀 해봐열살짜리 애처럼 말을 안듣니정말 웃음만 나와누가 누...  \n",
       "2  I found the way tolet you leave I never really...  \n",
       "3  이제는 밥을 먹어도눈물 없이는 삼키지 못해억지로 먹고 먹어도 속이 늘 허전해노랠 들...  \n",
       "4  어려도 아픈건 똑같아세상을 잘 모른다고아픈걸 모르진 않아괜찮아 질거라고 왜 거짓말을...  "
      ]
     },
     "execution_count": 58,
     "metadata": {},
     "output_type": "execute_result"
    }
   ],
   "source": [
    "df2 = pd.read_csv('data/시대별.csv')\n",
    "df2.head()"
   ]
  },
  {
   "cell_type": "code",
   "execution_count": 71,
   "metadata": {},
   "outputs": [
    {
     "data": {
      "text/plain": [
       "'늦게 다니지좀 마술은 멀리좀 해봐열살짜리 애처럼 말을 안듣니정말 웃음만 나와누가 누굴보고 아이라 하는지정말 웃음만 나와싫은 얘기 하게 되는 내 맘을 몰라좋은 얘기만 나누고 싶은 내맘을 몰라그만할까 그만하자하나부터 열까지 다 널 위한 소리내 말 듣지 않는 너에게는 뻔한 잔소리그만하자 그만하자사랑하기만해도 시간 없는데머리 아닌 가슴으로 하는 이야기니가 싫다 해도 안 할수가 없는 이야기그만하자 그만하자나의 잔소리가 들려밥은 제 때 먹는지여잔 멀리 하는지온 종일을 네 옆에 있고 싶은데내가 그 맘인거야주머니속에 널 넣고 다니면정말 행복할텐데둘이 아니면 안되는 우리 이야기누가 듣는다면 놀려대고 웃을 이야기그만할까 그만하자하나부터 열까지 다 널 위한 소리내 말 듣지 않는 너에게는 뻔한 잔소리그만하자 그만하자사랑하기만해도 시간 없는데머리 아닌 가슴으로 하는 이야기니가 싫다 해도 안 할수가 없는 이야기그만하자 그만하자나의 잔소리가 들려눈에 힘을 주고 겁을 줘봐도내겐 그저 귀여운 얼굴이럴래 자꾸 더는 못 참고정말 화낼지 몰라사랑하다 말거라면 안 할 이야기누구보다 너를 생각하는 마음의 소리화가 나도 소리 쳐도너의 잔소리마저 난 달콤한데사랑해야 할 수 있는 그런 이야기내 말 듣지 않는 너에게는 뻔한 잔소리그만하자 그만하자이런 내 맘을 믿어줘'"
      ]
     },
     "execution_count": 71,
     "metadata": {},
     "output_type": "execute_result"
    }
   ],
   "source": [
    "df2.lyric[1]"
   ]
  },
  {
   "cell_type": "code",
   "execution_count": 59,
   "metadata": {},
   "outputs": [
    {
     "data": {
      "text/plain": [
       "(244, 241, 240)"
      ]
     },
     "execution_count": 59,
     "metadata": {},
     "output_type": "execute_result"
    }
   ],
   "source": [
    "df2.shape[0], df2.songId.nunique(), df2.title.nunique()"
   ]
  },
  {
   "cell_type": "code",
   "execution_count": 60,
   "metadata": {},
   "outputs": [
    {
     "data": {
      "text/plain": [
       "(444, 439, 432)"
      ]
     },
     "execution_count": 60,
     "metadata": {},
     "output_type": "execute_result"
    }
   ],
   "source": [
    "df3 = pd.merge(df, df2, how='outer')\n",
    "df3.shape[0], df3.songId.nunique(), df3.title.nunique()"
   ]
  },
  {
   "cell_type": "code",
   "execution_count": 61,
   "metadata": {},
   "outputs": [
    {
     "data": {
      "text/plain": [
       "(439, 12)"
      ]
     },
     "execution_count": 61,
     "metadata": {},
     "output_type": "execute_result"
    }
   ],
   "source": [
    "df3.drop_duplicates(subset=['songId'], inplace=True)\n",
    "df3.shape"
   ]
  },
  {
   "cell_type": "code",
   "execution_count": 62,
   "metadata": {},
   "outputs": [
    {
     "data": {
      "text/plain": [
       "'가진 게 그리 많진 않아어쩌면 많이 부족할지 몰라가끔 나와 다투기도 하겠지만주위를 둘러보면 네게나보다 좋은 사람 많겠지만널 사랑하는 맘나 그것만큼은 자신 있는 걸내리는 비를 막아 줄 수는 없지만비가 오면 항상 함께 맞아 줄게힘든 일이 있어도 기쁜 일이 있어도함께 할게물론 모든 걸 다 줄 수는 없지만작은 행복에 미소 짓게 해 줄게무슨 일이 있어도너의 편이 돼줄게 언제까지나세상이 그리 쉽지 않아몇 번씩 넘어지곤 할지 몰라꼭 잡은 두 손만 놓치지 않고선함께 가면 돼내리는 비를 막아 줄 수는 없지만비가 오면 항상 함께 맞아 줄게힘든 일이 있어도 기쁜 일이 있어도함께 할게물론 모든 걸 다 줄 수는 없지만작은 행복에 미소 짓게 해 줄게무슨 일이 있어도너의 편이 돼줄게 언제까지나 허각 허각 허각 조영수 조영수 윤사라 윤사라 발라드 발라드'"
      ]
     },
     "execution_count": 62,
     "metadata": {},
     "output_type": "execute_result"
    }
   ],
   "source": [
    "df3['total'] = df3.lyric + (' ' + df3.artist) * 3 + (' ' + df3.composer) * 2 + (' ' + df3.lyricist) * 2 + (' ' + df3.genre) * 2\n",
    "df3.total[0]"
   ]
  },
  {
   "cell_type": "code",
   "execution_count": 63,
   "metadata": {},
   "outputs": [],
   "source": [
    "df3.set_index('songId', inplace=True)\n",
    "df3.reset_index(inplace=True)"
   ]
  },
  {
   "cell_type": "code",
   "execution_count": 64,
   "metadata": {},
   "outputs": [
    {
     "data": {
      "text/plain": [
       "(439, 23786)"
      ]
     },
     "execution_count": 64,
     "metadata": {},
     "output_type": "execute_result"
    }
   ],
   "source": [
    "from sklearn.feature_extraction.text import TfidfVectorizer\n",
    "tvect = TfidfVectorizer()\n",
    "total_tv = tvect.fit_transform(df3.total)\n",
    "total_tv.shape"
   ]
  },
  {
   "cell_type": "code",
   "execution_count": 65,
   "metadata": {},
   "outputs": [],
   "source": [
    "indices = pd.Series(df3.index, index=df3.title)"
   ]
  },
  {
   "cell_type": "code",
   "execution_count": 66,
   "metadata": {},
   "outputs": [
    {
     "data": {
      "text/plain": [
       "title\n",
       "물론                   0\n",
       "Heaven(2023)         1\n",
       "헤어지자 말해요             2\n",
       "사랑..그게 뭔데            3\n",
       "안녕이라고 말하지마           4\n",
       "                  ... \n",
       "연결고리#힙합            434\n",
       "오늘부터 1일 (Day 1)    435\n",
       "미운오리새끼             436\n",
       "이제 그만 싸우자          437\n",
       "틈                  438\n",
       "Length: 439, dtype: int64"
      ]
     },
     "execution_count": 66,
     "metadata": {},
     "output_type": "execute_result"
    }
   ],
   "source": [
    "indices"
   ]
  },
  {
   "cell_type": "code",
   "execution_count": 67,
   "metadata": {},
   "outputs": [],
   "source": [
    "from sklearn.metrics.pairwise import cosine_similarity\n",
    "cosine_sim = cosine_similarity(total_tv)"
   ]
  },
  {
   "cell_type": "code",
   "execution_count": 68,
   "metadata": {},
   "outputs": [],
   "source": [
    "def get_recommendation(title, cos_sim):\n",
    "    index = indices[title]\n",
    "    sim_scores = pd.Series(cos_sim[index])\n",
    "    song_indices = sim_scores.sort_values(ascending=False).head(11).tail(10).index\n",
    "    return df3.title.iloc[song_indices]"
   ]
  },
  {
   "cell_type": "code",
   "execution_count": 69,
   "metadata": {},
   "outputs": [
    {
     "data": {
      "text/plain": [
       "433                                   My Destiny\n",
       "267                                   Be My Baby\n",
       "172    작은 것들을 위한 시 (Boy With Luv) (Feat. Halsey)\n",
       "251                                   내가 제일 잘 나가\n",
       "316                    이러지마 제발 (Please Don't...)\n",
       "155                                    FOREVER 1\n",
       "278                    톡톡 (Tok Tok) (Feat. SOYA)\n",
       "288                                      내꺼중에 최고\n",
       "335                                     Only One\n",
       "141                                  Say My Name\n",
       "Name: title, dtype: object"
      ]
     },
     "execution_count": 69,
     "metadata": {},
     "output_type": "execute_result"
    }
   ],
   "source": [
    "get_recommendation('오늘부터 1일 (Day 1)', cosine_sim)"
   ]
  },
  {
   "cell_type": "code",
   "execution_count": 73,
   "metadata": {},
   "outputs": [],
   "source": [
    "from sumy.parsers.plaintext import PlaintextParser\n",
    "from sumy.nlp.tokenizers import Tokenizer\n",
    "from sumy.summarizers.lsa import LsaSummarizer\n",
    "from sumy.utils import get_stop_words"
   ]
  },
  {
   "cell_type": "code",
   "execution_count": 75,
   "metadata": {},
   "outputs": [],
   "source": [
    "with open('../data/한글불용어.txt') as st:\n",
    "    lines = st.readlines()\n",
    "stop_words = [line.split('\\t')[0] for line in lines]"
   ]
  },
  {
   "cell_type": "code",
   "execution_count": 77,
   "metadata": {},
   "outputs": [],
   "source": [
    "input_text = '''\n",
    "가진 게 그리 많진 않아\n",
    "어쩌면 많이 부족할지 몰라\n",
    "가끔 나와 다투기도 하겠지만\n",
    "주위를 둘러보면 네게\n",
    "나보다 좋은 사람 많겠지만\n",
    "널 사랑하는 맘\n",
    "나 그것만큼은 자신 있는 걸\n",
    "내리는 비를 막아 줄 수는 없지만\n",
    "비가 오면 항상 함께 맞아 줄게\n",
    "힘든 일이 있어도 기쁜 일이 있어도\n",
    "함께 할게\n",
    "물론 모든 걸 다 줄 수는 없지만\n",
    "작은 행복에 미소 짓게 해 줄게\n",
    "무슨 일이 있어도\n",
    "너의 편이 돼줄게 언제까지나\n",
    "세상이 그리 쉽지 않아\n",
    "몇 번씩 넘어지곤 할지 몰라\n",
    "꼭 잡은 두 손만 놓치지 않고선\n",
    "함께 가면 돼\n",
    "내리는 비를 막아 줄 수는 없지만\n",
    "비가 오면 항상 함께 맞아 줄게\n",
    "힘든 일이 있어도 기쁜 일이 있어도\n",
    "함께 할게\n",
    "물론 모든 걸 다 줄 수는 없지만\n",
    "작은 행복에 미소 짓게 해 줄게\n",
    "무슨 일이 있어도\n",
    "너의 편이 돼줄게 언제까지나\n",
    "'''\n"
   ]
  },
  {
   "cell_type": "code",
   "execution_count": 78,
   "metadata": {},
   "outputs": [],
   "source": [
    "from konlpy.tag import Okt\n",
    "okt = Okt()\n",
    "reviews = []\n",
    "for review in [input_text]:\n",
    "    morphs = okt.morphs(review, stem=True)\n",
    "    tmp = [word for word in morphs  if word not in stop_words]\n",
    "    reviews.append(' '.join(tmp))"
   ]
  },
  {
   "cell_type": "code",
   "execution_count": 81,
   "metadata": {},
   "outputs": [
    {
     "data": {
      "text/plain": [
       "' 가지다 게 그리다 많다 않다  어쩌면 많이 부족하다 모르다  가끔 나오다 다투다 하다  주위 를 둘러보다 네 게  보다 좋다 많다  널 사랑 하다 맘  만큼은 있다 걸  내리다 비 를 막다 줄 는 없다  비 오다 항상 함께 맞다 줄 게  힘드다 일이 있다 기쁘다 일이 있다  함께 하다  물론 모든 걸 다 줄 는 없다  작다 행복 에 미소 짓다 해 줄 게  무슨 일이 있다  너 의 편이 돼다 언제 까지나  세상 그리다 쉬다 않다  몇 씩 넘어지다 하다 모르다  꼭 잡다 손 만 놓치다 않다  함께 가면 돼다  내리다 비 를 막다 줄 는 없다  비 오다 항상 함께 맞다 줄 게  힘드다 일이 있다 기쁘다 일이 있다  함께 하다  물론 모든 걸 다 줄 는 없다  작다 행복 에 미소 짓다 해 줄 게  무슨 일이 있다  너 의 편이 돼다 언제 까지나 '"
      ]
     },
     "execution_count": 81,
     "metadata": {},
     "output_type": "execute_result"
    }
   ],
   "source": [
    "' '.join(reviews).replace('\\n', '')"
   ]
  },
  {
   "cell_type": "code",
   "execution_count": 85,
   "metadata": {},
   "outputs": [
    {
     "ename": "AttributeError",
     "evalue": "'str' object has no attribute 'words'",
     "output_type": "error",
     "traceback": [
      "\u001b[1;31m---------------------------------------------------------------------------\u001b[0m",
      "\u001b[1;31mAttributeError\u001b[0m                            Traceback (most recent call last)",
      "Cell \u001b[1;32mIn[85], line 21\u001b[0m\n\u001b[0;32m     15\u001b[0m     \u001b[39mreturn\u001b[39;00m \u001b[39m\"\u001b[39m\u001b[39m \u001b[39m\u001b[39m\"\u001b[39m\u001b[39m.\u001b[39mjoin(result)\n\u001b[0;32m     18\u001b[0m \u001b[39m# 사용 예시\u001b[39;00m\n\u001b[1;32m---> 21\u001b[0m summary \u001b[39m=\u001b[39m summarize_text(input_text)\n\u001b[0;32m     22\u001b[0m \u001b[39mprint\u001b[39m(summary)\n",
      "Cell \u001b[1;32mIn[85], line 9\u001b[0m, in \u001b[0;36msummarize_text\u001b[1;34m(text, num_sentences)\u001b[0m\n\u001b[0;32m      7\u001b[0m summarizer \u001b[39m=\u001b[39m LsaSummarizer()\n\u001b[0;32m      8\u001b[0m summarizer\u001b[39m.\u001b[39mstop_words \u001b[39m=\u001b[39m stop_words\n\u001b[1;32m----> 9\u001b[0m summary \u001b[39m=\u001b[39m summarizer(parser, num_sentences)\n\u001b[0;32m     11\u001b[0m result \u001b[39m=\u001b[39m []\n\u001b[0;32m     12\u001b[0m \u001b[39mfor\u001b[39;00m sentence \u001b[39min\u001b[39;00m summary:\n",
      "File \u001b[1;32mc:\\Users\\YONSAI\\anaconda3\\lib\\site-packages\\sumy\\summarizers\\lsa.py:38\u001b[0m, in \u001b[0;36mLsaSummarizer.__call__\u001b[1;34m(self, document, sentences_count)\u001b[0m\n\u001b[0;32m     35\u001b[0m \u001b[39mdef\u001b[39;00m \u001b[39m__call__\u001b[39m(\u001b[39mself\u001b[39m, document, sentences_count):\n\u001b[0;32m     36\u001b[0m     \u001b[39mself\u001b[39m\u001b[39m.\u001b[39m_ensure_dependecies_installed()\n\u001b[1;32m---> 38\u001b[0m     dictionary \u001b[39m=\u001b[39m \u001b[39mself\u001b[39;49m\u001b[39m.\u001b[39;49m_create_dictionary(document)\n\u001b[0;32m     39\u001b[0m     \u001b[39m# empty document\u001b[39;00m\n\u001b[0;32m     40\u001b[0m     \u001b[39mif\u001b[39;00m \u001b[39mnot\u001b[39;00m dictionary:\n",
      "File \u001b[1;32mc:\\Users\\YONSAI\\anaconda3\\lib\\site-packages\\sumy\\summarizers\\lsa.py:57\u001b[0m, in \u001b[0;36mLsaSummarizer._create_dictionary\u001b[1;34m(self, document)\u001b[0m\n\u001b[0;32m     55\u001b[0m \u001b[39mdef\u001b[39;00m \u001b[39m_create_dictionary\u001b[39m(\u001b[39mself\u001b[39m, document):\n\u001b[0;32m     56\u001b[0m \u001b[39m    \u001b[39m\u001b[39m\"\"\"Creates mapping key = word, value = row index\"\"\"\u001b[39;00m\n\u001b[1;32m---> 57\u001b[0m     words \u001b[39m=\u001b[39m \u001b[39mmap\u001b[39m(\u001b[39mself\u001b[39m\u001b[39m.\u001b[39mnormalize_word, document\u001b[39m.\u001b[39;49mwords)\n\u001b[0;32m     58\u001b[0m     unique_words \u001b[39m=\u001b[39m \u001b[39mfrozenset\u001b[39m(\u001b[39mself\u001b[39m\u001b[39m.\u001b[39mstem_word(w) \u001b[39mfor\u001b[39;00m w \u001b[39min\u001b[39;00m words \u001b[39mif\u001b[39;00m w \u001b[39mnot\u001b[39;00m \u001b[39min\u001b[39;00m \u001b[39mself\u001b[39m\u001b[39m.\u001b[39m_stop_words)\n\u001b[0;32m     60\u001b[0m     \u001b[39mreturn\u001b[39;00m \u001b[39mdict\u001b[39m((w, i) \u001b[39mfor\u001b[39;00m i, w \u001b[39min\u001b[39;00m \u001b[39menumerate\u001b[39m(unique_words))\n",
      "\u001b[1;31mAttributeError\u001b[0m: 'str' object has no attribute 'words'"
     ]
    }
   ],
   "source": [
    "def summarize_text(text, num_sentences=1):\n",
    "    # parser = PlaintextParser.from_string(text, Tokenizer(\"english\"))\n",
    "    # print(type(parser.document))\n",
    "    # print(parser.document)\n",
    "    parser = '<DOM with 1 paragraphs>\\n'\n",
    "    parser += ' '.join(reviews).replace('\\n', '')\n",
    "    summarizer = LsaSummarizer()\n",
    "    summarizer.stop_words = stop_words\n",
    "    summary = summarizer(parser, num_sentences)\n",
    "   \n",
    "    result = []\n",
    "    for sentence in summary:\n",
    "        result.append(str(sentence))\n",
    "   \n",
    "    return \" \".join(result)\n",
    "\n",
    "\n",
    "# 사용 예시\n",
    "\n",
    "\n",
    "summary = summarize_text(input_text)\n",
    "print(summary)"
   ]
  },
  {
   "cell_type": "code",
   "execution_count": 87,
   "metadata": {},
   "outputs": [
    {
     "data": {
      "text/plain": [
       "'김화영'"
      ]
     },
     "execution_count": 87,
     "metadata": {},
     "output_type": "execute_result"
    }
   ],
   "source": [
    "import six\n",
    "\n",
    "def convert_to_unicode(text):\n",
    "    \"\"\"Converts `text` to Unicode (if it's not already), assuming utf-8 input.\"\"\"\n",
    "    if six.PY3:\n",
    "        if isinstance(text, str):\n",
    "            return text\n",
    "        elif isinstance(text, bytes):\n",
    "            return text.decode(\"utf-8\", \"ignore\")\n",
    "        else:\n",
    "            raise ValueError(\"Unsupported string type: %s\" % (type(text)))\n",
    "    elif six.PY2:\n",
    "        if isinstance(text, str):\n",
    "            return text.decode(\"utf-8\", \"ignore\")\n",
    "        elif isinstance(text, unicode):\n",
    "            return text\n",
    "        else:\n",
    "            raise ValueError(\"Unsupported string type: %s\" % (type(text)))\n",
    "    else:\n",
    "        raise ValueError(\"Not running on Python2 or Python 3?\")\n",
    "    \n",
    "\n",
    "convert_to_unicode('김화영')"
   ]
  }
 ],
 "metadata": {
  "kernelspec": {
   "display_name": "base",
   "language": "python",
   "name": "python3"
  },
  "language_info": {
   "codemirror_mode": {
    "name": "ipython",
    "version": 3
   },
   "file_extension": ".py",
   "mimetype": "text/x-python",
   "name": "python",
   "nbconvert_exporter": "python",
   "pygments_lexer": "ipython3",
   "version": "3.10.10"
  },
  "orig_nbformat": 4
 },
 "nbformat": 4,
 "nbformat_minor": 2
}
