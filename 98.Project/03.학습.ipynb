{
 "cells": [
  {
   "cell_type": "code",
   "execution_count": 18,
   "metadata": {},
   "outputs": [],
   "source": [
    "import numpy as np\n",
    "import pandas as pd"
   ]
  },
  {
   "cell_type": "code",
   "execution_count": 36,
   "metadata": {},
   "outputs": [
    {
     "data": {
      "text/plain": [
       "((6247, 13), (3845, 5), (160459, 5))"
      ]
     },
     "execution_count": 36,
     "metadata": {},
     "output_type": "execute_result"
    }
   ],
   "source": [
    "filename = 'data/melon_song.csv'\n",
    "plist_filename1 = 'data/melon_playlist1.csv'\n",
    "plist_filename2 = 'data/melon_playlist2.csv'\n",
    "\n",
    "df = pd.read_csv(filename)\n",
    "plist1 = pd.read_csv(plist_filename1)\n",
    "plist2 = pd.read_csv(plist_filename2)\n",
    "df.shape, plist1.shape, plist2.shape\n"
   ]
  },
  {
   "cell_type": "code",
   "execution_count": 37,
   "metadata": {},
   "outputs": [
    {
     "data": {
      "text/html": [
       "<div>\n",
       "<style scoped>\n",
       "    .dataframe tbody tr th:only-of-type {\n",
       "        vertical-align: middle;\n",
       "    }\n",
       "\n",
       "    .dataframe tbody tr th {\n",
       "        vertical-align: top;\n",
       "    }\n",
       "\n",
       "    .dataframe thead th {\n",
       "        text-align: right;\n",
       "    }\n",
       "</style>\n",
       "<table border=\"1\" class=\"dataframe\">\n",
       "  <thead>\n",
       "    <tr style=\"text-align: right;\">\n",
       "      <th></th>\n",
       "      <th>songId</th>\n",
       "      <th>title</th>\n",
       "      <th>artist</th>\n",
       "      <th>genre</th>\n",
       "      <th>album</th>\n",
       "      <th>lyricist</th>\n",
       "      <th>composer</th>\n",
       "      <th>date</th>\n",
       "      <th>img</th>\n",
       "      <th>comment</th>\n",
       "      <th>like</th>\n",
       "      <th>lyric</th>\n",
       "      <th>plylstSeq</th>\n",
       "    </tr>\n",
       "  </thead>\n",
       "  <tbody>\n",
       "    <tr>\n",
       "      <th>0</th>\n",
       "      <td>418168</td>\n",
       "      <td>희재</td>\n",
       "      <td>성시경</td>\n",
       "      <td>발라드 국내영화</td>\n",
       "      <td>국화꽃 향기 OST</td>\n",
       "      <td>양재선</td>\n",
       "      <td>MGR</td>\n",
       "      <td>20030201</td>\n",
       "      <td>https://cdnimg.melon.co.kr/cm/album/images/000...</td>\n",
       "      <td>332</td>\n",
       "      <td>138267</td>\n",
       "      <td>햇살은 우릴 위해 내리고 \\n바람도 서롤 감싸게 했죠 \\n우리 웃음속에 계절은 오고...</td>\n",
       "      <td>445029956 411111859</td>\n",
       "    </tr>\n",
       "    <tr>\n",
       "      <th>1</th>\n",
       "      <td>35609035</td>\n",
       "      <td>인생은 뷰티풀</td>\n",
       "      <td>김호중</td>\n",
       "      <td>발라드 국내영화</td>\n",
       "      <td>인생은 뷰티풀: 비타돌체</td>\n",
       "      <td>김호중</td>\n",
       "      <td>김호중</td>\n",
       "      <td>20220907</td>\n",
       "      <td>https://cdnimg.melon.co.kr/cm2/album/images/11...</td>\n",
       "      <td>197</td>\n",
       "      <td>17322</td>\n",
       "      <td>하나만 알고 둘은\\n잘 모르는 사람입니다\\n하루는 비틀거리고\\n하루는 뒤뚱거리고\\n...</td>\n",
       "      <td>457536944 474137187</td>\n",
       "    </tr>\n",
       "    <tr>\n",
       "      <th>2</th>\n",
       "      <td>1046278</td>\n",
       "      <td>서쪽 하늘</td>\n",
       "      <td>이승철</td>\n",
       "      <td>발라드 국내영화</td>\n",
       "      <td>청연 OST</td>\n",
       "      <td>이승철</td>\n",
       "      <td>윤명선</td>\n",
       "      <td>20051220</td>\n",
       "      <td>https://cdnimg.melon.co.kr/cm/album/images/003...</td>\n",
       "      <td>84</td>\n",
       "      <td>48109</td>\n",
       "      <td>서쪽하늘로 노을은 지고  \\n이젠 슬픔이 돼버린 그대를  \\n다시 부를수 없을 것 ...</td>\n",
       "      <td>426571097 405285190</td>\n",
       "    </tr>\n",
       "    <tr>\n",
       "      <th>3</th>\n",
       "      <td>35609034</td>\n",
       "      <td>슬픈등</td>\n",
       "      <td>김호중</td>\n",
       "      <td>발라드 국내영화</td>\n",
       "      <td>인생은 뷰티풀: 비타돌체</td>\n",
       "      <td>김호중</td>\n",
       "      <td>김호중</td>\n",
       "      <td>20220907</td>\n",
       "      <td>https://cdnimg.melon.co.kr/cm2/album/images/11...</td>\n",
       "      <td>145</td>\n",
       "      <td>15389</td>\n",
       "      <td>누군가를 다시 만난다면\\n여전히 나는 너를\\n누군가를 다시 사랑하면\\n영원히 나는 ...</td>\n",
       "      <td>457536944 515278519</td>\n",
       "    </tr>\n",
       "    <tr>\n",
       "      <th>4</th>\n",
       "      <td>35728845</td>\n",
       "      <td>고백 (영화 '동감' X 츄 (이달의 소녀))</td>\n",
       "      <td>츄(Chuu)</td>\n",
       "      <td>록/메탈 국내영화</td>\n",
       "      <td>고백 (영화 '동감' X 츄 (이달의 소녀))</td>\n",
       "      <td>강현민</td>\n",
       "      <td>강현민</td>\n",
       "      <td>20221016</td>\n",
       "      <td>https://cdnimg.melon.co.kr/cm2/album/images/11...</td>\n",
       "      <td>80</td>\n",
       "      <td>16902</td>\n",
       "      <td>말해야 하는데 네 앞에 서면\\n아무 말 못 하는 내가 미워져\\n용기를 내야 해 후회...</td>\n",
       "      <td>484732185 513801514</td>\n",
       "    </tr>\n",
       "  </tbody>\n",
       "</table>\n",
       "</div>"
      ],
      "text/plain": [
       "     songId                      title   artist      genre   \n",
       "0    418168                         희재      성시경   발라드 국내영화  \\\n",
       "1  35609035                    인생은 뷰티풀      김호중   발라드 국내영화   \n",
       "2   1046278                      서쪽 하늘      이승철   발라드 국내영화   \n",
       "3  35609034                        슬픈등      김호중   발라드 국내영화   \n",
       "4  35728845  고백 (영화 '동감' X 츄 (이달의 소녀))  츄(Chuu)  록/메탈 국내영화   \n",
       "\n",
       "                       album lyricist composer      date   \n",
       "0                 국화꽃 향기 OST      양재선      MGR  20030201  \\\n",
       "1              인생은 뷰티풀: 비타돌체      김호중      김호중  20220907   \n",
       "2                     청연 OST      이승철      윤명선  20051220   \n",
       "3              인생은 뷰티풀: 비타돌체      김호중      김호중  20220907   \n",
       "4  고백 (영화 '동감' X 츄 (이달의 소녀))      강현민      강현민  20221016   \n",
       "\n",
       "                                                 img  comment    like   \n",
       "0  https://cdnimg.melon.co.kr/cm/album/images/000...      332  138267  \\\n",
       "1  https://cdnimg.melon.co.kr/cm2/album/images/11...      197   17322   \n",
       "2  https://cdnimg.melon.co.kr/cm/album/images/003...       84   48109   \n",
       "3  https://cdnimg.melon.co.kr/cm2/album/images/11...      145   15389   \n",
       "4  https://cdnimg.melon.co.kr/cm2/album/images/11...       80   16902   \n",
       "\n",
       "                                               lyric            plylstSeq  \n",
       "0  햇살은 우릴 위해 내리고 \\n바람도 서롤 감싸게 했죠 \\n우리 웃음속에 계절은 오고...  445029956 411111859  \n",
       "1  하나만 알고 둘은\\n잘 모르는 사람입니다\\n하루는 비틀거리고\\n하루는 뒤뚱거리고\\n...  457536944 474137187  \n",
       "2  서쪽하늘로 노을은 지고  \\n이젠 슬픔이 돼버린 그대를  \\n다시 부를수 없을 것 ...  426571097 405285190  \n",
       "3  누군가를 다시 만난다면\\n여전히 나는 너를\\n누군가를 다시 사랑하면\\n영원히 나는 ...  457536944 515278519  \n",
       "4  말해야 하는데 네 앞에 서면\\n아무 말 못 하는 내가 미워져\\n용기를 내야 해 후회...  484732185 513801514  "
      ]
     },
     "execution_count": 37,
     "metadata": {},
     "output_type": "execute_result"
    }
   ],
   "source": [
    "df.date.fillna(0, inplace=True)\n",
    "df.date = df.date.astype(int).astype(str)\n",
    "df.songId = df.songId.astype(str)\n",
    "df.fillna('', inplace=True)\n",
    "df.head()"
   ]
  },
  {
   "cell_type": "code",
   "execution_count": 54,
   "metadata": {},
   "outputs": [],
   "source": [
    "with open('data/한글불용어.txt') as st:\n",
    "    lines = st.readlines()\n",
    "stop_words = [line.split('\\t')[0] for line in lines]\n",
    "stop_words.extend('은 는 를 도 을 며 의 에 게 니 거 로 요 과 래 랑 파 여 에게'.split())\n"
   ]
  },
  {
   "cell_type": "code",
   "execution_count": 44,
   "metadata": {},
   "outputs": [],
   "source": [
    "from konlpy.tag import Okt\n",
    "okt = Okt()"
   ]
  },
  {
   "cell_type": "code",
   "execution_count": null,
   "metadata": {},
   "outputs": [],
   "source": [
    "tmp = df[df.songId == '8067023']['lyric'].values[0].replace('\\n', ' ')\n",
    "tmp"
   ]
  },
  {
   "cell_type": "code",
   "execution_count": 4,
   "metadata": {},
   "outputs": [
    {
     "data": {
      "text/plain": [
       "'햇살은 우릴 위해 내리고 \\n바람도 서롤 감싸게 했죠 \\n우리 웃음속에 계절은 오고 \\n또 갔죠 \\n바람에 흔들리는 머릿결 \\n내게 불어오는 그대 향기 \\n예쁜 두눈도 웃음 소리도 \\n모두가 내 것이었죠\\n이런 사랑 이런 행복 쉽다 \\n했었죠 이런 웃음 \\n이런 축복 내게 쉽게 올리 없죠 \\n눈물 조차 울음조차 닦지 \\n못한 나 \\n정말로 울면 내가 그댈 보내 \\n준 것 같아서 \\n그대 떠나가는 그 순간도 \\n나를 걱정했었나요 \\n무엇도 해줄 수 없는 내 맘\\n앞에서 \\n그대 나를 떠나 간다해도 \\n난 그댈 보낸적 없죠 \\n여전히 그댄 나를 살게 하는 \\n이율테니 \\n이런 사랑 이런 행복 쉽다 했었죠 \\n이런 웃음 이런 축복 내게 \\n쉽게 올리 없죠 \\n눈물 조차 울음 조차 닦지 못한 나 \\n정말로 울면 내가 그댈 보내 \\n준 것 같아서 \\n그대 떠나가는 그 순간도 \\n나를 걱정했었나요 \\n무엇도 해줄 수 없는 내 맘앞에서 \\n그대 나를 떠나 간다해도 난 \\n그댈 보낸적 없죠 \\n기다림으로 다시 시작일테니 \\n얼마나 사랑했는지 얼마나 \\n또 울었는지 \\n그대여 한순간 조차 잊지 말아요 \\n거기 떠나간 그곳에서 날\\n기억하며 기다려요\\n하루씩 그대에게 다가가는 \\n나 일테니'"
      ]
     },
     "execution_count": 4,
     "metadata": {},
     "output_type": "execute_result"
    }
   ],
   "source": [
    "df.lyric[0]"
   ]
  },
  {
   "cell_type": "code",
   "execution_count": 55,
   "metadata": {},
   "outputs": [
    {
     "name": "stdout",
     "output_type": "stream",
     "text": [
      "CPU times: total: 2min 9s\n",
      "Wall time: 2min 6s\n"
     ]
    }
   ],
   "source": [
    "%%time\n",
    "reviews = []\n",
    "for review in df.lyric:\n",
    "    review = review.replace('\\n', ' ')\n",
    "    morphs = okt.morphs(review, stem=True)\n",
    "    tmp = [word for word in morphs  if word not in stop_words]\n",
    "    reviews.append(' '.join(tmp))\n",
    "df['morphs'] = reviews"
   ]
  },
  {
   "cell_type": "code",
   "execution_count": 56,
   "metadata": {},
   "outputs": [
    {
     "data": {
      "text/html": [
       "<div>\n",
       "<style scoped>\n",
       "    .dataframe tbody tr th:only-of-type {\n",
       "        vertical-align: middle;\n",
       "    }\n",
       "\n",
       "    .dataframe tbody tr th {\n",
       "        vertical-align: top;\n",
       "    }\n",
       "\n",
       "    .dataframe thead th {\n",
       "        text-align: right;\n",
       "    }\n",
       "</style>\n",
       "<table border=\"1\" class=\"dataframe\">\n",
       "  <thead>\n",
       "    <tr style=\"text-align: right;\">\n",
       "      <th></th>\n",
       "      <th>songId</th>\n",
       "      <th>title</th>\n",
       "      <th>artist</th>\n",
       "      <th>genre</th>\n",
       "      <th>album</th>\n",
       "      <th>lyricist</th>\n",
       "      <th>composer</th>\n",
       "      <th>date</th>\n",
       "      <th>img</th>\n",
       "      <th>comment</th>\n",
       "      <th>like</th>\n",
       "      <th>lyric</th>\n",
       "      <th>plylstSeq</th>\n",
       "      <th>morphs</th>\n",
       "    </tr>\n",
       "  </thead>\n",
       "  <tbody>\n",
       "    <tr>\n",
       "      <th>0</th>\n",
       "      <td>418168</td>\n",
       "      <td>희재</td>\n",
       "      <td>성시경</td>\n",
       "      <td>발라드 국내영화</td>\n",
       "      <td>국화꽃 향기 OST</td>\n",
       "      <td>양재선</td>\n",
       "      <td>MGR</td>\n",
       "      <td>20030201</td>\n",
       "      <td>https://cdnimg.melon.co.kr/cm/album/images/000...</td>\n",
       "      <td>332</td>\n",
       "      <td>138267</td>\n",
       "      <td>햇살은 우릴 위해 내리고 \\n바람도 서롤 감싸게 했죠 \\n우리 웃음속에 계절은 오고...</td>\n",
       "      <td>445029956 411111859</td>\n",
       "      <td>햇살 우릴 위해 내리다 바람 서 롤 감싸다 하다 우리 웃음 속 계절 오다 또 가다 ...</td>\n",
       "    </tr>\n",
       "    <tr>\n",
       "      <th>1</th>\n",
       "      <td>35609035</td>\n",
       "      <td>인생은 뷰티풀</td>\n",
       "      <td>김호중</td>\n",
       "      <td>발라드 국내영화</td>\n",
       "      <td>인생은 뷰티풀: 비타돌체</td>\n",
       "      <td>김호중</td>\n",
       "      <td>김호중</td>\n",
       "      <td>20220907</td>\n",
       "      <td>https://cdnimg.melon.co.kr/cm2/album/images/11...</td>\n",
       "      <td>197</td>\n",
       "      <td>17322</td>\n",
       "      <td>하나만 알고 둘은\\n잘 모르는 사람입니다\\n하루는 비틀거리고\\n하루는 뒤뚱거리고\\n...</td>\n",
       "      <td>457536944 474137187</td>\n",
       "      <td>하나 만 고 둘 자다 모르다 사람 이다 하루 비틀 거리 고 하루 뒤뚱거리 고 월요일...</td>\n",
       "    </tr>\n",
       "    <tr>\n",
       "      <th>2</th>\n",
       "      <td>1046278</td>\n",
       "      <td>서쪽 하늘</td>\n",
       "      <td>이승철</td>\n",
       "      <td>발라드 국내영화</td>\n",
       "      <td>청연 OST</td>\n",
       "      <td>이승철</td>\n",
       "      <td>윤명선</td>\n",
       "      <td>20051220</td>\n",
       "      <td>https://cdnimg.melon.co.kr/cm/album/images/003...</td>\n",
       "      <td>84</td>\n",
       "      <td>48109</td>\n",
       "      <td>서쪽하늘로 노을은 지고  \\n이젠 슬픔이 돼버린 그대를  \\n다시 부를수 없을 것 ...</td>\n",
       "      <td>426571097 405285190</td>\n",
       "      <td>서쪽하늘 노을 지고 젠 슬픔 돼다 버리다 그대 다시 부르다 없다 같다 또 한번 불다...</td>\n",
       "    </tr>\n",
       "    <tr>\n",
       "      <th>3</th>\n",
       "      <td>35609034</td>\n",
       "      <td>슬픈등</td>\n",
       "      <td>김호중</td>\n",
       "      <td>발라드 국내영화</td>\n",
       "      <td>인생은 뷰티풀: 비타돌체</td>\n",
       "      <td>김호중</td>\n",
       "      <td>김호중</td>\n",
       "      <td>20220907</td>\n",
       "      <td>https://cdnimg.melon.co.kr/cm2/album/images/11...</td>\n",
       "      <td>145</td>\n",
       "      <td>15389</td>\n",
       "      <td>누군가를 다시 만난다면\\n여전히 나는 너를\\n누군가를 다시 사랑하면\\n영원히 나는 ...</td>\n",
       "      <td>457536944 515278519</td>\n",
       "      <td>누군가 다시 만나다 여전하다 나 너 누군가 다시 사랑 하다 영원하다 나 너 다시 또...</td>\n",
       "    </tr>\n",
       "    <tr>\n",
       "      <th>4</th>\n",
       "      <td>35728845</td>\n",
       "      <td>고백 (영화 '동감' X 츄 (이달의 소녀))</td>\n",
       "      <td>츄(Chuu)</td>\n",
       "      <td>록/메탈 국내영화</td>\n",
       "      <td>고백 (영화 '동감' X 츄 (이달의 소녀))</td>\n",
       "      <td>강현민</td>\n",
       "      <td>강현민</td>\n",
       "      <td>20221016</td>\n",
       "      <td>https://cdnimg.melon.co.kr/cm2/album/images/11...</td>\n",
       "      <td>80</td>\n",
       "      <td>16902</td>\n",
       "      <td>말해야 하는데 네 앞에 서면\\n아무 말 못 하는 내가 미워져\\n용기를 내야 해 후회...</td>\n",
       "      <td>484732185 513801514</td>\n",
       "      <td>말 하다 하다 네 앞 서면 아무 말 못 하다 내 가 미우다 용기 내야 해 후회 하다...</td>\n",
       "    </tr>\n",
       "  </tbody>\n",
       "</table>\n",
       "</div>"
      ],
      "text/plain": [
       "     songId                      title   artist      genre   \n",
       "0    418168                         희재      성시경   발라드 국내영화  \\\n",
       "1  35609035                    인생은 뷰티풀      김호중   발라드 국내영화   \n",
       "2   1046278                      서쪽 하늘      이승철   발라드 국내영화   \n",
       "3  35609034                        슬픈등      김호중   발라드 국내영화   \n",
       "4  35728845  고백 (영화 '동감' X 츄 (이달의 소녀))  츄(Chuu)  록/메탈 국내영화   \n",
       "\n",
       "                       album lyricist composer      date   \n",
       "0                 국화꽃 향기 OST      양재선      MGR  20030201  \\\n",
       "1              인생은 뷰티풀: 비타돌체      김호중      김호중  20220907   \n",
       "2                     청연 OST      이승철      윤명선  20051220   \n",
       "3              인생은 뷰티풀: 비타돌체      김호중      김호중  20220907   \n",
       "4  고백 (영화 '동감' X 츄 (이달의 소녀))      강현민      강현민  20221016   \n",
       "\n",
       "                                                 img  comment    like   \n",
       "0  https://cdnimg.melon.co.kr/cm/album/images/000...      332  138267  \\\n",
       "1  https://cdnimg.melon.co.kr/cm2/album/images/11...      197   17322   \n",
       "2  https://cdnimg.melon.co.kr/cm/album/images/003...       84   48109   \n",
       "3  https://cdnimg.melon.co.kr/cm2/album/images/11...      145   15389   \n",
       "4  https://cdnimg.melon.co.kr/cm2/album/images/11...       80   16902   \n",
       "\n",
       "                                               lyric            plylstSeq   \n",
       "0  햇살은 우릴 위해 내리고 \\n바람도 서롤 감싸게 했죠 \\n우리 웃음속에 계절은 오고...  445029956 411111859  \\\n",
       "1  하나만 알고 둘은\\n잘 모르는 사람입니다\\n하루는 비틀거리고\\n하루는 뒤뚱거리고\\n...  457536944 474137187   \n",
       "2  서쪽하늘로 노을은 지고  \\n이젠 슬픔이 돼버린 그대를  \\n다시 부를수 없을 것 ...  426571097 405285190   \n",
       "3  누군가를 다시 만난다면\\n여전히 나는 너를\\n누군가를 다시 사랑하면\\n영원히 나는 ...  457536944 515278519   \n",
       "4  말해야 하는데 네 앞에 서면\\n아무 말 못 하는 내가 미워져\\n용기를 내야 해 후회...  484732185 513801514   \n",
       "\n",
       "                                              morphs  \n",
       "0  햇살 우릴 위해 내리다 바람 서 롤 감싸다 하다 우리 웃음 속 계절 오다 또 가다 ...  \n",
       "1  하나 만 고 둘 자다 모르다 사람 이다 하루 비틀 거리 고 하루 뒤뚱거리 고 월요일...  \n",
       "2  서쪽하늘 노을 지고 젠 슬픔 돼다 버리다 그대 다시 부르다 없다 같다 또 한번 불다...  \n",
       "3  누군가 다시 만나다 여전하다 나 너 누군가 다시 사랑 하다 영원하다 나 너 다시 또...  \n",
       "4  말 하다 하다 네 앞 서면 아무 말 못 하다 내 가 미우다 용기 내야 해 후회 하다...  "
      ]
     },
     "execution_count": 56,
     "metadata": {},
     "output_type": "execute_result"
    }
   ],
   "source": [
    "df.head(5)"
   ]
  },
  {
   "cell_type": "code",
   "execution_count": 53,
   "metadata": {},
   "outputs": [
    {
     "data": {
      "text/plain": [
       "3480    늘 똑같다 일로 싸우다 지치다 우리 끝나다 때 돼다 보다 너 답지 않다 모습 더 지...\n",
       "3481    어느 날 세상 멈추다 아무렇다 예고 도 하나 없이 봄 기다림 을 모르다 눈치 없이 ...\n",
       "3482    차다 많이 궁금하다 전부 다 궁금하다 왜 잠 오다 네 얼굴 만 보이다 나다 궁금하다...\n",
       "3483    가을 밤 찾아오다 그대 를 비추다 또 나르다 감싸다 눈 을 감 을 때 마다 향기롭다...\n",
       "3484    STAYC girls it ’ s going down Time is running ...\n",
       "3485    어쩜 살아가다 보다 하다 번은 날 찾다 모르다 난 기대 하나로 오늘 도 힘겹다 버티...\n",
       "3486    울리다 대다 사이렌 텅 빈 길거리 엔 도망치다 흘리다 칼 자루 와 피 가 흥건해 우...\n",
       "3487    가장 가깝다 바다 혼자 만의 영화관 그냥 끌리다 대로 해도 괜찮다 Every mor...\n",
       "3488    It ’ s the thought of being young When your he...\n",
       "3489    어딘가 들다 보다 듯 한 Melody 떠오르다 작다 기억 My memories 날 ...\n",
       "3490    아득하다 시간 속 에 아직 우리 사랑 남다 멀어지다 그날 의 너 를 따르다 걸다 텅...\n",
       "3491    너 를 사랑 하고 있다 너 를 사랑 하고 있다 자기야 날 사랑 해주다 되다 말 처럼...\n",
       "3492    말 하다 언젠가 이렇다 날 오다 난 널 혼자 내버리다 두다 않다 거 라고 죄다 낭떠...\n",
       "3493    무얼 믿다 걸다 부족하다 내다 나 조차 못 믿다 내다 여태 머물다 사람 무얼 보다 ...\n",
       "3494    그땐 우리 둘 다 철 없이 어리다 하다 보다 태어나다 처음 설레다 너 를 만나다 세...\n",
       "3495    끝없이 별빛 내리다 밤 기분 좋다 바람 빰 을 스치다 새벽 바다 한 곳 을 보다 아...\n",
       "3496    내 가 널 떠나다 하다 왜 떠나다 하다 알다 어떻다 아무 말 도 아무 도 줄 게 없...\n",
       "3497    나 의 눈 에 제일 먼저 그대 를 담다 가장 예쁘다 말 로 대다 미소 짓다 하다 바...\n",
       "3498    네 가 차다 궁금하다 그건 너 도 마찬가지 거 면 충분하다 쫓다 쫓다 이렇다 놀이 ...\n",
       "3499    Look at you 넌 못 감당 하다 날 Ya took off hook 기분 Co...\n",
       "Name: morphs, dtype: object"
      ]
     },
     "execution_count": 53,
     "metadata": {},
     "output_type": "execute_result"
    }
   ],
   "source": [
    "df.morphs.head(3500).tail(20)"
   ]
  },
  {
   "cell_type": "code",
   "execution_count": 5,
   "metadata": {},
   "outputs": [
    {
     "data": {
      "text/plain": [
       "(6247, 6247, 5638)"
      ]
     },
     "execution_count": 5,
     "metadata": {},
     "output_type": "execute_result"
    }
   ],
   "source": [
    "df.shape[0], df.songId.nunique(), df.title.nunique()"
   ]
  },
  {
   "cell_type": "code",
   "execution_count": 70,
   "metadata": {},
   "outputs": [
    {
     "data": {
      "text/plain": [
       "'햇살 우릴 위해 내리다 바람 서 롤 감싸다 하다 우리 웃음 속 계절 오다 또 가다 바람 흔들리다 머릿결 내다 불어오다 그대 향기 예쁘다 눈 웃음 소리 모두 가 내 이다 이렇다 사랑 이렇다 행복 쉬다 하다 이렇다 웃음 이렇다 축복 내다 쉬다 올리다 없다 눈물 조차 울음 조차 닦다 못 한 나 정말로 울면 내 가 대다 보내다 준 같다 그대 떠나가다 순간 나르다 걱정 하다 무엇 해주다 없다 내 맘 앞 에서 그대 나르다 떠나다 간다 하다 난 대다 보내다 적 없다 여전하다 대다 나르다 살 하다 이율 테 이렇다 사랑 이렇다 행복 쉬다 하다 이렇다 웃음 이렇다 축복 내다 쉬다 올리다 없다 눈물 조차 울음 조차 닦다 못 한 나 정말로 울면 내 가 대다 보내다 준 같다 그대 떠나가다 순간 나르다 걱정 하다 무엇 해주다 없다 내 맘앞 에서 그대 나르다 떠나다 간다 하다 난 대다 보내다 적 없다 기다림 으로 다시 시 작 일 테 얼마나 사랑 하다 얼마나 또 울다 그대 여 한순간 조차 잊다 말다 거기 떠나가다 곳 에서 날 기억 하다 기다리다 하루 씩 그대 에게 다가가다 나 이다 희재 성시경 성시경 MGR MGR 양재선 양재선 발라드 국내영화 발라드 국내영화 발라드 국내영화'"
      ]
     },
     "execution_count": 70,
     "metadata": {},
     "output_type": "execute_result"
    }
   ],
   "source": [
    "df['total'] = df.morphs + (' ' + df.title) + (' ' + df.artist) * 2 + (' ' + df.composer) * 2 + (' ' + df.lyricist) * 2 + (' ' + df.genre) * 3\n",
    "df.total[0]"
   ]
  },
  {
   "cell_type": "code",
   "execution_count": 71,
   "metadata": {},
   "outputs": [],
   "source": [
    "df.set_index('songId', inplace=True)\n",
    "df.reset_index(inplace=True)"
   ]
  },
  {
   "cell_type": "code",
   "execution_count": 72,
   "metadata": {},
   "outputs": [
    {
     "data": {
      "text/plain": [
       "(6247, 29708)"
      ]
     },
     "execution_count": 72,
     "metadata": {},
     "output_type": "execute_result"
    }
   ],
   "source": [
    "from sklearn.feature_extraction.text import TfidfVectorizer\n",
    "tvect = TfidfVectorizer(stop_words='english')\n",
    "total_tv = tvect.fit_transform(df.total)\n",
    "total_tv.shape"
   ]
  },
  {
   "cell_type": "code",
   "execution_count": 73,
   "metadata": {},
   "outputs": [],
   "source": [
    "indices = pd.Series(df.index, index=df.songId)"
   ]
  },
  {
   "cell_type": "code",
   "execution_count": 74,
   "metadata": {},
   "outputs": [
    {
     "data": {
      "text/plain": [
       "songId\n",
       "418168         0\n",
       "35609035       1\n",
       "1046278        2\n",
       "35609034       3\n",
       "35728845       4\n",
       "            ... \n",
       "33013736    6242\n",
       "3080890     6243\n",
       "2981597     6244\n",
       "34183979    6245\n",
       "31191637    6246\n",
       "Length: 6247, dtype: int64"
      ]
     },
     "execution_count": 74,
     "metadata": {},
     "output_type": "execute_result"
    }
   ],
   "source": [
    "indices"
   ]
  },
  {
   "cell_type": "code",
   "execution_count": 75,
   "metadata": {},
   "outputs": [],
   "source": [
    "from sklearn.metrics.pairwise import cosine_similarity\n",
    "cosine_sim = cosine_similarity(total_tv)"
   ]
  },
  {
   "cell_type": "code",
   "execution_count": 76,
   "metadata": {},
   "outputs": [],
   "source": [
    "def get_recommendation(title, cos_sim):\n",
    "    index = indices[title]\n",
    "    sim_scores = pd.Series(cos_sim[index])\n",
    "    song_indices = sim_scores.sort_values(ascending=False).head(11).tail(10).index\n",
    "    return df.songId.iloc[song_indices], df.title.iloc[song_indices], df.artist.iloc[song_indices]"
   ]
  },
  {
   "cell_type": "code",
   "execution_count": 77,
   "metadata": {},
   "outputs": [
    {
     "data": {
      "text/plain": [
       "(55        418200\n",
       " 465     31383915\n",
       " 2656      104584\n",
       " 2626        8290\n",
       " 228       532449\n",
       " 2605        8302\n",
       " 2871     1538203\n",
       " 308      2070560\n",
       " 2699      422606\n",
       " 144      1124448\n",
       " Name: songId, dtype: object,\n",
       " 55       희재 (Edit Version)\n",
       " 465                     희재\n",
       " 2656               그리고 사랑해\n",
       " 2626                  처음처럼\n",
       " 228                    모르죠\n",
       " 2605               내게 오는 길\n",
       " 2871                    안녕\n",
       " 308                  듣고있나요\n",
       " 2699    백설공주를 사랑한 일곱번째 난장이\n",
       " 144                    선인장\n",
       " Name: title, dtype: object,\n",
       " 55           성시경\n",
       " 465          임한별\n",
       " 2656         이수영\n",
       " 2626         성시경\n",
       " 228          조영수\n",
       " 2605         성시경\n",
       " 2871         KCM\n",
       " 308          이승철\n",
       " 2699    쿨 (COOL)\n",
       " 144          성시경\n",
       " Name: artist, dtype: object)"
      ]
     },
     "execution_count": 77,
     "metadata": {},
     "output_type": "execute_result"
    }
   ],
   "source": [
    "get_recommendation('418168', cosine_sim)"
   ]
  },
  {
   "attachments": {},
   "cell_type": "markdown",
   "metadata": {},
   "source": [
    "##### 한 문장 테스트"
   ]
  },
  {
   "cell_type": "code",
   "execution_count": 34,
   "metadata": {},
   "outputs": [
    {
     "data": {
      "text/plain": [
       "'OH EVERY TIME I SEE YOU 그대 눈을 볼 때면 자꾸 가슴이 또 설레여와 내 운명이죠 세상 끝이라도 지켜주고 싶은 단 한 사람 BABY OHOHOHOH OHOHOHOH BABY OHOHOHOH OH EVERY TIME I SEE YOU 그대 눈을 볼 때면 자꾸 가슴이 또 설레여와 내 운명이죠 세상 끝이라도 지켜주고 싶은 단 한 사람 그대 나를 바라볼 때 나를 보며 미소 질 때 난 심장이 멈출 것 같아요 난 그댄 어떤가요 난 정말 감당하기 힘든걸 온종일 그대 생각해 조금 멀리 우리 돌아왔지만 지금이라도 난 괜찮아 OH EVERY TIME I SEE YOU 그대 눈을 볼 때면 자꾸 가슴이 또 설레여와 내 운명이죠 세상 끝이라도 지켜주고 싶은 단 한 사람 날 떠나지 말아요 가끔은 알 수 없는 미래라 해도 날 믿고 기다려줄래요 워 나만의 그대여 내겐 전부라는 말 고백한 적이 있었나요 내 운명이죠 세상 끝이라도 지켜주고 싶은 너 BABY OHOHOHOH 사랑할래요 OHOHOHOH 니 눈빛과 니 미소와 그 향기까지도 BABY OHOHOHOH 기억해줘요 OHOHOHOH 언제나 우리 함께 있음을 i love u'"
      ]
     },
     "execution_count": 34,
     "metadata": {},
     "output_type": "execute_result"
    }
   ],
   "source": [
    "tmp = df[df.songId == '8067023']['lyric'].values[0].replace('\\n', ' ')\n",
    "tmp"
   ]
  },
  {
   "cell_type": "code",
   "execution_count": 35,
   "metadata": {},
   "outputs": [
    {
     "data": {
      "text/plain": [
       "['OH',\n",
       " 'EVERY',\n",
       " 'TIME',\n",
       " 'I',\n",
       " 'SEE',\n",
       " 'YOU',\n",
       " '그대',\n",
       " '눈',\n",
       " '을',\n",
       " '볼',\n",
       " '때',\n",
       " '면',\n",
       " '자꾸',\n",
       " '가슴',\n",
       " '이',\n",
       " '또',\n",
       " '설레다',\n",
       " '여',\n",
       " '와',\n",
       " '내',\n",
       " '운명',\n",
       " '이',\n",
       " '죠',\n",
       " '세상',\n",
       " '끝',\n",
       " '이라도',\n",
       " '지키다',\n",
       " '싶다',\n",
       " '단',\n",
       " '하다',\n",
       " '사람',\n",
       " 'BABY',\n",
       " 'OHOHOHOH',\n",
       " 'OHOHOHOH',\n",
       " 'BABY',\n",
       " 'OHOHOHOH',\n",
       " 'OH',\n",
       " 'EVERY',\n",
       " 'TIME',\n",
       " 'I',\n",
       " 'SEE',\n",
       " 'YOU',\n",
       " '그대',\n",
       " '눈',\n",
       " '을',\n",
       " '볼',\n",
       " '때',\n",
       " '면',\n",
       " '자꾸',\n",
       " '가슴',\n",
       " '이',\n",
       " '또',\n",
       " '설레다',\n",
       " '여',\n",
       " '와',\n",
       " '내',\n",
       " '운명',\n",
       " '이',\n",
       " '죠',\n",
       " '세상',\n",
       " '끝',\n",
       " '이라도',\n",
       " '지키다',\n",
       " '싶다',\n",
       " '단',\n",
       " '하다',\n",
       " '사람',\n",
       " '그대',\n",
       " '나르다',\n",
       " '바라보다',\n",
       " '때',\n",
       " '나르다',\n",
       " '보다',\n",
       " '미소',\n",
       " '질',\n",
       " '때',\n",
       " '난',\n",
       " '심장',\n",
       " '이',\n",
       " '멈추다',\n",
       " '것',\n",
       " '같다',\n",
       " '난',\n",
       " '그',\n",
       " '대다',\n",
       " '어떤',\n",
       " '가요',\n",
       " '난',\n",
       " '정말',\n",
       " '감당',\n",
       " '하다',\n",
       " '힘드다',\n",
       " '걸',\n",
       " '온종일',\n",
       " '그대',\n",
       " '생각',\n",
       " '하다',\n",
       " '조금',\n",
       " '멀리',\n",
       " '우리',\n",
       " '돌아오다',\n",
       " '지금',\n",
       " '이라도',\n",
       " '난',\n",
       " '괜찮다',\n",
       " 'OH',\n",
       " 'EVERY',\n",
       " 'TIME',\n",
       " 'I',\n",
       " 'SEE',\n",
       " 'YOU',\n",
       " '그대',\n",
       " '눈',\n",
       " '을',\n",
       " '볼',\n",
       " '때',\n",
       " '면',\n",
       " '자꾸',\n",
       " '가슴',\n",
       " '이',\n",
       " '또',\n",
       " '설레다',\n",
       " '여',\n",
       " '와',\n",
       " '내',\n",
       " '운명',\n",
       " '이',\n",
       " '죠',\n",
       " '세상',\n",
       " '끝',\n",
       " '이라도',\n",
       " '지키다',\n",
       " '싶다',\n",
       " '단',\n",
       " '하다',\n",
       " '사람',\n",
       " '날',\n",
       " '떠나다',\n",
       " '말다',\n",
       " '가끔',\n",
       " '은',\n",
       " '알',\n",
       " '수',\n",
       " '없다',\n",
       " '미래',\n",
       " '라',\n",
       " '해도',\n",
       " '날',\n",
       " '믿다',\n",
       " '기다리다',\n",
       " '워',\n",
       " '나',\n",
       " '만의',\n",
       " '그대',\n",
       " '여',\n",
       " '내겐',\n",
       " '전부',\n",
       " '라는',\n",
       " '말',\n",
       " '고백',\n",
       " '한',\n",
       " '적',\n",
       " '이',\n",
       " '있다',\n",
       " '내',\n",
       " '운명',\n",
       " '이',\n",
       " '죠',\n",
       " '세상',\n",
       " '끝',\n",
       " '이라도',\n",
       " '지키다',\n",
       " '싶다',\n",
       " '너',\n",
       " 'BABY',\n",
       " 'OHOHOHOH',\n",
       " '사랑',\n",
       " '하다',\n",
       " 'OHOHOHOH',\n",
       " '니',\n",
       " '눈빛',\n",
       " '과',\n",
       " '니',\n",
       " '미소',\n",
       " '와',\n",
       " '그',\n",
       " '향기',\n",
       " '까지도',\n",
       " 'BABY',\n",
       " 'OHOHOHOH',\n",
       " '기억',\n",
       " '해주다',\n",
       " 'OHOHOHOH',\n",
       " '언제나',\n",
       " '우리',\n",
       " '함께',\n",
       " '있다',\n",
       " '음',\n",
       " '을',\n",
       " 'i',\n",
       " 'love',\n",
       " 'u']"
      ]
     },
     "execution_count": 35,
     "metadata": {},
     "output_type": "execute_result"
    }
   ],
   "source": [
    "lyric = okt.morphs(tmp, stem=True)\n",
    "lyric"
   ]
  }
 ],
 "metadata": {
  "kernelspec": {
   "display_name": "base",
   "language": "python",
   "name": "python3"
  },
  "language_info": {
   "codemirror_mode": {
    "name": "ipython",
    "version": 3
   },
   "file_extension": ".py",
   "mimetype": "text/x-python",
   "name": "python",
   "nbconvert_exporter": "python",
   "pygments_lexer": "ipython3",
   "version": "3.10.10"
  },
  "orig_nbformat": 4
 },
 "nbformat": 4,
 "nbformat_minor": 2
}
