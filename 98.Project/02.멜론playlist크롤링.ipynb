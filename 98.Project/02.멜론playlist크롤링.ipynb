{
 "cells": [
  {
   "cell_type": "code",
   "execution_count": 4,
   "metadata": {},
   "outputs": [],
   "source": [
    "import numpy as np\n",
    "import pandas as pd\n",
    "import matplotlib.pyplot as plt\n",
    "\n",
    "import requests\n",
    "from bs4 import BeautifulSoup\n",
    "from selenium import webdriver\n",
    "\n",
    "from selenium.webdriver.common.keys import Keys\n",
    "from selenium.webdriver.common.by import By\n",
    "import time\n",
    "from tqdm import tqdm\n",
    "\n",
    "import warnings\n",
    "warnings.filterwarnings('ignore')\n"
   ]
  },
  {
   "attachments": {},
   "cell_type": "markdown",
   "metadata": {},
   "source": [
    "### 멜론 인기 테마 / 인기 장르 \n",
    "- 메인 Tag URL : https://www.melon.com/dj/tag/djtaghub_list.htm?tagSeq=43#params%5BtagSeq%5D=43&params%5BorderBy%5D=POP&po=pageObj&startIndex=1\n",
    "- PlayListURL : https://www.melon.com/mymusic/dj/mymusicdjplaylistview_inform.htm?plylstSeq=리스트ID\n"
   ]
  },
  {
   "attachments": {},
   "cell_type": "markdown",
   "metadata": {},
   "source": [
    "##### 1. 인기테마/장르 별로 플레이리스트 ID가 저장된 파일을 불러온다."
   ]
  },
  {
   "cell_type": "code",
   "execution_count": 22,
   "metadata": {},
   "outputs": [
    {
     "name": "stdout",
     "output_type": "stream",
     "text": [
      "(44, 2)\n"
     ]
    },
    {
     "data": {
      "text/html": [
       "<div>\n",
       "<style scoped>\n",
       "    .dataframe tbody tr th:only-of-type {\n",
       "        vertical-align: middle;\n",
       "    }\n",
       "\n",
       "    .dataframe tbody tr th {\n",
       "        vertical-align: top;\n",
       "    }\n",
       "\n",
       "    .dataframe thead th {\n",
       "        text-align: right;\n",
       "    }\n",
       "</style>\n",
       "<table border=\"1\" class=\"dataframe\">\n",
       "  <thead>\n",
       "    <tr style=\"text-align: right;\">\n",
       "      <th></th>\n",
       "      <th>tag_name</th>\n",
       "      <th>id</th>\n",
       "    </tr>\n",
       "  </thead>\n",
       "  <tbody>\n",
       "    <tr>\n",
       "      <th>0</th>\n",
       "      <td>가을</td>\n",
       "      <td>2</td>\n",
       "    </tr>\n",
       "    <tr>\n",
       "      <th>1</th>\n",
       "      <td>기분전환</td>\n",
       "      <td>3</td>\n",
       "    </tr>\n",
       "    <tr>\n",
       "      <th>2</th>\n",
       "      <td>휴식</td>\n",
       "      <td>4</td>\n",
       "    </tr>\n",
       "    <tr>\n",
       "      <th>3</th>\n",
       "      <td>힐링</td>\n",
       "      <td>5</td>\n",
       "    </tr>\n",
       "    <tr>\n",
       "      <th>4</th>\n",
       "      <td>사랑</td>\n",
       "      <td>6</td>\n",
       "    </tr>\n",
       "  </tbody>\n",
       "</table>\n",
       "</div>"
      ],
      "text/plain": [
       "  tag_name  id\n",
       "0       가을   2\n",
       "1     기분전환   3\n",
       "2       휴식   4\n",
       "3       힐링   5\n",
       "4       사랑   6"
      ]
     },
     "execution_count": 22,
     "metadata": {},
     "output_type": "execute_result"
    }
   ],
   "source": [
    "df = pd.read_csv('data/멜론테그번호.CSV', encoding='euc-kr')\n",
    "print(df.shape)\n",
    "df.head()"
   ]
  },
  {
   "attachments": {},
   "cell_type": "markdown",
   "metadata": {},
   "source": [
    "##### 2. 해당 ID별로 리스트 목록을 가지고 와서 각각(2페이지) 50개 내의 노래 리스트만 가지고온다."
   ]
  },
  {
   "cell_type": "code",
   "execution_count": 12,
   "metadata": {},
   "outputs": [],
   "source": [
    "tag_list = df.id.values\n",
    "# 메인 tag URL\n",
    "tag_url1 = 'https://www.melon.com/dj/tag/djtaghub_list.htm?tagSeq='\n",
    "tag_url2 = '#params%5BtagSeq%5D='\n",
    "tag_url3 = '&params%5BorderBy%5D=POP&po=pageObj&startIndex='\n",
    "# PlayList URL\n",
    "playlist_url = 'https://www.melon.com/mymusic/dj/mymusicdjplaylistview_inform.htm?plylstSeq='\n",
    "\n",
    "header = {'User-Agent': 'Mozilla/5.0 (Windows NT 10.0; Win64; x64) AppleWebKit/537.36 (KHTML, like Gecko) Chrome/112.0.0.0 Safari/537.36'}\n",
    "# driver = webdriver.Chrome('C:/Users/yonsai/Downloads/chromedriver_win32/chromedriver.exe')\n",
    "driver = webdriver.Chrome('C:/Users/sujung/Downloads/chromedriver_win32/chromedriver.exe')\n"
   ]
  },
  {
   "cell_type": "code",
   "execution_count": 19,
   "metadata": {},
   "outputs": [
    {
     "name": "stderr",
     "output_type": "stream",
     "text": [
      "100%|██████████| 20/20 [01:00<00:00,  3.03s/it]"
     ]
    },
    {
     "name": "stdout",
     "output_type": "stream",
     "text": [
      "(20, 5) (985, 5)\n"
     ]
    },
    {
     "name": "stderr",
     "output_type": "stream",
     "text": [
      "\n"
     ]
    }
   ],
   "source": [
    "plist1, plist2 = [], []\n",
    "\n",
    "for i in tqdm(tag_list):\n",
    "\n",
    "    # 1, 2 페이지의 내용만\n",
    "    for k in range(1, 22, 20):\n",
    "\n",
    "        driver.get(f'{tag_url1}{i}{tag_url2}{i}{tag_url3}{k}')\n",
    "        time.sleep(1)\n",
    "\n",
    "        soup = BeautifulSoup(driver.page_source, 'html.parser')\n",
    "        lis = soup.select('.service_list_play.d_djcol_list > ul > li > div > a')\n",
    "        \n",
    "        plist = [li['href'].split(',')[-1][1:-3] for li in lis]\n",
    "\n",
    "        for pli in plist:\n",
    "\n",
    "            driver.get(playlist_url + pli)\n",
    "            time.sleep(1)\n",
    "\n",
    "            soup = BeautifulSoup(driver.page_source, 'html.parser')\n",
    "\n",
    "            # plist1에 들어갈 요소들\n",
    "            title = soup.select_one('.ellipsis.song_name').text.strip()\n",
    "            tag = soup.select_one('.tag_list.type03').text.replace('\\n', ' ')\n",
    "            like = int(soup.select_one('.cnt').text.split()[-1].replace(',', '').strip())\n",
    "            \n",
    "            trs = soup.select('.service_list_song.d_song_list > table > tbody > tr' )\n",
    "            song_ids = []\n",
    "            # plist2에 들어갈 요소들\n",
    "            for tr in trs:\n",
    "                \n",
    "                if tr.select_one('.bullet_icons.age_19') :  # 19금 제외\n",
    "                    continue\n",
    "\n",
    "                img = tr.select_one('img')['src']\n",
    "\n",
    "                tmp = tr.select_one('.rank01 > span > a')\n",
    "                s_id = tmp['href'].split(',')[-1][:-2]\n",
    "                song_ids.append(s_id)\n",
    "\n",
    "                s_title = tmp.text.strip()\n",
    "                s_artist = tr.select_one('.rank02 > span').text\n",
    "\n",
    "                plist2.append({'plylstSeq': pli, 'songId': s_id, 'title': s_title, 'artist': s_artist, 'img': img})\n",
    "            \n",
    "            plist1.append({'plylstSeq': pli, 'title': title, 'tag': tag, 'like':like, 'songIds': ' '.join(song_ids)})\n",
    "\n",
    "\n",
    "df1 = pd.DataFrame(plist1)\n",
    "df2 = pd.DataFrame(plist2)\n",
    "\n",
    "print(df1.shape, df2.shape)\n",
    "\n",
    "df1.to_csv('data/playlist1.csv', index=False)\n",
    "df2.to_csv('data/playlist2.csv', index=False)\n",
    "\n",
    "driver.close()\n"
   ]
  },
  {
   "cell_type": "code",
   "execution_count": 90,
   "metadata": {},
   "outputs": [
    {
     "data": {
      "text/plain": [
       "(33922, 13806)"
      ]
     },
     "execution_count": 90,
     "metadata": {},
     "output_type": "execute_result"
    }
   ],
   "source": [
    "df2.shape[0], df2.songId.nunique()"
   ]
  },
  {
   "cell_type": "code",
   "execution_count": 25,
   "metadata": {},
   "outputs": [
    {
     "data": {
      "text/html": [
       "<div>\n",
       "<style scoped>\n",
       "    .dataframe tbody tr th:only-of-type {\n",
       "        vertical-align: middle;\n",
       "    }\n",
       "\n",
       "    .dataframe tbody tr th {\n",
       "        vertical-align: top;\n",
       "    }\n",
       "\n",
       "    .dataframe thead th {\n",
       "        text-align: right;\n",
       "    }\n",
       "</style>\n",
       "<table border=\"1\" class=\"dataframe\">\n",
       "  <thead>\n",
       "    <tr style=\"text-align: right;\">\n",
       "      <th></th>\n",
       "      <th>plylstSeq</th>\n",
       "      <th>title</th>\n",
       "      <th>tag</th>\n",
       "      <th>like</th>\n",
       "      <th>songIds</th>\n",
       "    </tr>\n",
       "  </thead>\n",
       "  <tbody>\n",
       "    <tr>\n",
       "      <th>0</th>\n",
       "      <td>436119495</td>\n",
       "      <td>밤 거리를 걸으며 듣기 좋은 노래:)</td>\n",
       "      <td>#이별하고#추억#위로#잔잔한#새벽#인디#발라드#감성#기분_전환#산책해요</td>\n",
       "      <td>10860</td>\n",
       "      <td>36243156 34547880 35963069 35869352 35869172 3...</td>\n",
       "    </tr>\n",
       "    <tr>\n",
       "      <th>1</th>\n",
       "      <td>523770321</td>\n",
       "      <td>[2011-2014] 그때 그 시절, 추억이 새록새록 떠오르는 노래 모음</td>\n",
       "      <td>#추억#기분전환#2010년대#드라이브#산책#힐링#감성#휴식#회상#그리움</td>\n",
       "      <td>1257</td>\n",
       "      <td>4192787 3170749 4300699 4129672 3890826 468114...</td>\n",
       "    </tr>\n",
       "    <tr>\n",
       "      <th>2</th>\n",
       "      <td>507012761</td>\n",
       "      <td>미소짓게 만드는 산뜻하고 기분좋은 미디엄템포 노래 (상시 업데이트)</td>\n",
       "      <td>#봄#카페#인디#봄바람#매력적인#커피#사랑#미디엄템포#기분전환#기분좋아지는</td>\n",
       "      <td>5722</td>\n",
       "      <td>35802587 35333036 36206259 36266618 4295943 36...</td>\n",
       "    </tr>\n",
       "    <tr>\n",
       "      <th>3</th>\n",
       "      <td>520432487</td>\n",
       "      <td>몸이 먼저 반응하는 90년대 2000년대 메가 히트 댄스곡</td>\n",
       "      <td>#댄스#추억#신나는#기분전환#회상#1990년대#2000년대#드라이브#명곡#노래방</td>\n",
       "      <td>1386</td>\n",
       "      <td>71606 78184 27654 66964 191093 85258 83190 104...</td>\n",
       "    </tr>\n",
       "    <tr>\n",
       "      <th>4</th>\n",
       "      <td>522919220</td>\n",
       "      <td>언제 들어도 좋은 2010년대 발라드 히트곡</td>\n",
       "      <td>#발라드#감성#사랑#잔잔한#기분전환#일상#힐링#휴식#2010년대</td>\n",
       "      <td>1244</td>\n",
       "      <td>4142913 30177818 32224383 8102386 3820647 3701...</td>\n",
       "    </tr>\n",
       "  </tbody>\n",
       "</table>\n",
       "</div>"
      ],
      "text/plain": [
       "   plylstSeq                                     title  \\\n",
       "0  436119495                      밤 거리를 걸으며 듣기 좋은 노래:)   \n",
       "1  523770321  [2011-2014] 그때 그 시절, 추억이 새록새록 떠오르는 노래 모음   \n",
       "2  507012761     미소짓게 만드는 산뜻하고 기분좋은 미디엄템포 노래 (상시 업데이트)   \n",
       "3  520432487          몸이 먼저 반응하는 90년대 2000년대 메가 히트 댄스곡   \n",
       "4  522919220                  언제 들어도 좋은 2010년대 발라드 히트곡   \n",
       "\n",
       "                                            tag   like  \\\n",
       "0       #이별하고#추억#위로#잔잔한#새벽#인디#발라드#감성#기분_전환#산책해요  10860   \n",
       "1       #추억#기분전환#2010년대#드라이브#산책#힐링#감성#휴식#회상#그리움   1257   \n",
       "2     #봄#카페#인디#봄바람#매력적인#커피#사랑#미디엄템포#기분전환#기분좋아지는   5722   \n",
       "3  #댄스#추억#신나는#기분전환#회상#1990년대#2000년대#드라이브#명곡#노래방   1386   \n",
       "4           #발라드#감성#사랑#잔잔한#기분전환#일상#힐링#휴식#2010년대   1244   \n",
       "\n",
       "                                             songIds  \n",
       "0  36243156 34547880 35963069 35869352 35869172 3...  \n",
       "1  4192787 3170749 4300699 4129672 3890826 468114...  \n",
       "2  35802587 35333036 36206259 36266618 4295943 36...  \n",
       "3  71606 78184 27654 66964 191093 85258 83190 104...  \n",
       "4  4142913 30177818 32224383 8102386 3820647 3701...  "
      ]
     },
     "execution_count": 25,
     "metadata": {},
     "output_type": "execute_result"
    }
   ],
   "source": [
    "df1.head()"
   ]
  },
  {
   "cell_type": "code",
   "execution_count": 26,
   "metadata": {},
   "outputs": [
    {
     "data": {
      "text/html": [
       "<div>\n",
       "<style scoped>\n",
       "    .dataframe tbody tr th:only-of-type {\n",
       "        vertical-align: middle;\n",
       "    }\n",
       "\n",
       "    .dataframe tbody tr th {\n",
       "        vertical-align: top;\n",
       "    }\n",
       "\n",
       "    .dataframe thead th {\n",
       "        text-align: right;\n",
       "    }\n",
       "</style>\n",
       "<table border=\"1\" class=\"dataframe\">\n",
       "  <thead>\n",
       "    <tr style=\"text-align: right;\">\n",
       "      <th></th>\n",
       "      <th>plylstSeq</th>\n",
       "      <th>songId</th>\n",
       "      <th>title</th>\n",
       "      <th>artist</th>\n",
       "      <th>img</th>\n",
       "    </tr>\n",
       "  </thead>\n",
       "  <tbody>\n",
       "    <tr>\n",
       "      <th>0</th>\n",
       "      <td>436119495</td>\n",
       "      <td>36243156</td>\n",
       "      <td>고맙소</td>\n",
       "      <td>한올</td>\n",
       "      <td>https://cdnimg.melon.co.kr/cm2/album/images/11...</td>\n",
       "    </tr>\n",
       "    <tr>\n",
       "      <th>1</th>\n",
       "      <td>436119495</td>\n",
       "      <td>34547880</td>\n",
       "      <td>편지</td>\n",
       "      <td>n@di (나디)</td>\n",
       "      <td>https://cdnimg.melon.co.kr/cm2/album/images/10...</td>\n",
       "    </tr>\n",
       "    <tr>\n",
       "      <th>2</th>\n",
       "      <td>436119495</td>\n",
       "      <td>35963069</td>\n",
       "      <td>나의 모든 이들에게,</td>\n",
       "      <td>Mingginyu (밍기뉴)</td>\n",
       "      <td>https://cdnimg.melon.co.kr/cm2/album/images/11...</td>\n",
       "    </tr>\n",
       "    <tr>\n",
       "      <th>3</th>\n",
       "      <td>436119495</td>\n",
       "      <td>35869352</td>\n",
       "      <td>사랑이 사랑인줄 몰랐으니까</td>\n",
       "      <td>한올</td>\n",
       "      <td>https://cdnimg.melon.co.kr/cm2/album/images/11...</td>\n",
       "    </tr>\n",
       "    <tr>\n",
       "      <th>4</th>\n",
       "      <td>436119495</td>\n",
       "      <td>35869172</td>\n",
       "      <td>널 바래다주던 길</td>\n",
       "      <td>마인드유</td>\n",
       "      <td>https://cdnimg.melon.co.kr/cm2/album/images/11...</td>\n",
       "    </tr>\n",
       "  </tbody>\n",
       "</table>\n",
       "</div>"
      ],
      "text/plain": [
       "   plylstSeq    songId           title           artist  \\\n",
       "0  436119495  36243156             고맙소               한올   \n",
       "1  436119495  34547880              편지        n@di (나디)   \n",
       "2  436119495  35963069     나의 모든 이들에게,  Mingginyu (밍기뉴)   \n",
       "3  436119495  35869352  사랑이 사랑인줄 몰랐으니까               한올   \n",
       "4  436119495  35869172       널 바래다주던 길             마인드유   \n",
       "\n",
       "                                                 img  \n",
       "0  https://cdnimg.melon.co.kr/cm2/album/images/11...  \n",
       "1  https://cdnimg.melon.co.kr/cm2/album/images/10...  \n",
       "2  https://cdnimg.melon.co.kr/cm2/album/images/11...  \n",
       "3  https://cdnimg.melon.co.kr/cm2/album/images/11...  \n",
       "4  https://cdnimg.melon.co.kr/cm2/album/images/11...  "
      ]
     },
     "execution_count": 26,
     "metadata": {},
     "output_type": "execute_result"
    }
   ],
   "source": [
    "df2.head()"
   ]
  },
  {
   "attachments": {},
   "cell_type": "markdown",
   "metadata": {},
   "source": [
    "##### 3. PlaylistID를 알 때 크롤링"
   ]
  },
  {
   "cell_type": "code",
   "execution_count": 1,
   "metadata": {},
   "outputs": [],
   "source": [
    "# 두 파일에서 PlayListID를 알아온다.\n",
    "ply_list = '100123440 482975847'.split()"
   ]
  },
  {
   "cell_type": "code",
   "execution_count": null,
   "metadata": {},
   "outputs": [],
   "source": [
    "plist1, plist2 = [], []\n",
    "\n",
    "for ply in ply_list:\n",
    "    \n",
    "    driver.get(playlist_url + ply)\n",
    "    time.sleep(1)\n",
    "\n",
    "    soup = BeautifulSoup(driver.page_source, 'html.parser')\n",
    "\n",
    "    # plist1에 들어갈 요소들\n",
    "    title = soup.select_one('.ellipsis.song_name').text.strip()\n",
    "    tag = soup.select_one('.tag_list.type03').text.replace('\\n', ' ')\n",
    "    like = int(soup.select_one('.cnt').text.split()[-1].replace(',', '').strip())\n",
    "    \n",
    "    trs = soup.select('.service_list_song.d_song_list > table > tbody > tr' )\n",
    "    song_ids = []\n",
    "    # plist2에 들어갈 요소들\n",
    "    for tr in trs:\n",
    "        \n",
    "        if tr.select_one('.bullet_icons.age_19') :  # 19금 제외\n",
    "            continue\n",
    "\n",
    "        img = tr.select_one('img')['src']\n",
    "\n",
    "        tmp = tr.select_one('.rank01 > span > a')\n",
    "        s_id = tmp['href'].split(',')[-1][:-2]\n",
    "        song_ids.append(s_id)\n",
    "\n",
    "        s_title = tmp.text.strip()\n",
    "        s_artist = tr.select_one('.rank02 > span').text\n",
    "\n",
    "        plist2.append({'plylstSeq': pli, 'songId': s_id, 'title': s_title, 'artist': s_artist, 'img': img})\n",
    "    \n",
    "    plist1.append({'plylstSeq': pli, 'title': title, 'tag': tag, 'like':like, 'songIds': ' '.join(song_ids)})"
   ]
  }
 ],
 "metadata": {
  "kernelspec": {
   "display_name": "base",
   "language": "python",
   "name": "python3"
  },
  "language_info": {
   "codemirror_mode": {
    "name": "ipython",
    "version": 3
   },
   "file_extension": ".py",
   "mimetype": "text/x-python",
   "name": "python",
   "nbconvert_exporter": "python",
   "pygments_lexer": "ipython3",
   "version": "3.9.13"
  },
  "orig_nbformat": 4
 },
 "nbformat": 4,
 "nbformat_minor": 2
}
