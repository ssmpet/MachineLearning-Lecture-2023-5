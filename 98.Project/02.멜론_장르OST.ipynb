{
 "cells": [
  {
   "cell_type": "code",
   "execution_count": 1,
   "metadata": {},
   "outputs": [],
   "source": [
    "import numpy as np\n",
    "import pandas as pd\n",
    "\n",
    "import requests\n",
    "from bs4 import BeautifulSoup\n",
    "from selenium import webdriver\n",
    "\n",
    "import time\n",
    "from tqdm import tqdm\n",
    "\n",
    "import warnings\n",
    "warnings.filterwarnings('ignore')"
   ]
  },
  {
   "attachments": {},
   "cell_type": "markdown",
   "metadata": {},
   "source": [
    "### 멜론  장르(OST, 국내영화, 국내드라마, 국내뮤지컬)"
   ]
  },
  {
   "cell_type": "code",
   "execution_count": 3,
   "metadata": {},
   "outputs": [],
   "source": [
    "driver = webdriver.Chrome('C:/Users/yonsai/Downloads/chromedriver_win32/chromedriver.exe')"
   ]
  },
  {
   "attachments": {},
   "cell_type": "markdown",
   "metadata": {},
   "source": [
    "### 1. songId 만 가져와 파일로 저장하기"
   ]
  },
  {
   "cell_type": "code",
   "execution_count": 4,
   "metadata": {},
   "outputs": [],
   "source": [
    "gn_code = [2, 4, 7]\n",
    "songIds = []\n",
    "\n",
    "base_url1 = 'https://www.melon.com/genre/song_list.htm?gnrCode=GN1500&dtlGnrCode=GN150'\n",
    "base_url2 = '#params%5BgnrCode%5D=GN1500&params%5BdtlGnrCode%5D=GN150'\n",
    "base_url3 = '&params%5BorderBy%5D=POP&params%5BsteadyYn%5D=N&po=pageObj&startIndex='\n",
    "\n",
    "# base_url = 'https://www.melon.com/genre/song_list.htm?params%5BdtlGnrCode%5D=&params%5BorderBy%5D=POP&params%5BsteadyYn%5D=N&po=pageObj&params%5BdtlGnrCode%5D=params%5BorderBy%5D=POP&params%5BsteadyYn%5D=N&po=pageObj&gnrCode=GN0'\n",
    "# genre_url = '#params%5BgnrCode%5D=GN0'\n",
    "# index_url = '&startIndex='\n",
    "for i in gn_code:\n",
    "\n",
    "    for k in range(1, 452, 50):\n",
    "\n",
    "        page_url = f'{base_url1}{i}{base_url2}{i}{base_url3}{k}'\n",
    "        driver.get(page_url)\n",
    "        time.sleep(2)\n",
    "        soup = BeautifulSoup(driver.page_source, 'html.parser')\n",
    "        trs = soup.select('tbody > tr')\n",
    "        for tr in trs:\n",
    "            try:\n",
    "                if tr.select_one('.bullet_icons.age_19'):\n",
    "                    continue\n",
    "                songId = tr.select_one('.btn.button_icons.type03.song_info')['href'].split(\"'\")[-2]\n",
    "                songIds.append(songId)\n",
    "            except:\n",
    "                print(page_url)\n",
    "\n"
   ]
  },
  {
   "cell_type": "code",
   "execution_count": 9,
   "metadata": {},
   "outputs": [],
   "source": [
    "songid_df = pd.DataFrame(songIds, columns=['songId'])\n",
    "songid_df.to_csv('data/songids.csv', index=False)"
   ]
  },
  {
   "cell_type": "code",
   "execution_count": 10,
   "metadata": {},
   "outputs": [
    {
     "data": {
      "text/plain": [
       "(1495, 1)"
      ]
     },
     "execution_count": 10,
     "metadata": {},
     "output_type": "execute_result"
    }
   ],
   "source": [
    "songid_df.shape"
   ]
  },
  {
   "cell_type": "code",
   "execution_count": 11,
   "metadata": {},
   "outputs": [
    {
     "data": {
      "text/plain": [
       "songId    1495\n",
       "dtype: int64"
      ]
     },
     "execution_count": 11,
     "metadata": {},
     "output_type": "execute_result"
    }
   ],
   "source": [
    "songid_df.nunique()"
   ]
  },
  {
   "attachments": {},
   "cell_type": "markdown",
   "metadata": {},
   "source": [
    "##### 2. 파일을 읽어서 songId의 내용들 가져오기"
   ]
  },
  {
   "cell_type": "code",
   "execution_count": null,
   "metadata": {},
   "outputs": [],
   "source": [
    "df = pd.read_csv('data/songids.csv')"
   ]
  },
  {
   "cell_type": "code",
   "execution_count": 17,
   "metadata": {},
   "outputs": [
    {
     "name": "stderr",
     "output_type": "stream",
     "text": [
      "  0%|          | 0/1 [00:00<?, ?it/s]"
     ]
    },
    {
     "name": "stdout",
     "output_type": "stream",
     "text": [
      "https://www.melon.com/song/detail.htm?songId=418168\n"
     ]
    },
    {
     "name": "stderr",
     "output_type": "stream",
     "text": [
      "100%|██████████| 1/1 [00:03<00:00,  3.95s/it]"
     ]
    },
    {
     "name": "stdout",
     "output_type": "stream",
     "text": [
      "https://cdnimg.melon.co.kr/cm/album/images/000/28/985/28985_500.jpg/melon/resize/282/quality/80/optimize\n"
     ]
    },
    {
     "name": "stderr",
     "output_type": "stream",
     "text": [
      "\n"
     ]
    }
   ],
   "source": [
    "infos = []\n",
    "for songId in tqdm(songIds[0:1]):\n",
    "    try:\n",
    "        song_url = f'https://www.melon.com/song/detail.htm?songId={songId}'\n",
    "        print(song_url)\n",
    "\n",
    "        driver.get(song_url)\n",
    "        time.sleep(2)\n",
    "\n",
    "        soup = BeautifulSoup(driver.page_source, 'html.parser')\n",
    "\n",
    "        info = soup.select_one('#conts')\n",
    "\n",
    "        # songId = info.select_one('#btnLike')['data-song-no']\n",
    "        title = info.select_one('.song_name').get_text().strip().split('\\t')[-1]\n",
    "        artist = info.select_one('.artist_name').get_text()\n",
    "        genre = info.select_one('dl > dd:nth-child(6)').get_text().replace(',', '')\n",
    "        album = info.select_one('.list > dd').get_text()\n",
    "        ul = info.select('.list_person.clfix > li')\n",
    "        lyricist = ul[0].select_one('.artist_name').get_text()\n",
    "        composer = ul[1].select_one('.artist_name').get_text()\n",
    "        date = info.select_one('dl > dd:nth-child(4)').get_text().replace('.','')\n",
    "        img = info.select_one('.image_typeAll > img')['src']\n",
    "        comment = info.select_one('#revCnt').get_text().replace('개', '')\n",
    "        like = info.select_one('#d_like_count').get_text().replace(',', '')\n",
    "        lyric = str(info.select_one('.lyric')).split('\\t\\t\\t')[-1].replace('\\t', '').replace('<br/>', '\\n').split('</div>')[0].strip()\n",
    "        try:\n",
    "            buttons = info.select('.meta > button')\n",
    "            plylstSeq = ' '.join([button['data-djcol-no'] for button in buttons])\n",
    "\n",
    "        except:\n",
    "            plylstSeq = np.nan\n",
    "\n",
    "        infos.append({'songId': songId, 'title': title, 'artist': artist, 'genre':genre,\n",
    "                    'album': album, 'lyricist': lyricist, 'composer': composer, 'date':date, 'img': img,\n",
    "                    'comment': comment, 'like': like, 'lyric': lyric, 'plylstSeq': plylstSeq})\n",
    "\n",
    "    except:\n",
    "        continue\n",
    "\n"
   ]
  },
  {
   "cell_type": "code",
   "execution_count": null,
   "metadata": {},
   "outputs": [],
   "source": [
    "df = pd.DataFrame(infos)\n",
    "df.to_csv('data/melon_song_ost1.csv', encoding='utf-8', index=False)"
   ]
  },
  {
   "cell_type": "code",
   "execution_count": 16,
   "metadata": {},
   "outputs": [
    {
     "data": {
      "text/html": [
       "<div>\n",
       "<style scoped>\n",
       "    .dataframe tbody tr th:only-of-type {\n",
       "        vertical-align: middle;\n",
       "    }\n",
       "\n",
       "    .dataframe tbody tr th {\n",
       "        vertical-align: top;\n",
       "    }\n",
       "\n",
       "    .dataframe thead th {\n",
       "        text-align: right;\n",
       "    }\n",
       "</style>\n",
       "<table border=\"1\" class=\"dataframe\">\n",
       "  <thead>\n",
       "    <tr style=\"text-align: right;\">\n",
       "      <th></th>\n",
       "      <th>songId</th>\n",
       "      <th>title</th>\n",
       "      <th>artist</th>\n",
       "      <th>genre</th>\n",
       "      <th>album</th>\n",
       "      <th>lyricist</th>\n",
       "      <th>composer</th>\n",
       "      <th>date</th>\n",
       "      <th>img</th>\n",
       "      <th>comment</th>\n",
       "      <th>like</th>\n",
       "      <th>lyric</th>\n",
       "      <th>plylstSeq</th>\n",
       "    </tr>\n",
       "  </thead>\n",
       "  <tbody>\n",
       "    <tr>\n",
       "      <th>0</th>\n",
       "      <td>418168</td>\n",
       "      <td>희재</td>\n",
       "      <td>성시경</td>\n",
       "      <td>발라드 국내영화</td>\n",
       "      <td>국화꽃 향기 OST</td>\n",
       "      <td>양재선</td>\n",
       "      <td>MGR</td>\n",
       "      <td>20030201</td>\n",
       "      <td>https://cdnimg.melon.co.kr/cm/album/images/000...</td>\n",
       "      <td>333</td>\n",
       "      <td>138152</td>\n",
       "      <td>햇살은 우릴 위해 내리고 \\n바람도 서롤 감싸게 했죠 \\n우리 웃음속에 계절은 오고...</td>\n",
       "      <td>445029956 411111859</td>\n",
       "    </tr>\n",
       "    <tr>\n",
       "      <th>1</th>\n",
       "      <td>35609035</td>\n",
       "      <td>인생은 뷰티풀</td>\n",
       "      <td>김호중</td>\n",
       "      <td>발라드 국내영화</td>\n",
       "      <td>인생은 뷰티풀: 비타돌체</td>\n",
       "      <td>김호중</td>\n",
       "      <td>원태연</td>\n",
       "      <td>20220907</td>\n",
       "      <td>https://cdnimg.melon.co.kr/cm2/album/images/11...</td>\n",
       "      <td>197</td>\n",
       "      <td>17307</td>\n",
       "      <td>하나만 알고 둘은\\n잘 모르는 사람입니다\\n하루는 비틀거리고\\n하루는 뒤뚱거리고\\n...</td>\n",
       "      <td>457536944 474137187</td>\n",
       "    </tr>\n",
       "    <tr>\n",
       "      <th>2</th>\n",
       "      <td>1046278</td>\n",
       "      <td>서쪽 하늘</td>\n",
       "      <td>이승철</td>\n",
       "      <td>발라드 국내영화</td>\n",
       "      <td>청연 OST</td>\n",
       "      <td>이승철</td>\n",
       "      <td>윤명선</td>\n",
       "      <td>20051220</td>\n",
       "      <td>https://cdnimg.melon.co.kr/cm/album/images/003...</td>\n",
       "      <td>84</td>\n",
       "      <td>48082</td>\n",
       "      <td>서쪽하늘로 노을은 지고  \\n이젠 슬픔이 돼버린 그대를  \\n다시 부를수 없을 것 ...</td>\n",
       "      <td>NaN</td>\n",
       "    </tr>\n",
       "    <tr>\n",
       "      <th>3</th>\n",
       "      <td>35609034</td>\n",
       "      <td>슬픈등</td>\n",
       "      <td>김호중</td>\n",
       "      <td>발라드 국내영화</td>\n",
       "      <td>인생은 뷰티풀: 비타돌체</td>\n",
       "      <td>김호중</td>\n",
       "      <td>원태연</td>\n",
       "      <td>20220907</td>\n",
       "      <td>https://cdnimg.melon.co.kr/cm2/album/images/11...</td>\n",
       "      <td>144</td>\n",
       "      <td>15371</td>\n",
       "      <td>누군가를 다시 만난다면\\n여전히 나는 너를\\n누군가를 다시 사랑하면\\n영원히 나는 ...</td>\n",
       "      <td>457536944 515278519</td>\n",
       "    </tr>\n",
       "    <tr>\n",
       "      <th>4</th>\n",
       "      <td>35728845</td>\n",
       "      <td>고백 (영화 '동감' X 츄 (이달의 소녀))</td>\n",
       "      <td>츄(Chuu)</td>\n",
       "      <td>록/메탈 국내영화</td>\n",
       "      <td>고백 (영화 '동감' X 츄 (이달의 소녀))</td>\n",
       "      <td>강현민</td>\n",
       "      <td>강현민</td>\n",
       "      <td>20221016</td>\n",
       "      <td>https://cdnimg.melon.co.kr/cm2/album/images/11...</td>\n",
       "      <td>80</td>\n",
       "      <td>16882</td>\n",
       "      <td>말해야 하는데 네 앞에 서면\\n아무 말 못 하는 내가 미워져\\n용기를 내야 해 후회...</td>\n",
       "      <td>484732185 513801514</td>\n",
       "    </tr>\n",
       "    <tr>\n",
       "      <th>5</th>\n",
       "      <td>1046282</td>\n",
       "      <td>말리꽃</td>\n",
       "      <td>이승철</td>\n",
       "      <td>발라드 국내영화</td>\n",
       "      <td>청연 OST</td>\n",
       "      <td>이근상</td>\n",
       "      <td>박준배</td>\n",
       "      <td>20051220</td>\n",
       "      <td>https://cdnimg.melon.co.kr/cm/album/images/003...</td>\n",
       "      <td>55</td>\n",
       "      <td>55059</td>\n",
       "      <td>얼마나 더 견뎌야 하는지 \\n짙은 어둠을 헤매고 있어 \\n내가바란 꿈이라는 것은 \\...</td>\n",
       "      <td>403014132 445029956</td>\n",
       "    </tr>\n",
       "    <tr>\n",
       "      <th>6</th>\n",
       "      <td>1525532</td>\n",
       "      <td>별</td>\n",
       "      <td>유미</td>\n",
       "      <td>발라드 국내영화</td>\n",
       "      <td>미녀는 괴로워 OST</td>\n",
       "      <td>이재학</td>\n",
       "      <td>이재학</td>\n",
       "      <td>20061211</td>\n",
       "      <td>https://cdnimg.melon.co.kr/cm/album/images/003...</td>\n",
       "      <td>82</td>\n",
       "      <td>44917</td>\n",
       "      <td>바람결이 창을 흔들고\\n내 키만한 작은 나의 방 위로\\n아름답게 별빛들은\\n가득 채...</td>\n",
       "      <td>442706386 403014132</td>\n",
       "    </tr>\n",
       "    <tr>\n",
       "      <th>7</th>\n",
       "      <td>35837631</td>\n",
       "      <td>편지 (영화 '동감' X 윤하 (YOUNHA))</td>\n",
       "      <td>윤하 (YOUNHA)</td>\n",
       "      <td>발라드 국내영화</td>\n",
       "      <td>편지 (영화 '동감' X 윤하 (YOUNHA))</td>\n",
       "      <td>허승경</td>\n",
       "      <td>김광진</td>\n",
       "      <td>20221116</td>\n",
       "      <td>https://cdnimg.melon.co.kr/cm2/album/images/11...</td>\n",
       "      <td>67</td>\n",
       "      <td>10269</td>\n",
       "      <td>여기까지가 끝인가 보오\\n이제 나는 돌아서겠소\\n억지 노력으로 인연을 거슬러\\n괴롭...</td>\n",
       "      <td>496963017 456209348</td>\n",
       "    </tr>\n",
       "    <tr>\n",
       "      <th>8</th>\n",
       "      <td>7877288</td>\n",
       "      <td>꽃이 피고 지듯이</td>\n",
       "      <td>조승우</td>\n",
       "      <td>발라드 국내영화</td>\n",
       "      <td>사도 OST - 꽃이 피고 지듯이</td>\n",
       "      <td>방준석</td>\n",
       "      <td>방준석</td>\n",
       "      <td>20151007</td>\n",
       "      <td>https://cdnimg.melon.co.kr/cm/album/images/026...</td>\n",
       "      <td>162</td>\n",
       "      <td>36088</td>\n",
       "      <td>나 이제 가려합니다\\n아픔은 남겨두고서\\n당신과의 못다한 말들\\n구름에 띄워놓고 가...</td>\n",
       "      <td>460637410 421338401</td>\n",
       "    </tr>\n",
       "  </tbody>\n",
       "</table>\n",
       "</div>"
      ],
      "text/plain": [
       "     songId                       title       artist      genre   \n",
       "0    418168                          희재          성시경   발라드 국내영화  \\\n",
       "1  35609035                     인생은 뷰티풀          김호중   발라드 국내영화   \n",
       "2   1046278                       서쪽 하늘          이승철   발라드 국내영화   \n",
       "3  35609034                         슬픈등          김호중   발라드 국내영화   \n",
       "4  35728845   고백 (영화 '동감' X 츄 (이달의 소녀))      츄(Chuu)  록/메탈 국내영화   \n",
       "5   1046282                         말리꽃          이승철   발라드 국내영화   \n",
       "6   1525532                           별           유미   발라드 국내영화   \n",
       "7  35837631  편지 (영화 '동감' X 윤하 (YOUNHA))  윤하 (YOUNHA)   발라드 국내영화   \n",
       "8   7877288                   꽃이 피고 지듯이          조승우   발라드 국내영화   \n",
       "\n",
       "                        album lyricist composer      date   \n",
       "0                  국화꽃 향기 OST      양재선      MGR  20030201  \\\n",
       "1               인생은 뷰티풀: 비타돌체      김호중      원태연  20220907   \n",
       "2                      청연 OST      이승철      윤명선  20051220   \n",
       "3               인생은 뷰티풀: 비타돌체      김호중      원태연  20220907   \n",
       "4   고백 (영화 '동감' X 츄 (이달의 소녀))      강현민      강현민  20221016   \n",
       "5                      청연 OST      이근상      박준배  20051220   \n",
       "6                 미녀는 괴로워 OST      이재학      이재학  20061211   \n",
       "7  편지 (영화 '동감' X 윤하 (YOUNHA))      허승경      김광진  20221116   \n",
       "8          사도 OST - 꽃이 피고 지듯이      방준석      방준석  20151007   \n",
       "\n",
       "                                                 img comment    like   \n",
       "0  https://cdnimg.melon.co.kr/cm/album/images/000...     333  138152  \\\n",
       "1  https://cdnimg.melon.co.kr/cm2/album/images/11...     197   17307   \n",
       "2  https://cdnimg.melon.co.kr/cm/album/images/003...      84   48082   \n",
       "3  https://cdnimg.melon.co.kr/cm2/album/images/11...     144   15371   \n",
       "4  https://cdnimg.melon.co.kr/cm2/album/images/11...      80   16882   \n",
       "5  https://cdnimg.melon.co.kr/cm/album/images/003...      55   55059   \n",
       "6  https://cdnimg.melon.co.kr/cm/album/images/003...      82   44917   \n",
       "7  https://cdnimg.melon.co.kr/cm2/album/images/11...      67   10269   \n",
       "8  https://cdnimg.melon.co.kr/cm/album/images/026...     162   36088   \n",
       "\n",
       "                                               lyric            plylstSeq  \n",
       "0  햇살은 우릴 위해 내리고 \\n바람도 서롤 감싸게 했죠 \\n우리 웃음속에 계절은 오고...  445029956 411111859  \n",
       "1  하나만 알고 둘은\\n잘 모르는 사람입니다\\n하루는 비틀거리고\\n하루는 뒤뚱거리고\\n...  457536944 474137187  \n",
       "2  서쪽하늘로 노을은 지고  \\n이젠 슬픔이 돼버린 그대를  \\n다시 부를수 없을 것 ...                  NaN  \n",
       "3  누군가를 다시 만난다면\\n여전히 나는 너를\\n누군가를 다시 사랑하면\\n영원히 나는 ...  457536944 515278519  \n",
       "4  말해야 하는데 네 앞에 서면\\n아무 말 못 하는 내가 미워져\\n용기를 내야 해 후회...  484732185 513801514  \n",
       "5  얼마나 더 견뎌야 하는지 \\n짙은 어둠을 헤매고 있어 \\n내가바란 꿈이라는 것은 \\...  403014132 445029956  \n",
       "6  바람결이 창을 흔들고\\n내 키만한 작은 나의 방 위로\\n아름답게 별빛들은\\n가득 채...  442706386 403014132  \n",
       "7  여기까지가 끝인가 보오\\n이제 나는 돌아서겠소\\n억지 노력으로 인연을 거슬러\\n괴롭...  496963017 456209348  \n",
       "8  나 이제 가려합니다\\n아픔은 남겨두고서\\n당신과의 못다한 말들\\n구름에 띄워놓고 가...  460637410 421338401  "
      ]
     },
     "execution_count": 16,
     "metadata": {},
     "output_type": "execute_result"
    }
   ],
   "source": [
    "df"
   ]
  },
  {
   "cell_type": "code",
   "execution_count": null,
   "metadata": {},
   "outputs": [],
   "source": []
  }
 ],
 "metadata": {
  "kernelspec": {
   "display_name": "base",
   "language": "python",
   "name": "python3"
  },
  "language_info": {
   "codemirror_mode": {
    "name": "ipython",
    "version": 3
   },
   "file_extension": ".py",
   "mimetype": "text/x-python",
   "name": "python",
   "nbconvert_exporter": "python",
   "pygments_lexer": "ipython3",
   "version": "3.10.10"
  },
  "orig_nbformat": 4
 },
 "nbformat": 4,
 "nbformat_minor": 2
}
