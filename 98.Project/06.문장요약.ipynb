{
 "cells": [
  {
   "cell_type": "code",
   "execution_count": 5,
   "metadata": {},
   "outputs": [],
   "source": [
    "import numpy as np\n",
    "import pandas as pd\n",
    "\n",
    "from collections import Counter\n",
    "\n",
    "filename = 'data/melon_song_v2.csv'"
   ]
  },
  {
   "cell_type": "code",
   "execution_count": 12,
   "metadata": {},
   "outputs": [],
   "source": [
    "df = pd.read_csv(filename)\n",
    "df.date.fillna(0, inplace=True)\n",
    "df.date = df.date.astype(int).astype(str)\n",
    "df.songId = df.songId.astype(str)\n",
    "df.fillna('', inplace=True)\n",
    "df.lyric = df.lyric.str.replace('\\r', '')\n",
    "df.lyric = df.lyric.str.replace('\\n\\n', '\\n')"
   ]
  },
  {
   "cell_type": "code",
   "execution_count": 16,
   "metadata": {},
   "outputs": [],
   "source": [
    "test_text = df[df.songId == '2943878'].lyric.values[0]"
   ]
  },
  {
   "cell_type": "code",
   "execution_count": 15,
   "metadata": {},
   "outputs": [
    {
     "data": {
      "text/plain": [
       "array(['햇살은 우릴 위해 내리고 \\n바람도 서롤 감싸게 했죠 \\n우리 웃음속에 계절은 오고 \\n또 갔죠 \\n바람에 흔들리는 머릿결 \\n내게 불어오는 그대 향기 \\n예쁜 두눈도 웃음 소리도 \\n모두가 내 것이었죠\\n이런 사랑 이런 행복 쉽다 \\n했었죠 이런 웃음 \\n이런 축복 내게 쉽게 올리 없죠 \\n눈물 조차 울음조차 닦지 \\n못한 나 \\n정말로 울면 내가 그댈 보내 \\n준 것 같아서 \\n그대 떠나가는 그 순간도 \\n나를 걱정했었나요 \\n무엇도 해줄 수 없는 내 맘\\n앞에서 \\n그대 나를 떠나 간다해도 \\n난 그댈 보낸적 없죠 \\n여전히 그댄 나를 살게 하는 \\n이율테니 \\n이런 사랑 이런 행복 쉽다 했었죠 \\n이런 웃음 이런 축복 내게 \\n쉽게 올리 없죠 \\n눈물 조차 울음 조차 닦지 못한 나 \\n정말로 울면 내가 그댈 보내 \\n준 것 같아서 \\n그대 떠나가는 그 순간도 \\n나를 걱정했었나요 \\n무엇도 해줄 수 없는 내 맘앞에서 \\n그대 나를 떠나 간다해도 난 \\n그댈 보낸적 없죠 \\n기다림으로 다시 시작일테니 \\n얼마나 사랑했는지 얼마나 \\n또 울었는지 \\n그대여 한순간 조차 잊지 말아요 \\n거기 떠나간 그곳에서 날\\n기억하며 기다려요\\n하루씩 그대에게 다가가는 \\n나 일테니',\n",
       "       '하나만 알고 둘은\\n잘 모르는 사람입니다\\n하루는 비틀거리고\\n하루는 뒤뚱거리고\\n월요일 아침이 오면\\n버거운 세수를 하고\\n화요일 점심시간에\\n눈물 물처럼 삼키고 삼키고\\n수요일 밤의 길목에\\n갈 길을 잃고 서 있는\\n그림자 손을 꼭 잡고\\n다시 또 걸었습니다\\n하나만 알고\\n둘은 잘 모르고 살았습니다\\n울어도 나 혼자 울고 웃어도\\n나 혼자 웃고\\n목요일 빈 술잔 안에\\n외로움 가득 채우고\\n금요일 목놓아 부른\\n그리운 추억의 노래여 노래여\\n토요일 바람이 분다\\n춤춰라 머리카락아\\n일요일 나의 식탁에\\n태양이 비칠 때까지\\n월화수목금토일\\n외로움 가득 채우고\\n눈물로 목 놓아 부른\\n그리운 사랑의 노래여 노래여\\n인생에 바람이 분다\\n춤춰라 머리카락아\\n행복한 나의 식탁에\\n태양이 비칠 때까지\\n태양이 웃을 때까지',\n",
       "       '서쪽하늘로 노을은 지고  \\n이젠 슬픔이 돼버린 그대를  \\n다시 부를수 없을 것 같아  \\n또 한번 불러보네 \\n소리쳐 불러도 늘 허공에  \\n부서져 돌아오는 너의 이름  \\n이젠 더 견딜 힘조차 없게 \\n날 버려두고 가지  \\n사랑하는 날 떠나가는 날  \\n하늘도 슬퍼서 울어준 날  \\n빗속에 떠날 나였음을  \\n넌 알고 있는듯이 \\n비가오는 날엔 난 항상  \\n널 그리워해  \\n언젠간 널 다시 만나는  \\n그 날을 기다리며  \\n비내린 하늘은 왜그리  \\n날 슬프게해  \\n흩어진 내 눈물로 널  \\n잊고 싶은데  \\n비가오는 날엔 난 항상  \\n널 그리워해  \\n언젠간 널 다시 만나는  \\n그 날을 기다리며  \\n비내린 하늘은 왜그리  \\n날 슬프게해  \\n흩어진 내 눈물로 널  \\n잊고 싶은데  \\n가고싶어 널 보고싶어  \\n꼭 찾고 싶었어  \\n하지만 너의 모습은  \\n아직도 그 자리에  \\n비가오는 날엔 난 항상  \\n널 그리워해  \\n언젠간 널 다시 만나는  \\n그 날을 기다리며 \\n비내린 하늘은 왜그리 \\n날 슬프게해 \\n흩어진 내 눈물로 널 \\n잊고 싶은데 \\n하지만 난 널 사랑해',\n",
       "       ...,\n",
       "       '또 하루 멀어져 간다\\n내뿜은 담배연기처럼\\n작기만한 내 기억속에\\n무얼 채워 살고있는지\\n점점 더 멀어져 간다\\n머물러 있는 청춘인줄 알았는데\\n뛰어가는 내 가슴속엔\\n더 아무것도 찾을 수 없네\\n계절은 다시 돌아오지만\\n떠나간 내 사랑은 어디에\\n내가 떠나 보낸 것도 아닌데\\n내가 떠나온 것도 아닌데\\n조금씩 잊혀져 간다\\n머물러 있는 사랑인줄 알았는데\\n또 하루 멀어져 간다\\n매일 이별하며 살고 있구나\\n매일 이별하며 살고 있구나\\n점점 더 멀어져 간다\\n머물러 있는 청춘인줄 알았는데\\n뛰어가는 내 가슴 속엔\\n더 아무것도 찾을 수 없네\\n계절은 다시 돌아오지만\\n떠나간 내 사랑은 어디에\\n내가 떠나 보낸것도 아닌데\\n내가 떠나온 것도 아닌데\\n조금씩 잊혀져 간다\\n머물러 있는 사랑인줄 알았는데\\n또 하루 멀어져 간다\\n매일 이별하며 살고 있구나\\n매일 이별하며 살고 있구나',\n",
       "       '사랑도 이별도 오늘은 잠시 미뤄보자\\n불안한 청춘도 내일로 잠시 미뤄두자\\n떠나버린 그 사람 한잔\\n술 속에 털어버리고\\n한잔 술 두잔 술\\n내 어깨 빌려줄 테니까 마시자\\n한잔 들이켜 보자 나를 돌이켜보자\\n사랑의 아픔도 모두 추억인 거야\\n한잔 들이켜 보자 나를 돌이켜보면\\n오늘의 후회는 모두 안녕\\n오늘도 내일도 같은 곳 같은 시간에\\n똑같은 얘길 하고 있겠지\\n한잔 들이켜 보자 나를 돌이켜보자\\n사랑의 아픔도 모두 추억인 거야\\n한잔 들이켜 보자 나를 돌이켜보면\\n오늘의 후회는 모두 안녕\\n사랑도 이별도 오늘은 잠시 미뤄보자\\n내일은 다를지 모르잖아',\n",
       "       \"It's 6 o'clock\\n너와 나는 시간이 빨라서\\n시간이 달라서\\n어쩔 수 없이 자꾸만 멀어져 가\\nYeah 단 하루만이라도\\n같은 시간 속에서\\n널 그려 보고 싶어\\n네 곁에 있고 싶어\\n난 왜 이렇게 느린 걸까\\n아니 왜 이렇게 서툰 걸까\\n사랑을 받는데도 그게 아닌 것 같아\\n사실 나 가끔은 울기도 해\\ncry cry\\n시간은 빨라 자꾸만 달라\\n너와 내 시간이 엇갈려져만 가 왜\\n붙잡고 싶어 네 초침이 되어\\n너보다 빨리\\n다가가고 싶어\\nOh why does it feel stupid\\nI just don't know\\nOh why d'you sing your song\\nI wonder what for\\nOh damn I feel so stupid\\nOh why I feel so\\n너의 미소가 점점 흐릿해져\\n내 기억들이 자꾸만 사라져 가\\n네가 없는 텅 빈 기억들이 나\\n시계가 멈춰지지 않고 계속 돌아가\\n아 왜 oh shit\\nOh why does it feel stupid\\nI just don't know\\nOh why d'you sing your song\\nI wonder what for\\nOh damn I feel so stupid\"],\n",
       "      dtype=object)"
      ]
     },
     "execution_count": 15,
     "metadata": {},
     "output_type": "execute_result"
    }
   ],
   "source": [
    "df.lyric.values"
   ]
  },
  {
   "cell_type": "code",
   "execution_count": null,
   "metadata": {},
   "outputs": [],
   "source": [
    "sen = df.lyric"
   ]
  },
  {
   "cell_type": "code",
   "execution_count": 17,
   "metadata": {},
   "outputs": [
    {
     "name": "stdout",
     "output_type": "stream",
     "text": [
      " : 202회 사용됨\n",
      "\n",
      ": 24회 사용됨\n"
     ]
    }
   ],
   "source": [
    "\n",
    "\n",
    "sentences = ['문장1.', '문장2.', '문장1.', '문장3.', '문장2.', '문장2.']\n",
    "n = 2  # 추출할 문장 개수\n",
    "\n",
    "sentence_counts = Counter(test_text)  # 문장별 빈도 계산\n",
    "\n",
    "most_common_sentences = sentence_counts.most_common(n)  # 가장 빈도가 높은 문장 추출\n",
    "\n",
    "for sentence, count in most_common_sentences:\n",
    "    print(f\"{sentence}: {count}회 사용됨\")"
   ]
  }
 ],
 "metadata": {
  "kernelspec": {
   "display_name": "base",
   "language": "python",
   "name": "python3"
  },
  "language_info": {
   "codemirror_mode": {
    "name": "ipython",
    "version": 3
   },
   "file_extension": ".py",
   "mimetype": "text/x-python",
   "name": "python",
   "nbconvert_exporter": "python",
   "pygments_lexer": "ipython3",
   "version": "3.9.13"
  },
  "orig_nbformat": 4
 },
 "nbformat": 4,
 "nbformat_minor": 2
}
