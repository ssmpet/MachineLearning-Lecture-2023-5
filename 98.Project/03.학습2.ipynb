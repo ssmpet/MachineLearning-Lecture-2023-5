{
 "cells": [
  {
   "cell_type": "code",
   "execution_count": 7,
   "metadata": {},
   "outputs": [],
   "source": [
    "import numpy as np\n",
    "import pandas as pd\n",
    "import joblib"
   ]
  },
  {
   "cell_type": "code",
   "execution_count": 8,
   "metadata": {},
   "outputs": [
    {
     "data": {
      "text/plain": [
       "((6243, 14), (3845, 5), (60264, 5))"
      ]
     },
     "execution_count": 8,
     "metadata": {},
     "output_type": "execute_result"
    }
   ],
   "source": [
    "filename = 'web/static/data/melon_song_v3.csv'\n",
    "plist_filename1 = 'web/static/data/melon_playlist1.csv'\n",
    "plist_filename2 = 'web/static/data/melon_playlist2_v2.csv'\n",
    "sim_filename = 'web/static/data/melon_cosine_sim.sim'\n",
    "\n",
    "df = pd.read_csv(filename)\n",
    "plist1 = pd.read_csv(plist_filename1)\n",
    "plist2 = pd.read_csv(plist_filename2)\n",
    "cosine_sim = joblib.load(sim_filename)\n",
    "\n",
    "df.shape, plist1.shape, plist2.shape"
   ]
  },
  {
   "cell_type": "code",
   "execution_count": 9,
   "metadata": {},
   "outputs": [
    {
     "data": {
      "text/html": [
       "<div>\n",
       "<style scoped>\n",
       "    .dataframe tbody tr th:only-of-type {\n",
       "        vertical-align: middle;\n",
       "    }\n",
       "\n",
       "    .dataframe tbody tr th {\n",
       "        vertical-align: top;\n",
       "    }\n",
       "\n",
       "    .dataframe thead th {\n",
       "        text-align: right;\n",
       "    }\n",
       "</style>\n",
       "<table border=\"1\" class=\"dataframe\">\n",
       "  <thead>\n",
       "    <tr style=\"text-align: right;\">\n",
       "      <th></th>\n",
       "      <th>songId</th>\n",
       "      <th>title</th>\n",
       "      <th>artist</th>\n",
       "      <th>genre</th>\n",
       "      <th>album</th>\n",
       "      <th>lyricist</th>\n",
       "      <th>composer</th>\n",
       "      <th>date</th>\n",
       "      <th>img</th>\n",
       "      <th>comment</th>\n",
       "      <th>like</th>\n",
       "      <th>lyric</th>\n",
       "      <th>plylstSeq</th>\n",
       "      <th>ly_summary</th>\n",
       "    </tr>\n",
       "  </thead>\n",
       "  <tbody>\n",
       "    <tr>\n",
       "      <th>0</th>\n",
       "      <td>418168</td>\n",
       "      <td>희재</td>\n",
       "      <td>성시경</td>\n",
       "      <td>발라드 국내영화</td>\n",
       "      <td>국화꽃 향기 OST</td>\n",
       "      <td>양재선</td>\n",
       "      <td>MGR</td>\n",
       "      <td>2003.02.01</td>\n",
       "      <td>https://cdnimg.melon.co.kr/cm/album/images/000...</td>\n",
       "      <td>332</td>\n",
       "      <td>138267</td>\n",
       "      <td>햇살은 우릴 위해 내리고\\n바람도 서롤 감싸게 했죠\\n우리 웃음속에 계절은 오고\\n...</td>\n",
       "      <td>445029956 411111859</td>\n",
       "      <td>정말로 울면 내가 그댈 보내&lt;br&gt;준 것 같아서</td>\n",
       "    </tr>\n",
       "    <tr>\n",
       "      <th>1</th>\n",
       "      <td>35609035</td>\n",
       "      <td>인생은 뷰티풀</td>\n",
       "      <td>김호중</td>\n",
       "      <td>발라드 국내영화</td>\n",
       "      <td>인생은 뷰티풀: 비타돌체</td>\n",
       "      <td>김호중</td>\n",
       "      <td>김호중</td>\n",
       "      <td>2022.09.07</td>\n",
       "      <td>https://cdnimg.melon.co.kr/cm2/album/images/11...</td>\n",
       "      <td>197</td>\n",
       "      <td>17322</td>\n",
       "      <td>하나만 알고 둘은\\n잘 모르는 사람입니다\\n하루는 비틀거리고\\n하루는 뒤뚱거리고\\n...</td>\n",
       "      <td>457536944 474137187</td>\n",
       "      <td>외로움 가득 채우고&lt;br&gt;춤춰라 머리카락아</td>\n",
       "    </tr>\n",
       "    <tr>\n",
       "      <th>2</th>\n",
       "      <td>1046278</td>\n",
       "      <td>서쪽 하늘</td>\n",
       "      <td>이승철</td>\n",
       "      <td>발라드 국내영화</td>\n",
       "      <td>청연 OST</td>\n",
       "      <td>이승철</td>\n",
       "      <td>윤명선</td>\n",
       "      <td>2005.12.20</td>\n",
       "      <td>https://cdnimg.melon.co.kr/cm/album/images/003...</td>\n",
       "      <td>84</td>\n",
       "      <td>48109</td>\n",
       "      <td>서쪽하늘로 노을은 지고\\n이젠 슬픔이 돼버린 그대를\\n다시 부를수 없을 것 같아\\n...</td>\n",
       "      <td>426571097 405285190</td>\n",
       "      <td>비가오는 날엔 난 항상&lt;br&gt;널 그리워해</td>\n",
       "    </tr>\n",
       "    <tr>\n",
       "      <th>3</th>\n",
       "      <td>35609034</td>\n",
       "      <td>슬픈등</td>\n",
       "      <td>김호중</td>\n",
       "      <td>발라드 국내영화</td>\n",
       "      <td>인생은 뷰티풀: 비타돌체</td>\n",
       "      <td>김호중</td>\n",
       "      <td>김호중</td>\n",
       "      <td>2022.09.07</td>\n",
       "      <td>https://cdnimg.melon.co.kr/cm2/album/images/11...</td>\n",
       "      <td>145</td>\n",
       "      <td>15389</td>\n",
       "      <td>누군가를 다시 만난다면\\n여전히 나는 너를\\n누군가를 다시 사랑하면\\n영원히 나는 ...</td>\n",
       "      <td>457536944 515278519</td>\n",
       "      <td>덧없는 미련이라 탓하지 마&lt;br&gt;누군가를 다시 만난다면</td>\n",
       "    </tr>\n",
       "    <tr>\n",
       "      <th>4</th>\n",
       "      <td>35728845</td>\n",
       "      <td>고백 (영화 '동감' X 츄 (이달의 소녀))</td>\n",
       "      <td>츄(Chuu)</td>\n",
       "      <td>록/메탈 국내영화</td>\n",
       "      <td>고백 (영화 '동감' X 츄 (이달의 소녀))</td>\n",
       "      <td>강현민</td>\n",
       "      <td>강현민</td>\n",
       "      <td>2022.10.16</td>\n",
       "      <td>https://cdnimg.melon.co.kr/cm2/album/images/11...</td>\n",
       "      <td>80</td>\n",
       "      <td>16902</td>\n",
       "      <td>말해야 하는데 네 앞에 서면\\n아무 말 못 하는 내가 미워져\\n용기를 내야 해 후회...</td>\n",
       "      <td>484732185 513801514</td>\n",
       "      <td>용기를 내야 해 후회하지 않게&lt;br&gt;아무 말 못 하는 내가 미워져</td>\n",
       "    </tr>\n",
       "  </tbody>\n",
       "</table>\n",
       "</div>"
      ],
      "text/plain": [
       "     songId                      title   artist      genre   \n",
       "0    418168                         희재      성시경   발라드 국내영화  \\\n",
       "1  35609035                    인생은 뷰티풀      김호중   발라드 국내영화   \n",
       "2   1046278                      서쪽 하늘      이승철   발라드 국내영화   \n",
       "3  35609034                        슬픈등      김호중   발라드 국내영화   \n",
       "4  35728845  고백 (영화 '동감' X 츄 (이달의 소녀))  츄(Chuu)  록/메탈 국내영화   \n",
       "\n",
       "                       album lyricist composer        date   \n",
       "0                 국화꽃 향기 OST      양재선      MGR  2003.02.01  \\\n",
       "1              인생은 뷰티풀: 비타돌체      김호중      김호중  2022.09.07   \n",
       "2                     청연 OST      이승철      윤명선  2005.12.20   \n",
       "3              인생은 뷰티풀: 비타돌체      김호중      김호중  2022.09.07   \n",
       "4  고백 (영화 '동감' X 츄 (이달의 소녀))      강현민      강현민  2022.10.16   \n",
       "\n",
       "                                                 img  comment    like   \n",
       "0  https://cdnimg.melon.co.kr/cm/album/images/000...      332  138267  \\\n",
       "1  https://cdnimg.melon.co.kr/cm2/album/images/11...      197   17322   \n",
       "2  https://cdnimg.melon.co.kr/cm/album/images/003...       84   48109   \n",
       "3  https://cdnimg.melon.co.kr/cm2/album/images/11...      145   15389   \n",
       "4  https://cdnimg.melon.co.kr/cm2/album/images/11...       80   16902   \n",
       "\n",
       "                                               lyric            plylstSeq   \n",
       "0  햇살은 우릴 위해 내리고\\n바람도 서롤 감싸게 했죠\\n우리 웃음속에 계절은 오고\\n...  445029956 411111859  \\\n",
       "1  하나만 알고 둘은\\n잘 모르는 사람입니다\\n하루는 비틀거리고\\n하루는 뒤뚱거리고\\n...  457536944 474137187   \n",
       "2  서쪽하늘로 노을은 지고\\n이젠 슬픔이 돼버린 그대를\\n다시 부를수 없을 것 같아\\n...  426571097 405285190   \n",
       "3  누군가를 다시 만난다면\\n여전히 나는 너를\\n누군가를 다시 사랑하면\\n영원히 나는 ...  457536944 515278519   \n",
       "4  말해야 하는데 네 앞에 서면\\n아무 말 못 하는 내가 미워져\\n용기를 내야 해 후회...  484732185 513801514   \n",
       "\n",
       "                             ly_summary  \n",
       "0            정말로 울면 내가 그댈 보내<br>준 것 같아서  \n",
       "1               외로움 가득 채우고<br>춤춰라 머리카락아  \n",
       "2                비가오는 날엔 난 항상<br>널 그리워해  \n",
       "3        덧없는 미련이라 탓하지 마<br>누군가를 다시 만난다면  \n",
       "4  용기를 내야 해 후회하지 않게<br>아무 말 못 하는 내가 미워져  "
      ]
     },
     "execution_count": 9,
     "metadata": {},
     "output_type": "execute_result"
    }
   ],
   "source": [
    "# df.date.fillna(0, inplace=True)\n",
    "# df.date = df.date.astype(int).astype(str)\n",
    "plist1.plylstSeq = plist1.plylstSeq.astype(str)\n",
    "plist2.songId = plist2.songId.astype(str)\n",
    "df.songId = df.songId.astype(str)\n",
    "df.fillna('', inplace=True)\n",
    "df.head()"
   ]
  },
  {
   "cell_type": "code",
   "execution_count": 11,
   "metadata": {},
   "outputs": [
    {
     "data": {
      "text/plain": [
       "(6247, 14)"
      ]
     },
     "execution_count": 11,
     "metadata": {},
     "output_type": "execute_result"
    }
   ],
   "source": [
    "df.shape"
   ]
  },
  {
   "cell_type": "code",
   "execution_count": 17,
   "metadata": {},
   "outputs": [],
   "source": [
    "# df.date = df.date.apply(lambda x: '-' if x == '0' else (x[:4] + '.' + x[4:6] + '.' + x[6:]) )"
   ]
  },
  {
   "cell_type": "code",
   "execution_count": 6,
   "metadata": {},
   "outputs": [
    {
     "data": {
      "text/html": [
       "<div>\n",
       "<style scoped>\n",
       "    .dataframe tbody tr th:only-of-type {\n",
       "        vertical-align: middle;\n",
       "    }\n",
       "\n",
       "    .dataframe tbody tr th {\n",
       "        vertical-align: top;\n",
       "    }\n",
       "\n",
       "    .dataframe thead th {\n",
       "        text-align: right;\n",
       "    }\n",
       "</style>\n",
       "<table border=\"1\" class=\"dataframe\">\n",
       "  <thead>\n",
       "    <tr style=\"text-align: right;\">\n",
       "      <th></th>\n",
       "      <th>songId</th>\n",
       "      <th>title</th>\n",
       "      <th>artist</th>\n",
       "      <th>genre</th>\n",
       "      <th>album</th>\n",
       "      <th>lyricist</th>\n",
       "      <th>composer</th>\n",
       "      <th>date</th>\n",
       "      <th>img</th>\n",
       "      <th>comment</th>\n",
       "      <th>like</th>\n",
       "      <th>lyric</th>\n",
       "      <th>plylstSeq</th>\n",
       "      <th>ly_summary</th>\n",
       "    </tr>\n",
       "  </thead>\n",
       "  <tbody>\n",
       "    <tr>\n",
       "      <th>0</th>\n",
       "      <td>418168</td>\n",
       "      <td>희재</td>\n",
       "      <td>성시경</td>\n",
       "      <td>발라드 국내영화</td>\n",
       "      <td>국화꽃 향기 OST</td>\n",
       "      <td>양재선</td>\n",
       "      <td>MGR</td>\n",
       "      <td>2003.02.01</td>\n",
       "      <td>https://cdnimg.melon.co.kr/cm/album/images/000...</td>\n",
       "      <td>332</td>\n",
       "      <td>138267</td>\n",
       "      <td>햇살은 우릴 위해 내리고\\n바람도 서롤 감싸게 했죠\\n우리 웃음속에 계절은 오고\\n...</td>\n",
       "      <td>445029956 411111859</td>\n",
       "      <td>정말로 울면 내가 그댈 보내&lt;br&gt;준 것 같아서</td>\n",
       "    </tr>\n",
       "    <tr>\n",
       "      <th>1</th>\n",
       "      <td>35609035</td>\n",
       "      <td>인생은 뷰티풀</td>\n",
       "      <td>김호중</td>\n",
       "      <td>발라드 국내영화</td>\n",
       "      <td>인생은 뷰티풀: 비타돌체</td>\n",
       "      <td>김호중</td>\n",
       "      <td>김호중</td>\n",
       "      <td>2022.09.07</td>\n",
       "      <td>https://cdnimg.melon.co.kr/cm2/album/images/11...</td>\n",
       "      <td>197</td>\n",
       "      <td>17322</td>\n",
       "      <td>하나만 알고 둘은\\n잘 모르는 사람입니다\\n하루는 비틀거리고\\n하루는 뒤뚱거리고\\n...</td>\n",
       "      <td>457536944 474137187</td>\n",
       "      <td>외로움 가득 채우고&lt;br&gt;춤춰라 머리카락아</td>\n",
       "    </tr>\n",
       "    <tr>\n",
       "      <th>2</th>\n",
       "      <td>1046278</td>\n",
       "      <td>서쪽 하늘</td>\n",
       "      <td>이승철</td>\n",
       "      <td>발라드 국내영화</td>\n",
       "      <td>청연 OST</td>\n",
       "      <td>이승철</td>\n",
       "      <td>윤명선</td>\n",
       "      <td>2005.12.20</td>\n",
       "      <td>https://cdnimg.melon.co.kr/cm/album/images/003...</td>\n",
       "      <td>84</td>\n",
       "      <td>48109</td>\n",
       "      <td>서쪽하늘로 노을은 지고\\n이젠 슬픔이 돼버린 그대를\\n다시 부를수 없을 것 같아\\n...</td>\n",
       "      <td>426571097 405285190</td>\n",
       "      <td>비가오는 날엔 난 항상&lt;br&gt;널 그리워해</td>\n",
       "    </tr>\n",
       "    <tr>\n",
       "      <th>3</th>\n",
       "      <td>35609034</td>\n",
       "      <td>슬픈등</td>\n",
       "      <td>김호중</td>\n",
       "      <td>발라드 국내영화</td>\n",
       "      <td>인생은 뷰티풀: 비타돌체</td>\n",
       "      <td>김호중</td>\n",
       "      <td>김호중</td>\n",
       "      <td>2022.09.07</td>\n",
       "      <td>https://cdnimg.melon.co.kr/cm2/album/images/11...</td>\n",
       "      <td>145</td>\n",
       "      <td>15389</td>\n",
       "      <td>누군가를 다시 만난다면\\n여전히 나는 너를\\n누군가를 다시 사랑하면\\n영원히 나는 ...</td>\n",
       "      <td>457536944 515278519</td>\n",
       "      <td>덧없는 미련이라 탓하지 마&lt;br&gt;누군가를 다시 만난다면</td>\n",
       "    </tr>\n",
       "  </tbody>\n",
       "</table>\n",
       "</div>"
      ],
      "text/plain": [
       "     songId    title artist     genre          album lyricist composer   \n",
       "0    418168       희재    성시경  발라드 국내영화     국화꽃 향기 OST      양재선      MGR  \\\n",
       "1  35609035  인생은 뷰티풀    김호중  발라드 국내영화  인생은 뷰티풀: 비타돌체      김호중      김호중   \n",
       "2   1046278    서쪽 하늘    이승철  발라드 국내영화         청연 OST      이승철      윤명선   \n",
       "3  35609034      슬픈등    김호중  발라드 국내영화  인생은 뷰티풀: 비타돌체      김호중      김호중   \n",
       "\n",
       "         date                                                img  comment   \n",
       "0  2003.02.01  https://cdnimg.melon.co.kr/cm/album/images/000...      332  \\\n",
       "1  2022.09.07  https://cdnimg.melon.co.kr/cm2/album/images/11...      197   \n",
       "2  2005.12.20  https://cdnimg.melon.co.kr/cm/album/images/003...       84   \n",
       "3  2022.09.07  https://cdnimg.melon.co.kr/cm2/album/images/11...      145   \n",
       "\n",
       "     like                                              lyric   \n",
       "0  138267  햇살은 우릴 위해 내리고\\n바람도 서롤 감싸게 했죠\\n우리 웃음속에 계절은 오고\\n...  \\\n",
       "1   17322  하나만 알고 둘은\\n잘 모르는 사람입니다\\n하루는 비틀거리고\\n하루는 뒤뚱거리고\\n...   \n",
       "2   48109  서쪽하늘로 노을은 지고\\n이젠 슬픔이 돼버린 그대를\\n다시 부를수 없을 것 같아\\n...   \n",
       "3   15389  누군가를 다시 만난다면\\n여전히 나는 너를\\n누군가를 다시 사랑하면\\n영원히 나는 ...   \n",
       "\n",
       "             plylstSeq                      ly_summary  \n",
       "0  445029956 411111859      정말로 울면 내가 그댈 보내<br>준 것 같아서  \n",
       "1  457536944 474137187         외로움 가득 채우고<br>춤춰라 머리카락아  \n",
       "2  426571097 405285190          비가오는 날엔 난 항상<br>널 그리워해  \n",
       "3  457536944 515278519  덧없는 미련이라 탓하지 마<br>누군가를 다시 만난다면  "
      ]
     },
     "execution_count": 6,
     "metadata": {},
     "output_type": "execute_result"
    }
   ],
   "source": [
    "df.head(4)"
   ]
  },
  {
   "cell_type": "code",
   "execution_count": 18,
   "metadata": {},
   "outputs": [
    {
     "data": {
      "text/plain": [
       "(6247, 29698)"
      ]
     },
     "execution_count": 18,
     "metadata": {},
     "output_type": "execute_result"
    }
   ],
   "source": [
    "from sklearn.feature_extraction.text import TfidfVectorizer\n",
    "tvect = TfidfVectorizer(stop_words='english')\n",
    "total_tv = tvect.fit_transform(df.total)\n",
    "total_tv.shape"
   ]
  },
  {
   "cell_type": "code",
   "execution_count": 19,
   "metadata": {},
   "outputs": [],
   "source": [
    "indices = pd.Series(df.index, index=df.songId)\n",
    "from sklearn.metrics.pairwise import cosine_similarity\n",
    "cosine_sim = cosine_similarity(total_tv)"
   ]
  },
  {
   "cell_type": "code",
   "execution_count": 10,
   "metadata": {},
   "outputs": [],
   "source": [
    "def get_recommendation(songId, cos_sim):\n",
    "    index = indices[songId]\n",
    "    sim_scores = pd.Series(cos_sim[index])\n",
    "    song_indices = sim_scores.sort_values(ascending=False).head(31).tail(30).index\n",
    "    return df.songId.iloc[song_indices]"
   ]
  },
  {
   "cell_type": "code",
   "execution_count": 11,
   "metadata": {},
   "outputs": [],
   "source": [
    "indices = pd.Series(df.index, index=df.songId)"
   ]
  },
  {
   "cell_type": "code",
   "execution_count": 15,
   "metadata": {},
   "outputs": [
    {
     "data": {
      "text/plain": [
       "'418168'"
      ]
     },
     "execution_count": 15,
     "metadata": {},
     "output_type": "execute_result"
    }
   ],
   "source": [
    "find_songId = df.songId.values[0]\n",
    "find_songId"
   ]
  },
  {
   "cell_type": "code",
   "execution_count": 16,
   "metadata": {},
   "outputs": [
    {
     "data": {
      "text/plain": [
       "55        418200\n",
       "464     31383915\n",
       "2653      104584\n",
       "2623        8290\n",
       "227       532449\n",
       "2602        8302\n",
       "2868     1538203\n",
       "307      2070560\n",
       "2696      422606\n",
       "210     35831252\n",
       "143      1124448\n",
       "390     31980352\n",
       "96       1594084\n",
       "2448       91264\n",
       "3607    36406163\n",
       "5595    34279648\n",
       "784      4105693\n",
       "3795       88929\n",
       "655      1963424\n",
       "656       314402\n",
       "1950       48562\n",
       "11       1116679\n",
       "266      2001364\n",
       "2817     1114170\n",
       "2863     1569650\n",
       "494      1928051\n",
       "2634       19776\n",
       "2193       51685\n",
       "14       1046284\n",
       "187       902930\n",
       "Name: songId, dtype: object"
      ]
     },
     "execution_count": 16,
     "metadata": {},
     "output_type": "execute_result"
    }
   ],
   "source": [
    "find_songs = get_recommendation(find_songId, cosine_sim).to_frame()\n"
   ]
  },
  {
   "cell_type": "code",
   "execution_count": 21,
   "metadata": {},
   "outputs": [
    {
     "data": {
      "text/plain": [
       "(55        418200\n",
       " 465     31383915\n",
       " 2656      104584\n",
       " 2626        8290\n",
       " 228       532449\n",
       " 2605        8302\n",
       " 2871     1538203\n",
       " 308      2070560\n",
       " 2699      422606\n",
       " 211     35831252\n",
       " Name: songId, dtype: object,\n",
       " 55       희재 (Edit Version)\n",
       " 465                     희재\n",
       " 2656               그리고 사랑해\n",
       " 2626                  처음처럼\n",
       " 228                    모르죠\n",
       " 2605               내게 오는 길\n",
       " 2871                    안녕\n",
       " 308                  듣고있나요\n",
       " 2699    백설공주를 사랑한 일곱번째 난장이\n",
       " 211                   이럴거면\n",
       " Name: title, dtype: object,\n",
       " 55           성시경\n",
       " 465          임한별\n",
       " 2656         이수영\n",
       " 2626         성시경\n",
       " 228          조영수\n",
       " 2605         성시경\n",
       " 2871         KCM\n",
       " 308          이승철\n",
       " 2699    쿨 (COOL)\n",
       " 211          전건호\n",
       " Name: artist, dtype: object)"
      ]
     },
     "execution_count": 21,
     "metadata": {},
     "output_type": "execute_result"
    }
   ],
   "source": [
    "get_recommendation('418168', cosine_sim)"
   ]
  },
  {
   "cell_type": "code",
   "execution_count": 26,
   "metadata": {},
   "outputs": [
    {
     "data": {
      "text/plain": [
       "['data/melon_cosine_sim.sim']"
      ]
     },
     "execution_count": 26,
     "metadata": {},
     "output_type": "execute_result"
    }
   ],
   "source": [
    "import joblib\n",
    "\n",
    "joblib.dump(cosine_sim, 'data/melon_cosine_sim.sim')"
   ]
  },
  {
   "cell_type": "code",
   "execution_count": 27,
   "metadata": {},
   "outputs": [],
   "source": [
    "new_cosine_sim = joblib.load('data/melon_cosine_sim.sim')"
   ]
  },
  {
   "cell_type": "code",
   "execution_count": 25,
   "metadata": {},
   "outputs": [
    {
     "data": {
      "text/plain": [
       "(0         418168\n",
       " 55        418200\n",
       " 2656      104584\n",
       " 391     31980352\n",
       " 2871     1538203\n",
       " 657       314402\n",
       " 785      4105693\n",
       " 656      1963424\n",
       " 2699      422606\n",
       " 2626        8290\n",
       " Name: songId, dtype: object,\n",
       " 0                       희재\n",
       " 55       희재 (Edit Version)\n",
       " 2656               그리고 사랑해\n",
       " 391                     위로\n",
       " 2871                    안녕\n",
       " 657                     후애\n",
       " 785               나를 잊지말아요\n",
       " 656                 듣고 있나요\n",
       " 2699    백설공주를 사랑한 일곱번째 난장이\n",
       " 2626                  처음처럼\n",
       " Name: title, dtype: object,\n",
       " 0             성시경\n",
       " 55            성시경\n",
       " 2656          이수영\n",
       " 391           권진아\n",
       " 2871          KCM\n",
       " 657         M.N.J\n",
       " 785     수지 (Suzy)\n",
       " 656           이승철\n",
       " 2699     쿨 (COOL)\n",
       " 2626          성시경\n",
       " Name: artist, dtype: object)"
      ]
     },
     "execution_count": 25,
     "metadata": {},
     "output_type": "execute_result"
    }
   ],
   "source": [
    "get_recommendation('31383915', new_cosine_sim)"
   ]
  }
 ],
 "metadata": {
  "kernelspec": {
   "display_name": "base",
   "language": "python",
   "name": "python3"
  },
  "language_info": {
   "codemirror_mode": {
    "name": "ipython",
    "version": 3
   },
   "file_extension": ".py",
   "mimetype": "text/x-python",
   "name": "python",
   "nbconvert_exporter": "python",
   "pygments_lexer": "ipython3",
   "version": "3.10.10"
  },
  "orig_nbformat": 4
 },
 "nbformat": 4,
 "nbformat_minor": 2
}
