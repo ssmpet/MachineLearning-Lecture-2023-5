{
 "cells": [
  {
   "cell_type": "code",
   "execution_count": 1,
   "metadata": {},
   "outputs": [],
   "source": [
    "import numpy as np\n",
    "import pandas as pd"
   ]
  },
  {
   "cell_type": "code",
   "execution_count": 2,
   "metadata": {},
   "outputs": [],
   "source": [
    "filename = 'data/melon_song_v2.csv'\n",
    "plist_filename1 = 'data/melon_playlist1.csv'\n",
    "plist_filename2 = 'data/melon_playlist2_v2.csv'"
   ]
  },
  {
   "cell_type": "code",
   "execution_count": 3,
   "metadata": {},
   "outputs": [
    {
     "data": {
      "text/plain": [
       "((6247, 14), (3845, 5), (60271, 4))"
      ]
     },
     "execution_count": 3,
     "metadata": {},
     "output_type": "execute_result"
    }
   ],
   "source": [
    "df = pd.read_csv(filename)\n",
    "plist1 = pd.read_csv(plist_filename1)\n",
    "plist2 = pd.read_csv(plist_filename2)\n",
    "df.shape, plist1.shape, plist2.shape"
   ]
  },
  {
   "cell_type": "code",
   "execution_count": 4,
   "metadata": {},
   "outputs": [
    {
     "name": "stdout",
     "output_type": "stream",
     "text": [
      "<class 'pandas.core.frame.DataFrame'>\n",
      "RangeIndex: 6247 entries, 0 to 6246\n",
      "Data columns (total 14 columns):\n",
      " #   Column     Non-Null Count  Dtype \n",
      "---  ------     --------------  ----- \n",
      " 0   songId     6247 non-null   int64 \n",
      " 1   title      6247 non-null   object\n",
      " 2   artist     6247 non-null   object\n",
      " 3   genre      6245 non-null   object\n",
      " 4   album      6247 non-null   object\n",
      " 5   lyricist   5849 non-null   object\n",
      " 6   composer   5845 non-null   object\n",
      " 7   date       6247 non-null   int64 \n",
      " 8   img        6247 non-null   object\n",
      " 9   comment    6247 non-null   int64 \n",
      " 10  like       6247 non-null   int64 \n",
      " 11  lyric      6247 non-null   object\n",
      " 12  plylstSeq  6126 non-null   object\n",
      " 13  total      6247 non-null   object\n",
      "dtypes: int64(4), object(10)\n",
      "memory usage: 683.4+ KB\n"
     ]
    }
   ],
   "source": [
    "df.info()"
   ]
  },
  {
   "cell_type": "code",
   "execution_count": 5,
   "metadata": {},
   "outputs": [
    {
     "data": {
      "text/plain": [
       "songId         0\n",
       "title          0\n",
       "artist         0\n",
       "genre          2\n",
       "album          0\n",
       "lyricist     398\n",
       "composer     402\n",
       "date           0\n",
       "img            0\n",
       "comment        0\n",
       "like           0\n",
       "lyric          0\n",
       "plylstSeq    121\n",
       "total          0\n",
       "dtype: int64"
      ]
     },
     "execution_count": 5,
     "metadata": {},
     "output_type": "execute_result"
    }
   ],
   "source": [
    "df.isna().sum()"
   ]
  },
  {
   "cell_type": "code",
   "execution_count": null,
   "metadata": {},
   "outputs": [],
   "source": [
    "df.head()"
   ]
  },
  {
   "cell_type": "code",
   "execution_count": 8,
   "metadata": {},
   "outputs": [
    {
     "name": "stdout",
     "output_type": "stream",
     "text": [
      "<class 'pandas.core.frame.DataFrame'>\n",
      "RangeIndex: 160459 entries, 0 to 160458\n",
      "Data columns (total 5 columns):\n",
      " #   Column     Non-Null Count   Dtype \n",
      "---  ------     --------------   ----- \n",
      " 0   plylstSeq  160459 non-null  int64 \n",
      " 1   songId     160459 non-null  int64 \n",
      " 2   title      160459 non-null  object\n",
      " 3   artist     160459 non-null  object\n",
      " 4   img        160459 non-null  object\n",
      "dtypes: int64(2), object(3)\n",
      "memory usage: 6.1+ MB\n"
     ]
    }
   ],
   "source": [
    "plist2.info()"
   ]
  },
  {
   "cell_type": "code",
   "execution_count": 7,
   "metadata": {},
   "outputs": [
    {
     "data": {
      "text/html": [
       "<div>\n",
       "<style scoped>\n",
       "    .dataframe tbody tr th:only-of-type {\n",
       "        vertical-align: middle;\n",
       "    }\n",
       "\n",
       "    .dataframe tbody tr th {\n",
       "        vertical-align: top;\n",
       "    }\n",
       "\n",
       "    .dataframe thead th {\n",
       "        text-align: right;\n",
       "    }\n",
       "</style>\n",
       "<table border=\"1\" class=\"dataframe\">\n",
       "  <thead>\n",
       "    <tr style=\"text-align: right;\">\n",
       "      <th></th>\n",
       "      <th>songId</th>\n",
       "      <th>title</th>\n",
       "      <th>artist</th>\n",
       "      <th>genre</th>\n",
       "      <th>album</th>\n",
       "      <th>lyricist</th>\n",
       "      <th>composer</th>\n",
       "      <th>date</th>\n",
       "      <th>img</th>\n",
       "      <th>comment</th>\n",
       "      <th>like</th>\n",
       "      <th>lyric</th>\n",
       "      <th>plylstSeq</th>\n",
       "      <th>total</th>\n",
       "    </tr>\n",
       "  </thead>\n",
       "  <tbody>\n",
       "    <tr>\n",
       "      <th>0</th>\n",
       "      <td>418168</td>\n",
       "      <td>희재</td>\n",
       "      <td>성시경</td>\n",
       "      <td>발라드 국내영화</td>\n",
       "      <td>국화꽃 향기 OST</td>\n",
       "      <td>양재선</td>\n",
       "      <td>MGR</td>\n",
       "      <td>20030201</td>\n",
       "      <td>https://cdnimg.melon.co.kr/cm/album/images/000...</td>\n",
       "      <td>332</td>\n",
       "      <td>138267</td>\n",
       "      <td>햇살은 우릴 위해 내리고 \\n바람도 서롤 감싸게 했죠 \\n우리 웃음속에 계절은 오고...</td>\n",
       "      <td>445029956 411111859</td>\n",
       "      <td>햇살 우릴 위해 내리다 바람 서 롤 감싸다 하다 우리 웃음 속 계절 오다 또 가다 ...</td>\n",
       "    </tr>\n",
       "    <tr>\n",
       "      <th>1</th>\n",
       "      <td>35609035</td>\n",
       "      <td>인생은 뷰티풀</td>\n",
       "      <td>김호중</td>\n",
       "      <td>발라드 국내영화</td>\n",
       "      <td>인생은 뷰티풀: 비타돌체</td>\n",
       "      <td>김호중</td>\n",
       "      <td>김호중</td>\n",
       "      <td>20220907</td>\n",
       "      <td>https://cdnimg.melon.co.kr/cm2/album/images/11...</td>\n",
       "      <td>197</td>\n",
       "      <td>17322</td>\n",
       "      <td>하나만 알고 둘은\\n잘 모르는 사람입니다\\n하루는 비틀거리고\\n하루는 뒤뚱거리고\\n...</td>\n",
       "      <td>457536944 474137187</td>\n",
       "      <td>하나 만 고 둘 자다 모르다 사람 이다 하루 비틀 거리 고 하루 뒤뚱거리 고 월요일...</td>\n",
       "    </tr>\n",
       "    <tr>\n",
       "      <th>2</th>\n",
       "      <td>1046278</td>\n",
       "      <td>서쪽 하늘</td>\n",
       "      <td>이승철</td>\n",
       "      <td>발라드 국내영화</td>\n",
       "      <td>청연 OST</td>\n",
       "      <td>이승철</td>\n",
       "      <td>윤명선</td>\n",
       "      <td>20051220</td>\n",
       "      <td>https://cdnimg.melon.co.kr/cm/album/images/003...</td>\n",
       "      <td>84</td>\n",
       "      <td>48109</td>\n",
       "      <td>서쪽하늘로 노을은 지고  \\n이젠 슬픔이 돼버린 그대를  \\n다시 부를수 없을 것 ...</td>\n",
       "      <td>426571097 405285190</td>\n",
       "      <td>서쪽하늘 노을 지고 젠 슬픔 돼다 버리다 그대 다시 부르다 없다 같다 또 한번 불다...</td>\n",
       "    </tr>\n",
       "    <tr>\n",
       "      <th>3</th>\n",
       "      <td>35609034</td>\n",
       "      <td>슬픈등</td>\n",
       "      <td>김호중</td>\n",
       "      <td>발라드 국내영화</td>\n",
       "      <td>인생은 뷰티풀: 비타돌체</td>\n",
       "      <td>김호중</td>\n",
       "      <td>김호중</td>\n",
       "      <td>20220907</td>\n",
       "      <td>https://cdnimg.melon.co.kr/cm2/album/images/11...</td>\n",
       "      <td>145</td>\n",
       "      <td>15389</td>\n",
       "      <td>누군가를 다시 만난다면\\n여전히 나는 너를\\n누군가를 다시 사랑하면\\n영원히 나는 ...</td>\n",
       "      <td>457536944 515278519</td>\n",
       "      <td>누군가 다시 만나다 여전하다 나 너 누군가 다시 사랑 하다 영원하다 나 너 다시 또...</td>\n",
       "    </tr>\n",
       "    <tr>\n",
       "      <th>4</th>\n",
       "      <td>35728845</td>\n",
       "      <td>고백 (영화 '동감' X 츄 (이달의 소녀))</td>\n",
       "      <td>츄(Chuu)</td>\n",
       "      <td>록/메탈 국내영화</td>\n",
       "      <td>고백 (영화 '동감' X 츄 (이달의 소녀))</td>\n",
       "      <td>강현민</td>\n",
       "      <td>강현민</td>\n",
       "      <td>20221016</td>\n",
       "      <td>https://cdnimg.melon.co.kr/cm2/album/images/11...</td>\n",
       "      <td>80</td>\n",
       "      <td>16902</td>\n",
       "      <td>말해야 하는데 네 앞에 서면\\n아무 말 못 하는 내가 미워져\\n용기를 내야 해 후회...</td>\n",
       "      <td>484732185 513801514</td>\n",
       "      <td>말 하다 하다 네 앞 서면 아무 말 못 하다 내 가 미우다 용기 내야 해 후회 하다...</td>\n",
       "    </tr>\n",
       "  </tbody>\n",
       "</table>\n",
       "</div>"
      ],
      "text/plain": [
       "     songId                      title   artist      genre   \n",
       "0    418168                         희재      성시경   발라드 국내영화  \\\n",
       "1  35609035                    인생은 뷰티풀      김호중   발라드 국내영화   \n",
       "2   1046278                      서쪽 하늘      이승철   발라드 국내영화   \n",
       "3  35609034                        슬픈등      김호중   발라드 국내영화   \n",
       "4  35728845  고백 (영화 '동감' X 츄 (이달의 소녀))  츄(Chuu)  록/메탈 국내영화   \n",
       "\n",
       "                       album lyricist composer      date   \n",
       "0                 국화꽃 향기 OST      양재선      MGR  20030201  \\\n",
       "1              인생은 뷰티풀: 비타돌체      김호중      김호중  20220907   \n",
       "2                     청연 OST      이승철      윤명선  20051220   \n",
       "3              인생은 뷰티풀: 비타돌체      김호중      김호중  20220907   \n",
       "4  고백 (영화 '동감' X 츄 (이달의 소녀))      강현민      강현민  20221016   \n",
       "\n",
       "                                                 img  comment    like   \n",
       "0  https://cdnimg.melon.co.kr/cm/album/images/000...      332  138267  \\\n",
       "1  https://cdnimg.melon.co.kr/cm2/album/images/11...      197   17322   \n",
       "2  https://cdnimg.melon.co.kr/cm/album/images/003...       84   48109   \n",
       "3  https://cdnimg.melon.co.kr/cm2/album/images/11...      145   15389   \n",
       "4  https://cdnimg.melon.co.kr/cm2/album/images/11...       80   16902   \n",
       "\n",
       "                                               lyric            plylstSeq   \n",
       "0  햇살은 우릴 위해 내리고 \\n바람도 서롤 감싸게 했죠 \\n우리 웃음속에 계절은 오고...  445029956 411111859  \\\n",
       "1  하나만 알고 둘은\\n잘 모르는 사람입니다\\n하루는 비틀거리고\\n하루는 뒤뚱거리고\\n...  457536944 474137187   \n",
       "2  서쪽하늘로 노을은 지고  \\n이젠 슬픔이 돼버린 그대를  \\n다시 부를수 없을 것 ...  426571097 405285190   \n",
       "3  누군가를 다시 만난다면\\n여전히 나는 너를\\n누군가를 다시 사랑하면\\n영원히 나는 ...  457536944 515278519   \n",
       "4  말해야 하는데 네 앞에 서면\\n아무 말 못 하는 내가 미워져\\n용기를 내야 해 후회...  484732185 513801514   \n",
       "\n",
       "                                               total  \n",
       "0  햇살 우릴 위해 내리다 바람 서 롤 감싸다 하다 우리 웃음 속 계절 오다 또 가다 ...  \n",
       "1  하나 만 고 둘 자다 모르다 사람 이다 하루 비틀 거리 고 하루 뒤뚱거리 고 월요일...  \n",
       "2  서쪽하늘 노을 지고 젠 슬픔 돼다 버리다 그대 다시 부르다 없다 같다 또 한번 불다...  \n",
       "3  누군가 다시 만나다 여전하다 나 너 누군가 다시 사랑 하다 영원하다 나 너 다시 또...  \n",
       "4  말 하다 하다 네 앞 서면 아무 말 못 하다 내 가 미우다 용기 내야 해 후회 하다...  "
      ]
     },
     "execution_count": 7,
     "metadata": {},
     "output_type": "execute_result"
    }
   ],
   "source": [
    "plist1.plylstSeq = plist1.plylstSeq.astype(str)\n",
    "plist2.songId = plist2.songId.astype(str)\n",
    "\n",
    "df.date.fillna(0, inplace=True)\n",
    "df.date = df.date.astype(int).astype(str)\n",
    "df.songId = df.songId.astype(str)\n",
    "df.fillna('', inplace=True)\n",
    "df.lyric = df.lyric.str.replace('\\r', '')\n",
    "df.head()"
   ]
  },
  {
   "cell_type": "code",
   "execution_count": 8,
   "metadata": {},
   "outputs": [
    {
     "data": {
      "text/html": [
       "<div>\n",
       "<style scoped>\n",
       "    .dataframe tbody tr th:only-of-type {\n",
       "        vertical-align: middle;\n",
       "    }\n",
       "\n",
       "    .dataframe tbody tr th {\n",
       "        vertical-align: top;\n",
       "    }\n",
       "\n",
       "    .dataframe thead th {\n",
       "        text-align: right;\n",
       "    }\n",
       "</style>\n",
       "<table border=\"1\" class=\"dataframe\">\n",
       "  <thead>\n",
       "    <tr style=\"text-align: right;\">\n",
       "      <th></th>\n",
       "      <th>songId</th>\n",
       "      <th>title</th>\n",
       "      <th>artist</th>\n",
       "      <th>img</th>\n",
       "    </tr>\n",
       "  </thead>\n",
       "  <tbody>\n",
       "    <tr>\n",
       "      <th>0</th>\n",
       "      <td>33213267</td>\n",
       "      <td>Love Song</td>\n",
       "      <td>Why Don't We</td>\n",
       "      <td>https://cdnimg.melon.co.kr/cm2/album/images/10...</td>\n",
       "    </tr>\n",
       "    <tr>\n",
       "      <th>1</th>\n",
       "      <td>32544401</td>\n",
       "      <td>Ghost In A Flower</td>\n",
       "      <td>Yorushika</td>\n",
       "      <td>https://cdnimg.melon.co.kr/cm2/album/images/10...</td>\n",
       "    </tr>\n",
       "    <tr>\n",
       "      <th>2</th>\n",
       "      <td>33502105</td>\n",
       "      <td>Every Second</td>\n",
       "      <td>Mina Okabe</td>\n",
       "      <td>https://cdnimg.melon.co.kr/cm2/album/images/10...</td>\n",
       "    </tr>\n",
       "    <tr>\n",
       "      <th>3</th>\n",
       "      <td>33469725</td>\n",
       "      <td>Loving You Girl (Feat. Hkeem)</td>\n",
       "      <td>Peder Elias</td>\n",
       "      <td>https://cdnimg.melon.co.kr/cm2/album/images/10...</td>\n",
       "    </tr>\n",
       "    <tr>\n",
       "      <th>4</th>\n",
       "      <td>32464068</td>\n",
       "      <td>SKYLINE</td>\n",
       "      <td>김세정</td>\n",
       "      <td>https://cdnimg.melon.co.kr/cm2/album/images/10...</td>\n",
       "    </tr>\n",
       "  </tbody>\n",
       "</table>\n",
       "</div>"
      ],
      "text/plain": [
       "     songId                          title        artist   \n",
       "0  33213267                      Love Song  Why Don't We  \\\n",
       "1  32544401              Ghost In A Flower     Yorushika   \n",
       "2  33502105                   Every Second    Mina Okabe   \n",
       "3  33469725  Loving You Girl (Feat. Hkeem)   Peder Elias   \n",
       "4  32464068                        SKYLINE           김세정   \n",
       "\n",
       "                                                 img  \n",
       "0  https://cdnimg.melon.co.kr/cm2/album/images/10...  \n",
       "1  https://cdnimg.melon.co.kr/cm2/album/images/10...  \n",
       "2  https://cdnimg.melon.co.kr/cm2/album/images/10...  \n",
       "3  https://cdnimg.melon.co.kr/cm2/album/images/10...  \n",
       "4  https://cdnimg.melon.co.kr/cm2/album/images/10...  "
      ]
     },
     "execution_count": 8,
     "metadata": {},
     "output_type": "execute_result"
    }
   ],
   "source": [
    "plist2.head()"
   ]
  },
  {
   "cell_type": "code",
   "execution_count": 36,
   "metadata": {},
   "outputs": [
    {
     "name": "stdout",
     "output_type": "stream",
     "text": [
      "(60271, 4) 60271\n",
      "(60271, 4) 60271\n"
     ]
    },
    {
     "data": {
      "text/html": [
       "<div>\n",
       "<style scoped>\n",
       "    .dataframe tbody tr th:only-of-type {\n",
       "        vertical-align: middle;\n",
       "    }\n",
       "\n",
       "    .dataframe tbody tr th {\n",
       "        vertical-align: top;\n",
       "    }\n",
       "\n",
       "    .dataframe thead th {\n",
       "        text-align: right;\n",
       "    }\n",
       "</style>\n",
       "<table border=\"1\" class=\"dataframe\">\n",
       "  <thead>\n",
       "    <tr style=\"text-align: right;\">\n",
       "      <th></th>\n",
       "      <th>songId</th>\n",
       "      <th>title</th>\n",
       "      <th>artist</th>\n",
       "      <th>img</th>\n",
       "    </tr>\n",
       "  </thead>\n",
       "  <tbody>\n",
       "    <tr>\n",
       "      <th>0</th>\n",
       "      <td>33213267</td>\n",
       "      <td>Love Song</td>\n",
       "      <td>Why Don't We</td>\n",
       "      <td>https://cdnimg.melon.co.kr/cm2/album/images/10...</td>\n",
       "    </tr>\n",
       "    <tr>\n",
       "      <th>1</th>\n",
       "      <td>32544401</td>\n",
       "      <td>Ghost In A Flower</td>\n",
       "      <td>Yorushika</td>\n",
       "      <td>https://cdnimg.melon.co.kr/cm2/album/images/10...</td>\n",
       "    </tr>\n",
       "    <tr>\n",
       "      <th>2</th>\n",
       "      <td>33502105</td>\n",
       "      <td>Every Second</td>\n",
       "      <td>Mina Okabe</td>\n",
       "      <td>https://cdnimg.melon.co.kr/cm2/album/images/10...</td>\n",
       "    </tr>\n",
       "    <tr>\n",
       "      <th>3</th>\n",
       "      <td>33469725</td>\n",
       "      <td>Loving You Girl (Feat. Hkeem)</td>\n",
       "      <td>Peder Elias</td>\n",
       "      <td>https://cdnimg.melon.co.kr/cm2/album/images/10...</td>\n",
       "    </tr>\n",
       "    <tr>\n",
       "      <th>4</th>\n",
       "      <td>32464068</td>\n",
       "      <td>SKYLINE</td>\n",
       "      <td>김세정</td>\n",
       "      <td>https://cdnimg.melon.co.kr/cm2/album/images/10...</td>\n",
       "    </tr>\n",
       "  </tbody>\n",
       "</table>\n",
       "</div>"
      ],
      "text/plain": [
       "     songId                          title        artist   \n",
       "0  33213267                      Love Song  Why Don't We  \\\n",
       "1  32544401              Ghost In A Flower     Yorushika   \n",
       "2  33502105                   Every Second    Mina Okabe   \n",
       "3  33469725  Loving You Girl (Feat. Hkeem)   Peder Elias   \n",
       "4  32464068                        SKYLINE           김세정   \n",
       "\n",
       "                                                 img  \n",
       "0  https://cdnimg.melon.co.kr/cm2/album/images/10...  \n",
       "1  https://cdnimg.melon.co.kr/cm2/album/images/10...  \n",
       "2  https://cdnimg.melon.co.kr/cm2/album/images/10...  \n",
       "3  https://cdnimg.melon.co.kr/cm2/album/images/10...  \n",
       "4  https://cdnimg.melon.co.kr/cm2/album/images/10...  "
      ]
     },
     "execution_count": 36,
     "metadata": {},
     "output_type": "execute_result"
    }
   ],
   "source": [
    "# plist2 = plist2[['songId', 'title', 'artist', 'img']]\n",
    "# print(plist2.shape, plist2.songId.nunique())\n",
    "# plist2.drop_duplicates(subset=['songId'], inplace=True)\n",
    "# print(plist2.shape, plist2.songId.nunique())\n",
    "# plist2.head()\n"
   ]
  },
  {
   "cell_type": "code",
   "execution_count": 12,
   "metadata": {},
   "outputs": [
    {
     "data": {
      "text/plain": [
       "(5947, 4)"
      ]
     },
     "execution_count": 12,
     "metadata": {},
     "output_type": "execute_result"
    }
   ],
   "source": [
    "# melon_song에 들어있는 songId가 플레이리스트에 포함되어 있는 수\n",
    "# 60271 - 5947 = 54324 개의 노래는 melon_song 데이터에 없다.\n",
    "# df_song_list = df.songId.values\n",
    "# plist2[plist2.songId.isin(df_song_list)].shape"
   ]
  },
  {
   "attachments": {},
   "cell_type": "markdown",
   "metadata": {},
   "source": [
    "### 1. 찾을 노래 제목과 아티스트 입력 받기"
   ]
  },
  {
   "cell_type": "code",
   "execution_count": 78,
   "metadata": {},
   "outputs": [
    {
     "name": "stdout",
     "output_type": "stream",
     "text": [
      "!\"#$%&'()*+,-./:;<=>?@[\\]^_`{|}~\n"
     ]
    }
   ],
   "source": [
    "# 키워드 바꿔가면서 찾아보기\n",
    "import string, re\n",
    "print(string.punctuation)\n",
    "\n",
    "# 에잇(Prod.&Feat. SUGA of BTS)\n",
    "# 아이유\n",
    "\n",
    "\n",
    "keyword_title = '에잇(Prod.&Feat. SUGA of BTS)'\n",
    "keyword_artist = '아이유'\n",
    "keyword_title = re.sub('['+string.punctuation+']', '', keyword_title)\n",
    "keyword_artist = re.sub('['+string.punctuation+']', '', keyword_artist)"
   ]
  },
  {
   "cell_type": "code",
   "execution_count": 79,
   "metadata": {},
   "outputs": [
    {
     "name": "stdout",
     "output_type": "stream",
     "text": [
      "에잇ProdFeat SUGA of BTS 아이유\n"
     ]
    }
   ],
   "source": [
    "# keyword_title = keyword_title.replace(' ', '|')\n",
    "# keyword_artist = keyword_artist.replace(' ', '&')\n",
    "print(keyword_title, keyword_artist)"
   ]
  },
  {
   "cell_type": "code",
   "execution_count": 47,
   "metadata": {},
   "outputs": [
    {
     "name": "stdout",
     "output_type": "stream",
     "text": [
      "['jack', 'bob', 'WAT.SON', 'jake', 'mike', 'don', 'george', 'natasha', 'jill', 'ann', \"JOHN'\", 'johnSON']\n",
      "son\n"
     ]
    },
    {
     "data": {
      "text/html": [
       "<div>\n",
       "<style scoped>\n",
       "    .dataframe tbody tr th:only-of-type {\n",
       "        vertical-align: middle;\n",
       "    }\n",
       "\n",
       "    .dataframe tbody tr th {\n",
       "        vertical-align: top;\n",
       "    }\n",
       "\n",
       "    .dataframe thead th {\n",
       "        text-align: right;\n",
       "    }\n",
       "</style>\n",
       "<table border=\"1\" class=\"dataframe\">\n",
       "  <thead>\n",
       "    <tr style=\"text-align: right;\">\n",
       "      <th></th>\n",
       "      <th>ser</th>\n",
       "    </tr>\n",
       "  </thead>\n",
       "  <tbody>\n",
       "    <tr>\n",
       "      <th>2</th>\n",
       "      <td>WAT.SON</td>\n",
       "    </tr>\n",
       "    <tr>\n",
       "      <th>11</th>\n",
       "      <td>johnSON</td>\n",
       "    </tr>\n",
       "  </tbody>\n",
       "</table>\n",
       "</div>"
      ],
      "text/plain": [
       "        ser\n",
       "2   WAT.SON\n",
       "11  johnSON"
      ]
     },
     "execution_count": 47,
     "metadata": {},
     "output_type": "execute_result"
    }
   ],
   "source": [
    "names = ['jack', 'bob', 'WAT.SON', 'jake', 'mike', 'don', 'george', 'natasha', 'jill', 'ann', 'JOHN\\'', 'johnSON']\n",
    "print(names)\n",
    "# ser = pd.Series(names)\n",
    "ser = pd.DataFrame(names, columns=['ser'])\n",
    "\n",
    "keyword = 'SO.N'.lower()\n",
    "keyword = re.sub('['+string.punctuation+']', '', keyword)\n",
    "print(keyword)\n",
    "\n",
    "ser[ser.ser.str.lower().str.replace('['+string.punctuation+']','').str.contains(keyword)]"
   ]
  },
  {
   "cell_type": "code",
   "execution_count": null,
   "metadata": {},
   "outputs": [],
   "source": []
  },
  {
   "cell_type": "code",
   "execution_count": 80,
   "metadata": {},
   "outputs": [
    {
     "data": {
      "text/html": [
       "<div>\n",
       "<style scoped>\n",
       "    .dataframe tbody tr th:only-of-type {\n",
       "        vertical-align: middle;\n",
       "    }\n",
       "\n",
       "    .dataframe tbody tr th {\n",
       "        vertical-align: top;\n",
       "    }\n",
       "\n",
       "    .dataframe thead th {\n",
       "        text-align: right;\n",
       "    }\n",
       "</style>\n",
       "<table border=\"1\" class=\"dataframe\">\n",
       "  <thead>\n",
       "    <tr style=\"text-align: right;\">\n",
       "      <th></th>\n",
       "      <th>songId</th>\n",
       "      <th>title</th>\n",
       "      <th>artist</th>\n",
       "      <th>genre</th>\n",
       "      <th>album</th>\n",
       "      <th>lyricist</th>\n",
       "      <th>composer</th>\n",
       "      <th>date</th>\n",
       "      <th>img</th>\n",
       "      <th>comment</th>\n",
       "      <th>like</th>\n",
       "      <th>lyric</th>\n",
       "      <th>plylstSeq</th>\n",
       "      <th>total</th>\n",
       "    </tr>\n",
       "  </thead>\n",
       "  <tbody>\n",
       "    <tr>\n",
       "      <th>3435</th>\n",
       "      <td>32578498</td>\n",
       "      <td>에잇(Prod.&amp;Feat. SUGA of BTS)</td>\n",
       "      <td>아이유</td>\n",
       "      <td>록/메탈</td>\n",
       "      <td>에잇</td>\n",
       "      <td>아이유</td>\n",
       "      <td>SUGA</td>\n",
       "      <td>20200506</td>\n",
       "      <td>https://cdnimg.melon.co.kr/cm2/album/images/10...</td>\n",
       "      <td>10041</td>\n",
       "      <td>392210</td>\n",
       "      <td>So are you happy now\\nFinally happy now are yo...</td>\n",
       "      <td>478102836 411111859</td>\n",
       "      <td>So are you happy now Finally happy now are you...</td>\n",
       "    </tr>\n",
       "  </tbody>\n",
       "</table>\n",
       "</div>"
      ],
      "text/plain": [
       "        songId                        title artist genre album lyricist   \n",
       "3435  32578498  에잇(Prod.&Feat. SUGA of BTS)    아이유  록/메탈    에잇      아이유  \\\n",
       "\n",
       "     composer      date                                                img   \n",
       "3435     SUGA  20200506  https://cdnimg.melon.co.kr/cm2/album/images/10...  \\\n",
       "\n",
       "      comment    like                                              lyric   \n",
       "3435    10041  392210  So are you happy now\\nFinally happy now are yo...  \\\n",
       "\n",
       "                plylstSeq                                              total  \n",
       "3435  478102836 411111859  So are you happy now Finally happy now are you...  "
      ]
     },
     "execution_count": 80,
     "metadata": {},
     "output_type": "execute_result"
    }
   ],
   "source": [
    "songIds = df[df.title.str.replace('['+string.punctuation+']','', regex=True).str.contains(keyword_title, case=False)\n",
    "              & df.artist.str.replace('['+string.punctuation+']','', regex=True).str.contains(keyword_artist, case=False)]\n",
    "songIds"
   ]
  },
  {
   "cell_type": "code",
   "execution_count": 67,
   "metadata": {},
   "outputs": [
    {
     "data": {
      "text/html": [
       "<div>\n",
       "<style scoped>\n",
       "    .dataframe tbody tr th:only-of-type {\n",
       "        vertical-align: middle;\n",
       "    }\n",
       "\n",
       "    .dataframe tbody tr th {\n",
       "        vertical-align: top;\n",
       "    }\n",
       "\n",
       "    .dataframe thead th {\n",
       "        text-align: right;\n",
       "    }\n",
       "</style>\n",
       "<table border=\"1\" class=\"dataframe\">\n",
       "  <thead>\n",
       "    <tr style=\"text-align: right;\">\n",
       "      <th></th>\n",
       "      <th>songId</th>\n",
       "      <th>title</th>\n",
       "      <th>artist</th>\n",
       "      <th>genre</th>\n",
       "      <th>album</th>\n",
       "      <th>lyricist</th>\n",
       "      <th>composer</th>\n",
       "      <th>date</th>\n",
       "      <th>img</th>\n",
       "      <th>comment</th>\n",
       "      <th>like</th>\n",
       "      <th>lyric</th>\n",
       "      <th>plylstSeq</th>\n",
       "      <th>total</th>\n",
       "    </tr>\n",
       "  </thead>\n",
       "  <tbody>\n",
       "  </tbody>\n",
       "</table>\n",
       "</div>"
      ],
      "text/plain": [
       "Empty DataFrame\n",
       "Columns: [songId, title, artist, genre, album, lyricist, composer, date, img, comment, like, lyric, plylstSeq, total]\n",
       "Index: []"
      ]
     },
     "execution_count": 67,
     "metadata": {},
     "output_type": "execute_result"
    }
   ],
   "source": [
    "# 노래 제목과 가수로 찾기\n",
    "songIds = df[df.title.str.lower().str.replace('['+string.punctuation+']','').str.contains(keyword_title)\n",
    "              & df.artist.str.lower().str.replace('['+string.punctuation+']','').str.contains(keyword_artist)]\n",
    "songIds"
   ]
  },
  {
   "cell_type": "code",
   "execution_count": 15,
   "metadata": {},
   "outputs": [
    {
     "data": {
      "text/html": [
       "<div>\n",
       "<style scoped>\n",
       "    .dataframe tbody tr th:only-of-type {\n",
       "        vertical-align: middle;\n",
       "    }\n",
       "\n",
       "    .dataframe tbody tr th {\n",
       "        vertical-align: top;\n",
       "    }\n",
       "\n",
       "    .dataframe thead th {\n",
       "        text-align: right;\n",
       "    }\n",
       "</style>\n",
       "<table border=\"1\" class=\"dataframe\">\n",
       "  <thead>\n",
       "    <tr style=\"text-align: right;\">\n",
       "      <th></th>\n",
       "      <th>songId</th>\n",
       "      <th>title</th>\n",
       "      <th>artist</th>\n",
       "      <th>genre</th>\n",
       "      <th>album</th>\n",
       "      <th>lyricist</th>\n",
       "      <th>composer</th>\n",
       "      <th>date</th>\n",
       "      <th>img</th>\n",
       "      <th>comment</th>\n",
       "      <th>like</th>\n",
       "      <th>lyric</th>\n",
       "      <th>plylstSeq</th>\n",
       "    </tr>\n",
       "  </thead>\n",
       "  <tbody>\n",
       "    <tr>\n",
       "      <th>53</th>\n",
       "      <td>35561629</td>\n",
       "      <td>아무 일도, 아무것도</td>\n",
       "      <td>송이한</td>\n",
       "      <td>발라드 국내영화</td>\n",
       "      <td>아무 일도, 아무것도 (뷰티풀 모먼트 OST 스페셜 트랙)</td>\n",
       "      <td>이기환</td>\n",
       "      <td>이기환</td>\n",
       "      <td>20220828</td>\n",
       "      <td>https://cdnimg.melon.co.kr/cm2/album/images/11...</td>\n",
       "      <td>2</td>\n",
       "      <td>1100</td>\n",
       "      <td>따듯했던 그날 속에 우리는\\n차가워진 흔적들로 남아\\n지우려 하면 할수록 다시\\n반...</td>\n",
       "      <td>401004189 500439113</td>\n",
       "    </tr>\n",
       "    <tr>\n",
       "      <th>234</th>\n",
       "      <td>35725437</td>\n",
       "      <td>아무 일도, 아무것도</td>\n",
       "      <td>송이한</td>\n",
       "      <td>발라드 국내영화</td>\n",
       "      <td>뷰티풀 모먼트 OST</td>\n",
       "      <td>이기환</td>\n",
       "      <td>이기환</td>\n",
       "      <td>20221014</td>\n",
       "      <td>https://cdnimg.melon.co.kr/cm2/album/images/11...</td>\n",
       "      <td>0</td>\n",
       "      <td>49</td>\n",
       "      <td>따듯했던 그날 속에 우리는\\n차가워진 흔적들로 남아\\n지우려 하면 할수록 다시\\n반...</td>\n",
       "      <td></td>\n",
       "    </tr>\n",
       "  </tbody>\n",
       "</table>\n",
       "</div>"
      ],
      "text/plain": [
       "       songId        title artist     genre                             album   \n",
       "53   35561629  아무 일도, 아무것도    송이한  발라드 국내영화  아무 일도, 아무것도 (뷰티풀 모먼트 OST 스페셜 트랙)  \\\n",
       "234  35725437  아무 일도, 아무것도    송이한  발라드 국내영화                       뷰티풀 모먼트 OST   \n",
       "\n",
       "    lyricist composer      date   \n",
       "53       이기환      이기환  20220828  \\\n",
       "234      이기환      이기환  20221014   \n",
       "\n",
       "                                                   img  comment  like   \n",
       "53   https://cdnimg.melon.co.kr/cm2/album/images/11...        2  1100  \\\n",
       "234  https://cdnimg.melon.co.kr/cm2/album/images/11...        0    49   \n",
       "\n",
       "                                                 lyric            plylstSeq  \n",
       "53   따듯했던 그날 속에 우리는\\n차가워진 흔적들로 남아\\n지우려 하면 할수록 다시\\n반...  401004189 500439113  \n",
       "234  따듯했던 그날 속에 우리는\\n차가워진 흔적들로 남아\\n지우려 하면 할수록 다시\\n반...                       "
      ]
     },
     "execution_count": 15,
     "metadata": {},
     "output_type": "execute_result"
    }
   ],
   "source": [
    "# 첫번째 songId로 검색해 보기 위해(원하는 것은 사용자가 선택하도록)\n",
    "songId = songIds.songId.values[0]\n",
    "songIds\n"
   ]
  },
  {
   "cell_type": "code",
   "execution_count": 16,
   "metadata": {},
   "outputs": [
    {
     "data": {
      "text/html": [
       "<div>\n",
       "<style scoped>\n",
       "    .dataframe tbody tr th:only-of-type {\n",
       "        vertical-align: middle;\n",
       "    }\n",
       "\n",
       "    .dataframe tbody tr th {\n",
       "        vertical-align: top;\n",
       "    }\n",
       "\n",
       "    .dataframe thead th {\n",
       "        text-align: right;\n",
       "    }\n",
       "</style>\n",
       "<table border=\"1\" class=\"dataframe\">\n",
       "  <thead>\n",
       "    <tr style=\"text-align: right;\">\n",
       "      <th></th>\n",
       "      <th>plylstSeq</th>\n",
       "      <th>title</th>\n",
       "      <th>tag</th>\n",
       "      <th>like</th>\n",
       "      <th>songIds</th>\n",
       "    </tr>\n",
       "  </thead>\n",
       "  <tbody>\n",
       "    <tr>\n",
       "      <th>222</th>\n",
       "      <td>500439113</td>\n",
       "      <td>이별 후 남자들이 노래방에서 목 놓아 부르는 발라드</td>\n",
       "      <td>#이별 #발라드 #남자노래방 #노래방 #애창곡 #사랑 #슬픈 #헤어짐 #록발라드 ...</td>\n",
       "      <td>1521</td>\n",
       "      <td>313556 36180700 35890454 34326186 505380 32059...</td>\n",
       "    </tr>\n",
       "    <tr>\n",
       "      <th>763</th>\n",
       "      <td>401004189</td>\n",
       "      <td>센치해지고 싶을 때 듣는 감성적인 곡</td>\n",
       "      <td>#센치 #발라드 #감성적인 #이별 #사랑 #먹먹해지는 #감성 #가요</td>\n",
       "      <td>2707</td>\n",
       "      <td>35826045 35757406 35915845 35766146 35730698 3...</td>\n",
       "    </tr>\n",
       "    <tr>\n",
       "      <th>3606</th>\n",
       "      <td>498344924</td>\n",
       "      <td>잔잔한 남자 인디_발라드</td>\n",
       "      <td>#발라드 #감성 #감미로운 #남자보컬 #노래방 #잔잔한 #비오는날 #드라이브 #새...</td>\n",
       "      <td>112</td>\n",
       "      <td>36410581 36370396 36350275 35505758 36334401 3...</td>\n",
       "    </tr>\n",
       "  </tbody>\n",
       "</table>\n",
       "</div>"
      ],
      "text/plain": [
       "      plylstSeq                         title   \n",
       "222   500439113  이별 후 남자들이 노래방에서 목 놓아 부르는 발라드  \\\n",
       "763   401004189          센치해지고 싶을 때 듣는 감성적인 곡   \n",
       "3606  498344924                 잔잔한 남자 인디_발라드   \n",
       "\n",
       "                                                    tag  like   \n",
       "222    #이별 #발라드 #남자노래방 #노래방 #애창곡 #사랑 #슬픈 #헤어짐 #록발라드 ...  1521  \\\n",
       "763              #센치 #발라드 #감성적인 #이별 #사랑 #먹먹해지는 #감성 #가요   2707   \n",
       "3606   #발라드 #감성 #감미로운 #남자보컬 #노래방 #잔잔한 #비오는날 #드라이브 #새...   112   \n",
       "\n",
       "                                                songIds  \n",
       "222   313556 36180700 35890454 34326186 505380 32059...  \n",
       "763   35826045 35757406 35915845 35766146 35730698 3...  \n",
       "3606  36410581 36370396 36350275 35505758 36334401 3...  "
      ]
     },
     "execution_count": 16,
     "metadata": {},
     "output_type": "execute_result"
    }
   ],
   "source": [
    "# 플레이리스트1에서  해당 songId가 들어가 있는 데이터프레임 추출\n",
    "# 넘겨받는 데이터가 하나도 없을 경우 처리\n",
    "plist1[plist1.songIds.str.contains(songId)]"
   ]
  },
  {
   "cell_type": "code",
   "execution_count": 17,
   "metadata": {},
   "outputs": [],
   "source": [
    "# 가장 많이 들어간 tag 찾기\n",
    "tags = np.unique(' '.join(plist1[plist1.songIds.str.contains(songId)]['tag'].values).split(), return_counts=True)"
   ]
  },
  {
   "cell_type": "code",
   "execution_count": 18,
   "metadata": {},
   "outputs": [
    {
     "data": {
      "text/html": [
       "<div>\n",
       "<style scoped>\n",
       "    .dataframe tbody tr th:only-of-type {\n",
       "        vertical-align: middle;\n",
       "    }\n",
       "\n",
       "    .dataframe tbody tr th {\n",
       "        vertical-align: top;\n",
       "    }\n",
       "\n",
       "    .dataframe thead th {\n",
       "        text-align: right;\n",
       "    }\n",
       "</style>\n",
       "<table border=\"1\" class=\"dataframe\">\n",
       "  <thead>\n",
       "    <tr style=\"text-align: right;\">\n",
       "      <th></th>\n",
       "      <th>tag</th>\n",
       "      <th>count</th>\n",
       "    </tr>\n",
       "  </thead>\n",
       "  <tbody>\n",
       "    <tr>\n",
       "      <th>0</th>\n",
       "      <td>#가요</td>\n",
       "      <td>1</td>\n",
       "    </tr>\n",
       "    <tr>\n",
       "      <th>1</th>\n",
       "      <td>#가을</td>\n",
       "      <td>1</td>\n",
       "    </tr>\n",
       "    <tr>\n",
       "      <th>2</th>\n",
       "      <td>#감미로운</td>\n",
       "      <td>1</td>\n",
       "    </tr>\n",
       "    <tr>\n",
       "      <th>3</th>\n",
       "      <td>#감성</td>\n",
       "      <td>2</td>\n",
       "    </tr>\n",
       "    <tr>\n",
       "      <th>4</th>\n",
       "      <td>#감성적인</td>\n",
       "      <td>1</td>\n",
       "    </tr>\n",
       "  </tbody>\n",
       "</table>\n",
       "</div>"
      ],
      "text/plain": [
       "     tag  count\n",
       "0    #가요      1\n",
       "1    #가을      1\n",
       "2  #감미로운      1\n",
       "3    #감성      2\n",
       "4  #감성적인      1"
      ]
     },
     "execution_count": 18,
     "metadata": {},
     "output_type": "execute_result"
    }
   ],
   "source": [
    "df_tags = pd.DataFrame({'tag' : tags[0], 'count' : tags[1]})\n",
    "df_tags.head()"
   ]
  },
  {
   "cell_type": "code",
   "execution_count": 19,
   "metadata": {},
   "outputs": [
    {
     "data": {
      "text/plain": [
       "'#발라드 #감성'"
      ]
     },
     "execution_count": 19,
     "metadata": {},
     "output_type": "execute_result"
    }
   ],
   "source": [
    "str_tags = ' '.join(df_tags.sort_values('count', ascending=False).head(2)['tag'])\n",
    "str_tags"
   ]
  },
  {
   "cell_type": "code",
   "execution_count": 20,
   "metadata": {},
   "outputs": [],
   "source": [
    "# 플레이리스트에서 songIds 값들을 합쳐 자기자신은 지우고 리스트로 분리\n",
    "# 가장 많이 들어가 songId 찾기\n",
    "songs = np.unique(' '.join(plist1[plist1.songIds.str.contains(songId)]['songIds'].values).replace(songId, '').split(), return_counts=True)"
   ]
  },
  {
   "cell_type": "code",
   "execution_count": 21,
   "metadata": {},
   "outputs": [],
   "source": [
    "df_songs = pd.DataFrame({'songId' : songs[0], 'count' : songs[1]})"
   ]
  },
  {
   "cell_type": "code",
   "execution_count": 22,
   "metadata": {},
   "outputs": [
    {
     "data": {
      "text/plain": [
       "array(['35826045', '35690841', '35692347', '35331651', '35662930'],\n",
       "      dtype=object)"
      ]
     },
     "execution_count": 22,
     "metadata": {},
     "output_type": "execute_result"
    }
   ],
   "source": [
    "song_list = df_songs.sort_values('count', ascending=False).head(5)['songId'].values\n",
    "song_list"
   ]
  },
  {
   "cell_type": "code",
   "execution_count": 25,
   "metadata": {},
   "outputs": [
    {
     "data": {
      "text/html": [
       "<div>\n",
       "<style scoped>\n",
       "    .dataframe tbody tr th:only-of-type {\n",
       "        vertical-align: middle;\n",
       "    }\n",
       "\n",
       "    .dataframe tbody tr th {\n",
       "        vertical-align: top;\n",
       "    }\n",
       "\n",
       "    .dataframe thead th {\n",
       "        text-align: right;\n",
       "    }\n",
       "</style>\n",
       "<table border=\"1\" class=\"dataframe\">\n",
       "  <thead>\n",
       "    <tr style=\"text-align: right;\">\n",
       "      <th></th>\n",
       "      <th>songId</th>\n",
       "      <th>title</th>\n",
       "      <th>artist</th>\n",
       "      <th>img</th>\n",
       "    </tr>\n",
       "  </thead>\n",
       "  <tbody>\n",
       "    <tr>\n",
       "      <th>2777</th>\n",
       "      <td>35331651</td>\n",
       "      <td>이런 남자</td>\n",
       "      <td>한동근</td>\n",
       "      <td>https://cdnimg.melon.co.kr/cm2/album/images/10...</td>\n",
       "    </tr>\n",
       "    <tr>\n",
       "      <th>30826</th>\n",
       "      <td>35662930</td>\n",
       "      <td>우연히 마주친다면</td>\n",
       "      <td>노틸러스</td>\n",
       "      <td>https://cdnimg.melon.co.kr/cm2/album/images/11...</td>\n",
       "    </tr>\n",
       "    <tr>\n",
       "      <th>32051</th>\n",
       "      <td>35826045</td>\n",
       "      <td>너야</td>\n",
       "      <td>주호</td>\n",
       "      <td>https://cdnimg.melon.co.kr/cm2/album/images/11...</td>\n",
       "    </tr>\n",
       "    <tr>\n",
       "      <th>32058</th>\n",
       "      <td>35690841</td>\n",
       "      <td>친구보다 더 못한 사이</td>\n",
       "      <td>정동원</td>\n",
       "      <td>https://cdnimg.melon.co.kr/cm2/album/images/11...</td>\n",
       "    </tr>\n",
       "    <tr>\n",
       "      <th>32060</th>\n",
       "      <td>35692347</td>\n",
       "      <td>낮의 별</td>\n",
       "      <td>박제업</td>\n",
       "      <td>https://cdnimg.melon.co.kr/cm2/album/images/11...</td>\n",
       "    </tr>\n",
       "  </tbody>\n",
       "</table>\n",
       "</div>"
      ],
      "text/plain": [
       "         songId         title artist   \n",
       "2777   35331651         이런 남자    한동근  \\\n",
       "30826  35662930     우연히 마주친다면   노틸러스   \n",
       "32051  35826045            너야     주호   \n",
       "32058  35690841  친구보다 더 못한 사이    정동원   \n",
       "32060  35692347          낮의 별    박제업   \n",
       "\n",
       "                                                     img  \n",
       "2777   https://cdnimg.melon.co.kr/cm2/album/images/10...  \n",
       "30826  https://cdnimg.melon.co.kr/cm2/album/images/11...  \n",
       "32051  https://cdnimg.melon.co.kr/cm2/album/images/11...  \n",
       "32058  https://cdnimg.melon.co.kr/cm2/album/images/11...  \n",
       "32060  https://cdnimg.melon.co.kr/cm2/album/images/11...  "
      ]
     },
     "execution_count": 25,
     "metadata": {},
     "output_type": "execute_result"
    }
   ],
   "source": [
    "# 해당 songId 들 정보 출력\n",
    "# 나중에 to_dict()로 반환\n",
    "# 없으면 플레이리스트2에 있는 songId 에서 정보 가져오기\n",
    "if df[df.songId.isin(song_list)][['songId', 'title', 'artist', 'genre', 'album', 'lyricist', 'composer']].empty:\n",
    "    tmp = plist2[plist2.songId.isin(song_list)]\n",
    "\n",
    "tmp"
   ]
  },
  {
   "cell_type": "code",
   "execution_count": null,
   "metadata": {},
   "outputs": [],
   "source": []
  }
 ],
 "metadata": {
  "kernelspec": {
   "display_name": "base",
   "language": "python",
   "name": "python3"
  },
  "language_info": {
   "codemirror_mode": {
    "name": "ipython",
    "version": 3
   },
   "file_extension": ".py",
   "mimetype": "text/x-python",
   "name": "python",
   "nbconvert_exporter": "python",
   "pygments_lexer": "ipython3",
   "version": "3.10.10"
  },
  "orig_nbformat": 4
 },
 "nbformat": 4,
 "nbformat_minor": 2
}
