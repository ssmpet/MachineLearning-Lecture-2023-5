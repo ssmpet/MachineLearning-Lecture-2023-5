{
 "cells": [
  {
   "cell_type": "code",
   "execution_count": 48,
   "metadata": {},
   "outputs": [],
   "source": [
    "import numpy as np\n",
    "import pandas as pd"
   ]
  },
  {
   "cell_type": "code",
   "execution_count": 160,
   "metadata": {},
   "outputs": [],
   "source": [
    "filename = 'data/melon_song_v2.csv'\n",
    "plist_filename1 = 'data/melon_playlist1.csv'\n",
    "plist_filename2 = 'data/melon_playlist2_v2.csv'"
   ]
  },
  {
   "cell_type": "code",
   "execution_count": 161,
   "metadata": {},
   "outputs": [
    {
     "data": {
      "text/plain": [
       "((6247, 14), (3845, 5), (60271, 4))"
      ]
     },
     "execution_count": 161,
     "metadata": {},
     "output_type": "execute_result"
    }
   ],
   "source": [
    "df = pd.read_csv(filename)\n",
    "plist1 = pd.read_csv(plist_filename1)\n",
    "plist2 = pd.read_csv(plist_filename2)\n",
    "df.shape, plist1.shape, plist2.shape"
   ]
  },
  {
   "cell_type": "code",
   "execution_count": 4,
   "metadata": {},
   "outputs": [
    {
     "name": "stdout",
     "output_type": "stream",
     "text": [
      "<class 'pandas.core.frame.DataFrame'>\n",
      "RangeIndex: 6247 entries, 0 to 6246\n",
      "Data columns (total 14 columns):\n",
      " #   Column     Non-Null Count  Dtype \n",
      "---  ------     --------------  ----- \n",
      " 0   songId     6247 non-null   int64 \n",
      " 1   title      6247 non-null   object\n",
      " 2   artist     6247 non-null   object\n",
      " 3   genre      6245 non-null   object\n",
      " 4   album      6247 non-null   object\n",
      " 5   lyricist   5849 non-null   object\n",
      " 6   composer   5845 non-null   object\n",
      " 7   date       6247 non-null   int64 \n",
      " 8   img        6247 non-null   object\n",
      " 9   comment    6247 non-null   int64 \n",
      " 10  like       6247 non-null   int64 \n",
      " 11  lyric      6247 non-null   object\n",
      " 12  plylstSeq  6126 non-null   object\n",
      " 13  total      6247 non-null   object\n",
      "dtypes: int64(4), object(10)\n",
      "memory usage: 683.4+ KB\n"
     ]
    }
   ],
   "source": [
    "df.info()"
   ]
  },
  {
   "cell_type": "code",
   "execution_count": 148,
   "metadata": {},
   "outputs": [
    {
     "data": {
      "text/plain": [
       "songId         0\n",
       "title          0\n",
       "artist         0\n",
       "genre          2\n",
       "album          0\n",
       "lyricist     398\n",
       "composer     402\n",
       "date           0\n",
       "img            0\n",
       "comment        0\n",
       "like           0\n",
       "lyric          0\n",
       "plylstSeq    121\n",
       "total          0\n",
       "dtype: int64"
      ]
     },
     "execution_count": 148,
     "metadata": {},
     "output_type": "execute_result"
    }
   ],
   "source": [
    "df.isna().sum()"
   ]
  },
  {
   "cell_type": "code",
   "execution_count": null,
   "metadata": {},
   "outputs": [],
   "source": [
    "df[df.plylstSeq.isna()]"
   ]
  },
  {
   "cell_type": "code",
   "execution_count": null,
   "metadata": {},
   "outputs": [],
   "source": [
    "df.head()"
   ]
  },
  {
   "cell_type": "code",
   "execution_count": 8,
   "metadata": {},
   "outputs": [
    {
     "name": "stdout",
     "output_type": "stream",
     "text": [
      "<class 'pandas.core.frame.DataFrame'>\n",
      "RangeIndex: 160459 entries, 0 to 160458\n",
      "Data columns (total 5 columns):\n",
      " #   Column     Non-Null Count   Dtype \n",
      "---  ------     --------------   ----- \n",
      " 0   plylstSeq  160459 non-null  int64 \n",
      " 1   songId     160459 non-null  int64 \n",
      " 2   title      160459 non-null  object\n",
      " 3   artist     160459 non-null  object\n",
      " 4   img        160459 non-null  object\n",
      "dtypes: int64(2), object(3)\n",
      "memory usage: 6.1+ MB\n"
     ]
    }
   ],
   "source": [
    "plist2.info()"
   ]
  },
  {
   "cell_type": "code",
   "execution_count": 163,
   "metadata": {},
   "outputs": [
    {
     "data": {
      "text/html": [
       "<div>\n",
       "<style scoped>\n",
       "    .dataframe tbody tr th:only-of-type {\n",
       "        vertical-align: middle;\n",
       "    }\n",
       "\n",
       "    .dataframe tbody tr th {\n",
       "        vertical-align: top;\n",
       "    }\n",
       "\n",
       "    .dataframe thead th {\n",
       "        text-align: right;\n",
       "    }\n",
       "</style>\n",
       "<table border=\"1\" class=\"dataframe\">\n",
       "  <thead>\n",
       "    <tr style=\"text-align: right;\">\n",
       "      <th></th>\n",
       "      <th>songId</th>\n",
       "      <th>title</th>\n",
       "      <th>artist</th>\n",
       "      <th>genre</th>\n",
       "      <th>album</th>\n",
       "      <th>lyricist</th>\n",
       "      <th>composer</th>\n",
       "      <th>date</th>\n",
       "      <th>img</th>\n",
       "      <th>comment</th>\n",
       "      <th>like</th>\n",
       "      <th>lyric</th>\n",
       "      <th>plylstSeq</th>\n",
       "      <th>total</th>\n",
       "    </tr>\n",
       "  </thead>\n",
       "  <tbody>\n",
       "    <tr>\n",
       "      <th>0</th>\n",
       "      <td>418168</td>\n",
       "      <td>희재</td>\n",
       "      <td>성시경</td>\n",
       "      <td>발라드 국내영화</td>\n",
       "      <td>국화꽃 향기 OST</td>\n",
       "      <td>양재선</td>\n",
       "      <td>MGR</td>\n",
       "      <td>20030201</td>\n",
       "      <td>https://cdnimg.melon.co.kr/cm/album/images/000...</td>\n",
       "      <td>332</td>\n",
       "      <td>138267</td>\n",
       "      <td>햇살은 우릴 위해 내리고 \\n바람도 서롤 감싸게 했죠 \\n우리 웃음속에 계절은 오고...</td>\n",
       "      <td>445029956 411111859</td>\n",
       "      <td>햇살 우릴 위해 내리다 바람 서 롤 감싸다 하다 우리 웃음 속 계절 오다 또 가다 ...</td>\n",
       "    </tr>\n",
       "    <tr>\n",
       "      <th>1</th>\n",
       "      <td>35609035</td>\n",
       "      <td>인생은 뷰티풀</td>\n",
       "      <td>김호중</td>\n",
       "      <td>발라드 국내영화</td>\n",
       "      <td>인생은 뷰티풀: 비타돌체</td>\n",
       "      <td>김호중</td>\n",
       "      <td>김호중</td>\n",
       "      <td>20220907</td>\n",
       "      <td>https://cdnimg.melon.co.kr/cm2/album/images/11...</td>\n",
       "      <td>197</td>\n",
       "      <td>17322</td>\n",
       "      <td>하나만 알고 둘은\\n잘 모르는 사람입니다\\n하루는 비틀거리고\\n하루는 뒤뚱거리고\\n...</td>\n",
       "      <td>457536944 474137187</td>\n",
       "      <td>하나 만 고 둘 자다 모르다 사람 이다 하루 비틀 거리 고 하루 뒤뚱거리 고 월요일...</td>\n",
       "    </tr>\n",
       "    <tr>\n",
       "      <th>2</th>\n",
       "      <td>1046278</td>\n",
       "      <td>서쪽 하늘</td>\n",
       "      <td>이승철</td>\n",
       "      <td>발라드 국내영화</td>\n",
       "      <td>청연 OST</td>\n",
       "      <td>이승철</td>\n",
       "      <td>윤명선</td>\n",
       "      <td>20051220</td>\n",
       "      <td>https://cdnimg.melon.co.kr/cm/album/images/003...</td>\n",
       "      <td>84</td>\n",
       "      <td>48109</td>\n",
       "      <td>서쪽하늘로 노을은 지고  \\n이젠 슬픔이 돼버린 그대를  \\n다시 부를수 없을 것 ...</td>\n",
       "      <td>426571097 405285190</td>\n",
       "      <td>서쪽하늘 노을 지고 젠 슬픔 돼다 버리다 그대 다시 부르다 없다 같다 또 한번 불다...</td>\n",
       "    </tr>\n",
       "    <tr>\n",
       "      <th>3</th>\n",
       "      <td>35609034</td>\n",
       "      <td>슬픈등</td>\n",
       "      <td>김호중</td>\n",
       "      <td>발라드 국내영화</td>\n",
       "      <td>인생은 뷰티풀: 비타돌체</td>\n",
       "      <td>김호중</td>\n",
       "      <td>김호중</td>\n",
       "      <td>20220907</td>\n",
       "      <td>https://cdnimg.melon.co.kr/cm2/album/images/11...</td>\n",
       "      <td>145</td>\n",
       "      <td>15389</td>\n",
       "      <td>누군가를 다시 만난다면\\n여전히 나는 너를\\n누군가를 다시 사랑하면\\n영원히 나는 ...</td>\n",
       "      <td>457536944 515278519</td>\n",
       "      <td>누군가 다시 만나다 여전하다 나 너 누군가 다시 사랑 하다 영원하다 나 너 다시 또...</td>\n",
       "    </tr>\n",
       "    <tr>\n",
       "      <th>4</th>\n",
       "      <td>35728845</td>\n",
       "      <td>고백 (영화 '동감' X 츄 (이달의 소녀))</td>\n",
       "      <td>츄(Chuu)</td>\n",
       "      <td>록/메탈 국내영화</td>\n",
       "      <td>고백 (영화 '동감' X 츄 (이달의 소녀))</td>\n",
       "      <td>강현민</td>\n",
       "      <td>강현민</td>\n",
       "      <td>20221016</td>\n",
       "      <td>https://cdnimg.melon.co.kr/cm2/album/images/11...</td>\n",
       "      <td>80</td>\n",
       "      <td>16902</td>\n",
       "      <td>말해야 하는데 네 앞에 서면\\n아무 말 못 하는 내가 미워져\\n용기를 내야 해 후회...</td>\n",
       "      <td>484732185 513801514</td>\n",
       "      <td>말 하다 하다 네 앞 서면 아무 말 못 하다 내 가 미우다 용기 내야 해 후회 하다...</td>\n",
       "    </tr>\n",
       "  </tbody>\n",
       "</table>\n",
       "</div>"
      ],
      "text/plain": [
       "     songId                      title   artist      genre   \n",
       "0    418168                         희재      성시경   발라드 국내영화  \\\n",
       "1  35609035                    인생은 뷰티풀      김호중   발라드 국내영화   \n",
       "2   1046278                      서쪽 하늘      이승철   발라드 국내영화   \n",
       "3  35609034                        슬픈등      김호중   발라드 국내영화   \n",
       "4  35728845  고백 (영화 '동감' X 츄 (이달의 소녀))  츄(Chuu)  록/메탈 국내영화   \n",
       "\n",
       "                       album lyricist composer      date   \n",
       "0                 국화꽃 향기 OST      양재선      MGR  20030201  \\\n",
       "1              인생은 뷰티풀: 비타돌체      김호중      김호중  20220907   \n",
       "2                     청연 OST      이승철      윤명선  20051220   \n",
       "3              인생은 뷰티풀: 비타돌체      김호중      김호중  20220907   \n",
       "4  고백 (영화 '동감' X 츄 (이달의 소녀))      강현민      강현민  20221016   \n",
       "\n",
       "                                                 img  comment    like   \n",
       "0  https://cdnimg.melon.co.kr/cm/album/images/000...      332  138267  \\\n",
       "1  https://cdnimg.melon.co.kr/cm2/album/images/11...      197   17322   \n",
       "2  https://cdnimg.melon.co.kr/cm/album/images/003...       84   48109   \n",
       "3  https://cdnimg.melon.co.kr/cm2/album/images/11...      145   15389   \n",
       "4  https://cdnimg.melon.co.kr/cm2/album/images/11...       80   16902   \n",
       "\n",
       "                                               lyric            plylstSeq   \n",
       "0  햇살은 우릴 위해 내리고 \\n바람도 서롤 감싸게 했죠 \\n우리 웃음속에 계절은 오고...  445029956 411111859  \\\n",
       "1  하나만 알고 둘은\\n잘 모르는 사람입니다\\n하루는 비틀거리고\\n하루는 뒤뚱거리고\\n...  457536944 474137187   \n",
       "2  서쪽하늘로 노을은 지고  \\n이젠 슬픔이 돼버린 그대를  \\n다시 부를수 없을 것 ...  426571097 405285190   \n",
       "3  누군가를 다시 만난다면\\n여전히 나는 너를\\n누군가를 다시 사랑하면\\n영원히 나는 ...  457536944 515278519   \n",
       "4  말해야 하는데 네 앞에 서면\\n아무 말 못 하는 내가 미워져\\n용기를 내야 해 후회...  484732185 513801514   \n",
       "\n",
       "                                               total  \n",
       "0  햇살 우릴 위해 내리다 바람 서 롤 감싸다 하다 우리 웃음 속 계절 오다 또 가다 ...  \n",
       "1  하나 만 고 둘 자다 모르다 사람 이다 하루 비틀 거리 고 하루 뒤뚱거리 고 월요일...  \n",
       "2  서쪽하늘 노을 지고 젠 슬픔 돼다 버리다 그대 다시 부르다 없다 같다 또 한번 불다...  \n",
       "3  누군가 다시 만나다 여전하다 나 너 누군가 다시 사랑 하다 영원하다 나 너 다시 또...  \n",
       "4  말 하다 하다 네 앞 서면 아무 말 못 하다 내 가 미우다 용기 내야 해 후회 하다...  "
      ]
     },
     "execution_count": 163,
     "metadata": {},
     "output_type": "execute_result"
    }
   ],
   "source": [
    "plist1.plylstSeq = plist1.plylstSeq.astype(str)\n",
    "plist2.songId = plist2.songId.astype(str)\n",
    "\n",
    "df.date.fillna(0, inplace=True)\n",
    "df.date = df.date.astype(int).astype(str)\n",
    "df.songId = df.songId.astype(str)\n",
    "df.fillna('', inplace=True)\n",
    "df.lyric = df.lyric.str.replace('\\r', '')\n",
    "df.head()"
   ]
  },
  {
   "cell_type": "code",
   "execution_count": 8,
   "metadata": {},
   "outputs": [
    {
     "data": {
      "text/html": [
       "<div>\n",
       "<style scoped>\n",
       "    .dataframe tbody tr th:only-of-type {\n",
       "        vertical-align: middle;\n",
       "    }\n",
       "\n",
       "    .dataframe tbody tr th {\n",
       "        vertical-align: top;\n",
       "    }\n",
       "\n",
       "    .dataframe thead th {\n",
       "        text-align: right;\n",
       "    }\n",
       "</style>\n",
       "<table border=\"1\" class=\"dataframe\">\n",
       "  <thead>\n",
       "    <tr style=\"text-align: right;\">\n",
       "      <th></th>\n",
       "      <th>songId</th>\n",
       "      <th>title</th>\n",
       "      <th>artist</th>\n",
       "      <th>img</th>\n",
       "    </tr>\n",
       "  </thead>\n",
       "  <tbody>\n",
       "    <tr>\n",
       "      <th>0</th>\n",
       "      <td>33213267</td>\n",
       "      <td>Love Song</td>\n",
       "      <td>Why Don't We</td>\n",
       "      <td>https://cdnimg.melon.co.kr/cm2/album/images/10...</td>\n",
       "    </tr>\n",
       "    <tr>\n",
       "      <th>1</th>\n",
       "      <td>32544401</td>\n",
       "      <td>Ghost In A Flower</td>\n",
       "      <td>Yorushika</td>\n",
       "      <td>https://cdnimg.melon.co.kr/cm2/album/images/10...</td>\n",
       "    </tr>\n",
       "    <tr>\n",
       "      <th>2</th>\n",
       "      <td>33502105</td>\n",
       "      <td>Every Second</td>\n",
       "      <td>Mina Okabe</td>\n",
       "      <td>https://cdnimg.melon.co.kr/cm2/album/images/10...</td>\n",
       "    </tr>\n",
       "    <tr>\n",
       "      <th>3</th>\n",
       "      <td>33469725</td>\n",
       "      <td>Loving You Girl (Feat. Hkeem)</td>\n",
       "      <td>Peder Elias</td>\n",
       "      <td>https://cdnimg.melon.co.kr/cm2/album/images/10...</td>\n",
       "    </tr>\n",
       "    <tr>\n",
       "      <th>4</th>\n",
       "      <td>32464068</td>\n",
       "      <td>SKYLINE</td>\n",
       "      <td>김세정</td>\n",
       "      <td>https://cdnimg.melon.co.kr/cm2/album/images/10...</td>\n",
       "    </tr>\n",
       "  </tbody>\n",
       "</table>\n",
       "</div>"
      ],
      "text/plain": [
       "     songId                          title        artist   \n",
       "0  33213267                      Love Song  Why Don't We  \\\n",
       "1  32544401              Ghost In A Flower     Yorushika   \n",
       "2  33502105                   Every Second    Mina Okabe   \n",
       "3  33469725  Loving You Girl (Feat. Hkeem)   Peder Elias   \n",
       "4  32464068                        SKYLINE           김세정   \n",
       "\n",
       "                                                 img  \n",
       "0  https://cdnimg.melon.co.kr/cm2/album/images/10...  \n",
       "1  https://cdnimg.melon.co.kr/cm2/album/images/10...  \n",
       "2  https://cdnimg.melon.co.kr/cm2/album/images/10...  \n",
       "3  https://cdnimg.melon.co.kr/cm2/album/images/10...  \n",
       "4  https://cdnimg.melon.co.kr/cm2/album/images/10...  "
      ]
     },
     "execution_count": 8,
     "metadata": {},
     "output_type": "execute_result"
    }
   ],
   "source": [
    "plist2.head()"
   ]
  },
  {
   "cell_type": "code",
   "execution_count": 36,
   "metadata": {},
   "outputs": [
    {
     "name": "stdout",
     "output_type": "stream",
     "text": [
      "(60271, 4) 60271\n",
      "(60271, 4) 60271\n"
     ]
    },
    {
     "data": {
      "text/html": [
       "<div>\n",
       "<style scoped>\n",
       "    .dataframe tbody tr th:only-of-type {\n",
       "        vertical-align: middle;\n",
       "    }\n",
       "\n",
       "    .dataframe tbody tr th {\n",
       "        vertical-align: top;\n",
       "    }\n",
       "\n",
       "    .dataframe thead th {\n",
       "        text-align: right;\n",
       "    }\n",
       "</style>\n",
       "<table border=\"1\" class=\"dataframe\">\n",
       "  <thead>\n",
       "    <tr style=\"text-align: right;\">\n",
       "      <th></th>\n",
       "      <th>songId</th>\n",
       "      <th>title</th>\n",
       "      <th>artist</th>\n",
       "      <th>img</th>\n",
       "    </tr>\n",
       "  </thead>\n",
       "  <tbody>\n",
       "    <tr>\n",
       "      <th>0</th>\n",
       "      <td>33213267</td>\n",
       "      <td>Love Song</td>\n",
       "      <td>Why Don't We</td>\n",
       "      <td>https://cdnimg.melon.co.kr/cm2/album/images/10...</td>\n",
       "    </tr>\n",
       "    <tr>\n",
       "      <th>1</th>\n",
       "      <td>32544401</td>\n",
       "      <td>Ghost In A Flower</td>\n",
       "      <td>Yorushika</td>\n",
       "      <td>https://cdnimg.melon.co.kr/cm2/album/images/10...</td>\n",
       "    </tr>\n",
       "    <tr>\n",
       "      <th>2</th>\n",
       "      <td>33502105</td>\n",
       "      <td>Every Second</td>\n",
       "      <td>Mina Okabe</td>\n",
       "      <td>https://cdnimg.melon.co.kr/cm2/album/images/10...</td>\n",
       "    </tr>\n",
       "    <tr>\n",
       "      <th>3</th>\n",
       "      <td>33469725</td>\n",
       "      <td>Loving You Girl (Feat. Hkeem)</td>\n",
       "      <td>Peder Elias</td>\n",
       "      <td>https://cdnimg.melon.co.kr/cm2/album/images/10...</td>\n",
       "    </tr>\n",
       "    <tr>\n",
       "      <th>4</th>\n",
       "      <td>32464068</td>\n",
       "      <td>SKYLINE</td>\n",
       "      <td>김세정</td>\n",
       "      <td>https://cdnimg.melon.co.kr/cm2/album/images/10...</td>\n",
       "    </tr>\n",
       "  </tbody>\n",
       "</table>\n",
       "</div>"
      ],
      "text/plain": [
       "     songId                          title        artist   \n",
       "0  33213267                      Love Song  Why Don't We  \\\n",
       "1  32544401              Ghost In A Flower     Yorushika   \n",
       "2  33502105                   Every Second    Mina Okabe   \n",
       "3  33469725  Loving You Girl (Feat. Hkeem)   Peder Elias   \n",
       "4  32464068                        SKYLINE           김세정   \n",
       "\n",
       "                                                 img  \n",
       "0  https://cdnimg.melon.co.kr/cm2/album/images/10...  \n",
       "1  https://cdnimg.melon.co.kr/cm2/album/images/10...  \n",
       "2  https://cdnimg.melon.co.kr/cm2/album/images/10...  \n",
       "3  https://cdnimg.melon.co.kr/cm2/album/images/10...  \n",
       "4  https://cdnimg.melon.co.kr/cm2/album/images/10...  "
      ]
     },
     "execution_count": 36,
     "metadata": {},
     "output_type": "execute_result"
    }
   ],
   "source": [
    "# plist2 = plist2[['songId', 'title', 'artist', 'img']]\n",
    "# print(plist2.shape, plist2.songId.nunique())\n",
    "# plist2.drop_duplicates(subset=['songId'], inplace=True)\n",
    "# print(plist2.shape, plist2.songId.nunique())\n",
    "# plist2.head()\n"
   ]
  },
  {
   "cell_type": "code",
   "execution_count": 12,
   "metadata": {},
   "outputs": [
    {
     "data": {
      "text/plain": [
       "(5947, 4)"
      ]
     },
     "execution_count": 12,
     "metadata": {},
     "output_type": "execute_result"
    }
   ],
   "source": [
    "# melon_song에 들어있는 songId가 플레이리스트에 포함되어 있는 수\n",
    "# 60271 - 5947 = 54324 개의 노래는 melon_song 데이터에 없다.\n",
    "# df_song_list = df.songId.values\n",
    "# plist2[plist2.songId.isin(df_song_list)].shape"
   ]
  },
  {
   "attachments": {},
   "cell_type": "markdown",
   "metadata": {},
   "source": [
    "### 1. 찾을 노래 제목과 아티스트 입력 받기"
   ]
  },
  {
   "cell_type": "code",
   "execution_count": 164,
   "metadata": {},
   "outputs": [
    {
     "name": "stdout",
     "output_type": "stream",
     "text": [
      "!\"#$%&'()*+,-./:;<=>?@[\\]^_`{|}~\n"
     ]
    }
   ],
   "source": [
    "# 키워드 바꿔가면서 찾아보기\n",
    "import string, re\n",
    "print(string.punctuation)\n",
    "\n",
    "# 에잇(Prod.&Feat. SUGA of BTS)\n",
    "# 아이유\n",
    "\n",
    "\n",
    "keyword_artist = '송이한'\n",
    "keyword_title = '아무 일도, 아무것도'\n",
    "keyword_title = re.sub('['+string.punctuation+']', '', keyword_title)\n",
    "keyword_artist = re.sub('['+string.punctuation+']', '', keyword_artist)"
   ]
  },
  {
   "cell_type": "code",
   "execution_count": 151,
   "metadata": {},
   "outputs": [
    {
     "name": "stdout",
     "output_type": "stream",
     "text": [
      "아무 일도 아무것도 송이한\n"
     ]
    }
   ],
   "source": [
    "# keyword_title = keyword_title.replace(' ', '|')\n",
    "# keyword_artist = keyword_artist.replace(' ', '&')\n",
    "print(keyword_title, keyword_artist)"
   ]
  },
  {
   "cell_type": "code",
   "execution_count": 47,
   "metadata": {},
   "outputs": [
    {
     "name": "stdout",
     "output_type": "stream",
     "text": [
      "['jack', 'bob', 'WAT.SON', 'jake', 'mike', 'don', 'george', 'natasha', 'jill', 'ann', \"JOHN'\", 'johnSON']\n",
      "son\n"
     ]
    },
    {
     "data": {
      "text/html": [
       "<div>\n",
       "<style scoped>\n",
       "    .dataframe tbody tr th:only-of-type {\n",
       "        vertical-align: middle;\n",
       "    }\n",
       "\n",
       "    .dataframe tbody tr th {\n",
       "        vertical-align: top;\n",
       "    }\n",
       "\n",
       "    .dataframe thead th {\n",
       "        text-align: right;\n",
       "    }\n",
       "</style>\n",
       "<table border=\"1\" class=\"dataframe\">\n",
       "  <thead>\n",
       "    <tr style=\"text-align: right;\">\n",
       "      <th></th>\n",
       "      <th>ser</th>\n",
       "    </tr>\n",
       "  </thead>\n",
       "  <tbody>\n",
       "    <tr>\n",
       "      <th>2</th>\n",
       "      <td>WAT.SON</td>\n",
       "    </tr>\n",
       "    <tr>\n",
       "      <th>11</th>\n",
       "      <td>johnSON</td>\n",
       "    </tr>\n",
       "  </tbody>\n",
       "</table>\n",
       "</div>"
      ],
      "text/plain": [
       "        ser\n",
       "2   WAT.SON\n",
       "11  johnSON"
      ]
     },
     "execution_count": 47,
     "metadata": {},
     "output_type": "execute_result"
    }
   ],
   "source": [
    "names = ['jack', 'bob', 'WAT.SON', 'jake', 'mike', 'don', 'george', 'natasha', 'jill', 'ann', 'JOHN\\'', 'johnSON']\n",
    "print(names)\n",
    "# ser = pd.Series(names)\n",
    "ser = pd.DataFrame(names, columns=['ser'])\n",
    "\n",
    "keyword = 'SO.N'.lower()\n",
    "keyword = re.sub('['+string.punctuation+']', '', keyword)\n",
    "print(keyword)\n",
    "\n",
    "ser[ser.ser.str.lower().str.replace('['+string.punctuation+']','').str.contains(keyword)]"
   ]
  },
  {
   "cell_type": "code",
   "execution_count": 165,
   "metadata": {},
   "outputs": [
    {
     "data": {
      "text/html": [
       "<div>\n",
       "<style scoped>\n",
       "    .dataframe tbody tr th:only-of-type {\n",
       "        vertical-align: middle;\n",
       "    }\n",
       "\n",
       "    .dataframe tbody tr th {\n",
       "        vertical-align: top;\n",
       "    }\n",
       "\n",
       "    .dataframe thead th {\n",
       "        text-align: right;\n",
       "    }\n",
       "</style>\n",
       "<table border=\"1\" class=\"dataframe\">\n",
       "  <thead>\n",
       "    <tr style=\"text-align: right;\">\n",
       "      <th></th>\n",
       "      <th>songId</th>\n",
       "      <th>title</th>\n",
       "      <th>artist</th>\n",
       "      <th>genre</th>\n",
       "      <th>album</th>\n",
       "      <th>lyricist</th>\n",
       "      <th>composer</th>\n",
       "      <th>date</th>\n",
       "      <th>img</th>\n",
       "      <th>comment</th>\n",
       "      <th>like</th>\n",
       "      <th>lyric</th>\n",
       "      <th>plylstSeq</th>\n",
       "      <th>total</th>\n",
       "    </tr>\n",
       "  </thead>\n",
       "  <tbody>\n",
       "    <tr>\n",
       "      <th>53</th>\n",
       "      <td>35561629</td>\n",
       "      <td>아무 일도, 아무것도</td>\n",
       "      <td>송이한</td>\n",
       "      <td>발라드 국내영화</td>\n",
       "      <td>아무 일도, 아무것도 (뷰티풀 모먼트 OST 스페셜 트랙)</td>\n",
       "      <td>이기환</td>\n",
       "      <td>이기환</td>\n",
       "      <td>20220828</td>\n",
       "      <td>https://cdnimg.melon.co.kr/cm2/album/images/11...</td>\n",
       "      <td>2</td>\n",
       "      <td>1100</td>\n",
       "      <td>따듯했던 그날 속에 우리는\\n차가워진 흔적들로 남아\\n지우려 하면 할수록 다시\\n반...</td>\n",
       "      <td>401004189 500439113</td>\n",
       "      <td>따다 하다 그날 속 우리 차가워지다 흔적 남아 지우다 하다 하다 다시 반복 되다 아...</td>\n",
       "    </tr>\n",
       "    <tr>\n",
       "      <th>234</th>\n",
       "      <td>35725437</td>\n",
       "      <td>아무 일도, 아무것도</td>\n",
       "      <td>송이한</td>\n",
       "      <td>발라드 국내영화</td>\n",
       "      <td>뷰티풀 모먼트 OST</td>\n",
       "      <td>이기환</td>\n",
       "      <td>이기환</td>\n",
       "      <td>20221014</td>\n",
       "      <td>https://cdnimg.melon.co.kr/cm2/album/images/11...</td>\n",
       "      <td>0</td>\n",
       "      <td>49</td>\n",
       "      <td>따듯했던 그날 속에 우리는\\n차가워진 흔적들로 남아\\n지우려 하면 할수록 다시\\n반...</td>\n",
       "      <td></td>\n",
       "      <td>따다 하다 그날 속 우리 차가워지다 흔적 남아 지우다 하다 하다 다시 반복 되다 아...</td>\n",
       "    </tr>\n",
       "  </tbody>\n",
       "</table>\n",
       "</div>"
      ],
      "text/plain": [
       "       songId        title artist     genre                             album   \n",
       "53   35561629  아무 일도, 아무것도    송이한  발라드 국내영화  아무 일도, 아무것도 (뷰티풀 모먼트 OST 스페셜 트랙)  \\\n",
       "234  35725437  아무 일도, 아무것도    송이한  발라드 국내영화                       뷰티풀 모먼트 OST   \n",
       "\n",
       "    lyricist composer      date   \n",
       "53       이기환      이기환  20220828  \\\n",
       "234      이기환      이기환  20221014   \n",
       "\n",
       "                                                   img  comment  like   \n",
       "53   https://cdnimg.melon.co.kr/cm2/album/images/11...        2  1100  \\\n",
       "234  https://cdnimg.melon.co.kr/cm2/album/images/11...        0    49   \n",
       "\n",
       "                                                 lyric            plylstSeq   \n",
       "53   따듯했던 그날 속에 우리는\\n차가워진 흔적들로 남아\\n지우려 하면 할수록 다시\\n반...  401004189 500439113  \\\n",
       "234  따듯했던 그날 속에 우리는\\n차가워진 흔적들로 남아\\n지우려 하면 할수록 다시\\n반...                        \n",
       "\n",
       "                                                 total  \n",
       "53   따다 하다 그날 속 우리 차가워지다 흔적 남아 지우다 하다 하다 다시 반복 되다 아...  \n",
       "234  따다 하다 그날 속 우리 차가워지다 흔적 남아 지우다 하다 하다 다시 반복 되다 아...  "
      ]
     },
     "execution_count": 165,
     "metadata": {},
     "output_type": "execute_result"
    }
   ],
   "source": [
    "# 노래 제목과 가수로 찾기\n",
    "songIds = df[df.title.str.replace('['+string.punctuation+']','', regex=True).str.contains(keyword_title, case=False)\n",
    "              & df.artist.str.replace('['+string.punctuation+']','', regex=True).str.contains(keyword_artist, case=False)]\n",
    "songIds"
   ]
  },
  {
   "cell_type": "code",
   "execution_count": 212,
   "metadata": {},
   "outputs": [
    {
     "data": {
      "text/html": [
       "<div>\n",
       "<style scoped>\n",
       "    .dataframe tbody tr th:only-of-type {\n",
       "        vertical-align: middle;\n",
       "    }\n",
       "\n",
       "    .dataframe tbody tr th {\n",
       "        vertical-align: top;\n",
       "    }\n",
       "\n",
       "    .dataframe thead th {\n",
       "        text-align: right;\n",
       "    }\n",
       "</style>\n",
       "<table border=\"1\" class=\"dataframe\">\n",
       "  <thead>\n",
       "    <tr style=\"text-align: right;\">\n",
       "      <th></th>\n",
       "      <th>songId</th>\n",
       "      <th>title</th>\n",
       "      <th>artist</th>\n",
       "      <th>genre</th>\n",
       "      <th>album</th>\n",
       "      <th>lyricist</th>\n",
       "      <th>composer</th>\n",
       "      <th>date</th>\n",
       "      <th>img</th>\n",
       "      <th>comment</th>\n",
       "      <th>like</th>\n",
       "      <th>lyric</th>\n",
       "      <th>plylstSeq</th>\n",
       "      <th>total</th>\n",
       "    </tr>\n",
       "  </thead>\n",
       "  <tbody>\n",
       "    <tr>\n",
       "      <th>53</th>\n",
       "      <td>35561629</td>\n",
       "      <td>아무 일도, 아무것도</td>\n",
       "      <td>송이한</td>\n",
       "      <td>발라드 국내영화</td>\n",
       "      <td>아무 일도, 아무것도 (뷰티풀 모먼트 OST 스페셜 트랙)</td>\n",
       "      <td>이기환</td>\n",
       "      <td>이기환</td>\n",
       "      <td>20220828</td>\n",
       "      <td>https://cdnimg.melon.co.kr/cm2/album/images/11...</td>\n",
       "      <td>2</td>\n",
       "      <td>1100</td>\n",
       "      <td>따듯했던 그날 속에 우리는\\n차가워진 흔적들로 남아\\n지우려 하면 할수록 다시\\n반...</td>\n",
       "      <td>401004189 500439113</td>\n",
       "      <td>따다 하다 그날 속 우리 차가워지다 흔적 남아 지우다 하다 하다 다시 반복 되다 아...</td>\n",
       "    </tr>\n",
       "    <tr>\n",
       "      <th>234</th>\n",
       "      <td>35725437</td>\n",
       "      <td>아무 일도, 아무것도</td>\n",
       "      <td>송이한</td>\n",
       "      <td>발라드 국내영화</td>\n",
       "      <td>뷰티풀 모먼트 OST</td>\n",
       "      <td>이기환</td>\n",
       "      <td>이기환</td>\n",
       "      <td>20221014</td>\n",
       "      <td>https://cdnimg.melon.co.kr/cm2/album/images/11...</td>\n",
       "      <td>0</td>\n",
       "      <td>49</td>\n",
       "      <td>따듯했던 그날 속에 우리는\\n차가워진 흔적들로 남아\\n지우려 하면 할수록 다시\\n반...</td>\n",
       "      <td></td>\n",
       "      <td>따다 하다 그날 속 우리 차가워지다 흔적 남아 지우다 하다 하다 다시 반복 되다 아...</td>\n",
       "    </tr>\n",
       "  </tbody>\n",
       "</table>\n",
       "</div>"
      ],
      "text/plain": [
       "       songId        title artist     genre                             album   \n",
       "53   35561629  아무 일도, 아무것도    송이한  발라드 국내영화  아무 일도, 아무것도 (뷰티풀 모먼트 OST 스페셜 트랙)  \\\n",
       "234  35725437  아무 일도, 아무것도    송이한  발라드 국내영화                       뷰티풀 모먼트 OST   \n",
       "\n",
       "    lyricist composer      date   \n",
       "53       이기환      이기환  20220828  \\\n",
       "234      이기환      이기환  20221014   \n",
       "\n",
       "                                                   img  comment  like   \n",
       "53   https://cdnimg.melon.co.kr/cm2/album/images/11...        2  1100  \\\n",
       "234  https://cdnimg.melon.co.kr/cm2/album/images/11...        0    49   \n",
       "\n",
       "                                                 lyric            plylstSeq   \n",
       "53   따듯했던 그날 속에 우리는\\n차가워진 흔적들로 남아\\n지우려 하면 할수록 다시\\n반...  401004189 500439113  \\\n",
       "234  따듯했던 그날 속에 우리는\\n차가워진 흔적들로 남아\\n지우려 하면 할수록 다시\\n반...                        \n",
       "\n",
       "                                                 total  \n",
       "53   따다 하다 그날 속 우리 차가워지다 흔적 남아 지우다 하다 하다 다시 반복 되다 아...  \n",
       "234  따다 하다 그날 속 우리 차가워지다 흔적 남아 지우다 하다 하다 다시 반복 되다 아...  "
      ]
     },
     "execution_count": 212,
     "metadata": {},
     "output_type": "execute_result"
    }
   ],
   "source": [
    "# 첫번째 songId로 검색해 보기 위해(원하는 것은 사용자가 선택하도록)\n",
    "songId = songIds.songId.values[0]\n",
    "songIds\n"
   ]
  },
  {
   "cell_type": "code",
   "execution_count": 88,
   "metadata": {},
   "outputs": [
    {
     "name": "stdout",
     "output_type": "stream",
     "text": [
      "45      36242042 35645694 34826873 34164058 35456806 3...\n",
      "84      32653631 34100776 33428837 32159598 33766984 3...\n",
      "109     31587557 32935092 32476250 30017614 30269908 2...\n",
      "122     32961285 30657307 36136158 35944239 31624517 3...\n",
      "124     31143991 32497863 33369437 35867428 36081382 3...\n",
      "                              ...                        \n",
      "3728    33175764 33362590 8298724 33780124 32939043 33...\n",
      "3735    30636089 33043504 3780500 32613630 33406558 32...\n",
      "3782    35411219 34055256 35564570 30099930 32626719 3...\n",
      "3784    36414841 36421592 34557377 33271276 36136158 3...\n",
      "3831    8036156 34055256 31674786 33680289 31496488 35...\n",
      "Name: songIds, Length: 144, dtype: object\n"
     ]
    }
   ],
   "source": []
  },
  {
   "cell_type": "code",
   "execution_count": 34,
   "metadata": {},
   "outputs": [
    {
     "name": "stdout",
     "output_type": "stream",
     "text": [
      "[2 6 4 1 3]\n",
      "[3 3 2 1 1]\n",
      "[1 2 3 4 6]\n",
      "[1 3 1 2 3]\n"
     ]
    }
   ],
   "source": [
    "a = np.array([1, 2, 6, 4, 2, 3, 2, 6, 6, 4])\n",
    "u, indices = np.unique(a, return_counts=True)\n",
    "re_indices = np.argsort(-indices)\n",
    "\n",
    "print(u[re_indices])\n",
    "print(indices[re_indices])\n",
    "\n",
    "print(u)\n",
    "print(indices)\n"
   ]
  },
  {
   "cell_type": "code",
   "execution_count": 215,
   "metadata": {},
   "outputs": [],
   "source": [
    "# 가장 많이 들어간 tag 찾기\n",
    "tags = np.unique(' '.join(plist1[plist1.songIds.str.contains(songId)]['tag'].values).split(), return_counts=True)"
   ]
  },
  {
   "cell_type": "code",
   "execution_count": 216,
   "metadata": {},
   "outputs": [
    {
     "name": "stdout",
     "output_type": "stream",
     "text": [
      "22\n"
     ]
    }
   ],
   "source": [
    "print(len(tags[0]))"
   ]
  },
  {
   "cell_type": "code",
   "execution_count": 178,
   "metadata": {},
   "outputs": [
    {
     "data": {
      "text/plain": [
       "'발라드 국내영화'"
      ]
     },
     "execution_count": 178,
     "metadata": {},
     "output_type": "execute_result"
    }
   ],
   "source": [
    "genre = df[df.songId == songId].genre.values[0]\n",
    "genre"
   ]
  },
  {
   "cell_type": "code",
   "execution_count": 220,
   "metadata": {},
   "outputs": [
    {
     "name": "stdout",
     "output_type": "stream",
     "text": [
      "발라드, 이별 그리고 감성\n"
     ]
    }
   ],
   "source": [
    "\n",
    "# argsort : 값이 큰 순서대로 값의 인덱스 정렬 -1 큰 순서대로\n",
    "str_tags = ''\n",
    "if len(tags[0]):\n",
    "    re_count = np.argsort(-tags[1]) \n",
    "    if len(re_count) > 2:\n",
    "        str_tags = f\"{tags[0][re_count][0].strip('#')}, {tags[0][re_count][1].strip('#')} 그리고 {tags[0][re_count][2].strip('#')}\"\n",
    "\n",
    "print(str_tags)"
   ]
  },
  {
   "cell_type": "code",
   "execution_count": 81,
   "metadata": {},
   "outputs": [
    {
     "data": {
      "text/html": [
       "<div>\n",
       "<style scoped>\n",
       "    .dataframe tbody tr th:only-of-type {\n",
       "        vertical-align: middle;\n",
       "    }\n",
       "\n",
       "    .dataframe tbody tr th {\n",
       "        vertical-align: top;\n",
       "    }\n",
       "\n",
       "    .dataframe thead th {\n",
       "        text-align: right;\n",
       "    }\n",
       "</style>\n",
       "<table border=\"1\" class=\"dataframe\">\n",
       "  <thead>\n",
       "    <tr style=\"text-align: right;\">\n",
       "      <th></th>\n",
       "      <th>tag</th>\n",
       "      <th>count</th>\n",
       "    </tr>\n",
       "  </thead>\n",
       "  <tbody>\n",
       "    <tr>\n",
       "      <th>0</th>\n",
       "      <td>#1975</td>\n",
       "      <td>1</td>\n",
       "    </tr>\n",
       "    <tr>\n",
       "      <th>1</th>\n",
       "      <td>#2000년대</td>\n",
       "      <td>1</td>\n",
       "    </tr>\n",
       "    <tr>\n",
       "      <th>2</th>\n",
       "      <td>#2000년대여름노래</td>\n",
       "      <td>1</td>\n",
       "    </tr>\n",
       "    <tr>\n",
       "      <th>3</th>\n",
       "      <td>#2010년</td>\n",
       "      <td>1</td>\n",
       "    </tr>\n",
       "    <tr>\n",
       "      <th>4</th>\n",
       "      <td>#2021</td>\n",
       "      <td>2</td>\n",
       "    </tr>\n",
       "  </tbody>\n",
       "</table>\n",
       "</div>"
      ],
      "text/plain": [
       "           tag  count\n",
       "0        #1975      1\n",
       "1      #2000년대      1\n",
       "2  #2000년대여름노래      1\n",
       "3       #2010년      1\n",
       "4        #2021      2"
      ]
     },
     "execution_count": 81,
     "metadata": {},
     "output_type": "execute_result"
    }
   ],
   "source": [
    "df_tags = pd.DataFrame({'tag' : tags[0], 'count' : tags[1]})\n",
    "df_tags.head()"
   ]
  },
  {
   "cell_type": "code",
   "execution_count": 82,
   "metadata": {},
   "outputs": [
    {
     "data": {
      "text/plain": [
       "'#기분전환 #감성'"
      ]
     },
     "execution_count": 82,
     "metadata": {},
     "output_type": "execute_result"
    }
   ],
   "source": [
    "str_tags = ' '.join(df_tags.sort_values('count', ascending=False).head(2)['tag'])\n",
    "str_tags"
   ]
  },
  {
   "cell_type": "code",
   "execution_count": 91,
   "metadata": {},
   "outputs": [
    {
     "name": "stdout",
     "output_type": "stream",
     "text": [
      "36242042 35645694 34826873 34164058 35456806 33055519 34052587 33743290 8298724 33903923 32142762 33597153 33880120 34172221 33805294 30644500 7967351 30656620 7942948 31196872 30623495 31939062 32057583 31261006 30290580 31283160 30038185 9600435 5379383 638570 32653631 34100776 33428837 32159598 33766984 32158763 31409519 33248740 34588190 30303507 30688507 33315260 31387744 31668320 32325553 31441820 32514163 35536571 34562040 32265694 33320444 35268790 31871019 33842207 31445544 32226455 34497207 31131497 33214330 32650472 32539996 32479614 31843404 32141931 31584885 34521607 32409057 31864770 35197785 33722788 33388143 32961284 32574156 33150797 35527352 34558245 34100775 32275003 31441818 32939090 31587557 32935092 32476250 30017614 30269908 2939095 4420983 4824874 4019174 5464978 30006916 5459423 4252730 4252732 30636089 33013877 33503722 608212 32961285 30657307 36136158 35944239 31624517 34927767 35757422 34101834 33425484 35944240 33369437 33425478 35488206 34101837 34562040 31196038 34101833 32939000 34879288 36080415 31144464 32854381 34476749 32922133 35798620 30775041 35553298 32561659 32497863 31126140 32224278 31180425 32556558 31429050 34012988 32939001 35268787 32307439 34264703 33320360 32529114 33315264 31815490 30980827 35798621 31779028 33444738 32529116 35018128 34774983 31143991 32497863 33369437 35867428 36081382 35944240 33346447 34572522 36136158 34101834 35535827 34476749 34012988 34588191 35412039 35944239 35268790 35668899 34101837 32939000 8025849 36080409 35798620 35505766 33150797 31144464 32074560 32208754 34101833 34564047 35353561 34100776 35798621 32939001 36004387 35197785 34101836 32546471 2531788 34101832 33722788 36080414 33446154 35557571 7928705 32529116 34588190 34755406 32529113 32859753 36115710 36417483 35867428 36396052 36081382 36136158 34588191 35412039 35497097 35505766 35268790 36080409 36381764 33150797 32208754 34564047 34100776 35197785 32546471 33722788 36080414 34588190 34755406 32859753 31724057 35337708 35923616 35363934 33842207 33444738 34397936 33562949 33709720 33333800 32643134 32671279 32939090 33766984 35677906 32226458 31668320 31166697 36080413 32224281 33170813 31867376 32035978 31295312 31294778 33045300 32074815 31126532 35944239 32158763 35689128 34101833 32159598 31184764 34476749 35944240 31409519 33248740 35757422 34101836 34588190 30303507 33369437 35798620 30688507 34100776 34101834 32653631 33428837 32529114 33315260 31387744 32939000 34012988 31843404 31668320 32325553 31144465 31441820 32514163 34101837 31864770 30753021 32529113 35488206 32226455 34101832 33214330 34497207 35553298 32939001 32529115 32961284 32574156 31144464 33150797 36337593 9620469 34101837 4579468 35668899 34101563 35757422 32497863 3791293 3753303 35944239 36061342 32939001 32183386 8172972 35944240 35668852 35268788 34476749 32529116 33410939 8148487 32529115 33369437 30937278 31144464 35488206 36290215 32939000 35727937 34012986 35504741 3948905 33446152 3666573 30395919 34101833 36282445 35553298 34101832 36184898 34431934 35840144 31144465 30845238 32236451 32529113 34518500 34497207 36180916 33747313 31835834 35388979 31939062 35508221 35389041 35333345 31759422 35391793 35387524 33650729 33781962 33792936 33731733 33772884 33640339 33671317 30910326 31856953 32726093 33663373 5723836 33582305 32857435 31986204 32857434 33559180 8266230 33332496 33589260 33589261 33589262 33589263 33571543 31856954 33515709 31526248 33527705 32877075 32767826 33548510 32870322 32604443 33487708 33464805 33349053 3876875 32860397 30648988 36391318 30136952 35798620 34476749 32546470 35944239 36191577 35197790 35944240 33369437 35923616 34101832 36047581 36157280 31144465 30972755 33158202 34407074 36331121 35757422 34012987 33503726 31331756 36125894 32497863 35953965 32479576 34101836 36224658 32939000 35557571 31144464 35488206 36136158 36224660 34501949 34101834 31842998 35840144 32939001 32961284 32325553 34012988 34100767 36080413 35553298 33446154 33766987 31861768 33013741 36467631 34100776 35944239 35268790 35757422 35798620 34476749 36378716 32497863 31409519 33369437 34101833 33248740 35553298 35798621 30303507 34588190 34101834 36445352 33315260 32529114 35840144 32939000 32529113 31843404 31668320 35944240 36417475 31441820 34101837 31864770 32226455 34101832 33214330 34497207 32939001 32529115 32961284 32574156 33150797 31144464 35527352 34558245 32529116 35536571 35488206 34562040 34101835 32265694 33320444 1839667 33116860 34942194 32461442 34657844 31516369 32562864 2939095 2669855 3623509 31825775 30378584 32583036 8005879 30646588 31767620 31295149 4741720 30399494 2224702 3568916 3734735 30414090 4579468 34845027 8161065 34095424 30962526 36425721 4446485 1590152 4544242 4786735 105006 30514366 611135 31388145 30646588 3815039 1836102 1622996 526391 3689384 2939095 5439394 2680287 32508146 3363919 5400358 1322986 1885180 8104514 1093692 32180959 2224702 30157753 4108714 1090580 1867570 3773402 91114 57339 86866 1126285 31040793 5709750 4375626 526821 3164052 10394 606307 33206 33116860 32605089 33347390 32491274 2654264 36444534 30259844 3773034 31624517 31027802 36199948 32939042 30357702 30477180 33177639 30378583 35220955 33220545 9630153 32106046 4163687 3759738 31726704 31186261 4067711 36327988 3789644 36210212 3165416 4067707 30536432 33868791 34817660 8170715 4527640 8228040 36315182 32091221 30021731 31337298 36061484 35874583 35939039 35355546 32860877 32412491 34514727 32497986 31274525 34798559 33134268 31033467 30942934 33102322 33359602 31127403 34396492 33087883 33346662 33057314 34318975 8249130 30636951 30777977 2900592 30908869 4163687 30908865 30497269 32846657 31792353 32550920 32960480 33056912 33044579 32939043 35058069 34547880 32341976 34431322 33010630 30200848 30628813 31227645 34586994 35847874 34329743 34162394 32585415 33340514 35962712 33065245 33214672 30378582 31652858 34036212 34443401 34596072 34187533 34055256 33021760 35708545 34811932 32374061 33864316 33866827 34569983 33240852 32930704 32282505 32651484 31033467 33640188 33751763 35899925 35221572 35063524 35992606 35363934 35505766 32548491 33993423 32839568 34683338 31843035 34683339 33644708 35934949 35815106 35668899 32450201 35737712 33770726 32939046 35730712 34074855 34701954 35728531 35247139 33193779 34699669 33350576 34332029 35759640 36294270 33468228 36144767 35876899 32129479 36394201 32264132 31959868 31369829 35826801 34361383 34885917 35557158 31884623 35850204 31883723 33175764 33481753 33601086 5466962 5708367 32272374 31343875 9620476 32993976 30657307 34930368 36371558 1804399 35247140 35280471 4583482 35577599 32003395 2939095 35453293 34657844 36304592 33476728 33381548 33427411 31517527 33496491 33387967 32939152 33275761 31475065 31184764 33220548 30732377 30849790 30357702 32030386 31808248 33039287 31324611 31376041 31644157 32330721 30514366 31808249 33010630 30022084 3782257 7972531 8145459 30290580 30444666 31687608 9620469 5466962 8194007 32404626 4631845 3378306 2549049 3472354 31666417 4451155 2939095 5506296 4616190 3620493 4446485 30962526 34752700 34657844 3414749 30536432 33331004 30611680 8036156 9620469 3472354 4300699 30163110 4864206 30414090 8026677 31709523 4699126 5650996 31843000 3884575 30260502 3079872 3795586 2705410 31164090 31709524 33347390 2654264 3753304 2627301 8067023 4583482 4082812 313563 4407285 8124417 8155478 5702706 30611679 9620471 4076051 4562881 31684634 4129672 2939095 31215747 2949854 7854179 30660281 31975868 31987074 31686912 31871332 30821195 32420470 32514230 32506600 32583249 30553053 32517047 31939062 32511885 32442627 32356380 32479376 32492838 32510503 32420393 32446598 32538634 32471853 32172035 32291380 32063730 32420799 32420829 31988250 32343658 32357360 32415274 31922399 30710021 32252836 32494628 32465761 30636951 30679873 31890669 31277099 31370215 32040671 32220821 32261079 31436070 31873974 30707718 31525115 31435697 31368611 3753304 32594045 31759089 3753309 30395923 2939095 31709522 5650996 36371558 5700639 8189661 8171206 32583036 30368297 31709523 30183395 31433084 30642138 3579334 33347390 31690349 31649897 30595329 30646584 3884575 4074795 5781108 8020880 8153418 8224330 31871045 34599917 34697280 30214935 34978550 8115192 7877311 30945823 31697928 7847869 2512751 34518500 30657307 8077712 30169608 36331121 32003395 31951252 30853163 3734735 5795006 35757422 8094460 32497863 4616186 33434629 33369437 3568916 31709524 32603209 35944240 8155478 34930369 34476749 9620473 30444778 9620471 32939001 9620475 2939095 8155476 34012988 34930368 31709523 32939000 8124417 30611680 33841443 32529114 9620469 30657307 30163110 31726704 35798620 3136472 32583036 5694902 30468654 33347390 35014621 30829858 7877311 30230986 35849919 31709522 8228039 9620476 8020880 30384697 8172972 36428682 31835421 33601086 34657844 30660281 32939152 34930368 36299671 30384697 33691794 2939095 31227645 34699669 35730708 34497207 4037314 8236055 4152254 5748406 4163116 3440448 2315961 4101639 3837683 2093360 2212365 3065249 4438401 5456521 4818613 4516940 4693165 3492660 1756969 4163115 3939070 3796616 5462606 4308010 4471542 4050616 5781346 3735693 4019328 4344497 5805844 4188687 2271648 1807098 3928713 4009751 4686392 4454340 3999213 3958817 2129151 4033065 3987108 2339048 3647093 3771082 3339283 3940453 2349352 4262252 5466962 3534777 1934285 3620493 4665892 3378306 3782257 5694902 3026155 2549049 9620469 5385974 30514366 31666417 2997924 3894276 2106761 3739057 4631845 2934671 420424 2939095 4511752 2627301 534748 1938187 4451155 30290580 30444666 5506296 1913253 4616190 8145459 32585415 30745314 30021833 2170350 31309947 33010630 2425088 742358 31726704 32404626 2960594 32652 433353 78853 70602 91256 70994 37571 503339 70896 38548 91264 87307 24135 78351 77694 71581 83471 91254 9390 78602 473302 87483 481561 87596 33273 489869 1325050 608151 432269 65305 66240 91255 62462 521730 1606430 74417 91262 732516 32790516 1204915 313559 488135 91487 531006 505165 104110 866710 33651 24134 159405 35547608 34801324 32638453 33100445 32766653 32441175 32358035 32650495 32080116 32035345 32176283 31622665 31733865 31542749 32358037 31494835 31366583 31278132 31655894 31265574 31475052 31252455 31199911 30592961 31964215 31136692 31892873 30367365 30495002 30638964 30561014 30428238 31195116 31118049 32693903 32722529 31694446 32898938 31027961 30287019 31361208 30453635 33887574 30533854 31002879 30862292 33019811 30536319 31465300 32857496 32926951 8288792 35269749 32860576 32001519 32846393 31211131 31840776 33067486 31235652 32906358 33461571 32766837 31792353 32781789 32616834 35225822 33320444 33461566 32685405 32890352 32939098 32654999 32961890 32909167 32482041 33464805 32498391 32616727 32572926 32944335 31973293 30707718 33453387 32650659 32198024 32769392 32651673 33326927 33442307 33333967 32953471 33884039 32685354 32696461 32790193 32821298 32633652 32602923 5475562 32930704 32033206 31769395 31769398 33029521 32129919 35343852 36139906 31451300 30434569 33340515 33212602 31726704 33864316 33238609 32341976 33240849 35308070 30676581 32939043 32939044 32833785 36395487 8224585 34500931 34627862 32264985 33333999 31646296 32106048 31605777 36319100 36344980 31469283 5713426 32813422 31666421 34270811 3821467 33512342 32939042 31635432 30561148 30984879 9650452 32570371 2939092 31705768 32956765 34787048 30769948 35268639 32474767 31827553 30796720 31584885 32322344 31701438 33151945 31383207 31383204 32226454 31009751 30499843 35268794 30890099 31383210 34859040 30961322 32192709 32192711 32741359 31999912 30561143 31879058 31642244 32142744 33151944 32956755 31866390 33023069 21984273 32863796 31889301 32523264 31348682 8036156 31926214 32594786 33214328 30157753 9631530 32614016 30286429 30721801 5523624 33155100 33140003 33151063 32502821 31202362 30003158 7852587 33064133 2939095 7932727 33063840 32046339 33158962 31620662 32034226 32475383 30675353 32324778 4016085 30715020 31188665 31736279 32367390 32725230 30063123 32321997 32892548 30888148 33142804 32055925 30120986 31803125 3982116 32149204 33097157 31420429 33133943 30907007 4407285 31624517 31803127 30301701 36290209 33403456 33825901 33938664 33643962 33745722 33594084 33587113 33651549 33811043 32906227 32939046 30541906 31186129 31776569 32230807 31972379 33643963 31941909 31899100 32850815 31908288 35353564 33832303 32930878 32767806 32040861 31856627 32850817 32698151 32922135 31879101 32001574 31956767 30049278 30775042 31212927 30526548 5771304 31232648 31172285 30375802 32777625 31048176 30494001 30009272 30587637 30601142 31932018 30651619 71606 66240 70896 38571 91310 489875 9391 64313 67078 9270 74289 83181 66824 3000729 37588 71608 1606412 2183148 50736 9390 1322991 78602 19094 66310 76321 10126 91336 50014 1322987 316480 49035 1627765 1606413 489869 38426 20245 26447 10438 91225 9382 37171 2335551 54227 24971 61819 91299 57211 38461 509521 1606447 3363619 50012 1770572 56870 39128 58967 60807 70602 66263 66362 70685 66363 31080294 74113 66240 529061 1606450 1606445 66311 62462 1606428 37571 33146 9390 73257 1668644 83721 38547 86317 489869 1675531 32652 68799 489870 489876 78633 983247 74260 88549 78351 5756406 37501 8179188 81926 83646 1516879 431291 78853 70994 85258 36191613 36425456 36462869 36443497 36428082 36429557 36431069 36423068 36414424 34305731 31062863 36422752 36410735 36390705 36374621 36380754 36382580 36370514 36354710 36350275 36370396 35543942 36365073 36334401 36335610 36335624 36351780 36340418 36319421 36314316 36323645 36324224 36313013 32939051 36296575 30967921 36265974 36283869 36243314 36247467 36254943 36257309 36242214 34746531 36215553 36234798 36206208 36212274 36180688 36180700 33428837 34588190 31615302 33596732 31495688 33425420 31429057 33359795 33170811 35454481 33346999 33420822 34559914 31958069 33388144 31614896 34167299 34542029 33388143 34081318 33152907 32939025 32559708 32955258 33117613 34366010 32650480 32559711 35685437 1850253 36047573 32460245 31967365 36351997 31635190 36048470 36044162 32556355 33134563 31687991 35018128 35197790 36233410 33596730 31252159 35478283 31227645 4300699 31783829 31850466 8268275 32243260 32086755 32922148 8077712 8124417 4583481 34826874 30444778 8020880 8005879 34074850 33517367 4579468 32019091 33372785 7877525 30169608 34826873 33333967 30335226 33505676 30143498 33338706 32664172 33079031 8250335 32939098 33381548 32742088 30203331 33372782 33372144 30247595 33420472 33462467 32906419 33316893 33521537 32365805 32513985 32479376 33772329 33623298 33210835 31890828 70994 432269 37571 481199 46957 78351 46999 83471 9389 78853 91326 608151 38426 505165 91308 159405 985739 78185 473302 4077 1675531 2277092 37557 91331 1644732 9390 83181 79951 83778 94296 83443 82877 82633 91261 503109 78602 476668 423583 430978 78633 91264 91254 609381 1644737 423589 1516879 70602 70896 75173 87394 32159598 32479576 33054789 31700065 33096515 33033530 31429050 32159599 30887095 33104785 30541392 31295312 32939046 30835309 33029109 32331774 32698835 32163199 7837787 30317183 32999764 30601144 32224280 31957991 32251835 30065883 30715020 32506646 32075416 30576771 32524975 30555692 30113169 32955254 32325552 31717827 8107687 31025164 2612765 5380328 33027125 32616834 32915886 32650472 31123619 32698837 32671283 31941909 7931720 31906851 3136472 5795006 4583481 32794652 4743165 33379613 33347390 30017614 33527706 33766371 4082812 30335226 30399494 5702706 33469725 35361345 30215674 8036156 35730708 30367190 8089568 1093692 4864206 30536432 4674340 8112456 30564425 35018128 5629331 33708788 34930368 31372362 4583485 30669683 34694005 7881505 30232719 4583482 33725779 32307439 33939312 3843563 30157753 30345502 30851704 30049271 8244031 30736444 33359309 32939046 30536432 30290580 31709524 30657307 5694902 8226483 4583481 33527699 33691794 30945823 32594046 4417811 7972531 30646588 30960105 32473998 31770213 3734735 32003395 8182907 33403501 3890826 33448508 31134339 30510617 4736372 30021833 31258251 32465761 30163110 7858989 30514366 3414749 30169608 4433490 2939095 9620475 8161257 8104514 3568916 8268275 3884575 30200848 8005879 3940533 30293567 2106761 5615478 4681146 31587557 34119233 30883187 31680717 32600765 32342193 33198346 32330721 34301194 33225614 33333876 31923552 31492722 34038836 33344898 31469283 34055256 32404625 33214671 34138749 34049377 33010630 34011463 32651484 33693631 5579392 34002084 32939042 32267569 31907787 33371306 32716099 33340515 30042921 31482667 32580063 30900695 32211699 32513985 30692341 31568895 31624517 32766200 31321351 32244377 33021760 32939041 33257156 31981392 31475603 34811932 31321349 32999970 33897435 32513983 32254972 31415200 31568880 34057389 32479460 33344898 36359275 36078243 35876006 35546497 34847378 36001290 36110996 36105548 35454426 35931532 32377902 1698598 35617555 33280306 35454425 33408562 34254823 33805289 32142707 33001672 33139117 31346718 32961718 32720013 32578498 33016659 32919643 32939046 31266290 32872978 32830279 32825454 32853712 4803842 32714490 32790516 1093692 32486941 32734372 32768945 32725013 32465907 32777625 32528369 32559781 32175937 32313543 32246776 32038651 31754579 35701934 35503550 35485544 32436470 33096515 32999764 32939046 16654834 31312203 31614869 34558240 35299693 32877075 32438894 31734881 31510402 31445544 30363713 30806580 8195491 32645614 8109412 32539935 32746911 30753537 30279838 35653817 33030767 8168735 31617589 30753538 8172437 30775041 8212951 36321908 32035983 8109414 31126160 7880789 30758621 32356380 30632329 35505766 32676522 32935020 32885591 7951568 30758619 7849515 32272374 35454430 35456702 35451383 35417636 31284490 31686223 31842335 32496418 32569034 33360219 34736092 34851531 35400348 35382500 33877790 35381401 32075573 31830239 34038696 33674394 33039287 8109412 30715016 33340515 33134268 32860215 32482634 32939043 33340517 30880944 31429778 31485892 33742930 32830129 32254972 33453727 31485890 32953600 33864316 34329743 32374061 31618462 32697708 32431492 32115921 33646766 32072281 33094176 32833785 31690349 32254620 33669083 32184167 31843000 8036156 30850317 31587508 31260660 30049271 32014102 8172437 32939046 31213476 33968306 30707718 33061995 33129886 31666417 34373632 36391317 31724057 32438894 33011180 31503407 31736939 31070826 31674785 32496042 31674786 32857496 31617588 33490612 33190496 31186131 33850907 33000086 5466962 30021833 31939062 31376041 30714656 30286077 31510411 32806101 32939152 34605967 32420470 31871019 8109410 33632153 36417475 36417476 36417477 36417478 36417482 36417483 34476627 35685443 34875621 32479576 33064133 34927767 35618160 31532656 36261089 35412039 33444738 32671279 35505766 35268790 35668899 32208754 35923616 33150797 33842207 34564047 34588191 35353561 34100776 33562949 35197785 33722788 34588190 34755406 32859753 31724057 35337708 35363934 35497097 34397936 33333800 32643134 33709720 33170813 35867428 32939090 33766984 35677906 31668320 35728532 36339451 35728530 35268790 36273351 32546462 35884729 32479615 35937396 35433951 33333802 32071686 35685438 35685437 35197783 35197790 35197792 33045299 30845491 35508591 35618160 35268787 35637933 32783383 35536571 32939090 9619961 32291857 33811045 35371412 33811048 35337708 34935274 31294776 34407071 35268792 35018129 35197787 34588190 31584881 31584885 34755406 32821405 31835834 34481990 33811042 31597984 34634792 34634789 7912749 36136158 34588191 35412039 35944240 35757422 34101837 35505766 34012987 35268790 34476749 35668899 33150797 35798620 32208754 34564047 35353561 34100776 35944239 33369437 35197785 33722788 34588190 32939000 34012988 34755406 32859753 31724057 34101834 32939001 35337708 35363934 33842207 32497863 33444738 34397936 33562949 33709720 33333800 32529114 32643134 32671279 32939090 33766984 33446154 35677906 32226458 31668320 34101836 31166697 3894276 30657311 5466962 8298724 31726704 35553933 5694902 8036156 30260502 8194007 35060827 30444666 31666421 31249401 2939095 5371629 5506296 32404626 32585415 3568916 30259844 30444665 5656580 32129920 3378306 31196872 3647075 32939042 33240851 5713426 2960594 30453365 4291510 33186501 31569106 32917447 31671466 30602534 3482051 7952306 2678081 4026622 31825588 30870109 32106048 32482640 31605785 32330721 31299446 33340514 34502757 31962245 33071240 36182380 35702542 32974700 3127576 36365109 35644238 35557325 32939042 35729162 35191093 32493402 31736487 5723836 35708737 30060268 30650666 33064536 32466662 35956118 35707529 33240851 31646296 36391141 33115798 33347408 33005088 35255646 34870347 31326356 31969569 30977912 34177387 33780124 31641140 32282505 33749036 32374061 4478167 8186359 34037775 31429778 31306469 32908389 30470534 33245717 32651484 5656580 35235905 8253354 30977913 32939042 1972849 31469283 34055256 33995217 31485540 34036212 33186501 33175764 32061268 34431322 35963275 33871456 31671466 35814113 32476250 5436000 30444666 30612416 30602687 31295126 31042621 5713424 31309962 32567536 5713426 31098048 31681248 32640111 32091222 36307989 35990667 36048425 36421591 36365510 35879571 36184923 34755512 33418244 35756925 31343875 33160206 33160203 33453727 33333999 34431322 33297928 33340515 35374617 35058265 32604443 34586995 33367994 34153677 34870347 34502759 32856679 32930704 34774845 34770134 34737717 34614873 34627862 34722072 34686559 32955982 34533093 34442493 34057397 32939045 31153242 32188779 33167330 32018097 34300449 33871456 34502788 34502780 32939041 33340514 34627862 34596072 32953594 32115920 33195218 32939041 34500931 34456339 31475603 35787605 35889952 32404626 31670287 34055256 34058397 33214673 32055698 33134268 32133827 31306469 33021762 34056213 31322381 30692341 32677267 35400662 7900091 31322381 33251880 32476250 32083727 31306476 34547880 33871456 34811932 34438430 34055256 30987581 32000347 31605787 32939045 33251786 33301174 31525243 30383956 30444665 31670287 30977912 32341976 30294545 3482060 33043504 32939042 33043506 32939043 32388001 32640111 30022084 4406082 30616707 31633007 32091223 31568468 31568467 32399266 32436031 32442399 32237406 31605785 32061268 8036156 31249401 32129920 31686435 31635432 30672689 30987581 34162394 32716099 33160206 31605780 32091221 33593581 35553933 32374061 3482057 33680289 31343875 30444666 30676576 35200856 31417874 33373748 35739507 8233373 32476250 32942185 30718029 30977913 30444667 33939317 32562926 30383540 32158963 36081064 33340515 32115918 32141931 32735698 32939042 34627862 31782554 32091223 33043504 34055256 31435682 32939044 31605785 34038835 33333999 32550314 30781649 32194059 32000346 30870112 34535736 31475603 34630482 35058069 31295126 35751152 35200856 36464017 32342197 35186312 34683274 32939044 32129920 33214672 35987133 34662015 34627862 33240853 35879673 33102322 32906328 35924490 33240856 33543269 34659200 35814113 32939042 34547880 36047667 30383540 36089875 35186311 30611685 35739506 33195218 33160206 34037775 35898022 34606780 35677818 31712519 32917449 33483664 33346776 36101097 30764188 30987581 31923551 34095313 35815106 36081064 36011504 35891504 36009171 34410395 35136966 35207533 35060828 34443401 36214947 35056539 34951480 34870347 35203227 35003354 33736729 33939316 34432408 34418215 34432523 34414783 34367427 31415200 34351699 34382762 34311020 34174456 31403111 34345308 34326618 33097085 33770527 33757988 33715016 33742930 33512342 33608241 33608820 33516934 33333999 33581691 33593907 33593581 33571543 33568921 33344898 33340514 31963929 33374265 33372144 31240961 3925349 31644157 31396064 2106750 2705070 81587 534748 1997561 3630778 436309 31170188 31110384 32028582 852669 4038378 3408920 2214098 30310064 30924510 30930355 30929908 30925570 3038882 30453450 4668006 8223024 4467085 3136472 2939095 4451155 30611680 4864206 3924554 2950741 5445241 3892196 4285745 4844070 30911380 4669749 31004481 5376608 7885231 30331389 2669855 3526967 30378584 2665453 5816217 36447608 36406044 36418817 32711048 32762075 32247356 36410208 36378323 36392617 36424889 33054789 36038351 31697740 35270476 33442307 32710641 33380348 33368474 32939046 31568361 36157280 34562040 36224655 35944239 32939000 31478834 34879289 32224272 33448767 35058034 33528907 35757422 31687985 34101837 32961285 34476749 33528911 32224283 34264703 35536571 35962853 35527830 35553298 34582859 35937397 35488206 35722425 32939001 32230807 35944240 33438866 35527352 32584973 33323386 34352762 35798621 36108692 33666177 31360264 32530423 35537222 35905430 33045752 30367365 32182341 33955735 32706488 36304565 1913501 36144767 36110998 3948905 3948904 35622901 35456702 31815490 35353560 31941909 34826874 8204712 35249997 33420969 30753538 30139735 32447472 30698198 30264866 31843000 31899100 32777625 34074850 31734881 32539935 30872555 31056799 31409519 32074815 31363664 32939046 30049278 5465067 35018129 7881233 32193722 35203225 35203226 35203227 32430150 33643962 32430149 33643963 33643961 4366156 33444738 4749620 30230986 34587210 31113241 30660283 36372110 36109147 36095421 35690114 34199859 32860240 32600578 32046028 32213578 32180564 31368699 32059384 31764817 31681834 31686253 31655897 30753940 30909912 4182990 31394186 31611361 31590645 8054938 5807659 31102327 4857116 31236660 31184574 30959702 31196588 31102328 30517080 1812526 30378082 30883561 8154713 2159948 30939059 30900007 31304206 31083843 30949322 30702895 30106247 30535896 3745743 30754120 2710252 1749597 2132361 34927767 36136158 32479576 35944239 34305208 32226458 34101834 35353559 33709720 31295312 30660283 30773554 33413898 32939001 35547199 31978140 35798620 34588191 35412039 35757422 35944240 35268790 35668899 33150797 32939000 34012988 32208754 34564047 35353561 32529116 34100776 34101837 35488206 34588190 34755406 32859753 32497863 34476749 35553298 35337708 35363934 32529114 33842207 33444738 33562949 33369437 35798621 32643134 32671279 32939090 32961285 30657307 36136158 31624517 34927767 34101834 35757422 33425484 35944240 33425478 33369437 35488206 34101837 34562040 31196038 34101833 32939000 34879288 36080415 31144464 32854381 34476749 35944239 32922133 30775041 35553298 31126140 35798620 32224278 32561659 32497863 31180425 32556558 31429050 35268787 32939001 32307439 34012988 34264703 33320360 32529114 33315264 31815490 30980827 35798621 31779028 33444738 32529116 35018128 34774983 33063704 36081382 36047573 36080409 35757422 36080415 36078777 35944239 4096206 33643777 30450254 34476749 32602508 36050355 35993850 35840141 36038351 34101837 33507461 36001290 35977120 32939001 31144464 35985167 35982816 35970896 35798620 4719217 36021812 33369437 35521284 35976531 32529114 30926522 35840144 34901720 36038432 35553298 32939000 35944240 36045011 32497863 31153560 30572632 32319876 35840145 35217595 36182847 35488206 32904537 34754292 34657844 33255309 34760032 7931286 33045573 35729104 34297402 34845949 34817660 35707473 35931532 32820633 33389552 35454426 4579468 35708235 30169608 32213450 36078777 3452769 8005879 31688544 32518362 32027189 35985167 31056804 107126269 32939093 33028583 34450075 8077712 3853978 34136382 4848555 33296575 31343875 34943312 34927767 35023340 2143663 5475060 31877297 30305179 30449507 32666973 8111603 31701428 33635302 86166 174589 70148 526820 9390 91245 72698 1022090 3390249 68902 71502 33189 983247 67691 38445 33089 1876466 1185237 70696 1606430 71032 71608 1606428 67078 62462 66261 66311 1620554 91124 14221 66397 38651 487515 66310 66362 56870 55991 2183382 91114 2323160 60807 56880 55040 91435 176479 57519 193014 49565 104668 51481 1675531 521730 1606560 14221 433346 67078 9390 3060821 611148 1620554 104882 60807 1668644 1675470 4183032 494163 483636 68975 2323160 32652 983247 827925 71606 1500836 32700 1606569 1185237 432438 1876466 53616 53615 448005 1185241 70672 987651 70602 33189 33191 71554 91240 37579 91492 66311 91241 66310 3667520 62458 58941 3000723 66397 32586853 30457472 32586848 8120282 30654357 7931329 33271200 31603407 33304727 8094220 33283871 32741361 32586847 31927275 32120999 32321902 30729257 30347818 7982623 32190201 106783710 4616190 30658626 32243275 31687608 32040784 32040785 32040786 32040787 31979492 32040788 32040789 3602098 32124655 30398933 32087918 31376041 3059156 31481704 30345502 5465008 30611680 3753304 5402841 30378582 30514366 1883446 2939095 31062863 31412373 32939042 3780500 36184923 35003356 34162394 35963069 34802385 30150711 34002084 32342193 32582913 34302193 2658541 32251432 31277903 30902281 8150493 34870268 34043995 32479465 31629660 30283682 33158692 35498846 32065867 30042165 32900052 32282872 8172360 4864988 30025840 31520425 31830155 32676503 30658626 5750138 5491040 31569106 7857091 30398447 32539443 4107750 4665892 7908312 5486037 33617662 3378303 3378306 33062292 1525532 31873975 33115654 32274770 32742805 33608820 35643576 31726704 31686435 33340515 32476250 30444666 33340514 31606222 32091223 34187530 31770213 32115919 32442399 33624507 32115920 33029521 31737039 31485540 32939042 33855085 32207162 32390567 32650954 30870109 33010630 32042582 32278321 32129920 32129919 33593581 35377112 31200183 8077036 31657618 33465343 32399266 32189161 33463380 31847258 4348865 7866646 31570618 30612410 30600679 32251432 8036156 33871456 33742930 34686556 35221860 34187533 34187532 32100955 31249401 33251786 33754625 32115920 32442399 32833766 30977912 33340515 32374061 34431322 31782025 32091223 31726704 30434569 33021761 30388627 30758077 32939042 32330721 31172494 32953600 30556816 30672257 31368574 32922505 32106048 30676576 32388004 32004994 33049850 31221130 33807114 33512342 32341976 33158202 31568468 33453727 34547880 32129920 32833785 33134268 32472552 32891366 32716078 32939042 33065337 33340514 30977912 32716099 32670979 32766200 32651484 32254142 31697406 31988628 32363538 32630694 31686435 31291425 32472552 32255103 33087899 36417482 36417476 35371772 34248414 31736992 33325229 34100769 31803991 34371481 34875621 34171054 32493944 32438896 31446155 32557963 31966804 33666177 34451899 33017816 33420968 32509043 33475829 33955730 33395645 33116920 32506651 34599241 34407071 33388144 32422482 34215819 34215820 34298496 32939024 32790874 34521602 33333802 32617101 2951353 8042168 33248390 1099354 2544957 1591687 1836107 3772618 2517775 1789552 5643420 33347497 3638135 32130507 1849811 926192 4645220 31104205 31291809 7885417 1371286 2939099 1033125 34063298 1745759 32959260 32376558 33046102 33061995 7921208 3114672 492078 4646573 663414 105889 851429 31040876 517489 31681848 1669012 32130504 30351084 2357862 518098 30775076 5493725 7935505 5690594 1579236 31068329 36395487 36192456 36265430 36222706 33939316 36109370 3000984 35016680 35958308 31920851 34551066 35668392 35624149 35590441 35252996 33939313 35434198 35221886 35221887 930974 34061322 3037256 1961948 2939099 4645220 1322988 32235289 34310036 34514225 33999120 1143071 2097848 1505958 30673956 32620043 34359753 30810319 897725 31192512 8038458 4369898 33976672 1322987 34431086 31414751 34365739 32620042 8019089 5482636 34174456 517489 31681848 1669012 32130504 30351084 2357862 31383915 34431052 33347496 33346928 1125397 30973947 2951353 8042168 33248390 1099354 2544957 1591687 33347497 3638135 32130507 1849811 926192 4645220 31104205 31291809 7885417 1371286 2939099 1033125 34063298 7964823 1745759 32959260 32376558 33046102 33061995 7921208 3114672 492078 4646573 663414 105889 851429 31040876 1836107 3772618 2517775 1789552 5643420 34378248 1114175 34315687 530043 34300598 1114180 34277215 2933662 34273003 1110295 34143183 4399703 34022599 1521181 34017328 481199 34002022 90731 33976672 54376 33976671 2228949 33975400 531607 33965084 4686952 33909430 2590471 33955533 31314144 3041853 33950319 33939317 2603116 33939316 1454604 33939315 1548821 33939314 5579390 33939313 2613352 33909513 33938914 2951631 33909515 105644 33921348 1525532 33896695 32464068 32899050 32794652 30343218 32280012 32777869 31804010 8026677 31937299 30314784 9621298 32438894 32871975 32156286 32378104 30962526 31984204 32734819 32521396 30686020 32588067 30276635 31314144 32136650 3929471 1764594 7877918 31927275 32586848 32052433 32698889 3628517 8300804 31270079 32311870 5756880 2939095 32021041 30157753 8148487 30490073 31093711 8215260 4827130 30597835 4644702 3133073 5457961 30530019 32235585 31519138 4163687 3526967 1992457 8163121 31939062 32479376 32471853 31368611 30182915 4681146 31770213 32596533 9604584 4730093 32693547 32654999 4706335 32502821 8295867 32421335 32243273 32603209 31295312 31726259 32665408 30806580 31674790 32639386 4646575 31709524 30526548 5771304 32029716 31576009 31159170 8207243 7892770 30367365 30692580 32506646 35058334 31291425 36136158 30698198 35503550 5390983 32607375 30597835 32939046 34752700 32235589 8178282 33384800 31170188 36338877 35821136 31674786 31305234 32585661 35434189 31952571 7872757 31442227 30692581 30227061 30355842 31779028 30980827 30680604 30773459 31286805 30541388 30660283 5638509 32449290 4706335 33476728 30468654 31783829 9600435 32909167 31161637 31847743 31636899 32906021 30659027 30530019 31939062 31086294 30521573 31184764 32790193 31770213 30264866 31644157 32231013 30676578 35251904 30001430 31236055 9620469 30450307 31281932 33855085 4827130 31639951 5711462 30656620 4684705 31403111 32061980 33653442 32814095 31850466 31709524 30453365 3472354 30875530 4390989 30839312 30247246 31052206 8295867 3529717 2382634 36280286 33220548 33689217 7911687 33444738 33453045 32486065 32243275 30519033 32939046 33257245 31280868 31324611 31815490 30775042 33293837 33039287 32074815 32561659 31376041 32194058 31843000 30639985 32961285 32972432 30083397 32447472 31889629 32307439 32034247 32860453 31264015 30707718 33320458 31291425 32243273 34518500 33045720 33214297 32939046 30378582 31343875 32651484 8036156 31496488 4821177 33722789 30444666 32310968 5495296 4212782 519620 30191370 31338894 4527642 31726704 31635432 32906328 32061268 33340514 36081064 32939042 31867376 1120791 32056216 31617588 2009376 3136477 32237397 31584885 4312955 31338917 31719821 35577965 5486035 8224585 5506296 35956054 8052796 33855085 31252166 30444778 35890454 35484543 35958308 35252996 35885208 34724315 36033536 32716099 33639326 35754329 30895277 3796969 34087224 35821136 35671044 8035456 30143605 35060826 35207873 35522733 32365805 32939098 33939317 32622801 33139118 5700639 31106982 32243260 3849509 30646588 33531322 32012750 30247595 33010630 33623298 32927169 31948821 32243271 34481680 33420472 33372144 33689217 4300699 33340514 33939312 32055994 33517367 3140866 3535240 31906846 33029358 8233373 30646585 32891366 7896509 90782 106605 71606 81075 86317 78184 9390 31993148 91299 85854 91331 8179112 71608 473403 20243 91823 74260 85257 103868 80475 91257 80095 74460 76252 83783 983662 524757 66964 86225 1648285 983247 105718 422608 926124 20886 525033 481205 106517 447865 926126 105715 32574 496002 86166 85861 79740 889545 91263 71607 1533410 35103938 35709215 34850616 33804875 33276415 33487592 33487593 34394458 34870118 32530437 33570985 32790307 32274796 35779030 34994975 35665692 32692932 35618160 34987138 34774290 35238651 35419116 33216383 35275731 35388844 31510000 33587106 33229057 32131974 33264576 33273748 35545294 35545295 35512823 35522357 35527833 35543388 35536530 35527830 35512822 33438868 35527499 33026018 35504637 32559708 32939026 33465245 33679285 31640364 35477649 32243273 31864770 5729077 8109412 5600066 31849390 32534708 5470601 3576490 30806580 32987477 32389814 8086947 31684633 31857025 32631330 30732377 4433974 32808616 5694906 31893681 2650367 32119515 3739057 9613173 30049271 33923720 33643962 33444738 32438894 33825901 32291380 33275761 33666746 33666356 32939046 33453045 33709720 33645879 30732377 33403040 30421827 33668205 32962745 31830239 33315858 30444780 33770726 33736449 33689217 33665564 33613349 31857025 31070272 33257156 32243262 30648772 32069046 32091223 33088332 30453365 33055516 33046523 33010630 33406558 4355252 32833766 32075573 33078648 32404742 32011704 33043504 4407285 8228040 33081874 33084648 33087894 31834337 32917454 31454150 32160264 32128180 32453493 32467236 32230439 32158792 33080329 30326461 32390552 31309947 33027125 32939008 33031573 32231013 32994959 31906846 33030406 31666417 33078649 31835421 33077847 30444666 35945927 35595136 34184538 5629425 30227238 30393293 34421197 34579919 33701753 35306297 34186262 31413372 2100540 32055419 32650495 1002911 4118346 30759149 2595949 33949313 30147445 35705026 33998510 1951550 35979940 35708856 1637914 33844597 4743566 35106989 1576533 33051729 4180167 34673936 35665282 34380525 35692182 2357938 33838140 32465076 35793590 35452948 33645286 32319578 33443106 33250204 35779025 31252451 32939059 35708741 35271897 35336581 35271895 34452089 35359429 35333894 2746252 35201225 35356181 5579390 62462 1606445 91310 612037 74289 62196 4344560 1140592 425795 38547 38426 430051 106215 827933 50012 67463 2768149 1929329 87307 1927248 1829492 2012282 9390 1888933 9270 70602 622664 1325050 2100540 74372 1992252 863194 1698598 2212365 1875215 1654819 1513462 481199 78633 433353 32616 66240 57519 37571 503339 10434 8244030 1606430 9389 30910326 7884532 83471 9390 866710 1606447 38426 30565335 2221848 433353 30331405 3460102 1325050 1656576 52024 31013032 46999 8073378 608151 31199911 7965310 31825075 32768945 525682 91262 1771020 75173 30966419 32030960 33718636 33728208 33743155 33666746 33731480 33725776 33725775 8295867 4646575 33701827 33701825 33690424 33649710 33668958 33660674 33667412 33666269 33660696 33632153 33639577 33639909 33625988 33077234 33189248 32697991 32057802 33077590 33142705 33055516 32996570 33109772 33483031 33338706 33293837 33263148 31624517 33214850 33026570 33013574 32813419 32909167 33013605 32939046 32715812 32871146 32268915 31975868 32578498 4123220 701548 30335226 8020880 1885189 1809308 4640746 5692633 2939095 1727368 1648278 7891671 533148 30408194 5694902 1989173 8077712 1185037 1093692 1668394 825283 3906249 1956876 86981 3037049 1196558 642427 930977 2170350 2596058 1525534 1885185 2183071 2092387 3426565 492491 313563 489226 4583482 609381 3573175 3100800 3414749 3879373 896246 456224 74417 1368852 497097 1844734 34701996 33283535 33831963 35624152 35564570 33343135 33373848 35553933 35668510 32588658 32943355 33067994 32742942 32996321 33301174 32928206 32911822 34627862 32791410 34748940 32768435 33257156 32760098 32874122 32640111 32908807 32626738 32602999 32996218 32457894 31435682 32129920 32479459 32464066 32939042 33125550 32442727 34055256 34603517 32398129 32400135 32247355 32342569 32318138 32207082 31584295 32911750 33855085 32328655 32225444 56245 66240 66311 1606445 1675592 65305 38083 33146 66966 1606428 70602 70994 71501 71606 69518 71765 38445 2466 1606430 68982 71502 431291 9389 3390249 9390 78185 1606414 74289 1185239 1660995 73257 521723 38548 37501 74372 52024 72698 91262 38453 2323456 91264 105675 46999 827926 71766 78351 80563 83190 80565 91308 4284435 4246962 3552170 2276055 3941439 2939095 3858469 3626493 4222210 3133069 1136828 4227059 3620803 2228075 1492073 4322573 1957871 4258723 3979680 3979682 3979683 3979684 3979687 1126203 4007561 1810872 4335499 1482333 1745179 3706137 3574100 1813194 4201224 2000302 3580859 3704021 3941442 4320258 1949053 3628034 1833593 1905381 4390989 4431873 1655605 4390318 1727372 3735696 3624807 2025151 667278 2211479 38083 1185356 1116679 3570032 1374075 2960594 2939099 47133 534002 86980 3166756 1669012 1883446 1590153 607532 1476571 33728 525129 80392 3585964 8302 3925975 2295270 3625504 3925978 3638141 534003 313555 1877188 33206 111209 3565242 482793 3565240 2960543 833034 32574 3928293 3548836 91396 82877 1930167 638570 19807 3753304 2967751 3631997 421411 36010484 36012413 36012558 36009542 35998419 36001581 35992577 35988210 35957965 35984735 35984501 35980921 35978860 35982815 35980543 35977752 35977200 35983166 35974692 35967863 35962932 35964262 35963098 35962840 35961299 35959291 35959870 35957551 35959867 35957683 35953611 35953959 35950090 35953363 35946161 35950742 35950083 35950074 35943568 35943635 35939057 35940871 35942630 35925190 35923192 35920045 35923614 35923543 35920014 35919636 31917677 31917678 31917679 31917680 31917681 31917682 31893681 31893682 31864259 31864260 31762225 31762226 31762227 31762228 31706214 31706215 31706216 31706217 31706218 31706219 31514783 31369381 31369382 31369383 31369384 31369385 31369386 31369387 31369388 31369389 31369390 31369391 31369392 31369393 31369394 31369395 31369396 31369397 31369398 31369399 31369400 31369401 31369402 31391843 30025067 31597986 31590610 31590612 31590614 31590616 34847867 33065337 30535357 31475603 30257702 31885864 35982816 34627862 8080672 8172360 30764191 32818943 33446398 33139300 32755734 34002084 638579 30860766 32330721 31636899 32348213 32996218 34256638 34145073 30888796 3530044 32472552 31843846 31109027 31620689 32939042 2658540 32860215 32240519 34057831 32180679 30530019 33483664 34481682 33939317 8228043 31436059 31343875 30616736 32833766 7896511 33413902 31469283 33723538 33240852 31095715 2200798 31388145 8054794 5655272 4054936 3060838 1885188 2582564 5400358 4786735 30962526 33976677 30910978 32006650 32560653 31759475 833034 4153481 2270751 3334951 4185937 526821 10394 606307 3542792 5709750 611135 4111016 2654264 1885180 2939095 3006873 3454120 3815039 2652001 4054930 3774485 9614761 75833 1622996 1590152 8223024 3689384 1846941 4470419 1110888 3804456 8161065 4297062 529091 37845 984030 1707087 1771020 34500655 53079 53081 53085 432843 4202497 432846 69194 1839485 74563 30648520 3981992 8284955 3821467 33976282 1576735 2142749 5156 30985406 3946734 33304596 34575190 34582264 5440651 32676485 838738 1893908 7977478 3819126 34588251 33238609 32567874 3828890 1110892 684952 1763641 1589078 4559040 91124 31554149 2981600 51274 34627862 437154 188685 36365109 36090542 35963098 36388453 35986294 35817192 34917333 35618234 33046124 35640468 30648772 35804056 36087428 33178959 35817190 35586591 33769245 33593907 33446121 33077836 35509001 33293837 35848484 34235519 33220762 35727658 32873706 35560644 35271653 36199757 33999079 35219175 33077835 34367177 35817189 35235905 35506817 33939317 31624517 4706328 35557556 3480143 35220913 30698767 2192652 34217536 34850602 34802385 35692282 34094200 1805912 81877 1935298 8005879 11145612 30157753 2224702 3837683 4191451 1868209 4076055 5671015 5523623 8172460 4375626 2017248 3726437 1419572 23446 3788457 410224 1500201 106229 3897927 3454120 31938455 3989352 2910733 526821 3774485 4536624 3164052 9614761 8142905 1815605 2654264 2981070 10394 33625989 2783260 1090580 1772218 2357799 31506977 3434884 4446485 3681993 2939095 2590471 1836102 34528872 1757010 33284441 33293837 33177639 33861986 3897927 33288417 33229140 33229701 33229391 8174719 32998021 30176582 33067508 31388145 32970048 30514366 1948502 32342193 33029235 1836102 32997916 32158792 2939095 30654624 3897929 31955259 31312166 30290580 3815039 32220969 5439394 30776793 3552161 30973947 7967346 30386296 32995921 32451052 31808248 4144729 30875536 4115642 30028432 32071824 30320714 30099928 7981295 30017153 32939044 32939043 34329743 31435682 32939042 35585119 33212602 32377301 34500931 34055256 30977913 34431322 32357432 32843001 31109027 30736461 31306469 30736465 7900086 30736457 31863814 30549232 30181159 33614064 31469283 8298723 8298724 31666417 35060829 35060828 35060827 33736499 33736498 34174456 31595606 31666410 33043504 33736494 30616707 31666421 33736497 32891366 31617499 8283803 30445995 30005063 33264943 32115921 30676578 30676576 32873412 30715016 32513984 31029454 5475562 32226455 34431322 33550234 3458290 31144040 30677741 30139735 33864316 30898451 32388002 30662392 32813506 32864360 31815479 3370034 33148275 32409125 32513983 31060272 33938664 31836378 33158205 30937270 2939085 33190808 32998020 32962077 8160522 31864770 32068648 8161063 32728257 31987054 9627997 31858927 31857025 31363351 31363348 31432555 7963607 5462336 31571110 8225919 30403597 4261502 5514585 31070111 8249131 30447609 30121186 7843785 1990682 4078322 5440651 7921208 7882603 3576486 5644089 5464978 3038883 2658541 2018358 1476938 4676728 4305098 3165418 2939098 1868211 3773405 74803 4583488 2997933 3038882 3699174 4764927 3986108 5620736 8054796 8300803 8277172 8026677 8254504 8172437 5439399 8257816 7972531 5469971 4108953 5792625 5659290 5716889 5730712 5742359 5652476 5562849 4664058 5756985 3743337 2801651 507874 5697094 3743330 5742255 3041058 5757571 4289387 4754241 5578668 3772893 5600083 4018308 4289388 2939095 2801656 5648978 4736372 5689443 4393167 3848972 5684707 3999657 5669056 4674340 3556781 83208 91310 71774 85258 70896 71581 91314 68913 38547 60807 71766 84209 91247 82253 1675557 8179114 33273 3403850 1874936 50012 50943 2183148 37571 91534 74372 86076 91245 9390 81013 82633 83190 77694 66240 38571 1675592 56870 1414786 91487 81920 83471 2554061 75070 83326 73257 81926 83721 78853 38445 78184 54227 67868 3997717 30151474 5671418 4024357 4024575 4024388 5676449 47283 2604607 49390 54052 1578769 48205 5824863 4615240 2467858 5721829 58027 4499723 30152183 1574049 91367 58900 1573670 525817 456759 109805 3622273 30149805 997464 30151480 3621858 1664346 3593476 30151485 54301 2660948 47114 901237 5825276 3594489 535208 85108 52451 33268 61798 66475 78044 77536 32729 77872 1606413 437146 33590 33271 91268 38793 2274404 1816948 38388 77694 68902 72322 1761812 74372 1675247 91262 71606 91255 1022090 1500836 91264 72698 71766 78853 91245 9390 86317 73896 526820 38394 91534 70148 67078 71033 3052442 70765 1606428 67724 1675531 2743595 70631 83721 91310 1365705 83471 425795 9390 91309 27138 1017063 10434 430978 460396 432412 1140592 91320 79740 521723 1094161 20245 83208 1897284 73257 60876 80913 57519 431291 48568 622392 82633 27638 425453 1606447 503109 74289 71606 52451 3403850 65720 51934 1517351 15541 2981597 2981593 3849496 63699 62462 70896 91212 1839666 91534 30163110 5466962 5700639 5605860 2960594 2939095 30657308 3568916 30829858 3472354 3894276 30260502 3378306 8194007 30646588 7877311 5402092 2656353 4123220 3765856 8138925 3161593 3849522 3552165 5466964 4075988 3849496 5474160 4322568 4706330 7893048 1860177 30019713 9646577 4235794 3403570 3789644 33206 50627 5721630 8235860 30803904 8077004 30528130 30027708 1930704 31146940 74803 3849518 2960589 3884291 4195283 1858611 2347066 18357 429660 3528127 5671555 4007776 1211622 313559 5465008 2140854 2106758 8290 3552164 2654264 1094781 18358 2939095 1010331 5687925 5566892 3811449 4816338 5648491 5377602 3563629 4092403 5596816 4835665 5668716 5645978 4228319 4045290 3552159 4242539 4664058 5610117 4007820 5400618 4158256 4087797 2627301 1579235 4417811 2283266 3940533 3892196 4031345 38662 70148 69198 91534 38394 526820 48914 73896 1839666 1622523 72307 86317 37832 1877126 9390 91245 71033 91212 529056 78853 69343 74951 73257 72689 621799 68913 71581 71766 68079 71501 72698 91275 667127 2023565 1839667 72166 1675485 32652 1865508 91249 37501 91264 1500836 176202 69302 526821 1022090 72708 91257 74610 85258 62462 91310 83190 77694 71581 505165 9390 78853 75068 425797 431291 91264 91320 431292 106215 70602 20245 85257 74289 66554 47031 27232 827933 32616 1606430 91534 10126 10124 20224 431293 533372 9389 2770474 83721 39028 74372 65305 37557 37571 75070 827926 33273 66966 1606447 1606445 94296 1606428 1032761 31726704 31686435 33340515 32476250 33160203 30444666 33340514 32091220 31606222 31475603 32091223 33333999 34187530 31770213 33264943 30676578 32115919 32442399 31249401 33624507 32922505 32115920 30434569 33029521 32942185 31737039 31485540 33403208 32939042 35207535 33855085 33897435 34547880 32207162 32390567 31890828 32650954 30870109 33010630 32042582 34605916 31403111 32278321 32129920 30987581 32129919 32450201 33593581 34811932 35377112 36348295 33643961 33666219 33388143 33361643 33320360 33315260 33158202 33150997 33115809 33096515 33068745 33061680 32987477 32972786 32961284 32961285 30587638 32945113 32939090 32939056 32935020 31906851 4160250 32930875 30441014 32885942 32863796 32693547 32671278 31294775 32650472 32604865 32172923 32567547 32479576 32447472 32546470 31867375 30758619 30215199 8276709 31584881 31344113 32307439 31856627 8204712 32479614 36472351 31403108 35504743 35456506 35828605 31740039 33422390 35471639 35710884 8026677 30512675 35255623 35238224 31709524 9600435 8221207 4681146 4583488 33139121 30063772 35226000 31939062 33780724 4184832 31161291 32830280 34826873 31988773 32837098 33476728 34011262 31093711 30712801 31975454 31376042 7896509 31864770 5385974 32931710 35225552 32850966 34514465 31840776 35234442 8295867 35252046 8298724 31674785 33749346 5704397 35663578 31012145 30380968 30227238 30118149 31701428 32993141 31567235 31492319 30882613 32047061 30951904 32375186 31153914 5738546 34186262 33032093 4454382 32939091 33529270 32364508 4212184 30672385 33097143 31864746 32043718 33486215 33464146 30443065 31533430 33437611 8140951 32941214 5793206 30189027 32598868 31383322 31031312 31562930 33013741 31644014 32491313 33061157 32119567 32908826 33443106 32005000 30985482 31590847 32137576 31417871 31567235 32961716 32962945 32047061 32130396 32454045 35546498 32332834 32939091 30943117 32997029 32486941 30767984 31864746 33309138 35729103 33464146 30443065 31006534 4118143 5824767 31653027 31383322 31562930 32491313 33061157 30473255 32465907 31946695 31948772 30139546 31716771 31144081 32235937 32786655 32415838 4478186 32192978 31768274 33025491 32176284 31600763 32132949 31747058 31013038 32987624 31987551 30750986 31749704 30939357 30985881 31377748 31180130 31100683 31128937 31085516 31340344 30541386 31670829 31431350 31256835 8098615 30022083 31062900 30845537 31271888 31184764 31280868 31352639 31843846 30048640 30708465 31422752 31241802 32042582 31849390 30287371 31445535 31228581 8210613 30374636 31498203 31598442 31479038 31412857 31139030 30062707 31262876 31410433 30812682 30670149 31562186 31537720 31556318 31456835 31484776 30172480 30382996 32020730 36344252 33045299 33045300 34481990 36294270 35957197 36109386 31724057 31724058 32040859 30519032 30519033 30519034 30519035 35987597 35485197 36080410 36080409 36080411 36080415 36080412 36080413 36080414 36080768 35728530 35728531 35728532 35728533 35728534 35728535 35728536 32939055 4652065 31441817 31441818 31441819 31441820 31441822 31441823 31247096 36009119 35268786 35268787 35268789 35268792 35268793 35268794 35268795 32699867 31700626 33347010 35957694 32224271 33115807 33275113 33304149 31724057 33012915 34403011 35413994 34403017 34857659 32925442 32790210 32877860 32859753 33596736 32035978 35452174 32939090 31790259 34344553 32730356 34366010 34687590 32930876 33320360 33315263 33152342 32186175 32987478 34614739 34595285 31671296 32939056 31360264 31470006 30688502 32173707 31752220 31545283 31414987 34927767 34658287 33806540 33593907 33347523 8172972 3472354 31740039 31224311 31879862 31576667 31376042 31709522 31987058 7880306 4213411 31110777 3999657 30655314 30290580 31029508 1908049 30855650 31291425 3482051 30698434 2939095 31640492 31932704 31680717 7953959 31687962 31923694 5694906 31082056 31736490 3568916 31984130 4067711 4281881 3136472 31052206 30521576 31653436 31762586 31309947 30653099 35891507 35891506 35779765 36390373 36393834 36395717 31826111 33016444 31826108 36109370 36058992 35824660 35905453 35958308 35908562 35909851 35891299 35915791 35917182 35909014 35915073 32939042 30541386 30073525 30461364 35621625 35589806 35618161 35631937 35615701 34535599 35668899 35692166 35650529 34802079 35656307 30059769 31295126 30911210 31723975 30232719 34055256 31726704 30521482 30445994 30271730 30390068 3777042 4210187 1143064 36388453 36254865 35986294 36247528 33165212 35618234 33046124 32442892 36365109 33999079 35962837 35360924 33593907 35939505 35219175 35235905 35220913 34514660 35330039 30130524 35219178 33979514 7977480 34802385 31883558 34870162 31397547 34917333 34850602 35411201 34472121 32975122 34760482 33347390 34907232 2686267 34850601 32975658 30842425 34094200 34345308 31624517 35497997 32240519 34034271 33406558 2106754 33978942 33382726 4084672 36480197 36441425 36428682 36425695 36406069 36370516 36308520 36303138 36291745 36294802 36283869 36267331 36109370 36046200 35593311 35505810 35252096 35014621 34768473 33772329 30006916 32231732 1992454 30514366 31388145 860575 31823051 30176582 2654264 1622996 526391 32073457 8104514 4285743 4786735 30660281 32042705 4706174 1757006 2939095 3890826 430126 3897927 30646588 4816338 8161065 30024015 8174717 3079872 31938455 30011624 7896511 3472354 8194007 5445196 30789565 7857091 4276080 30877002 31674787 30035184 5579390 2746252 30314784 7858989 7878596 5519401 2658541 8145459 5486037 30870109 31565593 3743332 5702706 30383982 8167780 4287480 3996508 426307 8284955 5402092 9646577 31241489 9624770 4665892 8249047 4412482 3812103 1936203 4268557 4230004 833034 9647328 2425276 30019710 611325 7858908 7866646 4237613 5468677 33650733 33643965 32825456 32071686 33442302 33345191 30775042 30775041 33341817 33321247 30948892 33174281 30303502 33169469 33149046 33097826 33096515 33070416 33022160 32922154 32890126 32844160 32860566 32939090 32922091 32906227 32850815 32816300 32790532 32693547 32803729 32734375 32706705 32459325 30382727 31703485 32634136 31956767 30303501 33175764 33362590 8298724 33780124 32939043 33240852 35060828 35577737 32052435 32677267 34332469 35708233 35060827 36401549 36353484 33043506 31646294 8114711 36371554 36109372 36114325 35060829 33362588 35749393 32194059 8070811 32028581 35817190 36254866 36371555 34430921 36335179 32677268 36345067 34738677 33736498 36389707 36386455 36036212 35749392 7880306 34738679 36368399 33232219 31450782 36353941 31666410 30541392 36389712 8170724 30636089 33043504 3780500 32613630 33406558 32091223 33772329 32447386 32862246 33928778 32979985 32891366 32892023 32939098 32516018 3552157 4131875 33948292 30648772 33010630 32328887 5671555 30079021 3797775 32745056 3136472 833034 30869108 4694763 31283160 2939095 3552168 31293804 3403571 8192758 30624603 4417811 8213780 30378583 5831542 30845537 2898660 9646571 5490162 5371629 33332512 30037843 31070272 30351580 5408681 35411219 34055256 35564570 30099930 32626719 32388004 30445995 31453933 35003355 34091398 31249401 33214673 31525416 34913565 32000346 32596781 34500931 34627862 32158963 33301174 34418215 31844107 34332469 33043504 33240856 33240857 32961138 34244528 34215629 30556816 34495462 33680098 32471830 1476938 32374061 32415275 4225903 34471452 32651484 31568468 31850350 229112 33240852 33240853 33240849 32129921 32129920 32129922 30434569 32939042 36414841 36421592 34557377 33271276 36136158 35553933 33240849 34329743 32942185 33562949 33831963 32005690 31587508 36421589 33030406 33170811 34244528 32655043 33240851 33333999 33476728 32342197 33174729 33184240 32939043 33034626 12086842 30663529 32512871 31490825 32829126 32674936 32129922 31012787 30201909 30753126 32604377 31006944 31376042 32735695 30484675 32224360 32653631 31562513 32718825 32725594 32736015 32624046 30803901 32142823 8036156 34055256 31674786 33680289 31496488 35963069 32091223 33871456 32939042 35557325 33186501 34627862 33939314 33301174 495147 35200856 436309 35815106 32482640 33251786 35564570 31310474 33801060 32762075 36210212 34951480 32818005 31990622 34753369 32939044 32133326 36278250 31495800 30388627 31932704 32873412 31565766 1570670 34686555 34329743 36177653 35824661 36048977 2678083 34471452 31321349 30925521 32939043 3434891 489210\n"
     ]
    }
   ],
   "source": [
    "print( ' '.join(plist1[plist1.songIds.str.contains(songId)]['songIds'].values))"
   ]
  },
  {
   "cell_type": "code",
   "execution_count": 208,
   "metadata": {},
   "outputs": [
    {
     "data": {
      "text/plain": [
       "(array([], dtype=float64), array([], dtype=int64))"
      ]
     },
     "execution_count": 208,
     "metadata": {},
     "output_type": "execute_result"
    }
   ],
   "source": [
    "# 플레이리스트에서 songIds 값들을 합쳐 자기자신은 지우고 리스트로 분리\n",
    "# 가장 많이 들어가 songId 찾기\n",
    "songs = np.unique(' '.join(plist1[plist1.songIds.str.contains(songId)]['songIds'].values).replace(songId+' ', '').split(), return_counts=True)\n",
    "songs"
   ]
  },
  {
   "cell_type": "code",
   "execution_count": 143,
   "metadata": {},
   "outputs": [
    {
     "data": {
      "text/plain": [
       "False"
      ]
     },
     "execution_count": 143,
     "metadata": {},
     "output_type": "execute_result"
    }
   ],
   "source": [
    "not df[df.songId == '32939000'].empty"
   ]
  },
  {
   "cell_type": "code",
   "execution_count": 206,
   "metadata": {},
   "outputs": [
    {
     "name": "stdout",
     "output_type": "stream",
     "text": [
      "[]\n"
     ]
    }
   ],
   "source": [
    "cnt = 0\n",
    "song_list = []\n",
    "\n",
    "# argsort 값을 sort해서 값의 index를 오름차순으로 '-' 해주면 내림차순으로\n",
    "for s_id in songs[0][np.argsort(-songs[1])]:    \n",
    "    if not df[df.songId.isin([s_id])].empty :\n",
    "        cnt += 1\n",
    "        song_list.append(s_id)\n",
    "    if cnt == 5 : break\n",
    "\n",
    "print(song_list)\n",
    "\n"
   ]
  },
  {
   "cell_type": "code",
   "execution_count": 116,
   "metadata": {},
   "outputs": [],
   "source": [
    "\n",
    "if len(songs[0]) > 5:\n",
    "    re_count = np.argsort(-songs[1])\n",
    "    song_list = songs[0][re_count][:20]\n",
    "else:\n",
    "    song_list = songs[0]"
   ]
  },
  {
   "cell_type": "code",
   "execution_count": 109,
   "metadata": {},
   "outputs": [
    {
     "data": {
      "text/html": [
       "<div>\n",
       "<style scoped>\n",
       "    .dataframe tbody tr th:only-of-type {\n",
       "        vertical-align: middle;\n",
       "    }\n",
       "\n",
       "    .dataframe tbody tr th {\n",
       "        vertical-align: top;\n",
       "    }\n",
       "\n",
       "    .dataframe thead th {\n",
       "        text-align: right;\n",
       "    }\n",
       "</style>\n",
       "<table border=\"1\" class=\"dataframe\">\n",
       "  <thead>\n",
       "    <tr style=\"text-align: right;\">\n",
       "      <th></th>\n",
       "      <th>songId</th>\n",
       "      <th>count</th>\n",
       "    </tr>\n",
       "  </thead>\n",
       "  <tbody>\n",
       "    <tr>\n",
       "      <th>0</th>\n",
       "      <td>1002911</td>\n",
       "      <td>1</td>\n",
       "    </tr>\n",
       "    <tr>\n",
       "      <th>1</th>\n",
       "      <td>1010331</td>\n",
       "      <td>1</td>\n",
       "    </tr>\n",
       "    <tr>\n",
       "      <th>2</th>\n",
       "      <td>10124</td>\n",
       "      <td>1</td>\n",
       "    </tr>\n",
       "    <tr>\n",
       "      <th>3</th>\n",
       "      <td>10126</td>\n",
       "      <td>2</td>\n",
       "    </tr>\n",
       "    <tr>\n",
       "      <th>4</th>\n",
       "      <td>1017063</td>\n",
       "      <td>1</td>\n",
       "    </tr>\n",
       "    <tr>\n",
       "      <th>...</th>\n",
       "      <td>...</td>\n",
       "      <td>...</td>\n",
       "    </tr>\n",
       "    <tr>\n",
       "      <th>4529</th>\n",
       "      <td>983662</td>\n",
       "      <td>1</td>\n",
       "    </tr>\n",
       "    <tr>\n",
       "      <th>4530</th>\n",
       "      <td>984030</td>\n",
       "      <td>1</td>\n",
       "    </tr>\n",
       "    <tr>\n",
       "      <th>4531</th>\n",
       "      <td>985739</td>\n",
       "      <td>1</td>\n",
       "    </tr>\n",
       "    <tr>\n",
       "      <th>4532</th>\n",
       "      <td>987651</td>\n",
       "      <td>1</td>\n",
       "    </tr>\n",
       "    <tr>\n",
       "      <th>4533</th>\n",
       "      <td>997464</td>\n",
       "      <td>1</td>\n",
       "    </tr>\n",
       "  </tbody>\n",
       "</table>\n",
       "<p>4534 rows × 2 columns</p>\n",
       "</div>"
      ],
      "text/plain": [
       "       songId  count\n",
       "0     1002911      1\n",
       "1     1010331      1\n",
       "2       10124      1\n",
       "3       10126      2\n",
       "4     1017063      1\n",
       "...       ...    ...\n",
       "4529   983662      1\n",
       "4530   984030      1\n",
       "4531   985739      1\n",
       "4532   987651      1\n",
       "4533   997464      1\n",
       "\n",
       "[4534 rows x 2 columns]"
      ]
     },
     "execution_count": 109,
     "metadata": {},
     "output_type": "execute_result"
    }
   ],
   "source": [
    "df_songs = pd.DataFrame({'songId' : songs[0], 'count' : songs[1]})\n",
    "df_songs"
   ]
  },
  {
   "cell_type": "code",
   "execution_count": 110,
   "metadata": {},
   "outputs": [
    {
     "data": {
      "text/html": [
       "<div>\n",
       "<style scoped>\n",
       "    .dataframe tbody tr th:only-of-type {\n",
       "        vertical-align: middle;\n",
       "    }\n",
       "\n",
       "    .dataframe tbody tr th {\n",
       "        vertical-align: top;\n",
       "    }\n",
       "\n",
       "    .dataframe thead th {\n",
       "        text-align: right;\n",
       "    }\n",
       "</style>\n",
       "<table border=\"1\" class=\"dataframe\">\n",
       "  <thead>\n",
       "    <tr style=\"text-align: right;\">\n",
       "      <th></th>\n",
       "      <th>songId</th>\n",
       "      <th>count</th>\n",
       "    </tr>\n",
       "  </thead>\n",
       "  <tbody>\n",
       "    <tr>\n",
       "      <th>339</th>\n",
       "      <td>2939095</td>\n",
       "      <td>27</td>\n",
       "    </tr>\n",
       "    <tr>\n",
       "      <th>2007</th>\n",
       "      <td>32939042</td>\n",
       "      <td>21</td>\n",
       "    </tr>\n",
       "    <tr>\n",
       "      <th>2011</th>\n",
       "      <td>32939046</td>\n",
       "      <td>14</td>\n",
       "    </tr>\n",
       "    <tr>\n",
       "      <th>2001</th>\n",
       "      <td>32939001</td>\n",
       "      <td>12</td>\n",
       "    </tr>\n",
       "    <tr>\n",
       "      <th>2000</th>\n",
       "      <td>32939000</td>\n",
       "      <td>12</td>\n",
       "    </tr>\n",
       "    <tr>\n",
       "      <th>2763</th>\n",
       "      <td>34476749</td>\n",
       "      <td>12</td>\n",
       "    </tr>\n",
       "    <tr>\n",
       "      <th>3272</th>\n",
       "      <td>35944240</td>\n",
       "      <td>12</td>\n",
       "    </tr>\n",
       "    <tr>\n",
       "      <th>3194</th>\n",
       "      <td>35757422</td>\n",
       "      <td>11</td>\n",
       "    </tr>\n",
       "    <tr>\n",
       "      <th>3271</th>\n",
       "      <td>35944239</td>\n",
       "      <td>11</td>\n",
       "    </tr>\n",
       "    <tr>\n",
       "      <th>2639</th>\n",
       "      <td>34055256</td>\n",
       "      <td>11</td>\n",
       "    </tr>\n",
       "  </tbody>\n",
       "</table>\n",
       "</div>"
      ],
      "text/plain": [
       "        songId  count\n",
       "339    2939095     27\n",
       "2007  32939042     21\n",
       "2011  32939046     14\n",
       "2001  32939001     12\n",
       "2000  32939000     12\n",
       "2763  34476749     12\n",
       "3272  35944240     12\n",
       "3194  35757422     11\n",
       "3271  35944239     11\n",
       "2639  34055256     11"
      ]
     },
     "execution_count": 110,
     "metadata": {},
     "output_type": "execute_result"
    }
   ],
   "source": [
    "song_list = df_songs.sort_values('count', ascending=False).head(10)\n",
    "song_list"
   ]
  },
  {
   "cell_type": "code",
   "execution_count": null,
   "metadata": {},
   "outputs": [],
   "source": []
  },
  {
   "cell_type": "code",
   "execution_count": 113,
   "metadata": {},
   "outputs": [
    {
     "data": {
      "text/plain": [
       "array(['2939095', '32939042', '32939046', '32939001', '32939000',\n",
       "       '34476749', '35944240', '34055256', '33369437', '35757422'],\n",
       "      dtype='<U12')"
      ]
     },
     "execution_count": 113,
     "metadata": {},
     "output_type": "execute_result"
    }
   ],
   "source": [
    "song_list"
   ]
  },
  {
   "cell_type": "code",
   "execution_count": 114,
   "metadata": {},
   "outputs": [
    {
     "data": {
      "text/html": [
       "<div>\n",
       "<style scoped>\n",
       "    .dataframe tbody tr th:only-of-type {\n",
       "        vertical-align: middle;\n",
       "    }\n",
       "\n",
       "    .dataframe tbody tr th {\n",
       "        vertical-align: top;\n",
       "    }\n",
       "\n",
       "    .dataframe thead th {\n",
       "        text-align: right;\n",
       "    }\n",
       "</style>\n",
       "<table border=\"1\" class=\"dataframe\">\n",
       "  <thead>\n",
       "    <tr style=\"text-align: right;\">\n",
       "      <th></th>\n",
       "      <th>songId</th>\n",
       "      <th>title</th>\n",
       "      <th>artist</th>\n",
       "      <th>genre</th>\n",
       "    </tr>\n",
       "  </thead>\n",
       "  <tbody>\n",
       "    <tr>\n",
       "      <th>4588</th>\n",
       "      <td>32939046</td>\n",
       "      <td>여기저기거기 (Feat. 수퍼비)</td>\n",
       "      <td>범키</td>\n",
       "      <td>R&amp;B/Soul</td>\n",
       "    </tr>\n",
       "    <tr>\n",
       "      <th>4896</th>\n",
       "      <td>34055256</td>\n",
       "      <td>김철수 씨 이야기</td>\n",
       "      <td>허회경</td>\n",
       "      <td>인디음악 포크/블루스</td>\n",
       "    </tr>\n",
       "    <tr>\n",
       "      <th>4926</th>\n",
       "      <td>2939095</td>\n",
       "      <td>널 생각해</td>\n",
       "      <td>원 모어 찬스 (one more chance)</td>\n",
       "      <td>인디음악 포크/블루스</td>\n",
       "    </tr>\n",
       "    <tr>\n",
       "      <th>4994</th>\n",
       "      <td>32939042</td>\n",
       "      <td>아침만 남겨주고</td>\n",
       "      <td>김현창</td>\n",
       "      <td>인디음악 포크/블루스</td>\n",
       "    </tr>\n",
       "  </tbody>\n",
       "</table>\n",
       "</div>"
      ],
      "text/plain": [
       "        songId               title                     artist        genre\n",
       "4588  32939046  여기저기거기 (Feat. 수퍼비)                         범키     R&B/Soul\n",
       "4896  34055256           김철수 씨 이야기                        허회경  인디음악 포크/블루스\n",
       "4926   2939095               널 생각해  원 모어 찬스 (one more chance)  인디음악 포크/블루스\n",
       "4994  32939042            아침만 남겨주고                        김현창  인디음악 포크/블루스"
      ]
     },
     "execution_count": 114,
     "metadata": {},
     "output_type": "execute_result"
    }
   ],
   "source": [
    "df[df.songId.isin(song_list)][['songId', 'title', 'artist', 'genre',]]"
   ]
  },
  {
   "cell_type": "code",
   "execution_count": 205,
   "metadata": {},
   "outputs": [
    {
     "data": {
      "text/html": [
       "<div>\n",
       "<style scoped>\n",
       "    .dataframe tbody tr th:only-of-type {\n",
       "        vertical-align: middle;\n",
       "    }\n",
       "\n",
       "    .dataframe tbody tr th {\n",
       "        vertical-align: top;\n",
       "    }\n",
       "\n",
       "    .dataframe thead th {\n",
       "        text-align: right;\n",
       "    }\n",
       "</style>\n",
       "<table border=\"1\" class=\"dataframe\">\n",
       "  <thead>\n",
       "    <tr style=\"text-align: right;\">\n",
       "      <th></th>\n",
       "      <th>songId</th>\n",
       "      <th>title</th>\n",
       "      <th>artist</th>\n",
       "      <th>img</th>\n",
       "    </tr>\n",
       "  </thead>\n",
       "  <tbody>\n",
       "  </tbody>\n",
       "</table>\n",
       "</div>"
      ],
      "text/plain": [
       "Empty DataFrame\n",
       "Columns: [songId, title, artist, img]\n",
       "Index: []"
      ]
     },
     "execution_count": 205,
     "metadata": {},
     "output_type": "execute_result"
    }
   ],
   "source": [
    "# 해당 songId 들 정보 출력\n",
    "# 나중에 to_dict()로 반환\n",
    "# 없으면 플레이리스트2에 있는 songId 에서 정보 가져오기\n",
    "tmp = df[df.songId.isin(song_list)][['songId', 'title', 'artist', 'genre', 'album', 'lyricist', 'composer']]\n",
    "if tmp.empty:\n",
    "    tmp = plist2[plist2.songId.isin(song_list)]\n",
    "tmp"
   ]
  },
  {
   "cell_type": "code",
   "execution_count": null,
   "metadata": {},
   "outputs": [],
   "source": []
  }
 ],
 "metadata": {
  "kernelspec": {
   "display_name": "base",
   "language": "python",
   "name": "python3"
  },
  "language_info": {
   "codemirror_mode": {
    "name": "ipython",
    "version": 3
   },
   "file_extension": ".py",
   "mimetype": "text/x-python",
   "name": "python",
   "nbconvert_exporter": "python",
   "pygments_lexer": "ipython3",
   "version": "3.10.10"
  },
  "orig_nbformat": 4
 },
 "nbformat": 4,
 "nbformat_minor": 2
}
