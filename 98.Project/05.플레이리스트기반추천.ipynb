{
 "cells": [
  {
   "cell_type": "code",
   "execution_count": 1,
   "metadata": {},
   "outputs": [],
   "source": [
    "import numpy as np\n",
    "import pandas as pd"
   ]
  },
  {
   "cell_type": "code",
   "execution_count": 67,
   "metadata": {},
   "outputs": [],
   "source": [
    "filename = 'data/melon_song_v3.csv'\n",
    "plist_filename1 = 'data/melon_playlist1.csv'\n",
    "plist_filename2 = 'data/melon_playlist2_v2.csv'"
   ]
  },
  {
   "cell_type": "code",
   "execution_count": 68,
   "metadata": {},
   "outputs": [
    {
     "data": {
      "text/plain": [
       "((6247, 15), (3845, 5), (60271, 4))"
      ]
     },
     "execution_count": 68,
     "metadata": {},
     "output_type": "execute_result"
    }
   ],
   "source": [
    "df = pd.read_csv(filename)\n",
    "plist1 = pd.read_csv(plist_filename1)\n",
    "plist2 = pd.read_csv(plist_filename2)\n",
    "df.shape, plist1.shape, plist2.shape"
   ]
  },
  {
   "attachments": {},
   "cell_type": "markdown",
   "metadata": {},
   "source": []
  },
  {
   "cell_type": "code",
   "execution_count": 4,
   "metadata": {},
   "outputs": [
    {
     "name": "stdout",
     "output_type": "stream",
     "text": [
      "<class 'pandas.core.frame.DataFrame'>\n",
      "RangeIndex: 6247 entries, 0 to 6246\n",
      "Data columns (total 14 columns):\n",
      " #   Column     Non-Null Count  Dtype \n",
      "---  ------     --------------  ----- \n",
      " 0   songId     6247 non-null   int64 \n",
      " 1   title      6247 non-null   object\n",
      " 2   artist     6247 non-null   object\n",
      " 3   genre      6245 non-null   object\n",
      " 4   album      6247 non-null   object\n",
      " 5   lyricist   5849 non-null   object\n",
      " 6   composer   5845 non-null   object\n",
      " 7   date       6247 non-null   int64 \n",
      " 8   img        6247 non-null   object\n",
      " 9   comment    6247 non-null   int64 \n",
      " 10  like       6247 non-null   int64 \n",
      " 11  lyric      6247 non-null   object\n",
      " 12  plylstSeq  6126 non-null   object\n",
      " 13  total      6247 non-null   object\n",
      "dtypes: int64(4), object(10)\n",
      "memory usage: 683.4+ KB\n"
     ]
    }
   ],
   "source": [
    "df.info()"
   ]
  },
  {
   "cell_type": "code",
   "execution_count": 148,
   "metadata": {},
   "outputs": [
    {
     "data": {
      "text/plain": [
       "songId         0\n",
       "title          0\n",
       "artist         0\n",
       "genre          2\n",
       "album          0\n",
       "lyricist     398\n",
       "composer     402\n",
       "date           0\n",
       "img            0\n",
       "comment        0\n",
       "like           0\n",
       "lyric          0\n",
       "plylstSeq    121\n",
       "total          0\n",
       "dtype: int64"
      ]
     },
     "execution_count": 148,
     "metadata": {},
     "output_type": "execute_result"
    }
   ],
   "source": [
    "df.isna().sum()"
   ]
  },
  {
   "cell_type": "code",
   "execution_count": 69,
   "metadata": {},
   "outputs": [
    {
     "data": {
      "text/plain": [
       "array(['이럴거면', '아무 일도, 아무것도', '오후 (Satellite)', '드림 (Dream) (Inst.)',\n",
       "       '마지막 질주', '마이럽럽', '퐁당퐁당', 'Love Love', '날 따라 해봐요', '아빠의 잔소리', '점프',\n",
       "       '엄마도 말야', '힘내 응원해', '내 이름은', '파라다이스', '목욕 가는 길', '날 따라 해봐요',\n",
       "       '슈퍼파워', '슈퍼스타', '새마음 운동', '하트하트', '숨바꼭질', '괜찮아 괜찮아', '파도타기',\n",
       "       '엄마의 이름', '내 팬티', '나는 소파!', '장장장 장수탕', '발냄새', '나랑 같이 놀래?',\n",
       "       '은밀하게 위대하게', '혼자 있을 때 들리는 소리', '안녕 안녕', '동동동 구리구리 동동', '쓰담쓰담',\n",
       "       '우리는 오늘도 장수탕', '냉탕놀이 2', '평범한 나라 평범한 집 평범한 나', '오늘은 생일파티',\n",
       "       '냉탕놀이 1', '아기 상어의 생일', '얼음땡', '세상의 모든 때여 (때밀이송)', '해적의 황금시대',\n",
       "       '아픈만큼 쑥 커라', '해초 스웩 (아기상어 올리와 윌리엄)', '신비로운 연못 (선녀송)',\n",
       "       '오싹오싹 바닷속 괴물', '안녕 (생일파티 ver.)', '아기상어 리믹스 (앙코르)',\n",
       "       'Best Kept Secret', '돌아갈 그 날까지', '스텔라마리스', '질투하라',\n",
       "       'Love at first sight', 'Are You There?', '팝팝 키즈팝', '산호 놀이터로 모여라',\n",
       "       '울새와의 하루', '집에 가는 길', '혼자 서는 법', '우리 마을에서 가장 잘 생긴 사람', 'Epiphany',\n",
       "       '바닷속 행진', '괴물이 나타났다!', '팅팅탱탱 리듬파티', '항해일지', 'Ever After', 'One',\n",
       "       'Role OF A Lifetime', 'Bare', '녹의 흔적', '상어 가족과 댄스 파티', '바다 동물 지켜요',\n",
       "       '유령선', 'Auditions', '로우즈 아일랜드 (Rose Island)', 'Epiphany', '감기',\n",
       "       '아닐 리 없다', '우리 모두의, 기억나지 않는 꿈', '레온, 레온, 레온', '가만 안 둬', 'You & I',\n",
       "       'Ever After', '모태해적의 힘', '매뉴얼', '이상한 엄마', 'Wonderland', '웃으며 안녕',\n",
       "       'Best Kept Secret', '요구룽 (Curtain Call)', '유령선 (Rep.)',\n",
       "       'Wedding Bells', '섬에 갇힌 아이 ‘솔라’', 'All Grown Up',\n",
       "       '신비로운 연못 (Bonus Track)', '아픈만큼 쑥 커라 (Bonus Track)',\n",
       "       'Plain Jane Fat Ass', 'Queen Mab', '내 피는 파랑', '기분탓이야',\n",
       "       'All Grown Up', 'Once Upon A Time', 'Auditions', '시간의 속도', '인터미션',\n",
       "       'Birthday Bitch', 'God don’t Make No Trash', 'Cross', 'Promise',\n",
       "       '우리 마을에서 가장 잘 생긴 (Rep.)', '눈맞춤', '문득', '이유 (2022 Remastered)',\n",
       "       '분리', '어느 목석의 사랑 (2022 Remastered)', '별되어 내리네 (2022 Remastered)',\n",
       "       '다섯계절이야기', '넌', '너에게'], dtype=object)"
      ]
     },
     "execution_count": 69,
     "metadata": {},
     "output_type": "execute_result"
    }
   ],
   "source": [
    "df[df.plylstSeq.isna()].title.values"
   ]
  },
  {
   "cell_type": "code",
   "execution_count": null,
   "metadata": {},
   "outputs": [],
   "source": [
    "df.head()"
   ]
  },
  {
   "cell_type": "code",
   "execution_count": 8,
   "metadata": {},
   "outputs": [
    {
     "name": "stdout",
     "output_type": "stream",
     "text": [
      "<class 'pandas.core.frame.DataFrame'>\n",
      "RangeIndex: 160459 entries, 0 to 160458\n",
      "Data columns (total 5 columns):\n",
      " #   Column     Non-Null Count   Dtype \n",
      "---  ------     --------------   ----- \n",
      " 0   plylstSeq  160459 non-null  int64 \n",
      " 1   songId     160459 non-null  int64 \n",
      " 2   title      160459 non-null  object\n",
      " 3   artist     160459 non-null  object\n",
      " 4   img        160459 non-null  object\n",
      "dtypes: int64(2), object(3)\n",
      "memory usage: 6.1+ MB\n"
     ]
    }
   ],
   "source": [
    "plist2.info()"
   ]
  },
  {
   "cell_type": "code",
   "execution_count": 70,
   "metadata": {},
   "outputs": [
    {
     "data": {
      "text/html": [
       "<div>\n",
       "<style scoped>\n",
       "    .dataframe tbody tr th:only-of-type {\n",
       "        vertical-align: middle;\n",
       "    }\n",
       "\n",
       "    .dataframe tbody tr th {\n",
       "        vertical-align: top;\n",
       "    }\n",
       "\n",
       "    .dataframe thead th {\n",
       "        text-align: right;\n",
       "    }\n",
       "</style>\n",
       "<table border=\"1\" class=\"dataframe\">\n",
       "  <thead>\n",
       "    <tr style=\"text-align: right;\">\n",
       "      <th></th>\n",
       "      <th>songId</th>\n",
       "      <th>title</th>\n",
       "      <th>artist</th>\n",
       "      <th>genre</th>\n",
       "      <th>album</th>\n",
       "      <th>lyricist</th>\n",
       "      <th>composer</th>\n",
       "      <th>date</th>\n",
       "      <th>img</th>\n",
       "      <th>comment</th>\n",
       "      <th>like</th>\n",
       "      <th>lyric</th>\n",
       "      <th>plylstSeq</th>\n",
       "      <th>total</th>\n",
       "      <th>ly_summary</th>\n",
       "    </tr>\n",
       "  </thead>\n",
       "  <tbody>\n",
       "    <tr>\n",
       "      <th>0</th>\n",
       "      <td>418168</td>\n",
       "      <td>희재</td>\n",
       "      <td>성시경</td>\n",
       "      <td>발라드 국내영화</td>\n",
       "      <td>국화꽃 향기 OST</td>\n",
       "      <td>양재선</td>\n",
       "      <td>MGR</td>\n",
       "      <td>20030201</td>\n",
       "      <td>https://cdnimg.melon.co.kr/cm/album/images/000...</td>\n",
       "      <td>332</td>\n",
       "      <td>138267</td>\n",
       "      <td>햇살은 우릴 위해 내리고 \\n바람도 서롤 감싸게 했죠 \\n우리 웃음속에 계절은 오고...</td>\n",
       "      <td>445029956 411111859</td>\n",
       "      <td>햇살 우릴 위해 내리다 바람 서 롤 감싸다 하다 우리 웃음 속 계절 오다 또 가다 ...</td>\n",
       "      <td>정말로 울면 내가 그댈 보내 &lt;br&gt;준 것 같아서</td>\n",
       "    </tr>\n",
       "  </tbody>\n",
       "</table>\n",
       "</div>"
      ],
      "text/plain": [
       "   songId title artist     genre       album lyricist composer      date  \\\n",
       "0  418168    희재    성시경  발라드 국내영화  국화꽃 향기 OST      양재선      MGR  20030201   \n",
       "\n",
       "                                                 img  comment    like  \\\n",
       "0  https://cdnimg.melon.co.kr/cm/album/images/000...      332  138267   \n",
       "\n",
       "                                               lyric            plylstSeq  \\\n",
       "0  햇살은 우릴 위해 내리고 \\n바람도 서롤 감싸게 했죠 \\n우리 웃음속에 계절은 오고...  445029956 411111859   \n",
       "\n",
       "                                               total  \\\n",
       "0  햇살 우릴 위해 내리다 바람 서 롤 감싸다 하다 우리 웃음 속 계절 오다 또 가다 ...   \n",
       "\n",
       "                    ly_summary  \n",
       "0  정말로 울면 내가 그댈 보내 <br>준 것 같아서  "
      ]
     },
     "execution_count": 70,
     "metadata": {},
     "output_type": "execute_result"
    }
   ],
   "source": [
    "plist1.plylstSeq = plist1.plylstSeq.astype(str)\n",
    "plist2.songId = plist2.songId.astype(str)\n",
    "df.songId = df.songId.astype(str)\n",
    "df.fillna('', inplace=True)\n",
    "df.lyric = df.lyric.str.replace('\\r', '')\n",
    "df.head(1)"
   ]
  },
  {
   "cell_type": "code",
   "execution_count": 7,
   "metadata": {},
   "outputs": [
    {
     "data": {
      "text/html": [
       "<div>\n",
       "<style scoped>\n",
       "    .dataframe tbody tr th:only-of-type {\n",
       "        vertical-align: middle;\n",
       "    }\n",
       "\n",
       "    .dataframe tbody tr th {\n",
       "        vertical-align: top;\n",
       "    }\n",
       "\n",
       "    .dataframe thead th {\n",
       "        text-align: right;\n",
       "    }\n",
       "</style>\n",
       "<table border=\"1\" class=\"dataframe\">\n",
       "  <thead>\n",
       "    <tr style=\"text-align: right;\">\n",
       "      <th></th>\n",
       "      <th>songId</th>\n",
       "      <th>title</th>\n",
       "      <th>artist</th>\n",
       "      <th>img</th>\n",
       "    </tr>\n",
       "  </thead>\n",
       "  <tbody>\n",
       "    <tr>\n",
       "      <th>0</th>\n",
       "      <td>33213267</td>\n",
       "      <td>Love Song</td>\n",
       "      <td>Why Don't We</td>\n",
       "      <td>https://cdnimg.melon.co.kr/cm2/album/images/10...</td>\n",
       "    </tr>\n",
       "    <tr>\n",
       "      <th>1</th>\n",
       "      <td>32544401</td>\n",
       "      <td>Ghost In A Flower</td>\n",
       "      <td>Yorushika</td>\n",
       "      <td>https://cdnimg.melon.co.kr/cm2/album/images/10...</td>\n",
       "    </tr>\n",
       "    <tr>\n",
       "      <th>2</th>\n",
       "      <td>33502105</td>\n",
       "      <td>Every Second</td>\n",
       "      <td>Mina Okabe</td>\n",
       "      <td>https://cdnimg.melon.co.kr/cm2/album/images/10...</td>\n",
       "    </tr>\n",
       "    <tr>\n",
       "      <th>3</th>\n",
       "      <td>33469725</td>\n",
       "      <td>Loving You Girl (Feat. Hkeem)</td>\n",
       "      <td>Peder Elias</td>\n",
       "      <td>https://cdnimg.melon.co.kr/cm2/album/images/10...</td>\n",
       "    </tr>\n",
       "    <tr>\n",
       "      <th>4</th>\n",
       "      <td>32464068</td>\n",
       "      <td>SKYLINE</td>\n",
       "      <td>김세정</td>\n",
       "      <td>https://cdnimg.melon.co.kr/cm2/album/images/10...</td>\n",
       "    </tr>\n",
       "  </tbody>\n",
       "</table>\n",
       "</div>"
      ],
      "text/plain": [
       "     songId                          title        artist  \\\n",
       "0  33213267                      Love Song  Why Don't We   \n",
       "1  32544401              Ghost In A Flower     Yorushika   \n",
       "2  33502105                   Every Second    Mina Okabe   \n",
       "3  33469725  Loving You Girl (Feat. Hkeem)   Peder Elias   \n",
       "4  32464068                        SKYLINE           김세정   \n",
       "\n",
       "                                                 img  \n",
       "0  https://cdnimg.melon.co.kr/cm2/album/images/10...  \n",
       "1  https://cdnimg.melon.co.kr/cm2/album/images/10...  \n",
       "2  https://cdnimg.melon.co.kr/cm2/album/images/10...  \n",
       "3  https://cdnimg.melon.co.kr/cm2/album/images/10...  \n",
       "4  https://cdnimg.melon.co.kr/cm2/album/images/10...  "
      ]
     },
     "execution_count": 7,
     "metadata": {},
     "output_type": "execute_result"
    }
   ],
   "source": [
    "plist2.head()"
   ]
  },
  {
   "cell_type": "code",
   "execution_count": 36,
   "metadata": {},
   "outputs": [
    {
     "name": "stdout",
     "output_type": "stream",
     "text": [
      "(60271, 4) 60271\n",
      "(60271, 4) 60271\n"
     ]
    },
    {
     "data": {
      "text/html": [
       "<div>\n",
       "<style scoped>\n",
       "    .dataframe tbody tr th:only-of-type {\n",
       "        vertical-align: middle;\n",
       "    }\n",
       "\n",
       "    .dataframe tbody tr th {\n",
       "        vertical-align: top;\n",
       "    }\n",
       "\n",
       "    .dataframe thead th {\n",
       "        text-align: right;\n",
       "    }\n",
       "</style>\n",
       "<table border=\"1\" class=\"dataframe\">\n",
       "  <thead>\n",
       "    <tr style=\"text-align: right;\">\n",
       "      <th></th>\n",
       "      <th>songId</th>\n",
       "      <th>title</th>\n",
       "      <th>artist</th>\n",
       "      <th>img</th>\n",
       "    </tr>\n",
       "  </thead>\n",
       "  <tbody>\n",
       "    <tr>\n",
       "      <th>0</th>\n",
       "      <td>33213267</td>\n",
       "      <td>Love Song</td>\n",
       "      <td>Why Don't We</td>\n",
       "      <td>https://cdnimg.melon.co.kr/cm2/album/images/10...</td>\n",
       "    </tr>\n",
       "    <tr>\n",
       "      <th>1</th>\n",
       "      <td>32544401</td>\n",
       "      <td>Ghost In A Flower</td>\n",
       "      <td>Yorushika</td>\n",
       "      <td>https://cdnimg.melon.co.kr/cm2/album/images/10...</td>\n",
       "    </tr>\n",
       "    <tr>\n",
       "      <th>2</th>\n",
       "      <td>33502105</td>\n",
       "      <td>Every Second</td>\n",
       "      <td>Mina Okabe</td>\n",
       "      <td>https://cdnimg.melon.co.kr/cm2/album/images/10...</td>\n",
       "    </tr>\n",
       "    <tr>\n",
       "      <th>3</th>\n",
       "      <td>33469725</td>\n",
       "      <td>Loving You Girl (Feat. Hkeem)</td>\n",
       "      <td>Peder Elias</td>\n",
       "      <td>https://cdnimg.melon.co.kr/cm2/album/images/10...</td>\n",
       "    </tr>\n",
       "    <tr>\n",
       "      <th>4</th>\n",
       "      <td>32464068</td>\n",
       "      <td>SKYLINE</td>\n",
       "      <td>김세정</td>\n",
       "      <td>https://cdnimg.melon.co.kr/cm2/album/images/10...</td>\n",
       "    </tr>\n",
       "  </tbody>\n",
       "</table>\n",
       "</div>"
      ],
      "text/plain": [
       "     songId                          title        artist   \n",
       "0  33213267                      Love Song  Why Don't We  \\\n",
       "1  32544401              Ghost In A Flower     Yorushika   \n",
       "2  33502105                   Every Second    Mina Okabe   \n",
       "3  33469725  Loving You Girl (Feat. Hkeem)   Peder Elias   \n",
       "4  32464068                        SKYLINE           김세정   \n",
       "\n",
       "                                                 img  \n",
       "0  https://cdnimg.melon.co.kr/cm2/album/images/10...  \n",
       "1  https://cdnimg.melon.co.kr/cm2/album/images/10...  \n",
       "2  https://cdnimg.melon.co.kr/cm2/album/images/10...  \n",
       "3  https://cdnimg.melon.co.kr/cm2/album/images/10...  \n",
       "4  https://cdnimg.melon.co.kr/cm2/album/images/10...  "
      ]
     },
     "execution_count": 36,
     "metadata": {},
     "output_type": "execute_result"
    }
   ],
   "source": [
    "# plist2 = plist2[['songId', 'title', 'artist', 'img']]\n",
    "# print(plist2.shape, plist2.songId.nunique())\n",
    "# plist2.drop_duplicates(subset=['songId'], inplace=True)\n",
    "# print(plist2.shape, plist2.songId.nunique())\n",
    "# plist2.head()\n"
   ]
  },
  {
   "cell_type": "code",
   "execution_count": 12,
   "metadata": {},
   "outputs": [
    {
     "data": {
      "text/plain": [
       "(5947, 4)"
      ]
     },
     "execution_count": 12,
     "metadata": {},
     "output_type": "execute_result"
    }
   ],
   "source": [
    "# melon_song에 들어있는 songId가 플레이리스트에 포함되어 있는 수\n",
    "# 60271 - 5947 = 54324 개의 노래는 melon_song 데이터에 없다.\n",
    "# df_song_list = df.songId.values\n",
    "# plist2[plist2.songId.isin(df_song_list)].shape"
   ]
  },
  {
   "attachments": {},
   "cell_type": "markdown",
   "metadata": {},
   "source": [
    "### 1. 찾을 노래 제목과 아티스트 입력 받기"
   ]
  },
  {
   "cell_type": "code",
   "execution_count": 71,
   "metadata": {},
   "outputs": [
    {
     "name": "stdout",
     "output_type": "stream",
     "text": [
      "!\"#$%&'()*+,-./:;<=>?@[\\]^_`{|}~\n"
     ]
    }
   ],
   "source": [
    "# 키워드 바꿔가면서 찾아보기\n",
    "import string, re\n",
    "print(string.punctuation)\n",
    "\n",
    "# 에잇(Prod.&Feat. SUGA of BTS)\n",
    "# 아이유\n",
    "\n",
    "\n",
    "keyword_artist = ''\n",
    "keyword_title = '다섯계절이야기'\n",
    "keyword_title = re.sub('['+string.punctuation+']', '', keyword_title)\n",
    "keyword_artist = re.sub('['+string.punctuation+']', '', keyword_artist)"
   ]
  },
  {
   "cell_type": "code",
   "execution_count": 72,
   "metadata": {},
   "outputs": [
    {
     "name": "stdout",
     "output_type": "stream",
     "text": [
      "다섯계절이야기 \n"
     ]
    }
   ],
   "source": [
    "# keyword_title = keyword_title.replace(' ', '|')\n",
    "# keyword_artist = keyword_artist.replace(' ', '&')\n",
    "print(keyword_title, keyword_artist)"
   ]
  },
  {
   "cell_type": "code",
   "execution_count": 47,
   "metadata": {},
   "outputs": [
    {
     "name": "stdout",
     "output_type": "stream",
     "text": [
      "['jack', 'bob', 'WAT.SON', 'jake', 'mike', 'don', 'george', 'natasha', 'jill', 'ann', \"JOHN'\", 'johnSON']\n",
      "son\n"
     ]
    },
    {
     "data": {
      "text/html": [
       "<div>\n",
       "<style scoped>\n",
       "    .dataframe tbody tr th:only-of-type {\n",
       "        vertical-align: middle;\n",
       "    }\n",
       "\n",
       "    .dataframe tbody tr th {\n",
       "        vertical-align: top;\n",
       "    }\n",
       "\n",
       "    .dataframe thead th {\n",
       "        text-align: right;\n",
       "    }\n",
       "</style>\n",
       "<table border=\"1\" class=\"dataframe\">\n",
       "  <thead>\n",
       "    <tr style=\"text-align: right;\">\n",
       "      <th></th>\n",
       "      <th>ser</th>\n",
       "    </tr>\n",
       "  </thead>\n",
       "  <tbody>\n",
       "    <tr>\n",
       "      <th>2</th>\n",
       "      <td>WAT.SON</td>\n",
       "    </tr>\n",
       "    <tr>\n",
       "      <th>11</th>\n",
       "      <td>johnSON</td>\n",
       "    </tr>\n",
       "  </tbody>\n",
       "</table>\n",
       "</div>"
      ],
      "text/plain": [
       "        ser\n",
       "2   WAT.SON\n",
       "11  johnSON"
      ]
     },
     "execution_count": 47,
     "metadata": {},
     "output_type": "execute_result"
    }
   ],
   "source": [
    "names = ['jack', 'bob', 'WAT.SON', 'jake', 'mike', 'don', 'george', 'natasha', 'jill', 'ann', 'JOHN\\'', 'johnSON']\n",
    "print(names)\n",
    "# ser = pd.Series(names)\n",
    "ser = pd.DataFrame(names, columns=['ser'])\n",
    "\n",
    "keyword = 'SO.N'.lower()\n",
    "keyword = re.sub('['+string.punctuation+']', '', keyword)\n",
    "print(keyword)\n",
    "\n",
    "ser[ser.ser.str.lower().str.replace('['+string.punctuation+']','').str.contains(keyword)]"
   ]
  },
  {
   "cell_type": "code",
   "execution_count": 81,
   "metadata": {},
   "outputs": [
    {
     "data": {
      "text/plain": [
       "6148    3515505\n",
       "Name: songId, dtype: object"
      ]
     },
     "execution_count": 81,
     "metadata": {},
     "output_type": "execute_result"
    }
   ],
   "source": [
    "# 노래 제목과 가수로 찾기\n",
    "songIds = df[df.title.str.replace('['+string.punctuation+']','', regex=True).str.contains(keyword_title, case=False)\n",
    "              & df.artist.str.replace('['+string.punctuation+']','', regex=True).str.contains(keyword_artist, case=False)]\n",
    "songIds.songId"
   ]
  },
  {
   "cell_type": "code",
   "execution_count": 82,
   "metadata": {},
   "outputs": [],
   "source": [
    "# 첫번째 songId로 검색해 보기 위해(원하는 것은 사용자가 선택하도록)\n",
    "songId = songIds.songId.values[0]\n",
    "# songIds\n"
   ]
  },
  {
   "cell_type": "code",
   "execution_count": 88,
   "metadata": {},
   "outputs": [
    {
     "name": "stdout",
     "output_type": "stream",
     "text": [
      "45      36242042 35645694 34826873 34164058 35456806 3...\n",
      "84      32653631 34100776 33428837 32159598 33766984 3...\n",
      "109     31587557 32935092 32476250 30017614 30269908 2...\n",
      "122     32961285 30657307 36136158 35944239 31624517 3...\n",
      "124     31143991 32497863 33369437 35867428 36081382 3...\n",
      "                              ...                        \n",
      "3728    33175764 33362590 8298724 33780124 32939043 33...\n",
      "3735    30636089 33043504 3780500 32613630 33406558 32...\n",
      "3782    35411219 34055256 35564570 30099930 32626719 3...\n",
      "3784    36414841 36421592 34557377 33271276 36136158 3...\n",
      "3831    8036156 34055256 31674786 33680289 31496488 35...\n",
      "Name: songIds, Length: 144, dtype: object\n"
     ]
    }
   ],
   "source": []
  },
  {
   "cell_type": "code",
   "execution_count": 34,
   "metadata": {},
   "outputs": [
    {
     "name": "stdout",
     "output_type": "stream",
     "text": [
      "[2 6 4 1 3]\n",
      "[3 3 2 1 1]\n",
      "[1 2 3 4 6]\n",
      "[1 3 1 2 3]\n"
     ]
    }
   ],
   "source": [
    "a = np.array([1, 2, 6, 4, 2, 3, 2, 6, 6, 4])\n",
    "u, indices = np.unique(a, return_counts=True)\n",
    "re_indices = np.argsort(-indices)\n",
    "\n",
    "print(u[re_indices])\n",
    "print(indices[re_indices])\n",
    "\n",
    "print(u)\n",
    "print(indices)\n"
   ]
  },
  {
   "cell_type": "code",
   "execution_count": 83,
   "metadata": {},
   "outputs": [
    {
     "name": "stdout",
     "output_type": "stream",
     "text": [
      "10\n"
     ]
    }
   ],
   "source": [
    "# 가장 많이 들어간 tag 찾기\n",
    "tags = np.unique(' '.join(plist1[plist1.songIds.str.contains(songId)]['tag'].values).split(), return_counts=True)\n",
    "print(len(tags[0]))"
   ]
  },
  {
   "cell_type": "code",
   "execution_count": 84,
   "metadata": {},
   "outputs": [
    {
     "data": {
      "text/plain": [
       "'포크/블루스'"
      ]
     },
     "execution_count": 84,
     "metadata": {},
     "output_type": "execute_result"
    }
   ],
   "source": [
    "genre = df[df.songId == songId].genre.values[0]\n",
    "genre"
   ]
  },
  {
   "cell_type": "code",
   "execution_count": 85,
   "metadata": {},
   "outputs": [
    {
     "data": {
      "text/plain": [
       "'#RESTINPAST, #그루브 그리고 내적댄스'"
      ]
     },
     "execution_count": 85,
     "metadata": {},
     "output_type": "execute_result"
    }
   ],
   "source": [
    "\n",
    "# argsort : 값이 큰 순서대로 값의 인덱스 정렬 -1 큰 순서대로\n",
    "if len(tags[0]) :\n",
    "    re_count = np.argsort(-tags[1]) \n",
    "    if len(re_count) > 2:\n",
    "        pro_tags = f\"{tags[0][re_count][0]}, {tags[0][re_count][1]} 그리고 {tags[0][re_count][2].strip('#')}\"\n",
    "    elif len(re_count) == 2:\n",
    "        pro_tags = f\"{tags[0][re_count][0]} 그리고 {tags[0][re_count][1]}\"\n",
    "    else:\n",
    "        pro_tags = f\"{tags[0][re_count][0]}\"\n",
    "\n",
    "else:\n",
    "    pro_tags = ''\n",
    "\n",
    "pro_tags"
   ]
  },
  {
   "cell_type": "code",
   "execution_count": 38,
   "metadata": {},
   "outputs": [
    {
     "name": "stdout",
     "output_type": "stream",
     "text": [
      "\n"
     ]
    }
   ],
   "source": [
    "print( ' '.join(plist1[plist1.songIds.str.contains(songId)]['songIds'].values))"
   ]
  },
  {
   "cell_type": "code",
   "execution_count": 90,
   "metadata": {},
   "outputs": [
    {
     "data": {
      "text/plain": [
       "array(['31204359', '31429071', '31869526', '32147288', '32364282',\n",
       "       '32600616', '32789925', '33164469', '33164486', '33363290',\n",
       "       '34067967', '34067968', '34748228', '34752692', '34847096',\n",
       "       '34869357', '35002694', '35002695', '35002698', '35010454',\n",
       "       '35155056', '35196772', '35327786', '35444525', '35456563',\n",
       "       '35487612', '35540853', '35582017', '35582558', '35689779',\n",
       "       '35727874', '35779412', '35781705', '35781710', '35891577',\n",
       "       '35891601', '35919156', '35956164', '35956165', '35987313'],\n",
       "      dtype='<U8')"
      ]
     },
     "execution_count": 90,
     "metadata": {},
     "output_type": "execute_result"
    }
   ],
   "source": [
    "# 플레이리스트에서 songIds 값들을 합쳐 자기자신은 지우고 리스트로 분리\n",
    "# 가장 많이 들어가 songId 찾기\n",
    "songs = np.unique(' '.join(plist1[plist1.songIds.str.contains(songId)]['songIds'].values).replace(songId+' ', '').split(), return_counts=True)\n",
    "songs[0]"
   ]
  },
  {
   "cell_type": "code",
   "execution_count": 91,
   "metadata": {},
   "outputs": [
    {
     "data": {
      "text/html": [
       "<div>\n",
       "<style scoped>\n",
       "    .dataframe tbody tr th:only-of-type {\n",
       "        vertical-align: middle;\n",
       "    }\n",
       "\n",
       "    .dataframe tbody tr th {\n",
       "        vertical-align: top;\n",
       "    }\n",
       "\n",
       "    .dataframe thead th {\n",
       "        text-align: right;\n",
       "    }\n",
       "</style>\n",
       "<table border=\"1\" class=\"dataframe\">\n",
       "  <thead>\n",
       "    <tr style=\"text-align: right;\">\n",
       "      <th></th>\n",
       "      <th>songId</th>\n",
       "      <th>title</th>\n",
       "      <th>artist</th>\n",
       "      <th>img</th>\n",
       "    </tr>\n",
       "  </thead>\n",
       "  <tbody>\n",
       "    <tr>\n",
       "      <th>16249</th>\n",
       "      <td>33164486</td>\n",
       "      <td>Sky</td>\n",
       "      <td>Playboi Carti</td>\n",
       "      <td>https://cdnimg.melon.co.kr/cm2/album/images/10...</td>\n",
       "    </tr>\n",
       "    <tr>\n",
       "      <th>55798</th>\n",
       "      <td>35002698</td>\n",
       "      <td>PUFFIN ON ZOOTIEZ</td>\n",
       "      <td>Future</td>\n",
       "      <td>https://cdnimg.melon.co.kr/cm2/album/images/10...</td>\n",
       "    </tr>\n",
       "    <tr>\n",
       "      <th>56708</th>\n",
       "      <td>35891601</td>\n",
       "      <td>Superhero (Heroes &amp; Villains)</td>\n",
       "      <td>Metro Boomin, Future, Chris Brown</td>\n",
       "      <td>https://cdnimg.melon.co.kr/cm2/album/images/11...</td>\n",
       "    </tr>\n",
       "    <tr>\n",
       "      <th>60124</th>\n",
       "      <td>32364282</td>\n",
       "      <td>Reborn</td>\n",
       "      <td>UNEDUCATED KID</td>\n",
       "      <td>https://cdnimg.melon.co.kr/cm2/album/images/10...</td>\n",
       "    </tr>\n",
       "    <tr>\n",
       "      <th>60125</th>\n",
       "      <td>35987313</td>\n",
       "      <td>Maya Freestyle</td>\n",
       "      <td>J4</td>\n",
       "      <td>https://cdnimg.melon.co.kr/cm2/album/images/11...</td>\n",
       "    </tr>\n",
       "    <tr>\n",
       "      <th>60126</th>\n",
       "      <td>35956165</td>\n",
       "      <td>Neo (feat. 072)</td>\n",
       "      <td>JOo</td>\n",
       "      <td>https://cdnimg.melon.co.kr/cm2/album/images/11...</td>\n",
       "    </tr>\n",
       "    <tr>\n",
       "      <th>60127</th>\n",
       "      <td>35956164</td>\n",
       "      <td>Umm (feat. Odd95)</td>\n",
       "      <td>JOo</td>\n",
       "      <td>https://cdnimg.melon.co.kr/cm2/album/images/11...</td>\n",
       "    </tr>\n",
       "    <tr>\n",
       "      <th>60128</th>\n",
       "      <td>34067967</td>\n",
       "      <td>Way Bigger</td>\n",
       "      <td>Don Toliver</td>\n",
       "      <td>https://cdnimg.melon.co.kr/cm2/album/images/10...</td>\n",
       "    </tr>\n",
       "    <tr>\n",
       "      <th>60129</th>\n",
       "      <td>34067968</td>\n",
       "      <td>Flocky Flocky (feat. Travis Scott)</td>\n",
       "      <td>Don Toliver</td>\n",
       "      <td>https://cdnimg.melon.co.kr/cm2/album/images/10...</td>\n",
       "    </tr>\n",
       "    <tr>\n",
       "      <th>60130</th>\n",
       "      <td>32600616</td>\n",
       "      <td>Hard To Choose One</td>\n",
       "      <td>Future</td>\n",
       "      <td>https://cdnimg.melon.co.kr/cm2/album/images/10...</td>\n",
       "    </tr>\n",
       "    <tr>\n",
       "      <th>60131</th>\n",
       "      <td>32789925</td>\n",
       "      <td>GREECE (Feat. Drake)</td>\n",
       "      <td>DJ Khaled</td>\n",
       "      <td>https://cdnimg.melon.co.kr/cm2/album/images/10...</td>\n",
       "    </tr>\n",
       "    <tr>\n",
       "      <th>60132</th>\n",
       "      <td>35919156</td>\n",
       "      <td>32 Freestyle</td>\n",
       "      <td>BabyDrill</td>\n",
       "      <td>https://cdnimg.melon.co.kr/cm2/album/images/11...</td>\n",
       "    </tr>\n",
       "    <tr>\n",
       "      <th>60133</th>\n",
       "      <td>35891577</td>\n",
       "      <td>Overdose</td>\n",
       "      <td>Finesse2tymes</td>\n",
       "      <td>https://cdnimg.melon.co.kr/cm2/album/images/11...</td>\n",
       "    </tr>\n",
       "    <tr>\n",
       "      <th>60134</th>\n",
       "      <td>34748228</td>\n",
       "      <td>Petty Too (Feat. Future)</td>\n",
       "      <td>Lil Durk</td>\n",
       "      <td>https://cdnimg.melon.co.kr/cm2/album/images/10...</td>\n",
       "    </tr>\n",
       "    <tr>\n",
       "      <th>60135</th>\n",
       "      <td>34752692</td>\n",
       "      <td>Crypto</td>\n",
       "      <td>Takeoff, Rich The Kid</td>\n",
       "      <td>https://cdnimg.melon.co.kr/cm2/album/images/10...</td>\n",
       "    </tr>\n",
       "    <tr>\n",
       "      <th>60136</th>\n",
       "      <td>35002694</td>\n",
       "      <td>712PM</td>\n",
       "      <td>Future</td>\n",
       "      <td>https://cdnimg.melon.co.kr/cm2/album/images/10...</td>\n",
       "    </tr>\n",
       "    <tr>\n",
       "      <th>60137</th>\n",
       "      <td>35727874</td>\n",
       "      <td>G Nikes (Feat. Polo G)</td>\n",
       "      <td>Nardo Wick</td>\n",
       "      <td>https://cdnimg.melon.co.kr/cm2/album/images/10...</td>\n",
       "    </tr>\n",
       "    <tr>\n",
       "      <th>60138</th>\n",
       "      <td>33363290</td>\n",
       "      <td>Moonwalking in Calabasas (Remix) (Feat. Blueface)</td>\n",
       "      <td>DDG</td>\n",
       "      <td>https://cdnimg.melon.co.kr/cm2/album/images/10...</td>\n",
       "    </tr>\n",
       "    <tr>\n",
       "      <th>60139</th>\n",
       "      <td>35781705</td>\n",
       "      <td>New</td>\n",
       "      <td>Ken Carson</td>\n",
       "      <td>https://cdnimg.melon.co.kr/cm2/album/images/11...</td>\n",
       "    </tr>\n",
       "    <tr>\n",
       "      <th>60140</th>\n",
       "      <td>35689779</td>\n",
       "      <td>Nothing Changed</td>\n",
       "      <td>Quavo, Takeoff</td>\n",
       "      <td>https://cdnimg.melon.co.kr/cm2/album/images/11...</td>\n",
       "    </tr>\n",
       "    <tr>\n",
       "      <th>60141</th>\n",
       "      <td>35196772</td>\n",
       "      <td>HOTEL LOBBY (Unc &amp; Phew)</td>\n",
       "      <td>Quavo, Takeoff</td>\n",
       "      <td>https://cdnimg.melon.co.kr/cm2/album/images/10...</td>\n",
       "    </tr>\n",
       "    <tr>\n",
       "      <th>60142</th>\n",
       "      <td>35781710</td>\n",
       "      <td>X</td>\n",
       "      <td>Ken Carson</td>\n",
       "      <td>https://cdnimg.melon.co.kr/cm2/album/images/11...</td>\n",
       "    </tr>\n",
       "    <tr>\n",
       "      <th>60143</th>\n",
       "      <td>33164469</td>\n",
       "      <td>Stop Breathing</td>\n",
       "      <td>Playboi Carti</td>\n",
       "      <td>https://cdnimg.melon.co.kr/cm2/album/images/10...</td>\n",
       "    </tr>\n",
       "    <tr>\n",
       "      <th>60144</th>\n",
       "      <td>32147288</td>\n",
       "      <td>Big (Feat. Lil Gotit)</td>\n",
       "      <td>Coi Leray</td>\n",
       "      <td>https://cdnimg.melon.co.kr/cm2/album/images/10...</td>\n",
       "    </tr>\n",
       "    <tr>\n",
       "      <th>60145</th>\n",
       "      <td>34869357</td>\n",
       "      <td>BIG PURR (Prrdd) (Feat. Pooh Shiesty)</td>\n",
       "      <td>Coi Leray</td>\n",
       "      <td>https://cdnimg.melon.co.kr/cm2/album/images/10...</td>\n",
       "    </tr>\n",
       "    <tr>\n",
       "      <th>60146</th>\n",
       "      <td>31869526</td>\n",
       "      <td>Real Hood Baby (feat. Stickbaby)</td>\n",
       "      <td>Lil Keed</td>\n",
       "      <td>https://cdnimg.melon.co.kr/cm/album/images/102...</td>\n",
       "    </tr>\n",
       "    <tr>\n",
       "      <th>60147</th>\n",
       "      <td>35582558</td>\n",
       "      <td>Detox</td>\n",
       "      <td>Lil Baby</td>\n",
       "      <td>https://cdnimg.melon.co.kr/cm2/album/images/11...</td>\n",
       "    </tr>\n",
       "    <tr>\n",
       "      <th>60148</th>\n",
       "      <td>35002695</td>\n",
       "      <td>I'M DAT N****</td>\n",
       "      <td>Future</td>\n",
       "      <td>https://cdnimg.melon.co.kr/cm2/album/images/10...</td>\n",
       "    </tr>\n",
       "    <tr>\n",
       "      <th>60149</th>\n",
       "      <td>35582017</td>\n",
       "      <td>Talk</td>\n",
       "      <td>Yeat</td>\n",
       "      <td>https://cdnimg.melon.co.kr/cm2/album/images/11...</td>\n",
       "    </tr>\n",
       "    <tr>\n",
       "      <th>60150</th>\n",
       "      <td>35779412</td>\n",
       "      <td>Ain't Safe (Feat. Don Toliver)</td>\n",
       "      <td>Trippie Redd</td>\n",
       "      <td>https://cdnimg.melon.co.kr/cm2/album/images/11...</td>\n",
       "    </tr>\n",
       "    <tr>\n",
       "      <th>60151</th>\n",
       "      <td>35540853</td>\n",
       "      <td>BUST IT (Feat. UNEDUCATED KID)</td>\n",
       "      <td>크라운제이 (CROWN J)</td>\n",
       "      <td>https://cdnimg.melon.co.kr/cm2/album/images/11...</td>\n",
       "    </tr>\n",
       "    <tr>\n",
       "      <th>60152</th>\n",
       "      <td>31429071</td>\n",
       "      <td>Fetish</td>\n",
       "      <td>Lil Keed</td>\n",
       "      <td>https://cdnimg.melon.co.kr/cm/album/images/102...</td>\n",
       "    </tr>\n",
       "    <tr>\n",
       "      <th>60153</th>\n",
       "      <td>35487612</td>\n",
       "      <td>Slide (Remix)</td>\n",
       "      <td>Madmarcc, 21 Savage</td>\n",
       "      <td>https://cdnimg.melon.co.kr/cm2/album/images/11...</td>\n",
       "    </tr>\n",
       "    <tr>\n",
       "      <th>60154</th>\n",
       "      <td>34847096</td>\n",
       "      <td>Waddup (Feat. Polo G)</td>\n",
       "      <td>PGF Nuk</td>\n",
       "      <td>https://cdnimg.melon.co.kr/cm2/album/images/10...</td>\n",
       "    </tr>\n",
       "    <tr>\n",
       "      <th>60155</th>\n",
       "      <td>35444525</td>\n",
       "      <td>Big Steppa</td>\n",
       "      <td>Flo Milli</td>\n",
       "      <td>https://cdnimg.melon.co.kr/cm2/album/images/11...</td>\n",
       "    </tr>\n",
       "    <tr>\n",
       "      <th>60156</th>\n",
       "      <td>35456563</td>\n",
       "      <td>Pressurelicious (feat. Future)</td>\n",
       "      <td>Megan Thee Stallion</td>\n",
       "      <td>https://cdnimg.melon.co.kr/cm2/album/images/11...</td>\n",
       "    </tr>\n",
       "    <tr>\n",
       "      <th>60157</th>\n",
       "      <td>35327786</td>\n",
       "      <td>Dangerous (Feat. Ak2daface)</td>\n",
       "      <td>Chillin Homie, KHAN</td>\n",
       "      <td>https://cdnimg.melon.co.kr/cm2/album/images/10...</td>\n",
       "    </tr>\n",
       "    <tr>\n",
       "      <th>60158</th>\n",
       "      <td>35010454</td>\n",
       "      <td>I Don't Deserve That Cap (Feat. BSlime)</td>\n",
       "      <td>Lil Gotit</td>\n",
       "      <td>https://cdnimg.melon.co.kr/cm2/album/images/10...</td>\n",
       "    </tr>\n",
       "    <tr>\n",
       "      <th>60159</th>\n",
       "      <td>35155056</td>\n",
       "      <td>Turban</td>\n",
       "      <td>Yeat</td>\n",
       "      <td>https://cdnimg.melon.co.kr/cm2/album/images/10...</td>\n",
       "    </tr>\n",
       "    <tr>\n",
       "      <th>60160</th>\n",
       "      <td>31204359</td>\n",
       "      <td>Drip or Drown</td>\n",
       "      <td>Gunna</td>\n",
       "      <td>https://cdnimg.melon.co.kr/cm/album/images/101...</td>\n",
       "    </tr>\n",
       "  </tbody>\n",
       "</table>\n",
       "</div>"
      ],
      "text/plain": [
       "         songId                                              title  \\\n",
       "16249  33164486                                                Sky   \n",
       "55798  35002698                                  PUFFIN ON ZOOTIEZ   \n",
       "56708  35891601                      Superhero (Heroes & Villains)   \n",
       "60124  32364282                                             Reborn   \n",
       "60125  35987313                                     Maya Freestyle   \n",
       "60126  35956165                                    Neo (feat. 072)   \n",
       "60127  35956164                                  Umm (feat. Odd95)   \n",
       "60128  34067967                                         Way Bigger   \n",
       "60129  34067968                 Flocky Flocky (feat. Travis Scott)   \n",
       "60130  32600616                                 Hard To Choose One   \n",
       "60131  32789925                               GREECE (Feat. Drake)   \n",
       "60132  35919156                                       32 Freestyle   \n",
       "60133  35891577                                           Overdose   \n",
       "60134  34748228                           Petty Too (Feat. Future)   \n",
       "60135  34752692                                             Crypto   \n",
       "60136  35002694                                              712PM   \n",
       "60137  35727874                             G Nikes (Feat. Polo G)   \n",
       "60138  33363290  Moonwalking in Calabasas (Remix) (Feat. Blueface)   \n",
       "60139  35781705                                                New   \n",
       "60140  35689779                                    Nothing Changed   \n",
       "60141  35196772                           HOTEL LOBBY (Unc & Phew)   \n",
       "60142  35781710                                                  X   \n",
       "60143  33164469                                     Stop Breathing   \n",
       "60144  32147288                              Big (Feat. Lil Gotit)   \n",
       "60145  34869357              BIG PURR (Prrdd) (Feat. Pooh Shiesty)   \n",
       "60146  31869526                   Real Hood Baby (feat. Stickbaby)   \n",
       "60147  35582558                                              Detox   \n",
       "60148  35002695                                      I'M DAT N****   \n",
       "60149  35582017                                               Talk   \n",
       "60150  35779412                     Ain't Safe (Feat. Don Toliver)   \n",
       "60151  35540853                     BUST IT (Feat. UNEDUCATED KID)   \n",
       "60152  31429071                                             Fetish   \n",
       "60153  35487612                                      Slide (Remix)   \n",
       "60154  34847096                              Waddup (Feat. Polo G)   \n",
       "60155  35444525                                         Big Steppa   \n",
       "60156  35456563                     Pressurelicious (feat. Future)   \n",
       "60157  35327786                        Dangerous (Feat. Ak2daface)   \n",
       "60158  35010454            I Don't Deserve That Cap (Feat. BSlime)   \n",
       "60159  35155056                                             Turban   \n",
       "60160  31204359                                      Drip or Drown   \n",
       "\n",
       "                                  artist  \\\n",
       "16249                      Playboi Carti   \n",
       "55798                             Future   \n",
       "56708  Metro Boomin, Future, Chris Brown   \n",
       "60124                     UNEDUCATED KID   \n",
       "60125                                 J4   \n",
       "60126                                JOo   \n",
       "60127                                JOo   \n",
       "60128                        Don Toliver   \n",
       "60129                        Don Toliver   \n",
       "60130                             Future   \n",
       "60131                          DJ Khaled   \n",
       "60132                          BabyDrill   \n",
       "60133                      Finesse2tymes   \n",
       "60134                           Lil Durk   \n",
       "60135              Takeoff, Rich The Kid   \n",
       "60136                             Future   \n",
       "60137                         Nardo Wick   \n",
       "60138                                DDG   \n",
       "60139                         Ken Carson   \n",
       "60140                     Quavo, Takeoff   \n",
       "60141                     Quavo, Takeoff   \n",
       "60142                         Ken Carson   \n",
       "60143                      Playboi Carti   \n",
       "60144                          Coi Leray   \n",
       "60145                          Coi Leray   \n",
       "60146                           Lil Keed   \n",
       "60147                           Lil Baby   \n",
       "60148                             Future   \n",
       "60149                               Yeat   \n",
       "60150                       Trippie Redd   \n",
       "60151                    크라운제이 (CROWN J)   \n",
       "60152                           Lil Keed   \n",
       "60153                Madmarcc, 21 Savage   \n",
       "60154                            PGF Nuk   \n",
       "60155                          Flo Milli   \n",
       "60156                Megan Thee Stallion   \n",
       "60157                Chillin Homie, KHAN   \n",
       "60158                          Lil Gotit   \n",
       "60159                               Yeat   \n",
       "60160                              Gunna   \n",
       "\n",
       "                                                     img  \n",
       "16249  https://cdnimg.melon.co.kr/cm2/album/images/10...  \n",
       "55798  https://cdnimg.melon.co.kr/cm2/album/images/10...  \n",
       "56708  https://cdnimg.melon.co.kr/cm2/album/images/11...  \n",
       "60124  https://cdnimg.melon.co.kr/cm2/album/images/10...  \n",
       "60125  https://cdnimg.melon.co.kr/cm2/album/images/11...  \n",
       "60126  https://cdnimg.melon.co.kr/cm2/album/images/11...  \n",
       "60127  https://cdnimg.melon.co.kr/cm2/album/images/11...  \n",
       "60128  https://cdnimg.melon.co.kr/cm2/album/images/10...  \n",
       "60129  https://cdnimg.melon.co.kr/cm2/album/images/10...  \n",
       "60130  https://cdnimg.melon.co.kr/cm2/album/images/10...  \n",
       "60131  https://cdnimg.melon.co.kr/cm2/album/images/10...  \n",
       "60132  https://cdnimg.melon.co.kr/cm2/album/images/11...  \n",
       "60133  https://cdnimg.melon.co.kr/cm2/album/images/11...  \n",
       "60134  https://cdnimg.melon.co.kr/cm2/album/images/10...  \n",
       "60135  https://cdnimg.melon.co.kr/cm2/album/images/10...  \n",
       "60136  https://cdnimg.melon.co.kr/cm2/album/images/10...  \n",
       "60137  https://cdnimg.melon.co.kr/cm2/album/images/10...  \n",
       "60138  https://cdnimg.melon.co.kr/cm2/album/images/10...  \n",
       "60139  https://cdnimg.melon.co.kr/cm2/album/images/11...  \n",
       "60140  https://cdnimg.melon.co.kr/cm2/album/images/11...  \n",
       "60141  https://cdnimg.melon.co.kr/cm2/album/images/10...  \n",
       "60142  https://cdnimg.melon.co.kr/cm2/album/images/11...  \n",
       "60143  https://cdnimg.melon.co.kr/cm2/album/images/10...  \n",
       "60144  https://cdnimg.melon.co.kr/cm2/album/images/10...  \n",
       "60145  https://cdnimg.melon.co.kr/cm2/album/images/10...  \n",
       "60146  https://cdnimg.melon.co.kr/cm/album/images/102...  \n",
       "60147  https://cdnimg.melon.co.kr/cm2/album/images/11...  \n",
       "60148  https://cdnimg.melon.co.kr/cm2/album/images/10...  \n",
       "60149  https://cdnimg.melon.co.kr/cm2/album/images/11...  \n",
       "60150  https://cdnimg.melon.co.kr/cm2/album/images/11...  \n",
       "60151  https://cdnimg.melon.co.kr/cm2/album/images/11...  \n",
       "60152  https://cdnimg.melon.co.kr/cm/album/images/102...  \n",
       "60153  https://cdnimg.melon.co.kr/cm2/album/images/11...  \n",
       "60154  https://cdnimg.melon.co.kr/cm2/album/images/10...  \n",
       "60155  https://cdnimg.melon.co.kr/cm2/album/images/11...  \n",
       "60156  https://cdnimg.melon.co.kr/cm2/album/images/11...  \n",
       "60157  https://cdnimg.melon.co.kr/cm2/album/images/10...  \n",
       "60158  https://cdnimg.melon.co.kr/cm2/album/images/10...  \n",
       "60159  https://cdnimg.melon.co.kr/cm2/album/images/10...  \n",
       "60160  https://cdnimg.melon.co.kr/cm/album/images/101...  "
      ]
     },
     "execution_count": 91,
     "metadata": {},
     "output_type": "execute_result"
    }
   ],
   "source": [
    "plist2[plist2.songId.isin(songs[0])]"
   ]
  },
  {
   "cell_type": "code",
   "execution_count": 87,
   "metadata": {},
   "outputs": [
    {
     "data": {
      "text/html": [
       "<div>\n",
       "<style scoped>\n",
       "    .dataframe tbody tr th:only-of-type {\n",
       "        vertical-align: middle;\n",
       "    }\n",
       "\n",
       "    .dataframe tbody tr th {\n",
       "        vertical-align: top;\n",
       "    }\n",
       "\n",
       "    .dataframe thead th {\n",
       "        text-align: right;\n",
       "    }\n",
       "</style>\n",
       "<table border=\"1\" class=\"dataframe\">\n",
       "  <thead>\n",
       "    <tr style=\"text-align: right;\">\n",
       "      <th></th>\n",
       "      <th>songId</th>\n",
       "      <th>title</th>\n",
       "      <th>artist</th>\n",
       "      <th>img</th>\n",
       "    </tr>\n",
       "  </thead>\n",
       "  <tbody>\n",
       "    <tr>\n",
       "      <th>60160</th>\n",
       "      <td>31204359</td>\n",
       "      <td>Drip or Drown</td>\n",
       "      <td>Gunna</td>\n",
       "      <td>https://cdnimg.melon.co.kr/cm/album/images/101...</td>\n",
       "    </tr>\n",
       "    <tr>\n",
       "      <th>60157</th>\n",
       "      <td>35327786</td>\n",
       "      <td>Dangerous (Feat. Ak2daface)</td>\n",
       "      <td>Chillin Homie, KHAN</td>\n",
       "      <td>https://cdnimg.melon.co.kr/cm2/album/images/10...</td>\n",
       "    </tr>\n",
       "    <tr>\n",
       "      <th>60155</th>\n",
       "      <td>35444525</td>\n",
       "      <td>Big Steppa</td>\n",
       "      <td>Flo Milli</td>\n",
       "      <td>https://cdnimg.melon.co.kr/cm2/album/images/11...</td>\n",
       "    </tr>\n",
       "    <tr>\n",
       "      <th>60156</th>\n",
       "      <td>35456563</td>\n",
       "      <td>Pressurelicious (feat. Future)</td>\n",
       "      <td>Megan Thee Stallion</td>\n",
       "      <td>https://cdnimg.melon.co.kr/cm2/album/images/11...</td>\n",
       "    </tr>\n",
       "    <tr>\n",
       "      <th>60153</th>\n",
       "      <td>35487612</td>\n",
       "      <td>Slide (Remix)</td>\n",
       "      <td>Madmarcc, 21 Savage</td>\n",
       "      <td>https://cdnimg.melon.co.kr/cm2/album/images/11...</td>\n",
       "    </tr>\n",
       "  </tbody>\n",
       "</table>\n",
       "</div>"
      ],
      "text/plain": [
       "         songId                           title               artist  \\\n",
       "60160  31204359                   Drip or Drown                Gunna   \n",
       "60157  35327786     Dangerous (Feat. Ak2daface)  Chillin Homie, KHAN   \n",
       "60155  35444525                      Big Steppa            Flo Milli   \n",
       "60156  35456563  Pressurelicious (feat. Future)  Megan Thee Stallion   \n",
       "60153  35487612                   Slide (Remix)  Madmarcc, 21 Savage   \n",
       "\n",
       "                                                     img  \n",
       "60160  https://cdnimg.melon.co.kr/cm/album/images/101...  \n",
       "60157  https://cdnimg.melon.co.kr/cm2/album/images/10...  \n",
       "60155  https://cdnimg.melon.co.kr/cm2/album/images/11...  \n",
       "60156  https://cdnimg.melon.co.kr/cm2/album/images/11...  \n",
       "60153  https://cdnimg.melon.co.kr/cm2/album/images/11...  "
      ]
     },
     "execution_count": 87,
     "metadata": {},
     "output_type": "execute_result"
    }
   ],
   "source": [
    "cnt = 0\n",
    "song_list = []\n",
    "\n",
    "df_songs = pd.DataFrame()\n",
    "# argsort 값을 sort해서 값의 index를 오름차순으로 '-' 해주면 내림차순으로\n",
    "for s_id in songs[0][np.argsort(-songs[1])]:    \n",
    "    tmp = df[df.songId.isin([s_id])][['songId', 'title', 'artist', 'img']]\n",
    "    if not tmp.empty :\n",
    "        cnt += 1\n",
    "        df_songs = pd.concat([df_songs, tmp])\n",
    "    else:\n",
    "        tmp = plist2[plist2.songId.isin([s_id])]\n",
    "        if not tmp.empty:\n",
    "            cnt += 1\n",
    "            df_songs = pd.concat([df_songs, tmp])\n",
    "\n",
    "    if cnt == 5 : break\n",
    "\n",
    "df_songs\n",
    "\n"
   ]
  },
  {
   "cell_type": "code",
   "execution_count": 29,
   "metadata": {},
   "outputs": [
    {
     "data": {
      "text/plain": [
       "[]"
      ]
     },
     "execution_count": 29,
     "metadata": {},
     "output_type": "execute_result"
    }
   ],
   "source": [
    "pro_psongs = df[df.songId.isin(song_list)][['songId', 'title', 'artist', 'img']]\n",
    "\n",
    "if pro_psongs.empty:\n",
    "    pro_psongs = plist2[plist2.songId.isin(song_list)]\n",
    "\n",
    "pro_psongs = pro_psongs.to_dict('records')\n",
    "pro_psongs\n"
   ]
  },
  {
   "cell_type": "code",
   "execution_count": 116,
   "metadata": {},
   "outputs": [],
   "source": [
    "\n",
    "if len(songs[0]) > 5:\n",
    "    re_count = np.argsort(-songs[1])\n",
    "    song_list = songs[0][re_count][:20]\n",
    "else:\n",
    "    song_list = songs[0]"
   ]
  },
  {
   "cell_type": "code",
   "execution_count": 109,
   "metadata": {},
   "outputs": [
    {
     "data": {
      "text/html": [
       "<div>\n",
       "<style scoped>\n",
       "    .dataframe tbody tr th:only-of-type {\n",
       "        vertical-align: middle;\n",
       "    }\n",
       "\n",
       "    .dataframe tbody tr th {\n",
       "        vertical-align: top;\n",
       "    }\n",
       "\n",
       "    .dataframe thead th {\n",
       "        text-align: right;\n",
       "    }\n",
       "</style>\n",
       "<table border=\"1\" class=\"dataframe\">\n",
       "  <thead>\n",
       "    <tr style=\"text-align: right;\">\n",
       "      <th></th>\n",
       "      <th>songId</th>\n",
       "      <th>count</th>\n",
       "    </tr>\n",
       "  </thead>\n",
       "  <tbody>\n",
       "    <tr>\n",
       "      <th>0</th>\n",
       "      <td>1002911</td>\n",
       "      <td>1</td>\n",
       "    </tr>\n",
       "    <tr>\n",
       "      <th>1</th>\n",
       "      <td>1010331</td>\n",
       "      <td>1</td>\n",
       "    </tr>\n",
       "    <tr>\n",
       "      <th>2</th>\n",
       "      <td>10124</td>\n",
       "      <td>1</td>\n",
       "    </tr>\n",
       "    <tr>\n",
       "      <th>3</th>\n",
       "      <td>10126</td>\n",
       "      <td>2</td>\n",
       "    </tr>\n",
       "    <tr>\n",
       "      <th>4</th>\n",
       "      <td>1017063</td>\n",
       "      <td>1</td>\n",
       "    </tr>\n",
       "    <tr>\n",
       "      <th>...</th>\n",
       "      <td>...</td>\n",
       "      <td>...</td>\n",
       "    </tr>\n",
       "    <tr>\n",
       "      <th>4529</th>\n",
       "      <td>983662</td>\n",
       "      <td>1</td>\n",
       "    </tr>\n",
       "    <tr>\n",
       "      <th>4530</th>\n",
       "      <td>984030</td>\n",
       "      <td>1</td>\n",
       "    </tr>\n",
       "    <tr>\n",
       "      <th>4531</th>\n",
       "      <td>985739</td>\n",
       "      <td>1</td>\n",
       "    </tr>\n",
       "    <tr>\n",
       "      <th>4532</th>\n",
       "      <td>987651</td>\n",
       "      <td>1</td>\n",
       "    </tr>\n",
       "    <tr>\n",
       "      <th>4533</th>\n",
       "      <td>997464</td>\n",
       "      <td>1</td>\n",
       "    </tr>\n",
       "  </tbody>\n",
       "</table>\n",
       "<p>4534 rows × 2 columns</p>\n",
       "</div>"
      ],
      "text/plain": [
       "       songId  count\n",
       "0     1002911      1\n",
       "1     1010331      1\n",
       "2       10124      1\n",
       "3       10126      2\n",
       "4     1017063      1\n",
       "...       ...    ...\n",
       "4529   983662      1\n",
       "4530   984030      1\n",
       "4531   985739      1\n",
       "4532   987651      1\n",
       "4533   997464      1\n",
       "\n",
       "[4534 rows x 2 columns]"
      ]
     },
     "execution_count": 109,
     "metadata": {},
     "output_type": "execute_result"
    }
   ],
   "source": [
    "df_songs = pd.DataFrame({'songId' : songs[0], 'count' : songs[1]})\n",
    "df_songs"
   ]
  },
  {
   "cell_type": "code",
   "execution_count": 110,
   "metadata": {},
   "outputs": [
    {
     "data": {
      "text/html": [
       "<div>\n",
       "<style scoped>\n",
       "    .dataframe tbody tr th:only-of-type {\n",
       "        vertical-align: middle;\n",
       "    }\n",
       "\n",
       "    .dataframe tbody tr th {\n",
       "        vertical-align: top;\n",
       "    }\n",
       "\n",
       "    .dataframe thead th {\n",
       "        text-align: right;\n",
       "    }\n",
       "</style>\n",
       "<table border=\"1\" class=\"dataframe\">\n",
       "  <thead>\n",
       "    <tr style=\"text-align: right;\">\n",
       "      <th></th>\n",
       "      <th>songId</th>\n",
       "      <th>count</th>\n",
       "    </tr>\n",
       "  </thead>\n",
       "  <tbody>\n",
       "    <tr>\n",
       "      <th>339</th>\n",
       "      <td>2939095</td>\n",
       "      <td>27</td>\n",
       "    </tr>\n",
       "    <tr>\n",
       "      <th>2007</th>\n",
       "      <td>32939042</td>\n",
       "      <td>21</td>\n",
       "    </tr>\n",
       "    <tr>\n",
       "      <th>2011</th>\n",
       "      <td>32939046</td>\n",
       "      <td>14</td>\n",
       "    </tr>\n",
       "    <tr>\n",
       "      <th>2001</th>\n",
       "      <td>32939001</td>\n",
       "      <td>12</td>\n",
       "    </tr>\n",
       "    <tr>\n",
       "      <th>2000</th>\n",
       "      <td>32939000</td>\n",
       "      <td>12</td>\n",
       "    </tr>\n",
       "    <tr>\n",
       "      <th>2763</th>\n",
       "      <td>34476749</td>\n",
       "      <td>12</td>\n",
       "    </tr>\n",
       "    <tr>\n",
       "      <th>3272</th>\n",
       "      <td>35944240</td>\n",
       "      <td>12</td>\n",
       "    </tr>\n",
       "    <tr>\n",
       "      <th>3194</th>\n",
       "      <td>35757422</td>\n",
       "      <td>11</td>\n",
       "    </tr>\n",
       "    <tr>\n",
       "      <th>3271</th>\n",
       "      <td>35944239</td>\n",
       "      <td>11</td>\n",
       "    </tr>\n",
       "    <tr>\n",
       "      <th>2639</th>\n",
       "      <td>34055256</td>\n",
       "      <td>11</td>\n",
       "    </tr>\n",
       "  </tbody>\n",
       "</table>\n",
       "</div>"
      ],
      "text/plain": [
       "        songId  count\n",
       "339    2939095     27\n",
       "2007  32939042     21\n",
       "2011  32939046     14\n",
       "2001  32939001     12\n",
       "2000  32939000     12\n",
       "2763  34476749     12\n",
       "3272  35944240     12\n",
       "3194  35757422     11\n",
       "3271  35944239     11\n",
       "2639  34055256     11"
      ]
     },
     "execution_count": 110,
     "metadata": {},
     "output_type": "execute_result"
    }
   ],
   "source": [
    "song_list = df_songs.sort_values('count', ascending=False).head(10)\n",
    "song_list"
   ]
  },
  {
   "cell_type": "code",
   "execution_count": null,
   "metadata": {},
   "outputs": [],
   "source": []
  },
  {
   "cell_type": "code",
   "execution_count": 113,
   "metadata": {},
   "outputs": [
    {
     "data": {
      "text/plain": [
       "array(['2939095', '32939042', '32939046', '32939001', '32939000',\n",
       "       '34476749', '35944240', '34055256', '33369437', '35757422'],\n",
       "      dtype='<U12')"
      ]
     },
     "execution_count": 113,
     "metadata": {},
     "output_type": "execute_result"
    }
   ],
   "source": [
    "song_list"
   ]
  },
  {
   "cell_type": "code",
   "execution_count": 114,
   "metadata": {},
   "outputs": [
    {
     "data": {
      "text/html": [
       "<div>\n",
       "<style scoped>\n",
       "    .dataframe tbody tr th:only-of-type {\n",
       "        vertical-align: middle;\n",
       "    }\n",
       "\n",
       "    .dataframe tbody tr th {\n",
       "        vertical-align: top;\n",
       "    }\n",
       "\n",
       "    .dataframe thead th {\n",
       "        text-align: right;\n",
       "    }\n",
       "</style>\n",
       "<table border=\"1\" class=\"dataframe\">\n",
       "  <thead>\n",
       "    <tr style=\"text-align: right;\">\n",
       "      <th></th>\n",
       "      <th>songId</th>\n",
       "      <th>title</th>\n",
       "      <th>artist</th>\n",
       "      <th>genre</th>\n",
       "    </tr>\n",
       "  </thead>\n",
       "  <tbody>\n",
       "    <tr>\n",
       "      <th>4588</th>\n",
       "      <td>32939046</td>\n",
       "      <td>여기저기거기 (Feat. 수퍼비)</td>\n",
       "      <td>범키</td>\n",
       "      <td>R&amp;B/Soul</td>\n",
       "    </tr>\n",
       "    <tr>\n",
       "      <th>4896</th>\n",
       "      <td>34055256</td>\n",
       "      <td>김철수 씨 이야기</td>\n",
       "      <td>허회경</td>\n",
       "      <td>인디음악 포크/블루스</td>\n",
       "    </tr>\n",
       "    <tr>\n",
       "      <th>4926</th>\n",
       "      <td>2939095</td>\n",
       "      <td>널 생각해</td>\n",
       "      <td>원 모어 찬스 (one more chance)</td>\n",
       "      <td>인디음악 포크/블루스</td>\n",
       "    </tr>\n",
       "    <tr>\n",
       "      <th>4994</th>\n",
       "      <td>32939042</td>\n",
       "      <td>아침만 남겨주고</td>\n",
       "      <td>김현창</td>\n",
       "      <td>인디음악 포크/블루스</td>\n",
       "    </tr>\n",
       "  </tbody>\n",
       "</table>\n",
       "</div>"
      ],
      "text/plain": [
       "        songId               title                     artist        genre\n",
       "4588  32939046  여기저기거기 (Feat. 수퍼비)                         범키     R&B/Soul\n",
       "4896  34055256           김철수 씨 이야기                        허회경  인디음악 포크/블루스\n",
       "4926   2939095               널 생각해  원 모어 찬스 (one more chance)  인디음악 포크/블루스\n",
       "4994  32939042            아침만 남겨주고                        김현창  인디음악 포크/블루스"
      ]
     },
     "execution_count": 114,
     "metadata": {},
     "output_type": "execute_result"
    }
   ],
   "source": [
    "df[df.songId.isin(song_list)][['songId', 'title', 'artist', 'genre',]]"
   ]
  },
  {
   "cell_type": "code",
   "execution_count": 205,
   "metadata": {},
   "outputs": [
    {
     "data": {
      "text/html": [
       "<div>\n",
       "<style scoped>\n",
       "    .dataframe tbody tr th:only-of-type {\n",
       "        vertical-align: middle;\n",
       "    }\n",
       "\n",
       "    .dataframe tbody tr th {\n",
       "        vertical-align: top;\n",
       "    }\n",
       "\n",
       "    .dataframe thead th {\n",
       "        text-align: right;\n",
       "    }\n",
       "</style>\n",
       "<table border=\"1\" class=\"dataframe\">\n",
       "  <thead>\n",
       "    <tr style=\"text-align: right;\">\n",
       "      <th></th>\n",
       "      <th>songId</th>\n",
       "      <th>title</th>\n",
       "      <th>artist</th>\n",
       "      <th>img</th>\n",
       "    </tr>\n",
       "  </thead>\n",
       "  <tbody>\n",
       "  </tbody>\n",
       "</table>\n",
       "</div>"
      ],
      "text/plain": [
       "Empty DataFrame\n",
       "Columns: [songId, title, artist, img]\n",
       "Index: []"
      ]
     },
     "execution_count": 205,
     "metadata": {},
     "output_type": "execute_result"
    }
   ],
   "source": [
    "# 해당 songId 들 정보 출력\n",
    "# 나중에 to_dict()로 반환\n",
    "# 없으면 플레이리스트2에 있는 songId 에서 정보 가져오기\n",
    "tmp = df[df.songId.isin(song_list)][['songId', 'title', 'artist', 'genre', 'album', 'lyricist', 'composer']]\n",
    "if tmp.empty:\n",
    "    tmp = plist2[plist2.songId.isin(song_list)]\n",
    "tmp"
   ]
  },
  {
   "cell_type": "code",
   "execution_count": null,
   "metadata": {},
   "outputs": [],
   "source": []
  }
 ],
 "metadata": {
  "kernelspec": {
   "display_name": "base",
   "language": "python",
   "name": "python3"
  },
  "language_info": {
   "codemirror_mode": {
    "name": "ipython",
    "version": 3
   },
   "file_extension": ".py",
   "mimetype": "text/x-python",
   "name": "python",
   "nbconvert_exporter": "python",
   "pygments_lexer": "ipython3",
   "version": "3.9.13"
  },
  "orig_nbformat": 4
 },
 "nbformat": 4,
 "nbformat_minor": 2
}
