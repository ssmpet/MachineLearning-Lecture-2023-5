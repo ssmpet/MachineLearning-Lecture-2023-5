{
 "cells": [
  {
   "cell_type": "code",
   "execution_count": 98,
   "metadata": {},
   "outputs": [],
   "source": [
    "import numpy as np\n",
    "import pandas as pd"
   ]
  },
  {
   "attachments": {},
   "cell_type": "markdown",
   "metadata": {},
   "source": [
    "### 1. songs 합치기"
   ]
  },
  {
   "cell_type": "code",
   "execution_count": 99,
   "metadata": {},
   "outputs": [],
   "source": [
    "filename1 = 'data/melon_genre_ost_230527.csv'\n",
    "filename2 = 'data/melon_year_concat.csv'\n",
    "filename3 = 'data/melon_genre.csv'\n",
    "plist_filename1 = 'data/melon_playlist1.csv'\n",
    "plist_filename2 = 'data/melon_playlist2.csv'"
   ]
  },
  {
   "cell_type": "code",
   "execution_count": 100,
   "metadata": {},
   "outputs": [
    {
     "data": {
      "text/plain": [
       "((1330, 13), (2264, 13), (3845, 13), (3845, 5), (160459, 5))"
      ]
     },
     "execution_count": 100,
     "metadata": {},
     "output_type": "execute_result"
    }
   ],
   "source": [
    "df1 = pd.read_csv(filename1)\n",
    "df2 = pd.read_csv(filename2)\n",
    "df3 = pd.read_csv(filename3)\n",
    "plist1 = pd.read_csv(plist_filename1)\n",
    "plist2 = pd.read_csv(plist_filename2)\n",
    "df1.shape, df2.shape, df3.shape, plist1.shape, plist2.shape"
   ]
  },
  {
   "cell_type": "code",
   "execution_count": 101,
   "metadata": {},
   "outputs": [
    {
     "data": {
      "text/html": [
       "<div>\n",
       "<style scoped>\n",
       "    .dataframe tbody tr th:only-of-type {\n",
       "        vertical-align: middle;\n",
       "    }\n",
       "\n",
       "    .dataframe tbody tr th {\n",
       "        vertical-align: top;\n",
       "    }\n",
       "\n",
       "    .dataframe thead th {\n",
       "        text-align: right;\n",
       "    }\n",
       "</style>\n",
       "<table border=\"1\" class=\"dataframe\">\n",
       "  <thead>\n",
       "    <tr style=\"text-align: right;\">\n",
       "      <th></th>\n",
       "      <th>songId</th>\n",
       "      <th>title</th>\n",
       "      <th>artist</th>\n",
       "      <th>genre</th>\n",
       "      <th>album</th>\n",
       "      <th>lyricist</th>\n",
       "      <th>composer</th>\n",
       "      <th>date</th>\n",
       "      <th>img</th>\n",
       "      <th>comment</th>\n",
       "      <th>like</th>\n",
       "      <th>lyric</th>\n",
       "      <th>plylstSeq</th>\n",
       "    </tr>\n",
       "  </thead>\n",
       "  <tbody>\n",
       "    <tr>\n",
       "      <th>0</th>\n",
       "      <td>4083218</td>\n",
       "      <td>내일또 만납시다</td>\n",
       "      <td>금호동</td>\n",
       "      <td>성인가요/트로트</td>\n",
       "      <td>여인을 못잊어/그정 못잊어</td>\n",
       "      <td>전우</td>\n",
       "      <td>박춘석</td>\n",
       "      <td>20130401.0</td>\n",
       "      <td>https://cdnimg.melon.co.kr/cm/album/images/021...</td>\n",
       "      <td>13</td>\n",
       "      <td>263</td>\n",
       "      <td>하루의 일을 끝내고 돌아가는\\n거리엔 사람의 물결\\n하늘엔 별이 하나 둘 반짝이면\\...</td>\n",
       "      <td>460454132 518268022</td>\n",
       "    </tr>\n",
       "  </tbody>\n",
       "</table>\n",
       "</div>"
      ],
      "text/plain": [
       "    songId     title artist     genre           album lyricist composer  \\\n",
       "0  4083218  내일또 만납시다    금호동  성인가요/트로트  여인을 못잊어/그정 못잊어       전우      박춘석   \n",
       "\n",
       "         date                                                img  comment  \\\n",
       "0  20130401.0  https://cdnimg.melon.co.kr/cm/album/images/021...       13   \n",
       "\n",
       "   like                                              lyric  \\\n",
       "0   263  하루의 일을 끝내고 돌아가는\\n거리엔 사람의 물결\\n하늘엔 별이 하나 둘 반짝이면\\...   \n",
       "\n",
       "             plylstSeq  \n",
       "0  460454132 518268022  "
      ]
     },
     "execution_count": 101,
     "metadata": {},
     "output_type": "execute_result"
    }
   ],
   "source": [
    "df2.head(1)"
   ]
  },
  {
   "cell_type": "code",
   "execution_count": 102,
   "metadata": {},
   "outputs": [],
   "source": [
    "df = pd.concat([df1, df2, df3])"
   ]
  },
  {
   "cell_type": "code",
   "execution_count": 103,
   "metadata": {},
   "outputs": [
    {
     "data": {
      "text/plain": [
       "((7439, 13), 6247)"
      ]
     },
     "execution_count": 103,
     "metadata": {},
     "output_type": "execute_result"
    }
   ],
   "source": [
    "df.shape, df.songId.nunique()"
   ]
  },
  {
   "cell_type": "code",
   "execution_count": 104,
   "metadata": {},
   "outputs": [],
   "source": [
    "df.drop_duplicates(subset=['songId'], inplace=True)"
   ]
  },
  {
   "cell_type": "code",
   "execution_count": 113,
   "metadata": {},
   "outputs": [
    {
     "data": {
      "text/plain": [
       "((6247, 13), 6247)"
      ]
     },
     "execution_count": 113,
     "metadata": {},
     "output_type": "execute_result"
    }
   ],
   "source": [
    "df.shape, df.songId.nunique()"
   ]
  },
  {
   "cell_type": "code",
   "execution_count": 105,
   "metadata": {},
   "outputs": [
    {
     "data": {
      "text/html": [
       "<div>\n",
       "<style scoped>\n",
       "    .dataframe tbody tr th:only-of-type {\n",
       "        vertical-align: middle;\n",
       "    }\n",
       "\n",
       "    .dataframe tbody tr th {\n",
       "        vertical-align: top;\n",
       "    }\n",
       "\n",
       "    .dataframe thead th {\n",
       "        text-align: right;\n",
       "    }\n",
       "</style>\n",
       "<table border=\"1\" class=\"dataframe\">\n",
       "  <thead>\n",
       "    <tr style=\"text-align: right;\">\n",
       "      <th></th>\n",
       "      <th>songId</th>\n",
       "      <th>title</th>\n",
       "      <th>artist</th>\n",
       "      <th>genre</th>\n",
       "      <th>album</th>\n",
       "      <th>lyricist</th>\n",
       "      <th>composer</th>\n",
       "      <th>date</th>\n",
       "      <th>img</th>\n",
       "      <th>comment</th>\n",
       "      <th>like</th>\n",
       "      <th>lyric</th>\n",
       "      <th>plylstSeq</th>\n",
       "    </tr>\n",
       "  </thead>\n",
       "  <tbody>\n",
       "    <tr>\n",
       "      <th>0</th>\n",
       "      <td>418168</td>\n",
       "      <td>희재</td>\n",
       "      <td>성시경</td>\n",
       "      <td>발라드 국내영화</td>\n",
       "      <td>국화꽃 향기 OST</td>\n",
       "      <td>양재선</td>\n",
       "      <td>MGR</td>\n",
       "      <td>20030201.0</td>\n",
       "      <td>https://cdnimg.melon.co.kr/cm/album/images/000...</td>\n",
       "      <td>332</td>\n",
       "      <td>138267</td>\n",
       "      <td>햇살은 우릴 위해 내리고 \\n바람도 서롤 감싸게 했죠 \\n우리 웃음속에 계절은 오고...</td>\n",
       "      <td>445029956 411111859</td>\n",
       "    </tr>\n",
       "  </tbody>\n",
       "</table>\n",
       "</div>"
      ],
      "text/plain": [
       "   songId title artist     genre       album lyricist composer        date  \\\n",
       "0  418168    희재    성시경  발라드 국내영화  국화꽃 향기 OST      양재선      MGR  20030201.0   \n",
       "\n",
       "                                                 img  comment    like  \\\n",
       "0  https://cdnimg.melon.co.kr/cm/album/images/000...      332  138267   \n",
       "\n",
       "                                               lyric            plylstSeq  \n",
       "0  햇살은 우릴 위해 내리고 \\n바람도 서롤 감싸게 했죠 \\n우리 웃음속에 계절은 오고...  445029956 411111859  "
      ]
     },
     "execution_count": 105,
     "metadata": {},
     "output_type": "execute_result"
    }
   ],
   "source": [
    "df.head(1)"
   ]
  },
  {
   "cell_type": "code",
   "execution_count": 106,
   "metadata": {},
   "outputs": [
    {
     "name": "stdout",
     "output_type": "stream",
     "text": [
      "<class 'pandas.core.frame.DataFrame'>\n",
      "Int64Index: 6247 entries, 0 to 3844\n",
      "Data columns (total 13 columns):\n",
      " #   Column     Non-Null Count  Dtype  \n",
      "---  ------     --------------  -----  \n",
      " 0   songId     6247 non-null   int64  \n",
      " 1   title      6247 non-null   object \n",
      " 2   artist     6247 non-null   object \n",
      " 3   genre      6245 non-null   object \n",
      " 4   album      6247 non-null   object \n",
      " 5   lyricist   5849 non-null   object \n",
      " 6   composer   5845 non-null   object \n",
      " 7   date       6202 non-null   float64\n",
      " 8   img        6247 non-null   object \n",
      " 9   comment    6247 non-null   int64  \n",
      " 10  like       6247 non-null   object \n",
      " 11  lyric      6242 non-null   object \n",
      " 12  plylstSeq  6126 non-null   object \n",
      "dtypes: float64(1), int64(2), object(10)\n",
      "memory usage: 683.3+ KB\n"
     ]
    }
   ],
   "source": [
    "df.info()"
   ]
  },
  {
   "cell_type": "code",
   "execution_count": 107,
   "metadata": {},
   "outputs": [
    {
     "data": {
      "text/plain": [
       "songId         0\n",
       "title          0\n",
       "artist         0\n",
       "genre          2\n",
       "album          0\n",
       "lyricist     398\n",
       "composer     402\n",
       "date          45\n",
       "img            0\n",
       "comment        0\n",
       "like           0\n",
       "lyric          5\n",
       "plylstSeq    121\n",
       "dtype: int64"
      ]
     },
     "execution_count": 107,
     "metadata": {},
     "output_type": "execute_result"
    }
   ],
   "source": [
    "df.isna().sum()"
   ]
  },
  {
   "cell_type": "code",
   "execution_count": 108,
   "metadata": {},
   "outputs": [
    {
     "data": {
      "text/plain": [
       "songId         0\n",
       "title          0\n",
       "artist         0\n",
       "genre          2\n",
       "album          0\n",
       "lyricist     398\n",
       "composer     402\n",
       "date           0\n",
       "img            0\n",
       "comment        0\n",
       "like           0\n",
       "lyric          5\n",
       "plylstSeq    121\n",
       "dtype: int64"
      ]
     },
     "execution_count": 108,
     "metadata": {},
     "output_type": "execute_result"
    }
   ],
   "source": [
    "df.date.fillna(0, inplace=True)\n",
    "df.isna().sum()"
   ]
  },
  {
   "cell_type": "code",
   "execution_count": 109,
   "metadata": {},
   "outputs": [],
   "source": [
    "df.date = df.date.astype(int).astype(str)"
   ]
  },
  {
   "cell_type": "code",
   "execution_count": 110,
   "metadata": {},
   "outputs": [
    {
     "data": {
      "text/html": [
       "<div>\n",
       "<style scoped>\n",
       "    .dataframe tbody tr th:only-of-type {\n",
       "        vertical-align: middle;\n",
       "    }\n",
       "\n",
       "    .dataframe tbody tr th {\n",
       "        vertical-align: top;\n",
       "    }\n",
       "\n",
       "    .dataframe thead th {\n",
       "        text-align: right;\n",
       "    }\n",
       "</style>\n",
       "<table border=\"1\" class=\"dataframe\">\n",
       "  <thead>\n",
       "    <tr style=\"text-align: right;\">\n",
       "      <th></th>\n",
       "      <th>songId</th>\n",
       "      <th>title</th>\n",
       "      <th>artist</th>\n",
       "      <th>genre</th>\n",
       "      <th>album</th>\n",
       "      <th>lyricist</th>\n",
       "      <th>composer</th>\n",
       "      <th>date</th>\n",
       "      <th>img</th>\n",
       "      <th>comment</th>\n",
       "      <th>like</th>\n",
       "      <th>lyric</th>\n",
       "      <th>plylstSeq</th>\n",
       "    </tr>\n",
       "  </thead>\n",
       "  <tbody>\n",
       "    <tr>\n",
       "      <th>0</th>\n",
       "      <td>418168</td>\n",
       "      <td>희재</td>\n",
       "      <td>성시경</td>\n",
       "      <td>발라드 국내영화</td>\n",
       "      <td>국화꽃 향기 OST</td>\n",
       "      <td>양재선</td>\n",
       "      <td>MGR</td>\n",
       "      <td>20030201</td>\n",
       "      <td>https://cdnimg.melon.co.kr/cm/album/images/000...</td>\n",
       "      <td>332</td>\n",
       "      <td>138267</td>\n",
       "      <td>햇살은 우릴 위해 내리고 \\n바람도 서롤 감싸게 했죠 \\n우리 웃음속에 계절은 오고...</td>\n",
       "      <td>445029956 411111859</td>\n",
       "    </tr>\n",
       "  </tbody>\n",
       "</table>\n",
       "</div>"
      ],
      "text/plain": [
       "   songId title artist     genre       album lyricist composer      date  \\\n",
       "0  418168    희재    성시경  발라드 국내영화  국화꽃 향기 OST      양재선      MGR  20030201   \n",
       "\n",
       "                                                 img  comment    like  \\\n",
       "0  https://cdnimg.melon.co.kr/cm/album/images/000...      332  138267   \n",
       "\n",
       "                                               lyric            plylstSeq  \n",
       "0  햇살은 우릴 위해 내리고 \\n바람도 서롤 감싸게 했죠 \\n우리 웃음속에 계절은 오고...  445029956 411111859  "
      ]
     },
     "execution_count": 110,
     "metadata": {},
     "output_type": "execute_result"
    }
   ],
   "source": [
    "df.head(1)"
   ]
  },
  {
   "cell_type": "code",
   "execution_count": 111,
   "metadata": {},
   "outputs": [
    {
     "data": {
      "text/plain": [
       "songId         0\n",
       "title          0\n",
       "artist         0\n",
       "genre          2\n",
       "album          0\n",
       "lyricist     398\n",
       "composer     402\n",
       "date           0\n",
       "img            0\n",
       "comment        0\n",
       "like           0\n",
       "lyric          5\n",
       "plylstSeq    121\n",
       "dtype: int64"
      ]
     },
     "execution_count": 111,
     "metadata": {},
     "output_type": "execute_result"
    }
   ],
   "source": [
    "df.isna().sum()"
   ]
  },
  {
   "cell_type": "code",
   "execution_count": 112,
   "metadata": {},
   "outputs": [
    {
     "data": {
      "text/html": [
       "<div>\n",
       "<style scoped>\n",
       "    .dataframe tbody tr th:only-of-type {\n",
       "        vertical-align: middle;\n",
       "    }\n",
       "\n",
       "    .dataframe tbody tr th {\n",
       "        vertical-align: top;\n",
       "    }\n",
       "\n",
       "    .dataframe thead th {\n",
       "        text-align: right;\n",
       "    }\n",
       "</style>\n",
       "<table border=\"1\" class=\"dataframe\">\n",
       "  <thead>\n",
       "    <tr style=\"text-align: right;\">\n",
       "      <th></th>\n",
       "      <th>songId</th>\n",
       "      <th>title</th>\n",
       "      <th>artist</th>\n",
       "      <th>genre</th>\n",
       "      <th>album</th>\n",
       "      <th>lyricist</th>\n",
       "      <th>composer</th>\n",
       "      <th>date</th>\n",
       "      <th>img</th>\n",
       "      <th>comment</th>\n",
       "      <th>like</th>\n",
       "      <th>lyric</th>\n",
       "      <th>plylstSeq</th>\n",
       "    </tr>\n",
       "  </thead>\n",
       "  <tbody>\n",
       "    <tr>\n",
       "      <th>607</th>\n",
       "      <td>1951550</td>\n",
       "      <td>붉은 노을</td>\n",
       "      <td>BIGBANG (빅뱅)</td>\n",
       "      <td>댄스 랩/힙합</td>\n",
       "      <td>Remember</td>\n",
       "      <td>이영훈</td>\n",
       "      <td>G-DRAGON</td>\n",
       "      <td>20081105</td>\n",
       "      <td>https://cdnimg.melon.co.kr/cm/album/images/004...</td>\n",
       "      <td>310</td>\n",
       "      <td>73699</td>\n",
       "      <td>NaN</td>\n",
       "      <td>442706386 100098263</td>\n",
       "    </tr>\n",
       "    <tr>\n",
       "      <th>2547</th>\n",
       "      <td>1754584</td>\n",
       "      <td>혜성</td>\n",
       "      <td>윤하 (YOUNHA)</td>\n",
       "      <td>록/메탈</td>\n",
       "      <td>혜성</td>\n",
       "      <td>EMA SATOU</td>\n",
       "      <td>Nao Tanaka</td>\n",
       "      <td>20071023</td>\n",
       "      <td>https://cdnimg.melon.co.kr/cm/album/images/003...</td>\n",
       "      <td>125</td>\n",
       "      <td>49147</td>\n",
       "      <td>NaN</td>\n",
       "      <td>442706386 434150864</td>\n",
       "    </tr>\n",
       "    <tr>\n",
       "      <th>2562</th>\n",
       "      <td>1357461</td>\n",
       "      <td>나는 나비</td>\n",
       "      <td>YB (윤도현 밴드)</td>\n",
       "      <td>록/메탈</td>\n",
       "      <td>Why Be?</td>\n",
       "      <td>박태희</td>\n",
       "      <td>박태희</td>\n",
       "      <td>20060810</td>\n",
       "      <td>https://cdnimg.melon.co.kr/cm/album/images/003...</td>\n",
       "      <td>93</td>\n",
       "      <td>56907</td>\n",
       "      <td>NaN</td>\n",
       "      <td>405285190 510682137</td>\n",
       "    </tr>\n",
       "    <tr>\n",
       "      <th>2656</th>\n",
       "      <td>3108907</td>\n",
       "      <td>비밀 (Special Vocal. 박완규)</td>\n",
       "      <td>부활</td>\n",
       "      <td>록/메탈</td>\n",
       "      <td>부활 Collaboration Project  '+ (plus)' / +1</td>\n",
       "      <td>김태원</td>\n",
       "      <td>김태원</td>\n",
       "      <td>20110117</td>\n",
       "      <td>https://cdnimg.melon.co.kr/cm/album/images/011...</td>\n",
       "      <td>94</td>\n",
       "      <td>29063</td>\n",
       "      <td>NaN</td>\n",
       "      <td>445029956 101516705</td>\n",
       "    </tr>\n",
       "    <tr>\n",
       "      <th>3230</th>\n",
       "      <td>1888933</td>\n",
       "      <td>날 봐, 귀순</td>\n",
       "      <td>대성</td>\n",
       "      <td>성인가요/트로트</td>\n",
       "      <td>날 봐, 귀순 (Digital Single)</td>\n",
       "      <td>G-DRAGON</td>\n",
       "      <td>G-DRAGON</td>\n",
       "      <td>20080616</td>\n",
       "      <td>https://cdnimg.melon.co.kr/cm/album/images/003...</td>\n",
       "      <td>71</td>\n",
       "      <td>9419</td>\n",
       "      <td>NaN</td>\n",
       "      <td>425182189 425524406</td>\n",
       "    </tr>\n",
       "  </tbody>\n",
       "</table>\n",
       "</div>"
      ],
      "text/plain": [
       "       songId                    title        artist     genre  \\\n",
       "607   1951550                    붉은 노을  BIGBANG (빅뱅)   댄스 랩/힙합   \n",
       "2547  1754584                       혜성   윤하 (YOUNHA)      록/메탈   \n",
       "2562  1357461                    나는 나비   YB (윤도현 밴드)      록/메탈   \n",
       "2656  3108907  비밀 (Special Vocal. 박완규)            부활      록/메탈   \n",
       "3230  1888933                  날 봐, 귀순            대성  성인가요/트로트   \n",
       "\n",
       "                                          album   lyricist    composer  \\\n",
       "607                                    Remember        이영훈    G-DRAGON   \n",
       "2547                                         혜성  EMA SATOU  Nao Tanaka   \n",
       "2562                                    Why Be?        박태희         박태희   \n",
       "2656  부활 Collaboration Project  '+ (plus)' / +1        김태원         김태원   \n",
       "3230                   날 봐, 귀순 (Digital Single)   G-DRAGON    G-DRAGON   \n",
       "\n",
       "          date                                                img  comment  \\\n",
       "607   20081105  https://cdnimg.melon.co.kr/cm/album/images/004...      310   \n",
       "2547  20071023  https://cdnimg.melon.co.kr/cm/album/images/003...      125   \n",
       "2562  20060810  https://cdnimg.melon.co.kr/cm/album/images/003...       93   \n",
       "2656  20110117  https://cdnimg.melon.co.kr/cm/album/images/011...       94   \n",
       "3230  20080616  https://cdnimg.melon.co.kr/cm/album/images/003...       71   \n",
       "\n",
       "       like lyric            plylstSeq  \n",
       "607   73699   NaN  442706386 100098263  \n",
       "2547  49147   NaN  442706386 434150864  \n",
       "2562  56907   NaN  405285190 510682137  \n",
       "2656  29063   NaN  445029956 101516705  \n",
       "3230   9419   NaN  425182189 425524406  "
      ]
     },
     "execution_count": 112,
     "metadata": {},
     "output_type": "execute_result"
    }
   ],
   "source": [
    "df[df.lyric.isna()]"
   ]
  }
 ],
 "metadata": {
  "kernelspec": {
   "display_name": "base",
   "language": "python",
   "name": "python3"
  },
  "language_info": {
   "codemirror_mode": {
    "name": "ipython",
    "version": 3
   },
   "file_extension": ".py",
   "mimetype": "text/x-python",
   "name": "python",
   "nbconvert_exporter": "python",
   "pygments_lexer": "ipython3",
   "version": "3.9.13"
  },
  "orig_nbformat": 4
 },
 "nbformat": 4,
 "nbformat_minor": 2
}
