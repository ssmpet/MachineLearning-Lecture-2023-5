{
 "cells": [
  {
   "cell_type": "code",
   "execution_count": 1,
   "metadata": {},
   "outputs": [],
   "source": [
    "import numpy as np\n",
    "import pandas as pd"
   ]
  },
  {
   "cell_type": "code",
   "execution_count": 2,
   "metadata": {},
   "outputs": [
    {
     "data": {
      "text/html": [
       "<div>\n",
       "<style scoped>\n",
       "    .dataframe tbody tr th:only-of-type {\n",
       "        vertical-align: middle;\n",
       "    }\n",
       "\n",
       "    .dataframe tbody tr th {\n",
       "        vertical-align: top;\n",
       "    }\n",
       "\n",
       "    .dataframe thead th {\n",
       "        text-align: right;\n",
       "    }\n",
       "</style>\n",
       "<table border=\"1\" class=\"dataframe\">\n",
       "  <thead>\n",
       "    <tr style=\"text-align: right;\">\n",
       "      <th></th>\n",
       "      <th>songId</th>\n",
       "      <th>title</th>\n",
       "      <th>artist</th>\n",
       "      <th>genre</th>\n",
       "      <th>album</th>\n",
       "      <th>lyricist</th>\n",
       "      <th>composer</th>\n",
       "      <th>date</th>\n",
       "      <th>img</th>\n",
       "      <th>comment</th>\n",
       "      <th>like</th>\n",
       "      <th>lyric</th>\n",
       "      <th>plylstSeq</th>\n",
       "    </tr>\n",
       "  </thead>\n",
       "  <tbody>\n",
       "    <tr>\n",
       "      <th>0</th>\n",
       "      <td>418168</td>\n",
       "      <td>희재</td>\n",
       "      <td>성시경</td>\n",
       "      <td>발라드 국내영화</td>\n",
       "      <td>국화꽃 향기 OST</td>\n",
       "      <td>양재선</td>\n",
       "      <td>MGR</td>\n",
       "      <td>20030201.0</td>\n",
       "      <td>https://cdnimg.melon.co.kr/cm/album/images/000...</td>\n",
       "      <td>332</td>\n",
       "      <td>138267</td>\n",
       "      <td>햇살은 우릴 위해 내리고 \\n바람도 서롤 감싸게 했죠 \\n우리 웃음속에 계절은 오고...</td>\n",
       "      <td>445029956 411111859</td>\n",
       "    </tr>\n",
       "  </tbody>\n",
       "</table>\n",
       "</div>"
      ],
      "text/plain": [
       "   songId title artist     genre       album lyricist composer        date   \n",
       "0  418168    희재    성시경  발라드 국내영화  국화꽃 향기 OST      양재선      MGR  20030201.0  \\\n",
       "\n",
       "                                                 img  comment    like   \n",
       "0  https://cdnimg.melon.co.kr/cm/album/images/000...      332  138267  \\\n",
       "\n",
       "                                               lyric            plylstSeq  \n",
       "0  햇살은 우릴 위해 내리고 \\n바람도 서롤 감싸게 했죠 \\n우리 웃음속에 계절은 오고...  445029956 411111859  "
      ]
     },
     "execution_count": 2,
     "metadata": {},
     "output_type": "execute_result"
    }
   ],
   "source": [
    "df = pd.read_csv('data/melon_song.csv')\n",
    "df.head(1)"
   ]
  },
  {
   "cell_type": "code",
   "execution_count": 3,
   "metadata": {},
   "outputs": [
    {
     "name": "stdout",
     "output_type": "stream",
     "text": [
      "<class 'pandas.core.frame.DataFrame'>\n",
      "RangeIndex: 6247 entries, 0 to 6246\n",
      "Data columns (total 13 columns):\n",
      " #   Column     Non-Null Count  Dtype  \n",
      "---  ------     --------------  -----  \n",
      " 0   songId     6247 non-null   int64  \n",
      " 1   title      6247 non-null   object \n",
      " 2   artist     6247 non-null   object \n",
      " 3   genre      6245 non-null   object \n",
      " 4   album      6247 non-null   object \n",
      " 5   lyricist   5849 non-null   object \n",
      " 6   composer   5845 non-null   object \n",
      " 7   date       6202 non-null   float64\n",
      " 8   img        6247 non-null   object \n",
      " 9   comment    6247 non-null   int64  \n",
      " 10  like       6247 non-null   int64  \n",
      " 11  lyric      6247 non-null   object \n",
      " 12  plylstSeq  6126 non-null   object \n",
      "dtypes: float64(1), int64(3), object(9)\n",
      "memory usage: 634.6+ KB\n"
     ]
    }
   ],
   "source": [
    "df.info()"
   ]
  },
  {
   "cell_type": "code",
   "execution_count": 4,
   "metadata": {},
   "outputs": [],
   "source": [
    "df.fillna('', inplace=True)"
   ]
  },
  {
   "cell_type": "code",
   "execution_count": 5,
   "metadata": {},
   "outputs": [],
   "source": [
    "df['comment_like_total'] = df.comment + df.like"
   ]
  },
  {
   "cell_type": "code",
   "execution_count": 6,
   "metadata": {},
   "outputs": [],
   "source": [
    "df['songId'] = df.songId.astype(str)"
   ]
  },
  {
   "attachments": {},
   "cell_type": "markdown",
   "metadata": {},
   "source": [
    "### 형태소 분석과 불용어 처리"
   ]
  },
  {
   "cell_type": "code",
   "execution_count": 7,
   "metadata": {},
   "outputs": [],
   "source": [
    "with open('data/한글불용어.txt') as st:\n",
    "    lines = st.readlines()\n",
    "stop_words = [line.split('\\t')[0] for line in lines]\n",
    "stop_words.extend('은 는 를 도 을 며 의 에 게 니 거 로 요 과 래 랑 파 여 에게'.split())"
   ]
  },
  {
   "cell_type": "code",
   "execution_count": 8,
   "metadata": {},
   "outputs": [],
   "source": [
    "from konlpy.tag import Okt\n",
    "okt = Okt()"
   ]
  },
  {
   "cell_type": "code",
   "execution_count": 6,
   "metadata": {},
   "outputs": [],
   "source": [
    "df['total'] = df.lyric + (' ' + df.title) + (' ' + df.artist) * 2 + (' ' + df.composer) * 2 + (' ' + df.lyricist) * 2 + (' ' + df.genre) * 2"
   ]
  },
  {
   "cell_type": "code",
   "execution_count": 7,
   "metadata": {},
   "outputs": [],
   "source": [
    "df.set_index('songId', inplace=True)\n",
    "df.reset_index(inplace=True)"
   ]
  },
  {
   "cell_type": "code",
   "execution_count": 8,
   "metadata": {},
   "outputs": [],
   "source": [
    "from sklearn.feature_extraction.text import TfidfVectorizer\n",
    "tvect = TfidfVectorizer()\n",
    "total_tv = tvect.fit_transform(df.total)\n",
    "indices = pd.Series(df.index, index=df.songId)"
   ]
  },
  {
   "cell_type": "code",
   "execution_count": 19,
   "metadata": {},
   "outputs": [
    {
     "data": {
      "text/plain": [
       "songId\n",
       "418168         0\n",
       "35609035       1\n",
       "1046278        2\n",
       "35609034       3\n",
       "35728845       4\n",
       "            ... \n",
       "33013736    6242\n",
       "3080890     6243\n",
       "2981597     6244\n",
       "34183979    6245\n",
       "31191637    6246\n",
       "Length: 6247, dtype: int64"
      ]
     },
     "execution_count": 19,
     "metadata": {},
     "output_type": "execute_result"
    }
   ],
   "source": [
    "indices"
   ]
  },
  {
   "cell_type": "code",
   "execution_count": 9,
   "metadata": {},
   "outputs": [],
   "source": [
    "from sklearn.metrics.pairwise import cosine_similarity\n",
    "cosine_sim = cosine_similarity(total_tv)"
   ]
  },
  {
   "cell_type": "code",
   "execution_count": 10,
   "metadata": {},
   "outputs": [],
   "source": [
    "def get_recommendation(songId, cos_sim):\n",
    "    index = indices[songId]\n",
    "    sim_scores = pd.Series(cos_sim[index])\n",
    "    song_indices = sim_scores.sort_values(ascending=False).head(30).index\n",
    "    return df.songId.iloc[song_indices]"
   ]
  },
  {
   "cell_type": "code",
   "execution_count": 11,
   "metadata": {},
   "outputs": [
    {
     "data": {
      "text/plain": [
       "array([     1,      2,      2, ..., 457930, 471132, 556783], dtype=int64)"
      ]
     },
     "execution_count": 11,
     "metadata": {},
     "output_type": "execute_result"
    }
   ],
   "source": [
    "sorted_numbers = np.sort(df['comment_like_total'])\n",
    "sorted_numbers"
   ]
  },
  {
   "cell_type": "code",
   "execution_count": 12,
   "metadata": {},
   "outputs": [
    {
     "data": {
      "text/plain": [
       "1410.5"
      ]
     },
     "execution_count": 12,
     "metadata": {},
     "output_type": "execute_result"
    }
   ],
   "source": [
    "q1 = np.percentile(sorted_numbers, 25) # 25번째 백분위수를 계산하여 반환\n",
    "q1"
   ]
  },
  {
   "cell_type": "code",
   "execution_count": 13,
   "metadata": {},
   "outputs": [
    {
     "data": {
      "text/plain": [
       "11876.0"
      ]
     },
     "execution_count": 13,
     "metadata": {},
     "output_type": "execute_result"
    }
   ],
   "source": [
    "q2 = np.percentile(sorted_numbers, 50)\n",
    "q2"
   ]
  },
  {
   "cell_type": "code",
   "execution_count": null,
   "metadata": {},
   "outputs": [],
   "source": [
    "# 25번째 백분위보다 크고 50번째 백분위보다 작은 songlist\n",
    "filtered_data = df[(df['comment_like_total'] >= q1) & (df['comment_like_total'] < q2)]\n",
    "filtered_data"
   ]
  },
  {
   "cell_type": "code",
   "execution_count": 30,
   "metadata": {},
   "outputs": [
    {
     "data": {
      "text/plain": [
       "1       35609035\n",
       "3       35609034\n",
       "3673    35307770\n",
       "3201     4381724\n",
       "1593     1925230\n",
       "5691    32323332\n",
       "350     35667692\n",
       "3684    35466599\n",
       "3620    35690912\n",
       "5879    32906337\n",
       "5510    32906335\n",
       "5341     8120284\n",
       "3582    36065180\n",
       "3712    35466609\n",
       "5566    32457756\n",
       "1078     4185941\n",
       "2340       58506\n",
       "1640       54319\n",
       "2116     1053842\n",
       "1588     1139812\n",
       "5822     4260411\n",
       "1131    33461694\n",
       "5809    36132849\n",
       "2039      607397\n",
       "956     33507532\n",
       "3356    30849733\n",
       "874     33435717\n",
       "5837     3592201\n",
       "2858     1099824\n",
       "3739    30225056\n",
       "Name: songId, dtype: object"
      ]
     },
     "execution_count": 30,
     "metadata": {},
     "output_type": "execute_result"
    }
   ],
   "source": [
    "get_recommendation('35609035', cosine_sim)"
   ]
  },
  {
   "cell_type": "code",
   "execution_count": 17,
   "metadata": {},
   "outputs": [
    {
     "data": {
      "text/plain": [
       "['4185941',\n",
       " '58506',\n",
       " '1053842',\n",
       " '4260411',\n",
       " '33461694',\n",
       " '33507532',\n",
       " '33435717',\n",
       " '3592201',\n",
       " '1099824']"
      ]
     },
     "execution_count": 17,
     "metadata": {},
     "output_type": "execute_result"
    }
   ],
   "source": [
    "[i for i in a.values if i in filtered_data.songId.values]"
   ]
  },
  {
   "cell_type": "code",
   "execution_count": 15,
   "metadata": {},
   "outputs": [],
   "source": [
    "a = get_recommendation('35609035', cosine_sim)\n",
    "b = [i for i in a.values if i in filtered_data.songId.values]\n",
    "filtered = df[df['songId'].isin(b[:5])].to_dict()"
   ]
  },
  {
   "cell_type": "code",
   "execution_count": 18,
   "metadata": {},
   "outputs": [
    {
     "data": {
      "text/plain": [
       "{'songId': {1078: '4185941',\n",
       "  1131: '33461694',\n",
       "  2116: '1053842',\n",
       "  2340: '58506',\n",
       "  5822: '4260411'},\n",
       " 'title': {1078: 'I Was Born To Love You + Only Love (Reprise) (너 하나만 + 사랑이야 Reprise)',\n",
       "  1131: '태양이 지면 널 만나러 갈게',\n",
       "  2116: '기분 좋은 날',\n",
       "  2340: '널 보낸 후에',\n",
       "  5822: '토요일 밤에'},\n",
       " 'artist': {1078: '임태경', 1131: '백호', 2116: '김완선', 2340: '최재훈', 5822: '김혜연'},\n",
       " 'genre': {1078: '국내뮤지컬',\n",
       "  1131: '국내뮤지컬',\n",
       "  2116: '댄스',\n",
       "  2340: '발라드',\n",
       "  5822: '성인가요/트로트'},\n",
       " 'album': {1078: 'The Last Kiss (뮤지컬 황태자 루돌프 OST 중 하이라이트)',\n",
       "  1131: '태양의 노래 Part.3',\n",
       "  2116: 'Kim Wan Sun Vol 4',\n",
       "  2340: '외면 (Ignore)',\n",
       "  5822: '최고다 김혜연 Best Of The Best'},\n",
       " 'lyricist': {1078: '', 1131: '', 2116: '이남우', 2340: '김혜선', 5822: '서판석'},\n",
       " 'composer': {1078: '', 1131: '', 2116: '박청귀', 2340: '김형준', 5822: '민병훈'},\n",
       " 'date': {1078: 20130726.0,\n",
       "  1131: 20210510.0,\n",
       "  2116: 19890610.0,\n",
       "  2340: 19940701.0,\n",
       "  5822: 20130901.0},\n",
       " 'img': {1078: 'https://cdnimg.melon.co.kr/cm/album/images/021/94/425/2194425_500.jpg/melon/resize/282/quality/80/optimize',\n",
       "  1131: 'https://cdnimg.melon.co.kr/cm2/album/images/106/03/923/10603923_20210507150708_500.jpg?94f5c67ee300f625ff694aace02cb793/melon/resize/282/quality/80/optimize',\n",
       "  2116: 'https://cdnimg.melon.co.kr/cm/album/images/000/78/043/78043_500.jpg/melon/resize/282/quality/80/optimize',\n",
       "  2340: 'https://cdnimg.melon.co.kr/cm/album/images/000/04/974/4974_500.jpg/melon/resize/282/quality/80/optimize',\n",
       "  5822: 'https://cdnimg.melon.co.kr/cm/album/images/022/03/520/2203520_500.jpg/melon/resize/282/quality/80/optimize'},\n",
       " 'comment': {1078: 3, 1131: 184, 2116: 15, 2340: 16, 5822: 7},\n",
       " 'like': {1078: 1482, 1131: 5245, 2116: 3254, 2340: 4534, 5822: 2136},\n",
       " 'lyric': {1078: '언제부터 시작된 일인지\\n나도 모를 힘에 이끌려\\n그저 여기 서게 됐을 뿐\\n봄 여름 가을 세월 흘러\\n내 마음에 스며들어온\\n너는 모든 걸 다 알았지\\n죽을 때까지 너 하나만\\n사랑하러 왔나 봐\\n너는 내 지친 영혼의 영원한 쉼터\\n하늘의 별 다 질 때까지\\n사랑하리 언제나 \\n넌 처음부터 날 찾으러\\n세상에 왔나 봐\\n처음부터 다시 시작해도\\n달라질 건 하나도 없어\\n네 품으로 달려 갈 거야\\n출발한 길에 끝은 없는 법\\n우리 길은 수 천 년 전에\\n서로를 향해 시작된 걸\\n지금 너의 품이잖아 \\n난 그거면 됐어\\n이 순간이 우리에겐 영원\\n난 죽을 때까지 너 하나만\\n사랑하러 왔나 봐\\n너는 내 지친 영혼의 영원한 쉼터\\n하늘의 별 다 질 때까지\\n사랑하리 언제나 언제나\\n넌 처음부터 날 찾으러\\n세상에 왔나 봐\\n난 죽을 때까지 너 하나만\\n사랑하러 왔나 봐\\n너는 내 지친 영혼의 영원한 쉼터\\n하늘의 별 다 질 때까지\\n사랑하리 언제나 언제나\\n넌 처음부터 날 찾으러\\n세상에 왔나 봐\\n두려워 마 사랑이야\\n불 같은 운명 속에\\n온 몸을 던져\\n앞을 봐 이건 사랑\\n거센 파도를 안고\\n바다를 향해 달려\\n두려워 마 사랑이야',\n",
       "  1131: '상상도 못했어 이런 내 모습\\n모든게 불확실한 나에겐\\n한가지 확실한 너\\n상상도 못했지 이런 내 마음\\n어느새 나에게 다가와\\n살며시 스며든 너\\n태양이 지면 널 만나러 갈게\\n니가 외롭지 않게\\n달빛이 내리면 널 만나러 갈게\\n너에게 내가 갈게\\n걱정하지마 너의 고민들\\n그 어떤 너라도 나에겐\\n여전히 소중한 너\\n함께 할거야 너의 슬픔들\\n니가 가는 모든 길 위에\\n내가 같이 걸을게\\n너와 함께면 언제까지나\\n밤 이여도 좋아\\n우리가 함께면\\n모든 순간이 빛날 테니까\\n태양이 지면 널 만나러 갈게\\n니가 외롭지 않게\\n달빛이 내리면 널 만나러 갈게\\n너에게 내가 갈게',\n",
       "  2116: '토요일 오후\\n그렇게 망설이지 말고\\n춤을 춰봐요 나와 함께\\n오늘 하루는\\n피곤한 얘기하긴 싫어\\n춤을 춰봐요 아우 하호\\n왠지 바쁜 월요일\\n정신없던 화요일\\n지루했던 수요일은 가고\\n황금같은 토요일이\\n바로 오늘이잖아요\\n나와 함께 춤을 춰봐요\\n토요일 오후\\n모두가 기다리던 시간\\n그냥 보낼 수 없잖아요\\n오늘 하루는\\n하던 일 잠시라도 잊고\\n춤을 춰봐요 아우 하호\\n왠지 바쁜 월요일\\n정신없던 화요일\\n지루했던 수요일은 가고\\n황금같은 토요일이\\n바로 오늘이잖아요\\n나와 함께 춤을 춰봐요\\n여러분 나를 봐요\\n그리고 일어나서 춤을 춰요\\n나와 함께 춤추고 싶은 사람\\n모두 나와 하던 일 잠시 잊고\\n춤을 춰요 내 모습이\\n부럽지 않나요\\n언제라도 가슴이 답답할땐\\n춤을 춰요\\n기분이 정말로 상쾌해요',\n",
       "  2340: '처음부터 잘못된 만남인걸  \\n알지만 그댈 사랑했을 뿐  \\n아름다운 그대 지워지지가 않아  \\n그댄 지금 어디에 \\n얼마나 아파해야 하는지  \\n그대를 잊을수 있는 걸까  \\n아무 이유없이 날 외면하고 있어  \\n그댄 지금 어디에 \\n알고 있어 그대 떠난 이유를  \\n그땐 왠지 너무 힘이 들었어  \\n다시 못올 길을 가고 있지만  \\n다시 한번 너를 안고 싶어져  \\n사랑해 아픔이 쌓인 만큼  \\n기억할 수 있을 때까지  \\n워 그대여 내 맘 알고 있다면  \\n돌아와줘 내게로  \\n사랑해 아픔이 쌓인 만큼  \\n기억할 수 있을 때까지  \\n워 그대여 내 맘 알고 있다면  \\n돌아와줘 내게로 \\n사랑해 아픔이 쌓인 만큼  \\n기억할 수 있을 때까지  \\n워 그대여 내 맘 알고 있다면',\n",
       "  5822: '오늘밤만은 오늘만은 \\n그대 나를 떠나가지마라 \\n깊어가는 이 밤 \\n토요일 밤엔 \\n그대 이 순간을 느껴 \\n날 버리고 떠난 \\n광수와 광태 \\n다정했던 영자와 옥자 \\n오늘밤만은 모두 잊어요 \\n토요일 밤 토요일 밤에 \\n날 따라해봐 미친척하고 \\n소릴 질러봐 \\n삶이 나 \\n나를 힘들게 하고 \\n열받게 해도 \\n이 시간이 간이 \\n다가기 전에 \\n내 품에 안겨 안겨봐 \\n날 괴롭히는 \\n사장 부장님 \\n사랑했던 미자와 숙자 \\n오늘밤만은 모두 잊어요 \\n토요일 밤 토요일 밤에 \\n날 따라해봐 \\n양손을 들고 \\n힘껏 뛰어봐 \\n삶이 나 \\n나를 힘들게 하고 \\n미치게 해도 \\n이 시간이 간이 \\n다가기 전에 \\n내 품에 안겨 안겨봐 \\n날 따라해봐 \\n미친척하고 \\n소릴 질러봐 \\n난나 나 나나 \\n나나나 나나 \\n크게 더 크게 \\n토요일 밤 토요일 밤에 \\n내 품에 안겨 안겨봐'},\n",
       " 'plylstSeq': {1078: '457897578 417635465',\n",
       "  1131: '456709809 428458864',\n",
       "  2116: '413491319 416506592',\n",
       "  2340: '445029956 406125585',\n",
       "  5822: '425524406 428487752'},\n",
       " 'comment_like_total': {1078: 1485,\n",
       "  1131: 5429,\n",
       "  2116: 3269,\n",
       "  2340: 4550,\n",
       "  5822: 2143},\n",
       " 'total': {1078: '언제부터 시작된 일인지\\n나도 모를 힘에 이끌려\\n그저 여기 서게 됐을 뿐\\n봄 여름 가을 세월 흘러\\n내 마음에 스며들어온\\n너는 모든 걸 다 알았지\\n죽을 때까지 너 하나만\\n사랑하러 왔나 봐\\n너는 내 지친 영혼의 영원한 쉼터\\n하늘의 별 다 질 때까지\\n사랑하리 언제나 \\n넌 처음부터 날 찾으러\\n세상에 왔나 봐\\n처음부터 다시 시작해도\\n달라질 건 하나도 없어\\n네 품으로 달려 갈 거야\\n출발한 길에 끝은 없는 법\\n우리 길은 수 천 년 전에\\n서로를 향해 시작된 걸\\n지금 너의 품이잖아 \\n난 그거면 됐어\\n이 순간이 우리에겐 영원\\n난 죽을 때까지 너 하나만\\n사랑하러 왔나 봐\\n너는 내 지친 영혼의 영원한 쉼터\\n하늘의 별 다 질 때까지\\n사랑하리 언제나 언제나\\n넌 처음부터 날 찾으러\\n세상에 왔나 봐\\n난 죽을 때까지 너 하나만\\n사랑하러 왔나 봐\\n너는 내 지친 영혼의 영원한 쉼터\\n하늘의 별 다 질 때까지\\n사랑하리 언제나 언제나\\n넌 처음부터 날 찾으러\\n세상에 왔나 봐\\n두려워 마 사랑이야\\n불 같은 운명 속에\\n온 몸을 던져\\n앞을 봐 이건 사랑\\n거센 파도를 안고\\n바다를 향해 달려\\n두려워 마 사랑이야 I Was Born To Love You + Only Love (Reprise) (너 하나만 + 사랑이야 Reprise) 임태경 임태경     국내뮤지컬 국내뮤지컬',\n",
       "  1131: '상상도 못했어 이런 내 모습\\n모든게 불확실한 나에겐\\n한가지 확실한 너\\n상상도 못했지 이런 내 마음\\n어느새 나에게 다가와\\n살며시 스며든 너\\n태양이 지면 널 만나러 갈게\\n니가 외롭지 않게\\n달빛이 내리면 널 만나러 갈게\\n너에게 내가 갈게\\n걱정하지마 너의 고민들\\n그 어떤 너라도 나에겐\\n여전히 소중한 너\\n함께 할거야 너의 슬픔들\\n니가 가는 모든 길 위에\\n내가 같이 걸을게\\n너와 함께면 언제까지나\\n밤 이여도 좋아\\n우리가 함께면\\n모든 순간이 빛날 테니까\\n태양이 지면 널 만나러 갈게\\n니가 외롭지 않게\\n달빛이 내리면 널 만나러 갈게\\n너에게 내가 갈게 태양이 지면 널 만나러 갈게 백호 백호     국내뮤지컬 국내뮤지컬',\n",
       "  2116: '토요일 오후\\n그렇게 망설이지 말고\\n춤을 춰봐요 나와 함께\\n오늘 하루는\\n피곤한 얘기하긴 싫어\\n춤을 춰봐요 아우 하호\\n왠지 바쁜 월요일\\n정신없던 화요일\\n지루했던 수요일은 가고\\n황금같은 토요일이\\n바로 오늘이잖아요\\n나와 함께 춤을 춰봐요\\n토요일 오후\\n모두가 기다리던 시간\\n그냥 보낼 수 없잖아요\\n오늘 하루는\\n하던 일 잠시라도 잊고\\n춤을 춰봐요 아우 하호\\n왠지 바쁜 월요일\\n정신없던 화요일\\n지루했던 수요일은 가고\\n황금같은 토요일이\\n바로 오늘이잖아요\\n나와 함께 춤을 춰봐요\\n여러분 나를 봐요\\n그리고 일어나서 춤을 춰요\\n나와 함께 춤추고 싶은 사람\\n모두 나와 하던 일 잠시 잊고\\n춤을 춰요 내 모습이\\n부럽지 않나요\\n언제라도 가슴이 답답할땐\\n춤을 춰요\\n기분이 정말로 상쾌해요 기분 좋은 날 김완선 김완선 박청귀 박청귀 이남우 이남우 댄스 댄스',\n",
       "  2340: '처음부터 잘못된 만남인걸  \\n알지만 그댈 사랑했을 뿐  \\n아름다운 그대 지워지지가 않아  \\n그댄 지금 어디에 \\n얼마나 아파해야 하는지  \\n그대를 잊을수 있는 걸까  \\n아무 이유없이 날 외면하고 있어  \\n그댄 지금 어디에 \\n알고 있어 그대 떠난 이유를  \\n그땐 왠지 너무 힘이 들었어  \\n다시 못올 길을 가고 있지만  \\n다시 한번 너를 안고 싶어져  \\n사랑해 아픔이 쌓인 만큼  \\n기억할 수 있을 때까지  \\n워 그대여 내 맘 알고 있다면  \\n돌아와줘 내게로  \\n사랑해 아픔이 쌓인 만큼  \\n기억할 수 있을 때까지  \\n워 그대여 내 맘 알고 있다면  \\n돌아와줘 내게로 \\n사랑해 아픔이 쌓인 만큼  \\n기억할 수 있을 때까지  \\n워 그대여 내 맘 알고 있다면 널 보낸 후에 최재훈 최재훈 김형준 김형준 김혜선 김혜선 발라드 발라드',\n",
       "  5822: '오늘밤만은 오늘만은 \\n그대 나를 떠나가지마라 \\n깊어가는 이 밤 \\n토요일 밤엔 \\n그대 이 순간을 느껴 \\n날 버리고 떠난 \\n광수와 광태 \\n다정했던 영자와 옥자 \\n오늘밤만은 모두 잊어요 \\n토요일 밤 토요일 밤에 \\n날 따라해봐 미친척하고 \\n소릴 질러봐 \\n삶이 나 \\n나를 힘들게 하고 \\n열받게 해도 \\n이 시간이 간이 \\n다가기 전에 \\n내 품에 안겨 안겨봐 \\n날 괴롭히는 \\n사장 부장님 \\n사랑했던 미자와 숙자 \\n오늘밤만은 모두 잊어요 \\n토요일 밤 토요일 밤에 \\n날 따라해봐 \\n양손을 들고 \\n힘껏 뛰어봐 \\n삶이 나 \\n나를 힘들게 하고 \\n미치게 해도 \\n이 시간이 간이 \\n다가기 전에 \\n내 품에 안겨 안겨봐 \\n날 따라해봐 \\n미친척하고 \\n소릴 질러봐 \\n난나 나 나나 \\n나나나 나나 \\n크게 더 크게 \\n토요일 밤 토요일 밤에 \\n내 품에 안겨 안겨봐 토요일 밤에 김혜연 김혜연 민병훈 민병훈 서판석 서판석 성인가요/트로트 성인가요/트로트'}}"
      ]
     },
     "execution_count": 18,
     "metadata": {},
     "output_type": "execute_result"
    }
   ],
   "source": [
    "filtered"
   ]
  },
  {
   "cell_type": "code",
   "execution_count": null,
   "metadata": {},
   "outputs": [],
   "source": [
    "b = []\n",
    "for i in a.values:\n",
    "    if i in filtered_data.songId.values:\n",
    "        b.append(i)\n",
    "        "
   ]
  },
  {
   "cell_type": "code",
   "execution_count": 22,
   "metadata": {},
   "outputs": [],
   "source": [
    "# 코사인 유사도\n",
    "from sklearn.metrics.pairwise import linear_kernel\n",
    "cosine_sim_total = linear_kernel(total_tv, total_tv)"
   ]
  },
  {
   "cell_type": "code",
   "execution_count": 23,
   "metadata": {},
   "outputs": [
    {
     "data": {
      "text/plain": [
       "array([0.01298834, 1.        , 0.02440919, ..., 0.00454732, 0.00621814,\n",
       "       0.        ])"
      ]
     },
     "execution_count": 23,
     "metadata": {},
     "output_type": "execute_result"
    }
   ],
   "source": [
    "cosine_sim_total[indices['35609035']]"
   ]
  },
  {
   "cell_type": "code",
   "execution_count": 24,
   "metadata": {},
   "outputs": [
    {
     "data": {
      "text/plain": [
       "0       0.012988\n",
       "1       1.000000\n",
       "2       0.024409\n",
       "3       0.280331\n",
       "4       0.006050\n",
       "          ...   \n",
       "6242    0.012624\n",
       "6243    0.000000\n",
       "6244    0.004547\n",
       "6245    0.006218\n",
       "6246    0.000000\n",
       "Length: 6247, dtype: float64"
      ]
     },
     "execution_count": 24,
     "metadata": {},
     "output_type": "execute_result"
    }
   ],
   "source": [
    "sim_scores = pd.Series(cosine_sim_total[indices['35609035']])\n",
    "sim_scores"
   ]
  },
  {
   "cell_type": "code",
   "execution_count": 29,
   "metadata": {},
   "outputs": [
    {
     "data": {
      "text/plain": [
       "3       0.280331\n",
       "3673    0.229067\n",
       "3201    0.103719\n",
       "1593    0.101392\n",
       "5691    0.094305\n",
       "350     0.087265\n",
       "3684    0.085459\n",
       "3620    0.081659\n",
       "5879    0.075554\n",
       "5510    0.072076\n",
       "dtype: float64"
      ]
     },
     "execution_count": 29,
     "metadata": {},
     "output_type": "execute_result"
    }
   ],
   "source": [
    "# 나를 제외한 Top 10\n",
    "sim_scores.sort_values(ascending=False).head(11).tail(10)"
   ]
  },
  {
   "cell_type": "code",
   "execution_count": null,
   "metadata": {},
   "outputs": [],
   "source": []
  }
 ],
 "metadata": {
  "kernelspec": {
   "display_name": "base",
   "language": "python",
   "name": "python3"
  },
  "language_info": {
   "codemirror_mode": {
    "name": "ipython",
    "version": 3
   },
   "file_extension": ".py",
   "mimetype": "text/x-python",
   "name": "python",
   "nbconvert_exporter": "python",
   "pygments_lexer": "ipython3",
   "version": "3.10.10"
  },
  "orig_nbformat": 4
 },
 "nbformat": 4,
 "nbformat_minor": 2
}
