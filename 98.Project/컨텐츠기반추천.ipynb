{
 "cells": [
  {
   "cell_type": "code",
   "execution_count": 1,
   "metadata": {},
   "outputs": [],
   "source": [
    "import numpy as np\n",
    "import pandas as pd"
   ]
  },
  {
   "cell_type": "code",
   "execution_count": 2,
   "metadata": {},
   "outputs": [
    {
     "data": {
      "text/html": [
       "<div>\n",
       "<style scoped>\n",
       "    .dataframe tbody tr th:only-of-type {\n",
       "        vertical-align: middle;\n",
       "    }\n",
       "\n",
       "    .dataframe tbody tr th {\n",
       "        vertical-align: top;\n",
       "    }\n",
       "\n",
       "    .dataframe thead th {\n",
       "        text-align: right;\n",
       "    }\n",
       "</style>\n",
       "<table border=\"1\" class=\"dataframe\">\n",
       "  <thead>\n",
       "    <tr style=\"text-align: right;\">\n",
       "      <th></th>\n",
       "      <th>songId</th>\n",
       "      <th>title</th>\n",
       "      <th>artist</th>\n",
       "      <th>genre</th>\n",
       "      <th>album</th>\n",
       "      <th>lyricist</th>\n",
       "      <th>composer</th>\n",
       "      <th>date</th>\n",
       "      <th>img</th>\n",
       "      <th>comment</th>\n",
       "      <th>like</th>\n",
       "      <th>lyric</th>\n",
       "      <th>plylstSeq</th>\n",
       "    </tr>\n",
       "  </thead>\n",
       "  <tbody>\n",
       "    <tr>\n",
       "      <th>0</th>\n",
       "      <td>418168</td>\n",
       "      <td>희재</td>\n",
       "      <td>성시경</td>\n",
       "      <td>발라드 국내영화</td>\n",
       "      <td>국화꽃 향기 OST</td>\n",
       "      <td>양재선</td>\n",
       "      <td>MGR</td>\n",
       "      <td>20030201.0</td>\n",
       "      <td>https://cdnimg.melon.co.kr/cm/album/images/000...</td>\n",
       "      <td>332</td>\n",
       "      <td>138267</td>\n",
       "      <td>햇살은 우릴 위해 내리고 \\r\\n바람도 서롤 감싸게 했죠 \\r\\n우리 웃음속에 계절...</td>\n",
       "      <td>445029956 411111859</td>\n",
       "    </tr>\n",
       "  </tbody>\n",
       "</table>\n",
       "</div>"
      ],
      "text/plain": [
       "   songId title artist     genre       album lyricist composer        date  \\\n",
       "0  418168    희재    성시경  발라드 국내영화  국화꽃 향기 OST      양재선      MGR  20030201.0   \n",
       "\n",
       "                                                 img  comment    like  \\\n",
       "0  https://cdnimg.melon.co.kr/cm/album/images/000...      332  138267   \n",
       "\n",
       "                                               lyric            plylstSeq  \n",
       "0  햇살은 우릴 위해 내리고 \\r\\n바람도 서롤 감싸게 했죠 \\r\\n우리 웃음속에 계절...  445029956 411111859  "
      ]
     },
     "execution_count": 2,
     "metadata": {},
     "output_type": "execute_result"
    }
   ],
   "source": [
    "df = pd.read_csv('data/melon_song.csv')\n",
    "df.head(1)"
   ]
  },
  {
   "cell_type": "code",
   "execution_count": 3,
   "metadata": {},
   "outputs": [
    {
     "name": "stdout",
     "output_type": "stream",
     "text": [
      "<class 'pandas.core.frame.DataFrame'>\n",
      "RangeIndex: 6247 entries, 0 to 6246\n",
      "Data columns (total 13 columns):\n",
      " #   Column     Non-Null Count  Dtype  \n",
      "---  ------     --------------  -----  \n",
      " 0   songId     6247 non-null   int64  \n",
      " 1   title      6247 non-null   object \n",
      " 2   artist     6247 non-null   object \n",
      " 3   genre      6245 non-null   object \n",
      " 4   album      6247 non-null   object \n",
      " 5   lyricist   5849 non-null   object \n",
      " 6   composer   5845 non-null   object \n",
      " 7   date       6202 non-null   float64\n",
      " 8   img        6247 non-null   object \n",
      " 9   comment    6247 non-null   int64  \n",
      " 10  like       6247 non-null   int64  \n",
      " 11  lyric      6247 non-null   object \n",
      " 12  plylstSeq  6126 non-null   object \n",
      "dtypes: float64(1), int64(3), object(9)\n",
      "memory usage: 634.6+ KB\n"
     ]
    }
   ],
   "source": [
    "df.info()"
   ]
  },
  {
   "cell_type": "code",
   "execution_count": 4,
   "metadata": {},
   "outputs": [],
   "source": [
    "df.fillna('', inplace=True)"
   ]
  },
  {
   "cell_type": "code",
   "execution_count": 5,
   "metadata": {},
   "outputs": [],
   "source": [
    "df['comment_like_total'] = df.comment + df.like"
   ]
  },
  {
   "cell_type": "code",
   "execution_count": 6,
   "metadata": {},
   "outputs": [],
   "source": [
    "df['songId'] = df.songId.astype(str)"
   ]
  },
  {
   "attachments": {},
   "cell_type": "markdown",
   "metadata": {},
   "source": [
    "### 형태소 분석과 불용어 처리"
   ]
  },
  {
   "cell_type": "code",
   "execution_count": 7,
   "metadata": {},
   "outputs": [],
   "source": [
    "with open('data/한글불용어.txt') as st:\n",
    "    lines = st.readlines()\n",
    "stop_words = [line.split('\\t')[0] for line in lines]\n",
    "stop_words.extend('은 는 를 도 을 며 의 에 게 니 거 로 요 과 래 랑 파 여 에게'.split())"
   ]
  },
  {
   "cell_type": "code",
   "execution_count": 8,
   "metadata": {},
   "outputs": [],
   "source": [
    "from konlpy.tag import Okt\n",
    "okt = Okt()"
   ]
  },
  {
   "cell_type": "code",
   "execution_count": 9,
   "metadata": {},
   "outputs": [
    {
     "name": "stdout",
     "output_type": "stream",
     "text": [
      "CPU times: total: 2min 7s\n",
      "Wall time: 1min 53s\n"
     ]
    }
   ],
   "source": [
    "%%time\n",
    "reviews = []\n",
    "for review in df.lyric:\n",
    "    review = review.replace('\\n', ' ')\n",
    "    morphs = okt.morphs(review, stem=True)\n",
    "    tmp = [word for word in morphs  if word not in stop_words]\n",
    "    reviews.append(' '.join(tmp))\n",
    "df['morphs'] = reviews"
   ]
  },
  {
   "cell_type": "code",
   "execution_count": 11,
   "metadata": {},
   "outputs": [
    {
     "data": {
      "text/html": [
       "<div>\n",
       "<style scoped>\n",
       "    .dataframe tbody tr th:only-of-type {\n",
       "        vertical-align: middle;\n",
       "    }\n",
       "\n",
       "    .dataframe tbody tr th {\n",
       "        vertical-align: top;\n",
       "    }\n",
       "\n",
       "    .dataframe thead th {\n",
       "        text-align: right;\n",
       "    }\n",
       "</style>\n",
       "<table border=\"1\" class=\"dataframe\">\n",
       "  <thead>\n",
       "    <tr style=\"text-align: right;\">\n",
       "      <th></th>\n",
       "      <th>songId</th>\n",
       "      <th>title</th>\n",
       "      <th>artist</th>\n",
       "      <th>genre</th>\n",
       "      <th>album</th>\n",
       "      <th>lyricist</th>\n",
       "      <th>composer</th>\n",
       "      <th>date</th>\n",
       "      <th>img</th>\n",
       "      <th>comment</th>\n",
       "      <th>like</th>\n",
       "      <th>lyric</th>\n",
       "      <th>plylstSeq</th>\n",
       "      <th>comment_like_total</th>\n",
       "      <th>morphs</th>\n",
       "    </tr>\n",
       "  </thead>\n",
       "  <tbody>\n",
       "    <tr>\n",
       "      <th>0</th>\n",
       "      <td>418168</td>\n",
       "      <td>희재</td>\n",
       "      <td>성시경</td>\n",
       "      <td>발라드 국내영화</td>\n",
       "      <td>국화꽃 향기 OST</td>\n",
       "      <td>양재선</td>\n",
       "      <td>MGR</td>\n",
       "      <td>20030201.0</td>\n",
       "      <td>https://cdnimg.melon.co.kr/cm/album/images/000...</td>\n",
       "      <td>332</td>\n",
       "      <td>138267</td>\n",
       "      <td>햇살은 우릴 위해 내리고 \\n바람도 서롤 감싸게 했죠 \\n우리 웃음속에 계절은 오고...</td>\n",
       "      <td>445029956 411111859</td>\n",
       "      <td>138599</td>\n",
       "      <td>햇살 우릴 위해 내리다 바람 서 롤 감싸다 하다 우리 웃음 속 계절 오다 또 가다 ...</td>\n",
       "    </tr>\n",
       "  </tbody>\n",
       "</table>\n",
       "</div>"
      ],
      "text/plain": [
       "   songId title artist     genre       album lyricist composer        date   \n",
       "0  418168    희재    성시경  발라드 국내영화  국화꽃 향기 OST      양재선      MGR  20030201.0  \\\n",
       "\n",
       "                                                 img  comment    like   \n",
       "0  https://cdnimg.melon.co.kr/cm/album/images/000...      332  138267  \\\n",
       "\n",
       "                                               lyric            plylstSeq   \n",
       "0  햇살은 우릴 위해 내리고 \\n바람도 서롤 감싸게 했죠 \\n우리 웃음속에 계절은 오고...  445029956 411111859  \\\n",
       "\n",
       "   comment_like_total                                             morphs  \n",
       "0              138599  햇살 우릴 위해 내리다 바람 서 롤 감싸다 하다 우리 웃음 속 계절 오다 또 가다 ...  "
      ]
     },
     "execution_count": 11,
     "metadata": {},
     "output_type": "execute_result"
    }
   ],
   "source": [
    "df.head(1)"
   ]
  },
  {
   "cell_type": "code",
   "execution_count": 40,
   "metadata": {},
   "outputs": [],
   "source": [
    "df['total'] = df.morphs + (' ' + df.title) + (' ' + df.artist) * 2 + (' ' + df.composer) * 2 + (' ' + df.lyricist) * 2 + (' ' + df.genre) * 2"
   ]
  },
  {
   "cell_type": "code",
   "execution_count": 41,
   "metadata": {},
   "outputs": [],
   "source": [
    "df.set_index('songId', inplace=True)\n",
    "df.reset_index(inplace=True)"
   ]
  },
  {
   "cell_type": "code",
   "execution_count": 48,
   "metadata": {},
   "outputs": [],
   "source": [
    "from sklearn.feature_extraction.text import TfidfVectorizer\n",
    "tvect = TfidfVectorizer(stop_words='english')\n",
    "total_tv = tvect.fit_transform(df.total)\n",
    "indices = pd.Series(df.index, index=df.songId)"
   ]
  },
  {
   "cell_type": "code",
   "execution_count": 49,
   "metadata": {},
   "outputs": [],
   "source": [
    "from sklearn.metrics.pairwise import cosine_similarity\n",
    "cosine_sim = cosine_similarity(total_tv)"
   ]
  },
  {
   "cell_type": "code",
   "execution_count": 50,
   "metadata": {},
   "outputs": [],
   "source": [
    "def get_recommendation(songId, cos_sim):\n",
    "    index = indices[songId]\n",
    "    sim_scores = pd.Series(cos_sim[index])\n",
    "    song_indices = sim_scores.sort_values(ascending=False).head(30).index\n",
    "    return df.songId.iloc[song_indices]"
   ]
  },
  {
   "cell_type": "code",
   "execution_count": 65,
   "metadata": {},
   "outputs": [],
   "source": [
    "find_songid = '4083218'\n",
    "a = get_recommendation(find_songid, cosine_sim)"
   ]
  },
  {
   "cell_type": "code",
   "execution_count": 66,
   "metadata": {},
   "outputs": [
    {
     "data": {
      "text/plain": [
       "1954    0.172005\n",
       "1489    0.166212\n",
       "1719    0.148663\n",
       "1732    0.148641\n",
       "1843    0.144897\n",
       "1338    0.139385\n",
       "1372    0.135915\n",
       "1593    0.134953\n",
       "1855    0.129901\n",
       "1337    0.127008\n",
       "dtype: float64"
      ]
     },
     "execution_count": 66,
     "metadata": {},
     "output_type": "execute_result"
    }
   ],
   "source": [
    "from sklearn.metrics.pairwise import linear_kernel\n",
    "cosine_sim_total = linear_kernel(total_tv, total_tv)\n",
    "sim_scores = pd.Series(cosine_sim_total[indices[find_songid]])\n",
    "sim_scores.sort_values(ascending=False).head(11).tail(10)"
   ]
  },
  {
   "cell_type": "code",
   "execution_count": 67,
   "metadata": {},
   "outputs": [
    {
     "data": {
      "text/plain": [
       "array([     1,      2,      2, ..., 457930, 471132, 556783], dtype=int64)"
      ]
     },
     "execution_count": 67,
     "metadata": {},
     "output_type": "execute_result"
    }
   ],
   "source": [
    "sorted_numbers = np.sort(df['comment_like_total'])\n",
    "sorted_numbers"
   ]
  },
  {
   "cell_type": "code",
   "execution_count": 68,
   "metadata": {},
   "outputs": [
    {
     "data": {
      "text/plain": [
       "1410.5"
      ]
     },
     "execution_count": 68,
     "metadata": {},
     "output_type": "execute_result"
    }
   ],
   "source": [
    "q1 = np.percentile(sorted_numbers, 25) # 25번째 백분위수를 계산하여 반환\n",
    "q1"
   ]
  },
  {
   "cell_type": "code",
   "execution_count": 69,
   "metadata": {},
   "outputs": [
    {
     "data": {
      "text/plain": [
       "11876.0"
      ]
     },
     "execution_count": 69,
     "metadata": {},
     "output_type": "execute_result"
    }
   ],
   "source": [
    "q2 = np.percentile(sorted_numbers, 50)\n",
    "q2"
   ]
  },
  {
   "cell_type": "code",
   "execution_count": 70,
   "metadata": {},
   "outputs": [
    {
     "name": "stdout",
     "output_type": "stream",
     "text": [
      "(1561, 16)\n"
     ]
    },
    {
     "data": {
      "text/html": [
       "<div>\n",
       "<style scoped>\n",
       "    .dataframe tbody tr th:only-of-type {\n",
       "        vertical-align: middle;\n",
       "    }\n",
       "\n",
       "    .dataframe tbody tr th {\n",
       "        vertical-align: top;\n",
       "    }\n",
       "\n",
       "    .dataframe thead th {\n",
       "        text-align: right;\n",
       "    }\n",
       "</style>\n",
       "<table border=\"1\" class=\"dataframe\">\n",
       "  <thead>\n",
       "    <tr style=\"text-align: right;\">\n",
       "      <th></th>\n",
       "      <th>songId</th>\n",
       "      <th>title</th>\n",
       "      <th>artist</th>\n",
       "      <th>genre</th>\n",
       "      <th>album</th>\n",
       "      <th>lyricist</th>\n",
       "      <th>composer</th>\n",
       "      <th>date</th>\n",
       "      <th>img</th>\n",
       "      <th>comment</th>\n",
       "      <th>like</th>\n",
       "      <th>lyric</th>\n",
       "      <th>plylstSeq</th>\n",
       "      <th>comment_like_total</th>\n",
       "      <th>morphs</th>\n",
       "      <th>total</th>\n",
       "    </tr>\n",
       "  </thead>\n",
       "  <tbody>\n",
       "    <tr>\n",
       "      <th>9</th>\n",
       "      <td>35837631</td>\n",
       "      <td>편지 (영화 '동감' X 윤하 (YOUNHA))</td>\n",
       "      <td>윤하 (YOUNHA)</td>\n",
       "      <td>발라드 국내영화</td>\n",
       "      <td>편지 (영화 '동감' X 윤하 (YOUNHA))</td>\n",
       "      <td>허승경</td>\n",
       "      <td>김광진</td>\n",
       "      <td>20221116.0</td>\n",
       "      <td>https://cdnimg.melon.co.kr/cm2/album/images/11...</td>\n",
       "      <td>67</td>\n",
       "      <td>10275</td>\n",
       "      <td>여기까지가 끝인가 보오\\n이제 나는 돌아서겠소\\n억지 노력으로 인연을 거슬러\\n괴롭...</td>\n",
       "      <td>496963017 456209348</td>\n",
       "      <td>10342</td>\n",
       "      <td>여기 까지가 끝 인가 보오 이제 나 돌아서다 억지 노력 으로 인연 거슬러 괴롭히다 ...</td>\n",
       "      <td>여기 까지가 끝 인가 보오 이제 나 돌아서다 억지 노력 으로 인연 거슬러 괴롭히다 ...</td>\n",
       "    </tr>\n",
       "  </tbody>\n",
       "</table>\n",
       "</div>"
      ],
      "text/plain": [
       "     songId                       title       artist     genre   \n",
       "9  35837631  편지 (영화 '동감' X 윤하 (YOUNHA))  윤하 (YOUNHA)  발라드 국내영화  \\\n",
       "\n",
       "                        album lyricist composer        date   \n",
       "9  편지 (영화 '동감' X 윤하 (YOUNHA))      허승경      김광진  20221116.0  \\\n",
       "\n",
       "                                                 img  comment   like   \n",
       "9  https://cdnimg.melon.co.kr/cm2/album/images/11...       67  10275  \\\n",
       "\n",
       "                                               lyric            plylstSeq   \n",
       "9  여기까지가 끝인가 보오\\n이제 나는 돌아서겠소\\n억지 노력으로 인연을 거슬러\\n괴롭...  496963017 456209348  \\\n",
       "\n",
       "   comment_like_total                                             morphs   \n",
       "9               10342  여기 까지가 끝 인가 보오 이제 나 돌아서다 억지 노력 으로 인연 거슬러 괴롭히다 ...  \\\n",
       "\n",
       "                                               total  \n",
       "9  여기 까지가 끝 인가 보오 이제 나 돌아서다 억지 노력 으로 인연 거슬러 괴롭히다 ...  "
      ]
     },
     "execution_count": 70,
     "metadata": {},
     "output_type": "execute_result"
    }
   ],
   "source": [
    "# 25번째 백분위보다 크고 50번째 백분위보다 작은 songlist\n",
    "filtered_data = df[(df['comment_like_total'] >= q1) & (df['comment_like_total'] < q2)]\n",
    "print(filtered_data.shape)\n",
    "filtered_data.head(1)"
   ]
  },
  {
   "cell_type": "code",
   "execution_count": 71,
   "metadata": {},
   "outputs": [
    {
     "data": {
      "text/plain": [
       "1330     4083218\n",
       "1954       81122\n",
       "1489     4024086\n",
       "1719     2669367\n",
       "1732     1125952\n",
       "1843     1125932\n",
       "1338     1003566\n",
       "1372     1749951\n",
       "1593     1925230\n",
       "1855     3621929\n",
       "1337     3622464\n",
       "1518     1124649\n",
       "1411      833074\n",
       "632      4132144\n",
       "5468    35029957\n",
       "1429      833077\n",
       "4967    30384697\n",
       "2232     3047051\n",
       "1698     2467820\n",
       "2865     1563237\n",
       "1865     1003056\n",
       "5892    34052428\n",
       "1396     1124998\n",
       "1486     1573393\n",
       "1960       60162\n",
       "5337    34374826\n",
       "1802     1054752\n",
       "81       3515044\n",
       "889      4365747\n",
       "204      2719448\n",
       "Name: songId, dtype: object"
      ]
     },
     "execution_count": 71,
     "metadata": {},
     "output_type": "execute_result"
    }
   ],
   "source": [
    "get_recommendation(find_songid, cosine_sim)"
   ]
  },
  {
   "cell_type": "code",
   "execution_count": 17,
   "metadata": {},
   "outputs": [
    {
     "data": {
      "text/plain": [
       "['4185941',\n",
       " '58506',\n",
       " '1053842',\n",
       " '4260411',\n",
       " '33461694',\n",
       " '33507532',\n",
       " '33435717',\n",
       " '3592201',\n",
       " '1099824']"
      ]
     },
     "execution_count": 17,
     "metadata": {},
     "output_type": "execute_result"
    }
   ],
   "source": [
    "[i for i in a.values if i in filtered_data.songId.values]"
   ]
  },
  {
   "cell_type": "code",
   "execution_count": 78,
   "metadata": {},
   "outputs": [],
   "source": [
    "a = get_recommendation(find_songid, cosine_sim)\n",
    "b = [i for i in a.values if i in filtered_data.songId.values]\n",
    "filtered = df[df['songId'].isin(b[:5])].to_dict('records')"
   ]
  },
  {
   "cell_type": "code",
   "execution_count": 79,
   "metadata": {},
   "outputs": [
    {
     "data": {
      "text/plain": [
       "[{'songId': '3515044',\n",
       "  'title': 'Heaven',\n",
       "  'artist': '다비치',\n",
       "  'genre': '발라드 국내영화',\n",
       "  'album': '기생령 OST',\n",
       "  'lyricist': '준 (June)',\n",
       "  'composer': '민명기',\n",
       "  'date': 20110801.0,\n",
       "  'img': 'https://cdnimg.melon.co.kr/cm/album/images/013/59/258/1359258_500.jpg/melon/resize/282/quality/80/optimize',\n",
       "  'comment': 13,\n",
       "  'like': 4481,\n",
       "  'lyric': '아무 말도 말아요 그대 마음 알아요\\n이제 나를 놓고 싶은거죠\\n그댄 정말 바보죠 난 정말 괜찮아\\n미안해요 보내주지 못해서\\n바보같은 내 맘 다칠까\\n헤어지잔 아픈 말 못한\\n그대 더 아팠을테죠\\n그래 헤어져요 그립고 그리워도\\n익숙해질게요\\n그대 없는 하루 또 하루\\n하나만 기억해요\\n나는 항상 이 자리에\\n기다릴게요 언제라도 돌아와\\n눈물 마를 날 없이 온종일 울어도\\n괜찮아요 그대 행복하다면\\n바보같은 내 맘 다칠까\\n헤어지잔 아픈 말 못한\\n그대 더 아팠을테죠\\n그래 헤어져요 그립고 그리워도\\n익숙해질게요\\n그대 없는 하루 또 하루\\n하나만 기억해요\\n나는 항상 이 자리에\\n기다릴게요 언제라도 돌아와\\n우리 지난 시간을 돌려\\n우리 사랑했던\\n그때로 돌아가고 싶은데\\n지난 꿈일테죠 괜한 욕심일테죠\\n바보라고 해도 내가 아니라 해도\\n기다릴거예요 그대 다시 오는날까지\\n하나만 기억해요\\n항상 여기 이 자리에\\n내가 있어요 영원히 난 너뿐야',\n",
       "  'plylstSeq': '402724097 434586240',\n",
       "  'comment_like_total': 4494,\n",
       "  'morphs': '아무 말 말다 그대 마음 알다 이제 나르다 놓다 싶다 대다 정말 바보 죠 난 정말 괜찮다 미안하다 보내다 못 하다 바보 같다 내 맘 다치다 헤어지다 아프다 말 못 한 그대 더 아프다 그렇다 헤어지다 그리다 그립다 익숙해지다 그대 없다 하루 또 하루 하나 만 기억 하다 나 항상 자리 기다리다 언제 라도 돌아오다 눈물 마르다 날 없이 온종일 울 어도 괜찮다 그대 행복하다 바보 같다 내 맘 다치다 헤어지다 아프다 말 못 한 그대 더 아프다 그렇다 헤어지다 그리다 그립다 익숙해지다 그대 없다 하루 또 하루 하나 만 기억 하다 나 항상 자리 기다리다 언제 라도 돌아오다 우리 지난 시간 돌리다 우리 사랑 하다 그때 돌아가다 싶다 지난 꿈 이다 괜 한 욕심 이다 바보 라고 해도 내 가 아니다 해도 기다리다 그대 다시 오는 날 까지 하나 만 기억 하다 항상 여기 자리 내 가 있다 영원하다 난 너 뿐 야',\n",
       "  'total': '아무 말 말다 그대 마음 알다 이제 나르다 놓다 싶다 대다 정말 바보 죠 난 정말 괜찮다 미안하다 보내다 못 하다 바보 같다 내 맘 다치다 헤어지다 아프다 말 못 한 그대 더 아프다 그렇다 헤어지다 그리다 그립다 익숙해지다 그대 없다 하루 또 하루 하나 만 기억 하다 나 항상 자리 기다리다 언제 라도 돌아오다 눈물 마르다 날 없이 온종일 울 어도 괜찮다 그대 행복하다 바보 같다 내 맘 다치다 헤어지다 아프다 말 못 한 그대 더 아프다 그렇다 헤어지다 그리다 그립다 익숙해지다 그대 없다 하루 또 하루 하나 만 기억 하다 나 항상 자리 기다리다 언제 라도 돌아오다 우리 지난 시간 돌리다 우리 사랑 하다 그때 돌아가다 싶다 지난 꿈 이다 괜 한 욕심 이다 바보 라고 해도 내 가 아니다 해도 기다리다 그대 다시 오는 날 까지 하나 만 기억 하다 항상 여기 자리 내 가 있다 영원하다 난 너 뿐 야 Heaven 다비치 다비치 민명기 민명기 준 (June) 준 (June) 발라드 국내영화 발라드 국내영화'},\n",
       " {'songId': '2719448',\n",
       "  'title': '뭐라고 끝낼까',\n",
       "  'artist': '소연',\n",
       "  'genre': '발라드 국내영화',\n",
       "  'album': '고사2 OST Part.1',\n",
       "  'lyricist': '',\n",
       "  'composer': '',\n",
       "  'date': 20100615.0,\n",
       "  'img': 'https://cdnimg.melon.co.kr/cm/album/images/009/23/851/923851_500.jpg/melon/resize/282/quality/80/optimize',\n",
       "  'comment': 4,\n",
       "  'like': 1811,\n",
       "  'lyric': '뭐라고 끝낼까\\n이렇게 긴 우리의 사랑을\\n잘가라고 할까 웃어줘야 하나\\n영화처럼 악수를 할까\\n참 우습다 그치\\n너무 안싸워서 문제였는데\\n눈물이 흐르면 참을 수 있을까\\n다시 만날 것 처럼 헤어질까\\n가슴이 너무나 아파서\\n끝내 눈물날거만 같아서\\n우리 사랑이 끝났다는 걸\\n말로 할 수가없는걸\\n돌릴 수 없단걸 알아도\\n이젠 끝이란걸 알아도\\n너를 안고서 끌어 안고서\\n손을 풀 수가 없는데\\n뭐라고 끝낼까\\n뭐라고 끝낼까\\n장난으로도 해 본적 없는 말\\n이별이란 말을 나 할 수 있을까\\n이젠 볼 수 없다는 그 인사를\\n가슴이 너무나 아파서\\n끝내 눈물 날것만 같아서\\n우리 사랑이 끝났다는 걸\\n말로 할 수 가없는걸\\n돌릴 수 없단걸 알아도\\n이젠 끝이란걸 알아도\\n너를 안고서 끌어 안고서\\n손을 풀 수가 없는데\\n이 말밖에 못해 미안해\\n지켜 주지 못해서 미안해\\n우리 사랑을 그 약속들을\\n놓아 버려서 미안해\\n잘가라고 차마 못해서\\n이젠 끝이라고 못해서\\n미안하다고 미안하다고\\n다른 말은 못하겠는데\\n뭐라고 끝낼까',\n",
       "  'plylstSeq': '401675017 404679084',\n",
       "  'comment_like_total': 1815,\n",
       "  'morphs': '뭐라다 끝내다 이렇게 기다 우리 사랑 자다 하다 웃다 하나 영화 처럼 악수 하다 차다 울다 그치다 너무 싸우다 문제 이다 눈물 흐르다 차다 있다 다시 만날 처럼 헤어지다 가슴 너무나 아프다 끝내 눈물나다 같다 우리 사랑 끝나다 걸 말로 하다 수가 없다 돌리다 없다 걸 알다 젠 끝 이란 걸 알다 너 안고 서 끌다 안고 서 손 풀 수가 없다 뭐라다 끝내다 뭐라다 끝내다 장난 으로도 해 본적 없다 말 이별 이란 말 나 하다 있다 젠 볼 없다 인사 가슴 너무나 아프다 끝내 눈물 날다 같다 우리 사랑 끝나다 걸 말로 하다 가다 없다 돌리다 없다 걸 알다 젠 끝 이란 걸 알다 너 안고 서 끌다 안고 서 손 풀 수가 없다 말 밖에 못 하다 미안하다 지키다 주지 못 하다 미안하다 우리 사랑 약속 놓다 버리다 미안하다 자다 차마 못 하다 젠 끝 이라고 못 하다 미안하다 미안하다 다른 말 못 하다 뭐라다 끝내다',\n",
       "  'total': '뭐라다 끝내다 이렇게 기다 우리 사랑 자다 하다 웃다 하나 영화 처럼 악수 하다 차다 울다 그치다 너무 싸우다 문제 이다 눈물 흐르다 차다 있다 다시 만날 처럼 헤어지다 가슴 너무나 아프다 끝내 눈물나다 같다 우리 사랑 끝나다 걸 말로 하다 수가 없다 돌리다 없다 걸 알다 젠 끝 이란 걸 알다 너 안고 서 끌다 안고 서 손 풀 수가 없다 뭐라다 끝내다 뭐라다 끝내다 장난 으로도 해 본적 없다 말 이별 이란 말 나 하다 있다 젠 볼 없다 인사 가슴 너무나 아프다 끝내 눈물 날다 같다 우리 사랑 끝나다 걸 말로 하다 가다 없다 돌리다 없다 걸 알다 젠 끝 이란 걸 알다 너 안고 서 끌다 안고 서 손 풀 수가 없다 말 밖에 못 하다 미안하다 지키다 주지 못 하다 미안하다 우리 사랑 약속 놓다 버리다 미안하다 자다 차마 못 하다 젠 끝 이라고 못 하다 미안하다 미안하다 다른 말 못 하다 뭐라다 끝내다 뭐라고 끝낼까 소연 소연     발라드 국내영화 발라드 국내영화'},\n",
       " {'songId': '1003056',\n",
       "  'title': '내일',\n",
       "  'artist': '김수철',\n",
       "  'genre': '록/메탈',\n",
       "  'album': '작은 거인 김수철 (못다핀 꽃 한 송이)',\n",
       "  'lyricist': '김수철',\n",
       "  'composer': '김수철',\n",
       "  'date': 19830815.0,\n",
       "  'img': 'https://cdnimg.melon.co.kr/cm/album/images/003/10/201/310201_500.jpg?8e43638046457c1107bf8cc43bad42ce/melon/resize/282/quality/80/optimize',\n",
       "  'comment': 9,\n",
       "  'like': 2255,\n",
       "  'lyric': '스쳐가는 은빛 사연들이\\n밤하늘에 가득차고\\n풀나무에 맺힌 이슬처럼\\n외로움이 찾아 드네\\n별따라간 사랑 불러보다\\n옛 추억을 헤아리면\\n눈동자에 어린 얼굴들은\\n잊혀져간 나의 모습\\n흘러 흘러 세월가면\\n무엇이 될까\\n멀고도 먼 방랑길을\\n나 홀로 가야하나\\n한송이 꽃이 될까\\n내일 또 내~일\\n흘러 흘러 세월가면\\n무엇이 될까\\n멀고도 먼 방랑길을\\n나 홀로 가야하나\\n한송이 꽃이 될까\\n내일 또 내~일\\n내일 또 내~일\\n내일 또 내~일',\n",
       "  'plylstSeq': '455192019 439176590',\n",
       "  'comment_like_total': 2264,\n",
       "  'morphs': '스치다 은빛 사연 밤하늘 가득 차고 풀 나무 맺힌 이슬 처럼 외로움 찾다 드 네 별 따라가다 사랑 불다 옛 추억 헤아리다 눈동자 어리다 얼굴 잊혀지다 간 나 모습 흐르다 흐르다 세월 가면 무엇 되다 멀다 멀다 방랑 길 나 홀로 가야 하나 한송이 꽃 되다 내일 또 내 ~ 일 흐르다 흐르다 세월 가면 무엇 되다 멀다 멀다 방랑 길 나 홀로 가야 하나 한송이 꽃 되다 내일 또 내 ~ 일 내일 또 내 ~ 일 내일 또 내 ~ 일',\n",
       "  'total': '스치다 은빛 사연 밤하늘 가득 차고 풀 나무 맺힌 이슬 처럼 외로움 찾다 드 네 별 따라가다 사랑 불다 옛 추억 헤아리다 눈동자 어리다 얼굴 잊혀지다 간 나 모습 흐르다 흐르다 세월 가면 무엇 되다 멀다 멀다 방랑 길 나 홀로 가야 하나 한송이 꽃 되다 내일 또 내 ~ 일 흐르다 흐르다 세월 가면 무엇 되다 멀다 멀다 방랑 길 나 홀로 가야 하나 한송이 꽃 되다 내일 또 내 ~ 일 내일 또 내 ~ 일 내일 또 내 ~ 일 내일 김수철 김수철 김수철 김수철 김수철 김수철 록/메탈 록/메탈'},\n",
       " {'songId': '81122',\n",
       "  'title': '허공',\n",
       "  'artist': '조용필',\n",
       "  'genre': '성인가요/트로트',\n",
       "  'album': '조용필 8집 (Remastered)',\n",
       "  'lyricist': '정욱',\n",
       "  'composer': '정풍송',\n",
       "  'date': 19851115.0,\n",
       "  'img': 'https://cdnimg.melon.co.kr/cm/album/images/000/04/853/4853_500.jpg/melon/resize/282/quality/80/optimize',\n",
       "  'comment': 6,\n",
       "  'like': 3107,\n",
       "  'lyric': '꿈이었다고 생각하기엔\\n너무나도 아쉬움 남아\\n가슴태우며 기다리기엔\\n너무나도 멀어진 그대\\n사랑했던 마음도\\n미워했던 마음도\\n허공속에 묻어야만 될\\n슬픈 옛 이야기\\n스쳐버린 그 날들\\n잊어야할 그 날들\\n허공속에 묻힐 그날들\\n잊는다고 생각하기엔\\n너무나도 미련이 남아\\n돌아선 마음 달래보기엔\\n너무나도 멀어진 그대\\n설레이던 마음도\\n기다리던 마음도\\n허공속에 묻어야만 될\\n슬픈 옛이야기\\n스쳐버린 그 약속\\n잊어야할 그 약속\\n허공속에 묻힐 그 약속',\n",
       "  'plylstSeq': '425524406 421714547',\n",
       "  'comment_like_total': 3113,\n",
       "  'morphs': '꾸다 생각 하다 너무나도 아쉬움 남아 가슴 태우다 기다리다 기 엔 너무나도 멀어지다 그대 사랑 하다 마음 미워하다 마음 허공 속 묻다 되다 슬프다 옛 이야기 스치다 버리다 날 잊다 야하다 날 허공 속 묻히다 그날 잊다 생각 하다 너무나도 미련 남아 돌아서다 마음 달래 보기 엔 너무나도 멀어지다 그대 설레다 마음 기다리다 마음 허공 속 묻다 되다 슬프다 옛이야기 스치다 버리다 약속 잊다 야하다 약속 허공 속 묻히다 약속',\n",
       "  'total': '꾸다 생각 하다 너무나도 아쉬움 남아 가슴 태우다 기다리다 기 엔 너무나도 멀어지다 그대 사랑 하다 마음 미워하다 마음 허공 속 묻다 되다 슬프다 옛 이야기 스치다 버리다 날 잊다 야하다 날 허공 속 묻히다 그날 잊다 생각 하다 너무나도 미련 남아 돌아서다 마음 달래 보기 엔 너무나도 멀어지다 그대 설레다 마음 기다리다 마음 허공 속 묻다 되다 슬프다 옛이야기 스치다 버리다 약속 잊다 야하다 약속 허공 속 묻히다 약속 허공 조용필 조용필 정풍송 정풍송 정욱 정욱 성인가요/트로트 성인가요/트로트'},\n",
       " {'songId': '35029957',\n",
       "  'title': '반복 (prod. PATEKO(파테코))',\n",
       "  'artist': 'Kid Wine',\n",
       "  'genre': '록/메탈 애니메이션/웹툰',\n",
       "  'album': '반복 (회귀했더니 공작 X Kid Wine)',\n",
       "  'lyricist': 'Kid Wine',\n",
       "  'composer': 'PATEKO (파테코)',\n",
       "  'date': 20220508.0,\n",
       "  'img': 'https://cdnimg.melon.co.kr/cm2/album/images/109/43/238/10943238_20220504165636_500.jpg?ba33aefcc8a0d1ef44782ed8db45267e/melon/resize/282/quality/80/optimize',\n",
       "  'comment': 31,\n",
       "  'like': 10570,\n",
       "  'lyric': '전부 떠나가\\n내 곁에 있었던\\n날 사랑하던 사람도\\n우리가 사랑한\\n시간들은 알아\\n영원한 건 없다고\\n추억들을 꺼내 보면\\n그때로 다시 돌아가게 돼\\n정말 아름다웠다고\\n언제나\\n모든 건 스쳐 지나가\\n때론 울고 웃으며\\n우린 같은 일을 반복하나 봐\\n어쩌면\\n그렇게 살아가나 봐\\n아무렇지 않은 듯\\n다시 누군가를 사랑하나 봐\\n사랑하나 봐\\n많이도 후회했었고\\n마음속에 남아있는\\n잊지 못할 기억\\n다 지나고 보면\\n그땐 그랬다며\\n미소 짓게 되잖아\\n추억들을 꺼내 보면\\n그때로 다시 돌아가게 돼\\n정말 아름다웠다고\\n언제나\\n모든 건 스쳐 지나가\\n때론 울고 웃으며\\n우린 같은 일을 반복하나 봐\\n어쩌면\\n그렇게 살아가나 봐\\n아무렇지 않은 듯\\n다시 누군가를 사랑하나 봐\\n사랑하나 봐\\n많이 미워했었고\\n많이 울어도 본 사람\\n나 혼자만의 아픔은 아니겠죠\\n추억들을 꺼내 보면\\n그때로 다시 돌아가게 돼\\n정말 아름다웠다고\\n언제나\\n모든 건 스쳐 지나가\\n때론 울고 웃으며\\n우린 같은 일을 반복하나 봐\\n어쩌면\\n그렇게 살아가나 봐\\n아무렇지 않은 듯\\n다시 누군가를 사랑하나 봐\\n사랑하나 봐',\n",
       "  'plylstSeq': '444737775 505563751',\n",
       "  'comment_like_total': 10601,\n",
       "  'morphs': '전부 떠나가다 내 곁 있다 날 사랑 하다 사람 우리 가 사랑 한 시간 아 영원하다 건 없다 추억 꺼내다 보다 그때 다시 돌아가다 돼다 정말 아름답다 언제나 모든 건 스치다 지나가다 때론 울 고 웃다 우린 같다 일 반복 하나 보다 어쩌면 그렇게 살아가다 보다 아무렇다 않다 듯 다시 누군가 사랑 하나 보다 사랑 하나 보다 많이 후회 하다 마음속 남다 잊다 못 하다 기억 다 지나다 보다 그땐 그렇다 미소 짓다 되다 추억 꺼내다 보다 그때 다시 돌아가다 돼다 정말 아름답다 언제나 모든 건 스치다 지나가다 때론 울 고 웃다 우린 같다 일 반복 하나 보다 어쩌면 그렇게 살아가다 보다 아무렇다 않다 듯 다시 누군가 사랑 하나 보다 사랑 하나 보다 많이 미워하다 많이 울 어도 보다 사람 나 혼자 만의 아픔 아니다 추억 꺼내다 보다 그때 다시 돌아가다 돼다 정말 아름답다 언제나 모든 건 스치다 지나가다 때론 울 고 웃다 우린 같다 일 반복 하나 보다 어쩌면 그렇게 살아가다 보다 아무렇다 않다 듯 다시 누군가 사랑 하나 보다 사랑 하나 보다',\n",
       "  'total': '전부 떠나가다 내 곁 있다 날 사랑 하다 사람 우리 가 사랑 한 시간 아 영원하다 건 없다 추억 꺼내다 보다 그때 다시 돌아가다 돼다 정말 아름답다 언제나 모든 건 스치다 지나가다 때론 울 고 웃다 우린 같다 일 반복 하나 보다 어쩌면 그렇게 살아가다 보다 아무렇다 않다 듯 다시 누군가 사랑 하나 보다 사랑 하나 보다 많이 후회 하다 마음속 남다 잊다 못 하다 기억 다 지나다 보다 그땐 그렇다 미소 짓다 되다 추억 꺼내다 보다 그때 다시 돌아가다 돼다 정말 아름답다 언제나 모든 건 스치다 지나가다 때론 울 고 웃다 우린 같다 일 반복 하나 보다 어쩌면 그렇게 살아가다 보다 아무렇다 않다 듯 다시 누군가 사랑 하나 보다 사랑 하나 보다 많이 미워하다 많이 울 어도 보다 사람 나 혼자 만의 아픔 아니다 추억 꺼내다 보다 그때 다시 돌아가다 돼다 정말 아름답다 언제나 모든 건 스치다 지나가다 때론 울 고 웃다 우린 같다 일 반복 하나 보다 어쩌면 그렇게 살아가다 보다 아무렇다 않다 듯 다시 누군가 사랑 하나 보다 사랑 하나 보다 반복 (prod. PATEKO(파테코)) Kid Wine Kid Wine PATEKO (파테코) PATEKO (파테코) Kid Wine Kid Wine 록/메탈 애니메이션/웹툰 록/메탈 애니메이션/웹툰'}]"
      ]
     },
     "execution_count": 79,
     "metadata": {},
     "output_type": "execute_result"
    }
   ],
   "source": [
    "filtered"
   ]
  },
  {
   "cell_type": "code",
   "execution_count": null,
   "metadata": {},
   "outputs": [],
   "source": [
    "b = []\n",
    "for i in a.values:\n",
    "    if i in filtered_data.songId.values:\n",
    "        b.append(i)\n",
    "        "
   ]
  },
  {
   "cell_type": "code",
   "execution_count": 74,
   "metadata": {},
   "outputs": [],
   "source": [
    "# 코사인 유사도\n",
    "from sklearn.metrics.pairwise import linear_kernel\n",
    "cosine_sim_total = linear_kernel(total_tv, total_tv)"
   ]
  },
  {
   "cell_type": "code",
   "execution_count": 75,
   "metadata": {},
   "outputs": [
    {
     "data": {
      "text/plain": [
       "array([0.01609379, 0.04257023, 0.09403357, ..., 0.01969947, 0.03113656,\n",
       "       0.01127102])"
      ]
     },
     "execution_count": 75,
     "metadata": {},
     "output_type": "execute_result"
    }
   ],
   "source": [
    "cosine_sim_total[indices[find_songid]]"
   ]
  },
  {
   "cell_type": "code",
   "execution_count": 76,
   "metadata": {},
   "outputs": [
    {
     "data": {
      "text/plain": [
       "0       0.016094\n",
       "1       0.042570\n",
       "2       0.094034\n",
       "3       0.062950\n",
       "4       0.016053\n",
       "          ...   \n",
       "6242    0.089257\n",
       "6243    0.016817\n",
       "6244    0.019699\n",
       "6245    0.031137\n",
       "6246    0.011271\n",
       "Length: 6247, dtype: float64"
      ]
     },
     "execution_count": 76,
     "metadata": {},
     "output_type": "execute_result"
    }
   ],
   "source": [
    "sim_scores = pd.Series(cosine_sim_total[indices[find_songid]])\n",
    "sim_scores"
   ]
  },
  {
   "cell_type": "code",
   "execution_count": 77,
   "metadata": {},
   "outputs": [
    {
     "data": {
      "text/plain": [
       "1954    0.172005\n",
       "1489    0.166212\n",
       "1719    0.148663\n",
       "1732    0.148641\n",
       "1843    0.144897\n",
       "1338    0.139385\n",
       "1372    0.135915\n",
       "1593    0.134953\n",
       "1855    0.129901\n",
       "1337    0.127008\n",
       "dtype: float64"
      ]
     },
     "execution_count": 77,
     "metadata": {},
     "output_type": "execute_result"
    }
   ],
   "source": [
    "# 나를 제외한 Top 10\n",
    "sim_scores.sort_values(ascending=False).head(11).tail(10)"
   ]
  }
 ],
 "metadata": {
  "kernelspec": {
   "display_name": "base",
   "language": "python",
   "name": "python3"
  },
  "language_info": {
   "codemirror_mode": {
    "name": "ipython",
    "version": 3
   },
   "file_extension": ".py",
   "mimetype": "text/x-python",
   "name": "python",
   "nbconvert_exporter": "python",
   "pygments_lexer": "ipython3",
   "version": "3.10.10"
  },
  "orig_nbformat": 4
 },
 "nbformat": 4,
 "nbformat_minor": 2
}
