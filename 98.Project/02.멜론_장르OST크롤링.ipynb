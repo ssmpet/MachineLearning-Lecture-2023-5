{
 "cells": [
  {
   "cell_type": "code",
   "execution_count": 1,
   "metadata": {},
   "outputs": [],
   "source": [
    "import numpy as np\n",
    "import pandas as pd\n",
    "\n",
    "import requests\n",
    "from bs4 import BeautifulSoup\n",
    "from selenium import webdriver\n",
    "\n",
    "import time\n",
    "from tqdm import tqdm\n",
    "\n",
    "from selenium.webdriver.common.keys import Keys\n",
    "from selenium.webdriver.common.by import By\n",
    "\n",
    "import warnings\n",
    "warnings.filterwarnings('ignore')\n",
    "\n",
    "driver_pathname = 'C:/Users/sujung/Downloads/chromedriver_win32/chromedriver.exe'\n",
    "# driver_pathname = 'C:/Users/yonsai/Downloads/chromedriver_win32/chromedriver.exe'\n"
   ]
  },
  {
   "attachments": {},
   "cell_type": "markdown",
   "metadata": {},
   "source": [
    "### 멜론  장르(OST, 국내영화, 국내드라마, 국내뮤지컬)"
   ]
  },
  {
   "cell_type": "code",
   "execution_count": 5,
   "metadata": {},
   "outputs": [],
   "source": [
    "driver = webdriver.Chrome(driver_pathname)"
   ]
  },
  {
   "attachments": {},
   "cell_type": "markdown",
   "metadata": {},
   "source": [
    "### 1. songId 만 가져와 파일로 저장하기"
   ]
  },
  {
   "cell_type": "code",
   "execution_count": 4,
   "metadata": {},
   "outputs": [],
   "source": [
    "gn_code = [2, 4, 7]\n",
    "songIds = []\n",
    "\n",
    "base_url1 = 'https://www.melon.com/genre/song_list.htm?gnrCode=GN1500&dtlGnrCode=GN150'\n",
    "base_url2 = '#params%5BgnrCode%5D=GN1500&params%5BdtlGnrCode%5D=GN150'\n",
    "base_url3 = '&params%5BorderBy%5D=POP&params%5BsteadyYn%5D=N&po=pageObj&startIndex='\n",
    "\n",
    "# base_url = 'https://www.melon.com/genre/song_list.htm?params%5BdtlGnrCode%5D=&params%5BorderBy%5D=POP&params%5BsteadyYn%5D=N&po=pageObj&params%5BdtlGnrCode%5D=params%5BorderBy%5D=POP&params%5BsteadyYn%5D=N&po=pageObj&gnrCode=GN0'\n",
    "# genre_url = '#params%5BgnrCode%5D=GN0'\n",
    "# index_url = '&startIndex='\n",
    "for i in gn_code:\n",
    "\n",
    "    for k in range(1, 452, 50):\n",
    "\n",
    "        page_url = f'{base_url1}{i}{base_url2}{i}{base_url3}{k}'\n",
    "        driver.get(page_url)\n",
    "        time.sleep(2)\n",
    "        soup = BeautifulSoup(driver.page_source, 'html.parser')\n",
    "        trs = soup.select('tbody > tr')\n",
    "        for tr in trs:\n",
    "            try:\n",
    "                if tr.select_one('.bullet_icons.age_19'):\n",
    "                    continue\n",
    "                songId = tr.select_one('.btn.button_icons.type03.song_info')['href'].split(\"'\")[-2]\n",
    "                songIds.append(songId)\n",
    "            except:\n",
    "                print(page_url)\n",
    "\n"
   ]
  },
  {
   "cell_type": "code",
   "execution_count": null,
   "metadata": {},
   "outputs": [],
   "source": [
    "songid_df = pd.DataFrame(songIds, columns=['songId'])\n",
    "songid_df.to_csv('data/songids.csv', index=False)"
   ]
  },
  {
   "cell_type": "code",
   "execution_count": 37,
   "metadata": {},
   "outputs": [
    {
     "data": {
      "text/plain": [
       "(1495, 1)"
      ]
     },
     "execution_count": 37,
     "metadata": {},
     "output_type": "execute_result"
    }
   ],
   "source": [
    "songid_df.shape"
   ]
  },
  {
   "cell_type": "code",
   "execution_count": 38,
   "metadata": {},
   "outputs": [
    {
     "data": {
      "text/plain": [
       "songId    1495\n",
       "dtype: int64"
      ]
     },
     "execution_count": 38,
     "metadata": {},
     "output_type": "execute_result"
    }
   ],
   "source": [
    "songid_df.nunique()"
   ]
  },
  {
   "attachments": {},
   "cell_type": "markdown",
   "metadata": {},
   "source": [
    "##### 2. 파일을 읽어서 songId의 내용들 가져오기"
   ]
  },
  {
   "cell_type": "code",
   "execution_count": 324,
   "metadata": {},
   "outputs": [],
   "source": [
    "df = pd.read_csv('data/songids.csv')"
   ]
  },
  {
   "cell_type": "code",
   "execution_count": 325,
   "metadata": {},
   "outputs": [
    {
     "data": {
      "text/html": [
       "<div>\n",
       "<style scoped>\n",
       "    .dataframe tbody tr th:only-of-type {\n",
       "        vertical-align: middle;\n",
       "    }\n",
       "\n",
       "    .dataframe tbody tr th {\n",
       "        vertical-align: top;\n",
       "    }\n",
       "\n",
       "    .dataframe thead th {\n",
       "        text-align: right;\n",
       "    }\n",
       "</style>\n",
       "<table border=\"1\" class=\"dataframe\">\n",
       "  <thead>\n",
       "    <tr style=\"text-align: right;\">\n",
       "      <th></th>\n",
       "      <th>songId</th>\n",
       "    </tr>\n",
       "  </thead>\n",
       "  <tbody>\n",
       "    <tr>\n",
       "      <th>0</th>\n",
       "      <td>418168</td>\n",
       "    </tr>\n",
       "    <tr>\n",
       "      <th>1</th>\n",
       "      <td>35609035</td>\n",
       "    </tr>\n",
       "    <tr>\n",
       "      <th>2</th>\n",
       "      <td>1046278</td>\n",
       "    </tr>\n",
       "    <tr>\n",
       "      <th>3</th>\n",
       "      <td>35609034</td>\n",
       "    </tr>\n",
       "    <tr>\n",
       "      <th>4</th>\n",
       "      <td>35728845</td>\n",
       "    </tr>\n",
       "  </tbody>\n",
       "</table>\n",
       "</div>"
      ],
      "text/plain": [
       "     songId\n",
       "0    418168\n",
       "1  35609035\n",
       "2   1046278\n",
       "3  35609034\n",
       "4  35728845"
      ]
     },
     "execution_count": 325,
     "metadata": {},
     "output_type": "execute_result"
    }
   ],
   "source": [
    "df.head()"
   ]
  },
  {
   "cell_type": "code",
   "execution_count": 326,
   "metadata": {},
   "outputs": [],
   "source": [
    "songIds = df.songId.values"
   ]
  },
  {
   "attachments": {},
   "cell_type": "markdown",
   "metadata": {},
   "source": [
    "##### 1. 방법1"
   ]
  },
  {
   "cell_type": "code",
   "execution_count": null,
   "metadata": {},
   "outputs": [],
   "source": [
    "driver = webdriver.Chrome(driver_pathname)\n",
    "\n",
    "infos = []\n",
    "for songId in tqdm(songIds):\n",
    "    song_url = f'https://www.melon.com/song/detail.htm?songId={songId}'\n",
    "    try:\n",
    "        # print(song_url)\n",
    "\n",
    "        driver.get(song_url)\n",
    "        time.sleep(2)\n",
    "\n",
    "        soup = BeautifulSoup(driver.page_source, 'html.parser')\n",
    "\n",
    "        info = soup.select_one('#conts')\n",
    "\n",
    "        # songId = info.select_one('#btnLike')['data-song-no']\n",
    "        title = info.select_one('.song_name').get_text().strip().split('\\t')[-1]\n",
    "        artist = info.select_one('.artist_name').get_text()\n",
    "        genre = info.select_one('dl > dd:nth-child(6)').get_text().replace(',', '')\n",
    "        album = info.select_one('.list > dd').get_text()\n",
    "        ul = info.select('.list_person.clfix > li')\n",
    "        lyricist = ul[0].select_one('.artist_name').get_text()\n",
    "        composer = ul[1].select_one('.artist_name').get_text()\n",
    "        date = info.select_one('dl > dd:nth-child(4)').get_text().replace('.','')\n",
    "        img = info.select_one('.image_typeAll > img')['src']\n",
    "        comment = info.select_one('#revCnt').get_text().replace('개', '')\n",
    "        like = info.select_one('#d_like_count').get_text().replace(',', '')\n",
    "        # lyric = str(info.select_one('#d_video_summary')).split('\\t\\t\\t\\t\\t\\t\\t')[-1].replace('\\t', '').replace('<br/>', '\\n').split('</div>')[0].strip()\n",
    "        lyric = str(info.select_one('#d_video_summary')).split('\\n')[-2].replace('\\t', '').replace('<br/>', '\\n').strip().replace(',', '')\n",
    "\n",
    "        print(str(info.select_one('#d_video_summary')))\n",
    "        try:\n",
    "            buttons = info.select('.d_djcol_list > ul > li > .thumb > a ')\n",
    "            plylstSeq = ' '.join([button['href'].split(',\\'')[-1][:-3] for button in buttons])\n",
    "\n",
    "        except:\n",
    "            plylstSeq = np.nan\n",
    "\n",
    "        # print(title, artist, genre, album, lyricist, composer, date, comment, like)\n",
    "\n",
    "        infos.append({'songId': songId, 'title': title, 'artist': artist, 'genre':genre,\n",
    "                    'album': album, 'lyricist': lyricist, 'composer': composer, 'date':date, 'img': img,\n",
    "                    'comment': comment, 'like': like, 'lyric': lyric, 'plylstSeq': plylstSeq})\n",
    "\n",
    "    except:\n",
    "        continue\n",
    "\n",
    "driver.close()"
   ]
  },
  {
   "attachments": {},
   "cell_type": "markdown",
   "metadata": {},
   "source": [
    "##### 2. 방법2"
   ]
  },
  {
   "cell_type": "code",
   "execution_count": 2,
   "metadata": {},
   "outputs": [],
   "source": [
    "def mynan(data):\n",
    "    if data != '-':\n",
    "        return data\n",
    "    else:\n",
    "        return np.nan"
   ]
  },
  {
   "cell_type": "code",
   "execution_count": 21,
   "metadata": {},
   "outputs": [],
   "source": [
    "# songIds = '3718181 3414749 30573538 36480154'.split()"
   ]
  },
  {
   "cell_type": "code",
   "execution_count": 30,
   "metadata": {},
   "outputs": [
    {
     "name": "stderr",
     "output_type": "stream",
     "text": [
      " 50%|█████     | 2/4 [00:08<00:08,  4.17s/it]"
     ]
    },
    {
     "name": "stdout",
     "output_type": "stream",
     "text": [
      "503547414 411111859\n"
     ]
    },
    {
     "name": "stderr",
     "output_type": "stream",
     "text": [
      "100%|██████████| 4/4 [00:13<00:00,  3.35s/it]"
     ]
    },
    {
     "name": "stdout",
     "output_type": "stream",
     "text": [
      "\n"
     ]
    },
    {
     "name": "stderr",
     "output_type": "stream",
     "text": [
      "\n"
     ]
    }
   ],
   "source": [
    "driver = webdriver.Chrome(driver_pathname)\n",
    "\n",
    "infos = []\n",
    "for songId in tqdm(songIds):\n",
    "    try:\n",
    "        song_url = f'https://www.melon.com/song/detail.htm?songId={songId}'\n",
    "        driver.get(song_url)\n",
    "        time.sleep(2)\n",
    "        soup = BeautifulSoup(driver.page_source, 'html.parser')\n",
    "        info = soup.select_one('#conts')\n",
    "\n",
    "        if info.select_one('#d_video_summary') == None: continue\n",
    "        # lyric = str(info.select_one('#d_video_summary')).split('\\n')[-2].replace('\\t', '').replace('<br/>', '\\n').strip()\n",
    "        # lyric = str(info.select_one('#d_video_summary')).split('\\n')[-2].replace('\\t', '').replace('<br/>', '\\n').replace('\\n\\n', '\\n').strip()\n",
    "        lyric = str(info.select_one('#d_video_summary')).split('\\t\\t\\t\\t\\t\\t\\t')[-1].replace('\\t', '').replace('<br/>', '\\n').split('</div>')[0].strip().replace('\\n\\n', '\\n')\n",
    "        # lyric = str(info.select_one('#d_video_summary')).split('\\n')[-2].replace('\\t', '').replace('<br/>', '\\n').replace('\\n\\n', '\\n').strip()\n",
    "\n",
    "        img = info.select_one('.image_typeAll > img')['src']\n",
    "        # songId = info.select_one('#btnLike')['data-song-no']\n",
    "        title = info.select_one('.song_name').get_text().strip().split('\\t')[-1]\n",
    "        artist = info.select_one('.section_info > div > div.entry > div.info > div.artist').get_text().strip()\n",
    "        album = info.select_one('.list > dd').get_text()\n",
    "        date = mynan(info.select_one('dl > dd:nth-child(4)').get_text().replace('.', ''))\n",
    "        genre = info.select_one('dl > dd:nth-child(6)').get_text().replace(',', '')\n",
    "        like = info.select_one('#d_like_count').get_text().replace(',', '')\n",
    "        comment = info.select_one('#revCnt').get_text().replace('개', '').replace(',', '')\n",
    "\n",
    "\n",
    "        # 작사 / 작곡\n",
    "        lis = info.select('.section_prdcr > ul > li')\n",
    "        # print(len(lis))\n",
    "        lyricist, composer = '', '' \n",
    "        for li in lis:\n",
    "            tmp = li.get_text(strip=True)\n",
    "            tmp1 = tmp.find('작사')\n",
    "            tmp2 = tmp.find('작곡')\n",
    "            if tmp1 > 0 and not lyricist: lyricist = tmp[:tmp1]\n",
    "            if tmp2 > 0 and not composer: composer = tmp[:tmp2]\n",
    "        # print(lyricist)\n",
    "        # print(composer)\n",
    "        lyricist = mynan(lyricist)\n",
    "        composer = mynan(composer)\n",
    "\n",
    "        buttons = info.select('.d_djcol_list > ul > li > .thumb > a ')\n",
    "        plylstSeq = mynan(' '.join([button['href'].split(',\\'')[-1][:-3] for button in buttons]))\n",
    "        infos.append({'songId': songId, 'title': title, 'artist': artist, 'genre':genre,\n",
    "                    'album': album, 'lyricist': lyricist, 'composer': composer, 'date':date, 'img': img,\n",
    "                    'comment': comment, 'like': like, 'lyric': lyric, 'plylstSeq': plylstSeq})\n",
    "    except:\n",
    "        continue\n",
    "\n",
    "driver.close()"
   ]
  },
  {
   "cell_type": "code",
   "execution_count": 32,
   "metadata": {},
   "outputs": [
    {
     "data": {
      "text/plain": [
       "((2, 13), 2)"
      ]
     },
     "execution_count": 32,
     "metadata": {},
     "output_type": "execute_result"
    }
   ],
   "source": [
    "df = pd.DataFrame(infos)\n",
    "df.shape, df.songId.nunique()"
   ]
  },
  {
   "cell_type": "code",
   "execution_count": 29,
   "metadata": {},
   "outputs": [
    {
     "data": {
      "text/plain": [
       "songId       0\n",
       "title        0\n",
       "artist       0\n",
       "genre        0\n",
       "album        0\n",
       "lyricist     0\n",
       "composer     0\n",
       "date         0\n",
       "img          0\n",
       "comment      0\n",
       "like         0\n",
       "lyric        0\n",
       "plylstSeq    0\n",
       "dtype: int64"
      ]
     },
     "execution_count": 29,
     "metadata": {},
     "output_type": "execute_result"
    }
   ],
   "source": [
    "df.isna().sum()"
   ]
  },
  {
   "cell_type": "code",
   "execution_count": 333,
   "metadata": {},
   "outputs": [],
   "source": [
    "# 저장하기\n",
    "df.to_csv('data/melon_genre_ost.csv', index=False)\n",
    "# df.to_csv('data/melon_genre_ost_한글.csv', encoding='euc-kr', index=False)"
   ]
  },
  {
   "attachments": {},
   "cell_type": "markdown",
   "metadata": {},
   "source": [
    "- 데이터 확인"
   ]
  },
  {
   "cell_type": "code",
   "execution_count": 34,
   "metadata": {},
   "outputs": [
    {
     "data": {
      "text/plain": [
       "((1487, 13), 1487)"
      ]
     },
     "execution_count": 34,
     "metadata": {},
     "output_type": "execute_result"
    }
   ],
   "source": [
    "df_ost = pd.read_csv('data/melon_genre_ost.csv')\n",
    "df_ost.shape, df_ost.songId.nunique()"
   ]
  },
  {
   "cell_type": "code",
   "execution_count": 35,
   "metadata": {},
   "outputs": [
    {
     "data": {
      "text/plain": [
       "'햇살은 우릴 위해 내리고 \\n바람도 서롤 감싸게 했죠 \\n우리 웃음속에 계절은 오고 \\n또 갔죠 \\n바람에 흔들리는 머릿결 \\n내게 불어오는 그대 향기 \\n예쁜 두눈도 웃음 소리도 \\n모두가 내 것이었죠\\n이런 사랑 이런 행복 쉽다 \\n했었죠 이런 웃음 \\n이런 축복 내게 쉽게 올리 없죠 \\n눈물 조차 울음조차 닦지 \\n못한 나 \\n정말로 울면 내가 그댈 보내 \\n준 것 같아서 \\n그대 떠나가는 그 순간도 \\n나를 걱정했었나요 \\n무엇도 해줄 수 없는 내 맘\\n앞에서 \\n그대 나를 떠나 간다해도 \\n난 그댈 보낸적 없죠 \\n여전히 그댄 나를 살게 하는 \\n이율테니 \\n이런 사랑 이런 행복 쉽다 했었죠 \\n이런 웃음 이런 축복 내게 \\n쉽게 올리 없죠 \\n눈물 조차 울음 조차 닦지 못한 나 \\n정말로 울면 내가 그댈 보내 \\n준 것 같아서 \\n그대 떠나가는 그 순간도 \\n나를 걱정했었나요 \\n무엇도 해줄 수 없는 내 맘앞에서 \\n그대 나를 떠나 간다해도 난 \\n그댈 보낸적 없죠 \\n기다림으로 다시 시작일테니 \\n얼마나 사랑했는지 얼마나 \\n또 울었는지 \\n그대여 한순간 조차 잊지 말아요 \\n거기 떠나간 그곳에서 날\\n기억하며 기다려요\\n하루씩 그대에게 다가가는 \\n나 일테니'"
      ]
     },
     "execution_count": 35,
     "metadata": {},
     "output_type": "execute_result"
    }
   ],
   "source": [
    "df_ost.lyric[0]"
   ]
  },
  {
   "cell_type": "code",
   "execution_count": 36,
   "metadata": {},
   "outputs": [
    {
     "name": "stdout",
     "output_type": "stream",
     "text": [
      "<class 'pandas.core.frame.DataFrame'>\n",
      "RangeIndex: 1487 entries, 0 to 1486\n",
      "Data columns (total 13 columns):\n",
      " #   Column     Non-Null Count  Dtype \n",
      "---  ------     --------------  ----- \n",
      " 0   songId     1487 non-null   int64 \n",
      " 1   title      1487 non-null   object\n",
      " 2   artist     1487 non-null   object\n",
      " 3   genre      1487 non-null   object\n",
      " 4   album      1487 non-null   object\n",
      " 5   lyricist   945 non-null    object\n",
      " 6   composer   1004 non-null   object\n",
      " 7   date       1487 non-null   int64 \n",
      " 8   img        1487 non-null   object\n",
      " 9   comment    1487 non-null   int64 \n",
      " 10  like       1487 non-null   int64 \n",
      " 11  lyric      1487 non-null   object\n",
      " 12  plylstSeq  1339 non-null   object\n",
      "dtypes: int64(4), object(9)\n",
      "memory usage: 151.1+ KB\n"
     ]
    }
   ],
   "source": [
    "# # df_ost.date = df_ost.date.astype(str)\n",
    "# df_ost.like = df_ost.like.astype(int)\n",
    "# df_ost.comment = df_ost.comment.astype(int)\n",
    "df_ost.info()"
   ]
  },
  {
   "cell_type": "code",
   "execution_count": 37,
   "metadata": {},
   "outputs": [
    {
     "data": {
      "text/plain": [
       "songId         0\n",
       "title          0\n",
       "artist         0\n",
       "genre          0\n",
       "album          0\n",
       "lyricist     542\n",
       "composer     483\n",
       "date           0\n",
       "img            0\n",
       "comment        0\n",
       "like           0\n",
       "lyric          0\n",
       "plylstSeq    148\n",
       "dtype: int64"
      ]
     },
     "execution_count": 37,
     "metadata": {},
     "output_type": "execute_result"
    }
   ],
   "source": [
    "df_ost.isna().sum()"
   ]
  },
  {
   "cell_type": "code",
   "execution_count": 70,
   "metadata": {},
   "outputs": [
    {
     "data": {
      "text/html": [
       "<div>\n",
       "<style scoped>\n",
       "    .dataframe tbody tr th:only-of-type {\n",
       "        vertical-align: middle;\n",
       "    }\n",
       "\n",
       "    .dataframe tbody tr th {\n",
       "        vertical-align: top;\n",
       "    }\n",
       "\n",
       "    .dataframe thead th {\n",
       "        text-align: right;\n",
       "    }\n",
       "</style>\n",
       "<table border=\"1\" class=\"dataframe\">\n",
       "  <thead>\n",
       "    <tr style=\"text-align: right;\">\n",
       "      <th></th>\n",
       "      <th>songId</th>\n",
       "      <th>title</th>\n",
       "      <th>artist</th>\n",
       "      <th>genre</th>\n",
       "      <th>album</th>\n",
       "      <th>lyricist</th>\n",
       "      <th>composer</th>\n",
       "      <th>date</th>\n",
       "      <th>comment</th>\n",
       "      <th>like</th>\n",
       "    </tr>\n",
       "  </thead>\n",
       "  <tbody>\n",
       "    <tr>\n",
       "      <th>51</th>\n",
       "      <td>36396522</td>\n",
       "      <td>남다른 응원가</td>\n",
       "      <td>신인류</td>\n",
       "      <td>록/메탈 국내영화</td>\n",
       "      <td>드림 OST</td>\n",
       "      <td>신온유</td>\n",
       "      <td>신온유</td>\n",
       "      <td>20230426</td>\n",
       "      <td>12</td>\n",
       "      <td>964</td>\n",
       "    </tr>\n",
       "    <tr>\n",
       "      <th>52</th>\n",
       "      <td>30239362</td>\n",
       "      <td>사랑한다 안한다</td>\n",
       "      <td>홍진영</td>\n",
       "      <td>성인가요/트로트 국내영화</td>\n",
       "      <td>조작된 도시 Special Song</td>\n",
       "      <td>안영민</td>\n",
       "      <td>안영민</td>\n",
       "      <td>20170209</td>\n",
       "      <td>38</td>\n",
       "      <td>10761</td>\n",
       "    </tr>\n",
       "    <tr>\n",
       "      <th>53</th>\n",
       "      <td>35690116</td>\n",
       "      <td>너에게로 가는 길 (영화 '동감' X 엔플라잉 (N.Flying))</td>\n",
       "      <td>엔플라잉 (N.Flying)</td>\n",
       "      <td>록/메탈 국내영화</td>\n",
       "      <td>너에게로 가는 길 (영화 '동감' X 엔플라잉 (N.Flying))</td>\n",
       "      <td>김주희</td>\n",
       "      <td>방용석</td>\n",
       "      <td>20221001</td>\n",
       "      <td>24</td>\n",
       "      <td>2261</td>\n",
       "    </tr>\n",
       "    <tr>\n",
       "      <th>54</th>\n",
       "      <td>35561629</td>\n",
       "      <td>아무 일도, 아무것도</td>\n",
       "      <td>송이한</td>\n",
       "      <td>발라드 국내영화</td>\n",
       "      <td>아무 일도, 아무것도 (뷰티풀 모먼트 OST 스페셜 트랙)</td>\n",
       "      <td>이기환</td>\n",
       "      <td>이기환</td>\n",
       "      <td>20220828</td>\n",
       "      <td>2</td>\n",
       "      <td>1100</td>\n",
       "    </tr>\n",
       "    <tr>\n",
       "      <th>55</th>\n",
       "      <td>4412359</td>\n",
       "      <td>언젠가 누군가</td>\n",
       "      <td>이기찬</td>\n",
       "      <td>발라드 국내영화</td>\n",
       "      <td>남자가 사랑할 때 OST</td>\n",
       "      <td>김태윤</td>\n",
       "      <td>황상준</td>\n",
       "      <td>20140122</td>\n",
       "      <td>19</td>\n",
       "      <td>8627</td>\n",
       "    </tr>\n",
       "    <tr>\n",
       "      <th>56</th>\n",
       "      <td>418200</td>\n",
       "      <td>희재 (Edit Version)</td>\n",
       "      <td>성시경</td>\n",
       "      <td>발라드 국내영화</td>\n",
       "      <td>국화꽃 향기 OST</td>\n",
       "      <td>양재선</td>\n",
       "      <td>MGR</td>\n",
       "      <td>20030201</td>\n",
       "      <td>9</td>\n",
       "      <td>3578</td>\n",
       "    </tr>\n",
       "    <tr>\n",
       "      <th>57</th>\n",
       "      <td>35879557</td>\n",
       "      <td>내 마음 왜 이럴까</td>\n",
       "      <td>김고은</td>\n",
       "      <td>국내영화</td>\n",
       "      <td>영웅</td>\n",
       "      <td>한아름</td>\n",
       "      <td>오상준</td>\n",
       "      <td>20221201</td>\n",
       "      <td>20</td>\n",
       "      <td>1534</td>\n",
       "    </tr>\n",
       "    <tr>\n",
       "      <th>58</th>\n",
       "      <td>7842239</td>\n",
       "      <td>True Romance (엔딩 테마)</td>\n",
       "      <td>Citizens!</td>\n",
       "      <td>국내영화</td>\n",
       "      <td>뷰티 인사이드 OST</td>\n",
       "      <td>NaN</td>\n",
       "      <td>NaN</td>\n",
       "      <td>20150904</td>\n",
       "      <td>38</td>\n",
       "      <td>26435</td>\n",
       "    </tr>\n",
       "    <tr>\n",
       "      <th>59</th>\n",
       "      <td>621915</td>\n",
       "      <td>날 그만 잊어요 (Guitar Ver.)</td>\n",
       "      <td>거미</td>\n",
       "      <td>R&amp;B/Soul 국내영화</td>\n",
       "      <td>내 머리 속의 지우개 OST</td>\n",
       "      <td>이영현</td>\n",
       "      <td>박경진</td>\n",
       "      <td>20041026</td>\n",
       "      <td>7</td>\n",
       "      <td>5229</td>\n",
       "    </tr>\n",
       "    <tr>\n",
       "      <th>60</th>\n",
       "      <td>4054936</td>\n",
       "      <td>행복을 주는 사람</td>\n",
       "      <td>한석규</td>\n",
       "      <td>발라드 국내영화</td>\n",
       "      <td>파파로티 OST</td>\n",
       "      <td>이주호</td>\n",
       "      <td>이주호</td>\n",
       "      <td>20130312</td>\n",
       "      <td>13</td>\n",
       "      <td>10553</td>\n",
       "    </tr>\n",
       "    <tr>\n",
       "      <th>61</th>\n",
       "      <td>1459613</td>\n",
       "      <td>비와 당신 (노브레인 Ver.)</td>\n",
       "      <td>노브레인 (NoBrain)</td>\n",
       "      <td>록/메탈 국내영화</td>\n",
       "      <td>라디오 스타 OST</td>\n",
       "      <td>방준석</td>\n",
       "      <td>방준석</td>\n",
       "      <td>20060928</td>\n",
       "      <td>174</td>\n",
       "      <td>5030</td>\n",
       "    </tr>\n",
       "  </tbody>\n",
       "</table>\n",
       "</div>"
      ],
      "text/plain": [
       "      songId                                  title           artist  \\\n",
       "51  36396522                                남다른 응원가              신인류   \n",
       "52  30239362                               사랑한다 안한다              홍진영   \n",
       "53  35690116  너에게로 가는 길 (영화 '동감' X 엔플라잉 (N.Flying))  엔플라잉 (N.Flying)   \n",
       "54  35561629                            아무 일도, 아무것도              송이한   \n",
       "55   4412359                                언젠가 누군가              이기찬   \n",
       "56    418200                      희재 (Edit Version)              성시경   \n",
       "57  35879557                             내 마음 왜 이럴까              김고은   \n",
       "58   7842239                   True Romance (엔딩 테마)        Citizens!   \n",
       "59    621915                 날 그만 잊어요 (Guitar Ver.)               거미   \n",
       "60   4054936                              행복을 주는 사람              한석규   \n",
       "61   1459613                      비와 당신 (노브레인 Ver.)   노브레인 (NoBrain)   \n",
       "\n",
       "            genre                                  album lyricist composer  \\\n",
       "51      록/메탈 국내영화                                 드림 OST      신온유      신온유   \n",
       "52  성인가요/트로트 국내영화                    조작된 도시 Special Song      안영민      안영민   \n",
       "53      록/메탈 국내영화  너에게로 가는 길 (영화 '동감' X 엔플라잉 (N.Flying))      김주희      방용석   \n",
       "54       발라드 국내영화       아무 일도, 아무것도 (뷰티풀 모먼트 OST 스페셜 트랙)      이기환      이기환   \n",
       "55       발라드 국내영화                          남자가 사랑할 때 OST      김태윤      황상준   \n",
       "56       발라드 국내영화                             국화꽃 향기 OST      양재선      MGR   \n",
       "57           국내영화                                     영웅      한아름      오상준   \n",
       "58           국내영화                            뷰티 인사이드 OST      NaN      NaN   \n",
       "59  R&B/Soul 국내영화                        내 머리 속의 지우개 OST      이영현      박경진   \n",
       "60       발라드 국내영화                               파파로티 OST      이주호      이주호   \n",
       "61      록/메탈 국내영화                             라디오 스타 OST      방준석      방준석   \n",
       "\n",
       "        date  comment   like  \n",
       "51  20230426       12    964  \n",
       "52  20170209       38  10761  \n",
       "53  20221001       24   2261  \n",
       "54  20220828        2   1100  \n",
       "55  20140122       19   8627  \n",
       "56  20030201        9   3578  \n",
       "57  20221201       20   1534  \n",
       "58  20150904       38  26435  \n",
       "59  20041026        7   5229  \n",
       "60  20130312       13  10553  \n",
       "61  20060928      174   5030  "
      ]
     },
     "execution_count": 70,
     "metadata": {},
     "output_type": "execute_result"
    }
   ],
   "source": [
    "\n",
    "df_ost[['songId', 'title', 'artist', 'genre', 'album', 'lyricist', 'composer', 'date', 'comment', 'like']][50:61]"
   ]
  },
  {
   "cell_type": "code",
   "execution_count": 69,
   "metadata": {},
   "outputs": [
    {
     "data": {
      "text/html": [
       "<div>\n",
       "<style scoped>\n",
       "    .dataframe tbody tr th:only-of-type {\n",
       "        vertical-align: middle;\n",
       "    }\n",
       "\n",
       "    .dataframe tbody tr th {\n",
       "        vertical-align: top;\n",
       "    }\n",
       "\n",
       "    .dataframe thead th {\n",
       "        text-align: right;\n",
       "    }\n",
       "</style>\n",
       "<table border=\"1\" class=\"dataframe\">\n",
       "  <thead>\n",
       "    <tr style=\"text-align: right;\">\n",
       "      <th></th>\n",
       "      <th>songId</th>\n",
       "      <th>title</th>\n",
       "      <th>plylstSeq</th>\n",
       "      <th>lyric</th>\n",
       "    </tr>\n",
       "  </thead>\n",
       "  <tbody>\n",
       "    <tr>\n",
       "      <th>1481</th>\n",
       "      <td>3658218</td>\n",
       "      <td>과거보다 행복한 과거</td>\n",
       "      <td>457897578</td>\n",
       "      <td>기억은 숨어 있어요 \\n옛날 사진 찾아서 \\n흩어진 조각을 맞춰봐요 \\n절대 무리는...</td>\n",
       "    </tr>\n",
       "    <tr>\n",
       "      <th>1482</th>\n",
       "      <td>3658219</td>\n",
       "      <td>Aftershocks</td>\n",
       "      <td>457897578 501356800</td>\n",
       "      <td>날 잘도 처분하셨군 난 다시 무덤 안\\n잘 모를 땐\\n전기로 싹 다 태우시나봐\\n날...</td>\n",
       "    </tr>\n",
       "    <tr>\n",
       "      <th>1483</th>\n",
       "      <td>3658227</td>\n",
       "      <td>명확한 생각을 찾아요 / 나 떨어져요 (리프라이즈)</td>\n",
       "      <td>457897578</td>\n",
       "      <td>지금은 과정일 뿐이죠 \\n예전에 몰랐던 맑은 느낌 \\n강한 치료도 효과는 \\n오래 ...</td>\n",
       "    </tr>\n",
       "    <tr>\n",
       "      <th>1485</th>\n",
       "      <td>4185938</td>\n",
       "      <td>An Ordinary Man (평범한 남자)</td>\n",
       "      <td>457897578 417635465</td>\n",
       "      <td>또 다른 시간 속\\n여기가 아닌 곳\\n거기선 나만의 꿈 꿀 텐데\\n평범한 마을의\\n...</td>\n",
       "    </tr>\n",
       "    <tr>\n",
       "      <th>1486</th>\n",
       "      <td>5385236</td>\n",
       "      <td>놀라운 평범함</td>\n",
       "      <td>457897578 445034502</td>\n",
       "      <td>뭐가 이토록 내 맘 움직일까\\n말론 설명할 수 없는 느낌\\n차가운 바람도\\n오늘은 ...</td>\n",
       "    </tr>\n",
       "  </tbody>\n",
       "</table>\n",
       "</div>"
      ],
      "text/plain": [
       "       songId                         title            plylstSeq  \\\n",
       "1481  3658218                   과거보다 행복한 과거            457897578   \n",
       "1482  3658219                   Aftershocks  457897578 501356800   \n",
       "1483  3658227  명확한 생각을 찾아요 / 나 떨어져요 (리프라이즈)            457897578   \n",
       "1485  4185938      An Ordinary Man (평범한 남자)  457897578 417635465   \n",
       "1486  5385236                       놀라운 평범함  457897578 445034502   \n",
       "\n",
       "                                                  lyric  \n",
       "1481  기억은 숨어 있어요 \\n옛날 사진 찾아서 \\n흩어진 조각을 맞춰봐요 \\n절대 무리는...  \n",
       "1482  날 잘도 처분하셨군 난 다시 무덤 안\\n잘 모를 땐\\n전기로 싹 다 태우시나봐\\n날...  \n",
       "1483  지금은 과정일 뿐이죠 \\n예전에 몰랐던 맑은 느낌 \\n강한 치료도 효과는 \\n오래 ...  \n",
       "1485  또 다른 시간 속\\n여기가 아닌 곳\\n거기선 나만의 꿈 꿀 텐데\\n평범한 마을의\\n...  \n",
       "1486  뭐가 이토록 내 맘 움직일까\\n말론 설명할 수 없는 느낌\\n차가운 바람도\\n오늘은 ...  "
      ]
     },
     "execution_count": 69,
     "metadata": {},
     "output_type": "execute_result"
    }
   ],
   "source": [
    "df_ost[['songId', 'title', 'plylstSeq', 'lyric']].tail(5)"
   ]
  },
  {
   "cell_type": "code",
   "execution_count": 48,
   "metadata": {},
   "outputs": [
    {
     "data": {
      "text/plain": [
       "(157, 13)"
      ]
     },
     "execution_count": 48,
     "metadata": {},
     "output_type": "execute_result"
    }
   ],
   "source": [
    "df_ost[df_ost.lyric == 'None'].shape"
   ]
  },
  {
   "cell_type": "code",
   "execution_count": 49,
   "metadata": {},
   "outputs": [],
   "source": [
    "# 가사 없는 것 지우기\n",
    "df_ost.drop(df_ost.index[df_ost[df_ost.lyric == 'None'].index], inplace=True)"
   ]
  },
  {
   "cell_type": "code",
   "execution_count": 50,
   "metadata": {},
   "outputs": [
    {
     "data": {
      "text/plain": [
       "(0, 13)"
      ]
     },
     "execution_count": 50,
     "metadata": {},
     "output_type": "execute_result"
    }
   ],
   "source": [
    "# 가수명이 이상한 데이터 : 가사 없는 것 지우니까 없어졌다.\n",
    "df_ost[df_ost.artist.str.contains('\\n\\n\\t\\t')].shape"
   ]
  },
  {
   "cell_type": "code",
   "execution_count": 52,
   "metadata": {},
   "outputs": [
    {
     "data": {
      "text/plain": [
       "songId         0\n",
       "title          0\n",
       "artist         0\n",
       "genre          0\n",
       "album          0\n",
       "lyricist     396\n",
       "composer     394\n",
       "date           0\n",
       "img            0\n",
       "comment        0\n",
       "like           0\n",
       "lyric          0\n",
       "plylstSeq    112\n",
       "dtype: int64"
      ]
     },
     "execution_count": 52,
     "metadata": {},
     "output_type": "execute_result"
    }
   ],
   "source": [
    "df_ost.isna().sum()"
   ]
  },
  {
   "cell_type": "code",
   "execution_count": 54,
   "metadata": {},
   "outputs": [],
   "source": [
    "# 최종 화일\n",
    "df_ost.to_csv('data/melon_genre_ost_230527.csv', index=False)"
   ]
  },
  {
   "cell_type": "code",
   "execution_count": 55,
   "metadata": {},
   "outputs": [
    {
     "data": {
      "text/plain": [
       "(1330, 13)"
      ]
     },
     "execution_count": 55,
     "metadata": {},
     "output_type": "execute_result"
    }
   ],
   "source": [
    "df_ost.shape"
   ]
  },
  {
   "cell_type": "code",
   "execution_count": 53,
   "metadata": {},
   "outputs": [
    {
     "data": {
      "text/plain": [
       "Series([], Name: songId, dtype: int64)"
      ]
     },
     "execution_count": 53,
     "metadata": {},
     "output_type": "execute_result"
    }
   ],
   "source": [
    "df_ost[df_ost.lyric.isna()]['songId']"
   ]
  }
 ],
 "metadata": {
  "kernelspec": {
   "display_name": "base",
   "language": "python",
   "name": "python3"
  },
  "language_info": {
   "codemirror_mode": {
    "name": "ipython",
    "version": 3
   },
   "file_extension": ".py",
   "mimetype": "text/x-python",
   "name": "python",
   "nbconvert_exporter": "python",
   "pygments_lexer": "ipython3",
   "version": "3.9.13"
  },
  "orig_nbformat": 4
 },
 "nbformat": 4,
 "nbformat_minor": 2
}
