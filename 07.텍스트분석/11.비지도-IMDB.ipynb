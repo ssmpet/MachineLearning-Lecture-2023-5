{
 "cells": [
  {
   "attachments": {},
   "cell_type": "markdown",
   "metadata": {},
   "source": [
    "### 비지도학습 방식의 감성 분석\n",
    "- VADER Lexicon\n",
    "- IMDB 영화평"
   ]
  },
  {
   "cell_type": "code",
   "execution_count": 1,
   "metadata": {},
   "outputs": [
    {
     "name": "stderr",
     "output_type": "stream",
     "text": [
      "[nltk_data] Downloading package vader_lexicon to\n",
      "[nltk_data]     C:\\Users\\YONSAI\\AppData\\Roaming\\nltk_data...\n"
     ]
    },
    {
     "data": {
      "text/plain": [
       "True"
      ]
     },
     "execution_count": 1,
     "metadata": {},
     "output_type": "execute_result"
    }
   ],
   "source": [
    "import nltk\n",
    "nltk.download('vader_lexicon')"
   ]
  },
  {
   "cell_type": "code",
   "execution_count": 2,
   "metadata": {},
   "outputs": [],
   "source": [
    "import numpy as np\n",
    "import pandas as pd\n",
    "\n",
    "df = pd.read_csv('../data/labeledTrainData.tsv', sep='\\t', quoting=3)"
   ]
  },
  {
   "cell_type": "code",
   "execution_count": 3,
   "metadata": {},
   "outputs": [],
   "source": [
    "df.review = df.review.str.replace('<br />', ' ')\n",
    "df.review = df.review.str.replace('[^A-Za-z]', ' ', regex=True)"
   ]
  },
  {
   "cell_type": "code",
   "execution_count": 4,
   "metadata": {},
   "outputs": [
    {
     "data": {
      "text/plain": [
       "{'neg': 0.13, 'neu': 0.743, 'pos': 0.127, 'compound': -0.7943}"
      ]
     },
     "execution_count": 4,
     "metadata": {},
     "output_type": "execute_result"
    }
   ],
   "source": [
    "from nltk.sentiment.vader import SentimentIntensityAnalyzer\n",
    "senti_analyzer = SentimentIntensityAnalyzer()\n",
    "\n",
    "# 부정 중립 긍정 종합적\n",
    "senti_analyzer.polarity_scores(df.review[0])"
   ]
  },
  {
   "cell_type": "code",
   "execution_count": 8,
   "metadata": {},
   "outputs": [],
   "source": [
    "text1='''\n",
    "A surprisingly strong blockbuster - surpassing my initial low expectations (I'm not even slightly a gamer, don't know the source material & am well aware adaptations usually tend to falter when put to the big screen) - so despite my inability to comment on accuracy when translating ideas from one format to another, I am genuinely impressed by the strength of \"Dungeons & Dragons\" (in terms of judging the piece solely as a movie, in & of itself), from first impressions.\n",
    "\n",
    "Although far from being a masterpiece, the fantasy film doesn't necessarily have to be in order for it to be an entertaining watch (or valid, as \"Honour Amongst Thieves\" isn't trying to be profound - quite the opposite; revelling in the fact that it never takes the story too seriously - resulting in some honestly amusing moments that triggered audible laughter from the audience, repeatedly) & there are a plethora of attributes to appreciate; the genuinely funny, self referential humour, sharp wit, continuous narrative pay-offs, effective utilisations of practical FX throughout (blended amongst VFX for maximum impact) & ingeniously inventive magical sequences (of pure cinematic spectacle) that advance the plot brilliantly & enhance fight scenes - in ways no previous filmmakers have seemingly ever thought to try before (despite the existence of numerous / similar brands like \"Harry Potter\", \"Doctor Strange\" etc. The wizardry here is actually uniquely realised & visually original) & therefore, I seriously recommend seeing the release at the cinema - since it's well worth your time.\n",
    "'''\n",
    "text2 = ''' \n",
    "I even didn't watched the movie til the end cause the emasculinization in the movie was way way too much to swallow and the catastrophic acting of Chris Pine and Bradley Cooper as two total sissies while Michelle Rodriguez AGAIN with her tomboyish acting like in 99.99% of her movies causes me to almost punch my TV! After the stupid scene with Bradley Cooper I just stopped to watch the movie! Am currently playing Neverwinter online and its such a pity that teletubby agenda again strikes and destroys a movie that could have been a great masterpiece if done right just like the game Neverwinter is! And these \"reviews\" here with 10 out of 10...I mean cmon people,even a diehard feminist would puke at this crap of the movie...cause its just too much! Its a box office bomb...no matter how much you \"act\" like its a good movie. Over and out!\n",
    "'''\n"
   ]
  },
  {
   "cell_type": "code",
   "execution_count": 9,
   "metadata": {},
   "outputs": [
    {
     "name": "stdout",
     "output_type": "stream",
     "text": [
      "{'neg': 0.055, 'neu': 0.708, 'pos': 0.237, 'compound': 0.994}\n",
      "{'neg': 0.139, 'neu': 0.736, 'pos': 0.125, 'compound': -0.5374}\n"
     ]
    }
   ],
   "source": [
    "print(senti_analyzer.polarity_scores(text1))\n",
    "print(senti_analyzer.polarity_scores(text2))"
   ]
  },
  {
   "cell_type": "code",
   "execution_count": 11,
   "metadata": {},
   "outputs": [],
   "source": [
    "def vader_polarity(document, threshold=0.1):\n",
    "    score = senti_analyzer.polarity_scores(document)\n",
    "    return 1 if score['compound'] >=threshold else 0"
   ]
  },
  {
   "cell_type": "code",
   "execution_count": 12,
   "metadata": {},
   "outputs": [
    {
     "name": "stdout",
     "output_type": "stream",
     "text": [
      "CPU times: total: 1min 11s\n",
      "Wall time: 1min 13s\n"
     ]
    }
   ],
   "source": [
    "%time df['vader'] = df.review.apply(lambda x: vader_polarity(x))"
   ]
  },
  {
   "cell_type": "code",
   "execution_count": 13,
   "metadata": {},
   "outputs": [
    {
     "data": {
      "text/plain": [
       "0.69556"
      ]
     },
     "execution_count": 13,
     "metadata": {},
     "output_type": "execute_result"
    }
   ],
   "source": [
    "from sklearn.metrics import accuracy_score\n",
    "accuracy_score(df.sentiment, df.vader)"
   ]
  },
  {
   "cell_type": "code",
   "execution_count": null,
   "metadata": {},
   "outputs": [],
   "source": []
  }
 ],
 "metadata": {
  "kernelspec": {
   "display_name": "base",
   "language": "python",
   "name": "python3"
  },
  "language_info": {
   "codemirror_mode": {
    "name": "ipython",
    "version": 3
   },
   "file_extension": ".py",
   "mimetype": "text/x-python",
   "name": "python",
   "nbconvert_exporter": "python",
   "pygments_lexer": "ipython3",
   "version": "3.10.10"
  },
  "orig_nbformat": 4
 },
 "nbformat": 4,
 "nbformat_minor": 2
}
